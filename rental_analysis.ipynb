{
 "cells": [
  {
   "cell_type": "markdown",
   "metadata": {},
   "source": [
    "# Toronto Dwellings Analysis\n",
    "\n",
    "In this assignment, you will perform fundamental analysis for the Toronto dwellings market to allow potential real estate investors to choose rental investment properties."
   ]
  },
  {
   "cell_type": "code",
   "execution_count": 128,
   "metadata": {},
   "outputs": [],
   "source": [
    "# imports\n",
    "import panel as pn\n",
    "pn.extension('plotly')\n",
    "import plotly.express as px\n",
    "import pandas as pd\n",
    "import hvplot.pandas\n",
    "import matplotlib.pyplot as plt\n",
    "import os\n",
    "from pathlib import Path\n",
    "from dotenv import load_dotenv"
   ]
  },
  {
   "cell_type": "code",
   "execution_count": 129,
   "metadata": {},
   "outputs": [],
   "source": [
    "# Read the Mapbox API key\n",
    "load_dotenv()\n",
    "map_box_api = os.getenv(\"mapbox\")"
   ]
  },
  {
   "cell_type": "markdown",
   "metadata": {},
   "source": [
    "## Load Data"
   ]
  },
  {
   "cell_type": "code",
   "execution_count": 130,
   "metadata": {},
   "outputs": [
    {
     "data": {
      "text/html": [
       "<div>\n",
       "<style scoped>\n",
       "    .dataframe tbody tr th:only-of-type {\n",
       "        vertical-align: middle;\n",
       "    }\n",
       "\n",
       "    .dataframe tbody tr th {\n",
       "        vertical-align: top;\n",
       "    }\n",
       "\n",
       "    .dataframe thead th {\n",
       "        text-align: right;\n",
       "    }\n",
       "</style>\n",
       "<table border=\"1\" class=\"dataframe\">\n",
       "  <thead>\n",
       "    <tr style=\"text-align: right;\">\n",
       "      <th></th>\n",
       "      <th>neighbourhood</th>\n",
       "      <th>single_detached_house</th>\n",
       "      <th>apartment_five_storeys_plus</th>\n",
       "      <th>movable_dwelling</th>\n",
       "      <th>semi_detached_house</th>\n",
       "      <th>row_house</th>\n",
       "      <th>duplex</th>\n",
       "      <th>apartment_five_storeys_less</th>\n",
       "      <th>other_house</th>\n",
       "      <th>average_house_value</th>\n",
       "      <th>shelter_costs_owned</th>\n",
       "      <th>shelter_costs_rented</th>\n",
       "    </tr>\n",
       "    <tr>\n",
       "      <th>year</th>\n",
       "      <th></th>\n",
       "      <th></th>\n",
       "      <th></th>\n",
       "      <th></th>\n",
       "      <th></th>\n",
       "      <th></th>\n",
       "      <th></th>\n",
       "      <th></th>\n",
       "      <th></th>\n",
       "      <th></th>\n",
       "      <th></th>\n",
       "      <th></th>\n",
       "    </tr>\n",
       "  </thead>\n",
       "  <tbody>\n",
       "    <tr>\n",
       "      <th>2001</th>\n",
       "      <td>Agincourt North</td>\n",
       "      <td>3715</td>\n",
       "      <td>1480</td>\n",
       "      <td>0</td>\n",
       "      <td>1055</td>\n",
       "      <td>1295</td>\n",
       "      <td>195</td>\n",
       "      <td>185</td>\n",
       "      <td>5</td>\n",
       "      <td>200388</td>\n",
       "      <td>810</td>\n",
       "      <td>870</td>\n",
       "    </tr>\n",
       "    <tr>\n",
       "      <th>2001</th>\n",
       "      <td>Agincourt South-Malvern West</td>\n",
       "      <td>3250</td>\n",
       "      <td>1835</td>\n",
       "      <td>0</td>\n",
       "      <td>545</td>\n",
       "      <td>455</td>\n",
       "      <td>105</td>\n",
       "      <td>425</td>\n",
       "      <td>0</td>\n",
       "      <td>203047</td>\n",
       "      <td>806</td>\n",
       "      <td>892</td>\n",
       "    </tr>\n",
       "    <tr>\n",
       "      <th>2001</th>\n",
       "      <td>Alderwood</td>\n",
       "      <td>3175</td>\n",
       "      <td>315</td>\n",
       "      <td>0</td>\n",
       "      <td>470</td>\n",
       "      <td>50</td>\n",
       "      <td>185</td>\n",
       "      <td>370</td>\n",
       "      <td>0</td>\n",
       "      <td>259998</td>\n",
       "      <td>817</td>\n",
       "      <td>924</td>\n",
       "    </tr>\n",
       "    <tr>\n",
       "      <th>2001</th>\n",
       "      <td>Annex</td>\n",
       "      <td>1060</td>\n",
       "      <td>6090</td>\n",
       "      <td>5</td>\n",
       "      <td>1980</td>\n",
       "      <td>605</td>\n",
       "      <td>275</td>\n",
       "      <td>3710</td>\n",
       "      <td>165</td>\n",
       "      <td>453850</td>\n",
       "      <td>1027</td>\n",
       "      <td>1378</td>\n",
       "    </tr>\n",
       "    <tr>\n",
       "      <th>2001</th>\n",
       "      <td>Banbury-Don Mills</td>\n",
       "      <td>3615</td>\n",
       "      <td>4465</td>\n",
       "      <td>0</td>\n",
       "      <td>240</td>\n",
       "      <td>380</td>\n",
       "      <td>15</td>\n",
       "      <td>1360</td>\n",
       "      <td>0</td>\n",
       "      <td>371864</td>\n",
       "      <td>1007</td>\n",
       "      <td>1163</td>\n",
       "    </tr>\n",
       "  </tbody>\n",
       "</table>\n",
       "</div>"
      ],
      "text/plain": [
       "                     neighbourhood  single_detached_house  \\\n",
       "year                                                        \n",
       "2001               Agincourt North                   3715   \n",
       "2001  Agincourt South-Malvern West                   3250   \n",
       "2001                     Alderwood                   3175   \n",
       "2001                         Annex                   1060   \n",
       "2001             Banbury-Don Mills                   3615   \n",
       "\n",
       "      apartment_five_storeys_plus  movable_dwelling  semi_detached_house  \\\n",
       "year                                                                       \n",
       "2001                         1480                 0                 1055   \n",
       "2001                         1835                 0                  545   \n",
       "2001                          315                 0                  470   \n",
       "2001                         6090                 5                 1980   \n",
       "2001                         4465                 0                  240   \n",
       "\n",
       "      row_house  duplex  apartment_five_storeys_less  other_house  \\\n",
       "year                                                                \n",
       "2001       1295     195                          185            5   \n",
       "2001        455     105                          425            0   \n",
       "2001         50     185                          370            0   \n",
       "2001        605     275                         3710          165   \n",
       "2001        380      15                         1360            0   \n",
       "\n",
       "      average_house_value  shelter_costs_owned  shelter_costs_rented  \n",
       "year                                                                  \n",
       "2001               200388                  810                   870  \n",
       "2001               203047                  806                   892  \n",
       "2001               259998                  817                   924  \n",
       "2001               453850                 1027                  1378  \n",
       "2001               371864                 1007                  1163  "
      ]
     },
     "execution_count": 130,
     "metadata": {},
     "output_type": "execute_result"
    }
   ],
   "source": [
    "# Read the census data into a Pandas DataFrame\n",
    "file_path = Path(\"Data/toronto_neighbourhoods_census_data.csv\")\n",
    "to_data = pd.read_csv(file_path, index_col=\"year\")\n",
    "to_data.head()"
   ]
  },
  {
   "cell_type": "markdown",
   "metadata": {},
   "source": [
    "- - - "
   ]
  },
  {
   "cell_type": "code",
   "execution_count": 131,
   "metadata": {},
   "outputs": [
    {
     "data": {
      "text/html": [
       "<div>\n",
       "<style scoped>\n",
       "    .dataframe tbody tr th:only-of-type {\n",
       "        vertical-align: middle;\n",
       "    }\n",
       "\n",
       "    .dataframe tbody tr th {\n",
       "        vertical-align: top;\n",
       "    }\n",
       "\n",
       "    .dataframe thead th {\n",
       "        text-align: right;\n",
       "    }\n",
       "</style>\n",
       "<table border=\"1\" class=\"dataframe\">\n",
       "  <thead>\n",
       "    <tr style=\"text-align: right;\">\n",
       "      <th></th>\n",
       "      <th>single_detached_house</th>\n",
       "      <th>apartment_five_storeys_plus</th>\n",
       "      <th>movable_dwelling</th>\n",
       "      <th>semi_detached_house</th>\n",
       "      <th>row_house</th>\n",
       "      <th>duplex</th>\n",
       "      <th>apartment_five_storeys_less</th>\n",
       "      <th>other_house</th>\n",
       "    </tr>\n",
       "    <tr>\n",
       "      <th>year</th>\n",
       "      <th></th>\n",
       "      <th></th>\n",
       "      <th></th>\n",
       "      <th></th>\n",
       "      <th></th>\n",
       "      <th></th>\n",
       "      <th></th>\n",
       "      <th></th>\n",
       "    </tr>\n",
       "  </thead>\n",
       "  <tbody>\n",
       "    <tr>\n",
       "      <th>2001</th>\n",
       "      <td>300930</td>\n",
       "      <td>355015</td>\n",
       "      <td>75</td>\n",
       "      <td>90995</td>\n",
       "      <td>52355</td>\n",
       "      <td>23785</td>\n",
       "      <td>116900</td>\n",
       "      <td>3040</td>\n",
       "    </tr>\n",
       "    <tr>\n",
       "      <th>2006</th>\n",
       "      <td>266860</td>\n",
       "      <td>379400</td>\n",
       "      <td>165</td>\n",
       "      <td>69430</td>\n",
       "      <td>54690</td>\n",
       "      <td>44095</td>\n",
       "      <td>162850</td>\n",
       "      <td>1335</td>\n",
       "    </tr>\n",
       "    <tr>\n",
       "      <th>2011</th>\n",
       "      <td>274940</td>\n",
       "      <td>429220</td>\n",
       "      <td>100</td>\n",
       "      <td>72480</td>\n",
       "      <td>60355</td>\n",
       "      <td>44750</td>\n",
       "      <td>163895</td>\n",
       "      <td>2165</td>\n",
       "    </tr>\n",
       "    <tr>\n",
       "      <th>2016</th>\n",
       "      <td>269680</td>\n",
       "      <td>493270</td>\n",
       "      <td>95</td>\n",
       "      <td>71200</td>\n",
       "      <td>61565</td>\n",
       "      <td>48585</td>\n",
       "      <td>165575</td>\n",
       "      <td>2845</td>\n",
       "    </tr>\n",
       "  </tbody>\n",
       "</table>\n",
       "</div>"
      ],
      "text/plain": [
       "      single_detached_house  apartment_five_storeys_plus  movable_dwelling  \\\n",
       "year                                                                         \n",
       "2001                 300930                       355015                75   \n",
       "2006                 266860                       379400               165   \n",
       "2011                 274940                       429220               100   \n",
       "2016                 269680                       493270                95   \n",
       "\n",
       "      semi_detached_house  row_house  duplex  apartment_five_storeys_less  \\\n",
       "year                                                                        \n",
       "2001                90995      52355   23785                       116900   \n",
       "2006                69430      54690   44095                       162850   \n",
       "2011                72480      60355   44750                       163895   \n",
       "2016                71200      61565   48585                       165575   \n",
       "\n",
       "      other_house  \n",
       "year               \n",
       "2001         3040  \n",
       "2006         1335  \n",
       "2011         2165  \n",
       "2016         2845  "
      ]
     },
     "execution_count": 131,
     "metadata": {},
     "output_type": "execute_result"
    }
   ],
   "source": [
    "# Calculate the sum number of dwelling types units per year (hint: use groupby)\n",
    "to_data_2 = (to_data[[\"single_detached_house\", \n",
    "                      \"apartment_five_storeys_plus\", \n",
    "                      \"movable_dwelling\", \n",
    "                      \"semi_detached_house\", \n",
    "                      \"row_house\", \n",
    "                      \"duplex\", \n",
    "                      \"apartment_five_storeys_less\", \n",
    "                      \"other_house\"]].groupby(\"year\").sum())\n",
    "to_data_2"
   ]
  },
  {
   "cell_type": "markdown",
   "metadata": {},
   "source": [
    "## Dwelling Types Per Year\n",
    "\n",
    "In this section, you will calculate the number of dwelling types per year. Visualize the results using bar charts and the Pandas plot function. \n",
    "\n",
    "**Hint:** Use the Pandas `groupby` function.\n",
    "\n",
    "**Optional challenge:** Plot each bar chart in a different color."
   ]
  },
  {
   "cell_type": "code",
   "execution_count": 132,
   "metadata": {},
   "outputs": [],
   "source": [
    "# Save the dataframe as a csv file\n",
    "to_data_2.to_csv(\"to_data_2\")"
   ]
  },
  {
   "cell_type": "code",
   "execution_count": 133,
   "metadata": {},
   "outputs": [],
   "source": [
    "# Helper create_bar_chart function\n",
    "def create_bar_chart(data, title, xlabel, ylabel, color):  \n",
    "    dwelling_type_per_year = px.bar(\n",
    "        data = to_data_2, \n",
    "        title = \"Dwelling Types in TO\", \n",
    "        xlabel = \"Dwelling Type\", \n",
    "        ylabel = \"Dwelling Type Units\", \n",
    "        color = \"year\",\n",
    "        width = 100,\n",
    "    )\n",
    "    return dwelling_type_per_year\n",
    "\n",
    "\n",
    "    \"\"\"\n",
    "    Create a barplot based in the data argument.\n",
    "    \"\"\"\n",
    "    \n"
   ]
  },
  {
   "cell_type": "code",
   "execution_count": 134,
   "metadata": {},
   "outputs": [
    {
     "data": {},
     "metadata": {},
     "output_type": "display_data"
    },
    {
     "data": {
      "application/vnd.holoviews_exec.v0+json": "",
      "text/html": [
       "<div id='6234'>\n",
       "\n",
       "\n",
       "\n",
       "\n",
       "\n",
       "  <div class=\"bk-root\" id=\"321dcb86-b9c0-4f1b-b945-b65c52f0f4a4\" data-root-id=\"6234\"></div>\n",
       "</div>\n",
       "<script type=\"application/javascript\">(function(root) {\n",
       "  function embed_document(root) {\n",
       "    var docs_json = {\"e20b94dc-bd8e-4bc2-a602-49db1fb8094f\":{\"defs\":[],\"roots\":{\"references\":[{\"attributes\":{\"axis_label\":\"Dwelling Type\",\"formatter\":{\"id\":\"6417\"},\"major_label_orientation\":1.5707963267948966,\"major_label_policy\":{\"id\":\"6418\"},\"ticker\":{\"id\":\"6389\"}},\"id\":\"6388\",\"type\":\"CategoricalAxis\"},{\"attributes\":{\"bottom\":{\"value\":0},\"fill_alpha\":{\"value\":1.0},\"fill_color\":{\"value\":\"#30a2da\"},\"hatch_alpha\":{\"value\":1.0},\"hatch_color\":{\"value\":\"black\"},\"hatch_scale\":{\"value\":12.0},\"hatch_weight\":{\"value\":1.0},\"line_alpha\":{\"value\":1.0},\"line_cap\":{\"value\":\"butt\"},\"line_color\":{\"value\":\"black\"},\"line_dash\":{\"value\":[]},\"line_dash_offset\":{\"value\":0},\"line_join\":{\"value\":\"bevel\"},\"line_width\":{\"value\":1},\"top\":{\"field\":\"A_2011\"},\"width\":{\"value\":0.8},\"x\":{\"field\":\"index\"}},\"id\":\"6416\",\"type\":\"VBar\"},{\"attributes\":{\"text\":\"Dwelling Types 2016\",\"text_color\":\"black\",\"text_font_size\":\"12pt\"},\"id\":\"6380\",\"type\":\"Title\"},{\"attributes\":{},\"id\":\"6384\",\"type\":\"CategoricalScale\"},{\"attributes\":{},\"id\":\"6441\",\"type\":\"UnionRenderers\"},{\"attributes\":{\"data\":{\"A_2001\":[300930,355015,75,90995,52355,23785,116900,3040],\"index\":[\"single_detached_house\",\"apartment_five_storeys_plus\",\"movable_dwelling\",\"semi_detached_house\",\"row_house\",\"duplex\",\"apartment_five_storeys_less\",\"other_house\"]},\"selected\":{\"id\":\"6269\"},\"selection_policy\":{\"id\":\"6430\"}},\"id\":\"6268\",\"type\":\"ColumnDataSource\"},{\"attributes\":{\"fill_color\":{\"value\":\"#30a2da\"},\"top\":{\"field\":\"A_2001\"},\"width\":{\"value\":0.8},\"x\":{\"field\":\"index\"}},\"id\":\"6271\",\"type\":\"VBar\"},{\"attributes\":{\"fill_color\":{\"value\":\"#30a2da\"},\"top\":{\"field\":\"A_2011\"},\"width\":{\"value\":0.8},\"x\":{\"field\":\"index\"}},\"id\":\"6411\",\"type\":\"VBar\"},{\"attributes\":{},\"id\":\"6392\",\"type\":\"BasicTicker\"},{\"attributes\":{\"axis\":{\"id\":\"6388\"},\"grid_line_color\":null,\"ticker\":null},\"id\":\"6390\",\"type\":\"Grid\"},{\"attributes\":{\"fill_alpha\":{\"value\":0.2},\"fill_color\":{\"value\":\"#30a2da\"},\"line_alpha\":{\"value\":0.2},\"top\":{\"field\":\"A_2001\"},\"width\":{\"value\":0.8},\"x\":{\"field\":\"index\"}},\"id\":\"6273\",\"type\":\"VBar\"},{\"attributes\":{\"bottom\":{\"value\":0},\"fill_alpha\":{\"value\":1.0},\"fill_color\":{\"value\":\"#30a2da\"},\"hatch_alpha\":{\"value\":1.0},\"hatch_color\":{\"value\":\"black\"},\"hatch_scale\":{\"value\":12.0},\"hatch_weight\":{\"value\":1.0},\"line_alpha\":{\"value\":1.0},\"line_cap\":{\"value\":\"butt\"},\"line_color\":{\"value\":\"black\"},\"line_dash\":{\"value\":[]},\"line_dash_offset\":{\"value\":0},\"line_join\":{\"value\":\"bevel\"},\"line_width\":{\"value\":1},\"top\":{\"field\":\"A_2011\"},\"width\":{\"value\":0.8},\"x\":{\"field\":\"index\"}},\"id\":\"6370\",\"type\":\"VBar\"},{\"attributes\":{\"below\":[{\"id\":\"6248\"}],\"center\":[{\"id\":\"6250\"},{\"id\":\"6254\"}],\"height\":500,\"left\":[{\"id\":\"6251\"}],\"margin\":null,\"min_border_bottom\":10,\"min_border_left\":10,\"min_border_right\":10,\"min_border_top\":10,\"renderers\":[{\"id\":\"6274\"}],\"sizing_mode\":\"fixed\",\"title\":{\"id\":\"6240\"},\"toolbar\":{\"id\":\"6261\"},\"toolbar_location\":null,\"width\":700,\"x_range\":{\"id\":\"6236\"},\"x_scale\":{\"id\":\"6244\"},\"y_range\":{\"id\":\"6237\"},\"y_scale\":{\"id\":\"6246\"}},\"id\":\"6239\",\"subtype\":\"Figure\",\"type\":\"Plot\"},{\"attributes\":{},\"id\":\"6386\",\"type\":\"LinearScale\"},{\"attributes\":{},\"id\":\"6389\",\"type\":\"CategoricalTicker\"},{\"attributes\":{},\"id\":\"6316\",\"type\":\"Selection\"},{\"attributes\":{},\"id\":\"6463\",\"type\":\"UnionRenderers\"},{\"attributes\":{\"below\":[{\"id\":\"6388\"}],\"center\":[{\"id\":\"6390\"},{\"id\":\"6394\"}],\"height\":500,\"left\":[{\"id\":\"6391\"}],\"margin\":null,\"min_border_bottom\":10,\"min_border_left\":10,\"min_border_right\":10,\"min_border_top\":10,\"renderers\":[{\"id\":\"6414\"}],\"sizing_mode\":\"fixed\",\"title\":{\"id\":\"6380\"},\"toolbar\":{\"id\":\"6401\"},\"toolbar_location\":null,\"width\":700,\"x_range\":{\"id\":\"6236\"},\"x_scale\":{\"id\":\"6384\"},\"y_range\":{\"id\":\"6331\"},\"y_scale\":{\"id\":\"6386\"}},\"id\":\"6379\",\"subtype\":\"Figure\",\"type\":\"Plot\"},{\"attributes\":{\"axis_label\":\"Amount\",\"formatter\":{\"id\":\"6421\"},\"major_label_policy\":{\"id\":\"6422\"},\"ticker\":{\"id\":\"6392\"}},\"id\":\"6391\",\"type\":\"LinearAxis\"},{\"attributes\":{\"fill_alpha\":{\"value\":0.1},\"fill_color\":{\"value\":\"#30a2da\"},\"line_alpha\":{\"value\":0.1},\"top\":{\"field\":\"A_2001\"},\"width\":{\"value\":0.8},\"x\":{\"field\":\"index\"}},\"id\":\"6272\",\"type\":\"VBar\"},{\"attributes\":{\"factors\":[\"single_detached_house\",\"apartment_five_storeys_plus\",\"movable_dwelling\",\"semi_detached_house\",\"row_house\",\"duplex\",\"apartment_five_storeys_less\",\"other_house\"],\"tags\":[[[\"index\",\"index\",null]]]},\"id\":\"6236\",\"type\":\"FactorRange\"},{\"attributes\":{\"end\":390509.0,\"reset_end\":390509.0,\"reset_start\":0.0,\"tags\":[[[\"2001\",\"2001\",null]]]},\"id\":\"6237\",\"type\":\"Range1d\"},{\"attributes\":{\"axis\":{\"id\":\"6391\"},\"dimension\":1,\"grid_line_color\":null,\"ticker\":null},\"id\":\"6394\",\"type\":\"Grid\"},{\"attributes\":{\"data_source\":{\"id\":\"6408\"},\"glyph\":{\"id\":\"6411\"},\"hover_glyph\":null,\"muted_glyph\":{\"id\":\"6413\"},\"nonselection_glyph\":{\"id\":\"6412\"},\"selection_glyph\":{\"id\":\"6416\"},\"view\":{\"id\":\"6415\"}},\"id\":\"6414\",\"type\":\"GlyphRenderer\"},{\"attributes\":{\"bottom\":{\"value\":0},\"fill_alpha\":{\"value\":1.0},\"fill_color\":{\"value\":\"#30a2da\"},\"hatch_alpha\":{\"value\":1.0},\"hatch_color\":{\"value\":\"black\"},\"hatch_scale\":{\"value\":12.0},\"hatch_weight\":{\"value\":1.0},\"line_alpha\":{\"value\":1.0},\"line_cap\":{\"value\":\"butt\"},\"line_color\":{\"value\":\"black\"},\"line_dash\":{\"value\":[]},\"line_dash_offset\":{\"value\":0},\"line_join\":{\"value\":\"bevel\"},\"line_width\":{\"value\":1},\"top\":{\"field\":\"A_2001\"},\"width\":{\"value\":0.8},\"x\":{\"field\":\"index\"}},\"id\":\"6276\",\"type\":\"VBar\"},{\"attributes\":{\"below\":[{\"id\":\"6342\"}],\"center\":[{\"id\":\"6344\"},{\"id\":\"6348\"}],\"height\":500,\"left\":[{\"id\":\"6345\"}],\"margin\":null,\"min_border_bottom\":10,\"min_border_left\":10,\"min_border_right\":10,\"min_border_top\":10,\"renderers\":[{\"id\":\"6368\"}],\"sizing_mode\":\"fixed\",\"title\":{\"id\":\"6334\"},\"toolbar\":{\"id\":\"6355\"},\"toolbar_location\":null,\"width\":700,\"x_range\":{\"id\":\"6236\"},\"x_scale\":{\"id\":\"6338\"},\"y_range\":{\"id\":\"6331\"},\"y_scale\":{\"id\":\"6340\"}},\"id\":\"6333\",\"subtype\":\"Figure\",\"type\":\"Plot\"},{\"attributes\":{},\"id\":\"6395\",\"type\":\"SaveTool\"},{\"attributes\":{},\"id\":\"6396\",\"type\":\"PanTool\"},{\"attributes\":{},\"id\":\"6399\",\"type\":\"ResetTool\"},{\"attributes\":{},\"id\":\"6397\",\"type\":\"WheelZoomTool\"},{\"attributes\":{\"overlay\":{\"id\":\"6400\"}},\"id\":\"6398\",\"type\":\"BoxZoomTool\"},{\"attributes\":{\"callback\":null,\"renderers\":[{\"id\":\"6368\"}],\"tags\":[\"hv_created\"],\"tooltips\":[[\"index\",\"@{index}\"],[\"2011\",\"@{A_2011}\"]]},\"id\":\"6332\",\"type\":\"HoverTool\"},{\"attributes\":{\"bottom_units\":\"screen\",\"fill_alpha\":0.5,\"fill_color\":\"lightgrey\",\"left_units\":\"screen\",\"level\":\"overlay\",\"line_alpha\":1.0,\"line_color\":\"black\",\"line_dash\":[4,4],\"line_width\":2,\"right_units\":\"screen\",\"syncable\":false,\"top_units\":\"screen\"},\"id\":\"6400\",\"type\":\"BoxAnnotation\"},{\"attributes\":{\"fill_color\":{\"value\":\"#30a2da\"},\"top\":{\"field\":\"A_2011\"},\"width\":{\"value\":0.8},\"x\":{\"field\":\"index\"}},\"id\":\"6365\",\"type\":\"VBar\"},{\"attributes\":{\"active_multi\":null,\"tools\":[{\"id\":\"6378\"},{\"id\":\"6395\"},{\"id\":\"6396\"},{\"id\":\"6397\"},{\"id\":\"6398\"},{\"id\":\"6399\"}]},\"id\":\"6401\",\"type\":\"Toolbar\"},{\"attributes\":{\"data_source\":{\"id\":\"6268\"},\"glyph\":{\"id\":\"6271\"},\"hover_glyph\":null,\"muted_glyph\":{\"id\":\"6273\"},\"nonselection_glyph\":{\"id\":\"6272\"},\"selection_glyph\":{\"id\":\"6276\"},\"view\":{\"id\":\"6275\"}},\"id\":\"6274\",\"type\":\"GlyphRenderer\"},{\"attributes\":{\"fill_alpha\":{\"value\":0.1},\"fill_color\":{\"value\":\"#30a2da\"},\"line_alpha\":{\"value\":0.1},\"top\":{\"field\":\"A_2011\"},\"width\":{\"value\":0.8},\"x\":{\"field\":\"index\"}},\"id\":\"6412\",\"type\":\"VBar\"},{\"attributes\":{\"source\":{\"id\":\"6408\"}},\"id\":\"6415\",\"type\":\"CDSView\"},{\"attributes\":{},\"id\":\"6269\",\"type\":\"Selection\"},{\"attributes\":{\"margin\":[5,5,5,5],\"name\":\"HSpacer13021\",\"sizing_mode\":\"stretch_width\"},\"id\":\"6831\",\"type\":\"Spacer\"},{\"attributes\":{},\"id\":\"6409\",\"type\":\"Selection\"},{\"attributes\":{},\"id\":\"6418\",\"type\":\"AllLabels\"},{\"attributes\":{},\"id\":\"6421\",\"type\":\"BasicTickFormatter\"},{\"attributes\":{\"fill_alpha\":{\"value\":0.1},\"fill_color\":{\"value\":\"#30a2da\"},\"line_alpha\":{\"value\":0.1},\"top\":{\"field\":\"A_2011\"},\"width\":{\"value\":0.8},\"x\":{\"field\":\"index\"}},\"id\":\"6366\",\"type\":\"VBar\"},{\"attributes\":{\"callback\":null,\"renderers\":[{\"id\":\"6321\"}],\"tags\":[\"hv_created\"],\"tooltips\":[[\"index\",\"@{index}\"],[\"2006\",\"@{A_2006}\"]]},\"id\":\"6285\",\"type\":\"HoverTool\"},{\"attributes\":{\"axis_label\":\"Dwelling Type\",\"formatter\":{\"id\":\"6371\"},\"major_label_orientation\":1.5707963267948966,\"major_label_policy\":{\"id\":\"6372\"},\"ticker\":{\"id\":\"6343\"}},\"id\":\"6342\",\"type\":\"CategoricalAxis\"},{\"attributes\":{\"data\":{\"A_2011\":[274940,429220,100,72480,60355,44750,163895,2165],\"index\":[\"single_detached_house\",\"apartment_five_storeys_plus\",\"movable_dwelling\",\"semi_detached_house\",\"row_house\",\"duplex\",\"apartment_five_storeys_less\",\"other_house\"]},\"selected\":{\"id\":\"6409\"},\"selection_policy\":{\"id\":\"6463\"}},\"id\":\"6408\",\"type\":\"ColumnDataSource\"},{\"attributes\":{},\"id\":\"6422\",\"type\":\"AllLabels\"},{\"attributes\":{},\"id\":\"6452\",\"type\":\"UnionRenderers\"},{\"attributes\":{},\"id\":\"6417\",\"type\":\"CategoricalTickFormatter\"},{\"attributes\":{\"text\":\"Dwelling Types 2011\",\"text_color\":\"black\",\"text_font_size\":\"12pt\"},\"id\":\"6334\",\"type\":\"Title\"},{\"attributes\":{},\"id\":\"6338\",\"type\":\"CategoricalScale\"},{\"attributes\":{\"source\":{\"id\":\"6268\"}},\"id\":\"6275\",\"type\":\"CDSView\"},{\"attributes\":{},\"id\":\"6340\",\"type\":\"LinearScale\"},{\"attributes\":{},\"id\":\"6324\",\"type\":\"CategoricalTickFormatter\"},{\"attributes\":{\"callback\":null,\"renderers\":[{\"id\":\"6274\"}],\"tags\":[\"hv_created\"],\"tooltips\":[[\"index\",\"@{index}\"],[\"2001\",\"@{A_2001}\"]]},\"id\":\"6238\",\"type\":\"HoverTool\"},{\"attributes\":{\"fill_alpha\":{\"value\":0.2},\"fill_color\":{\"value\":\"#30a2da\"},\"line_alpha\":{\"value\":0.2},\"top\":{\"field\":\"A_2011\"},\"width\":{\"value\":0.8},\"x\":{\"field\":\"index\"}},\"id\":\"6413\",\"type\":\"VBar\"},{\"attributes\":{\"axis_label\":\"Dwelling Type\",\"formatter\":{\"id\":\"6277\"},\"major_label_orientation\":1.5707963267948966,\"major_label_policy\":{\"id\":\"6278\"},\"ticker\":{\"id\":\"6249\"}},\"id\":\"6248\",\"type\":\"CategoricalAxis\"},{\"attributes\":{\"axis\":{\"id\":\"6295\"},\"grid_line_color\":null,\"ticker\":null},\"id\":\"6297\",\"type\":\"Grid\"},{\"attributes\":{\"data\":{\"A_2011\":[274940,429220,100,72480,60355,44750,163895,2165],\"index\":[\"single_detached_house\",\"apartment_five_storeys_plus\",\"movable_dwelling\",\"semi_detached_house\",\"row_house\",\"duplex\",\"apartment_five_storeys_less\",\"other_house\"]},\"selected\":{\"id\":\"6363\"},\"selection_policy\":{\"id\":\"6452\"}},\"id\":\"6362\",\"type\":\"ColumnDataSource\"},{\"attributes\":{},\"id\":\"6343\",\"type\":\"CategoricalTicker\"},{\"attributes\":{\"axis\":{\"id\":\"6342\"},\"grid_line_color\":null,\"ticker\":null},\"id\":\"6344\",\"type\":\"Grid\"},{\"attributes\":{},\"id\":\"6299\",\"type\":\"BasicTicker\"},{\"attributes\":{},\"id\":\"6430\",\"type\":\"UnionRenderers\"},{\"attributes\":{\"text\":\"Dwelling Types 2001\",\"text_color\":\"black\",\"text_font_size\":\"12pt\"},\"id\":\"6240\",\"type\":\"Title\"},{\"attributes\":{\"bottom\":{\"value\":0},\"fill_alpha\":{\"value\":1.0},\"fill_color\":{\"value\":\"#30a2da\"},\"hatch_alpha\":{\"value\":1.0},\"hatch_color\":{\"value\":\"black\"},\"hatch_scale\":{\"value\":12.0},\"hatch_weight\":{\"value\":1.0},\"line_alpha\":{\"value\":1.0},\"line_cap\":{\"value\":\"butt\"},\"line_color\":{\"value\":\"black\"},\"line_dash\":{\"value\":[]},\"line_dash_offset\":{\"value\":0},\"line_join\":{\"value\":\"bevel\"},\"line_width\":{\"value\":1},\"top\":{\"field\":\"A_2006\"},\"width\":{\"value\":0.8},\"x\":{\"field\":\"index\"}},\"id\":\"6323\",\"type\":\"VBar\"},{\"attributes\":{},\"id\":\"6244\",\"type\":\"CategoricalScale\"},{\"attributes\":{\"axis_label\":\"Dwelling Type\",\"formatter\":{\"id\":\"6324\"},\"major_label_orientation\":1.5707963267948966,\"major_label_policy\":{\"id\":\"6325\"},\"ticker\":{\"id\":\"6296\"}},\"id\":\"6295\",\"type\":\"CategoricalAxis\"},{\"attributes\":{},\"id\":\"6346\",\"type\":\"BasicTicker\"},{\"attributes\":{\"axis_label\":\"Amount\",\"formatter\":{\"id\":\"6375\"},\"major_label_policy\":{\"id\":\"6376\"},\"ticker\":{\"id\":\"6346\"}},\"id\":\"6345\",\"type\":\"LinearAxis\"},{\"attributes\":{},\"id\":\"6252\",\"type\":\"BasicTicker\"},{\"attributes\":{},\"id\":\"6296\",\"type\":\"CategoricalTicker\"},{\"attributes\":{\"axis\":{\"id\":\"6248\"},\"grid_line_color\":null,\"ticker\":null},\"id\":\"6250\",\"type\":\"Grid\"},{\"attributes\":{\"axis_label\":\"Amount\",\"formatter\":{\"id\":\"6328\"},\"major_label_policy\":{\"id\":\"6329\"},\"ticker\":{\"id\":\"6299\"}},\"id\":\"6298\",\"type\":\"LinearAxis\"},{\"attributes\":{\"axis\":{\"id\":\"6345\"},\"dimension\":1,\"grid_line_color\":null,\"ticker\":null},\"id\":\"6348\",\"type\":\"Grid\"},{\"attributes\":{},\"id\":\"6246\",\"type\":\"LinearScale\"},{\"attributes\":{\"axis\":{\"id\":\"6298\"},\"dimension\":1,\"grid_line_color\":null,\"ticker\":null},\"id\":\"6301\",\"type\":\"Grid\"},{\"attributes\":{},\"id\":\"6249\",\"type\":\"CategoricalTicker\"},{\"attributes\":{\"axis_label\":\"Amount\",\"formatter\":{\"id\":\"6281\"},\"major_label_policy\":{\"id\":\"6282\"},\"ticker\":{\"id\":\"6252\"}},\"id\":\"6251\",\"type\":\"LinearAxis\"},{\"attributes\":{\"fill_alpha\":{\"value\":0.2},\"fill_color\":{\"value\":\"#30a2da\"},\"line_alpha\":{\"value\":0.2},\"top\":{\"field\":\"A_2011\"},\"width\":{\"value\":0.8},\"x\":{\"field\":\"index\"}},\"id\":\"6367\",\"type\":\"VBar\"},{\"attributes\":{\"axis\":{\"id\":\"6251\"},\"dimension\":1,\"grid_line_color\":null,\"ticker\":null},\"id\":\"6254\",\"type\":\"Grid\"},{\"attributes\":{\"source\":{\"id\":\"6362\"}},\"id\":\"6369\",\"type\":\"CDSView\"},{\"attributes\":{},\"id\":\"6282\",\"type\":\"AllLabels\"},{\"attributes\":{\"fill_alpha\":{\"value\":0.2},\"fill_color\":{\"value\":\"#30a2da\"},\"line_alpha\":{\"value\":0.2},\"top\":{\"field\":\"A_2006\"},\"width\":{\"value\":0.8},\"x\":{\"field\":\"index\"}},\"id\":\"6320\",\"type\":\"VBar\"},{\"attributes\":{\"toolbar\":{\"id\":\"6468\"},\"toolbar_location\":\"above\"},\"id\":\"6469\",\"type\":\"ToolbarBox\"},{\"attributes\":{\"source\":{\"id\":\"6315\"}},\"id\":\"6322\",\"type\":\"CDSView\"},{\"attributes\":{},\"id\":\"6349\",\"type\":\"SaveTool\"},{\"attributes\":{\"end\":417323.5,\"reset_end\":417323.5,\"reset_start\":0.0,\"tags\":[[[\"2006\",\"2006\",null]]]},\"id\":\"6284\",\"type\":\"Range1d\"},{\"attributes\":{},\"id\":\"6350\",\"type\":\"PanTool\"},{\"attributes\":{},\"id\":\"6302\",\"type\":\"SaveTool\"},{\"attributes\":{},\"id\":\"6353\",\"type\":\"ResetTool\"},{\"attributes\":{},\"id\":\"6303\",\"type\":\"PanTool\"},{\"attributes\":{},\"id\":\"6351\",\"type\":\"WheelZoomTool\"},{\"attributes\":{},\"id\":\"6306\",\"type\":\"ResetTool\"},{\"attributes\":{\"margin\":[5,5,5,5],\"name\":\"HSpacer13020\",\"sizing_mode\":\"stretch_width\"},\"id\":\"6235\",\"type\":\"Spacer\"},{\"attributes\":{},\"id\":\"6304\",\"type\":\"WheelZoomTool\"},{\"attributes\":{\"overlay\":{\"id\":\"6354\"}},\"id\":\"6352\",\"type\":\"BoxZoomTool\"},{\"attributes\":{\"overlay\":{\"id\":\"6307\"}},\"id\":\"6305\",\"type\":\"BoxZoomTool\"},{\"attributes\":{},\"id\":\"6255\",\"type\":\"SaveTool\"},{\"attributes\":{},\"id\":\"6256\",\"type\":\"PanTool\"},{\"attributes\":{},\"id\":\"6259\",\"type\":\"ResetTool\"},{\"attributes\":{},\"id\":\"6257\",\"type\":\"WheelZoomTool\"},{\"attributes\":{\"below\":[{\"id\":\"6295\"}],\"center\":[{\"id\":\"6297\"},{\"id\":\"6301\"}],\"height\":500,\"left\":[{\"id\":\"6298\"}],\"margin\":null,\"min_border_bottom\":10,\"min_border_left\":10,\"min_border_right\":10,\"min_border_top\":10,\"renderers\":[{\"id\":\"6321\"}],\"sizing_mode\":\"fixed\",\"title\":{\"id\":\"6287\"},\"toolbar\":{\"id\":\"6308\"},\"toolbar_location\":null,\"width\":700,\"x_range\":{\"id\":\"6236\"},\"x_scale\":{\"id\":\"6291\"},\"y_range\":{\"id\":\"6284\"},\"y_scale\":{\"id\":\"6293\"}},\"id\":\"6286\",\"subtype\":\"Figure\",\"type\":\"Plot\"},{\"attributes\":{\"overlay\":{\"id\":\"6260\"}},\"id\":\"6258\",\"type\":\"BoxZoomTool\"},{\"attributes\":{\"children\":[{\"id\":\"6469\"},{\"id\":\"6467\"}]},\"id\":\"6470\",\"type\":\"Column\"},{\"attributes\":{\"toolbars\":[{\"id\":\"6261\"},{\"id\":\"6308\"},{\"id\":\"6355\"},{\"id\":\"6401\"}],\"tools\":[{\"id\":\"6238\"},{\"id\":\"6255\"},{\"id\":\"6256\"},{\"id\":\"6257\"},{\"id\":\"6258\"},{\"id\":\"6259\"},{\"id\":\"6285\"},{\"id\":\"6302\"},{\"id\":\"6303\"},{\"id\":\"6304\"},{\"id\":\"6305\"},{\"id\":\"6306\"},{\"id\":\"6332\"},{\"id\":\"6349\"},{\"id\":\"6350\"},{\"id\":\"6351\"},{\"id\":\"6352\"},{\"id\":\"6353\"},{\"id\":\"6378\"},{\"id\":\"6395\"},{\"id\":\"6396\"},{\"id\":\"6397\"},{\"id\":\"6398\"},{\"id\":\"6399\"}]},\"id\":\"6468\",\"type\":\"ProxyToolbar\"},{\"attributes\":{\"active_multi\":null,\"tools\":[{\"id\":\"6332\"},{\"id\":\"6349\"},{\"id\":\"6350\"},{\"id\":\"6351\"},{\"id\":\"6352\"},{\"id\":\"6353\"}]},\"id\":\"6355\",\"type\":\"Toolbar\"},{\"attributes\":{\"fill_color\":{\"value\":\"#30a2da\"},\"top\":{\"field\":\"A_2006\"},\"width\":{\"value\":0.8},\"x\":{\"field\":\"index\"}},\"id\":\"6318\",\"type\":\"VBar\"},{\"attributes\":{\"active_multi\":null,\"tools\":[{\"id\":\"6285\"},{\"id\":\"6302\"},{\"id\":\"6303\"},{\"id\":\"6304\"},{\"id\":\"6305\"},{\"id\":\"6306\"}]},\"id\":\"6308\",\"type\":\"Toolbar\"},{\"attributes\":{},\"id\":\"6363\",\"type\":\"Selection\"},{\"attributes\":{\"bottom_units\":\"screen\",\"fill_alpha\":0.5,\"fill_color\":\"lightgrey\",\"left_units\":\"screen\",\"level\":\"overlay\",\"line_alpha\":1.0,\"line_color\":\"black\",\"line_dash\":[4,4],\"line_width\":2,\"right_units\":\"screen\",\"syncable\":false,\"top_units\":\"screen\"},\"id\":\"6354\",\"type\":\"BoxAnnotation\"},{\"attributes\":{},\"id\":\"6278\",\"type\":\"AllLabels\"},{\"attributes\":{\"data_source\":{\"id\":\"6362\"},\"glyph\":{\"id\":\"6365\"},\"hover_glyph\":null,\"muted_glyph\":{\"id\":\"6367\"},\"nonselection_glyph\":{\"id\":\"6366\"},\"selection_glyph\":{\"id\":\"6370\"},\"view\":{\"id\":\"6369\"}},\"id\":\"6368\",\"type\":\"GlyphRenderer\"},{\"attributes\":{\"bottom_units\":\"screen\",\"fill_alpha\":0.5,\"fill_color\":\"lightgrey\",\"left_units\":\"screen\",\"level\":\"overlay\",\"line_alpha\":1.0,\"line_color\":\"black\",\"line_dash\":[4,4],\"line_width\":2,\"right_units\":\"screen\",\"syncable\":false,\"top_units\":\"screen\"},\"id\":\"6307\",\"type\":\"BoxAnnotation\"},{\"attributes\":{},\"id\":\"6371\",\"type\":\"CategoricalTickFormatter\"},{\"attributes\":{\"active_multi\":null,\"tools\":[{\"id\":\"6238\"},{\"id\":\"6255\"},{\"id\":\"6256\"},{\"id\":\"6257\"},{\"id\":\"6258\"},{\"id\":\"6259\"}]},\"id\":\"6261\",\"type\":\"Toolbar\"},{\"attributes\":{\"data_source\":{\"id\":\"6315\"},\"glyph\":{\"id\":\"6318\"},\"hover_glyph\":null,\"muted_glyph\":{\"id\":\"6320\"},\"nonselection_glyph\":{\"id\":\"6319\"},\"selection_glyph\":{\"id\":\"6323\"},\"view\":{\"id\":\"6322\"}},\"id\":\"6321\",\"type\":\"GlyphRenderer\"},{\"attributes\":{\"children\":[[{\"id\":\"6239\"},0,0],[{\"id\":\"6286\"},0,1],[{\"id\":\"6333\"},0,2],[{\"id\":\"6379\"},0,3]]},\"id\":\"6467\",\"type\":\"GridBox\"},{\"attributes\":{\"end\":472132.0,\"reset_end\":472132.0,\"reset_start\":0.0,\"tags\":[[[\"2011\",\"2011\",null]]]},\"id\":\"6331\",\"type\":\"Range1d\"},{\"attributes\":{\"data\":{\"A_2006\":[266860,379400,165,69430,54690,44095,162850,1335],\"index\":[\"single_detached_house\",\"apartment_five_storeys_plus\",\"movable_dwelling\",\"semi_detached_house\",\"row_house\",\"duplex\",\"apartment_five_storeys_less\",\"other_house\"]},\"selected\":{\"id\":\"6316\"},\"selection_policy\":{\"id\":\"6441\"}},\"id\":\"6315\",\"type\":\"ColumnDataSource\"},{\"attributes\":{},\"id\":\"6281\",\"type\":\"BasicTickFormatter\"},{\"attributes\":{\"callback\":null,\"renderers\":[{\"id\":\"6414\"}],\"tags\":[\"hv_created\"],\"tooltips\":[[\"index\",\"@{index}\"],[\"2011\",\"@{A_2011}\"]]},\"id\":\"6378\",\"type\":\"HoverTool\"},{\"attributes\":{\"fill_alpha\":{\"value\":0.1},\"fill_color\":{\"value\":\"#30a2da\"},\"line_alpha\":{\"value\":0.1},\"top\":{\"field\":\"A_2006\"},\"width\":{\"value\":0.8},\"x\":{\"field\":\"index\"}},\"id\":\"6319\",\"type\":\"VBar\"},{\"attributes\":{},\"id\":\"6372\",\"type\":\"AllLabels\"},{\"attributes\":{},\"id\":\"6375\",\"type\":\"BasicTickFormatter\"},{\"attributes\":{\"bottom_units\":\"screen\",\"fill_alpha\":0.5,\"fill_color\":\"lightgrey\",\"left_units\":\"screen\",\"level\":\"overlay\",\"line_alpha\":1.0,\"line_color\":\"black\",\"line_dash\":[4,4],\"line_width\":2,\"right_units\":\"screen\",\"syncable\":false,\"top_units\":\"screen\"},\"id\":\"6260\",\"type\":\"BoxAnnotation\"},{\"attributes\":{},\"id\":\"6277\",\"type\":\"CategoricalTickFormatter\"},{\"attributes\":{},\"id\":\"6325\",\"type\":\"AllLabels\"},{\"attributes\":{},\"id\":\"6328\",\"type\":\"BasicTickFormatter\"},{\"attributes\":{},\"id\":\"6376\",\"type\":\"AllLabels\"},{\"attributes\":{\"text\":\"Dwelling Types 2006\",\"text_color\":\"black\",\"text_font_size\":\"12pt\"},\"id\":\"6287\",\"type\":\"Title\"},{\"attributes\":{},\"id\":\"6329\",\"type\":\"AllLabels\"},{\"attributes\":{},\"id\":\"6293\",\"type\":\"LinearScale\"},{\"attributes\":{\"children\":[{\"id\":\"6235\"},{\"id\":\"6470\"},{\"id\":\"6831\"}],\"margin\":[0,0,0,0],\"name\":\"Row13016\",\"tags\":[\"embedded\"]},\"id\":\"6234\",\"type\":\"Row\"},{\"attributes\":{},\"id\":\"6291\",\"type\":\"CategoricalScale\"}],\"root_ids\":[\"6234\"]},\"title\":\"Bokeh Application\",\"version\":\"2.3.2\"}};\n",
       "    var render_items = [{\"docid\":\"e20b94dc-bd8e-4bc2-a602-49db1fb8094f\",\"root_ids\":[\"6234\"],\"roots\":{\"6234\":\"321dcb86-b9c0-4f1b-b945-b65c52f0f4a4\"}}];\n",
       "    root.Bokeh.embed.embed_items_notebook(docs_json, render_items);\n",
       "  }\n",
       "  if (root.Bokeh !== undefined && root.Bokeh.Panel !== undefined && root['Plotly'] !== undefined ) {\n",
       "    embed_document(root);\n",
       "  } else {\n",
       "    var attempts = 0;\n",
       "    var timer = setInterval(function(root) {\n",
       "      if (root.Bokeh !== undefined && root.Bokeh.Panel !== undefined && root['Plotly'] !== undefined) {\n",
       "        clearInterval(timer);\n",
       "        embed_document(root);\n",
       "      } else if (document.readyState == \"complete\") {\n",
       "        attempts++;\n",
       "        if (attempts > 100) {\n",
       "          clearInterval(timer);\n",
       "          console.log(\"Bokeh: ERROR: Unable to run BokehJS code because BokehJS library is missing\");\n",
       "        }\n",
       "      }\n",
       "    }, 10, root)\n",
       "  }\n",
       "})(window);</script>"
      ],
      "text/plain": [
       ":Layout\n",
       "   .Bars.A_2001    :Bars   [index]   (2001)\n",
       "   .Bars.A_2006    :Bars   [index]   (2006)\n",
       "   .Bars.A_2011.I  :Bars   [index]   (2011)\n",
       "   .Bars.A_2011.II :Bars   [index]   (2011)"
      ]
     },
     "execution_count": 134,
     "metadata": {
      "application/vnd.holoviews_exec.v0+json": {
       "id": "6234"
      }
     },
     "output_type": "execute_result"
    }
   ],
   "source": [
    "# Create a bar chart per year to show the number of dwelling types\n",
    "\n",
    "# Bar chart for 2001\n",
    "dt_2001 = to_data_2.loc[2001]\n",
    "plot_dt_2001 = dt_2001.hvplot.bar(xlabel = \"Dwelling Type\", ylabel = \"Amount\", title = \"Dwelling Types 2001\", rot = 90, height =500)\n",
    "\n",
    "# Bar chart for 2006\n",
    "dt_2006 = to_data_2.loc[2006]\n",
    "plot_dt_2006 = dt_2006.hvplot.bar(xlabel = \"Dwelling Type\", ylabel = \"Amount\", title = \"Dwelling Types 2006\", rot = 90, height =500)\n",
    "\n",
    "# Bar chart for 2011\n",
    "dt_2011 = to_data_2.loc[2011]\n",
    "plot_dt_2011 = dt_2011.hvplot.bar(xlabel = \"Dwelling Type\", ylabel = \"Amount\", title = \"Dwelling Types 2011\", rot = 90, height =500)\n",
    "# Bar chart for 2016\n",
    "dt_2016 = to_data_2.loc[2016]\n",
    "plot_dt_2016 = dt_2011.hvplot.bar(xlabel = \"Dwelling Type\", ylabel = \"Amount\", title = \"Dwelling Types 2016\", rot = 90, height =500)\n",
    "\n",
    "plot_dt_2001 + plot_dt_2006 + plot_dt_2011 + plot_dt_2016"
   ]
  },
  {
   "cell_type": "markdown",
   "metadata": {},
   "source": [
    "- - - "
   ]
  },
  {
   "cell_type": "markdown",
   "metadata": {},
   "source": [
    "## Average Monthly Shelter Costs in Toronto Per Year\n",
    "\n",
    "In this section, you will calculate the average monthly shelter costs for owned and rented dwellings and the average house value for each year. Plot the results as a line chart.\n",
    "\n",
    "**Optional challenge:** Plot each line chart in a different color."
   ]
  },
  {
   "cell_type": "code",
   "execution_count": 135,
   "metadata": {},
   "outputs": [
    {
     "data": {
      "text/plain": [
       "year\n",
       "2001    118563\n",
       "2006    184352\n",
       "2011    202750\n",
       "2016    246584\n",
       "Name: shelter_costs_owned, dtype: int64"
      ]
     },
     "execution_count": 135,
     "metadata": {},
     "output_type": "execute_result"
    }
   ],
   "source": [
    "# Calculate the average monthly shelter costs for owned and rented dwellings\n",
    "shelter_costs_rented = (to_data[[\"shelter_costs_rented\"]].groupby(\"year\").sum())\n",
    "shelter_costs_rented\n",
    "\n",
    "shelter_costs_owned = (to_data[\"shelter_costs_owned\"].groupby(\"year\").sum())\n",
    "shelter_costs_owned"
   ]
  },
  {
   "cell_type": "code",
   "execution_count": 136,
   "metadata": {},
   "outputs": [],
   "source": [
    "# Helper create_line_chart function\n",
    "def create_line_chart(data, title, xlabel, ylabel, color):\n",
    "    \"\"\"\n",
    "    Create a line chart based in the data argument.\n",
    "    \"\"\""
   ]
  },
  {
   "cell_type": "code",
   "execution_count": 137,
   "metadata": {},
   "outputs": [
    {
     "data": {},
     "metadata": {},
     "output_type": "display_data"
    },
    {
     "data": {
      "application/vnd.holoviews_exec.v0+json": "",
      "text/html": [
       "<div id='7033'>\n",
       "\n",
       "\n",
       "\n",
       "\n",
       "\n",
       "  <div class=\"bk-root\" id=\"4072332b-b0e2-42ee-a065-6dcbec883d9d\" data-root-id=\"7033\"></div>\n",
       "</div>\n",
       "<script type=\"application/javascript\">(function(root) {\n",
       "  function embed_document(root) {\n",
       "    var docs_json = {\"1960754d-5600-4934-b937-2fc911f4d158\":{\"defs\":[],\"roots\":{\"references\":[{\"attributes\":{\"callback\":null,\"renderers\":[{\"id\":\"7074\"}],\"tags\":[\"hv_created\"],\"tooltips\":[[\"year\",\"@{year}\"],[\"shelter_costs_owned\",\"@{shelter_costs_owned}\"]]},\"id\":\"7037\",\"type\":\"HoverTool\"},{\"attributes\":{\"line_color\":\"#30a2da\",\"line_width\":2,\"x\":{\"field\":\"year\"},\"y\":{\"field\":\"shelter_costs_rented\"}},\"id\":\"7126\",\"type\":\"Line\"},{\"attributes\":{\"below\":[{\"id\":\"7097\"}],\"center\":[{\"id\":\"7100\"},{\"id\":\"7104\"}],\"height\":300,\"left\":[{\"id\":\"7101\"}],\"margin\":null,\"min_border_bottom\":10,\"min_border_left\":10,\"min_border_right\":10,\"min_border_top\":10,\"renderers\":[{\"id\":\"7124\"}],\"sizing_mode\":\"fixed\",\"title\":{\"id\":\"7089\"},\"toolbar\":{\"id\":\"7111\"},\"toolbar_location\":null,\"width\":700,\"x_range\":{\"id\":\"7035\"},\"x_scale\":{\"id\":\"7093\"},\"y_range\":{\"id\":\"7086\"},\"y_scale\":{\"id\":\"7095\"}},\"id\":\"7088\",\"subtype\":\"Figure\",\"type\":\"Plot\"},{\"attributes\":{\"axis_label\":\"year\",\"formatter\":{\"id\":\"7129\"},\"major_label_orientation\":1.5707963267948966,\"major_label_policy\":{\"id\":\"7130\"},\"ticker\":{\"id\":\"7098\"}},\"id\":\"7097\",\"type\":\"LinearAxis\"},{\"attributes\":{\"children\":[{\"id\":\"7158\"},{\"id\":\"7156\"}]},\"id\":\"7159\",\"type\":\"Column\"},{\"attributes\":{\"data_source\":{\"id\":\"7118\"},\"glyph\":{\"id\":\"7121\"},\"hover_glyph\":null,\"muted_glyph\":{\"id\":\"7123\"},\"nonselection_glyph\":{\"id\":\"7122\"},\"selection_glyph\":{\"id\":\"7126\"},\"view\":{\"id\":\"7125\"}},\"id\":\"7124\",\"type\":\"GlyphRenderer\"},{\"attributes\":{\"text\":\"Average Monthly Shelter Cost for Rented Dwellings in TO\",\"text_color\":\"black\",\"text_font_size\":\"12pt\"},\"id\":\"7089\",\"type\":\"Title\"},{\"attributes\":{\"callback\":null,\"renderers\":[{\"id\":\"7124\"}],\"tags\":[\"hv_created\"],\"tooltips\":[[\"year\",\"@{year}\"],[\"shelter_costs_rented\",\"@{shelter_costs_rented}\"]]},\"id\":\"7087\",\"type\":\"HoverTool\"},{\"attributes\":{},\"id\":\"7093\",\"type\":\"LinearScale\"},{\"attributes\":{\"source\":{\"id\":\"7118\"}},\"id\":\"7125\",\"type\":\"CDSView\"},{\"attributes\":{\"toolbar\":{\"id\":\"7157\"},\"toolbar_location\":\"above\"},\"id\":\"7158\",\"type\":\"ToolbarBox\"},{\"attributes\":{\"active_multi\":null,\"tools\":[{\"id\":\"7037\"},{\"id\":\"7055\"},{\"id\":\"7056\"},{\"id\":\"7057\"},{\"id\":\"7058\"},{\"id\":\"7059\"}]},\"id\":\"7061\",\"type\":\"Toolbar\"},{\"attributes\":{\"axis\":{\"id\":\"7097\"},\"grid_line_color\":null,\"ticker\":null},\"id\":\"7100\",\"type\":\"Grid\"},{\"attributes\":{\"data\":{\"shelter_costs_owned\":[118563,184352,202750,246584],\"year\":[2001,2006,2011,2016]},\"selected\":{\"id\":\"7069\"},\"selection_policy\":{\"id\":\"7142\"}},\"id\":\"7068\",\"type\":\"ColumnDataSource\"},{\"attributes\":{\"end\":259386.1,\"reset_end\":259386.1,\"reset_start\":105760.9,\"start\":105760.9,\"tags\":[[[\"shelter_costs_owned\",\"shelter_costs_owned\",null]]]},\"id\":\"7036\",\"type\":\"Range1d\"},{\"attributes\":{\"line_color\":\"#30a2da\",\"line_width\":2,\"x\":{\"field\":\"year\"},\"y\":{\"field\":\"shelter_costs_rented\"}},\"id\":\"7121\",\"type\":\"Line\"},{\"attributes\":{\"line_alpha\":0.2,\"line_color\":\"red\",\"line_width\":2,\"x\":{\"field\":\"year\"},\"y\":{\"field\":\"shelter_costs_owned\"}},\"id\":\"7073\",\"type\":\"Line\"},{\"attributes\":{},\"id\":\"7095\",\"type\":\"LinearScale\"},{\"attributes\":{\"below\":[{\"id\":\"7047\"}],\"center\":[{\"id\":\"7050\"},{\"id\":\"7054\"}],\"height\":300,\"left\":[{\"id\":\"7051\"}],\"margin\":null,\"min_border_bottom\":10,\"min_border_left\":10,\"min_border_right\":10,\"min_border_top\":10,\"renderers\":[{\"id\":\"7074\"}],\"sizing_mode\":\"fixed\",\"title\":{\"id\":\"7039\"},\"toolbar\":{\"id\":\"7061\"},\"toolbar_location\":null,\"width\":700,\"x_range\":{\"id\":\"7035\"},\"x_scale\":{\"id\":\"7043\"},\"y_range\":{\"id\":\"7036\"},\"y_scale\":{\"id\":\"7045\"}},\"id\":\"7038\",\"subtype\":\"Figure\",\"type\":\"Plot\"},{\"attributes\":{\"axis_label\":\"shelter_costs_rented\",\"formatter\":{\"id\":\"7127\"},\"major_label_policy\":{\"id\":\"7133\"},\"ticker\":{\"id\":\"7102\"}},\"id\":\"7101\",\"type\":\"LinearAxis\"},{\"attributes\":{},\"id\":\"7098\",\"type\":\"BasicTicker\"},{\"attributes\":{\"end\":180517.7,\"reset_end\":180517.7,\"reset_start\":124925.3,\"start\":124925.3,\"tags\":[[[\"shelter_costs_rented\",\"shelter_costs_rented\",null]]]},\"id\":\"7086\",\"type\":\"Range1d\"},{\"attributes\":{\"source\":{\"id\":\"7068\"}},\"id\":\"7075\",\"type\":\"CDSView\"},{\"attributes\":{\"data\":{\"shelter_costs_rented\":[152031,129558,142771,175885],\"year\":[2001,2006,2011,2016]},\"selected\":{\"id\":\"7119\"},\"selection_policy\":{\"id\":\"7152\"}},\"id\":\"7118\",\"type\":\"ColumnDataSource\"},{\"attributes\":{\"children\":[{\"id\":\"7034\"},{\"id\":\"7159\"},{\"id\":\"7322\"}],\"margin\":[0,0,0,0],\"name\":\"Row13735\",\"tags\":[\"embedded\"]},\"id\":\"7033\",\"type\":\"Row\"},{\"attributes\":{\"data_source\":{\"id\":\"7068\"},\"glyph\":{\"id\":\"7071\"},\"hover_glyph\":null,\"muted_glyph\":{\"id\":\"7073\"},\"nonselection_glyph\":{\"id\":\"7072\"},\"selection_glyph\":{\"id\":\"7076\"},\"view\":{\"id\":\"7075\"}},\"id\":\"7074\",\"type\":\"GlyphRenderer\"},{\"attributes\":{},\"id\":\"7102\",\"type\":\"BasicTicker\"},{\"attributes\":{},\"id\":\"7069\",\"type\":\"Selection\"},{\"attributes\":{\"line_color\":\"red\",\"line_width\":2,\"x\":{\"field\":\"year\"},\"y\":{\"field\":\"shelter_costs_owned\"}},\"id\":\"7071\",\"type\":\"Line\"},{\"attributes\":{\"margin\":[5,5,5,5],\"name\":\"HSpacer13739\",\"sizing_mode\":\"stretch_width\"},\"id\":\"7034\",\"type\":\"Spacer\"},{\"attributes\":{},\"id\":\"7152\",\"type\":\"UnionRenderers\"},{\"attributes\":{},\"id\":\"7048\",\"type\":\"BasicTicker\"},{\"attributes\":{\"text\":\"Average Monthly Shelter Cost for Owned Dwellings in TO\",\"text_color\":\"black\",\"text_font_size\":\"12pt\"},\"id\":\"7039\",\"type\":\"Title\"},{\"attributes\":{},\"id\":\"7043\",\"type\":\"LinearScale\"},{\"attributes\":{\"axis\":{\"id\":\"7101\"},\"dimension\":1,\"grid_line_color\":null,\"ticker\":null},\"id\":\"7104\",\"type\":\"Grid\"},{\"attributes\":{\"axis\":{\"id\":\"7047\"},\"grid_line_color\":null,\"ticker\":null},\"id\":\"7050\",\"type\":\"Grid\"},{\"attributes\":{\"line_color\":\"red\",\"line_width\":2,\"x\":{\"field\":\"year\"},\"y\":{\"field\":\"shelter_costs_owned\"}},\"id\":\"7076\",\"type\":\"Line\"},{\"attributes\":{},\"id\":\"7133\",\"type\":\"AllLabels\"},{\"attributes\":{\"format\":\"%.0f\"},\"id\":\"7077\",\"type\":\"PrintfTickFormatter\"},{\"attributes\":{},\"id\":\"7105\",\"type\":\"SaveTool\"},{\"attributes\":{},\"id\":\"7106\",\"type\":\"PanTool\"},{\"attributes\":{},\"id\":\"7045\",\"type\":\"LinearScale\"},{\"attributes\":{},\"id\":\"7109\",\"type\":\"ResetTool\"},{\"attributes\":{\"axis\":{\"id\":\"7051\"},\"dimension\":1,\"grid_line_color\":null,\"ticker\":null},\"id\":\"7054\",\"type\":\"Grid\"},{\"attributes\":{},\"id\":\"7080\",\"type\":\"AllLabels\"},{\"attributes\":{\"margin\":[5,5,5,5],\"name\":\"HSpacer13740\",\"sizing_mode\":\"stretch_width\"},\"id\":\"7322\",\"type\":\"Spacer\"},{\"attributes\":{},\"id\":\"7107\",\"type\":\"WheelZoomTool\"},{\"attributes\":{\"axis_label\":\"year\",\"formatter\":{\"id\":\"7079\"},\"major_label_orientation\":1.5707963267948966,\"major_label_policy\":{\"id\":\"7080\"},\"ticker\":{\"id\":\"7048\"}},\"id\":\"7047\",\"type\":\"LinearAxis\"},{\"attributes\":{\"overlay\":{\"id\":\"7110\"}},\"id\":\"7108\",\"type\":\"BoxZoomTool\"},{\"attributes\":{\"children\":[[{\"id\":\"7038\"},0,0],[{\"id\":\"7088\"},0,1]]},\"id\":\"7156\",\"type\":\"GridBox\"},{\"attributes\":{},\"id\":\"7083\",\"type\":\"AllLabels\"},{\"attributes\":{},\"id\":\"7052\",\"type\":\"BasicTicker\"},{\"attributes\":{\"axis_label\":\"\",\"formatter\":{\"id\":\"7077\"},\"major_label_policy\":{\"id\":\"7083\"},\"ticker\":{\"id\":\"7052\"}},\"id\":\"7051\",\"type\":\"LinearAxis\"},{\"attributes\":{},\"id\":\"7079\",\"type\":\"BasicTickFormatter\"},{\"attributes\":{},\"id\":\"7130\",\"type\":\"AllLabels\"},{\"attributes\":{\"format\":\"%.0f\"},\"id\":\"7127\",\"type\":\"PrintfTickFormatter\"},{\"attributes\":{\"line_alpha\":0.1,\"line_color\":\"red\",\"line_width\":2,\"x\":{\"field\":\"year\"},\"y\":{\"field\":\"shelter_costs_owned\"}},\"id\":\"7072\",\"type\":\"Line\"},{\"attributes\":{\"active_multi\":null,\"tools\":[{\"id\":\"7087\"},{\"id\":\"7105\"},{\"id\":\"7106\"},{\"id\":\"7107\"},{\"id\":\"7108\"},{\"id\":\"7109\"}]},\"id\":\"7111\",\"type\":\"Toolbar\"},{\"attributes\":{},\"id\":\"7055\",\"type\":\"SaveTool\"},{\"attributes\":{},\"id\":\"7142\",\"type\":\"UnionRenderers\"},{\"attributes\":{},\"id\":\"7056\",\"type\":\"PanTool\"},{\"attributes\":{},\"id\":\"7059\",\"type\":\"ResetTool\"},{\"attributes\":{},\"id\":\"7057\",\"type\":\"WheelZoomTool\"},{\"attributes\":{\"bottom_units\":\"screen\",\"fill_alpha\":0.5,\"fill_color\":\"lightgrey\",\"left_units\":\"screen\",\"level\":\"overlay\",\"line_alpha\":1.0,\"line_color\":\"black\",\"line_dash\":[4,4],\"line_width\":2,\"right_units\":\"screen\",\"syncable\":false,\"top_units\":\"screen\"},\"id\":\"7110\",\"type\":\"BoxAnnotation\"},{\"attributes\":{\"bottom_units\":\"screen\",\"fill_alpha\":0.5,\"fill_color\":\"lightgrey\",\"left_units\":\"screen\",\"level\":\"overlay\",\"line_alpha\":1.0,\"line_color\":\"black\",\"line_dash\":[4,4],\"line_width\":2,\"right_units\":\"screen\",\"syncable\":false,\"top_units\":\"screen\"},\"id\":\"7060\",\"type\":\"BoxAnnotation\"},{\"attributes\":{},\"id\":\"7129\",\"type\":\"BasicTickFormatter\"},{\"attributes\":{\"overlay\":{\"id\":\"7060\"}},\"id\":\"7058\",\"type\":\"BoxZoomTool\"},{\"attributes\":{\"line_alpha\":0.2,\"line_color\":\"#30a2da\",\"line_width\":2,\"x\":{\"field\":\"year\"},\"y\":{\"field\":\"shelter_costs_rented\"}},\"id\":\"7123\",\"type\":\"Line\"},{\"attributes\":{\"end\":2016.0,\"reset_end\":2016.0,\"reset_start\":2001.0,\"start\":2001.0,\"tags\":[[[\"year\",\"year\",null]]]},\"id\":\"7035\",\"type\":\"Range1d\"},{\"attributes\":{\"toolbars\":[{\"id\":\"7061\"},{\"id\":\"7111\"}],\"tools\":[{\"id\":\"7037\"},{\"id\":\"7055\"},{\"id\":\"7056\"},{\"id\":\"7057\"},{\"id\":\"7058\"},{\"id\":\"7059\"},{\"id\":\"7087\"},{\"id\":\"7105\"},{\"id\":\"7106\"},{\"id\":\"7107\"},{\"id\":\"7108\"},{\"id\":\"7109\"}]},\"id\":\"7157\",\"type\":\"ProxyToolbar\"},{\"attributes\":{\"line_alpha\":0.1,\"line_color\":\"#30a2da\",\"line_width\":2,\"x\":{\"field\":\"year\"},\"y\":{\"field\":\"shelter_costs_rented\"}},\"id\":\"7122\",\"type\":\"Line\"},{\"attributes\":{},\"id\":\"7119\",\"type\":\"Selection\"}],\"root_ids\":[\"7033\"]},\"title\":\"Bokeh Application\",\"version\":\"2.3.2\"}};\n",
       "    var render_items = [{\"docid\":\"1960754d-5600-4934-b937-2fc911f4d158\",\"root_ids\":[\"7033\"],\"roots\":{\"7033\":\"4072332b-b0e2-42ee-a065-6dcbec883d9d\"}}];\n",
       "    root.Bokeh.embed.embed_items_notebook(docs_json, render_items);\n",
       "  }\n",
       "  if (root.Bokeh !== undefined && root.Bokeh.Panel !== undefined && root['Plotly'] !== undefined ) {\n",
       "    embed_document(root);\n",
       "  } else {\n",
       "    var attempts = 0;\n",
       "    var timer = setInterval(function(root) {\n",
       "      if (root.Bokeh !== undefined && root.Bokeh.Panel !== undefined && root['Plotly'] !== undefined) {\n",
       "        clearInterval(timer);\n",
       "        embed_document(root);\n",
       "      } else if (document.readyState == \"complete\") {\n",
       "        attempts++;\n",
       "        if (attempts > 100) {\n",
       "          clearInterval(timer);\n",
       "          console.log(\"Bokeh: ERROR: Unable to run BokehJS code because BokehJS library is missing\");\n",
       "        }\n",
       "      }\n",
       "    }, 10, root)\n",
       "  }\n",
       "})(window);</script>"
      ],
      "text/plain": [
       ":Layout\n",
       "   .Curve.Average_Monthly_Shelter_Cost_for_Owned_Dwellings_in_TO  :Curve   [year]   (shelter_costs_owned)\n",
       "   .Curve.Average_Monthly_Shelter_Cost_for_Rented_Dwellings_in_TO :Curve   [year]   (shelter_costs_rented)"
      ]
     },
     "execution_count": 137,
     "metadata": {
      "application/vnd.holoviews_exec.v0+json": {
       "id": "7033"
      }
     },
     "output_type": "execute_result"
    }
   ],
   "source": [
    "# Create two line charts, one to plot the monthly shelter costs for owned dwelleing and other for rented dwellings per year\n",
    "\n",
    "# Line chart for owned dwellings\n",
    "plot_shelter_costs_rented = shelter_costs_rented.hvplot(label=\"Average Monthly Shelter Cost for Rented Dwellings in TO\", rot=90).opts(\n",
    "    yformatter=\"%.0f\")\n",
    "\n",
    "# Line chart for rented dwellings\n",
    "plot_shelter_costs_owned = shelter_costs_owned.hvplot(label=\"Average Monthly Shelter Cost for Owned Dwellings in TO\", rot=90).opts(\n",
    "    yformatter=\"%.0f\").opts(line_color='red')\n",
    "plot_shelter_costs_owned + plot_shelter_costs_rented"
   ]
  },
  {
   "cell_type": "markdown",
   "metadata": {},
   "source": [
    "## Average House Value per Year\n",
    "\n",
    "In this section, you want to determine the average house value per year. An investor may want to understand better the sales price of the rental property over time. For example, a customer will want to know if they should expect an increase or decrease in the property value over time so they can determine how long to hold the rental property. You will visualize the `average_house_value` per year as a bar chart."
   ]
  },
  {
   "cell_type": "code",
   "execution_count": 138,
   "metadata": {},
   "outputs": [
    {
     "data": {
      "text/plain": [
       "year\n",
       "2001    40583604\n",
       "2006    59368353\n",
       "2011    74259461\n",
       "2016    92969566\n",
       "Name: average_house_value, dtype: int64"
      ]
     },
     "execution_count": 138,
     "metadata": {},
     "output_type": "execute_result"
    }
   ],
   "source": [
    "# Calculate the average house value per year\n",
    "average_house_value = to_data[\"average_house_value\"].groupby(\"year\").sum()\n",
    "average_house_value"
   ]
  },
  {
   "cell_type": "code",
   "execution_count": 139,
   "metadata": {},
   "outputs": [
    {
     "data": {},
     "metadata": {},
     "output_type": "display_data"
    },
    {
     "data": {
      "application/vnd.holoviews_exec.v0+json": "",
      "text/html": [
       "<div id='7414'>\n",
       "\n",
       "\n",
       "\n",
       "\n",
       "\n",
       "  <div class=\"bk-root\" id=\"8bb75b26-65ec-45fe-994c-062a3a85da19\" data-root-id=\"7414\"></div>\n",
       "</div>\n",
       "<script type=\"application/javascript\">(function(root) {\n",
       "  function embed_document(root) {\n",
       "    var docs_json = {\"7cc55d1f-6fc7-4aba-9f30-0cf124341002\":{\"defs\":[],\"roots\":{\"references\":[{\"attributes\":{},\"id\":\"7438\",\"type\":\"WheelZoomTool\"},{\"attributes\":{\"end\":98208162.2,\"reset_end\":98208162.2,\"reset_start\":35345007.8,\"start\":35345007.8,\"tags\":[[[\"average_house_value\",\"average_house_value\",null]]]},\"id\":\"7417\",\"type\":\"Range1d\"},{\"attributes\":{\"margin\":[5,5,5,5],\"name\":\"HSpacer14183\",\"sizing_mode\":\"stretch_width\"},\"id\":\"7485\",\"type\":\"Spacer\"},{\"attributes\":{\"axis_label\":\"\",\"formatter\":{\"id\":\"7458\"},\"major_label_policy\":{\"id\":\"7464\"},\"ticker\":{\"id\":\"7433\"}},\"id\":\"7432\",\"type\":\"LinearAxis\"},{\"attributes\":{},\"id\":\"7429\",\"type\":\"BasicTicker\"},{\"attributes\":{},\"id\":\"7440\",\"type\":\"ResetTool\"},{\"attributes\":{\"margin\":[5,5,5,5],\"name\":\"HSpacer14182\",\"sizing_mode\":\"stretch_width\"},\"id\":\"7415\",\"type\":\"Spacer\"},{\"attributes\":{},\"id\":\"7426\",\"type\":\"LinearScale\"},{\"attributes\":{},\"id\":\"7473\",\"type\":\"UnionRenderers\"},{\"attributes\":{\"axis_label\":\"year\",\"formatter\":{\"id\":\"7460\"},\"major_label_orientation\":1.5707963267948966,\"major_label_policy\":{\"id\":\"7461\"},\"ticker\":{\"id\":\"7429\"}},\"id\":\"7428\",\"type\":\"LinearAxis\"},{\"attributes\":{\"source\":{\"id\":\"7449\"}},\"id\":\"7456\",\"type\":\"CDSView\"},{\"attributes\":{\"data\":{\"average_house_value\":[40583604,59368353,74259461,92969566],\"year\":[2001,2006,2011,2016]},\"selected\":{\"id\":\"7450\"},\"selection_policy\":{\"id\":\"7473\"}},\"id\":\"7449\",\"type\":\"ColumnDataSource\"},{\"attributes\":{\"overlay\":{\"id\":\"7441\"}},\"id\":\"7439\",\"type\":\"BoxZoomTool\"},{\"attributes\":{\"below\":[{\"id\":\"7428\"}],\"center\":[{\"id\":\"7431\"},{\"id\":\"7435\"}],\"height\":300,\"left\":[{\"id\":\"7432\"}],\"margin\":[5,5,5,5],\"min_border_bottom\":10,\"min_border_left\":10,\"min_border_right\":10,\"min_border_top\":10,\"renderers\":[{\"id\":\"7455\"}],\"sizing_mode\":\"fixed\",\"title\":{\"id\":\"7420\"},\"toolbar\":{\"id\":\"7442\"},\"width\":700,\"x_range\":{\"id\":\"7416\"},\"x_scale\":{\"id\":\"7424\"},\"y_range\":{\"id\":\"7417\"},\"y_scale\":{\"id\":\"7426\"}},\"id\":\"7419\",\"subtype\":\"Figure\",\"type\":\"Plot\"},{\"attributes\":{\"active_multi\":null,\"tools\":[{\"id\":\"7418\"},{\"id\":\"7436\"},{\"id\":\"7437\"},{\"id\":\"7438\"},{\"id\":\"7439\"},{\"id\":\"7440\"}]},\"id\":\"7442\",\"type\":\"Toolbar\"},{\"attributes\":{\"text\":\"Average House Value in TO\",\"text_color\":\"black\",\"text_font_size\":\"12pt\"},\"id\":\"7420\",\"type\":\"Title\"},{\"attributes\":{\"line_alpha\":0.2,\"line_color\":\"red\",\"line_width\":2,\"x\":{\"field\":\"year\"},\"y\":{\"field\":\"average_house_value\"}},\"id\":\"7454\",\"type\":\"Line\"},{\"attributes\":{\"children\":[{\"id\":\"7415\"},{\"id\":\"7419\"},{\"id\":\"7485\"}],\"margin\":[0,0,0,0],\"name\":\"Row14178\",\"tags\":[\"embedded\"]},\"id\":\"7414\",\"type\":\"Row\"},{\"attributes\":{\"line_alpha\":0.1,\"line_color\":\"red\",\"line_width\":2,\"x\":{\"field\":\"year\"},\"y\":{\"field\":\"average_house_value\"}},\"id\":\"7453\",\"type\":\"Line\"},{\"attributes\":{},\"id\":\"7433\",\"type\":\"BasicTicker\"},{\"attributes\":{},\"id\":\"7424\",\"type\":\"LinearScale\"},{\"attributes\":{},\"id\":\"7464\",\"type\":\"AllLabels\"},{\"attributes\":{},\"id\":\"7436\",\"type\":\"SaveTool\"},{\"attributes\":{\"bottom_units\":\"screen\",\"fill_alpha\":0.5,\"fill_color\":\"lightgrey\",\"left_units\":\"screen\",\"level\":\"overlay\",\"line_alpha\":1.0,\"line_color\":\"black\",\"line_dash\":[4,4],\"line_width\":2,\"right_units\":\"screen\",\"syncable\":false,\"top_units\":\"screen\"},\"id\":\"7441\",\"type\":\"BoxAnnotation\"},{\"attributes\":{},\"id\":\"7461\",\"type\":\"AllLabels\"},{\"attributes\":{},\"id\":\"7450\",\"type\":\"Selection\"},{\"attributes\":{\"callback\":null,\"renderers\":[{\"id\":\"7455\"}],\"tags\":[\"hv_created\"],\"tooltips\":[[\"year\",\"@{year}\"],[\"average_house_value\",\"@{average_house_value}\"]]},\"id\":\"7418\",\"type\":\"HoverTool\"},{\"attributes\":{\"axis\":{\"id\":\"7432\"},\"dimension\":1,\"grid_line_color\":null,\"ticker\":null},\"id\":\"7435\",\"type\":\"Grid\"},{\"attributes\":{},\"id\":\"7460\",\"type\":\"BasicTickFormatter\"},{\"attributes\":{\"format\":\"%.0f\"},\"id\":\"7458\",\"type\":\"PrintfTickFormatter\"},{\"attributes\":{},\"id\":\"7437\",\"type\":\"PanTool\"},{\"attributes\":{\"data_source\":{\"id\":\"7449\"},\"glyph\":{\"id\":\"7452\"},\"hover_glyph\":null,\"muted_glyph\":{\"id\":\"7454\"},\"nonselection_glyph\":{\"id\":\"7453\"},\"selection_glyph\":{\"id\":\"7457\"},\"view\":{\"id\":\"7456\"}},\"id\":\"7455\",\"type\":\"GlyphRenderer\"},{\"attributes\":{\"end\":2016.0,\"reset_end\":2016.0,\"reset_start\":2001.0,\"start\":2001.0,\"tags\":[[[\"year\",\"year\",null]]]},\"id\":\"7416\",\"type\":\"Range1d\"},{\"attributes\":{\"line_color\":\"red\",\"line_width\":2,\"x\":{\"field\":\"year\"},\"y\":{\"field\":\"average_house_value\"}},\"id\":\"7457\",\"type\":\"Line\"},{\"attributes\":{\"axis\":{\"id\":\"7428\"},\"grid_line_color\":null,\"ticker\":null},\"id\":\"7431\",\"type\":\"Grid\"},{\"attributes\":{\"line_color\":\"red\",\"line_width\":2,\"x\":{\"field\":\"year\"},\"y\":{\"field\":\"average_house_value\"}},\"id\":\"7452\",\"type\":\"Line\"}],\"root_ids\":[\"7414\"]},\"title\":\"Bokeh Application\",\"version\":\"2.3.2\"}};\n",
       "    var render_items = [{\"docid\":\"7cc55d1f-6fc7-4aba-9f30-0cf124341002\",\"root_ids\":[\"7414\"],\"roots\":{\"7414\":\"8bb75b26-65ec-45fe-994c-062a3a85da19\"}}];\n",
       "    root.Bokeh.embed.embed_items_notebook(docs_json, render_items);\n",
       "  }\n",
       "  if (root.Bokeh !== undefined && root.Bokeh.Panel !== undefined && root['Plotly'] !== undefined ) {\n",
       "    embed_document(root);\n",
       "  } else {\n",
       "    var attempts = 0;\n",
       "    var timer = setInterval(function(root) {\n",
       "      if (root.Bokeh !== undefined && root.Bokeh.Panel !== undefined && root['Plotly'] !== undefined) {\n",
       "        clearInterval(timer);\n",
       "        embed_document(root);\n",
       "      } else if (document.readyState == \"complete\") {\n",
       "        attempts++;\n",
       "        if (attempts > 100) {\n",
       "          clearInterval(timer);\n",
       "          console.log(\"Bokeh: ERROR: Unable to run BokehJS code because BokehJS library is missing\");\n",
       "        }\n",
       "      }\n",
       "    }, 10, root)\n",
       "  }\n",
       "})(window);</script>"
      ],
      "text/plain": [
       ":Curve   [year]   (average_house_value)"
      ]
     },
     "execution_count": 139,
     "metadata": {
      "application/vnd.holoviews_exec.v0+json": {
       "id": "7414"
      }
     },
     "output_type": "execute_result"
    }
   ],
   "source": [
    "# Plot the average house value per year as a line chart\n",
    "plot_average_house_value = average_house_value.hvplot(label=\"Average House Value in TO\", rot=90).opts(\n",
    "    yformatter=\"%.0f\").opts(line_color='red')\n",
    "plot_average_house_value"
   ]
  },
  {
   "cell_type": "markdown",
   "metadata": {},
   "source": [
    "- - - "
   ]
  },
  {
   "cell_type": "markdown",
   "metadata": {},
   "source": [
    "## Average House Value by Neighbourhood\n",
    "\n",
    "In this section, you will use `hvplot` to create an interactive visualization of the average house value with a dropdown selector for the neighbourhood.\n",
    "\n",
    "**Hint:** It will be easier to create a new DataFrame from grouping the data and calculating the mean house values for each year and neighbourhood."
   ]
  },
  {
   "cell_type": "code",
   "execution_count": 140,
   "metadata": {},
   "outputs": [
    {
     "data": {
      "text/html": [
       "<div>\n",
       "<style scoped>\n",
       "    .dataframe tbody tr th:only-of-type {\n",
       "        vertical-align: middle;\n",
       "    }\n",
       "\n",
       "    .dataframe tbody tr th {\n",
       "        vertical-align: top;\n",
       "    }\n",
       "\n",
       "    .dataframe thead th {\n",
       "        text-align: right;\n",
       "    }\n",
       "</style>\n",
       "<table border=\"1\" class=\"dataframe\">\n",
       "  <thead>\n",
       "    <tr style=\"text-align: right;\">\n",
       "      <th></th>\n",
       "      <th>year</th>\n",
       "      <th>neighbourhood</th>\n",
       "      <th>average_house_value</th>\n",
       "    </tr>\n",
       "  </thead>\n",
       "  <tbody>\n",
       "    <tr>\n",
       "      <th>0</th>\n",
       "      <td>2001</td>\n",
       "      <td>Agincourt North</td>\n",
       "      <td>200388</td>\n",
       "    </tr>\n",
       "    <tr>\n",
       "      <th>1</th>\n",
       "      <td>2001</td>\n",
       "      <td>Agincourt South-Malvern West</td>\n",
       "      <td>203047</td>\n",
       "    </tr>\n",
       "    <tr>\n",
       "      <th>2</th>\n",
       "      <td>2001</td>\n",
       "      <td>Alderwood</td>\n",
       "      <td>259998</td>\n",
       "    </tr>\n",
       "    <tr>\n",
       "      <th>3</th>\n",
       "      <td>2001</td>\n",
       "      <td>Annex</td>\n",
       "      <td>453850</td>\n",
       "    </tr>\n",
       "    <tr>\n",
       "      <th>4</th>\n",
       "      <td>2001</td>\n",
       "      <td>Banbury-Don Mills</td>\n",
       "      <td>371864</td>\n",
       "    </tr>\n",
       "    <tr>\n",
       "      <th>5</th>\n",
       "      <td>2001</td>\n",
       "      <td>Bathurst Manor</td>\n",
       "      <td>304749</td>\n",
       "    </tr>\n",
       "    <tr>\n",
       "      <th>6</th>\n",
       "      <td>2001</td>\n",
       "      <td>Bay Street Corridor</td>\n",
       "      <td>257404</td>\n",
       "    </tr>\n",
       "    <tr>\n",
       "      <th>7</th>\n",
       "      <td>2001</td>\n",
       "      <td>Bayview Village</td>\n",
       "      <td>327644</td>\n",
       "    </tr>\n",
       "    <tr>\n",
       "      <th>8</th>\n",
       "      <td>2001</td>\n",
       "      <td>Bayview Woods-Steeles</td>\n",
       "      <td>343535</td>\n",
       "    </tr>\n",
       "    <tr>\n",
       "      <th>9</th>\n",
       "      <td>2001</td>\n",
       "      <td>Bedford Park-Nortown</td>\n",
       "      <td>565304</td>\n",
       "    </tr>\n",
       "  </tbody>\n",
       "</table>\n",
       "</div>"
      ],
      "text/plain": [
       "   year                 neighbourhood  average_house_value\n",
       "0  2001               Agincourt North               200388\n",
       "1  2001  Agincourt South-Malvern West               203047\n",
       "2  2001                     Alderwood               259998\n",
       "3  2001                         Annex               453850\n",
       "4  2001             Banbury-Don Mills               371864\n",
       "5  2001                Bathurst Manor               304749\n",
       "6  2001           Bay Street Corridor               257404\n",
       "7  2001               Bayview Village               327644\n",
       "8  2001         Bayview Woods-Steeles               343535\n",
       "9  2001          Bedford Park-Nortown               565304"
      ]
     },
     "execution_count": 140,
     "metadata": {},
     "output_type": "execute_result"
    }
   ],
   "source": [
    "# Create a new DataFrame with the mean house values by neighbourhood per year\n",
    "from panel.interact import interact\n",
    "\n",
    "\n",
    "file_path = Path(\"Data/toronto_neighbourhoods_census_data.csv\")\n",
    "to_data_3 = pd.read_csv(file_path, header = 0)\n",
    "avg_house_value = to_data_3[['year', 'neighbourhood', 'average_house_value']]\n",
    "avg_house_value.head(10)"
   ]
  },
  {
   "cell_type": "code",
   "execution_count": 141,
   "metadata": {},
   "outputs": [
    {
     "data": {},
     "metadata": {},
     "output_type": "display_data"
    },
    {
     "data": {
      "application/vnd.holoviews_exec.v0+json": "",
      "text/html": [
       "<div id='7532'>\n",
       "\n",
       "\n",
       "\n",
       "\n",
       "\n",
       "  <div class=\"bk-root\" id=\"229fd30c-2fc9-43fc-a0b7-0d6cc08d6f0a\" data-root-id=\"7532\"></div>\n",
       "</div>\n",
       "<script type=\"application/javascript\">(function(root) {\n",
       "  function embed_document(root) {\n",
       "    var docs_json = {\"e3360a86-28ae-45a1-ba7b-11fb8d6df26f\":{\"defs\":[],\"roots\":{\"references\":[{\"attributes\":{},\"id\":\"7558\",\"type\":\"ResetTool\"},{\"attributes\":{},\"id\":\"7556\",\"type\":\"WheelZoomTool\"},{\"attributes\":{\"active_multi\":null,\"tools\":[{\"id\":\"7536\"},{\"id\":\"7554\"},{\"id\":\"7555\"},{\"id\":\"7556\"},{\"id\":\"7557\"},{\"id\":\"7558\"}]},\"id\":\"7560\",\"type\":\"Toolbar\"},{\"attributes\":{},\"id\":\"7547\",\"type\":\"BasicTicker\"},{\"attributes\":{\"overlay\":{\"id\":\"7559\"}},\"id\":\"7557\",\"type\":\"BoxZoomTool\"},{\"attributes\":{\"text\":\"Avg Value by Neighbourhood  neighbourhood: Agincourt North\",\"text_color\":\"black\",\"text_font_size\":\"12pt\"},\"id\":\"7538\",\"type\":\"Title\"},{\"attributes\":{\"callback\":null,\"renderers\":[{\"id\":\"7573\"}],\"tags\":[\"hv_created\"],\"tooltips\":[[\"year\",\"@{year}\"],[\"average_house_value\",\"@{average_house_value}\"]]},\"id\":\"7536\",\"type\":\"HoverTool\"},{\"attributes\":{\"line_alpha\":0.2,\"line_color\":\"#30a2da\",\"line_width\":2,\"x\":{\"field\":\"year\"},\"y\":{\"field\":\"average_house_value\"}},\"id\":\"7572\",\"type\":\"Line\"},{\"attributes\":{\"axis\":{\"id\":\"7546\"},\"grid_line_color\":null,\"ticker\":null},\"id\":\"7549\",\"type\":\"Grid\"},{\"attributes\":{},\"id\":\"7597\",\"type\":\"UnionRenderers\"},{\"attributes\":{},\"id\":\"7542\",\"type\":\"LinearScale\"},{\"attributes\":{\"margin\":[20,20,20,20],\"min_width\":250,\"options\":[\"Agincourt North\",\"Agincourt South-Malvern West\",\"Alderwood\",\"Annex\",\"Banbury-Don Mills\",\"Bathurst Manor\",\"Bay Street Corridor\",\"Bayview Village\",\"Bayview Woods-Steeles\",\"Bedford Park-Nortown\",\"Beechborough-Greenbrook\",\"Bendale\",\"Birchcliffe-Cliffside\",\"Black Creek\",\"Blake-Jones\",\"Briar Hill-Belgravia\",\"Bridle Path-Sunnybrook-York Mills\",\"Broadview North\",\"Brookhaven-Amesbury\",\"Cabbagetown-South St.James Town\",\"Caledonia-Fairbank\",\"Casa Loma\",\"Centennial Scarborough\",\"Church-Yonge Corridor\",\"Clairlea-Birchmount\",\"Clanton Park\",\"Cliffcrest\",\"Corso Italia-Davenport\",\"Danforth\",\"Danforth-East York\",\"Don Valley Village\",\"Dorset Park\",\"Dovercourt-Wallace Emerson-Juncti\",\"Downsview-Roding-CFB\",\"Dufferin Grove\",\"East End-Danforth\",\"Edenbridge-Humber Valley\",\"Eglinton East\",\"Elms-Old Rexdale\",\"Englemount-Lawrence\",\"Eringate-Centennial-West Deane\",\"Etobicoke West Mall\",\"Flemingdon Park\",\"Forest Hill North\",\"Forest Hill South\",\"Glenfield-Jane Heights\",\"Greenwood-Coxwell\",\"Guildwood\",\"Henry Farm\",\"High Park North\",\"High Park-Swansea\",\"Highland Creek\",\"Hillcrest Village\",\"Humber Heights-Westmount\",\"Humber Summit\",\"Humbermede\",\"Humewood-Cedarvale\",\"Ionview\",\"Islington-City Centre West\",\"Junction Area\",\"Keelesdale-Eglinton West\",\"Kennedy Park\",\"Kensington-Chinatown\",\"Kingsview Village-The Westway\",\"Kingsway South\",\"L'Amoreaux\",\"Lambton Baby Point\",\"Lansing-Westgate\",\"Lawrence Park North\",\"Lawrence Park South\",\"Leaside-Bennington\",\"Little Portugal\",\"Long Branch\",\"Malvern\",\"Maple Leaf\",\"Markland Wood\",\"Milliken\",\"Mimico\",\"Morningside\",\"Moss Park\",\"Mount Dennis\",\"Mount Olive-Silverstone-Jamestown\",\"Mount Pleasant East\",\"Mount Pleasant West\",\"New Toronto\",\"Newtonbrook East\",\"Newtonbrook West\",\"Niagara\",\"North Riverdale\",\"North St.James Town\",\"O'Connor-Parkview\",\"Oakridge\",\"Oakwood Village\",\"Old East York\",\"Palmerston-Little Italy\",\"Parkwoods-Donalda\",\"Pelmo Park-Humberlea\",\"Playter Estates-Danforth\",\"Pleasant View\",\"Princess-Rosethorn\",\"Regent Park\",\"Rexdale-Kipling\",\"Rockcliffe-Smythe\",\"Roncesvalles\",\"Rosedale-Moore Park\",\"Rouge\",\"Runnymede-Bloor West Village\",\"Rustic\",\"Scarborough Village\",\"South Parkdale\",\"South Riverdale\",\"St.Andrew-Windfields\",\"Steeles\",\"Stonegate-Queensway\",\"Tam O'Shanter-Sullivan\",\"Taylor-Massey\",\"The Beaches\",\"Thistletown-Beaumond Heights\",\"Thorncliffe Park\",\"Trinity-Bellwoods\",\"University\",\"Victoria Village\",\"Waterfront Communities-The Island\",\"West Hill\",\"West Humber-Clairville\",\"Westminster-Branson\",\"Weston\",\"Weston-Pellam Park\",\"Wexford/Maryvale\",\"Willowdale East\",\"Willowdale West\",\"Willowridge-Martingrove-Richview\",\"Woburn\",\"Woodbine Corridor\",\"Woodbine-Lumsden\",\"Wychwood\",\"Yonge-Eglinton\",\"Yonge-St.Clair\",\"York University Heights\",\"Yorkdale-Glen Park\"],\"title\":\"neighbourhood\",\"value\":\"Agincourt North\",\"width\":250},\"id\":\"7613\",\"type\":\"Select\"},{\"attributes\":{},\"id\":\"7544\",\"type\":\"LinearScale\"},{\"attributes\":{\"axis_label\":\"average_house_value\",\"formatter\":{\"id\":\"7576\"},\"major_label_policy\":{\"id\":\"7582\"},\"ticker\":{\"id\":\"7551\"}},\"id\":\"7550\",\"type\":\"LinearAxis\"},{\"attributes\":{\"line_color\":\"#30a2da\",\"line_width\":2,\"x\":{\"field\":\"year\"},\"y\":{\"field\":\"average_house_value\"}},\"id\":\"7575\",\"type\":\"Line\"},{\"attributes\":{},\"id\":\"7578\",\"type\":\"BasicTickFormatter\"},{\"attributes\":{},\"id\":\"7555\",\"type\":\"PanTool\"},{\"attributes\":{\"children\":[{\"id\":\"7613\"}],\"css_classes\":[\"panel-widget-box\"],\"margin\":[5,5,5,5],\"name\":\"WidgetBox14312\"},\"id\":\"7612\",\"type\":\"Column\"},{\"attributes\":{\"axis_label\":\"year\",\"formatter\":{\"id\":\"7578\"},\"major_label_policy\":{\"id\":\"7579\"},\"ticker\":{\"id\":\"7547\"}},\"id\":\"7546\",\"type\":\"LinearAxis\"},{\"attributes\":{},\"id\":\"7579\",\"type\":\"AllLabels\"},{\"attributes\":{\"bottom_units\":\"screen\",\"fill_alpha\":0.5,\"fill_color\":\"lightgrey\",\"left_units\":\"screen\",\"level\":\"overlay\",\"line_alpha\":1.0,\"line_color\":\"black\",\"line_dash\":[4,4],\"line_width\":2,\"right_units\":\"screen\",\"syncable\":false,\"top_units\":\"screen\"},\"id\":\"7559\",\"type\":\"BoxAnnotation\"},{\"attributes\":{},\"id\":\"7551\",\"type\":\"BasicTicker\"},{\"attributes\":{\"axis\":{\"id\":\"7550\"},\"dimension\":1,\"grid_line_color\":null,\"ticker\":null},\"id\":\"7553\",\"type\":\"Grid\"},{\"attributes\":{\"source\":{\"id\":\"7567\"}},\"id\":\"7574\",\"type\":\"CDSView\"},{\"attributes\":{\"client_comm_id\":\"64c04f384d0442b29f513a689415b5a7\",\"comm_id\":\"d3c31e2643d84a30a09b98a84e3da63b\",\"plot_id\":\"7532\"},\"id\":\"7642\",\"type\":\"panel.models.comm_manager.CommManager\"},{\"attributes\":{\"margin\":[5,5,5,5],\"name\":\"HSpacer14320\",\"sizing_mode\":\"stretch_width\"},\"id\":\"7533\",\"type\":\"Spacer\"},{\"attributes\":{\"margin\":[5,5,5,5],\"name\":\"VSpacer14317\",\"sizing_mode\":\"stretch_height\"},\"id\":\"7611\",\"type\":\"Spacer\"},{\"attributes\":{\"children\":[{\"id\":\"7533\"},{\"id\":\"7537\"},{\"id\":\"7609\"},{\"id\":\"7610\"}],\"margin\":[0,0,0,0],\"name\":\"Row14311\"},\"id\":\"7532\",\"type\":\"Row\"},{\"attributes\":{\"line_alpha\":0.1,\"line_color\":\"#30a2da\",\"line_width\":2,\"x\":{\"field\":\"year\"},\"y\":{\"field\":\"average_house_value\"}},\"id\":\"7571\",\"type\":\"Line\"},{\"attributes\":{\"end\":2016.0,\"reset_end\":2016.0,\"reset_start\":2001.0,\"start\":2001.0,\"tags\":[[[\"year\",\"year\",null]]]},\"id\":\"7534\",\"type\":\"Range1d\"},{\"attributes\":{\"data\":{\"average_house_value\":[200388,293140,366667,459051],\"year\":[2001,2006,2011,2016]},\"selected\":{\"id\":\"7568\"},\"selection_policy\":{\"id\":\"7597\"}},\"id\":\"7567\",\"type\":\"ColumnDataSource\"},{\"attributes\":{},\"id\":\"7568\",\"type\":\"Selection\"},{\"attributes\":{\"end\":484917.3,\"reset_end\":484917.3,\"reset_start\":174521.7,\"start\":174521.7,\"tags\":[[[\"average_house_value\",\"average_house_value\",null]]]},\"id\":\"7535\",\"type\":\"Range1d\"},{\"attributes\":{},\"id\":\"7582\",\"type\":\"AllLabels\"},{\"attributes\":{\"margin\":[5,5,5,5],\"name\":\"HSpacer14321\",\"sizing_mode\":\"stretch_width\"},\"id\":\"7609\",\"type\":\"Spacer\"},{\"attributes\":{\"line_color\":\"#30a2da\",\"line_width\":2,\"x\":{\"field\":\"year\"},\"y\":{\"field\":\"average_house_value\"}},\"id\":\"7570\",\"type\":\"Line\"},{\"attributes\":{\"below\":[{\"id\":\"7546\"}],\"center\":[{\"id\":\"7549\"},{\"id\":\"7553\"}],\"height\":300,\"left\":[{\"id\":\"7550\"}],\"margin\":[5,5,5,5],\"min_border_bottom\":10,\"min_border_left\":10,\"min_border_right\":10,\"min_border_top\":10,\"renderers\":[{\"id\":\"7573\"}],\"sizing_mode\":\"fixed\",\"title\":{\"id\":\"7538\"},\"toolbar\":{\"id\":\"7560\"},\"width\":700,\"x_range\":{\"id\":\"7534\"},\"x_scale\":{\"id\":\"7542\"},\"y_range\":{\"id\":\"7535\"},\"y_scale\":{\"id\":\"7544\"}},\"id\":\"7537\",\"subtype\":\"Figure\",\"type\":\"Plot\"},{\"attributes\":{\"margin\":[5,5,5,5],\"name\":\"VSpacer14318\",\"sizing_mode\":\"stretch_height\"},\"id\":\"7614\",\"type\":\"Spacer\"},{\"attributes\":{\"format\":\"%.0f\"},\"id\":\"7576\",\"type\":\"PrintfTickFormatter\"},{\"attributes\":{},\"id\":\"7554\",\"type\":\"SaveTool\"},{\"attributes\":{\"children\":[{\"id\":\"7611\"},{\"id\":\"7612\"},{\"id\":\"7614\"}],\"margin\":[0,0,0,0],\"name\":\"Column14319\"},\"id\":\"7610\",\"type\":\"Column\"},{\"attributes\":{\"data_source\":{\"id\":\"7567\"},\"glyph\":{\"id\":\"7570\"},\"hover_glyph\":null,\"muted_glyph\":{\"id\":\"7572\"},\"nonselection_glyph\":{\"id\":\"7571\"},\"selection_glyph\":{\"id\":\"7575\"},\"view\":{\"id\":\"7574\"}},\"id\":\"7573\",\"type\":\"GlyphRenderer\"}],\"root_ids\":[\"7532\",\"7642\"]},\"title\":\"Bokeh Application\",\"version\":\"2.3.2\"}};\n",
       "    var render_items = [{\"docid\":\"e3360a86-28ae-45a1-ba7b-11fb8d6df26f\",\"root_ids\":[\"7532\"],\"roots\":{\"7532\":\"229fd30c-2fc9-43fc-a0b7-0d6cc08d6f0a\"}}];\n",
       "    root.Bokeh.embed.embed_items_notebook(docs_json, render_items);\n",
       "  }\n",
       "  if (root.Bokeh !== undefined && root.Bokeh.Panel !== undefined && root['Plotly'] !== undefined ) {\n",
       "    embed_document(root);\n",
       "  } else {\n",
       "    var attempts = 0;\n",
       "    var timer = setInterval(function(root) {\n",
       "      if (root.Bokeh !== undefined && root.Bokeh.Panel !== undefined && root['Plotly'] !== undefined) {\n",
       "        clearInterval(timer);\n",
       "        embed_document(root);\n",
       "      } else if (document.readyState == \"complete\") {\n",
       "        attempts++;\n",
       "        if (attempts > 100) {\n",
       "          clearInterval(timer);\n",
       "          console.log(\"Bokeh: ERROR: Unable to run BokehJS code because BokehJS library is missing\");\n",
       "        }\n",
       "      }\n",
       "    }, 10, root)\n",
       "  }\n",
       "})(window);</script>"
      ],
      "text/plain": [
       ":DynamicMap   [neighbourhood]\n",
       "   :Curve   [year]   (average_house_value)"
      ]
     },
     "execution_count": 141,
     "metadata": {
      "application/vnd.holoviews_exec.v0+json": {
       "id": "7532"
      }
     },
     "output_type": "execute_result"
    }
   ],
   "source": [
    "# Use hvplot to create an interactive line chart of the average house value per neighbourhood\n",
    "# The plot should have a dropdown selector for the neighbourhood\n",
    "\n",
    "plot_avg_house_value_by_neighbourhood = avg_house_value.hvplot.line(\n",
    "    label=\"Avg Value by Neighbourhood\", \n",
    "    groupby = \"neighbourhood\",\n",
    "    x = \"year\",\n",
    "    y = \"average_house_value\").opts(yformatter=\"%.0f\")\n",
    "plot_avg_house_value_by_neighbourhood\n"
   ]
  },
  {
   "cell_type": "markdown",
   "metadata": {},
   "source": [
    "## Number of Dwelling Types per Year\n",
    "\n",
    "In this section, you will use `hvplot` to create an interactive visualization of the average number of dwelling types per year with a dropdown selector for the neighbourhood."
   ]
  },
  {
   "cell_type": "code",
   "execution_count": 142,
   "metadata": {},
   "outputs": [
    {
     "data": {
      "text/html": [
       "<div>\n",
       "<style scoped>\n",
       "    .dataframe tbody tr th:only-of-type {\n",
       "        vertical-align: middle;\n",
       "    }\n",
       "\n",
       "    .dataframe tbody tr th {\n",
       "        vertical-align: top;\n",
       "    }\n",
       "\n",
       "    .dataframe thead th {\n",
       "        text-align: right;\n",
       "    }\n",
       "</style>\n",
       "<table border=\"1\" class=\"dataframe\">\n",
       "  <thead>\n",
       "    <tr style=\"text-align: right;\">\n",
       "      <th></th>\n",
       "      <th>year</th>\n",
       "      <th>neighbourhood</th>\n",
       "      <th>single_detached_house</th>\n",
       "      <th>apartment_five_storeys_plus</th>\n",
       "      <th>movable_dwelling</th>\n",
       "      <th>semi_detached_house</th>\n",
       "      <th>row_house</th>\n",
       "      <th>duplex</th>\n",
       "      <th>apartment_five_storeys_less</th>\n",
       "      <th>other_house</th>\n",
       "      <th>average_house_value</th>\n",
       "      <th>shelter_costs_owned</th>\n",
       "      <th>shelter_costs_rented</th>\n",
       "    </tr>\n",
       "  </thead>\n",
       "  <tbody>\n",
       "    <tr>\n",
       "      <th>0</th>\n",
       "      <td>2001</td>\n",
       "      <td>Agincourt North</td>\n",
       "      <td>3715</td>\n",
       "      <td>1480</td>\n",
       "      <td>0</td>\n",
       "      <td>1055</td>\n",
       "      <td>1295</td>\n",
       "      <td>195</td>\n",
       "      <td>185</td>\n",
       "      <td>5</td>\n",
       "      <td>200388</td>\n",
       "      <td>810</td>\n",
       "      <td>870</td>\n",
       "    </tr>\n",
       "    <tr>\n",
       "      <th>1</th>\n",
       "      <td>2001</td>\n",
       "      <td>Agincourt South-Malvern West</td>\n",
       "      <td>3250</td>\n",
       "      <td>1835</td>\n",
       "      <td>0</td>\n",
       "      <td>545</td>\n",
       "      <td>455</td>\n",
       "      <td>105</td>\n",
       "      <td>425</td>\n",
       "      <td>0</td>\n",
       "      <td>203047</td>\n",
       "      <td>806</td>\n",
       "      <td>892</td>\n",
       "    </tr>\n",
       "    <tr>\n",
       "      <th>2</th>\n",
       "      <td>2001</td>\n",
       "      <td>Alderwood</td>\n",
       "      <td>3175</td>\n",
       "      <td>315</td>\n",
       "      <td>0</td>\n",
       "      <td>470</td>\n",
       "      <td>50</td>\n",
       "      <td>185</td>\n",
       "      <td>370</td>\n",
       "      <td>0</td>\n",
       "      <td>259998</td>\n",
       "      <td>817</td>\n",
       "      <td>924</td>\n",
       "    </tr>\n",
       "    <tr>\n",
       "      <th>3</th>\n",
       "      <td>2001</td>\n",
       "      <td>Annex</td>\n",
       "      <td>1060</td>\n",
       "      <td>6090</td>\n",
       "      <td>5</td>\n",
       "      <td>1980</td>\n",
       "      <td>605</td>\n",
       "      <td>275</td>\n",
       "      <td>3710</td>\n",
       "      <td>165</td>\n",
       "      <td>453850</td>\n",
       "      <td>1027</td>\n",
       "      <td>1378</td>\n",
       "    </tr>\n",
       "    <tr>\n",
       "      <th>4</th>\n",
       "      <td>2001</td>\n",
       "      <td>Banbury-Don Mills</td>\n",
       "      <td>3615</td>\n",
       "      <td>4465</td>\n",
       "      <td>0</td>\n",
       "      <td>240</td>\n",
       "      <td>380</td>\n",
       "      <td>15</td>\n",
       "      <td>1360</td>\n",
       "      <td>0</td>\n",
       "      <td>371864</td>\n",
       "      <td>1007</td>\n",
       "      <td>1163</td>\n",
       "    </tr>\n",
       "  </tbody>\n",
       "</table>\n",
       "</div>"
      ],
      "text/plain": [
       "   year                 neighbourhood  single_detached_house  \\\n",
       "0  2001               Agincourt North                   3715   \n",
       "1  2001  Agincourt South-Malvern West                   3250   \n",
       "2  2001                     Alderwood                   3175   \n",
       "3  2001                         Annex                   1060   \n",
       "4  2001             Banbury-Don Mills                   3615   \n",
       "\n",
       "   apartment_five_storeys_plus  movable_dwelling  semi_detached_house  \\\n",
       "0                         1480                 0                 1055   \n",
       "1                         1835                 0                  545   \n",
       "2                          315                 0                  470   \n",
       "3                         6090                 5                 1980   \n",
       "4                         4465                 0                  240   \n",
       "\n",
       "   row_house  duplex  apartment_five_storeys_less  other_house  \\\n",
       "0       1295     195                          185            5   \n",
       "1        455     105                          425            0   \n",
       "2         50     185                          370            0   \n",
       "3        605     275                         3710          165   \n",
       "4        380      15                         1360            0   \n",
       "\n",
       "   average_house_value  shelter_costs_owned  shelter_costs_rented  \n",
       "0               200388                  810                   870  \n",
       "1               203047                  806                   892  \n",
       "2               259998                  817                   924  \n",
       "3               453850                 1027                  1378  \n",
       "4               371864                 1007                  1163  "
      ]
     },
     "execution_count": 142,
     "metadata": {},
     "output_type": "execute_result"
    }
   ],
   "source": [
    "# Fetch the data of all dwelling types per year\n",
    "to_data_3.head(5)"
   ]
  },
  {
   "cell_type": "code",
   "execution_count": 143,
   "metadata": {},
   "outputs": [
    {
     "data": {},
     "metadata": {},
     "output_type": "display_data"
    },
    {
     "data": {
      "application/vnd.holoviews_exec.v0+json": "",
      "text/html": [
       "<div id='7688'>\n",
       "\n",
       "\n",
       "\n",
       "\n",
       "\n",
       "  <div class=\"bk-root\" id=\"02b36835-a3dd-4bfe-b5f0-3f48eed1d390\" data-root-id=\"7688\"></div>\n",
       "</div>\n",
       "<script type=\"application/javascript\">(function(root) {\n",
       "  function embed_document(root) {\n",
       "    var docs_json = {\"70500622-8dc2-4d9b-ad8c-660be664a17b\":{\"defs\":[],\"roots\":{\"references\":[{\"attributes\":{},\"id\":\"7724\",\"type\":\"Selection\"},{\"attributes\":{},\"id\":\"7747\",\"type\":\"UnionRenderers\"},{\"attributes\":{\"data\":{\"Variable\":[\"year\",\"year\",\"year\",\"year\",\"year\",\"year\",\"year\",\"year\",\"year\",\"year\",\"year\",\"year\",\"year\",\"year\",\"year\",\"year\",\"year\",\"year\",\"year\",\"year\",\"year\",\"year\",\"year\",\"year\",\"year\",\"year\",\"year\",\"year\",\"year\",\"year\",\"year\",\"year\",\"year\",\"year\",\"year\",\"year\",\"year\",\"year\",\"year\",\"year\",\"year\",\"year\",\"year\",\"year\",\"year\",\"year\",\"year\",\"year\",\"year\",\"year\",\"year\",\"year\",\"year\",\"year\",\"year\",\"year\",\"year\",\"year\",\"year\",\"year\",\"year\",\"year\",\"year\",\"year\",\"year\",\"year\",\"year\",\"year\",\"year\",\"year\",\"year\",\"year\",\"year\",\"year\",\"year\",\"year\",\"year\",\"year\",\"year\",\"year\",\"year\",\"year\",\"year\",\"year\",\"year\",\"year\",\"year\",\"year\",\"year\",\"year\",\"year\",\"year\",\"year\",\"year\",\"year\",\"year\",\"year\",\"year\",\"year\",\"year\",\"year\",\"year\",\"year\",\"year\",\"year\",\"year\",\"year\",\"year\",\"year\",\"year\",\"year\",\"year\",\"year\",\"year\",\"year\",\"year\",\"year\",\"year\",\"year\",\"year\",\"year\",\"year\",\"year\",\"year\",\"year\",\"year\",\"year\",\"year\",\"year\",\"year\",\"year\",\"year\",\"year\",\"year\",\"year\",\"year\",\"year\",\"year\",\"year\",\"year\",\"year\",\"year\",\"year\",\"year\",\"year\",\"year\",\"year\",\"year\",\"year\",\"year\",\"year\",\"year\",\"year\",\"year\",\"year\",\"year\",\"year\",\"year\",\"year\",\"year\",\"year\",\"year\",\"year\",\"year\",\"year\",\"year\",\"year\",\"year\",\"year\",\"year\",\"year\",\"year\",\"year\",\"year\",\"year\",\"year\",\"year\",\"year\",\"year\",\"year\",\"year\",\"year\",\"year\",\"year\",\"year\",\"year\",\"year\",\"year\",\"year\",\"year\",\"year\",\"year\",\"year\",\"year\",\"year\",\"year\",\"year\",\"year\",\"year\",\"year\",\"year\",\"year\",\"year\",\"year\",\"year\",\"year\",\"year\",\"year\",\"year\",\"year\",\"year\",\"year\",\"year\",\"year\",\"year\",\"year\",\"year\",\"year\",\"year\",\"year\",\"year\",\"year\",\"year\",\"year\",\"year\",\"year\",\"year\",\"year\",\"year\",\"year\",\"year\",\"year\",\"year\",\"year\",\"year\",\"year\",\"year\",\"year\",\"year\",\"year\",\"year\",\"year\",\"year\",\"year\",\"year\",\"year\",\"year\",\"year\",\"year\",\"year\",\"year\",\"year\",\"year\",\"year\",\"year\",\"year\",\"year\",\"year\",\"year\",\"year\",\"year\",\"year\",\"year\",\"year\",\"year\",\"year\",\"year\",\"year\",\"year\",\"year\",\"year\",\"year\",\"year\",\"year\",\"year\",\"year\",\"year\",\"year\",\"year\",\"year\",\"year\",\"year\",\"year\",\"year\",\"year\",\"year\",\"year\",\"year\",\"year\",\"year\",\"year\",\"year\",\"year\",\"year\",\"year\",\"year\",\"year\",\"year\",\"year\",\"year\",\"year\",\"year\",\"year\",\"year\",\"year\",\"year\",\"year\",\"year\",\"year\",\"year\",\"year\",\"year\",\"year\",\"year\",\"year\",\"year\",\"year\",\"year\",\"year\",\"year\",\"year\",\"year\",\"year\",\"year\",\"year\",\"year\",\"year\",\"year\",\"year\",\"year\",\"year\",\"year\",\"year\",\"year\",\"year\",\"year\",\"year\",\"year\",\"year\",\"year\",\"year\",\"year\",\"year\",\"year\",\"year\",\"year\",\"year\",\"year\",\"year\",\"year\",\"year\",\"year\",\"year\",\"year\",\"year\",\"year\",\"year\",\"year\",\"year\",\"year\",\"year\",\"year\",\"year\",\"year\",\"year\",\"year\",\"year\",\"year\",\"year\",\"year\",\"year\",\"year\",\"year\",\"year\",\"year\",\"year\",\"year\",\"year\",\"year\",\"year\",\"year\",\"year\",\"year\",\"year\",\"year\",\"year\",\"year\",\"year\",\"year\",\"year\",\"year\",\"year\",\"year\",\"year\",\"year\",\"year\",\"year\",\"year\",\"year\",\"year\",\"year\",\"year\",\"year\",\"year\",\"year\",\"year\",\"year\",\"year\",\"year\",\"year\",\"year\",\"year\",\"year\",\"year\",\"year\",\"year\",\"year\",\"year\",\"year\",\"year\",\"year\",\"year\",\"year\",\"year\",\"year\",\"year\",\"year\",\"year\",\"year\",\"year\",\"year\",\"year\",\"year\",\"year\",\"year\",\"year\",\"year\",\"year\",\"year\",\"year\",\"year\",\"year\",\"year\",\"year\",\"year\",\"year\",\"year\",\"year\",\"year\",\"year\",\"year\",\"year\",\"year\",\"year\",\"year\",\"year\",\"year\",\"year\",\"year\",\"year\",\"year\",\"year\",\"year\",\"year\",\"year\",\"year\",\"year\",\"year\",\"year\",\"year\",\"year\",\"year\",\"year\",\"year\",\"year\",\"year\",\"year\",\"year\",\"year\",\"year\",\"year\",\"year\",\"year\",\"year\",\"year\",\"year\",\"year\",\"year\",\"year\",\"year\",\"year\",\"year\",\"year\",\"year\",\"year\",\"year\",\"year\",\"year\",\"year\",\"year\",\"year\",\"year\",\"year\",\"year\",\"year\",\"year\",\"year\",\"year\",\"year\",\"year\",\"year\",\"year\",\"year\",\"year\",\"year\",\"year\",\"year\",\"year\",\"year\",\"year\",\"year\",\"year\",\"year\",\"year\",\"year\",\"year\",\"year\",\"year\",\"year\",\"year\",\"year\",\"year\",\"year\",\"year\",\"year\",\"year\",\"year\",\"year\",\"year\",\"year\",\"year\",\"year\",\"year\",\"year\",\"year\",\"year\",\"year\",\"year\",\"year\",\"year\",\"year\",\"year\",\"year\",\"year\",\"year\",\"year\",\"year\",\"year\",\"year\",\"year\",\"single_detached_house\",\"single_detached_house\",\"single_detached_house\",\"single_detached_house\",\"single_detached_house\",\"single_detached_house\",\"single_detached_house\",\"single_detached_house\",\"single_detached_house\",\"single_detached_house\",\"single_detached_house\",\"single_detached_house\",\"single_detached_house\",\"single_detached_house\",\"single_detached_house\",\"single_detached_house\",\"single_detached_house\",\"single_detached_house\",\"single_detached_house\",\"single_detached_house\",\"single_detached_house\",\"single_detached_house\",\"single_detached_house\",\"single_detached_house\",\"single_detached_house\",\"single_detached_house\",\"single_detached_house\",\"single_detached_house\",\"single_detached_house\",\"single_detached_house\",\"single_detached_house\",\"single_detached_house\",\"single_detached_house\",\"single_detached_house\",\"single_detached_house\",\"single_detached_house\",\"single_detached_house\",\"single_detached_house\",\"single_detached_house\",\"single_detached_house\",\"single_detached_house\",\"single_detached_house\",\"single_detached_house\",\"single_detached_house\",\"single_detached_house\",\"single_detached_house\",\"single_detached_house\",\"single_detached_house\",\"single_detached_house\",\"single_detached_house\",\"single_detached_house\",\"single_detached_house\",\"single_detached_house\",\"single_detached_house\",\"single_detached_house\",\"single_detached_house\",\"single_detached_house\",\"single_detached_house\",\"single_detached_house\",\"single_detached_house\",\"single_detached_house\",\"single_detached_house\",\"single_detached_house\",\"single_detached_house\",\"single_detached_house\",\"single_detached_house\",\"single_detached_house\",\"single_detached_house\",\"single_detached_house\",\"single_detached_house\",\"single_detached_house\",\"single_detached_house\",\"single_detached_house\",\"single_detached_house\",\"single_detached_house\",\"single_detached_house\",\"single_detached_house\",\"single_detached_house\",\"single_detached_house\",\"single_detached_house\",\"single_detached_house\",\"single_detached_house\",\"single_detached_house\",\"single_detached_house\",\"single_detached_house\",\"single_detached_house\",\"single_detached_house\",\"single_detached_house\",\"single_detached_house\",\"single_detached_house\",\"single_detached_house\",\"single_detached_house\",\"single_detached_house\",\"single_detached_house\",\"single_detached_house\",\"single_detached_house\",\"single_detached_house\",\"single_detached_house\",\"single_detached_house\",\"single_detached_house\",\"single_detached_house\",\"single_detached_house\",\"single_detached_house\",\"single_detached_house\",\"single_detached_house\",\"single_detached_house\",\"single_detached_house\",\"single_detached_house\",\"single_detached_house\",\"single_detached_house\",\"single_detached_house\",\"single_detached_house\",\"single_detached_house\",\"single_detached_house\",\"single_detached_house\",\"single_detached_house\",\"single_detached_house\",\"single_detached_house\",\"single_detached_house\",\"single_detached_house\",\"single_detached_house\",\"single_detached_house\",\"single_detached_house\",\"single_detached_house\",\"single_detached_house\",\"single_detached_house\",\"single_detached_house\",\"single_detached_house\",\"single_detached_house\",\"single_detached_house\",\"single_detached_house\",\"single_detached_house\",\"single_detached_house\",\"single_detached_house\",\"single_detached_house\",\"single_detached_house\",\"single_detached_house\",\"single_detached_house\",\"single_detached_house\",\"single_detached_house\",\"single_detached_house\",\"single_detached_house\",\"single_detached_house\",\"single_detached_house\",\"single_detached_house\",\"single_detached_house\",\"single_detached_house\",\"single_detached_house\",\"single_detached_house\",\"single_detached_house\",\"single_detached_house\",\"single_detached_house\",\"single_detached_house\",\"single_detached_house\",\"single_detached_house\",\"single_detached_house\",\"single_detached_house\",\"single_detached_house\",\"single_detached_house\",\"single_detached_house\",\"single_detached_house\",\"single_detached_house\",\"single_detached_house\",\"single_detached_house\",\"single_detached_house\",\"single_detached_house\",\"single_detached_house\",\"single_detached_house\",\"single_detached_house\",\"single_detached_house\",\"single_detached_house\",\"single_detached_house\",\"single_detached_house\",\"single_detached_house\",\"single_detached_house\",\"single_detached_house\",\"single_detached_house\",\"single_detached_house\",\"single_detached_house\",\"single_detached_house\",\"single_detached_house\",\"single_detached_house\",\"single_detached_house\",\"single_detached_house\",\"single_detached_house\",\"single_detached_house\",\"single_detached_house\",\"single_detached_house\",\"single_detached_house\",\"single_detached_house\",\"single_detached_house\",\"single_detached_house\",\"single_detached_house\",\"single_detached_house\",\"single_detached_house\",\"single_detached_house\",\"single_detached_house\",\"single_detached_house\",\"single_detached_house\",\"single_detached_house\",\"single_detached_house\",\"single_detached_house\",\"single_detached_house\",\"single_detached_house\",\"single_detached_house\",\"single_detached_house\",\"single_detached_house\",\"single_detached_house\",\"single_detached_house\",\"single_detached_house\",\"single_detached_house\",\"single_detached_house\",\"single_detached_house\",\"single_detached_house\",\"single_detached_house\",\"single_detached_house\",\"single_detached_house\",\"single_detached_house\",\"single_detached_house\",\"single_detached_house\",\"single_detached_house\",\"single_detached_house\",\"single_detached_house\",\"single_detached_house\",\"single_detached_house\",\"single_detached_house\",\"single_detached_house\",\"single_detached_house\",\"single_detached_house\",\"single_detached_house\",\"single_detached_house\",\"single_detached_house\",\"single_detached_house\",\"single_detached_house\",\"single_detached_house\",\"single_detached_house\",\"single_detached_house\",\"single_detached_house\",\"single_detached_house\",\"single_detached_house\",\"single_detached_house\",\"single_detached_house\",\"single_detached_house\",\"single_detached_house\",\"single_detached_house\",\"single_detached_house\",\"single_detached_house\",\"single_detached_house\",\"single_detached_house\",\"single_detached_house\",\"single_detached_house\",\"single_detached_house\",\"single_detached_house\",\"single_detached_house\",\"single_detached_house\",\"single_detached_house\",\"single_detached_house\",\"single_detached_house\",\"single_detached_house\",\"single_detached_house\",\"single_detached_house\",\"single_detached_house\",\"single_detached_house\",\"single_detached_house\",\"single_detached_house\",\"single_detached_house\",\"single_detached_house\",\"single_detached_house\",\"single_detached_house\",\"single_detached_house\",\"single_detached_house\",\"single_detached_house\",\"single_detached_house\",\"single_detached_house\",\"single_detached_house\",\"single_detached_house\",\"single_detached_house\",\"single_detached_house\",\"single_detached_house\",\"single_detached_house\",\"single_detached_house\",\"single_detached_house\",\"single_detached_house\",\"single_detached_house\",\"single_detached_house\",\"single_detached_house\",\"single_detached_house\",\"single_detached_house\",\"single_detached_house\",\"single_detached_house\",\"single_detached_house\",\"single_detached_house\",\"single_detached_house\",\"single_detached_house\",\"single_detached_house\",\"single_detached_house\",\"single_detached_house\",\"single_detached_house\",\"single_detached_house\",\"single_detached_house\",\"single_detached_house\",\"single_detached_house\",\"single_detached_house\",\"single_detached_house\",\"single_detached_house\",\"single_detached_house\",\"single_detached_house\",\"single_detached_house\",\"single_detached_house\",\"single_detached_house\",\"single_detached_house\",\"single_detached_house\",\"single_detached_house\",\"single_detached_house\",\"single_detached_house\",\"single_detached_house\",\"single_detached_house\",\"single_detached_house\",\"single_detached_house\",\"single_detached_house\",\"single_detached_house\",\"single_detached_house\",\"single_detached_house\",\"single_detached_house\",\"single_detached_house\",\"single_detached_house\",\"single_detached_house\",\"single_detached_house\",\"single_detached_house\",\"single_detached_house\",\"single_detached_house\",\"single_detached_house\",\"single_detached_house\",\"single_detached_house\",\"single_detached_house\",\"single_detached_house\",\"single_detached_house\",\"single_detached_house\",\"single_detached_house\",\"single_detached_house\",\"single_detached_house\",\"single_detached_house\",\"single_detached_house\",\"single_detached_house\",\"single_detached_house\",\"single_detached_house\",\"single_detached_house\",\"single_detached_house\",\"single_detached_house\",\"single_detached_house\",\"single_detached_house\",\"single_detached_house\",\"single_detached_house\",\"single_detached_house\",\"single_detached_house\",\"single_detached_house\",\"single_detached_house\",\"single_detached_house\",\"single_detached_house\",\"single_detached_house\",\"single_detached_house\",\"single_detached_house\",\"single_detached_house\",\"single_detached_house\",\"single_detached_house\",\"single_detached_house\",\"single_detached_house\",\"single_detached_house\",\"single_detached_house\",\"single_detached_house\",\"single_detached_house\",\"single_detached_house\",\"single_detached_house\",\"single_detached_house\",\"single_detached_house\",\"single_detached_house\",\"single_detached_house\",\"single_detached_house\",\"single_detached_house\",\"single_detached_house\",\"single_detached_house\",\"single_detached_house\",\"single_detached_house\",\"single_detached_house\",\"single_detached_house\",\"single_detached_house\",\"single_detached_house\",\"single_detached_house\",\"single_detached_house\",\"single_detached_house\",\"single_detached_house\",\"single_detached_house\",\"single_detached_house\",\"single_detached_house\",\"single_detached_house\",\"single_detached_house\",\"single_detached_house\",\"single_detached_house\",\"single_detached_house\",\"single_detached_house\",\"single_detached_house\",\"single_detached_house\",\"single_detached_house\",\"single_detached_house\",\"single_detached_house\",\"single_detached_house\",\"single_detached_house\",\"single_detached_house\",\"single_detached_house\",\"single_detached_house\",\"single_detached_house\",\"single_detached_house\",\"single_detached_house\",\"single_detached_house\",\"single_detached_house\",\"single_detached_house\",\"single_detached_house\",\"single_detached_house\",\"single_detached_house\",\"single_detached_house\",\"single_detached_house\",\"single_detached_house\",\"single_detached_house\",\"single_detached_house\",\"single_detached_house\",\"single_detached_house\",\"single_detached_house\",\"single_detached_house\",\"single_detached_house\",\"single_detached_house\",\"single_detached_house\",\"single_detached_house\",\"single_detached_house\",\"single_detached_house\",\"single_detached_house\",\"single_detached_house\",\"single_detached_house\",\"single_detached_house\",\"single_detached_house\",\"single_detached_house\",\"single_detached_house\",\"single_detached_house\",\"single_detached_house\",\"single_detached_house\",\"single_detached_house\",\"single_detached_house\",\"single_detached_house\",\"single_detached_house\",\"single_detached_house\",\"single_detached_house\",\"single_detached_house\",\"single_detached_house\",\"single_detached_house\",\"single_detached_house\",\"single_detached_house\",\"single_detached_house\",\"single_detached_house\",\"single_detached_house\",\"single_detached_house\",\"single_detached_house\",\"single_detached_house\",\"single_detached_house\",\"single_detached_house\",\"single_detached_house\",\"single_detached_house\",\"single_detached_house\",\"single_detached_house\",\"single_detached_house\",\"single_detached_house\",\"single_detached_house\",\"single_detached_house\",\"single_detached_house\",\"single_detached_house\",\"single_detached_house\",\"single_detached_house\",\"single_detached_house\",\"single_detached_house\",\"single_detached_house\",\"single_detached_house\",\"single_detached_house\",\"single_detached_house\",\"single_detached_house\",\"single_detached_house\",\"single_detached_house\",\"single_detached_house\",\"single_detached_house\",\"single_detached_house\",\"single_detached_house\",\"single_detached_house\",\"single_detached_house\",\"single_detached_house\",\"single_detached_house\",\"single_detached_house\",\"single_detached_house\",\"single_detached_house\",\"single_detached_house\",\"single_detached_house\",\"single_detached_house\",\"single_detached_house\",\"single_detached_house\",\"single_detached_house\",\"single_detached_house\",\"single_detached_house\",\"single_detached_house\",\"single_detached_house\",\"single_detached_house\",\"single_detached_house\",\"single_detached_house\",\"single_detached_house\",\"single_detached_house\",\"single_detached_house\",\"single_detached_house\",\"single_detached_house\",\"single_detached_house\",\"single_detached_house\",\"single_detached_house\",\"single_detached_house\",\"single_detached_house\",\"single_detached_house\",\"single_detached_house\",\"single_detached_house\",\"single_detached_house\",\"single_detached_house\",\"single_detached_house\",\"single_detached_house\",\"single_detached_house\",\"single_detached_house\",\"single_detached_house\",\"single_detached_house\",\"single_detached_house\",\"single_detached_house\",\"single_detached_house\",\"single_detached_house\",\"single_detached_house\",\"single_detached_house\",\"single_detached_house\",\"single_detached_house\",\"single_detached_house\",\"single_detached_house\",\"single_detached_house\",\"single_detached_house\",\"single_detached_house\",\"single_detached_house\",\"single_detached_house\",\"single_detached_house\",\"single_detached_house\",\"single_detached_house\",\"single_detached_house\",\"single_detached_house\",\"single_detached_house\",\"single_detached_house\",\"single_detached_house\",\"single_detached_house\",\"single_detached_house\",\"single_detached_house\",\"single_detached_house\",\"single_detached_house\",\"single_detached_house\",\"single_detached_house\",\"single_detached_house\",\"apartment_five_storeys_plus\",\"apartment_five_storeys_plus\",\"apartment_five_storeys_plus\",\"apartment_five_storeys_plus\",\"apartment_five_storeys_plus\",\"apartment_five_storeys_plus\",\"apartment_five_storeys_plus\",\"apartment_five_storeys_plus\",\"apartment_five_storeys_plus\",\"apartment_five_storeys_plus\",\"apartment_five_storeys_plus\",\"apartment_five_storeys_plus\",\"apartment_five_storeys_plus\",\"apartment_five_storeys_plus\",\"apartment_five_storeys_plus\",\"apartment_five_storeys_plus\",\"apartment_five_storeys_plus\",\"apartment_five_storeys_plus\",\"apartment_five_storeys_plus\",\"apartment_five_storeys_plus\",\"apartment_five_storeys_plus\",\"apartment_five_storeys_plus\",\"apartment_five_storeys_plus\",\"apartment_five_storeys_plus\",\"apartment_five_storeys_plus\",\"apartment_five_storeys_plus\",\"apartment_five_storeys_plus\",\"apartment_five_storeys_plus\",\"apartment_five_storeys_plus\",\"apartment_five_storeys_plus\",\"apartment_five_storeys_plus\",\"apartment_five_storeys_plus\",\"apartment_five_storeys_plus\",\"apartment_five_storeys_plus\",\"apartment_five_storeys_plus\",\"apartment_five_storeys_plus\",\"apartment_five_storeys_plus\",\"apartment_five_storeys_plus\",\"apartment_five_storeys_plus\",\"apartment_five_storeys_plus\",\"apartment_five_storeys_plus\",\"apartment_five_storeys_plus\",\"apartment_five_storeys_plus\",\"apartment_five_storeys_plus\",\"apartment_five_storeys_plus\",\"apartment_five_storeys_plus\",\"apartment_five_storeys_plus\",\"apartment_five_storeys_plus\",\"apartment_five_storeys_plus\",\"apartment_five_storeys_plus\",\"apartment_five_storeys_plus\",\"apartment_five_storeys_plus\",\"apartment_five_storeys_plus\",\"apartment_five_storeys_plus\",\"apartment_five_storeys_plus\",\"apartment_five_storeys_plus\",\"apartment_five_storeys_plus\",\"apartment_five_storeys_plus\",\"apartment_five_storeys_plus\",\"apartment_five_storeys_plus\",\"apartment_five_storeys_plus\",\"apartment_five_storeys_plus\",\"apartment_five_storeys_plus\",\"apartment_five_storeys_plus\",\"apartment_five_storeys_plus\",\"apartment_five_storeys_plus\",\"apartment_five_storeys_plus\",\"apartment_five_storeys_plus\",\"apartment_five_storeys_plus\",\"apartment_five_storeys_plus\",\"apartment_five_storeys_plus\",\"apartment_five_storeys_plus\",\"apartment_five_storeys_plus\",\"apartment_five_storeys_plus\",\"apartment_five_storeys_plus\",\"apartment_five_storeys_plus\",\"apartment_five_storeys_plus\",\"apartment_five_storeys_plus\",\"apartment_five_storeys_plus\",\"apartment_five_storeys_plus\",\"apartment_five_storeys_plus\",\"apartment_five_storeys_plus\",\"apartment_five_storeys_plus\",\"apartment_five_storeys_plus\",\"apartment_five_storeys_plus\",\"apartment_five_storeys_plus\",\"apartment_five_storeys_plus\",\"apartment_five_storeys_plus\",\"apartment_five_storeys_plus\",\"apartment_five_storeys_plus\",\"apartment_five_storeys_plus\",\"apartment_five_storeys_plus\",\"apartment_five_storeys_plus\",\"apartment_five_storeys_plus\",\"apartment_five_storeys_plus\",\"apartment_five_storeys_plus\",\"apartment_five_storeys_plus\",\"apartment_five_storeys_plus\",\"apartment_five_storeys_plus\",\"apartment_five_storeys_plus\",\"apartment_five_storeys_plus\",\"apartment_five_storeys_plus\",\"apartment_five_storeys_plus\",\"apartment_five_storeys_plus\",\"apartment_five_storeys_plus\",\"apartment_five_storeys_plus\",\"apartment_five_storeys_plus\",\"apartment_five_storeys_plus\",\"apartment_five_storeys_plus\",\"apartment_five_storeys_plus\",\"apartment_five_storeys_plus\",\"apartment_five_storeys_plus\",\"apartment_five_storeys_plus\",\"apartment_five_storeys_plus\",\"apartment_five_storeys_plus\",\"apartment_five_storeys_plus\",\"apartment_five_storeys_plus\",\"apartment_five_storeys_plus\",\"apartment_five_storeys_plus\",\"apartment_five_storeys_plus\",\"apartment_five_storeys_plus\",\"apartment_five_storeys_plus\",\"apartment_five_storeys_plus\",\"apartment_five_storeys_plus\",\"apartment_five_storeys_plus\",\"apartment_five_storeys_plus\",\"apartment_five_storeys_plus\",\"apartment_five_storeys_plus\",\"apartment_five_storeys_plus\",\"apartment_five_storeys_plus\",\"apartment_five_storeys_plus\",\"apartment_five_storeys_plus\",\"apartment_five_storeys_plus\",\"apartment_five_storeys_plus\",\"apartment_five_storeys_plus\",\"apartment_five_storeys_plus\",\"apartment_five_storeys_plus\",\"apartment_five_storeys_plus\",\"apartment_five_storeys_plus\",\"apartment_five_storeys_plus\",\"apartment_five_storeys_plus\",\"apartment_five_storeys_plus\",\"apartment_five_storeys_plus\",\"apartment_five_storeys_plus\",\"apartment_five_storeys_plus\",\"apartment_five_storeys_plus\",\"apartment_five_storeys_plus\",\"apartment_five_storeys_plus\",\"apartment_five_storeys_plus\",\"apartment_five_storeys_plus\",\"apartment_five_storeys_plus\",\"apartment_five_storeys_plus\",\"apartment_five_storeys_plus\",\"apartment_five_storeys_plus\",\"apartment_five_storeys_plus\",\"apartment_five_storeys_plus\",\"apartment_five_storeys_plus\",\"apartment_five_storeys_plus\",\"apartment_five_storeys_plus\",\"apartment_five_storeys_plus\",\"apartment_five_storeys_plus\",\"apartment_five_storeys_plus\",\"apartment_five_storeys_plus\",\"apartment_five_storeys_plus\",\"apartment_five_storeys_plus\",\"apartment_five_storeys_plus\",\"apartment_five_storeys_plus\",\"apartment_five_storeys_plus\",\"apartment_five_storeys_plus\",\"apartment_five_storeys_plus\",\"apartment_five_storeys_plus\",\"apartment_five_storeys_plus\",\"apartment_five_storeys_plus\",\"apartment_five_storeys_plus\",\"apartment_five_storeys_plus\",\"apartment_five_storeys_plus\",\"apartment_five_storeys_plus\",\"apartment_five_storeys_plus\",\"apartment_five_storeys_plus\",\"apartment_five_storeys_plus\",\"apartment_five_storeys_plus\",\"apartment_five_storeys_plus\",\"apartment_five_storeys_plus\",\"apartment_five_storeys_plus\",\"apartment_five_storeys_plus\",\"apartment_five_storeys_plus\",\"apartment_five_storeys_plus\",\"apartment_five_storeys_plus\",\"apartment_five_storeys_plus\",\"apartment_five_storeys_plus\",\"apartment_five_storeys_plus\",\"apartment_five_storeys_plus\",\"apartment_five_storeys_plus\",\"apartment_five_storeys_plus\",\"apartment_five_storeys_plus\",\"apartment_five_storeys_plus\",\"apartment_five_storeys_plus\",\"apartment_five_storeys_plus\",\"apartment_five_storeys_plus\",\"apartment_five_storeys_plus\",\"apartment_five_storeys_plus\",\"apartment_five_storeys_plus\",\"apartment_five_storeys_plus\",\"apartment_five_storeys_plus\",\"apartment_five_storeys_plus\",\"apartment_five_storeys_plus\",\"apartment_five_storeys_plus\",\"apartment_five_storeys_plus\",\"apartment_five_storeys_plus\",\"apartment_five_storeys_plus\",\"apartment_five_storeys_plus\",\"apartment_five_storeys_plus\",\"apartment_five_storeys_plus\",\"apartment_five_storeys_plus\",\"apartment_five_storeys_plus\",\"apartment_five_storeys_plus\",\"apartment_five_storeys_plus\",\"apartment_five_storeys_plus\",\"apartment_five_storeys_plus\",\"apartment_five_storeys_plus\",\"apartment_five_storeys_plus\",\"apartment_five_storeys_plus\",\"apartment_five_storeys_plus\",\"apartment_five_storeys_plus\",\"apartment_five_storeys_plus\",\"apartment_five_storeys_plus\",\"apartment_five_storeys_plus\",\"apartment_five_storeys_plus\",\"apartment_five_storeys_plus\",\"apartment_five_storeys_plus\",\"apartment_five_storeys_plus\",\"apartment_five_storeys_plus\",\"apartment_five_storeys_plus\",\"apartment_five_storeys_plus\",\"apartment_five_storeys_plus\",\"apartment_five_storeys_plus\",\"apartment_five_storeys_plus\",\"apartment_five_storeys_plus\",\"apartment_five_storeys_plus\",\"apartment_five_storeys_plus\",\"apartment_five_storeys_plus\",\"apartment_five_storeys_plus\",\"apartment_five_storeys_plus\",\"apartment_five_storeys_plus\",\"apartment_five_storeys_plus\",\"apartment_five_storeys_plus\",\"apartment_five_storeys_plus\",\"apartment_five_storeys_plus\",\"apartment_five_storeys_plus\",\"apartment_five_storeys_plus\",\"apartment_five_storeys_plus\",\"apartment_five_storeys_plus\",\"apartment_five_storeys_plus\",\"apartment_five_storeys_plus\",\"apartment_five_storeys_plus\",\"apartment_five_storeys_plus\",\"apartment_five_storeys_plus\",\"apartment_five_storeys_plus\",\"apartment_five_storeys_plus\",\"apartment_five_storeys_plus\",\"apartment_five_storeys_plus\",\"apartment_five_storeys_plus\",\"apartment_five_storeys_plus\",\"apartment_five_storeys_plus\",\"apartment_five_storeys_plus\",\"apartment_five_storeys_plus\",\"apartment_five_storeys_plus\",\"apartment_five_storeys_plus\",\"apartment_five_storeys_plus\",\"apartment_five_storeys_plus\",\"apartment_five_storeys_plus\",\"apartment_five_storeys_plus\",\"apartment_five_storeys_plus\",\"apartment_five_storeys_plus\",\"apartment_five_storeys_plus\",\"apartment_five_storeys_plus\",\"apartment_five_storeys_plus\",\"apartment_five_storeys_plus\",\"apartment_five_storeys_plus\",\"apartment_five_storeys_plus\",\"apartment_five_storeys_plus\",\"apartment_five_storeys_plus\",\"apartment_five_storeys_plus\",\"apartment_five_storeys_plus\",\"apartment_five_storeys_plus\",\"apartment_five_storeys_plus\",\"apartment_five_storeys_plus\",\"apartment_five_storeys_plus\",\"apartment_five_storeys_plus\",\"apartment_five_storeys_plus\",\"apartment_five_storeys_plus\",\"apartment_five_storeys_plus\",\"apartment_five_storeys_plus\",\"apartment_five_storeys_plus\",\"apartment_five_storeys_plus\",\"apartment_five_storeys_plus\",\"apartment_five_storeys_plus\",\"apartment_five_storeys_plus\",\"apartment_five_storeys_plus\",\"apartment_five_storeys_plus\",\"apartment_five_storeys_plus\",\"apartment_five_storeys_plus\",\"apartment_five_storeys_plus\",\"apartment_five_storeys_plus\",\"apartment_five_storeys_plus\",\"apartment_five_storeys_plus\",\"apartment_five_storeys_plus\",\"apartment_five_storeys_plus\",\"apartment_five_storeys_plus\",\"apartment_five_storeys_plus\",\"apartment_five_storeys_plus\",\"apartment_five_storeys_plus\",\"apartment_five_storeys_plus\",\"apartment_five_storeys_plus\",\"apartment_five_storeys_plus\",\"apartment_five_storeys_plus\",\"apartment_five_storeys_plus\",\"apartment_five_storeys_plus\",\"apartment_five_storeys_plus\",\"apartment_five_storeys_plus\",\"apartment_five_storeys_plus\",\"apartment_five_storeys_plus\",\"apartment_five_storeys_plus\",\"apartment_five_storeys_plus\",\"apartment_five_storeys_plus\",\"apartment_five_storeys_plus\",\"apartment_five_storeys_plus\",\"apartment_five_storeys_plus\",\"apartment_five_storeys_plus\",\"apartment_five_storeys_plus\",\"apartment_five_storeys_plus\",\"apartment_five_storeys_plus\",\"apartment_five_storeys_plus\",\"apartment_five_storeys_plus\",\"apartment_five_storeys_plus\",\"apartment_five_storeys_plus\",\"apartment_five_storeys_plus\",\"apartment_five_storeys_plus\",\"apartment_five_storeys_plus\",\"apartment_five_storeys_plus\",\"apartment_five_storeys_plus\",\"apartment_five_storeys_plus\",\"apartment_five_storeys_plus\",\"apartment_five_storeys_plus\",\"apartment_five_storeys_plus\",\"apartment_five_storeys_plus\",\"apartment_five_storeys_plus\",\"apartment_five_storeys_plus\",\"apartment_five_storeys_plus\",\"apartment_five_storeys_plus\",\"apartment_five_storeys_plus\",\"apartment_five_storeys_plus\",\"apartment_five_storeys_plus\",\"apartment_five_storeys_plus\",\"apartment_five_storeys_plus\",\"apartment_five_storeys_plus\",\"apartment_five_storeys_plus\",\"apartment_five_storeys_plus\",\"apartment_five_storeys_plus\",\"apartment_five_storeys_plus\",\"apartment_five_storeys_plus\",\"apartment_five_storeys_plus\",\"apartment_five_storeys_plus\",\"apartment_five_storeys_plus\",\"apartment_five_storeys_plus\",\"apartment_five_storeys_plus\",\"apartment_five_storeys_plus\",\"apartment_five_storeys_plus\",\"apartment_five_storeys_plus\",\"apartment_five_storeys_plus\",\"apartment_five_storeys_plus\",\"apartment_five_storeys_plus\",\"apartment_five_storeys_plus\",\"apartment_five_storeys_plus\",\"apartment_five_storeys_plus\",\"apartment_five_storeys_plus\",\"apartment_five_storeys_plus\",\"apartment_five_storeys_plus\",\"apartment_five_storeys_plus\",\"apartment_five_storeys_plus\",\"apartment_five_storeys_plus\",\"apartment_five_storeys_plus\",\"apartment_five_storeys_plus\",\"apartment_five_storeys_plus\",\"apartment_five_storeys_plus\",\"apartment_five_storeys_plus\",\"apartment_five_storeys_plus\",\"apartment_five_storeys_plus\",\"apartment_five_storeys_plus\",\"apartment_five_storeys_plus\",\"apartment_five_storeys_plus\",\"apartment_five_storeys_plus\",\"apartment_five_storeys_plus\",\"apartment_five_storeys_plus\",\"apartment_five_storeys_plus\",\"apartment_five_storeys_plus\",\"apartment_five_storeys_plus\",\"apartment_five_storeys_plus\",\"apartment_five_storeys_plus\",\"apartment_five_storeys_plus\",\"apartment_five_storeys_plus\",\"apartment_five_storeys_plus\",\"apartment_five_storeys_plus\",\"apartment_five_storeys_plus\",\"apartment_five_storeys_plus\",\"apartment_five_storeys_plus\",\"apartment_five_storeys_plus\",\"apartment_five_storeys_plus\",\"apartment_five_storeys_plus\",\"apartment_five_storeys_plus\",\"apartment_five_storeys_plus\",\"apartment_five_storeys_plus\",\"apartment_five_storeys_plus\",\"apartment_five_storeys_plus\",\"apartment_five_storeys_plus\",\"apartment_five_storeys_plus\",\"apartment_five_storeys_plus\",\"apartment_five_storeys_plus\",\"apartment_five_storeys_plus\",\"apartment_five_storeys_plus\",\"apartment_five_storeys_plus\",\"apartment_five_storeys_plus\",\"apartment_five_storeys_plus\",\"apartment_five_storeys_plus\",\"apartment_five_storeys_plus\",\"apartment_five_storeys_plus\",\"apartment_five_storeys_plus\",\"apartment_five_storeys_plus\",\"apartment_five_storeys_plus\",\"apartment_five_storeys_plus\",\"apartment_five_storeys_plus\",\"apartment_five_storeys_plus\",\"apartment_five_storeys_plus\",\"apartment_five_storeys_plus\",\"apartment_five_storeys_plus\",\"apartment_five_storeys_plus\",\"apartment_five_storeys_plus\",\"apartment_five_storeys_plus\",\"apartment_five_storeys_plus\",\"apartment_five_storeys_plus\",\"apartment_five_storeys_plus\",\"apartment_five_storeys_plus\",\"apartment_five_storeys_plus\",\"apartment_five_storeys_plus\",\"apartment_five_storeys_plus\",\"apartment_five_storeys_plus\",\"apartment_five_storeys_plus\",\"apartment_five_storeys_plus\",\"apartment_five_storeys_plus\",\"apartment_five_storeys_plus\",\"apartment_five_storeys_plus\",\"apartment_five_storeys_plus\",\"apartment_five_storeys_plus\",\"apartment_five_storeys_plus\",\"apartment_five_storeys_plus\",\"apartment_five_storeys_plus\",\"apartment_five_storeys_plus\",\"apartment_five_storeys_plus\",\"apartment_five_storeys_plus\",\"apartment_five_storeys_plus\",\"apartment_five_storeys_plus\",\"apartment_five_storeys_plus\",\"apartment_five_storeys_plus\",\"apartment_five_storeys_plus\",\"apartment_five_storeys_plus\",\"apartment_five_storeys_plus\",\"apartment_five_storeys_plus\",\"apartment_five_storeys_plus\",\"apartment_five_storeys_plus\",\"apartment_five_storeys_plus\",\"apartment_five_storeys_plus\",\"apartment_five_storeys_plus\",\"apartment_five_storeys_plus\",\"apartment_five_storeys_plus\",\"apartment_five_storeys_plus\",\"apartment_five_storeys_plus\",\"apartment_five_storeys_plus\",\"apartment_five_storeys_plus\",\"apartment_five_storeys_plus\",\"apartment_five_storeys_plus\",\"apartment_five_storeys_plus\",\"apartment_five_storeys_plus\",\"apartment_five_storeys_plus\",\"apartment_five_storeys_plus\",\"apartment_five_storeys_plus\",\"apartment_five_storeys_plus\",\"apartment_five_storeys_plus\",\"apartment_five_storeys_plus\",\"apartment_five_storeys_plus\",\"apartment_five_storeys_plus\",\"apartment_five_storeys_plus\",\"apartment_five_storeys_plus\",\"apartment_five_storeys_plus\",\"apartment_five_storeys_plus\",\"apartment_five_storeys_plus\",\"apartment_five_storeys_plus\",\"apartment_five_storeys_plus\",\"apartment_five_storeys_plus\",\"apartment_five_storeys_plus\",\"apartment_five_storeys_plus\",\"apartment_five_storeys_plus\",\"apartment_five_storeys_plus\",\"apartment_five_storeys_plus\",\"apartment_five_storeys_plus\",\"apartment_five_storeys_plus\",\"apartment_five_storeys_plus\",\"apartment_five_storeys_plus\",\"apartment_five_storeys_plus\",\"apartment_five_storeys_plus\",\"apartment_five_storeys_plus\",\"apartment_five_storeys_plus\",\"apartment_five_storeys_plus\",\"apartment_five_storeys_plus\",\"apartment_five_storeys_plus\",\"apartment_five_storeys_plus\",\"apartment_five_storeys_plus\",\"apartment_five_storeys_plus\",\"apartment_five_storeys_plus\",\"apartment_five_storeys_plus\",\"apartment_five_storeys_plus\",\"apartment_five_storeys_plus\",\"apartment_five_storeys_plus\",\"apartment_five_storeys_plus\",\"apartment_five_storeys_plus\",\"apartment_five_storeys_plus\",\"apartment_five_storeys_plus\",\"apartment_five_storeys_plus\",\"apartment_five_storeys_plus\",\"apartment_five_storeys_plus\",\"apartment_five_storeys_plus\",\"apartment_five_storeys_plus\",\"apartment_five_storeys_plus\",\"apartment_five_storeys_plus\",\"apartment_five_storeys_plus\",\"apartment_five_storeys_plus\",\"apartment_five_storeys_plus\",\"apartment_five_storeys_plus\",\"apartment_five_storeys_plus\",\"apartment_five_storeys_plus\",\"apartment_five_storeys_plus\",\"apartment_five_storeys_plus\",\"apartment_five_storeys_plus\",\"apartment_five_storeys_plus\",\"apartment_five_storeys_plus\",\"apartment_five_storeys_plus\",\"apartment_five_storeys_plus\",\"apartment_five_storeys_plus\",\"apartment_five_storeys_plus\",\"apartment_five_storeys_plus\",\"apartment_five_storeys_plus\",\"apartment_five_storeys_plus\",\"apartment_five_storeys_plus\",\"apartment_five_storeys_plus\",\"apartment_five_storeys_plus\",\"apartment_five_storeys_plus\",\"apartment_five_storeys_plus\",\"apartment_five_storeys_plus\",\"apartment_five_storeys_plus\",\"apartment_five_storeys_plus\",\"apartment_five_storeys_plus\",\"movable_dwelling\",\"movable_dwelling\",\"movable_dwelling\",\"movable_dwelling\",\"movable_dwelling\",\"movable_dwelling\",\"movable_dwelling\",\"movable_dwelling\",\"movable_dwelling\",\"movable_dwelling\",\"movable_dwelling\",\"movable_dwelling\",\"movable_dwelling\",\"movable_dwelling\",\"movable_dwelling\",\"movable_dwelling\",\"movable_dwelling\",\"movable_dwelling\",\"movable_dwelling\",\"movable_dwelling\",\"movable_dwelling\",\"movable_dwelling\",\"movable_dwelling\",\"movable_dwelling\",\"movable_dwelling\",\"movable_dwelling\",\"movable_dwelling\",\"movable_dwelling\",\"movable_dwelling\",\"movable_dwelling\",\"movable_dwelling\",\"movable_dwelling\",\"movable_dwelling\",\"movable_dwelling\",\"movable_dwelling\",\"movable_dwelling\",\"movable_dwelling\",\"movable_dwelling\",\"movable_dwelling\",\"movable_dwelling\",\"movable_dwelling\",\"movable_dwelling\",\"movable_dwelling\",\"movable_dwelling\",\"movable_dwelling\",\"movable_dwelling\",\"movable_dwelling\",\"movable_dwelling\",\"movable_dwelling\",\"movable_dwelling\",\"movable_dwelling\",\"movable_dwelling\",\"movable_dwelling\",\"movable_dwelling\",\"movable_dwelling\",\"movable_dwelling\",\"movable_dwelling\",\"movable_dwelling\",\"movable_dwelling\",\"movable_dwelling\",\"movable_dwelling\",\"movable_dwelling\",\"movable_dwelling\",\"movable_dwelling\",\"movable_dwelling\",\"movable_dwelling\",\"movable_dwelling\",\"movable_dwelling\",\"movable_dwelling\",\"movable_dwelling\",\"movable_dwelling\",\"movable_dwelling\",\"movable_dwelling\",\"movable_dwelling\",\"movable_dwelling\",\"movable_dwelling\",\"movable_dwelling\",\"movable_dwelling\",\"movable_dwelling\",\"movable_dwelling\",\"movable_dwelling\",\"movable_dwelling\",\"movable_dwelling\",\"movable_dwelling\",\"movable_dwelling\",\"movable_dwelling\",\"movable_dwelling\",\"movable_dwelling\",\"movable_dwelling\",\"movable_dwelling\",\"movable_dwelling\",\"movable_dwelling\",\"movable_dwelling\",\"movable_dwelling\",\"movable_dwelling\",\"movable_dwelling\",\"movable_dwelling\",\"movable_dwelling\",\"movable_dwelling\",\"movable_dwelling\",\"movable_dwelling\",\"movable_dwelling\",\"movable_dwelling\",\"movable_dwelling\",\"movable_dwelling\",\"movable_dwelling\",\"movable_dwelling\",\"movable_dwelling\",\"movable_dwelling\",\"movable_dwelling\",\"movable_dwelling\",\"movable_dwelling\",\"movable_dwelling\",\"movable_dwelling\",\"movable_dwelling\",\"movable_dwelling\",\"movable_dwelling\",\"movable_dwelling\",\"movable_dwelling\",\"movable_dwelling\",\"movable_dwelling\",\"movable_dwelling\",\"movable_dwelling\",\"movable_dwelling\",\"movable_dwelling\",\"movable_dwelling\",\"movable_dwelling\",\"movable_dwelling\",\"movable_dwelling\",\"movable_dwelling\",\"movable_dwelling\",\"movable_dwelling\",\"movable_dwelling\",\"movable_dwelling\",\"movable_dwelling\",\"movable_dwelling\",\"movable_dwelling\",\"movable_dwelling\",\"movable_dwelling\",\"movable_dwelling\",\"movable_dwelling\",\"movable_dwelling\",\"movable_dwelling\",\"movable_dwelling\",\"movable_dwelling\",\"movable_dwelling\",\"movable_dwelling\",\"movable_dwelling\",\"movable_dwelling\",\"movable_dwelling\",\"movable_dwelling\",\"movable_dwelling\",\"movable_dwelling\",\"movable_dwelling\",\"movable_dwelling\",\"movable_dwelling\",\"movable_dwelling\",\"movable_dwelling\",\"movable_dwelling\",\"movable_dwelling\",\"movable_dwelling\",\"movable_dwelling\",\"movable_dwelling\",\"movable_dwelling\",\"movable_dwelling\",\"movable_dwelling\",\"movable_dwelling\",\"movable_dwelling\",\"movable_dwelling\",\"movable_dwelling\",\"movable_dwelling\",\"movable_dwelling\",\"movable_dwelling\",\"movable_dwelling\",\"movable_dwelling\",\"movable_dwelling\",\"movable_dwelling\",\"movable_dwelling\",\"movable_dwelling\",\"movable_dwelling\",\"movable_dwelling\",\"movable_dwelling\",\"movable_dwelling\",\"movable_dwelling\",\"movable_dwelling\",\"movable_dwelling\",\"movable_dwelling\",\"movable_dwelling\",\"movable_dwelling\",\"movable_dwelling\",\"movable_dwelling\",\"movable_dwelling\",\"movable_dwelling\",\"movable_dwelling\",\"movable_dwelling\",\"movable_dwelling\",\"movable_dwelling\",\"movable_dwelling\",\"movable_dwelling\",\"movable_dwelling\",\"movable_dwelling\",\"movable_dwelling\",\"movable_dwelling\",\"movable_dwelling\",\"movable_dwelling\",\"movable_dwelling\",\"movable_dwelling\",\"movable_dwelling\",\"movable_dwelling\",\"movable_dwelling\",\"movable_dwelling\",\"movable_dwelling\",\"movable_dwelling\",\"movable_dwelling\",\"movable_dwelling\",\"movable_dwelling\",\"movable_dwelling\",\"movable_dwelling\",\"movable_dwelling\",\"movable_dwelling\",\"movable_dwelling\",\"movable_dwelling\",\"movable_dwelling\",\"movable_dwelling\",\"movable_dwelling\",\"movable_dwelling\",\"movable_dwelling\",\"movable_dwelling\",\"movable_dwelling\",\"movable_dwelling\",\"movable_dwelling\",\"movable_dwelling\",\"movable_dwelling\",\"movable_dwelling\",\"movable_dwelling\",\"movable_dwelling\",\"movable_dwelling\",\"movable_dwelling\",\"movable_dwelling\",\"movable_dwelling\",\"movable_dwelling\",\"movable_dwelling\",\"movable_dwelling\",\"movable_dwelling\",\"movable_dwelling\",\"movable_dwelling\",\"movable_dwelling\",\"movable_dwelling\",\"movable_dwelling\",\"movable_dwelling\",\"movable_dwelling\",\"movable_dwelling\",\"movable_dwelling\",\"movable_dwelling\",\"movable_dwelling\",\"movable_dwelling\",\"movable_dwelling\",\"movable_dwelling\",\"movable_dwelling\",\"movable_dwelling\",\"movable_dwelling\",\"movable_dwelling\",\"movable_dwelling\",\"movable_dwelling\",\"movable_dwelling\",\"movable_dwelling\",\"movable_dwelling\",\"movable_dwelling\",\"movable_dwelling\",\"movable_dwelling\",\"movable_dwelling\",\"movable_dwelling\",\"movable_dwelling\",\"movable_dwelling\",\"movable_dwelling\",\"movable_dwelling\",\"movable_dwelling\",\"movable_dwelling\",\"movable_dwelling\",\"movable_dwelling\",\"movable_dwelling\",\"movable_dwelling\",\"movable_dwelling\",\"movable_dwelling\",\"movable_dwelling\",\"movable_dwelling\",\"movable_dwelling\",\"movable_dwelling\",\"movable_dwelling\",\"movable_dwelling\",\"movable_dwelling\",\"movable_dwelling\",\"movable_dwelling\",\"movable_dwelling\",\"movable_dwelling\",\"movable_dwelling\",\"movable_dwelling\",\"movable_dwelling\",\"movable_dwelling\",\"movable_dwelling\",\"movable_dwelling\",\"movable_dwelling\",\"movable_dwelling\",\"movable_dwelling\",\"movable_dwelling\",\"movable_dwelling\",\"movable_dwelling\",\"movable_dwelling\",\"movable_dwelling\",\"movable_dwelling\",\"movable_dwelling\",\"movable_dwelling\",\"movable_dwelling\",\"movable_dwelling\",\"movable_dwelling\",\"movable_dwelling\",\"movable_dwelling\",\"movable_dwelling\",\"movable_dwelling\",\"movable_dwelling\",\"movable_dwelling\",\"movable_dwelling\",\"movable_dwelling\",\"movable_dwelling\",\"movable_dwelling\",\"movable_dwelling\",\"movable_dwelling\",\"movable_dwelling\",\"movable_dwelling\",\"movable_dwelling\",\"movable_dwelling\",\"movable_dwelling\",\"movable_dwelling\",\"movable_dwelling\",\"movable_dwelling\",\"movable_dwelling\",\"movable_dwelling\",\"movable_dwelling\",\"movable_dwelling\",\"movable_dwelling\",\"movable_dwelling\",\"movable_dwelling\",\"movable_dwelling\",\"movable_dwelling\",\"movable_dwelling\",\"movable_dwelling\",\"movable_dwelling\",\"movable_dwelling\",\"movable_dwelling\",\"movable_dwelling\",\"movable_dwelling\",\"movable_dwelling\",\"movable_dwelling\",\"movable_dwelling\",\"movable_dwelling\",\"movable_dwelling\",\"movable_dwelling\",\"movable_dwelling\",\"movable_dwelling\",\"movable_dwelling\",\"movable_dwelling\",\"movable_dwelling\",\"movable_dwelling\",\"movable_dwelling\",\"movable_dwelling\",\"movable_dwelling\",\"movable_dwelling\",\"movable_dwelling\",\"movable_dwelling\",\"movable_dwelling\",\"movable_dwelling\",\"movable_dwelling\",\"movable_dwelling\",\"movable_dwelling\",\"movable_dwelling\",\"movable_dwelling\",\"movable_dwelling\",\"movable_dwelling\",\"movable_dwelling\",\"movable_dwelling\",\"movable_dwelling\",\"movable_dwelling\",\"movable_dwelling\",\"movable_dwelling\",\"movable_dwelling\",\"movable_dwelling\",\"movable_dwelling\",\"movable_dwelling\",\"movable_dwelling\",\"movable_dwelling\",\"movable_dwelling\",\"movable_dwelling\",\"movable_dwelling\",\"movable_dwelling\",\"movable_dwelling\",\"movable_dwelling\",\"movable_dwelling\",\"movable_dwelling\",\"movable_dwelling\",\"movable_dwelling\",\"movable_dwelling\",\"movable_dwelling\",\"movable_dwelling\",\"movable_dwelling\",\"movable_dwelling\",\"movable_dwelling\",\"movable_dwelling\",\"movable_dwelling\",\"movable_dwelling\",\"movable_dwelling\",\"movable_dwelling\",\"movable_dwelling\",\"movable_dwelling\",\"movable_dwelling\",\"movable_dwelling\",\"movable_dwelling\",\"movable_dwelling\",\"movable_dwelling\",\"movable_dwelling\",\"movable_dwelling\",\"movable_dwelling\",\"movable_dwelling\",\"movable_dwelling\",\"movable_dwelling\",\"movable_dwelling\",\"movable_dwelling\",\"movable_dwelling\",\"movable_dwelling\",\"movable_dwelling\",\"movable_dwelling\",\"movable_dwelling\",\"movable_dwelling\",\"movable_dwelling\",\"movable_dwelling\",\"movable_dwelling\",\"movable_dwelling\",\"movable_dwelling\",\"movable_dwelling\",\"movable_dwelling\",\"movable_dwelling\",\"movable_dwelling\",\"movable_dwelling\",\"movable_dwelling\",\"movable_dwelling\",\"movable_dwelling\",\"movable_dwelling\",\"movable_dwelling\",\"movable_dwelling\",\"movable_dwelling\",\"movable_dwelling\",\"movable_dwelling\",\"movable_dwelling\",\"movable_dwelling\",\"movable_dwelling\",\"movable_dwelling\",\"movable_dwelling\",\"movable_dwelling\",\"movable_dwelling\",\"movable_dwelling\",\"movable_dwelling\",\"movable_dwelling\",\"movable_dwelling\",\"movable_dwelling\",\"movable_dwelling\",\"movable_dwelling\",\"movable_dwelling\",\"movable_dwelling\",\"movable_dwelling\",\"movable_dwelling\",\"movable_dwelling\",\"movable_dwelling\",\"movable_dwelling\",\"movable_dwelling\",\"movable_dwelling\",\"movable_dwelling\",\"movable_dwelling\",\"movable_dwelling\",\"movable_dwelling\",\"movable_dwelling\",\"movable_dwelling\",\"movable_dwelling\",\"movable_dwelling\",\"movable_dwelling\",\"movable_dwelling\",\"movable_dwelling\",\"movable_dwelling\",\"movable_dwelling\",\"movable_dwelling\",\"movable_dwelling\",\"movable_dwelling\",\"movable_dwelling\",\"movable_dwelling\",\"movable_dwelling\",\"movable_dwelling\",\"movable_dwelling\",\"movable_dwelling\",\"movable_dwelling\",\"movable_dwelling\",\"movable_dwelling\",\"movable_dwelling\",\"movable_dwelling\",\"movable_dwelling\",\"movable_dwelling\",\"movable_dwelling\",\"movable_dwelling\",\"movable_dwelling\",\"movable_dwelling\",\"movable_dwelling\",\"movable_dwelling\",\"movable_dwelling\",\"movable_dwelling\",\"movable_dwelling\",\"movable_dwelling\",\"movable_dwelling\",\"movable_dwelling\",\"movable_dwelling\",\"movable_dwelling\",\"movable_dwelling\",\"movable_dwelling\",\"movable_dwelling\",\"movable_dwelling\",\"movable_dwelling\",\"movable_dwelling\",\"movable_dwelling\",\"movable_dwelling\",\"movable_dwelling\",\"movable_dwelling\",\"movable_dwelling\",\"movable_dwelling\",\"movable_dwelling\",\"movable_dwelling\",\"movable_dwelling\",\"movable_dwelling\",\"movable_dwelling\",\"movable_dwelling\",\"movable_dwelling\",\"movable_dwelling\",\"movable_dwelling\",\"movable_dwelling\",\"movable_dwelling\",\"movable_dwelling\",\"movable_dwelling\",\"movable_dwelling\",\"movable_dwelling\",\"movable_dwelling\",\"movable_dwelling\",\"movable_dwelling\",\"movable_dwelling\",\"movable_dwelling\",\"movable_dwelling\",\"movable_dwelling\",\"movable_dwelling\",\"movable_dwelling\",\"movable_dwelling\",\"movable_dwelling\",\"movable_dwelling\",\"movable_dwelling\",\"movable_dwelling\",\"movable_dwelling\",\"movable_dwelling\",\"semi_detached_house\",\"semi_detached_house\",\"semi_detached_house\",\"semi_detached_house\",\"semi_detached_house\",\"semi_detached_house\",\"semi_detached_house\",\"semi_detached_house\",\"semi_detached_house\",\"semi_detached_house\",\"semi_detached_house\",\"semi_detached_house\",\"semi_detached_house\",\"semi_detached_house\",\"semi_detached_house\",\"semi_detached_house\",\"semi_detached_house\",\"semi_detached_house\",\"semi_detached_house\",\"semi_detached_house\",\"semi_detached_house\",\"semi_detached_house\",\"semi_detached_house\",\"semi_detached_house\",\"semi_detached_house\",\"semi_detached_house\",\"semi_detached_house\",\"semi_detached_house\",\"semi_detached_house\",\"semi_detached_house\",\"semi_detached_house\",\"semi_detached_house\",\"semi_detached_house\",\"semi_detached_house\",\"semi_detached_house\",\"semi_detached_house\",\"semi_detached_house\",\"semi_detached_house\",\"semi_detached_house\",\"semi_detached_house\",\"semi_detached_house\",\"semi_detached_house\",\"semi_detached_house\",\"semi_detached_house\",\"semi_detached_house\",\"semi_detached_house\",\"semi_detached_house\",\"semi_detached_house\",\"semi_detached_house\",\"semi_detached_house\",\"semi_detached_house\",\"semi_detached_house\",\"semi_detached_house\",\"semi_detached_house\",\"semi_detached_house\",\"semi_detached_house\",\"semi_detached_house\",\"semi_detached_house\",\"semi_detached_house\",\"semi_detached_house\",\"semi_detached_house\",\"semi_detached_house\",\"semi_detached_house\",\"semi_detached_house\",\"semi_detached_house\",\"semi_detached_house\",\"semi_detached_house\",\"semi_detached_house\",\"semi_detached_house\",\"semi_detached_house\",\"semi_detached_house\",\"semi_detached_house\",\"semi_detached_house\",\"semi_detached_house\",\"semi_detached_house\",\"semi_detached_house\",\"semi_detached_house\",\"semi_detached_house\",\"semi_detached_house\",\"semi_detached_house\",\"semi_detached_house\",\"semi_detached_house\",\"semi_detached_house\",\"semi_detached_house\",\"semi_detached_house\",\"semi_detached_house\",\"semi_detached_house\",\"semi_detached_house\",\"semi_detached_house\",\"semi_detached_house\",\"semi_detached_house\",\"semi_detached_house\",\"semi_detached_house\",\"semi_detached_house\",\"semi_detached_house\",\"semi_detached_house\",\"semi_detached_house\",\"semi_detached_house\",\"semi_detached_house\",\"semi_detached_house\",\"semi_detached_house\",\"semi_detached_house\",\"semi_detached_house\",\"semi_detached_house\",\"semi_detached_house\",\"semi_detached_house\",\"semi_detached_house\",\"semi_detached_house\",\"semi_detached_house\",\"semi_detached_house\",\"semi_detached_house\",\"semi_detached_house\",\"semi_detached_house\",\"semi_detached_house\",\"semi_detached_house\",\"semi_detached_house\",\"semi_detached_house\",\"semi_detached_house\",\"semi_detached_house\",\"semi_detached_house\",\"semi_detached_house\",\"semi_detached_house\",\"semi_detached_house\",\"semi_detached_house\",\"semi_detached_house\",\"semi_detached_house\",\"semi_detached_house\",\"semi_detached_house\",\"semi_detached_house\",\"semi_detached_house\",\"semi_detached_house\",\"semi_detached_house\",\"semi_detached_house\",\"semi_detached_house\",\"semi_detached_house\",\"semi_detached_house\",\"semi_detached_house\",\"semi_detached_house\",\"semi_detached_house\",\"semi_detached_house\",\"semi_detached_house\",\"semi_detached_house\",\"semi_detached_house\",\"semi_detached_house\",\"semi_detached_house\",\"semi_detached_house\",\"semi_detached_house\",\"semi_detached_house\",\"semi_detached_house\",\"semi_detached_house\",\"semi_detached_house\",\"semi_detached_house\",\"semi_detached_house\",\"semi_detached_house\",\"semi_detached_house\",\"semi_detached_house\",\"semi_detached_house\",\"semi_detached_house\",\"semi_detached_house\",\"semi_detached_house\",\"semi_detached_house\",\"semi_detached_house\",\"semi_detached_house\",\"semi_detached_house\",\"semi_detached_house\",\"semi_detached_house\",\"semi_detached_house\",\"semi_detached_house\",\"semi_detached_house\",\"semi_detached_house\",\"semi_detached_house\",\"semi_detached_house\",\"semi_detached_house\",\"semi_detached_house\",\"semi_detached_house\",\"semi_detached_house\",\"semi_detached_house\",\"semi_detached_house\",\"semi_detached_house\",\"semi_detached_house\",\"semi_detached_house\",\"semi_detached_house\",\"semi_detached_house\",\"semi_detached_house\",\"semi_detached_house\",\"semi_detached_house\",\"semi_detached_house\",\"semi_detached_house\",\"semi_detached_house\",\"semi_detached_house\",\"semi_detached_house\",\"semi_detached_house\",\"semi_detached_house\",\"semi_detached_house\",\"semi_detached_house\",\"semi_detached_house\",\"semi_detached_house\",\"semi_detached_house\",\"semi_detached_house\",\"semi_detached_house\",\"semi_detached_house\",\"semi_detached_house\",\"semi_detached_house\",\"semi_detached_house\",\"semi_detached_house\",\"semi_detached_house\",\"semi_detached_house\",\"semi_detached_house\",\"semi_detached_house\",\"semi_detached_house\",\"semi_detached_house\",\"semi_detached_house\",\"semi_detached_house\",\"semi_detached_house\",\"semi_detached_house\",\"semi_detached_house\",\"semi_detached_house\",\"semi_detached_house\",\"semi_detached_house\",\"semi_detached_house\",\"semi_detached_house\",\"semi_detached_house\",\"semi_detached_house\",\"semi_detached_house\",\"semi_detached_house\",\"semi_detached_house\",\"semi_detached_house\",\"semi_detached_house\",\"semi_detached_house\",\"semi_detached_house\",\"semi_detached_house\",\"semi_detached_house\",\"semi_detached_house\",\"semi_detached_house\",\"semi_detached_house\",\"semi_detached_house\",\"semi_detached_house\",\"semi_detached_house\",\"semi_detached_house\",\"semi_detached_house\",\"semi_detached_house\",\"semi_detached_house\",\"semi_detached_house\",\"semi_detached_house\",\"semi_detached_house\",\"semi_detached_house\",\"semi_detached_house\",\"semi_detached_house\",\"semi_detached_house\",\"semi_detached_house\",\"semi_detached_house\",\"semi_detached_house\",\"semi_detached_house\",\"semi_detached_house\",\"semi_detached_house\",\"semi_detached_house\",\"semi_detached_house\",\"semi_detached_house\",\"semi_detached_house\",\"semi_detached_house\",\"semi_detached_house\",\"semi_detached_house\",\"semi_detached_house\",\"semi_detached_house\",\"semi_detached_house\",\"semi_detached_house\",\"semi_detached_house\",\"semi_detached_house\",\"semi_detached_house\",\"semi_detached_house\",\"semi_detached_house\",\"semi_detached_house\",\"semi_detached_house\",\"semi_detached_house\",\"semi_detached_house\",\"semi_detached_house\",\"semi_detached_house\",\"semi_detached_house\",\"semi_detached_house\",\"semi_detached_house\",\"semi_detached_house\",\"semi_detached_house\",\"semi_detached_house\",\"semi_detached_house\",\"semi_detached_house\",\"semi_detached_house\",\"semi_detached_house\",\"semi_detached_house\",\"semi_detached_house\",\"semi_detached_house\",\"semi_detached_house\",\"semi_detached_house\",\"semi_detached_house\",\"semi_detached_house\",\"semi_detached_house\",\"semi_detached_house\",\"semi_detached_house\",\"semi_detached_house\",\"semi_detached_house\",\"semi_detached_house\",\"semi_detached_house\",\"semi_detached_house\",\"semi_detached_house\",\"semi_detached_house\",\"semi_detached_house\",\"semi_detached_house\",\"semi_detached_house\",\"semi_detached_house\",\"semi_detached_house\",\"semi_detached_house\",\"semi_detached_house\",\"semi_detached_house\",\"semi_detached_house\",\"semi_detached_house\",\"semi_detached_house\",\"semi_detached_house\",\"semi_detached_house\",\"semi_detached_house\",\"semi_detached_house\",\"semi_detached_house\",\"semi_detached_house\",\"semi_detached_house\",\"semi_detached_house\",\"semi_detached_house\",\"semi_detached_house\",\"semi_detached_house\",\"semi_detached_house\",\"semi_detached_house\",\"semi_detached_house\",\"semi_detached_house\",\"semi_detached_house\",\"semi_detached_house\",\"semi_detached_house\",\"semi_detached_house\",\"semi_detached_house\",\"semi_detached_house\",\"semi_detached_house\",\"semi_detached_house\",\"semi_detached_house\",\"semi_detached_house\",\"semi_detached_house\",\"semi_detached_house\",\"semi_detached_house\",\"semi_detached_house\",\"semi_detached_house\",\"semi_detached_house\",\"semi_detached_house\",\"semi_detached_house\",\"semi_detached_house\",\"semi_detached_house\",\"semi_detached_house\",\"semi_detached_house\",\"semi_detached_house\",\"semi_detached_house\",\"semi_detached_house\",\"semi_detached_house\",\"semi_detached_house\",\"semi_detached_house\",\"semi_detached_house\",\"semi_detached_house\",\"semi_detached_house\",\"semi_detached_house\",\"semi_detached_house\",\"semi_detached_house\",\"semi_detached_house\",\"semi_detached_house\",\"semi_detached_house\",\"semi_detached_house\",\"semi_detached_house\",\"semi_detached_house\",\"semi_detached_house\",\"semi_detached_house\",\"semi_detached_house\",\"semi_detached_house\",\"semi_detached_house\",\"semi_detached_house\",\"semi_detached_house\",\"semi_detached_house\",\"semi_detached_house\",\"semi_detached_house\",\"semi_detached_house\",\"semi_detached_house\",\"semi_detached_house\",\"semi_detached_house\",\"semi_detached_house\",\"semi_detached_house\",\"semi_detached_house\",\"semi_detached_house\",\"semi_detached_house\",\"semi_detached_house\",\"semi_detached_house\",\"semi_detached_house\",\"semi_detached_house\",\"semi_detached_house\",\"semi_detached_house\",\"semi_detached_house\",\"semi_detached_house\",\"semi_detached_house\",\"semi_detached_house\",\"semi_detached_house\",\"semi_detached_house\",\"semi_detached_house\",\"semi_detached_house\",\"semi_detached_house\",\"semi_detached_house\",\"semi_detached_house\",\"semi_detached_house\",\"semi_detached_house\",\"semi_detached_house\",\"semi_detached_house\",\"semi_detached_house\",\"semi_detached_house\",\"semi_detached_house\",\"semi_detached_house\",\"semi_detached_house\",\"semi_detached_house\",\"semi_detached_house\",\"semi_detached_house\",\"semi_detached_house\",\"semi_detached_house\",\"semi_detached_house\",\"semi_detached_house\",\"semi_detached_house\",\"semi_detached_house\",\"semi_detached_house\",\"semi_detached_house\",\"semi_detached_house\",\"semi_detached_house\",\"semi_detached_house\",\"semi_detached_house\",\"semi_detached_house\",\"semi_detached_house\",\"semi_detached_house\",\"semi_detached_house\",\"semi_detached_house\",\"semi_detached_house\",\"semi_detached_house\",\"semi_detached_house\",\"semi_detached_house\",\"semi_detached_house\",\"semi_detached_house\",\"semi_detached_house\",\"semi_detached_house\",\"semi_detached_house\",\"semi_detached_house\",\"semi_detached_house\",\"semi_detached_house\",\"semi_detached_house\",\"semi_detached_house\",\"semi_detached_house\",\"semi_detached_house\",\"semi_detached_house\",\"semi_detached_house\",\"semi_detached_house\",\"semi_detached_house\",\"semi_detached_house\",\"semi_detached_house\",\"semi_detached_house\",\"semi_detached_house\",\"semi_detached_house\",\"semi_detached_house\",\"semi_detached_house\",\"semi_detached_house\",\"semi_detached_house\",\"semi_detached_house\",\"semi_detached_house\",\"semi_detached_house\",\"semi_detached_house\",\"semi_detached_house\",\"semi_detached_house\",\"semi_detached_house\",\"semi_detached_house\",\"semi_detached_house\",\"semi_detached_house\",\"semi_detached_house\",\"semi_detached_house\",\"semi_detached_house\",\"semi_detached_house\",\"semi_detached_house\",\"semi_detached_house\",\"semi_detached_house\",\"semi_detached_house\",\"semi_detached_house\",\"semi_detached_house\",\"semi_detached_house\",\"semi_detached_house\",\"semi_detached_house\",\"semi_detached_house\",\"semi_detached_house\",\"semi_detached_house\",\"semi_detached_house\",\"semi_detached_house\",\"semi_detached_house\",\"semi_detached_house\",\"semi_detached_house\",\"semi_detached_house\",\"semi_detached_house\",\"semi_detached_house\",\"semi_detached_house\",\"semi_detached_house\",\"semi_detached_house\",\"semi_detached_house\",\"semi_detached_house\",\"semi_detached_house\",\"semi_detached_house\",\"semi_detached_house\",\"semi_detached_house\",\"semi_detached_house\",\"semi_detached_house\",\"semi_detached_house\",\"semi_detached_house\",\"semi_detached_house\",\"semi_detached_house\",\"semi_detached_house\",\"semi_detached_house\",\"semi_detached_house\",\"semi_detached_house\",\"semi_detached_house\",\"semi_detached_house\",\"semi_detached_house\",\"semi_detached_house\",\"semi_detached_house\",\"semi_detached_house\",\"semi_detached_house\",\"semi_detached_house\",\"semi_detached_house\",\"semi_detached_house\",\"semi_detached_house\",\"semi_detached_house\",\"semi_detached_house\",\"semi_detached_house\",\"semi_detached_house\",\"semi_detached_house\",\"semi_detached_house\",\"semi_detached_house\",\"semi_detached_house\",\"semi_detached_house\",\"semi_detached_house\",\"semi_detached_house\",\"semi_detached_house\",\"semi_detached_house\",\"semi_detached_house\",\"semi_detached_house\",\"semi_detached_house\",\"semi_detached_house\",\"semi_detached_house\",\"semi_detached_house\",\"semi_detached_house\",\"semi_detached_house\",\"semi_detached_house\",\"semi_detached_house\",\"semi_detached_house\",\"semi_detached_house\",\"semi_detached_house\",\"semi_detached_house\",\"semi_detached_house\",\"semi_detached_house\",\"semi_detached_house\",\"semi_detached_house\",\"semi_detached_house\",\"row_house\",\"row_house\",\"row_house\",\"row_house\",\"row_house\",\"row_house\",\"row_house\",\"row_house\",\"row_house\",\"row_house\",\"row_house\",\"row_house\",\"row_house\",\"row_house\",\"row_house\",\"row_house\",\"row_house\",\"row_house\",\"row_house\",\"row_house\",\"row_house\",\"row_house\",\"row_house\",\"row_house\",\"row_house\",\"row_house\",\"row_house\",\"row_house\",\"row_house\",\"row_house\",\"row_house\",\"row_house\",\"row_house\",\"row_house\",\"row_house\",\"row_house\",\"row_house\",\"row_house\",\"row_house\",\"row_house\",\"row_house\",\"row_house\",\"row_house\",\"row_house\",\"row_house\",\"row_house\",\"row_house\",\"row_house\",\"row_house\",\"row_house\",\"row_house\",\"row_house\",\"row_house\",\"row_house\",\"row_house\",\"row_house\",\"row_house\",\"row_house\",\"row_house\",\"row_house\",\"row_house\",\"row_house\",\"row_house\",\"row_house\",\"row_house\",\"row_house\",\"row_house\",\"row_house\",\"row_house\",\"row_house\",\"row_house\",\"row_house\",\"row_house\",\"row_house\",\"row_house\",\"row_house\",\"row_house\",\"row_house\",\"row_house\",\"row_house\",\"row_house\",\"row_house\",\"row_house\",\"row_house\",\"row_house\",\"row_house\",\"row_house\",\"row_house\",\"row_house\",\"row_house\",\"row_house\",\"row_house\",\"row_house\",\"row_house\",\"row_house\",\"row_house\",\"row_house\",\"row_house\",\"row_house\",\"row_house\",\"row_house\",\"row_house\",\"row_house\",\"row_house\",\"row_house\",\"row_house\",\"row_house\",\"row_house\",\"row_house\",\"row_house\",\"row_house\",\"row_house\",\"row_house\",\"row_house\",\"row_house\",\"row_house\",\"row_house\",\"row_house\",\"row_house\",\"row_house\",\"row_house\",\"row_house\",\"row_house\",\"row_house\",\"row_house\",\"row_house\",\"row_house\",\"row_house\",\"row_house\",\"row_house\",\"row_house\",\"row_house\",\"row_house\",\"row_house\",\"row_house\",\"row_house\",\"row_house\",\"row_house\",\"row_house\",\"row_house\",\"row_house\",\"row_house\",\"row_house\",\"row_house\",\"row_house\",\"row_house\",\"row_house\",\"row_house\",\"row_house\",\"row_house\",\"row_house\",\"row_house\",\"row_house\",\"row_house\",\"row_house\",\"row_house\",\"row_house\",\"row_house\",\"row_house\",\"row_house\",\"row_house\",\"row_house\",\"row_house\",\"row_house\",\"row_house\",\"row_house\",\"row_house\",\"row_house\",\"row_house\",\"row_house\",\"row_house\",\"row_house\",\"row_house\",\"row_house\",\"row_house\",\"row_house\",\"row_house\",\"row_house\",\"row_house\",\"row_house\",\"row_house\",\"row_house\",\"row_house\",\"row_house\",\"row_house\",\"row_house\",\"row_house\",\"row_house\",\"row_house\",\"row_house\",\"row_house\",\"row_house\",\"row_house\",\"row_house\",\"row_house\",\"row_house\",\"row_house\",\"row_house\",\"row_house\",\"row_house\",\"row_house\",\"row_house\",\"row_house\",\"row_house\",\"row_house\",\"row_house\",\"row_house\",\"row_house\",\"row_house\",\"row_house\",\"row_house\",\"row_house\",\"row_house\",\"row_house\",\"row_house\",\"row_house\",\"row_house\",\"row_house\",\"row_house\",\"row_house\",\"row_house\",\"row_house\",\"row_house\",\"row_house\",\"row_house\",\"row_house\",\"row_house\",\"row_house\",\"row_house\",\"row_house\",\"row_house\",\"row_house\",\"row_house\",\"row_house\",\"row_house\",\"row_house\",\"row_house\",\"row_house\",\"row_house\",\"row_house\",\"row_house\",\"row_house\",\"row_house\",\"row_house\",\"row_house\",\"row_house\",\"row_house\",\"row_house\",\"row_house\",\"row_house\",\"row_house\",\"row_house\",\"row_house\",\"row_house\",\"row_house\",\"row_house\",\"row_house\",\"row_house\",\"row_house\",\"row_house\",\"row_house\",\"row_house\",\"row_house\",\"row_house\",\"row_house\",\"row_house\",\"row_house\",\"row_house\",\"row_house\",\"row_house\",\"row_house\",\"row_house\",\"row_house\",\"row_house\",\"row_house\",\"row_house\",\"row_house\",\"row_house\",\"row_house\",\"row_house\",\"row_house\",\"row_house\",\"row_house\",\"row_house\",\"row_house\",\"row_house\",\"row_house\",\"row_house\",\"row_house\",\"row_house\",\"row_house\",\"row_house\",\"row_house\",\"row_house\",\"row_house\",\"row_house\",\"row_house\",\"row_house\",\"row_house\",\"row_house\",\"row_house\",\"row_house\",\"row_house\",\"row_house\",\"row_house\",\"row_house\",\"row_house\",\"row_house\",\"row_house\",\"row_house\",\"row_house\",\"row_house\",\"row_house\",\"row_house\",\"row_house\",\"row_house\",\"row_house\",\"row_house\",\"row_house\",\"row_house\",\"row_house\",\"row_house\",\"row_house\",\"row_house\",\"row_house\",\"row_house\",\"row_house\",\"row_house\",\"row_house\",\"row_house\",\"row_house\",\"row_house\",\"row_house\",\"row_house\",\"row_house\",\"row_house\",\"row_house\",\"row_house\",\"row_house\",\"row_house\",\"row_house\",\"row_house\",\"row_house\",\"row_house\",\"row_house\",\"row_house\",\"row_house\",\"row_house\",\"row_house\",\"row_house\",\"row_house\",\"row_house\",\"row_house\",\"row_house\",\"row_house\",\"row_house\",\"row_house\",\"row_house\",\"row_house\",\"row_house\",\"row_house\",\"row_house\",\"row_house\",\"row_house\",\"row_house\",\"row_house\",\"row_house\",\"row_house\",\"row_house\",\"row_house\",\"row_house\",\"row_house\",\"row_house\",\"row_house\",\"row_house\",\"row_house\",\"row_house\",\"row_house\",\"row_house\",\"row_house\",\"row_house\",\"row_house\",\"row_house\",\"row_house\",\"row_house\",\"row_house\",\"row_house\",\"row_house\",\"row_house\",\"row_house\",\"row_house\",\"row_house\",\"row_house\",\"row_house\",\"row_house\",\"row_house\",\"row_house\",\"row_house\",\"row_house\",\"row_house\",\"row_house\",\"row_house\",\"row_house\",\"row_house\",\"row_house\",\"row_house\",\"row_house\",\"row_house\",\"row_house\",\"row_house\",\"row_house\",\"row_house\",\"row_house\",\"row_house\",\"row_house\",\"row_house\",\"row_house\",\"row_house\",\"row_house\",\"row_house\",\"row_house\",\"row_house\",\"row_house\",\"row_house\",\"row_house\",\"row_house\",\"row_house\",\"row_house\",\"row_house\",\"row_house\",\"row_house\",\"row_house\",\"row_house\",\"row_house\",\"row_house\",\"row_house\",\"row_house\",\"row_house\",\"row_house\",\"row_house\",\"row_house\",\"row_house\",\"row_house\",\"row_house\",\"row_house\",\"row_house\",\"row_house\",\"row_house\",\"row_house\",\"row_house\",\"row_house\",\"row_house\",\"row_house\",\"row_house\",\"row_house\",\"row_house\",\"row_house\",\"row_house\",\"row_house\",\"row_house\",\"row_house\",\"row_house\",\"row_house\",\"row_house\",\"row_house\",\"row_house\",\"row_house\",\"row_house\",\"row_house\",\"row_house\",\"row_house\",\"row_house\",\"row_house\",\"row_house\",\"row_house\",\"row_house\",\"row_house\",\"row_house\",\"row_house\",\"row_house\",\"row_house\",\"row_house\",\"row_house\",\"row_house\",\"row_house\",\"row_house\",\"row_house\",\"row_house\",\"row_house\",\"row_house\",\"row_house\",\"row_house\",\"row_house\",\"row_house\",\"row_house\",\"row_house\",\"row_house\",\"row_house\",\"row_house\",\"row_house\",\"row_house\",\"row_house\",\"row_house\",\"row_house\",\"row_house\",\"row_house\",\"row_house\",\"row_house\",\"row_house\",\"row_house\",\"row_house\",\"row_house\",\"row_house\",\"row_house\",\"row_house\",\"row_house\",\"row_house\",\"row_house\",\"row_house\",\"row_house\",\"row_house\",\"row_house\",\"row_house\",\"row_house\",\"row_house\",\"row_house\",\"row_house\",\"row_house\",\"row_house\",\"row_house\",\"row_house\",\"row_house\",\"row_house\",\"row_house\",\"row_house\",\"row_house\",\"row_house\",\"row_house\",\"row_house\",\"row_house\",\"row_house\",\"row_house\",\"row_house\",\"row_house\",\"row_house\",\"row_house\",\"row_house\",\"row_house\",\"row_house\",\"row_house\",\"row_house\",\"row_house\",\"row_house\",\"row_house\",\"row_house\",\"row_house\",\"row_house\",\"row_house\",\"row_house\",\"row_house\",\"duplex\",\"duplex\",\"duplex\",\"duplex\",\"duplex\",\"duplex\",\"duplex\",\"duplex\",\"duplex\",\"duplex\",\"duplex\",\"duplex\",\"duplex\",\"duplex\",\"duplex\",\"duplex\",\"duplex\",\"duplex\",\"duplex\",\"duplex\",\"duplex\",\"duplex\",\"duplex\",\"duplex\",\"duplex\",\"duplex\",\"duplex\",\"duplex\",\"duplex\",\"duplex\",\"duplex\",\"duplex\",\"duplex\",\"duplex\",\"duplex\",\"duplex\",\"duplex\",\"duplex\",\"duplex\",\"duplex\",\"duplex\",\"duplex\",\"duplex\",\"duplex\",\"duplex\",\"duplex\",\"duplex\",\"duplex\",\"duplex\",\"duplex\",\"duplex\",\"duplex\",\"duplex\",\"duplex\",\"duplex\",\"duplex\",\"duplex\",\"duplex\",\"duplex\",\"duplex\",\"duplex\",\"duplex\",\"duplex\",\"duplex\",\"duplex\",\"duplex\",\"duplex\",\"duplex\",\"duplex\",\"duplex\",\"duplex\",\"duplex\",\"duplex\",\"duplex\",\"duplex\",\"duplex\",\"duplex\",\"duplex\",\"duplex\",\"duplex\",\"duplex\",\"duplex\",\"duplex\",\"duplex\",\"duplex\",\"duplex\",\"duplex\",\"duplex\",\"duplex\",\"duplex\",\"duplex\",\"duplex\",\"duplex\",\"duplex\",\"duplex\",\"duplex\",\"duplex\",\"duplex\",\"duplex\",\"duplex\",\"duplex\",\"duplex\",\"duplex\",\"duplex\",\"duplex\",\"duplex\",\"duplex\",\"duplex\",\"duplex\",\"duplex\",\"duplex\",\"duplex\",\"duplex\",\"duplex\",\"duplex\",\"duplex\",\"duplex\",\"duplex\",\"duplex\",\"duplex\",\"duplex\",\"duplex\",\"duplex\",\"duplex\",\"duplex\",\"duplex\",\"duplex\",\"duplex\",\"duplex\",\"duplex\",\"duplex\",\"duplex\",\"duplex\",\"duplex\",\"duplex\",\"duplex\",\"duplex\",\"duplex\",\"duplex\",\"duplex\",\"duplex\",\"duplex\",\"duplex\",\"duplex\",\"duplex\",\"duplex\",\"duplex\",\"duplex\",\"duplex\",\"duplex\",\"duplex\",\"duplex\",\"duplex\",\"duplex\",\"duplex\",\"duplex\",\"duplex\",\"duplex\",\"duplex\",\"duplex\",\"duplex\",\"duplex\",\"duplex\",\"duplex\",\"duplex\",\"duplex\",\"duplex\",\"duplex\",\"duplex\",\"duplex\",\"duplex\",\"duplex\",\"duplex\",\"duplex\",\"duplex\",\"duplex\",\"duplex\",\"duplex\",\"duplex\",\"duplex\",\"duplex\",\"duplex\",\"duplex\",\"duplex\",\"duplex\",\"duplex\",\"duplex\",\"duplex\",\"duplex\",\"duplex\",\"duplex\",\"duplex\",\"duplex\",\"duplex\",\"duplex\",\"duplex\",\"duplex\",\"duplex\",\"duplex\",\"duplex\",\"duplex\",\"duplex\",\"duplex\",\"duplex\",\"duplex\",\"duplex\",\"duplex\",\"duplex\",\"duplex\",\"duplex\",\"duplex\",\"duplex\",\"duplex\",\"duplex\",\"duplex\",\"duplex\",\"duplex\",\"duplex\",\"duplex\",\"duplex\",\"duplex\",\"duplex\",\"duplex\",\"duplex\",\"duplex\",\"duplex\",\"duplex\",\"duplex\",\"duplex\",\"duplex\",\"duplex\",\"duplex\",\"duplex\",\"duplex\",\"duplex\",\"duplex\",\"duplex\",\"duplex\",\"duplex\",\"duplex\",\"duplex\",\"duplex\",\"duplex\",\"duplex\",\"duplex\",\"duplex\",\"duplex\",\"duplex\",\"duplex\",\"duplex\",\"duplex\",\"duplex\",\"duplex\",\"duplex\",\"duplex\",\"duplex\",\"duplex\",\"duplex\",\"duplex\",\"duplex\",\"duplex\",\"duplex\",\"duplex\",\"duplex\",\"duplex\",\"duplex\",\"duplex\",\"duplex\",\"duplex\",\"duplex\",\"duplex\",\"duplex\",\"duplex\",\"duplex\",\"duplex\",\"duplex\",\"duplex\",\"duplex\",\"duplex\",\"duplex\",\"duplex\",\"duplex\",\"duplex\",\"duplex\",\"duplex\",\"duplex\",\"duplex\",\"duplex\",\"duplex\",\"duplex\",\"duplex\",\"duplex\",\"duplex\",\"duplex\",\"duplex\",\"duplex\",\"duplex\",\"duplex\",\"duplex\",\"duplex\",\"duplex\",\"duplex\",\"duplex\",\"duplex\",\"duplex\",\"duplex\",\"duplex\",\"duplex\",\"duplex\",\"duplex\",\"duplex\",\"duplex\",\"duplex\",\"duplex\",\"duplex\",\"duplex\",\"duplex\",\"duplex\",\"duplex\",\"duplex\",\"duplex\",\"duplex\",\"duplex\",\"duplex\",\"duplex\",\"duplex\",\"duplex\",\"duplex\",\"duplex\",\"duplex\",\"duplex\",\"duplex\",\"duplex\",\"duplex\",\"duplex\",\"duplex\",\"duplex\",\"duplex\",\"duplex\",\"duplex\",\"duplex\",\"duplex\",\"duplex\",\"duplex\",\"duplex\",\"duplex\",\"duplex\",\"duplex\",\"duplex\",\"duplex\",\"duplex\",\"duplex\",\"duplex\",\"duplex\",\"duplex\",\"duplex\",\"duplex\",\"duplex\",\"duplex\",\"duplex\",\"duplex\",\"duplex\",\"duplex\",\"duplex\",\"duplex\",\"duplex\",\"duplex\",\"duplex\",\"duplex\",\"duplex\",\"duplex\",\"duplex\",\"duplex\",\"duplex\",\"duplex\",\"duplex\",\"duplex\",\"duplex\",\"duplex\",\"duplex\",\"duplex\",\"duplex\",\"duplex\",\"duplex\",\"duplex\",\"duplex\",\"duplex\",\"duplex\",\"duplex\",\"duplex\",\"duplex\",\"duplex\",\"duplex\",\"duplex\",\"duplex\",\"duplex\",\"duplex\",\"duplex\",\"duplex\",\"duplex\",\"duplex\",\"duplex\",\"duplex\",\"duplex\",\"duplex\",\"duplex\",\"duplex\",\"duplex\",\"duplex\",\"duplex\",\"duplex\",\"duplex\",\"duplex\",\"duplex\",\"duplex\",\"duplex\",\"duplex\",\"duplex\",\"duplex\",\"duplex\",\"duplex\",\"duplex\",\"duplex\",\"duplex\",\"duplex\",\"duplex\",\"duplex\",\"duplex\",\"duplex\",\"duplex\",\"duplex\",\"duplex\",\"duplex\",\"duplex\",\"duplex\",\"duplex\",\"duplex\",\"duplex\",\"duplex\",\"duplex\",\"duplex\",\"duplex\",\"duplex\",\"duplex\",\"duplex\",\"duplex\",\"duplex\",\"duplex\",\"duplex\",\"duplex\",\"duplex\",\"duplex\",\"duplex\",\"duplex\",\"duplex\",\"duplex\",\"duplex\",\"duplex\",\"duplex\",\"duplex\",\"duplex\",\"duplex\",\"duplex\",\"duplex\",\"duplex\",\"duplex\",\"duplex\",\"duplex\",\"duplex\",\"duplex\",\"duplex\",\"duplex\",\"duplex\",\"duplex\",\"duplex\",\"duplex\",\"duplex\",\"duplex\",\"duplex\",\"duplex\",\"duplex\",\"duplex\",\"duplex\",\"duplex\",\"duplex\",\"duplex\",\"duplex\",\"duplex\",\"duplex\",\"duplex\",\"duplex\",\"duplex\",\"duplex\",\"duplex\",\"duplex\",\"duplex\",\"duplex\",\"duplex\",\"duplex\",\"duplex\",\"duplex\",\"duplex\",\"duplex\",\"duplex\",\"duplex\",\"duplex\",\"duplex\",\"duplex\",\"duplex\",\"duplex\",\"duplex\",\"duplex\",\"duplex\",\"duplex\",\"duplex\",\"duplex\",\"duplex\",\"duplex\",\"duplex\",\"duplex\",\"duplex\",\"duplex\",\"duplex\",\"duplex\",\"duplex\",\"duplex\",\"duplex\",\"duplex\",\"duplex\",\"duplex\",\"duplex\",\"duplex\",\"duplex\",\"duplex\",\"duplex\",\"duplex\",\"duplex\",\"duplex\",\"duplex\",\"duplex\",\"duplex\",\"duplex\",\"duplex\",\"duplex\",\"duplex\",\"duplex\",\"duplex\",\"duplex\",\"duplex\",\"duplex\",\"duplex\",\"duplex\",\"duplex\",\"duplex\",\"duplex\",\"duplex\",\"duplex\",\"duplex\",\"duplex\",\"duplex\",\"apartment_five_storeys_less\",\"apartment_five_storeys_less\",\"apartment_five_storeys_less\",\"apartment_five_storeys_less\",\"apartment_five_storeys_less\",\"apartment_five_storeys_less\",\"apartment_five_storeys_less\",\"apartment_five_storeys_less\",\"apartment_five_storeys_less\",\"apartment_five_storeys_less\",\"apartment_five_storeys_less\",\"apartment_five_storeys_less\",\"apartment_five_storeys_less\",\"apartment_five_storeys_less\",\"apartment_five_storeys_less\",\"apartment_five_storeys_less\",\"apartment_five_storeys_less\",\"apartment_five_storeys_less\",\"apartment_five_storeys_less\",\"apartment_five_storeys_less\",\"apartment_five_storeys_less\",\"apartment_five_storeys_less\",\"apartment_five_storeys_less\",\"apartment_five_storeys_less\",\"apartment_five_storeys_less\",\"apartment_five_storeys_less\",\"apartment_five_storeys_less\",\"apartment_five_storeys_less\",\"apartment_five_storeys_less\",\"apartment_five_storeys_less\",\"apartment_five_storeys_less\",\"apartment_five_storeys_less\",\"apartment_five_storeys_less\",\"apartment_five_storeys_less\",\"apartment_five_storeys_less\",\"apartment_five_storeys_less\",\"apartment_five_storeys_less\",\"apartment_five_storeys_less\",\"apartment_five_storeys_less\",\"apartment_five_storeys_less\",\"apartment_five_storeys_less\",\"apartment_five_storeys_less\",\"apartment_five_storeys_less\",\"apartment_five_storeys_less\",\"apartment_five_storeys_less\",\"apartment_five_storeys_less\",\"apartment_five_storeys_less\",\"apartment_five_storeys_less\",\"apartment_five_storeys_less\",\"apartment_five_storeys_less\",\"apartment_five_storeys_less\",\"apartment_five_storeys_less\",\"apartment_five_storeys_less\",\"apartment_five_storeys_less\",\"apartment_five_storeys_less\",\"apartment_five_storeys_less\",\"apartment_five_storeys_less\",\"apartment_five_storeys_less\",\"apartment_five_storeys_less\",\"apartment_five_storeys_less\",\"apartment_five_storeys_less\",\"apartment_five_storeys_less\",\"apartment_five_storeys_less\",\"apartment_five_storeys_less\",\"apartment_five_storeys_less\",\"apartment_five_storeys_less\",\"apartment_five_storeys_less\",\"apartment_five_storeys_less\",\"apartment_five_storeys_less\",\"apartment_five_storeys_less\",\"apartment_five_storeys_less\",\"apartment_five_storeys_less\",\"apartment_five_storeys_less\",\"apartment_five_storeys_less\",\"apartment_five_storeys_less\",\"apartment_five_storeys_less\",\"apartment_five_storeys_less\",\"apartment_five_storeys_less\",\"apartment_five_storeys_less\",\"apartment_five_storeys_less\",\"apartment_five_storeys_less\",\"apartment_five_storeys_less\",\"apartment_five_storeys_less\",\"apartment_five_storeys_less\",\"apartment_five_storeys_less\",\"apartment_five_storeys_less\",\"apartment_five_storeys_less\",\"apartment_five_storeys_less\",\"apartment_five_storeys_less\",\"apartment_five_storeys_less\",\"apartment_five_storeys_less\",\"apartment_five_storeys_less\",\"apartment_five_storeys_less\",\"apartment_five_storeys_less\",\"apartment_five_storeys_less\",\"apartment_five_storeys_less\",\"apartment_five_storeys_less\",\"apartment_five_storeys_less\",\"apartment_five_storeys_less\",\"apartment_five_storeys_less\",\"apartment_five_storeys_less\",\"apartment_five_storeys_less\",\"apartment_five_storeys_less\",\"apartment_five_storeys_less\",\"apartment_five_storeys_less\",\"apartment_five_storeys_less\",\"apartment_five_storeys_less\",\"apartment_five_storeys_less\",\"apartment_five_storeys_less\",\"apartment_five_storeys_less\",\"apartment_five_storeys_less\",\"apartment_five_storeys_less\",\"apartment_five_storeys_less\",\"apartment_five_storeys_less\",\"apartment_five_storeys_less\",\"apartment_five_storeys_less\",\"apartment_five_storeys_less\",\"apartment_five_storeys_less\",\"apartment_five_storeys_less\",\"apartment_five_storeys_less\",\"apartment_five_storeys_less\",\"apartment_five_storeys_less\",\"apartment_five_storeys_less\",\"apartment_five_storeys_less\",\"apartment_five_storeys_less\",\"apartment_five_storeys_less\",\"apartment_five_storeys_less\",\"apartment_five_storeys_less\",\"apartment_five_storeys_less\",\"apartment_five_storeys_less\",\"apartment_five_storeys_less\",\"apartment_five_storeys_less\",\"apartment_five_storeys_less\",\"apartment_five_storeys_less\",\"apartment_five_storeys_less\",\"apartment_five_storeys_less\",\"apartment_five_storeys_less\",\"apartment_five_storeys_less\",\"apartment_five_storeys_less\",\"apartment_five_storeys_less\",\"apartment_five_storeys_less\",\"apartment_five_storeys_less\",\"apartment_five_storeys_less\",\"apartment_five_storeys_less\",\"apartment_five_storeys_less\",\"apartment_five_storeys_less\",\"apartment_five_storeys_less\",\"apartment_five_storeys_less\",\"apartment_five_storeys_less\",\"apartment_five_storeys_less\",\"apartment_five_storeys_less\",\"apartment_five_storeys_less\",\"apartment_five_storeys_less\",\"apartment_five_storeys_less\",\"apartment_five_storeys_less\",\"apartment_five_storeys_less\",\"apartment_five_storeys_less\",\"apartment_five_storeys_less\",\"apartment_five_storeys_less\",\"apartment_five_storeys_less\",\"apartment_five_storeys_less\",\"apartment_five_storeys_less\",\"apartment_five_storeys_less\",\"apartment_five_storeys_less\",\"apartment_five_storeys_less\",\"apartment_five_storeys_less\",\"apartment_five_storeys_less\",\"apartment_five_storeys_less\",\"apartment_five_storeys_less\",\"apartment_five_storeys_less\",\"apartment_five_storeys_less\",\"apartment_five_storeys_less\",\"apartment_five_storeys_less\",\"apartment_five_storeys_less\",\"apartment_five_storeys_less\",\"apartment_five_storeys_less\",\"apartment_five_storeys_less\",\"apartment_five_storeys_less\",\"apartment_five_storeys_less\",\"apartment_five_storeys_less\",\"apartment_five_storeys_less\",\"apartment_five_storeys_less\",\"apartment_five_storeys_less\",\"apartment_five_storeys_less\",\"apartment_five_storeys_less\",\"apartment_five_storeys_less\",\"apartment_five_storeys_less\",\"apartment_five_storeys_less\",\"apartment_five_storeys_less\",\"apartment_five_storeys_less\",\"apartment_five_storeys_less\",\"apartment_five_storeys_less\",\"apartment_five_storeys_less\",\"apartment_five_storeys_less\",\"apartment_five_storeys_less\",\"apartment_five_storeys_less\",\"apartment_five_storeys_less\",\"apartment_five_storeys_less\",\"apartment_five_storeys_less\",\"apartment_five_storeys_less\",\"apartment_five_storeys_less\",\"apartment_five_storeys_less\",\"apartment_five_storeys_less\",\"apartment_five_storeys_less\",\"apartment_five_storeys_less\",\"apartment_five_storeys_less\",\"apartment_five_storeys_less\",\"apartment_five_storeys_less\",\"apartment_five_storeys_less\",\"apartment_five_storeys_less\",\"apartment_five_storeys_less\",\"apartment_five_storeys_less\",\"apartment_five_storeys_less\",\"apartment_five_storeys_less\",\"apartment_five_storeys_less\",\"apartment_five_storeys_less\",\"apartment_five_storeys_less\",\"apartment_five_storeys_less\",\"apartment_five_storeys_less\",\"apartment_five_storeys_less\",\"apartment_five_storeys_less\",\"apartment_five_storeys_less\",\"apartment_five_storeys_less\",\"apartment_five_storeys_less\",\"apartment_five_storeys_less\",\"apartment_five_storeys_less\",\"apartment_five_storeys_less\",\"apartment_five_storeys_less\",\"apartment_five_storeys_less\",\"apartment_five_storeys_less\",\"apartment_five_storeys_less\",\"apartment_five_storeys_less\",\"apartment_five_storeys_less\",\"apartment_five_storeys_less\",\"apartment_five_storeys_less\",\"apartment_five_storeys_less\",\"apartment_five_storeys_less\",\"apartment_five_storeys_less\",\"apartment_five_storeys_less\",\"apartment_five_storeys_less\",\"apartment_five_storeys_less\",\"apartment_five_storeys_less\",\"apartment_five_storeys_less\",\"apartment_five_storeys_less\",\"apartment_five_storeys_less\",\"apartment_five_storeys_less\",\"apartment_five_storeys_less\",\"apartment_five_storeys_less\",\"apartment_five_storeys_less\",\"apartment_five_storeys_less\",\"apartment_five_storeys_less\",\"apartment_five_storeys_less\",\"apartment_five_storeys_less\",\"apartment_five_storeys_less\",\"apartment_five_storeys_less\",\"apartment_five_storeys_less\",\"apartment_five_storeys_less\",\"apartment_five_storeys_less\",\"apartment_five_storeys_less\",\"apartment_five_storeys_less\",\"apartment_five_storeys_less\",\"apartment_five_storeys_less\",\"apartment_five_storeys_less\",\"apartment_five_storeys_less\",\"apartment_five_storeys_less\",\"apartment_five_storeys_less\",\"apartment_five_storeys_less\",\"apartment_five_storeys_less\",\"apartment_five_storeys_less\",\"apartment_five_storeys_less\",\"apartment_five_storeys_less\",\"apartment_five_storeys_less\",\"apartment_five_storeys_less\",\"apartment_five_storeys_less\",\"apartment_five_storeys_less\",\"apartment_five_storeys_less\",\"apartment_five_storeys_less\",\"apartment_five_storeys_less\",\"apartment_five_storeys_less\",\"apartment_five_storeys_less\",\"apartment_five_storeys_less\",\"apartment_five_storeys_less\",\"apartment_five_storeys_less\",\"apartment_five_storeys_less\",\"apartment_five_storeys_less\",\"apartment_five_storeys_less\",\"apartment_five_storeys_less\",\"apartment_five_storeys_less\",\"apartment_five_storeys_less\",\"apartment_five_storeys_less\",\"apartment_five_storeys_less\",\"apartment_five_storeys_less\",\"apartment_five_storeys_less\",\"apartment_five_storeys_less\",\"apartment_five_storeys_less\",\"apartment_five_storeys_less\",\"apartment_five_storeys_less\",\"apartment_five_storeys_less\",\"apartment_five_storeys_less\",\"apartment_five_storeys_less\",\"apartment_five_storeys_less\",\"apartment_five_storeys_less\",\"apartment_five_storeys_less\",\"apartment_five_storeys_less\",\"apartment_five_storeys_less\",\"apartment_five_storeys_less\",\"apartment_five_storeys_less\",\"apartment_five_storeys_less\",\"apartment_five_storeys_less\",\"apartment_five_storeys_less\",\"apartment_five_storeys_less\",\"apartment_five_storeys_less\",\"apartment_five_storeys_less\",\"apartment_five_storeys_less\",\"apartment_five_storeys_less\",\"apartment_five_storeys_less\",\"apartment_five_storeys_less\",\"apartment_five_storeys_less\",\"apartment_five_storeys_less\",\"apartment_five_storeys_less\",\"apartment_five_storeys_less\",\"apartment_five_storeys_less\",\"apartment_five_storeys_less\",\"apartment_five_storeys_less\",\"apartment_five_storeys_less\",\"apartment_five_storeys_less\",\"apartment_five_storeys_less\",\"apartment_five_storeys_less\",\"apartment_five_storeys_less\",\"apartment_five_storeys_less\",\"apartment_five_storeys_less\",\"apartment_five_storeys_less\",\"apartment_five_storeys_less\",\"apartment_five_storeys_less\",\"apartment_five_storeys_less\",\"apartment_five_storeys_less\",\"apartment_five_storeys_less\",\"apartment_five_storeys_less\",\"apartment_five_storeys_less\",\"apartment_five_storeys_less\",\"apartment_five_storeys_less\",\"apartment_five_storeys_less\",\"apartment_five_storeys_less\",\"apartment_five_storeys_less\",\"apartment_five_storeys_less\",\"apartment_five_storeys_less\",\"apartment_five_storeys_less\",\"apartment_five_storeys_less\",\"apartment_five_storeys_less\",\"apartment_five_storeys_less\",\"apartment_five_storeys_less\",\"apartment_five_storeys_less\",\"apartment_five_storeys_less\",\"apartment_five_storeys_less\",\"apartment_five_storeys_less\",\"apartment_five_storeys_less\",\"apartment_five_storeys_less\",\"apartment_five_storeys_less\",\"apartment_five_storeys_less\",\"apartment_five_storeys_less\",\"apartment_five_storeys_less\",\"apartment_five_storeys_less\",\"apartment_five_storeys_less\",\"apartment_five_storeys_less\",\"apartment_five_storeys_less\",\"apartment_five_storeys_less\",\"apartment_five_storeys_less\",\"apartment_five_storeys_less\",\"apartment_five_storeys_less\",\"apartment_five_storeys_less\",\"apartment_five_storeys_less\",\"apartment_five_storeys_less\",\"apartment_five_storeys_less\",\"apartment_five_storeys_less\",\"apartment_five_storeys_less\",\"apartment_five_storeys_less\",\"apartment_five_storeys_less\",\"apartment_five_storeys_less\",\"apartment_five_storeys_less\",\"apartment_five_storeys_less\",\"apartment_five_storeys_less\",\"apartment_five_storeys_less\",\"apartment_five_storeys_less\",\"apartment_five_storeys_less\",\"apartment_five_storeys_less\",\"apartment_five_storeys_less\",\"apartment_five_storeys_less\",\"apartment_five_storeys_less\",\"apartment_five_storeys_less\",\"apartment_five_storeys_less\",\"apartment_five_storeys_less\",\"apartment_five_storeys_less\",\"apartment_five_storeys_less\",\"apartment_five_storeys_less\",\"apartment_five_storeys_less\",\"apartment_five_storeys_less\",\"apartment_five_storeys_less\",\"apartment_five_storeys_less\",\"apartment_five_storeys_less\",\"apartment_five_storeys_less\",\"apartment_five_storeys_less\",\"apartment_five_storeys_less\",\"apartment_five_storeys_less\",\"apartment_five_storeys_less\",\"apartment_five_storeys_less\",\"apartment_five_storeys_less\",\"apartment_five_storeys_less\",\"apartment_five_storeys_less\",\"apartment_five_storeys_less\",\"apartment_five_storeys_less\",\"apartment_five_storeys_less\",\"apartment_five_storeys_less\",\"apartment_five_storeys_less\",\"apartment_five_storeys_less\",\"apartment_five_storeys_less\",\"apartment_five_storeys_less\",\"apartment_five_storeys_less\",\"apartment_five_storeys_less\",\"apartment_five_storeys_less\",\"apartment_five_storeys_less\",\"apartment_five_storeys_less\",\"apartment_five_storeys_less\",\"apartment_five_storeys_less\",\"apartment_five_storeys_less\",\"apartment_five_storeys_less\",\"apartment_five_storeys_less\",\"apartment_five_storeys_less\",\"apartment_five_storeys_less\",\"apartment_five_storeys_less\",\"apartment_five_storeys_less\",\"apartment_five_storeys_less\",\"apartment_five_storeys_less\",\"apartment_five_storeys_less\",\"apartment_five_storeys_less\",\"apartment_five_storeys_less\",\"apartment_five_storeys_less\",\"apartment_five_storeys_less\",\"apartment_five_storeys_less\",\"apartment_five_storeys_less\",\"apartment_five_storeys_less\",\"apartment_five_storeys_less\",\"apartment_five_storeys_less\",\"apartment_five_storeys_less\",\"apartment_five_storeys_less\",\"apartment_five_storeys_less\",\"apartment_five_storeys_less\",\"apartment_five_storeys_less\",\"apartment_five_storeys_less\",\"apartment_five_storeys_less\",\"apartment_five_storeys_less\",\"apartment_five_storeys_less\",\"apartment_five_storeys_less\",\"apartment_five_storeys_less\",\"apartment_five_storeys_less\",\"apartment_five_storeys_less\",\"apartment_five_storeys_less\",\"apartment_five_storeys_less\",\"apartment_five_storeys_less\",\"apartment_five_storeys_less\",\"apartment_five_storeys_less\",\"apartment_five_storeys_less\",\"apartment_five_storeys_less\",\"apartment_five_storeys_less\",\"apartment_five_storeys_less\",\"apartment_five_storeys_less\",\"apartment_five_storeys_less\",\"apartment_five_storeys_less\",\"apartment_five_storeys_less\",\"apartment_five_storeys_less\",\"apartment_five_storeys_less\",\"apartment_five_storeys_less\",\"apartment_five_storeys_less\",\"apartment_five_storeys_less\",\"apartment_five_storeys_less\",\"apartment_five_storeys_less\",\"apartment_five_storeys_less\",\"apartment_five_storeys_less\",\"apartment_five_storeys_less\",\"apartment_five_storeys_less\",\"apartment_five_storeys_less\",\"apartment_five_storeys_less\",\"apartment_five_storeys_less\",\"apartment_five_storeys_less\",\"apartment_five_storeys_less\",\"apartment_five_storeys_less\",\"apartment_five_storeys_less\",\"apartment_five_storeys_less\",\"apartment_five_storeys_less\",\"apartment_five_storeys_less\",\"apartment_five_storeys_less\",\"apartment_five_storeys_less\",\"apartment_five_storeys_less\",\"apartment_five_storeys_less\",\"apartment_five_storeys_less\",\"apartment_five_storeys_less\",\"apartment_five_storeys_less\",\"apartment_five_storeys_less\",\"apartment_five_storeys_less\",\"apartment_five_storeys_less\",\"apartment_five_storeys_less\",\"apartment_five_storeys_less\",\"apartment_five_storeys_less\",\"apartment_five_storeys_less\",\"apartment_five_storeys_less\",\"apartment_five_storeys_less\",\"apartment_five_storeys_less\",\"apartment_five_storeys_less\",\"apartment_five_storeys_less\",\"apartment_five_storeys_less\",\"apartment_five_storeys_less\",\"apartment_five_storeys_less\",\"apartment_five_storeys_less\",\"apartment_five_storeys_less\",\"apartment_five_storeys_less\",\"apartment_five_storeys_less\",\"apartment_five_storeys_less\",\"apartment_five_storeys_less\",\"apartment_five_storeys_less\",\"apartment_five_storeys_less\",\"apartment_five_storeys_less\",\"apartment_five_storeys_less\",\"apartment_five_storeys_less\",\"apartment_five_storeys_less\",\"apartment_five_storeys_less\",\"apartment_five_storeys_less\",\"apartment_five_storeys_less\",\"apartment_five_storeys_less\",\"apartment_five_storeys_less\",\"apartment_five_storeys_less\",\"apartment_five_storeys_less\",\"apartment_five_storeys_less\",\"apartment_five_storeys_less\",\"apartment_five_storeys_less\",\"apartment_five_storeys_less\",\"apartment_five_storeys_less\",\"apartment_five_storeys_less\",\"apartment_five_storeys_less\",\"apartment_five_storeys_less\",\"apartment_five_storeys_less\",\"apartment_five_storeys_less\",\"apartment_five_storeys_less\",\"apartment_five_storeys_less\",\"apartment_five_storeys_less\",\"apartment_five_storeys_less\",\"apartment_five_storeys_less\",\"apartment_five_storeys_less\",\"apartment_five_storeys_less\",\"apartment_five_storeys_less\",\"apartment_five_storeys_less\",\"apartment_five_storeys_less\",\"apartment_five_storeys_less\",\"apartment_five_storeys_less\",\"apartment_five_storeys_less\",\"apartment_five_storeys_less\",\"apartment_five_storeys_less\",\"apartment_five_storeys_less\",\"apartment_five_storeys_less\",\"apartment_five_storeys_less\",\"apartment_five_storeys_less\",\"apartment_five_storeys_less\",\"other_house\",\"other_house\",\"other_house\",\"other_house\",\"other_house\",\"other_house\",\"other_house\",\"other_house\",\"other_house\",\"other_house\",\"other_house\",\"other_house\",\"other_house\",\"other_house\",\"other_house\",\"other_house\",\"other_house\",\"other_house\",\"other_house\",\"other_house\",\"other_house\",\"other_house\",\"other_house\",\"other_house\",\"other_house\",\"other_house\",\"other_house\",\"other_house\",\"other_house\",\"other_house\",\"other_house\",\"other_house\",\"other_house\",\"other_house\",\"other_house\",\"other_house\",\"other_house\",\"other_house\",\"other_house\",\"other_house\",\"other_house\",\"other_house\",\"other_house\",\"other_house\",\"other_house\",\"other_house\",\"other_house\",\"other_house\",\"other_house\",\"other_house\",\"other_house\",\"other_house\",\"other_house\",\"other_house\",\"other_house\",\"other_house\",\"other_house\",\"other_house\",\"other_house\",\"other_house\",\"other_house\",\"other_house\",\"other_house\",\"other_house\",\"other_house\",\"other_house\",\"other_house\",\"other_house\",\"other_house\",\"other_house\",\"other_house\",\"other_house\",\"other_house\",\"other_house\",\"other_house\",\"other_house\",\"other_house\",\"other_house\",\"other_house\",\"other_house\",\"other_house\",\"other_house\",\"other_house\",\"other_house\",\"other_house\",\"other_house\",\"other_house\",\"other_house\",\"other_house\",\"other_house\",\"other_house\",\"other_house\",\"other_house\",\"other_house\",\"other_house\",\"other_house\",\"other_house\",\"other_house\",\"other_house\",\"other_house\",\"other_house\",\"other_house\",\"other_house\",\"other_house\",\"other_house\",\"other_house\",\"other_house\",\"other_house\",\"other_house\",\"other_house\",\"other_house\",\"other_house\",\"other_house\",\"other_house\",\"other_house\",\"other_house\",\"other_house\",\"other_house\",\"other_house\",\"other_house\",\"other_house\",\"other_house\",\"other_house\",\"other_house\",\"other_house\",\"other_house\",\"other_house\",\"other_house\",\"other_house\",\"other_house\",\"other_house\",\"other_house\",\"other_house\",\"other_house\",\"other_house\",\"other_house\",\"other_house\",\"other_house\",\"other_house\",\"other_house\",\"other_house\",\"other_house\",\"other_house\",\"other_house\",\"other_house\",\"other_house\",\"other_house\",\"other_house\",\"other_house\",\"other_house\",\"other_house\",\"other_house\",\"other_house\",\"other_house\",\"other_house\",\"other_house\",\"other_house\",\"other_house\",\"other_house\",\"other_house\",\"other_house\",\"other_house\",\"other_house\",\"other_house\",\"other_house\",\"other_house\",\"other_house\",\"other_house\",\"other_house\",\"other_house\",\"other_house\",\"other_house\",\"other_house\",\"other_house\",\"other_house\",\"other_house\",\"other_house\",\"other_house\",\"other_house\",\"other_house\",\"other_house\",\"other_house\",\"other_house\",\"other_house\",\"other_house\",\"other_house\",\"other_house\",\"other_house\",\"other_house\",\"other_house\",\"other_house\",\"other_house\",\"other_house\",\"other_house\",\"other_house\",\"other_house\",\"other_house\",\"other_house\",\"other_house\",\"other_house\",\"other_house\",\"other_house\",\"other_house\",\"other_house\",\"other_house\",\"other_house\",\"other_house\",\"other_house\",\"other_house\",\"other_house\",\"other_house\",\"other_house\",\"other_house\",\"other_house\",\"other_house\",\"other_house\",\"other_house\",\"other_house\",\"other_house\",\"other_house\",\"other_house\",\"other_house\",\"other_house\",\"other_house\",\"other_house\",\"other_house\",\"other_house\",\"other_house\",\"other_house\",\"other_house\",\"other_house\",\"other_house\",\"other_house\",\"other_house\",\"other_house\",\"other_house\",\"other_house\",\"other_house\",\"other_house\",\"other_house\",\"other_house\",\"other_house\",\"other_house\",\"other_house\",\"other_house\",\"other_house\",\"other_house\",\"other_house\",\"other_house\",\"other_house\",\"other_house\",\"other_house\",\"other_house\",\"other_house\",\"other_house\",\"other_house\",\"other_house\",\"other_house\",\"other_house\",\"other_house\",\"other_house\",\"other_house\",\"other_house\",\"other_house\",\"other_house\",\"other_house\",\"other_house\",\"other_house\",\"other_house\",\"other_house\",\"other_house\",\"other_house\",\"other_house\",\"other_house\",\"other_house\",\"other_house\",\"other_house\",\"other_house\",\"other_house\",\"other_house\",\"other_house\",\"other_house\",\"other_house\",\"other_house\",\"other_house\",\"other_house\",\"other_house\",\"other_house\",\"other_house\",\"other_house\",\"other_house\",\"other_house\",\"other_house\",\"other_house\",\"other_house\",\"other_house\",\"other_house\",\"other_house\",\"other_house\",\"other_house\",\"other_house\",\"other_house\",\"other_house\",\"other_house\",\"other_house\",\"other_house\",\"other_house\",\"other_house\",\"other_house\",\"other_house\",\"other_house\",\"other_house\",\"other_house\",\"other_house\",\"other_house\",\"other_house\",\"other_house\",\"other_house\",\"other_house\",\"other_house\",\"other_house\",\"other_house\",\"other_house\",\"other_house\",\"other_house\",\"other_house\",\"other_house\",\"other_house\",\"other_house\",\"other_house\",\"other_house\",\"other_house\",\"other_house\",\"other_house\",\"other_house\",\"other_house\",\"other_house\",\"other_house\",\"other_house\",\"other_house\",\"other_house\",\"other_house\",\"other_house\",\"other_house\",\"other_house\",\"other_house\",\"other_house\",\"other_house\",\"other_house\",\"other_house\",\"other_house\",\"other_house\",\"other_house\",\"other_house\",\"other_house\",\"other_house\",\"other_house\",\"other_house\",\"other_house\",\"other_house\",\"other_house\",\"other_house\",\"other_house\",\"other_house\",\"other_house\",\"other_house\",\"other_house\",\"other_house\",\"other_house\",\"other_house\",\"other_house\",\"other_house\",\"other_house\",\"other_house\",\"other_house\",\"other_house\",\"other_house\",\"other_house\",\"other_house\",\"other_house\",\"other_house\",\"other_house\",\"other_house\",\"other_house\",\"other_house\",\"other_house\",\"other_house\",\"other_house\",\"other_house\",\"other_house\",\"other_house\",\"other_house\",\"other_house\",\"other_house\",\"other_house\",\"other_house\",\"other_house\",\"other_house\",\"other_house\",\"other_house\",\"other_house\",\"other_house\",\"other_house\",\"other_house\",\"other_house\",\"other_house\",\"other_house\",\"other_house\",\"other_house\",\"other_house\",\"other_house\",\"other_house\",\"other_house\",\"other_house\",\"other_house\",\"other_house\",\"other_house\",\"other_house\",\"other_house\",\"other_house\",\"other_house\",\"other_house\",\"other_house\",\"other_house\",\"other_house\",\"other_house\",\"other_house\",\"other_house\",\"other_house\",\"other_house\",\"other_house\",\"other_house\",\"other_house\",\"other_house\",\"other_house\",\"other_house\",\"other_house\",\"other_house\",\"other_house\",\"other_house\",\"other_house\",\"other_house\",\"other_house\",\"other_house\",\"other_house\",\"other_house\",\"other_house\",\"other_house\",\"other_house\",\"other_house\",\"other_house\",\"other_house\",\"other_house\",\"other_house\",\"other_house\",\"other_house\",\"other_house\",\"other_house\",\"other_house\",\"other_house\",\"other_house\",\"other_house\",\"other_house\",\"other_house\",\"other_house\",\"other_house\",\"other_house\",\"other_house\",\"other_house\",\"other_house\",\"other_house\",\"other_house\",\"other_house\",\"other_house\",\"other_house\",\"other_house\",\"other_house\",\"other_house\",\"other_house\",\"other_house\",\"other_house\",\"other_house\",\"other_house\",\"other_house\",\"other_house\",\"other_house\",\"other_house\",\"other_house\",\"other_house\",\"other_house\",\"other_house\",\"other_house\",\"other_house\",\"other_house\",\"other_house\",\"other_house\",\"other_house\",\"other_house\",\"other_house\",\"other_house\",\"other_house\",\"other_house\",\"other_house\",\"other_house\",\"other_house\",\"other_house\",\"other_house\",\"other_house\",\"other_house\",\"other_house\",\"other_house\",\"other_house\",\"other_house\",\"other_house\",\"other_house\",\"other_house\",\"other_house\",\"other_house\",\"other_house\",\"other_house\",\"other_house\",\"other_house\",\"other_house\",\"other_house\",\"other_house\",\"other_house\",\"other_house\",\"other_house\",\"other_house\",\"other_house\",\"other_house\",\"other_house\",\"other_house\",\"other_house\",\"other_house\",\"other_house\",\"other_house\",\"other_house\",\"other_house\",\"other_house\",\"other_house\",\"other_house\",\"other_house\",\"other_house\",\"other_house\",\"other_house\",\"other_house\",\"other_house\",\"other_house\",\"other_house\",\"other_house\",\"other_house\",\"other_house\",\"other_house\",\"other_house\",\"other_house\",\"other_house\",\"other_house\",\"other_house\",\"other_house\",\"average_house_value\",\"average_house_value\",\"average_house_value\",\"average_house_value\",\"average_house_value\",\"average_house_value\",\"average_house_value\",\"average_house_value\",\"average_house_value\",\"average_house_value\",\"average_house_value\",\"average_house_value\",\"average_house_value\",\"average_house_value\",\"average_house_value\",\"average_house_value\",\"average_house_value\",\"average_house_value\",\"average_house_value\",\"average_house_value\",\"average_house_value\",\"average_house_value\",\"average_house_value\",\"average_house_value\",\"average_house_value\",\"average_house_value\",\"average_house_value\",\"average_house_value\",\"average_house_value\",\"average_house_value\",\"average_house_value\",\"average_house_value\",\"average_house_value\",\"average_house_value\",\"average_house_value\",\"average_house_value\",\"average_house_value\",\"average_house_value\",\"average_house_value\",\"average_house_value\",\"average_house_value\",\"average_house_value\",\"average_house_value\",\"average_house_value\",\"average_house_value\",\"average_house_value\",\"average_house_value\",\"average_house_value\",\"average_house_value\",\"average_house_value\",\"average_house_value\",\"average_house_value\",\"average_house_value\",\"average_house_value\",\"average_house_value\",\"average_house_value\",\"average_house_value\",\"average_house_value\",\"average_house_value\",\"average_house_value\",\"average_house_value\",\"average_house_value\",\"average_house_value\",\"average_house_value\",\"average_house_value\",\"average_house_value\",\"average_house_value\",\"average_house_value\",\"average_house_value\",\"average_house_value\",\"average_house_value\",\"average_house_value\",\"average_house_value\",\"average_house_value\",\"average_house_value\",\"average_house_value\",\"average_house_value\",\"average_house_value\",\"average_house_value\",\"average_house_value\",\"average_house_value\",\"average_house_value\",\"average_house_value\",\"average_house_value\",\"average_house_value\",\"average_house_value\",\"average_house_value\",\"average_house_value\",\"average_house_value\",\"average_house_value\",\"average_house_value\",\"average_house_value\",\"average_house_value\",\"average_house_value\",\"average_house_value\",\"average_house_value\",\"average_house_value\",\"average_house_value\",\"average_house_value\",\"average_house_value\",\"average_house_value\",\"average_house_value\",\"average_house_value\",\"average_house_value\",\"average_house_value\",\"average_house_value\",\"average_house_value\",\"average_house_value\",\"average_house_value\",\"average_house_value\",\"average_house_value\",\"average_house_value\",\"average_house_value\",\"average_house_value\",\"average_house_value\",\"average_house_value\",\"average_house_value\",\"average_house_value\",\"average_house_value\",\"average_house_value\",\"average_house_value\",\"average_house_value\",\"average_house_value\",\"average_house_value\",\"average_house_value\",\"average_house_value\",\"average_house_value\",\"average_house_value\",\"average_house_value\",\"average_house_value\",\"average_house_value\",\"average_house_value\",\"average_house_value\",\"average_house_value\",\"average_house_value\",\"average_house_value\",\"average_house_value\",\"average_house_value\",\"average_house_value\",\"average_house_value\",\"average_house_value\",\"average_house_value\",\"average_house_value\",\"average_house_value\",\"average_house_value\",\"average_house_value\",\"average_house_value\",\"average_house_value\",\"average_house_value\",\"average_house_value\",\"average_house_value\",\"average_house_value\",\"average_house_value\",\"average_house_value\",\"average_house_value\",\"average_house_value\",\"average_house_value\",\"average_house_value\",\"average_house_value\",\"average_house_value\",\"average_house_value\",\"average_house_value\",\"average_house_value\",\"average_house_value\",\"average_house_value\",\"average_house_value\",\"average_house_value\",\"average_house_value\",\"average_house_value\",\"average_house_value\",\"average_house_value\",\"average_house_value\",\"average_house_value\",\"average_house_value\",\"average_house_value\",\"average_house_value\",\"average_house_value\",\"average_house_value\",\"average_house_value\",\"average_house_value\",\"average_house_value\",\"average_house_value\",\"average_house_value\",\"average_house_value\",\"average_house_value\",\"average_house_value\",\"average_house_value\",\"average_house_value\",\"average_house_value\",\"average_house_value\",\"average_house_value\",\"average_house_value\",\"average_house_value\",\"average_house_value\",\"average_house_value\",\"average_house_value\",\"average_house_value\",\"average_house_value\",\"average_house_value\",\"average_house_value\",\"average_house_value\",\"average_house_value\",\"average_house_value\",\"average_house_value\",\"average_house_value\",\"average_house_value\",\"average_house_value\",\"average_house_value\",\"average_house_value\",\"average_house_value\",\"average_house_value\",\"average_house_value\",\"average_house_value\",\"average_house_value\",\"average_house_value\",\"average_house_value\",\"average_house_value\",\"average_house_value\",\"average_house_value\",\"average_house_value\",\"average_house_value\",\"average_house_value\",\"average_house_value\",\"average_house_value\",\"average_house_value\",\"average_house_value\",\"average_house_value\",\"average_house_value\",\"average_house_value\",\"average_house_value\",\"average_house_value\",\"average_house_value\",\"average_house_value\",\"average_house_value\",\"average_house_value\",\"average_house_value\",\"average_house_value\",\"average_house_value\",\"average_house_value\",\"average_house_value\",\"average_house_value\",\"average_house_value\",\"average_house_value\",\"average_house_value\",\"average_house_value\",\"average_house_value\",\"average_house_value\",\"average_house_value\",\"average_house_value\",\"average_house_value\",\"average_house_value\",\"average_house_value\",\"average_house_value\",\"average_house_value\",\"average_house_value\",\"average_house_value\",\"average_house_value\",\"average_house_value\",\"average_house_value\",\"average_house_value\",\"average_house_value\",\"average_house_value\",\"average_house_value\",\"average_house_value\",\"average_house_value\",\"average_house_value\",\"average_house_value\",\"average_house_value\",\"average_house_value\",\"average_house_value\",\"average_house_value\",\"average_house_value\",\"average_house_value\",\"average_house_value\",\"average_house_value\",\"average_house_value\",\"average_house_value\",\"average_house_value\",\"average_house_value\",\"average_house_value\",\"average_house_value\",\"average_house_value\",\"average_house_value\",\"average_house_value\",\"average_house_value\",\"average_house_value\",\"average_house_value\",\"average_house_value\",\"average_house_value\",\"average_house_value\",\"average_house_value\",\"average_house_value\",\"average_house_value\",\"average_house_value\",\"average_house_value\",\"average_house_value\",\"average_house_value\",\"average_house_value\",\"average_house_value\",\"average_house_value\",\"average_house_value\",\"average_house_value\",\"average_house_value\",\"average_house_value\",\"average_house_value\",\"average_house_value\",\"average_house_value\",\"average_house_value\",\"average_house_value\",\"average_house_value\",\"average_house_value\",\"average_house_value\",\"average_house_value\",\"average_house_value\",\"average_house_value\",\"average_house_value\",\"average_house_value\",\"average_house_value\",\"average_house_value\",\"average_house_value\",\"average_house_value\",\"average_house_value\",\"average_house_value\",\"average_house_value\",\"average_house_value\",\"average_house_value\",\"average_house_value\",\"average_house_value\",\"average_house_value\",\"average_house_value\",\"average_house_value\",\"average_house_value\",\"average_house_value\",\"average_house_value\",\"average_house_value\",\"average_house_value\",\"average_house_value\",\"average_house_value\",\"average_house_value\",\"average_house_value\",\"average_house_value\",\"average_house_value\",\"average_house_value\",\"average_house_value\",\"average_house_value\",\"average_house_value\",\"average_house_value\",\"average_house_value\",\"average_house_value\",\"average_house_value\",\"average_house_value\",\"average_house_value\",\"average_house_value\",\"average_house_value\",\"average_house_value\",\"average_house_value\",\"average_house_value\",\"average_house_value\",\"average_house_value\",\"average_house_value\",\"average_house_value\",\"average_house_value\",\"average_house_value\",\"average_house_value\",\"average_house_value\",\"average_house_value\",\"average_house_value\",\"average_house_value\",\"average_house_value\",\"average_house_value\",\"average_house_value\",\"average_house_value\",\"average_house_value\",\"average_house_value\",\"average_house_value\",\"average_house_value\",\"average_house_value\",\"average_house_value\",\"average_house_value\",\"average_house_value\",\"average_house_value\",\"average_house_value\",\"average_house_value\",\"average_house_value\",\"average_house_value\",\"average_house_value\",\"average_house_value\",\"average_house_value\",\"average_house_value\",\"average_house_value\",\"average_house_value\",\"average_house_value\",\"average_house_value\",\"average_house_value\",\"average_house_value\",\"average_house_value\",\"average_house_value\",\"average_house_value\",\"average_house_value\",\"average_house_value\",\"average_house_value\",\"average_house_value\",\"average_house_value\",\"average_house_value\",\"average_house_value\",\"average_house_value\",\"average_house_value\",\"average_house_value\",\"average_house_value\",\"average_house_value\",\"average_house_value\",\"average_house_value\",\"average_house_value\",\"average_house_value\",\"average_house_value\",\"average_house_value\",\"average_house_value\",\"average_house_value\",\"average_house_value\",\"average_house_value\",\"average_house_value\",\"average_house_value\",\"average_house_value\",\"average_house_value\",\"average_house_value\",\"average_house_value\",\"average_house_value\",\"average_house_value\",\"average_house_value\",\"average_house_value\",\"average_house_value\",\"average_house_value\",\"average_house_value\",\"average_house_value\",\"average_house_value\",\"average_house_value\",\"average_house_value\",\"average_house_value\",\"average_house_value\",\"average_house_value\",\"average_house_value\",\"average_house_value\",\"average_house_value\",\"average_house_value\",\"average_house_value\",\"average_house_value\",\"average_house_value\",\"average_house_value\",\"average_house_value\",\"average_house_value\",\"average_house_value\",\"average_house_value\",\"average_house_value\",\"average_house_value\",\"average_house_value\",\"average_house_value\",\"average_house_value\",\"average_house_value\",\"average_house_value\",\"average_house_value\",\"average_house_value\",\"average_house_value\",\"average_house_value\",\"average_house_value\",\"average_house_value\",\"average_house_value\",\"average_house_value\",\"average_house_value\",\"average_house_value\",\"average_house_value\",\"average_house_value\",\"average_house_value\",\"average_house_value\",\"average_house_value\",\"average_house_value\",\"average_house_value\",\"average_house_value\",\"average_house_value\",\"average_house_value\",\"average_house_value\",\"average_house_value\",\"average_house_value\",\"average_house_value\",\"average_house_value\",\"average_house_value\",\"average_house_value\",\"average_house_value\",\"average_house_value\",\"average_house_value\",\"average_house_value\",\"average_house_value\",\"average_house_value\",\"average_house_value\",\"average_house_value\",\"average_house_value\",\"average_house_value\",\"average_house_value\",\"average_house_value\",\"average_house_value\",\"average_house_value\",\"average_house_value\",\"average_house_value\",\"average_house_value\",\"average_house_value\",\"average_house_value\",\"average_house_value\",\"average_house_value\",\"average_house_value\",\"average_house_value\",\"average_house_value\",\"average_house_value\",\"average_house_value\",\"average_house_value\",\"average_house_value\",\"average_house_value\",\"average_house_value\",\"average_house_value\",\"average_house_value\",\"average_house_value\",\"average_house_value\",\"average_house_value\",\"average_house_value\",\"average_house_value\",\"average_house_value\",\"average_house_value\",\"average_house_value\",\"average_house_value\",\"average_house_value\",\"average_house_value\",\"average_house_value\",\"average_house_value\",\"average_house_value\",\"average_house_value\",\"average_house_value\",\"average_house_value\",\"average_house_value\",\"average_house_value\",\"average_house_value\",\"average_house_value\",\"average_house_value\",\"average_house_value\",\"average_house_value\",\"average_house_value\",\"average_house_value\",\"average_house_value\",\"average_house_value\",\"average_house_value\",\"average_house_value\",\"average_house_value\",\"average_house_value\",\"average_house_value\",\"average_house_value\",\"average_house_value\",\"average_house_value\",\"average_house_value\",\"average_house_value\",\"average_house_value\",\"average_house_value\",\"average_house_value\",\"average_house_value\",\"shelter_costs_owned\",\"shelter_costs_owned\",\"shelter_costs_owned\",\"shelter_costs_owned\",\"shelter_costs_owned\",\"shelter_costs_owned\",\"shelter_costs_owned\",\"shelter_costs_owned\",\"shelter_costs_owned\",\"shelter_costs_owned\",\"shelter_costs_owned\",\"shelter_costs_owned\",\"shelter_costs_owned\",\"shelter_costs_owned\",\"shelter_costs_owned\",\"shelter_costs_owned\",\"shelter_costs_owned\",\"shelter_costs_owned\",\"shelter_costs_owned\",\"shelter_costs_owned\",\"shelter_costs_owned\",\"shelter_costs_owned\",\"shelter_costs_owned\",\"shelter_costs_owned\",\"shelter_costs_owned\",\"shelter_costs_owned\",\"shelter_costs_owned\",\"shelter_costs_owned\",\"shelter_costs_owned\",\"shelter_costs_owned\",\"shelter_costs_owned\",\"shelter_costs_owned\",\"shelter_costs_owned\",\"shelter_costs_owned\",\"shelter_costs_owned\",\"shelter_costs_owned\",\"shelter_costs_owned\",\"shelter_costs_owned\",\"shelter_costs_owned\",\"shelter_costs_owned\",\"shelter_costs_owned\",\"shelter_costs_owned\",\"shelter_costs_owned\",\"shelter_costs_owned\",\"shelter_costs_owned\",\"shelter_costs_owned\",\"shelter_costs_owned\",\"shelter_costs_owned\",\"shelter_costs_owned\",\"shelter_costs_owned\",\"shelter_costs_owned\",\"shelter_costs_owned\",\"shelter_costs_owned\",\"shelter_costs_owned\",\"shelter_costs_owned\",\"shelter_costs_owned\",\"shelter_costs_owned\",\"shelter_costs_owned\",\"shelter_costs_owned\",\"shelter_costs_owned\",\"shelter_costs_owned\",\"shelter_costs_owned\",\"shelter_costs_owned\",\"shelter_costs_owned\",\"shelter_costs_owned\",\"shelter_costs_owned\",\"shelter_costs_owned\",\"shelter_costs_owned\",\"shelter_costs_owned\",\"shelter_costs_owned\",\"shelter_costs_owned\",\"shelter_costs_owned\",\"shelter_costs_owned\",\"shelter_costs_owned\",\"shelter_costs_owned\",\"shelter_costs_owned\",\"shelter_costs_owned\",\"shelter_costs_owned\",\"shelter_costs_owned\",\"shelter_costs_owned\",\"shelter_costs_owned\",\"shelter_costs_owned\",\"shelter_costs_owned\",\"shelter_costs_owned\",\"shelter_costs_owned\",\"shelter_costs_owned\",\"shelter_costs_owned\",\"shelter_costs_owned\",\"shelter_costs_owned\",\"shelter_costs_owned\",\"shelter_costs_owned\",\"shelter_costs_owned\",\"shelter_costs_owned\",\"shelter_costs_owned\",\"shelter_costs_owned\",\"shelter_costs_owned\",\"shelter_costs_owned\",\"shelter_costs_owned\",\"shelter_costs_owned\",\"shelter_costs_owned\",\"shelter_costs_owned\",\"shelter_costs_owned\",\"shelter_costs_owned\",\"shelter_costs_owned\",\"shelter_costs_owned\",\"shelter_costs_owned\",\"shelter_costs_owned\",\"shelter_costs_owned\",\"shelter_costs_owned\",\"shelter_costs_owned\",\"shelter_costs_owned\",\"shelter_costs_owned\",\"shelter_costs_owned\",\"shelter_costs_owned\",\"shelter_costs_owned\",\"shelter_costs_owned\",\"shelter_costs_owned\",\"shelter_costs_owned\",\"shelter_costs_owned\",\"shelter_costs_owned\",\"shelter_costs_owned\",\"shelter_costs_owned\",\"shelter_costs_owned\",\"shelter_costs_owned\",\"shelter_costs_owned\",\"shelter_costs_owned\",\"shelter_costs_owned\",\"shelter_costs_owned\",\"shelter_costs_owned\",\"shelter_costs_owned\",\"shelter_costs_owned\",\"shelter_costs_owned\",\"shelter_costs_owned\",\"shelter_costs_owned\",\"shelter_costs_owned\",\"shelter_costs_owned\",\"shelter_costs_owned\",\"shelter_costs_owned\",\"shelter_costs_owned\",\"shelter_costs_owned\",\"shelter_costs_owned\",\"shelter_costs_owned\",\"shelter_costs_owned\",\"shelter_costs_owned\",\"shelter_costs_owned\",\"shelter_costs_owned\",\"shelter_costs_owned\",\"shelter_costs_owned\",\"shelter_costs_owned\",\"shelter_costs_owned\",\"shelter_costs_owned\",\"shelter_costs_owned\",\"shelter_costs_owned\",\"shelter_costs_owned\",\"shelter_costs_owned\",\"shelter_costs_owned\",\"shelter_costs_owned\",\"shelter_costs_owned\",\"shelter_costs_owned\",\"shelter_costs_owned\",\"shelter_costs_owned\",\"shelter_costs_owned\",\"shelter_costs_owned\",\"shelter_costs_owned\",\"shelter_costs_owned\",\"shelter_costs_owned\",\"shelter_costs_owned\",\"shelter_costs_owned\",\"shelter_costs_owned\",\"shelter_costs_owned\",\"shelter_costs_owned\",\"shelter_costs_owned\",\"shelter_costs_owned\",\"shelter_costs_owned\",\"shelter_costs_owned\",\"shelter_costs_owned\",\"shelter_costs_owned\",\"shelter_costs_owned\",\"shelter_costs_owned\",\"shelter_costs_owned\",\"shelter_costs_owned\",\"shelter_costs_owned\",\"shelter_costs_owned\",\"shelter_costs_owned\",\"shelter_costs_owned\",\"shelter_costs_owned\",\"shelter_costs_owned\",\"shelter_costs_owned\",\"shelter_costs_owned\",\"shelter_costs_owned\",\"shelter_costs_owned\",\"shelter_costs_owned\",\"shelter_costs_owned\",\"shelter_costs_owned\",\"shelter_costs_owned\",\"shelter_costs_owned\",\"shelter_costs_owned\",\"shelter_costs_owned\",\"shelter_costs_owned\",\"shelter_costs_owned\",\"shelter_costs_owned\",\"shelter_costs_owned\",\"shelter_costs_owned\",\"shelter_costs_owned\",\"shelter_costs_owned\",\"shelter_costs_owned\",\"shelter_costs_owned\",\"shelter_costs_owned\",\"shelter_costs_owned\",\"shelter_costs_owned\",\"shelter_costs_owned\",\"shelter_costs_owned\",\"shelter_costs_owned\",\"shelter_costs_owned\",\"shelter_costs_owned\",\"shelter_costs_owned\",\"shelter_costs_owned\",\"shelter_costs_owned\",\"shelter_costs_owned\",\"shelter_costs_owned\",\"shelter_costs_owned\",\"shelter_costs_owned\",\"shelter_costs_owned\",\"shelter_costs_owned\",\"shelter_costs_owned\",\"shelter_costs_owned\",\"shelter_costs_owned\",\"shelter_costs_owned\",\"shelter_costs_owned\",\"shelter_costs_owned\",\"shelter_costs_owned\",\"shelter_costs_owned\",\"shelter_costs_owned\",\"shelter_costs_owned\",\"shelter_costs_owned\",\"shelter_costs_owned\",\"shelter_costs_owned\",\"shelter_costs_owned\",\"shelter_costs_owned\",\"shelter_costs_owned\",\"shelter_costs_owned\",\"shelter_costs_owned\",\"shelter_costs_owned\",\"shelter_costs_owned\",\"shelter_costs_owned\",\"shelter_costs_owned\",\"shelter_costs_owned\",\"shelter_costs_owned\",\"shelter_costs_owned\",\"shelter_costs_owned\",\"shelter_costs_owned\",\"shelter_costs_owned\",\"shelter_costs_owned\",\"shelter_costs_owned\",\"shelter_costs_owned\",\"shelter_costs_owned\",\"shelter_costs_owned\",\"shelter_costs_owned\",\"shelter_costs_owned\",\"shelter_costs_owned\",\"shelter_costs_owned\",\"shelter_costs_owned\",\"shelter_costs_owned\",\"shelter_costs_owned\",\"shelter_costs_owned\",\"shelter_costs_owned\",\"shelter_costs_owned\",\"shelter_costs_owned\",\"shelter_costs_owned\",\"shelter_costs_owned\",\"shelter_costs_owned\",\"shelter_costs_owned\",\"shelter_costs_owned\",\"shelter_costs_owned\",\"shelter_costs_owned\",\"shelter_costs_owned\",\"shelter_costs_owned\",\"shelter_costs_owned\",\"shelter_costs_owned\",\"shelter_costs_owned\",\"shelter_costs_owned\",\"shelter_costs_owned\",\"shelter_costs_owned\",\"shelter_costs_owned\",\"shelter_costs_owned\",\"shelter_costs_owned\",\"shelter_costs_owned\",\"shelter_costs_owned\",\"shelter_costs_owned\",\"shelter_costs_owned\",\"shelter_costs_owned\",\"shelter_costs_owned\",\"shelter_costs_owned\",\"shelter_costs_owned\",\"shelter_costs_owned\",\"shelter_costs_owned\",\"shelter_costs_owned\",\"shelter_costs_owned\",\"shelter_costs_owned\",\"shelter_costs_owned\",\"shelter_costs_owned\",\"shelter_costs_owned\",\"shelter_costs_owned\",\"shelter_costs_owned\",\"shelter_costs_owned\",\"shelter_costs_owned\",\"shelter_costs_owned\",\"shelter_costs_owned\",\"shelter_costs_owned\",\"shelter_costs_owned\",\"shelter_costs_owned\",\"shelter_costs_owned\",\"shelter_costs_owned\",\"shelter_costs_owned\",\"shelter_costs_owned\",\"shelter_costs_owned\",\"shelter_costs_owned\",\"shelter_costs_owned\",\"shelter_costs_owned\",\"shelter_costs_owned\",\"shelter_costs_owned\",\"shelter_costs_owned\",\"shelter_costs_owned\",\"shelter_costs_owned\",\"shelter_costs_owned\",\"shelter_costs_owned\",\"shelter_costs_owned\",\"shelter_costs_owned\",\"shelter_costs_owned\",\"shelter_costs_owned\",\"shelter_costs_owned\",\"shelter_costs_owned\",\"shelter_costs_owned\",\"shelter_costs_owned\",\"shelter_costs_owned\",\"shelter_costs_owned\",\"shelter_costs_owned\",\"shelter_costs_owned\",\"shelter_costs_owned\",\"shelter_costs_owned\",\"shelter_costs_owned\",\"shelter_costs_owned\",\"shelter_costs_owned\",\"shelter_costs_owned\",\"shelter_costs_owned\",\"shelter_costs_owned\",\"shelter_costs_owned\",\"shelter_costs_owned\",\"shelter_costs_owned\",\"shelter_costs_owned\",\"shelter_costs_owned\",\"shelter_costs_owned\",\"shelter_costs_owned\",\"shelter_costs_owned\",\"shelter_costs_owned\",\"shelter_costs_owned\",\"shelter_costs_owned\",\"shelter_costs_owned\",\"shelter_costs_owned\",\"shelter_costs_owned\",\"shelter_costs_owned\",\"shelter_costs_owned\",\"shelter_costs_owned\",\"shelter_costs_owned\",\"shelter_costs_owned\",\"shelter_costs_owned\",\"shelter_costs_owned\",\"shelter_costs_owned\",\"shelter_costs_owned\",\"shelter_costs_owned\",\"shelter_costs_owned\",\"shelter_costs_owned\",\"shelter_costs_owned\",\"shelter_costs_owned\",\"shelter_costs_owned\",\"shelter_costs_owned\",\"shelter_costs_owned\",\"shelter_costs_owned\",\"shelter_costs_owned\",\"shelter_costs_owned\",\"shelter_costs_owned\",\"shelter_costs_owned\",\"shelter_costs_owned\",\"shelter_costs_owned\",\"shelter_costs_owned\",\"shelter_costs_owned\",\"shelter_costs_owned\",\"shelter_costs_owned\",\"shelter_costs_owned\",\"shelter_costs_owned\",\"shelter_costs_owned\",\"shelter_costs_owned\",\"shelter_costs_owned\",\"shelter_costs_owned\",\"shelter_costs_owned\",\"shelter_costs_owned\",\"shelter_costs_owned\",\"shelter_costs_owned\",\"shelter_costs_owned\",\"shelter_costs_owned\",\"shelter_costs_owned\",\"shelter_costs_owned\",\"shelter_costs_owned\",\"shelter_costs_owned\",\"shelter_costs_owned\",\"shelter_costs_owned\",\"shelter_costs_owned\",\"shelter_costs_owned\",\"shelter_costs_owned\",\"shelter_costs_owned\",\"shelter_costs_owned\",\"shelter_costs_owned\",\"shelter_costs_owned\",\"shelter_costs_owned\",\"shelter_costs_owned\",\"shelter_costs_owned\",\"shelter_costs_owned\",\"shelter_costs_owned\",\"shelter_costs_owned\",\"shelter_costs_owned\",\"shelter_costs_owned\",\"shelter_costs_owned\",\"shelter_costs_owned\",\"shelter_costs_owned\",\"shelter_costs_owned\",\"shelter_costs_owned\",\"shelter_costs_owned\",\"shelter_costs_owned\",\"shelter_costs_owned\",\"shelter_costs_owned\",\"shelter_costs_owned\",\"shelter_costs_owned\",\"shelter_costs_owned\",\"shelter_costs_owned\",\"shelter_costs_owned\",\"shelter_costs_owned\",\"shelter_costs_owned\",\"shelter_costs_owned\",\"shelter_costs_owned\",\"shelter_costs_owned\",\"shelter_costs_owned\",\"shelter_costs_owned\",\"shelter_costs_owned\",\"shelter_costs_owned\",\"shelter_costs_owned\",\"shelter_costs_owned\",\"shelter_costs_owned\",\"shelter_costs_owned\",\"shelter_costs_owned\",\"shelter_costs_owned\",\"shelter_costs_owned\",\"shelter_costs_owned\",\"shelter_costs_owned\",\"shelter_costs_owned\",\"shelter_costs_owned\",\"shelter_costs_owned\",\"shelter_costs_owned\",\"shelter_costs_owned\",\"shelter_costs_owned\",\"shelter_costs_owned\",\"shelter_costs_owned\",\"shelter_costs_owned\",\"shelter_costs_owned\",\"shelter_costs_owned\",\"shelter_costs_owned\",\"shelter_costs_owned\",\"shelter_costs_owned\",\"shelter_costs_owned\",\"shelter_costs_owned\",\"shelter_costs_owned\",\"shelter_costs_owned\",\"shelter_costs_owned\",\"shelter_costs_owned\",\"shelter_costs_owned\",\"shelter_costs_owned\",\"shelter_costs_owned\",\"shelter_costs_owned\",\"shelter_costs_owned\",\"shelter_costs_owned\",\"shelter_costs_owned\",\"shelter_costs_owned\",\"shelter_costs_owned\",\"shelter_costs_owned\",\"shelter_costs_owned\",\"shelter_costs_owned\",\"shelter_costs_owned\",\"shelter_costs_owned\",\"shelter_costs_owned\",\"shelter_costs_owned\",\"shelter_costs_owned\",\"shelter_costs_owned\",\"shelter_costs_owned\",\"shelter_costs_owned\",\"shelter_costs_owned\",\"shelter_costs_owned\",\"shelter_costs_owned\",\"shelter_costs_owned\",\"shelter_costs_owned\",\"shelter_costs_owned\",\"shelter_costs_owned\",\"shelter_costs_owned\",\"shelter_costs_owned\",\"shelter_costs_owned\",\"shelter_costs_owned\",\"shelter_costs_owned\",\"shelter_costs_owned\",\"shelter_costs_owned\",\"shelter_costs_owned\",\"shelter_costs_owned\",\"shelter_costs_owned\",\"shelter_costs_owned\",\"shelter_costs_owned\",\"shelter_costs_owned\",\"shelter_costs_owned\",\"shelter_costs_owned\",\"shelter_costs_owned\",\"shelter_costs_owned\",\"shelter_costs_owned\",\"shelter_costs_owned\",\"shelter_costs_owned\",\"shelter_costs_owned\",\"shelter_costs_owned\",\"shelter_costs_owned\",\"shelter_costs_owned\",\"shelter_costs_owned\",\"shelter_costs_owned\",\"shelter_costs_owned\",\"shelter_costs_owned\",\"shelter_costs_owned\",\"shelter_costs_owned\",\"shelter_costs_owned\",\"shelter_costs_owned\",\"shelter_costs_owned\",\"shelter_costs_owned\",\"shelter_costs_owned\",\"shelter_costs_owned\",\"shelter_costs_owned\",\"shelter_costs_owned\",\"shelter_costs_owned\",\"shelter_costs_owned\",\"shelter_costs_owned\",\"shelter_costs_owned\",\"shelter_costs_owned\",\"shelter_costs_owned\",\"shelter_costs_owned\",\"shelter_costs_owned\",\"shelter_costs_owned\",\"shelter_costs_owned\",\"shelter_costs_owned\",\"shelter_costs_owned\",\"shelter_costs_owned\",\"shelter_costs_owned\",\"shelter_costs_owned\",\"shelter_costs_owned\",\"shelter_costs_owned\",\"shelter_costs_owned\",\"shelter_costs_owned\",\"shelter_costs_owned\",\"shelter_costs_owned\",\"shelter_costs_owned\",\"shelter_costs_rented\",\"shelter_costs_rented\",\"shelter_costs_rented\",\"shelter_costs_rented\",\"shelter_costs_rented\",\"shelter_costs_rented\",\"shelter_costs_rented\",\"shelter_costs_rented\",\"shelter_costs_rented\",\"shelter_costs_rented\",\"shelter_costs_rented\",\"shelter_costs_rented\",\"shelter_costs_rented\",\"shelter_costs_rented\",\"shelter_costs_rented\",\"shelter_costs_rented\",\"shelter_costs_rented\",\"shelter_costs_rented\",\"shelter_costs_rented\",\"shelter_costs_rented\",\"shelter_costs_rented\",\"shelter_costs_rented\",\"shelter_costs_rented\",\"shelter_costs_rented\",\"shelter_costs_rented\",\"shelter_costs_rented\",\"shelter_costs_rented\",\"shelter_costs_rented\",\"shelter_costs_rented\",\"shelter_costs_rented\",\"shelter_costs_rented\",\"shelter_costs_rented\",\"shelter_costs_rented\",\"shelter_costs_rented\",\"shelter_costs_rented\",\"shelter_costs_rented\",\"shelter_costs_rented\",\"shelter_costs_rented\",\"shelter_costs_rented\",\"shelter_costs_rented\",\"shelter_costs_rented\",\"shelter_costs_rented\",\"shelter_costs_rented\",\"shelter_costs_rented\",\"shelter_costs_rented\",\"shelter_costs_rented\",\"shelter_costs_rented\",\"shelter_costs_rented\",\"shelter_costs_rented\",\"shelter_costs_rented\",\"shelter_costs_rented\",\"shelter_costs_rented\",\"shelter_costs_rented\",\"shelter_costs_rented\",\"shelter_costs_rented\",\"shelter_costs_rented\",\"shelter_costs_rented\",\"shelter_costs_rented\",\"shelter_costs_rented\",\"shelter_costs_rented\",\"shelter_costs_rented\",\"shelter_costs_rented\",\"shelter_costs_rented\",\"shelter_costs_rented\",\"shelter_costs_rented\",\"shelter_costs_rented\",\"shelter_costs_rented\",\"shelter_costs_rented\",\"shelter_costs_rented\",\"shelter_costs_rented\",\"shelter_costs_rented\",\"shelter_costs_rented\",\"shelter_costs_rented\",\"shelter_costs_rented\",\"shelter_costs_rented\",\"shelter_costs_rented\",\"shelter_costs_rented\",\"shelter_costs_rented\",\"shelter_costs_rented\",\"shelter_costs_rented\",\"shelter_costs_rented\",\"shelter_costs_rented\",\"shelter_costs_rented\",\"shelter_costs_rented\",\"shelter_costs_rented\",\"shelter_costs_rented\",\"shelter_costs_rented\",\"shelter_costs_rented\",\"shelter_costs_rented\",\"shelter_costs_rented\",\"shelter_costs_rented\",\"shelter_costs_rented\",\"shelter_costs_rented\",\"shelter_costs_rented\",\"shelter_costs_rented\",\"shelter_costs_rented\",\"shelter_costs_rented\",\"shelter_costs_rented\",\"shelter_costs_rented\",\"shelter_costs_rented\",\"shelter_costs_rented\",\"shelter_costs_rented\",\"shelter_costs_rented\",\"shelter_costs_rented\",\"shelter_costs_rented\",\"shelter_costs_rented\",\"shelter_costs_rented\",\"shelter_costs_rented\",\"shelter_costs_rented\",\"shelter_costs_rented\",\"shelter_costs_rented\",\"shelter_costs_rented\",\"shelter_costs_rented\",\"shelter_costs_rented\",\"shelter_costs_rented\",\"shelter_costs_rented\",\"shelter_costs_rented\",\"shelter_costs_rented\",\"shelter_costs_rented\",\"shelter_costs_rented\",\"shelter_costs_rented\",\"shelter_costs_rented\",\"shelter_costs_rented\",\"shelter_costs_rented\",\"shelter_costs_rented\",\"shelter_costs_rented\",\"shelter_costs_rented\",\"shelter_costs_rented\",\"shelter_costs_rented\",\"shelter_costs_rented\",\"shelter_costs_rented\",\"shelter_costs_rented\",\"shelter_costs_rented\",\"shelter_costs_rented\",\"shelter_costs_rented\",\"shelter_costs_rented\",\"shelter_costs_rented\",\"shelter_costs_rented\",\"shelter_costs_rented\",\"shelter_costs_rented\",\"shelter_costs_rented\",\"shelter_costs_rented\",\"shelter_costs_rented\",\"shelter_costs_rented\",\"shelter_costs_rented\",\"shelter_costs_rented\",\"shelter_costs_rented\",\"shelter_costs_rented\",\"shelter_costs_rented\",\"shelter_costs_rented\",\"shelter_costs_rented\",\"shelter_costs_rented\",\"shelter_costs_rented\",\"shelter_costs_rented\",\"shelter_costs_rented\",\"shelter_costs_rented\",\"shelter_costs_rented\",\"shelter_costs_rented\",\"shelter_costs_rented\",\"shelter_costs_rented\",\"shelter_costs_rented\",\"shelter_costs_rented\",\"shelter_costs_rented\",\"shelter_costs_rented\",\"shelter_costs_rented\",\"shelter_costs_rented\",\"shelter_costs_rented\",\"shelter_costs_rented\",\"shelter_costs_rented\",\"shelter_costs_rented\",\"shelter_costs_rented\",\"shelter_costs_rented\",\"shelter_costs_rented\",\"shelter_costs_rented\",\"shelter_costs_rented\",\"shelter_costs_rented\",\"shelter_costs_rented\",\"shelter_costs_rented\",\"shelter_costs_rented\",\"shelter_costs_rented\",\"shelter_costs_rented\",\"shelter_costs_rented\",\"shelter_costs_rented\",\"shelter_costs_rented\",\"shelter_costs_rented\",\"shelter_costs_rented\",\"shelter_costs_rented\",\"shelter_costs_rented\",\"shelter_costs_rented\",\"shelter_costs_rented\",\"shelter_costs_rented\",\"shelter_costs_rented\",\"shelter_costs_rented\",\"shelter_costs_rented\",\"shelter_costs_rented\",\"shelter_costs_rented\",\"shelter_costs_rented\",\"shelter_costs_rented\",\"shelter_costs_rented\",\"shelter_costs_rented\",\"shelter_costs_rented\",\"shelter_costs_rented\",\"shelter_costs_rented\",\"shelter_costs_rented\",\"shelter_costs_rented\",\"shelter_costs_rented\",\"shelter_costs_rented\",\"shelter_costs_rented\",\"shelter_costs_rented\",\"shelter_costs_rented\",\"shelter_costs_rented\",\"shelter_costs_rented\",\"shelter_costs_rented\",\"shelter_costs_rented\",\"shelter_costs_rented\",\"shelter_costs_rented\",\"shelter_costs_rented\",\"shelter_costs_rented\",\"shelter_costs_rented\",\"shelter_costs_rented\",\"shelter_costs_rented\",\"shelter_costs_rented\",\"shelter_costs_rented\",\"shelter_costs_rented\",\"shelter_costs_rented\",\"shelter_costs_rented\",\"shelter_costs_rented\",\"shelter_costs_rented\",\"shelter_costs_rented\",\"shelter_costs_rented\",\"shelter_costs_rented\",\"shelter_costs_rented\",\"shelter_costs_rented\",\"shelter_costs_rented\",\"shelter_costs_rented\",\"shelter_costs_rented\",\"shelter_costs_rented\",\"shelter_costs_rented\",\"shelter_costs_rented\",\"shelter_costs_rented\",\"shelter_costs_rented\",\"shelter_costs_rented\",\"shelter_costs_rented\",\"shelter_costs_rented\",\"shelter_costs_rented\",\"shelter_costs_rented\",\"shelter_costs_rented\",\"shelter_costs_rented\",\"shelter_costs_rented\",\"shelter_costs_rented\",\"shelter_costs_rented\",\"shelter_costs_rented\",\"shelter_costs_rented\",\"shelter_costs_rented\",\"shelter_costs_rented\",\"shelter_costs_rented\",\"shelter_costs_rented\",\"shelter_costs_rented\",\"shelter_costs_rented\",\"shelter_costs_rented\",\"shelter_costs_rented\",\"shelter_costs_rented\",\"shelter_costs_rented\",\"shelter_costs_rented\",\"shelter_costs_rented\",\"shelter_costs_rented\",\"shelter_costs_rented\",\"shelter_costs_rented\",\"shelter_costs_rented\",\"shelter_costs_rented\",\"shelter_costs_rented\",\"shelter_costs_rented\",\"shelter_costs_rented\",\"shelter_costs_rented\",\"shelter_costs_rented\",\"shelter_costs_rented\",\"shelter_costs_rented\",\"shelter_costs_rented\",\"shelter_costs_rented\",\"shelter_costs_rented\",\"shelter_costs_rented\",\"shelter_costs_rented\",\"shelter_costs_rented\",\"shelter_costs_rented\",\"shelter_costs_rented\",\"shelter_costs_rented\",\"shelter_costs_rented\",\"shelter_costs_rented\",\"shelter_costs_rented\",\"shelter_costs_rented\",\"shelter_costs_rented\",\"shelter_costs_rented\",\"shelter_costs_rented\",\"shelter_costs_rented\",\"shelter_costs_rented\",\"shelter_costs_rented\",\"shelter_costs_rented\",\"shelter_costs_rented\",\"shelter_costs_rented\",\"shelter_costs_rented\",\"shelter_costs_rented\",\"shelter_costs_rented\",\"shelter_costs_rented\",\"shelter_costs_rented\",\"shelter_costs_rented\",\"shelter_costs_rented\",\"shelter_costs_rented\",\"shelter_costs_rented\",\"shelter_costs_rented\",\"shelter_costs_rented\",\"shelter_costs_rented\",\"shelter_costs_rented\",\"shelter_costs_rented\",\"shelter_costs_rented\",\"shelter_costs_rented\",\"shelter_costs_rented\",\"shelter_costs_rented\",\"shelter_costs_rented\",\"shelter_costs_rented\",\"shelter_costs_rented\",\"shelter_costs_rented\",\"shelter_costs_rented\",\"shelter_costs_rented\",\"shelter_costs_rented\",\"shelter_costs_rented\",\"shelter_costs_rented\",\"shelter_costs_rented\",\"shelter_costs_rented\",\"shelter_costs_rented\",\"shelter_costs_rented\",\"shelter_costs_rented\",\"shelter_costs_rented\",\"shelter_costs_rented\",\"shelter_costs_rented\",\"shelter_costs_rented\",\"shelter_costs_rented\",\"shelter_costs_rented\",\"shelter_costs_rented\",\"shelter_costs_rented\",\"shelter_costs_rented\",\"shelter_costs_rented\",\"shelter_costs_rented\",\"shelter_costs_rented\",\"shelter_costs_rented\",\"shelter_costs_rented\",\"shelter_costs_rented\",\"shelter_costs_rented\",\"shelter_costs_rented\",\"shelter_costs_rented\",\"shelter_costs_rented\",\"shelter_costs_rented\",\"shelter_costs_rented\",\"shelter_costs_rented\",\"shelter_costs_rented\",\"shelter_costs_rented\",\"shelter_costs_rented\",\"shelter_costs_rented\",\"shelter_costs_rented\",\"shelter_costs_rented\",\"shelter_costs_rented\",\"shelter_costs_rented\",\"shelter_costs_rented\",\"shelter_costs_rented\",\"shelter_costs_rented\",\"shelter_costs_rented\",\"shelter_costs_rented\",\"shelter_costs_rented\",\"shelter_costs_rented\",\"shelter_costs_rented\",\"shelter_costs_rented\",\"shelter_costs_rented\",\"shelter_costs_rented\",\"shelter_costs_rented\",\"shelter_costs_rented\",\"shelter_costs_rented\",\"shelter_costs_rented\",\"shelter_costs_rented\",\"shelter_costs_rented\",\"shelter_costs_rented\",\"shelter_costs_rented\",\"shelter_costs_rented\",\"shelter_costs_rented\",\"shelter_costs_rented\",\"shelter_costs_rented\",\"shelter_costs_rented\",\"shelter_costs_rented\",\"shelter_costs_rented\",\"shelter_costs_rented\",\"shelter_costs_rented\",\"shelter_costs_rented\",\"shelter_costs_rented\",\"shelter_costs_rented\",\"shelter_costs_rented\",\"shelter_costs_rented\",\"shelter_costs_rented\",\"shelter_costs_rented\",\"shelter_costs_rented\",\"shelter_costs_rented\",\"shelter_costs_rented\",\"shelter_costs_rented\",\"shelter_costs_rented\",\"shelter_costs_rented\",\"shelter_costs_rented\",\"shelter_costs_rented\",\"shelter_costs_rented\",\"shelter_costs_rented\",\"shelter_costs_rented\",\"shelter_costs_rented\",\"shelter_costs_rented\",\"shelter_costs_rented\",\"shelter_costs_rented\",\"shelter_costs_rented\",\"shelter_costs_rented\",\"shelter_costs_rented\",\"shelter_costs_rented\",\"shelter_costs_rented\",\"shelter_costs_rented\",\"shelter_costs_rented\",\"shelter_costs_rented\",\"shelter_costs_rented\",\"shelter_costs_rented\",\"shelter_costs_rented\",\"shelter_costs_rented\",\"shelter_costs_rented\",\"shelter_costs_rented\",\"shelter_costs_rented\",\"shelter_costs_rented\",\"shelter_costs_rented\",\"shelter_costs_rented\",\"shelter_costs_rented\",\"shelter_costs_rented\",\"shelter_costs_rented\",\"shelter_costs_rented\",\"shelter_costs_rented\",\"shelter_costs_rented\",\"shelter_costs_rented\",\"shelter_costs_rented\",\"shelter_costs_rented\",\"shelter_costs_rented\",\"shelter_costs_rented\",\"shelter_costs_rented\",\"shelter_costs_rented\",\"shelter_costs_rented\",\"shelter_costs_rented\",\"shelter_costs_rented\",\"shelter_costs_rented\",\"shelter_costs_rented\",\"shelter_costs_rented\",\"shelter_costs_rented\",\"shelter_costs_rented\",\"shelter_costs_rented\",\"shelter_costs_rented\",\"shelter_costs_rented\",\"shelter_costs_rented\",\"shelter_costs_rented\",\"shelter_costs_rented\",\"shelter_costs_rented\",\"shelter_costs_rented\",\"shelter_costs_rented\",\"shelter_costs_rented\",\"shelter_costs_rented\",\"shelter_costs_rented\",\"shelter_costs_rented\",\"shelter_costs_rented\",\"shelter_costs_rented\",\"shelter_costs_rented\",\"shelter_costs_rented\",\"shelter_costs_rented\",\"shelter_costs_rented\",\"shelter_costs_rented\",\"shelter_costs_rented\",\"shelter_costs_rented\",\"shelter_costs_rented\",\"shelter_costs_rented\",\"shelter_costs_rented\",\"shelter_costs_rented\",\"shelter_costs_rented\",\"shelter_costs_rented\",\"shelter_costs_rented\",\"shelter_costs_rented\",\"shelter_costs_rented\",\"shelter_costs_rented\",\"shelter_costs_rented\",\"shelter_costs_rented\",\"shelter_costs_rented\",\"shelter_costs_rented\",\"shelter_costs_rented\",\"shelter_costs_rented\",\"shelter_costs_rented\",\"shelter_costs_rented\",\"shelter_costs_rented\",\"shelter_costs_rented\",\"shelter_costs_rented\",\"shelter_costs_rented\",\"shelter_costs_rented\",\"shelter_costs_rented\",\"shelter_costs_rented\",\"shelter_costs_rented\",\"shelter_costs_rented\",\"shelter_costs_rented\",\"shelter_costs_rented\",\"shelter_costs_rented\",\"shelter_costs_rented\",\"shelter_costs_rented\",\"shelter_costs_rented\",\"shelter_costs_rented\",\"shelter_costs_rented\",\"shelter_costs_rented\",\"shelter_costs_rented\",\"shelter_costs_rented\",\"shelter_costs_rented\",\"shelter_costs_rented\",\"shelter_costs_rented\",\"shelter_costs_rented\",\"shelter_costs_rented\",\"shelter_costs_rented\",\"shelter_costs_rented\",\"shelter_costs_rented\",\"shelter_costs_rented\",\"shelter_costs_rented\",\"shelter_costs_rented\",\"shelter_costs_rented\",\"shelter_costs_rented\",\"shelter_costs_rented\",\"shelter_costs_rented\",\"shelter_costs_rented\",\"shelter_costs_rented\",\"shelter_costs_rented\",\"shelter_costs_rented\",\"shelter_costs_rented\",\"shelter_costs_rented\",\"shelter_costs_rented\",\"shelter_costs_rented\",\"shelter_costs_rented\",\"shelter_costs_rented\",\"shelter_costs_rented\",\"shelter_costs_rented\",\"shelter_costs_rented\",\"shelter_costs_rented\",\"shelter_costs_rented\",\"shelter_costs_rented\",\"shelter_costs_rented\",\"shelter_costs_rented\",\"shelter_costs_rented\",\"shelter_costs_rented\",\"shelter_costs_rented\",\"shelter_costs_rented\",\"shelter_costs_rented\",\"shelter_costs_rented\",\"shelter_costs_rented\",\"shelter_costs_rented\",\"shelter_costs_rented\",\"shelter_costs_rented\",\"shelter_costs_rented\",\"shelter_costs_rented\",\"shelter_costs_rented\",\"shelter_costs_rented\",\"shelter_costs_rented\",\"shelter_costs_rented\",\"shelter_costs_rented\"],\"index\":[\"0\",\"1\",\"2\",\"3\",\"4\",\"5\",\"6\",\"7\",\"8\",\"9\",\"10\",\"11\",\"12\",\"13\",\"14\",\"15\",\"16\",\"17\",\"18\",\"19\",\"20\",\"21\",\"22\",\"23\",\"24\",\"25\",\"26\",\"27\",\"28\",\"29\",\"30\",\"31\",\"32\",\"33\",\"34\",\"35\",\"36\",\"37\",\"38\",\"39\",\"40\",\"41\",\"42\",\"43\",\"44\",\"45\",\"46\",\"47\",\"48\",\"49\",\"50\",\"51\",\"52\",\"53\",\"54\",\"55\",\"56\",\"57\",\"58\",\"59\",\"60\",\"61\",\"62\",\"63\",\"64\",\"65\",\"66\",\"67\",\"68\",\"69\",\"70\",\"71\",\"72\",\"73\",\"74\",\"75\",\"76\",\"77\",\"78\",\"79\",\"80\",\"81\",\"82\",\"83\",\"84\",\"85\",\"86\",\"87\",\"88\",\"89\",\"90\",\"91\",\"92\",\"93\",\"94\",\"95\",\"96\",\"97\",\"98\",\"99\",\"100\",\"101\",\"102\",\"103\",\"104\",\"105\",\"106\",\"107\",\"108\",\"109\",\"110\",\"111\",\"112\",\"113\",\"114\",\"115\",\"116\",\"117\",\"118\",\"119\",\"120\",\"121\",\"122\",\"123\",\"124\",\"125\",\"126\",\"127\",\"128\",\"129\",\"130\",\"131\",\"132\",\"133\",\"134\",\"135\",\"136\",\"137\",\"138\",\"139\",\"140\",\"141\",\"142\",\"143\",\"144\",\"145\",\"146\",\"147\",\"148\",\"149\",\"150\",\"151\",\"152\",\"153\",\"154\",\"155\",\"156\",\"157\",\"158\",\"159\",\"160\",\"161\",\"162\",\"163\",\"164\",\"165\",\"166\",\"167\",\"168\",\"169\",\"170\",\"171\",\"172\",\"173\",\"174\",\"175\",\"176\",\"177\",\"178\",\"179\",\"180\",\"181\",\"182\",\"183\",\"184\",\"185\",\"186\",\"187\",\"188\",\"189\",\"190\",\"191\",\"192\",\"193\",\"194\",\"195\",\"196\",\"197\",\"198\",\"199\",\"200\",\"201\",\"202\",\"203\",\"204\",\"205\",\"206\",\"207\",\"208\",\"209\",\"210\",\"211\",\"212\",\"213\",\"214\",\"215\",\"216\",\"217\",\"218\",\"219\",\"220\",\"221\",\"222\",\"223\",\"224\",\"225\",\"226\",\"227\",\"228\",\"229\",\"230\",\"231\",\"232\",\"233\",\"234\",\"235\",\"236\",\"237\",\"238\",\"239\",\"240\",\"241\",\"242\",\"243\",\"244\",\"245\",\"246\",\"247\",\"248\",\"249\",\"250\",\"251\",\"252\",\"253\",\"254\",\"255\",\"256\",\"257\",\"258\",\"259\",\"260\",\"261\",\"262\",\"263\",\"264\",\"265\",\"266\",\"267\",\"268\",\"269\",\"270\",\"271\",\"272\",\"273\",\"274\",\"275\",\"276\",\"277\",\"278\",\"279\",\"280\",\"281\",\"282\",\"283\",\"284\",\"285\",\"286\",\"287\",\"288\",\"289\",\"290\",\"291\",\"292\",\"293\",\"294\",\"295\",\"296\",\"297\",\"298\",\"299\",\"300\",\"301\",\"302\",\"303\",\"304\",\"305\",\"306\",\"307\",\"308\",\"309\",\"310\",\"311\",\"312\",\"313\",\"314\",\"315\",\"316\",\"317\",\"318\",\"319\",\"320\",\"321\",\"322\",\"323\",\"324\",\"325\",\"326\",\"327\",\"328\",\"329\",\"330\",\"331\",\"332\",\"333\",\"334\",\"335\",\"336\",\"337\",\"338\",\"339\",\"340\",\"341\",\"342\",\"343\",\"344\",\"345\",\"346\",\"347\",\"348\",\"349\",\"350\",\"351\",\"352\",\"353\",\"354\",\"355\",\"356\",\"357\",\"358\",\"359\",\"360\",\"361\",\"362\",\"363\",\"364\",\"365\",\"366\",\"367\",\"368\",\"369\",\"370\",\"371\",\"372\",\"373\",\"374\",\"375\",\"376\",\"377\",\"378\",\"379\",\"380\",\"381\",\"382\",\"383\",\"384\",\"385\",\"386\",\"387\",\"388\",\"389\",\"390\",\"391\",\"392\",\"393\",\"394\",\"395\",\"396\",\"397\",\"398\",\"399\",\"400\",\"401\",\"402\",\"403\",\"404\",\"405\",\"406\",\"407\",\"408\",\"409\",\"410\",\"411\",\"412\",\"413\",\"414\",\"415\",\"416\",\"417\",\"418\",\"419\",\"420\",\"421\",\"422\",\"423\",\"424\",\"425\",\"426\",\"427\",\"428\",\"429\",\"430\",\"431\",\"432\",\"433\",\"434\",\"435\",\"436\",\"437\",\"438\",\"439\",\"440\",\"441\",\"442\",\"443\",\"444\",\"445\",\"446\",\"447\",\"448\",\"449\",\"450\",\"451\",\"452\",\"453\",\"454\",\"455\",\"456\",\"457\",\"458\",\"459\",\"460\",\"461\",\"462\",\"463\",\"464\",\"465\",\"466\",\"467\",\"468\",\"469\",\"470\",\"471\",\"472\",\"473\",\"474\",\"475\",\"476\",\"477\",\"478\",\"479\",\"480\",\"481\",\"482\",\"483\",\"484\",\"485\",\"486\",\"487\",\"488\",\"489\",\"490\",\"491\",\"492\",\"493\",\"494\",\"495\",\"496\",\"497\",\"498\",\"499\",\"500\",\"501\",\"502\",\"503\",\"504\",\"505\",\"506\",\"507\",\"508\",\"509\",\"510\",\"511\",\"512\",\"513\",\"514\",\"515\",\"516\",\"517\",\"518\",\"519\",\"520\",\"521\",\"522\",\"523\",\"524\",\"525\",\"526\",\"527\",\"528\",\"529\",\"530\",\"531\",\"532\",\"533\",\"534\",\"535\",\"536\",\"537\",\"538\",\"539\",\"540\",\"541\",\"542\",\"543\",\"544\",\"545\",\"546\",\"547\",\"548\",\"549\",\"550\",\"551\",\"552\",\"553\",\"554\",\"555\",\"556\",\"557\",\"558\",\"559\",\"0\",\"1\",\"2\",\"3\",\"4\",\"5\",\"6\",\"7\",\"8\",\"9\",\"10\",\"11\",\"12\",\"13\",\"14\",\"15\",\"16\",\"17\",\"18\",\"19\",\"20\",\"21\",\"22\",\"23\",\"24\",\"25\",\"26\",\"27\",\"28\",\"29\",\"30\",\"31\",\"32\",\"33\",\"34\",\"35\",\"36\",\"37\",\"38\",\"39\",\"40\",\"41\",\"42\",\"43\",\"44\",\"45\",\"46\",\"47\",\"48\",\"49\",\"50\",\"51\",\"52\",\"53\",\"54\",\"55\",\"56\",\"57\",\"58\",\"59\",\"60\",\"61\",\"62\",\"63\",\"64\",\"65\",\"66\",\"67\",\"68\",\"69\",\"70\",\"71\",\"72\",\"73\",\"74\",\"75\",\"76\",\"77\",\"78\",\"79\",\"80\",\"81\",\"82\",\"83\",\"84\",\"85\",\"86\",\"87\",\"88\",\"89\",\"90\",\"91\",\"92\",\"93\",\"94\",\"95\",\"96\",\"97\",\"98\",\"99\",\"100\",\"101\",\"102\",\"103\",\"104\",\"105\",\"106\",\"107\",\"108\",\"109\",\"110\",\"111\",\"112\",\"113\",\"114\",\"115\",\"116\",\"117\",\"118\",\"119\",\"120\",\"121\",\"122\",\"123\",\"124\",\"125\",\"126\",\"127\",\"128\",\"129\",\"130\",\"131\",\"132\",\"133\",\"134\",\"135\",\"136\",\"137\",\"138\",\"139\",\"140\",\"141\",\"142\",\"143\",\"144\",\"145\",\"146\",\"147\",\"148\",\"149\",\"150\",\"151\",\"152\",\"153\",\"154\",\"155\",\"156\",\"157\",\"158\",\"159\",\"160\",\"161\",\"162\",\"163\",\"164\",\"165\",\"166\",\"167\",\"168\",\"169\",\"170\",\"171\",\"172\",\"173\",\"174\",\"175\",\"176\",\"177\",\"178\",\"179\",\"180\",\"181\",\"182\",\"183\",\"184\",\"185\",\"186\",\"187\",\"188\",\"189\",\"190\",\"191\",\"192\",\"193\",\"194\",\"195\",\"196\",\"197\",\"198\",\"199\",\"200\",\"201\",\"202\",\"203\",\"204\",\"205\",\"206\",\"207\",\"208\",\"209\",\"210\",\"211\",\"212\",\"213\",\"214\",\"215\",\"216\",\"217\",\"218\",\"219\",\"220\",\"221\",\"222\",\"223\",\"224\",\"225\",\"226\",\"227\",\"228\",\"229\",\"230\",\"231\",\"232\",\"233\",\"234\",\"235\",\"236\",\"237\",\"238\",\"239\",\"240\",\"241\",\"242\",\"243\",\"244\",\"245\",\"246\",\"247\",\"248\",\"249\",\"250\",\"251\",\"252\",\"253\",\"254\",\"255\",\"256\",\"257\",\"258\",\"259\",\"260\",\"261\",\"262\",\"263\",\"264\",\"265\",\"266\",\"267\",\"268\",\"269\",\"270\",\"271\",\"272\",\"273\",\"274\",\"275\",\"276\",\"277\",\"278\",\"279\",\"280\",\"281\",\"282\",\"283\",\"284\",\"285\",\"286\",\"287\",\"288\",\"289\",\"290\",\"291\",\"292\",\"293\",\"294\",\"295\",\"296\",\"297\",\"298\",\"299\",\"300\",\"301\",\"302\",\"303\",\"304\",\"305\",\"306\",\"307\",\"308\",\"309\",\"310\",\"311\",\"312\",\"313\",\"314\",\"315\",\"316\",\"317\",\"318\",\"319\",\"320\",\"321\",\"322\",\"323\",\"324\",\"325\",\"326\",\"327\",\"328\",\"329\",\"330\",\"331\",\"332\",\"333\",\"334\",\"335\",\"336\",\"337\",\"338\",\"339\",\"340\",\"341\",\"342\",\"343\",\"344\",\"345\",\"346\",\"347\",\"348\",\"349\",\"350\",\"351\",\"352\",\"353\",\"354\",\"355\",\"356\",\"357\",\"358\",\"359\",\"360\",\"361\",\"362\",\"363\",\"364\",\"365\",\"366\",\"367\",\"368\",\"369\",\"370\",\"371\",\"372\",\"373\",\"374\",\"375\",\"376\",\"377\",\"378\",\"379\",\"380\",\"381\",\"382\",\"383\",\"384\",\"385\",\"386\",\"387\",\"388\",\"389\",\"390\",\"391\",\"392\",\"393\",\"394\",\"395\",\"396\",\"397\",\"398\",\"399\",\"400\",\"401\",\"402\",\"403\",\"404\",\"405\",\"406\",\"407\",\"408\",\"409\",\"410\",\"411\",\"412\",\"413\",\"414\",\"415\",\"416\",\"417\",\"418\",\"419\",\"420\",\"421\",\"422\",\"423\",\"424\",\"425\",\"426\",\"427\",\"428\",\"429\",\"430\",\"431\",\"432\",\"433\",\"434\",\"435\",\"436\",\"437\",\"438\",\"439\",\"440\",\"441\",\"442\",\"443\",\"444\",\"445\",\"446\",\"447\",\"448\",\"449\",\"450\",\"451\",\"452\",\"453\",\"454\",\"455\",\"456\",\"457\",\"458\",\"459\",\"460\",\"461\",\"462\",\"463\",\"464\",\"465\",\"466\",\"467\",\"468\",\"469\",\"470\",\"471\",\"472\",\"473\",\"474\",\"475\",\"476\",\"477\",\"478\",\"479\",\"480\",\"481\",\"482\",\"483\",\"484\",\"485\",\"486\",\"487\",\"488\",\"489\",\"490\",\"491\",\"492\",\"493\",\"494\",\"495\",\"496\",\"497\",\"498\",\"499\",\"500\",\"501\",\"502\",\"503\",\"504\",\"505\",\"506\",\"507\",\"508\",\"509\",\"510\",\"511\",\"512\",\"513\",\"514\",\"515\",\"516\",\"517\",\"518\",\"519\",\"520\",\"521\",\"522\",\"523\",\"524\",\"525\",\"526\",\"527\",\"528\",\"529\",\"530\",\"531\",\"532\",\"533\",\"534\",\"535\",\"536\",\"537\",\"538\",\"539\",\"540\",\"541\",\"542\",\"543\",\"544\",\"545\",\"546\",\"547\",\"548\",\"549\",\"550\",\"551\",\"552\",\"553\",\"554\",\"555\",\"556\",\"557\",\"558\",\"559\",\"0\",\"1\",\"2\",\"3\",\"4\",\"5\",\"6\",\"7\",\"8\",\"9\",\"10\",\"11\",\"12\",\"13\",\"14\",\"15\",\"16\",\"17\",\"18\",\"19\",\"20\",\"21\",\"22\",\"23\",\"24\",\"25\",\"26\",\"27\",\"28\",\"29\",\"30\",\"31\",\"32\",\"33\",\"34\",\"35\",\"36\",\"37\",\"38\",\"39\",\"40\",\"41\",\"42\",\"43\",\"44\",\"45\",\"46\",\"47\",\"48\",\"49\",\"50\",\"51\",\"52\",\"53\",\"54\",\"55\",\"56\",\"57\",\"58\",\"59\",\"60\",\"61\",\"62\",\"63\",\"64\",\"65\",\"66\",\"67\",\"68\",\"69\",\"70\",\"71\",\"72\",\"73\",\"74\",\"75\",\"76\",\"77\",\"78\",\"79\",\"80\",\"81\",\"82\",\"83\",\"84\",\"85\",\"86\",\"87\",\"88\",\"89\",\"90\",\"91\",\"92\",\"93\",\"94\",\"95\",\"96\",\"97\",\"98\",\"99\",\"100\",\"101\",\"102\",\"103\",\"104\",\"105\",\"106\",\"107\",\"108\",\"109\",\"110\",\"111\",\"112\",\"113\",\"114\",\"115\",\"116\",\"117\",\"118\",\"119\",\"120\",\"121\",\"122\",\"123\",\"124\",\"125\",\"126\",\"127\",\"128\",\"129\",\"130\",\"131\",\"132\",\"133\",\"134\",\"135\",\"136\",\"137\",\"138\",\"139\",\"140\",\"141\",\"142\",\"143\",\"144\",\"145\",\"146\",\"147\",\"148\",\"149\",\"150\",\"151\",\"152\",\"153\",\"154\",\"155\",\"156\",\"157\",\"158\",\"159\",\"160\",\"161\",\"162\",\"163\",\"164\",\"165\",\"166\",\"167\",\"168\",\"169\",\"170\",\"171\",\"172\",\"173\",\"174\",\"175\",\"176\",\"177\",\"178\",\"179\",\"180\",\"181\",\"182\",\"183\",\"184\",\"185\",\"186\",\"187\",\"188\",\"189\",\"190\",\"191\",\"192\",\"193\",\"194\",\"195\",\"196\",\"197\",\"198\",\"199\",\"200\",\"201\",\"202\",\"203\",\"204\",\"205\",\"206\",\"207\",\"208\",\"209\",\"210\",\"211\",\"212\",\"213\",\"214\",\"215\",\"216\",\"217\",\"218\",\"219\",\"220\",\"221\",\"222\",\"223\",\"224\",\"225\",\"226\",\"227\",\"228\",\"229\",\"230\",\"231\",\"232\",\"233\",\"234\",\"235\",\"236\",\"237\",\"238\",\"239\",\"240\",\"241\",\"242\",\"243\",\"244\",\"245\",\"246\",\"247\",\"248\",\"249\",\"250\",\"251\",\"252\",\"253\",\"254\",\"255\",\"256\",\"257\",\"258\",\"259\",\"260\",\"261\",\"262\",\"263\",\"264\",\"265\",\"266\",\"267\",\"268\",\"269\",\"270\",\"271\",\"272\",\"273\",\"274\",\"275\",\"276\",\"277\",\"278\",\"279\",\"280\",\"281\",\"282\",\"283\",\"284\",\"285\",\"286\",\"287\",\"288\",\"289\",\"290\",\"291\",\"292\",\"293\",\"294\",\"295\",\"296\",\"297\",\"298\",\"299\",\"300\",\"301\",\"302\",\"303\",\"304\",\"305\",\"306\",\"307\",\"308\",\"309\",\"310\",\"311\",\"312\",\"313\",\"314\",\"315\",\"316\",\"317\",\"318\",\"319\",\"320\",\"321\",\"322\",\"323\",\"324\",\"325\",\"326\",\"327\",\"328\",\"329\",\"330\",\"331\",\"332\",\"333\",\"334\",\"335\",\"336\",\"337\",\"338\",\"339\",\"340\",\"341\",\"342\",\"343\",\"344\",\"345\",\"346\",\"347\",\"348\",\"349\",\"350\",\"351\",\"352\",\"353\",\"354\",\"355\",\"356\",\"357\",\"358\",\"359\",\"360\",\"361\",\"362\",\"363\",\"364\",\"365\",\"366\",\"367\",\"368\",\"369\",\"370\",\"371\",\"372\",\"373\",\"374\",\"375\",\"376\",\"377\",\"378\",\"379\",\"380\",\"381\",\"382\",\"383\",\"384\",\"385\",\"386\",\"387\",\"388\",\"389\",\"390\",\"391\",\"392\",\"393\",\"394\",\"395\",\"396\",\"397\",\"398\",\"399\",\"400\",\"401\",\"402\",\"403\",\"404\",\"405\",\"406\",\"407\",\"408\",\"409\",\"410\",\"411\",\"412\",\"413\",\"414\",\"415\",\"416\",\"417\",\"418\",\"419\",\"420\",\"421\",\"422\",\"423\",\"424\",\"425\",\"426\",\"427\",\"428\",\"429\",\"430\",\"431\",\"432\",\"433\",\"434\",\"435\",\"436\",\"437\",\"438\",\"439\",\"440\",\"441\",\"442\",\"443\",\"444\",\"445\",\"446\",\"447\",\"448\",\"449\",\"450\",\"451\",\"452\",\"453\",\"454\",\"455\",\"456\",\"457\",\"458\",\"459\",\"460\",\"461\",\"462\",\"463\",\"464\",\"465\",\"466\",\"467\",\"468\",\"469\",\"470\",\"471\",\"472\",\"473\",\"474\",\"475\",\"476\",\"477\",\"478\",\"479\",\"480\",\"481\",\"482\",\"483\",\"484\",\"485\",\"486\",\"487\",\"488\",\"489\",\"490\",\"491\",\"492\",\"493\",\"494\",\"495\",\"496\",\"497\",\"498\",\"499\",\"500\",\"501\",\"502\",\"503\",\"504\",\"505\",\"506\",\"507\",\"508\",\"509\",\"510\",\"511\",\"512\",\"513\",\"514\",\"515\",\"516\",\"517\",\"518\",\"519\",\"520\",\"521\",\"522\",\"523\",\"524\",\"525\",\"526\",\"527\",\"528\",\"529\",\"530\",\"531\",\"532\",\"533\",\"534\",\"535\",\"536\",\"537\",\"538\",\"539\",\"540\",\"541\",\"542\",\"543\",\"544\",\"545\",\"546\",\"547\",\"548\",\"549\",\"550\",\"551\",\"552\",\"553\",\"554\",\"555\",\"556\",\"557\",\"558\",\"559\",\"0\",\"1\",\"2\",\"3\",\"4\",\"5\",\"6\",\"7\",\"8\",\"9\",\"10\",\"11\",\"12\",\"13\",\"14\",\"15\",\"16\",\"17\",\"18\",\"19\",\"20\",\"21\",\"22\",\"23\",\"24\",\"25\",\"26\",\"27\",\"28\",\"29\",\"30\",\"31\",\"32\",\"33\",\"34\",\"35\",\"36\",\"37\",\"38\",\"39\",\"40\",\"41\",\"42\",\"43\",\"44\",\"45\",\"46\",\"47\",\"48\",\"49\",\"50\",\"51\",\"52\",\"53\",\"54\",\"55\",\"56\",\"57\",\"58\",\"59\",\"60\",\"61\",\"62\",\"63\",\"64\",\"65\",\"66\",\"67\",\"68\",\"69\",\"70\",\"71\",\"72\",\"73\",\"74\",\"75\",\"76\",\"77\",\"78\",\"79\",\"80\",\"81\",\"82\",\"83\",\"84\",\"85\",\"86\",\"87\",\"88\",\"89\",\"90\",\"91\",\"92\",\"93\",\"94\",\"95\",\"96\",\"97\",\"98\",\"99\",\"100\",\"101\",\"102\",\"103\",\"104\",\"105\",\"106\",\"107\",\"108\",\"109\",\"110\",\"111\",\"112\",\"113\",\"114\",\"115\",\"116\",\"117\",\"118\",\"119\",\"120\",\"121\",\"122\",\"123\",\"124\",\"125\",\"126\",\"127\",\"128\",\"129\",\"130\",\"131\",\"132\",\"133\",\"134\",\"135\",\"136\",\"137\",\"138\",\"139\",\"140\",\"141\",\"142\",\"143\",\"144\",\"145\",\"146\",\"147\",\"148\",\"149\",\"150\",\"151\",\"152\",\"153\",\"154\",\"155\",\"156\",\"157\",\"158\",\"159\",\"160\",\"161\",\"162\",\"163\",\"164\",\"165\",\"166\",\"167\",\"168\",\"169\",\"170\",\"171\",\"172\",\"173\",\"174\",\"175\",\"176\",\"177\",\"178\",\"179\",\"180\",\"181\",\"182\",\"183\",\"184\",\"185\",\"186\",\"187\",\"188\",\"189\",\"190\",\"191\",\"192\",\"193\",\"194\",\"195\",\"196\",\"197\",\"198\",\"199\",\"200\",\"201\",\"202\",\"203\",\"204\",\"205\",\"206\",\"207\",\"208\",\"209\",\"210\",\"211\",\"212\",\"213\",\"214\",\"215\",\"216\",\"217\",\"218\",\"219\",\"220\",\"221\",\"222\",\"223\",\"224\",\"225\",\"226\",\"227\",\"228\",\"229\",\"230\",\"231\",\"232\",\"233\",\"234\",\"235\",\"236\",\"237\",\"238\",\"239\",\"240\",\"241\",\"242\",\"243\",\"244\",\"245\",\"246\",\"247\",\"248\",\"249\",\"250\",\"251\",\"252\",\"253\",\"254\",\"255\",\"256\",\"257\",\"258\",\"259\",\"260\",\"261\",\"262\",\"263\",\"264\",\"265\",\"266\",\"267\",\"268\",\"269\",\"270\",\"271\",\"272\",\"273\",\"274\",\"275\",\"276\",\"277\",\"278\",\"279\",\"280\",\"281\",\"282\",\"283\",\"284\",\"285\",\"286\",\"287\",\"288\",\"289\",\"290\",\"291\",\"292\",\"293\",\"294\",\"295\",\"296\",\"297\",\"298\",\"299\",\"300\",\"301\",\"302\",\"303\",\"304\",\"305\",\"306\",\"307\",\"308\",\"309\",\"310\",\"311\",\"312\",\"313\",\"314\",\"315\",\"316\",\"317\",\"318\",\"319\",\"320\",\"321\",\"322\",\"323\",\"324\",\"325\",\"326\",\"327\",\"328\",\"329\",\"330\",\"331\",\"332\",\"333\",\"334\",\"335\",\"336\",\"337\",\"338\",\"339\",\"340\",\"341\",\"342\",\"343\",\"344\",\"345\",\"346\",\"347\",\"348\",\"349\",\"350\",\"351\",\"352\",\"353\",\"354\",\"355\",\"356\",\"357\",\"358\",\"359\",\"360\",\"361\",\"362\",\"363\",\"364\",\"365\",\"366\",\"367\",\"368\",\"369\",\"370\",\"371\",\"372\",\"373\",\"374\",\"375\",\"376\",\"377\",\"378\",\"379\",\"380\",\"381\",\"382\",\"383\",\"384\",\"385\",\"386\",\"387\",\"388\",\"389\",\"390\",\"391\",\"392\",\"393\",\"394\",\"395\",\"396\",\"397\",\"398\",\"399\",\"400\",\"401\",\"402\",\"403\",\"404\",\"405\",\"406\",\"407\",\"408\",\"409\",\"410\",\"411\",\"412\",\"413\",\"414\",\"415\",\"416\",\"417\",\"418\",\"419\",\"420\",\"421\",\"422\",\"423\",\"424\",\"425\",\"426\",\"427\",\"428\",\"429\",\"430\",\"431\",\"432\",\"433\",\"434\",\"435\",\"436\",\"437\",\"438\",\"439\",\"440\",\"441\",\"442\",\"443\",\"444\",\"445\",\"446\",\"447\",\"448\",\"449\",\"450\",\"451\",\"452\",\"453\",\"454\",\"455\",\"456\",\"457\",\"458\",\"459\",\"460\",\"461\",\"462\",\"463\",\"464\",\"465\",\"466\",\"467\",\"468\",\"469\",\"470\",\"471\",\"472\",\"473\",\"474\",\"475\",\"476\",\"477\",\"478\",\"479\",\"480\",\"481\",\"482\",\"483\",\"484\",\"485\",\"486\",\"487\",\"488\",\"489\",\"490\",\"491\",\"492\",\"493\",\"494\",\"495\",\"496\",\"497\",\"498\",\"499\",\"500\",\"501\",\"502\",\"503\",\"504\",\"505\",\"506\",\"507\",\"508\",\"509\",\"510\",\"511\",\"512\",\"513\",\"514\",\"515\",\"516\",\"517\",\"518\",\"519\",\"520\",\"521\",\"522\",\"523\",\"524\",\"525\",\"526\",\"527\",\"528\",\"529\",\"530\",\"531\",\"532\",\"533\",\"534\",\"535\",\"536\",\"537\",\"538\",\"539\",\"540\",\"541\",\"542\",\"543\",\"544\",\"545\",\"546\",\"547\",\"548\",\"549\",\"550\",\"551\",\"552\",\"553\",\"554\",\"555\",\"556\",\"557\",\"558\",\"559\",\"0\",\"1\",\"2\",\"3\",\"4\",\"5\",\"6\",\"7\",\"8\",\"9\",\"10\",\"11\",\"12\",\"13\",\"14\",\"15\",\"16\",\"17\",\"18\",\"19\",\"20\",\"21\",\"22\",\"23\",\"24\",\"25\",\"26\",\"27\",\"28\",\"29\",\"30\",\"31\",\"32\",\"33\",\"34\",\"35\",\"36\",\"37\",\"38\",\"39\",\"40\",\"41\",\"42\",\"43\",\"44\",\"45\",\"46\",\"47\",\"48\",\"49\",\"50\",\"51\",\"52\",\"53\",\"54\",\"55\",\"56\",\"57\",\"58\",\"59\",\"60\",\"61\",\"62\",\"63\",\"64\",\"65\",\"66\",\"67\",\"68\",\"69\",\"70\",\"71\",\"72\",\"73\",\"74\",\"75\",\"76\",\"77\",\"78\",\"79\",\"80\",\"81\",\"82\",\"83\",\"84\",\"85\",\"86\",\"87\",\"88\",\"89\",\"90\",\"91\",\"92\",\"93\",\"94\",\"95\",\"96\",\"97\",\"98\",\"99\",\"100\",\"101\",\"102\",\"103\",\"104\",\"105\",\"106\",\"107\",\"108\",\"109\",\"110\",\"111\",\"112\",\"113\",\"114\",\"115\",\"116\",\"117\",\"118\",\"119\",\"120\",\"121\",\"122\",\"123\",\"124\",\"125\",\"126\",\"127\",\"128\",\"129\",\"130\",\"131\",\"132\",\"133\",\"134\",\"135\",\"136\",\"137\",\"138\",\"139\",\"140\",\"141\",\"142\",\"143\",\"144\",\"145\",\"146\",\"147\",\"148\",\"149\",\"150\",\"151\",\"152\",\"153\",\"154\",\"155\",\"156\",\"157\",\"158\",\"159\",\"160\",\"161\",\"162\",\"163\",\"164\",\"165\",\"166\",\"167\",\"168\",\"169\",\"170\",\"171\",\"172\",\"173\",\"174\",\"175\",\"176\",\"177\",\"178\",\"179\",\"180\",\"181\",\"182\",\"183\",\"184\",\"185\",\"186\",\"187\",\"188\",\"189\",\"190\",\"191\",\"192\",\"193\",\"194\",\"195\",\"196\",\"197\",\"198\",\"199\",\"200\",\"201\",\"202\",\"203\",\"204\",\"205\",\"206\",\"207\",\"208\",\"209\",\"210\",\"211\",\"212\",\"213\",\"214\",\"215\",\"216\",\"217\",\"218\",\"219\",\"220\",\"221\",\"222\",\"223\",\"224\",\"225\",\"226\",\"227\",\"228\",\"229\",\"230\",\"231\",\"232\",\"233\",\"234\",\"235\",\"236\",\"237\",\"238\",\"239\",\"240\",\"241\",\"242\",\"243\",\"244\",\"245\",\"246\",\"247\",\"248\",\"249\",\"250\",\"251\",\"252\",\"253\",\"254\",\"255\",\"256\",\"257\",\"258\",\"259\",\"260\",\"261\",\"262\",\"263\",\"264\",\"265\",\"266\",\"267\",\"268\",\"269\",\"270\",\"271\",\"272\",\"273\",\"274\",\"275\",\"276\",\"277\",\"278\",\"279\",\"280\",\"281\",\"282\",\"283\",\"284\",\"285\",\"286\",\"287\",\"288\",\"289\",\"290\",\"291\",\"292\",\"293\",\"294\",\"295\",\"296\",\"297\",\"298\",\"299\",\"300\",\"301\",\"302\",\"303\",\"304\",\"305\",\"306\",\"307\",\"308\",\"309\",\"310\",\"311\",\"312\",\"313\",\"314\",\"315\",\"316\",\"317\",\"318\",\"319\",\"320\",\"321\",\"322\",\"323\",\"324\",\"325\",\"326\",\"327\",\"328\",\"329\",\"330\",\"331\",\"332\",\"333\",\"334\",\"335\",\"336\",\"337\",\"338\",\"339\",\"340\",\"341\",\"342\",\"343\",\"344\",\"345\",\"346\",\"347\",\"348\",\"349\",\"350\",\"351\",\"352\",\"353\",\"354\",\"355\",\"356\",\"357\",\"358\",\"359\",\"360\",\"361\",\"362\",\"363\",\"364\",\"365\",\"366\",\"367\",\"368\",\"369\",\"370\",\"371\",\"372\",\"373\",\"374\",\"375\",\"376\",\"377\",\"378\",\"379\",\"380\",\"381\",\"382\",\"383\",\"384\",\"385\",\"386\",\"387\",\"388\",\"389\",\"390\",\"391\",\"392\",\"393\",\"394\",\"395\",\"396\",\"397\",\"398\",\"399\",\"400\",\"401\",\"402\",\"403\",\"404\",\"405\",\"406\",\"407\",\"408\",\"409\",\"410\",\"411\",\"412\",\"413\",\"414\",\"415\",\"416\",\"417\",\"418\",\"419\",\"420\",\"421\",\"422\",\"423\",\"424\",\"425\",\"426\",\"427\",\"428\",\"429\",\"430\",\"431\",\"432\",\"433\",\"434\",\"435\",\"436\",\"437\",\"438\",\"439\",\"440\",\"441\",\"442\",\"443\",\"444\",\"445\",\"446\",\"447\",\"448\",\"449\",\"450\",\"451\",\"452\",\"453\",\"454\",\"455\",\"456\",\"457\",\"458\",\"459\",\"460\",\"461\",\"462\",\"463\",\"464\",\"465\",\"466\",\"467\",\"468\",\"469\",\"470\",\"471\",\"472\",\"473\",\"474\",\"475\",\"476\",\"477\",\"478\",\"479\",\"480\",\"481\",\"482\",\"483\",\"484\",\"485\",\"486\",\"487\",\"488\",\"489\",\"490\",\"491\",\"492\",\"493\",\"494\",\"495\",\"496\",\"497\",\"498\",\"499\",\"500\",\"501\",\"502\",\"503\",\"504\",\"505\",\"506\",\"507\",\"508\",\"509\",\"510\",\"511\",\"512\",\"513\",\"514\",\"515\",\"516\",\"517\",\"518\",\"519\",\"520\",\"521\",\"522\",\"523\",\"524\",\"525\",\"526\",\"527\",\"528\",\"529\",\"530\",\"531\",\"532\",\"533\",\"534\",\"535\",\"536\",\"537\",\"538\",\"539\",\"540\",\"541\",\"542\",\"543\",\"544\",\"545\",\"546\",\"547\",\"548\",\"549\",\"550\",\"551\",\"552\",\"553\",\"554\",\"555\",\"556\",\"557\",\"558\",\"559\",\"0\",\"1\",\"2\",\"3\",\"4\",\"5\",\"6\",\"7\",\"8\",\"9\",\"10\",\"11\",\"12\",\"13\",\"14\",\"15\",\"16\",\"17\",\"18\",\"19\",\"20\",\"21\",\"22\",\"23\",\"24\",\"25\",\"26\",\"27\",\"28\",\"29\",\"30\",\"31\",\"32\",\"33\",\"34\",\"35\",\"36\",\"37\",\"38\",\"39\",\"40\",\"41\",\"42\",\"43\",\"44\",\"45\",\"46\",\"47\",\"48\",\"49\",\"50\",\"51\",\"52\",\"53\",\"54\",\"55\",\"56\",\"57\",\"58\",\"59\",\"60\",\"61\",\"62\",\"63\",\"64\",\"65\",\"66\",\"67\",\"68\",\"69\",\"70\",\"71\",\"72\",\"73\",\"74\",\"75\",\"76\",\"77\",\"78\",\"79\",\"80\",\"81\",\"82\",\"83\",\"84\",\"85\",\"86\",\"87\",\"88\",\"89\",\"90\",\"91\",\"92\",\"93\",\"94\",\"95\",\"96\",\"97\",\"98\",\"99\",\"100\",\"101\",\"102\",\"103\",\"104\",\"105\",\"106\",\"107\",\"108\",\"109\",\"110\",\"111\",\"112\",\"113\",\"114\",\"115\",\"116\",\"117\",\"118\",\"119\",\"120\",\"121\",\"122\",\"123\",\"124\",\"125\",\"126\",\"127\",\"128\",\"129\",\"130\",\"131\",\"132\",\"133\",\"134\",\"135\",\"136\",\"137\",\"138\",\"139\",\"140\",\"141\",\"142\",\"143\",\"144\",\"145\",\"146\",\"147\",\"148\",\"149\",\"150\",\"151\",\"152\",\"153\",\"154\",\"155\",\"156\",\"157\",\"158\",\"159\",\"160\",\"161\",\"162\",\"163\",\"164\",\"165\",\"166\",\"167\",\"168\",\"169\",\"170\",\"171\",\"172\",\"173\",\"174\",\"175\",\"176\",\"177\",\"178\",\"179\",\"180\",\"181\",\"182\",\"183\",\"184\",\"185\",\"186\",\"187\",\"188\",\"189\",\"190\",\"191\",\"192\",\"193\",\"194\",\"195\",\"196\",\"197\",\"198\",\"199\",\"200\",\"201\",\"202\",\"203\",\"204\",\"205\",\"206\",\"207\",\"208\",\"209\",\"210\",\"211\",\"212\",\"213\",\"214\",\"215\",\"216\",\"217\",\"218\",\"219\",\"220\",\"221\",\"222\",\"223\",\"224\",\"225\",\"226\",\"227\",\"228\",\"229\",\"230\",\"231\",\"232\",\"233\",\"234\",\"235\",\"236\",\"237\",\"238\",\"239\",\"240\",\"241\",\"242\",\"243\",\"244\",\"245\",\"246\",\"247\",\"248\",\"249\",\"250\",\"251\",\"252\",\"253\",\"254\",\"255\",\"256\",\"257\",\"258\",\"259\",\"260\",\"261\",\"262\",\"263\",\"264\",\"265\",\"266\",\"267\",\"268\",\"269\",\"270\",\"271\",\"272\",\"273\",\"274\",\"275\",\"276\",\"277\",\"278\",\"279\",\"280\",\"281\",\"282\",\"283\",\"284\",\"285\",\"286\",\"287\",\"288\",\"289\",\"290\",\"291\",\"292\",\"293\",\"294\",\"295\",\"296\",\"297\",\"298\",\"299\",\"300\",\"301\",\"302\",\"303\",\"304\",\"305\",\"306\",\"307\",\"308\",\"309\",\"310\",\"311\",\"312\",\"313\",\"314\",\"315\",\"316\",\"317\",\"318\",\"319\",\"320\",\"321\",\"322\",\"323\",\"324\",\"325\",\"326\",\"327\",\"328\",\"329\",\"330\",\"331\",\"332\",\"333\",\"334\",\"335\",\"336\",\"337\",\"338\",\"339\",\"340\",\"341\",\"342\",\"343\",\"344\",\"345\",\"346\",\"347\",\"348\",\"349\",\"350\",\"351\",\"352\",\"353\",\"354\",\"355\",\"356\",\"357\",\"358\",\"359\",\"360\",\"361\",\"362\",\"363\",\"364\",\"365\",\"366\",\"367\",\"368\",\"369\",\"370\",\"371\",\"372\",\"373\",\"374\",\"375\",\"376\",\"377\",\"378\",\"379\",\"380\",\"381\",\"382\",\"383\",\"384\",\"385\",\"386\",\"387\",\"388\",\"389\",\"390\",\"391\",\"392\",\"393\",\"394\",\"395\",\"396\",\"397\",\"398\",\"399\",\"400\",\"401\",\"402\",\"403\",\"404\",\"405\",\"406\",\"407\",\"408\",\"409\",\"410\",\"411\",\"412\",\"413\",\"414\",\"415\",\"416\",\"417\",\"418\",\"419\",\"420\",\"421\",\"422\",\"423\",\"424\",\"425\",\"426\",\"427\",\"428\",\"429\",\"430\",\"431\",\"432\",\"433\",\"434\",\"435\",\"436\",\"437\",\"438\",\"439\",\"440\",\"441\",\"442\",\"443\",\"444\",\"445\",\"446\",\"447\",\"448\",\"449\",\"450\",\"451\",\"452\",\"453\",\"454\",\"455\",\"456\",\"457\",\"458\",\"459\",\"460\",\"461\",\"462\",\"463\",\"464\",\"465\",\"466\",\"467\",\"468\",\"469\",\"470\",\"471\",\"472\",\"473\",\"474\",\"475\",\"476\",\"477\",\"478\",\"479\",\"480\",\"481\",\"482\",\"483\",\"484\",\"485\",\"486\",\"487\",\"488\",\"489\",\"490\",\"491\",\"492\",\"493\",\"494\",\"495\",\"496\",\"497\",\"498\",\"499\",\"500\",\"501\",\"502\",\"503\",\"504\",\"505\",\"506\",\"507\",\"508\",\"509\",\"510\",\"511\",\"512\",\"513\",\"514\",\"515\",\"516\",\"517\",\"518\",\"519\",\"520\",\"521\",\"522\",\"523\",\"524\",\"525\",\"526\",\"527\",\"528\",\"529\",\"530\",\"531\",\"532\",\"533\",\"534\",\"535\",\"536\",\"537\",\"538\",\"539\",\"540\",\"541\",\"542\",\"543\",\"544\",\"545\",\"546\",\"547\",\"548\",\"549\",\"550\",\"551\",\"552\",\"553\",\"554\",\"555\",\"556\",\"557\",\"558\",\"559\",\"0\",\"1\",\"2\",\"3\",\"4\",\"5\",\"6\",\"7\",\"8\",\"9\",\"10\",\"11\",\"12\",\"13\",\"14\",\"15\",\"16\",\"17\",\"18\",\"19\",\"20\",\"21\",\"22\",\"23\",\"24\",\"25\",\"26\",\"27\",\"28\",\"29\",\"30\",\"31\",\"32\",\"33\",\"34\",\"35\",\"36\",\"37\",\"38\",\"39\",\"40\",\"41\",\"42\",\"43\",\"44\",\"45\",\"46\",\"47\",\"48\",\"49\",\"50\",\"51\",\"52\",\"53\",\"54\",\"55\",\"56\",\"57\",\"58\",\"59\",\"60\",\"61\",\"62\",\"63\",\"64\",\"65\",\"66\",\"67\",\"68\",\"69\",\"70\",\"71\",\"72\",\"73\",\"74\",\"75\",\"76\",\"77\",\"78\",\"79\",\"80\",\"81\",\"82\",\"83\",\"84\",\"85\",\"86\",\"87\",\"88\",\"89\",\"90\",\"91\",\"92\",\"93\",\"94\",\"95\",\"96\",\"97\",\"98\",\"99\",\"100\",\"101\",\"102\",\"103\",\"104\",\"105\",\"106\",\"107\",\"108\",\"109\",\"110\",\"111\",\"112\",\"113\",\"114\",\"115\",\"116\",\"117\",\"118\",\"119\",\"120\",\"121\",\"122\",\"123\",\"124\",\"125\",\"126\",\"127\",\"128\",\"129\",\"130\",\"131\",\"132\",\"133\",\"134\",\"135\",\"136\",\"137\",\"138\",\"139\",\"140\",\"141\",\"142\",\"143\",\"144\",\"145\",\"146\",\"147\",\"148\",\"149\",\"150\",\"151\",\"152\",\"153\",\"154\",\"155\",\"156\",\"157\",\"158\",\"159\",\"160\",\"161\",\"162\",\"163\",\"164\",\"165\",\"166\",\"167\",\"168\",\"169\",\"170\",\"171\",\"172\",\"173\",\"174\",\"175\",\"176\",\"177\",\"178\",\"179\",\"180\",\"181\",\"182\",\"183\",\"184\",\"185\",\"186\",\"187\",\"188\",\"189\",\"190\",\"191\",\"192\",\"193\",\"194\",\"195\",\"196\",\"197\",\"198\",\"199\",\"200\",\"201\",\"202\",\"203\",\"204\",\"205\",\"206\",\"207\",\"208\",\"209\",\"210\",\"211\",\"212\",\"213\",\"214\",\"215\",\"216\",\"217\",\"218\",\"219\",\"220\",\"221\",\"222\",\"223\",\"224\",\"225\",\"226\",\"227\",\"228\",\"229\",\"230\",\"231\",\"232\",\"233\",\"234\",\"235\",\"236\",\"237\",\"238\",\"239\",\"240\",\"241\",\"242\",\"243\",\"244\",\"245\",\"246\",\"247\",\"248\",\"249\",\"250\",\"251\",\"252\",\"253\",\"254\",\"255\",\"256\",\"257\",\"258\",\"259\",\"260\",\"261\",\"262\",\"263\",\"264\",\"265\",\"266\",\"267\",\"268\",\"269\",\"270\",\"271\",\"272\",\"273\",\"274\",\"275\",\"276\",\"277\",\"278\",\"279\",\"280\",\"281\",\"282\",\"283\",\"284\",\"285\",\"286\",\"287\",\"288\",\"289\",\"290\",\"291\",\"292\",\"293\",\"294\",\"295\",\"296\",\"297\",\"298\",\"299\",\"300\",\"301\",\"302\",\"303\",\"304\",\"305\",\"306\",\"307\",\"308\",\"309\",\"310\",\"311\",\"312\",\"313\",\"314\",\"315\",\"316\",\"317\",\"318\",\"319\",\"320\",\"321\",\"322\",\"323\",\"324\",\"325\",\"326\",\"327\",\"328\",\"329\",\"330\",\"331\",\"332\",\"333\",\"334\",\"335\",\"336\",\"337\",\"338\",\"339\",\"340\",\"341\",\"342\",\"343\",\"344\",\"345\",\"346\",\"347\",\"348\",\"349\",\"350\",\"351\",\"352\",\"353\",\"354\",\"355\",\"356\",\"357\",\"358\",\"359\",\"360\",\"361\",\"362\",\"363\",\"364\",\"365\",\"366\",\"367\",\"368\",\"369\",\"370\",\"371\",\"372\",\"373\",\"374\",\"375\",\"376\",\"377\",\"378\",\"379\",\"380\",\"381\",\"382\",\"383\",\"384\",\"385\",\"386\",\"387\",\"388\",\"389\",\"390\",\"391\",\"392\",\"393\",\"394\",\"395\",\"396\",\"397\",\"398\",\"399\",\"400\",\"401\",\"402\",\"403\",\"404\",\"405\",\"406\",\"407\",\"408\",\"409\",\"410\",\"411\",\"412\",\"413\",\"414\",\"415\",\"416\",\"417\",\"418\",\"419\",\"420\",\"421\",\"422\",\"423\",\"424\",\"425\",\"426\",\"427\",\"428\",\"429\",\"430\",\"431\",\"432\",\"433\",\"434\",\"435\",\"436\",\"437\",\"438\",\"439\",\"440\",\"441\",\"442\",\"443\",\"444\",\"445\",\"446\",\"447\",\"448\",\"449\",\"450\",\"451\",\"452\",\"453\",\"454\",\"455\",\"456\",\"457\",\"458\",\"459\",\"460\",\"461\",\"462\",\"463\",\"464\",\"465\",\"466\",\"467\",\"468\",\"469\",\"470\",\"471\",\"472\",\"473\",\"474\",\"475\",\"476\",\"477\",\"478\",\"479\",\"480\",\"481\",\"482\",\"483\",\"484\",\"485\",\"486\",\"487\",\"488\",\"489\",\"490\",\"491\",\"492\",\"493\",\"494\",\"495\",\"496\",\"497\",\"498\",\"499\",\"500\",\"501\",\"502\",\"503\",\"504\",\"505\",\"506\",\"507\",\"508\",\"509\",\"510\",\"511\",\"512\",\"513\",\"514\",\"515\",\"516\",\"517\",\"518\",\"519\",\"520\",\"521\",\"522\",\"523\",\"524\",\"525\",\"526\",\"527\",\"528\",\"529\",\"530\",\"531\",\"532\",\"533\",\"534\",\"535\",\"536\",\"537\",\"538\",\"539\",\"540\",\"541\",\"542\",\"543\",\"544\",\"545\",\"546\",\"547\",\"548\",\"549\",\"550\",\"551\",\"552\",\"553\",\"554\",\"555\",\"556\",\"557\",\"558\",\"559\",\"0\",\"1\",\"2\",\"3\",\"4\",\"5\",\"6\",\"7\",\"8\",\"9\",\"10\",\"11\",\"12\",\"13\",\"14\",\"15\",\"16\",\"17\",\"18\",\"19\",\"20\",\"21\",\"22\",\"23\",\"24\",\"25\",\"26\",\"27\",\"28\",\"29\",\"30\",\"31\",\"32\",\"33\",\"34\",\"35\",\"36\",\"37\",\"38\",\"39\",\"40\",\"41\",\"42\",\"43\",\"44\",\"45\",\"46\",\"47\",\"48\",\"49\",\"50\",\"51\",\"52\",\"53\",\"54\",\"55\",\"56\",\"57\",\"58\",\"59\",\"60\",\"61\",\"62\",\"63\",\"64\",\"65\",\"66\",\"67\",\"68\",\"69\",\"70\",\"71\",\"72\",\"73\",\"74\",\"75\",\"76\",\"77\",\"78\",\"79\",\"80\",\"81\",\"82\",\"83\",\"84\",\"85\",\"86\",\"87\",\"88\",\"89\",\"90\",\"91\",\"92\",\"93\",\"94\",\"95\",\"96\",\"97\",\"98\",\"99\",\"100\",\"101\",\"102\",\"103\",\"104\",\"105\",\"106\",\"107\",\"108\",\"109\",\"110\",\"111\",\"112\",\"113\",\"114\",\"115\",\"116\",\"117\",\"118\",\"119\",\"120\",\"121\",\"122\",\"123\",\"124\",\"125\",\"126\",\"127\",\"128\",\"129\",\"130\",\"131\",\"132\",\"133\",\"134\",\"135\",\"136\",\"137\",\"138\",\"139\",\"140\",\"141\",\"142\",\"143\",\"144\",\"145\",\"146\",\"147\",\"148\",\"149\",\"150\",\"151\",\"152\",\"153\",\"154\",\"155\",\"156\",\"157\",\"158\",\"159\",\"160\",\"161\",\"162\",\"163\",\"164\",\"165\",\"166\",\"167\",\"168\",\"169\",\"170\",\"171\",\"172\",\"173\",\"174\",\"175\",\"176\",\"177\",\"178\",\"179\",\"180\",\"181\",\"182\",\"183\",\"184\",\"185\",\"186\",\"187\",\"188\",\"189\",\"190\",\"191\",\"192\",\"193\",\"194\",\"195\",\"196\",\"197\",\"198\",\"199\",\"200\",\"201\",\"202\",\"203\",\"204\",\"205\",\"206\",\"207\",\"208\",\"209\",\"210\",\"211\",\"212\",\"213\",\"214\",\"215\",\"216\",\"217\",\"218\",\"219\",\"220\",\"221\",\"222\",\"223\",\"224\",\"225\",\"226\",\"227\",\"228\",\"229\",\"230\",\"231\",\"232\",\"233\",\"234\",\"235\",\"236\",\"237\",\"238\",\"239\",\"240\",\"241\",\"242\",\"243\",\"244\",\"245\",\"246\",\"247\",\"248\",\"249\",\"250\",\"251\",\"252\",\"253\",\"254\",\"255\",\"256\",\"257\",\"258\",\"259\",\"260\",\"261\",\"262\",\"263\",\"264\",\"265\",\"266\",\"267\",\"268\",\"269\",\"270\",\"271\",\"272\",\"273\",\"274\",\"275\",\"276\",\"277\",\"278\",\"279\",\"280\",\"281\",\"282\",\"283\",\"284\",\"285\",\"286\",\"287\",\"288\",\"289\",\"290\",\"291\",\"292\",\"293\",\"294\",\"295\",\"296\",\"297\",\"298\",\"299\",\"300\",\"301\",\"302\",\"303\",\"304\",\"305\",\"306\",\"307\",\"308\",\"309\",\"310\",\"311\",\"312\",\"313\",\"314\",\"315\",\"316\",\"317\",\"318\",\"319\",\"320\",\"321\",\"322\",\"323\",\"324\",\"325\",\"326\",\"327\",\"328\",\"329\",\"330\",\"331\",\"332\",\"333\",\"334\",\"335\",\"336\",\"337\",\"338\",\"339\",\"340\",\"341\",\"342\",\"343\",\"344\",\"345\",\"346\",\"347\",\"348\",\"349\",\"350\",\"351\",\"352\",\"353\",\"354\",\"355\",\"356\",\"357\",\"358\",\"359\",\"360\",\"361\",\"362\",\"363\",\"364\",\"365\",\"366\",\"367\",\"368\",\"369\",\"370\",\"371\",\"372\",\"373\",\"374\",\"375\",\"376\",\"377\",\"378\",\"379\",\"380\",\"381\",\"382\",\"383\",\"384\",\"385\",\"386\",\"387\",\"388\",\"389\",\"390\",\"391\",\"392\",\"393\",\"394\",\"395\",\"396\",\"397\",\"398\",\"399\",\"400\",\"401\",\"402\",\"403\",\"404\",\"405\",\"406\",\"407\",\"408\",\"409\",\"410\",\"411\",\"412\",\"413\",\"414\",\"415\",\"416\",\"417\",\"418\",\"419\",\"420\",\"421\",\"422\",\"423\",\"424\",\"425\",\"426\",\"427\",\"428\",\"429\",\"430\",\"431\",\"432\",\"433\",\"434\",\"435\",\"436\",\"437\",\"438\",\"439\",\"440\",\"441\",\"442\",\"443\",\"444\",\"445\",\"446\",\"447\",\"448\",\"449\",\"450\",\"451\",\"452\",\"453\",\"454\",\"455\",\"456\",\"457\",\"458\",\"459\",\"460\",\"461\",\"462\",\"463\",\"464\",\"465\",\"466\",\"467\",\"468\",\"469\",\"470\",\"471\",\"472\",\"473\",\"474\",\"475\",\"476\",\"477\",\"478\",\"479\",\"480\",\"481\",\"482\",\"483\",\"484\",\"485\",\"486\",\"487\",\"488\",\"489\",\"490\",\"491\",\"492\",\"493\",\"494\",\"495\",\"496\",\"497\",\"498\",\"499\",\"500\",\"501\",\"502\",\"503\",\"504\",\"505\",\"506\",\"507\",\"508\",\"509\",\"510\",\"511\",\"512\",\"513\",\"514\",\"515\",\"516\",\"517\",\"518\",\"519\",\"520\",\"521\",\"522\",\"523\",\"524\",\"525\",\"526\",\"527\",\"528\",\"529\",\"530\",\"531\",\"532\",\"533\",\"534\",\"535\",\"536\",\"537\",\"538\",\"539\",\"540\",\"541\",\"542\",\"543\",\"544\",\"545\",\"546\",\"547\",\"548\",\"549\",\"550\",\"551\",\"552\",\"553\",\"554\",\"555\",\"556\",\"557\",\"558\",\"559\",\"0\",\"1\",\"2\",\"3\",\"4\",\"5\",\"6\",\"7\",\"8\",\"9\",\"10\",\"11\",\"12\",\"13\",\"14\",\"15\",\"16\",\"17\",\"18\",\"19\",\"20\",\"21\",\"22\",\"23\",\"24\",\"25\",\"26\",\"27\",\"28\",\"29\",\"30\",\"31\",\"32\",\"33\",\"34\",\"35\",\"36\",\"37\",\"38\",\"39\",\"40\",\"41\",\"42\",\"43\",\"44\",\"45\",\"46\",\"47\",\"48\",\"49\",\"50\",\"51\",\"52\",\"53\",\"54\",\"55\",\"56\",\"57\",\"58\",\"59\",\"60\",\"61\",\"62\",\"63\",\"64\",\"65\",\"66\",\"67\",\"68\",\"69\",\"70\",\"71\",\"72\",\"73\",\"74\",\"75\",\"76\",\"77\",\"78\",\"79\",\"80\",\"81\",\"82\",\"83\",\"84\",\"85\",\"86\",\"87\",\"88\",\"89\",\"90\",\"91\",\"92\",\"93\",\"94\",\"95\",\"96\",\"97\",\"98\",\"99\",\"100\",\"101\",\"102\",\"103\",\"104\",\"105\",\"106\",\"107\",\"108\",\"109\",\"110\",\"111\",\"112\",\"113\",\"114\",\"115\",\"116\",\"117\",\"118\",\"119\",\"120\",\"121\",\"122\",\"123\",\"124\",\"125\",\"126\",\"127\",\"128\",\"129\",\"130\",\"131\",\"132\",\"133\",\"134\",\"135\",\"136\",\"137\",\"138\",\"139\",\"140\",\"141\",\"142\",\"143\",\"144\",\"145\",\"146\",\"147\",\"148\",\"149\",\"150\",\"151\",\"152\",\"153\",\"154\",\"155\",\"156\",\"157\",\"158\",\"159\",\"160\",\"161\",\"162\",\"163\",\"164\",\"165\",\"166\",\"167\",\"168\",\"169\",\"170\",\"171\",\"172\",\"173\",\"174\",\"175\",\"176\",\"177\",\"178\",\"179\",\"180\",\"181\",\"182\",\"183\",\"184\",\"185\",\"186\",\"187\",\"188\",\"189\",\"190\",\"191\",\"192\",\"193\",\"194\",\"195\",\"196\",\"197\",\"198\",\"199\",\"200\",\"201\",\"202\",\"203\",\"204\",\"205\",\"206\",\"207\",\"208\",\"209\",\"210\",\"211\",\"212\",\"213\",\"214\",\"215\",\"216\",\"217\",\"218\",\"219\",\"220\",\"221\",\"222\",\"223\",\"224\",\"225\",\"226\",\"227\",\"228\",\"229\",\"230\",\"231\",\"232\",\"233\",\"234\",\"235\",\"236\",\"237\",\"238\",\"239\",\"240\",\"241\",\"242\",\"243\",\"244\",\"245\",\"246\",\"247\",\"248\",\"249\",\"250\",\"251\",\"252\",\"253\",\"254\",\"255\",\"256\",\"257\",\"258\",\"259\",\"260\",\"261\",\"262\",\"263\",\"264\",\"265\",\"266\",\"267\",\"268\",\"269\",\"270\",\"271\",\"272\",\"273\",\"274\",\"275\",\"276\",\"277\",\"278\",\"279\",\"280\",\"281\",\"282\",\"283\",\"284\",\"285\",\"286\",\"287\",\"288\",\"289\",\"290\",\"291\",\"292\",\"293\",\"294\",\"295\",\"296\",\"297\",\"298\",\"299\",\"300\",\"301\",\"302\",\"303\",\"304\",\"305\",\"306\",\"307\",\"308\",\"309\",\"310\",\"311\",\"312\",\"313\",\"314\",\"315\",\"316\",\"317\",\"318\",\"319\",\"320\",\"321\",\"322\",\"323\",\"324\",\"325\",\"326\",\"327\",\"328\",\"329\",\"330\",\"331\",\"332\",\"333\",\"334\",\"335\",\"336\",\"337\",\"338\",\"339\",\"340\",\"341\",\"342\",\"343\",\"344\",\"345\",\"346\",\"347\",\"348\",\"349\",\"350\",\"351\",\"352\",\"353\",\"354\",\"355\",\"356\",\"357\",\"358\",\"359\",\"360\",\"361\",\"362\",\"363\",\"364\",\"365\",\"366\",\"367\",\"368\",\"369\",\"370\",\"371\",\"372\",\"373\",\"374\",\"375\",\"376\",\"377\",\"378\",\"379\",\"380\",\"381\",\"382\",\"383\",\"384\",\"385\",\"386\",\"387\",\"388\",\"389\",\"390\",\"391\",\"392\",\"393\",\"394\",\"395\",\"396\",\"397\",\"398\",\"399\",\"400\",\"401\",\"402\",\"403\",\"404\",\"405\",\"406\",\"407\",\"408\",\"409\",\"410\",\"411\",\"412\",\"413\",\"414\",\"415\",\"416\",\"417\",\"418\",\"419\",\"420\",\"421\",\"422\",\"423\",\"424\",\"425\",\"426\",\"427\",\"428\",\"429\",\"430\",\"431\",\"432\",\"433\",\"434\",\"435\",\"436\",\"437\",\"438\",\"439\",\"440\",\"441\",\"442\",\"443\",\"444\",\"445\",\"446\",\"447\",\"448\",\"449\",\"450\",\"451\",\"452\",\"453\",\"454\",\"455\",\"456\",\"457\",\"458\",\"459\",\"460\",\"461\",\"462\",\"463\",\"464\",\"465\",\"466\",\"467\",\"468\",\"469\",\"470\",\"471\",\"472\",\"473\",\"474\",\"475\",\"476\",\"477\",\"478\",\"479\",\"480\",\"481\",\"482\",\"483\",\"484\",\"485\",\"486\",\"487\",\"488\",\"489\",\"490\",\"491\",\"492\",\"493\",\"494\",\"495\",\"496\",\"497\",\"498\",\"499\",\"500\",\"501\",\"502\",\"503\",\"504\",\"505\",\"506\",\"507\",\"508\",\"509\",\"510\",\"511\",\"512\",\"513\",\"514\",\"515\",\"516\",\"517\",\"518\",\"519\",\"520\",\"521\",\"522\",\"523\",\"524\",\"525\",\"526\",\"527\",\"528\",\"529\",\"530\",\"531\",\"532\",\"533\",\"534\",\"535\",\"536\",\"537\",\"538\",\"539\",\"540\",\"541\",\"542\",\"543\",\"544\",\"545\",\"546\",\"547\",\"548\",\"549\",\"550\",\"551\",\"552\",\"553\",\"554\",\"555\",\"556\",\"557\",\"558\",\"559\",\"0\",\"1\",\"2\",\"3\",\"4\",\"5\",\"6\",\"7\",\"8\",\"9\",\"10\",\"11\",\"12\",\"13\",\"14\",\"15\",\"16\",\"17\",\"18\",\"19\",\"20\",\"21\",\"22\",\"23\",\"24\",\"25\",\"26\",\"27\",\"28\",\"29\",\"30\",\"31\",\"32\",\"33\",\"34\",\"35\",\"36\",\"37\",\"38\",\"39\",\"40\",\"41\",\"42\",\"43\",\"44\",\"45\",\"46\",\"47\",\"48\",\"49\",\"50\",\"51\",\"52\",\"53\",\"54\",\"55\",\"56\",\"57\",\"58\",\"59\",\"60\",\"61\",\"62\",\"63\",\"64\",\"65\",\"66\",\"67\",\"68\",\"69\",\"70\",\"71\",\"72\",\"73\",\"74\",\"75\",\"76\",\"77\",\"78\",\"79\",\"80\",\"81\",\"82\",\"83\",\"84\",\"85\",\"86\",\"87\",\"88\",\"89\",\"90\",\"91\",\"92\",\"93\",\"94\",\"95\",\"96\",\"97\",\"98\",\"99\",\"100\",\"101\",\"102\",\"103\",\"104\",\"105\",\"106\",\"107\",\"108\",\"109\",\"110\",\"111\",\"112\",\"113\",\"114\",\"115\",\"116\",\"117\",\"118\",\"119\",\"120\",\"121\",\"122\",\"123\",\"124\",\"125\",\"126\",\"127\",\"128\",\"129\",\"130\",\"131\",\"132\",\"133\",\"134\",\"135\",\"136\",\"137\",\"138\",\"139\",\"140\",\"141\",\"142\",\"143\",\"144\",\"145\",\"146\",\"147\",\"148\",\"149\",\"150\",\"151\",\"152\",\"153\",\"154\",\"155\",\"156\",\"157\",\"158\",\"159\",\"160\",\"161\",\"162\",\"163\",\"164\",\"165\",\"166\",\"167\",\"168\",\"169\",\"170\",\"171\",\"172\",\"173\",\"174\",\"175\",\"176\",\"177\",\"178\",\"179\",\"180\",\"181\",\"182\",\"183\",\"184\",\"185\",\"186\",\"187\",\"188\",\"189\",\"190\",\"191\",\"192\",\"193\",\"194\",\"195\",\"196\",\"197\",\"198\",\"199\",\"200\",\"201\",\"202\",\"203\",\"204\",\"205\",\"206\",\"207\",\"208\",\"209\",\"210\",\"211\",\"212\",\"213\",\"214\",\"215\",\"216\",\"217\",\"218\",\"219\",\"220\",\"221\",\"222\",\"223\",\"224\",\"225\",\"226\",\"227\",\"228\",\"229\",\"230\",\"231\",\"232\",\"233\",\"234\",\"235\",\"236\",\"237\",\"238\",\"239\",\"240\",\"241\",\"242\",\"243\",\"244\",\"245\",\"246\",\"247\",\"248\",\"249\",\"250\",\"251\",\"252\",\"253\",\"254\",\"255\",\"256\",\"257\",\"258\",\"259\",\"260\",\"261\",\"262\",\"263\",\"264\",\"265\",\"266\",\"267\",\"268\",\"269\",\"270\",\"271\",\"272\",\"273\",\"274\",\"275\",\"276\",\"277\",\"278\",\"279\",\"280\",\"281\",\"282\",\"283\",\"284\",\"285\",\"286\",\"287\",\"288\",\"289\",\"290\",\"291\",\"292\",\"293\",\"294\",\"295\",\"296\",\"297\",\"298\",\"299\",\"300\",\"301\",\"302\",\"303\",\"304\",\"305\",\"306\",\"307\",\"308\",\"309\",\"310\",\"311\",\"312\",\"313\",\"314\",\"315\",\"316\",\"317\",\"318\",\"319\",\"320\",\"321\",\"322\",\"323\",\"324\",\"325\",\"326\",\"327\",\"328\",\"329\",\"330\",\"331\",\"332\",\"333\",\"334\",\"335\",\"336\",\"337\",\"338\",\"339\",\"340\",\"341\",\"342\",\"343\",\"344\",\"345\",\"346\",\"347\",\"348\",\"349\",\"350\",\"351\",\"352\",\"353\",\"354\",\"355\",\"356\",\"357\",\"358\",\"359\",\"360\",\"361\",\"362\",\"363\",\"364\",\"365\",\"366\",\"367\",\"368\",\"369\",\"370\",\"371\",\"372\",\"373\",\"374\",\"375\",\"376\",\"377\",\"378\",\"379\",\"380\",\"381\",\"382\",\"383\",\"384\",\"385\",\"386\",\"387\",\"388\",\"389\",\"390\",\"391\",\"392\",\"393\",\"394\",\"395\",\"396\",\"397\",\"398\",\"399\",\"400\",\"401\",\"402\",\"403\",\"404\",\"405\",\"406\",\"407\",\"408\",\"409\",\"410\",\"411\",\"412\",\"413\",\"414\",\"415\",\"416\",\"417\",\"418\",\"419\",\"420\",\"421\",\"422\",\"423\",\"424\",\"425\",\"426\",\"427\",\"428\",\"429\",\"430\",\"431\",\"432\",\"433\",\"434\",\"435\",\"436\",\"437\",\"438\",\"439\",\"440\",\"441\",\"442\",\"443\",\"444\",\"445\",\"446\",\"447\",\"448\",\"449\",\"450\",\"451\",\"452\",\"453\",\"454\",\"455\",\"456\",\"457\",\"458\",\"459\",\"460\",\"461\",\"462\",\"463\",\"464\",\"465\",\"466\",\"467\",\"468\",\"469\",\"470\",\"471\",\"472\",\"473\",\"474\",\"475\",\"476\",\"477\",\"478\",\"479\",\"480\",\"481\",\"482\",\"483\",\"484\",\"485\",\"486\",\"487\",\"488\",\"489\",\"490\",\"491\",\"492\",\"493\",\"494\",\"495\",\"496\",\"497\",\"498\",\"499\",\"500\",\"501\",\"502\",\"503\",\"504\",\"505\",\"506\",\"507\",\"508\",\"509\",\"510\",\"511\",\"512\",\"513\",\"514\",\"515\",\"516\",\"517\",\"518\",\"519\",\"520\",\"521\",\"522\",\"523\",\"524\",\"525\",\"526\",\"527\",\"528\",\"529\",\"530\",\"531\",\"532\",\"533\",\"534\",\"535\",\"536\",\"537\",\"538\",\"539\",\"540\",\"541\",\"542\",\"543\",\"544\",\"545\",\"546\",\"547\",\"548\",\"549\",\"550\",\"551\",\"552\",\"553\",\"554\",\"555\",\"556\",\"557\",\"558\",\"559\",\"0\",\"1\",\"2\",\"3\",\"4\",\"5\",\"6\",\"7\",\"8\",\"9\",\"10\",\"11\",\"12\",\"13\",\"14\",\"15\",\"16\",\"17\",\"18\",\"19\",\"20\",\"21\",\"22\",\"23\",\"24\",\"25\",\"26\",\"27\",\"28\",\"29\",\"30\",\"31\",\"32\",\"33\",\"34\",\"35\",\"36\",\"37\",\"38\",\"39\",\"40\",\"41\",\"42\",\"43\",\"44\",\"45\",\"46\",\"47\",\"48\",\"49\",\"50\",\"51\",\"52\",\"53\",\"54\",\"55\",\"56\",\"57\",\"58\",\"59\",\"60\",\"61\",\"62\",\"63\",\"64\",\"65\",\"66\",\"67\",\"68\",\"69\",\"70\",\"71\",\"72\",\"73\",\"74\",\"75\",\"76\",\"77\",\"78\",\"79\",\"80\",\"81\",\"82\",\"83\",\"84\",\"85\",\"86\",\"87\",\"88\",\"89\",\"90\",\"91\",\"92\",\"93\",\"94\",\"95\",\"96\",\"97\",\"98\",\"99\",\"100\",\"101\",\"102\",\"103\",\"104\",\"105\",\"106\",\"107\",\"108\",\"109\",\"110\",\"111\",\"112\",\"113\",\"114\",\"115\",\"116\",\"117\",\"118\",\"119\",\"120\",\"121\",\"122\",\"123\",\"124\",\"125\",\"126\",\"127\",\"128\",\"129\",\"130\",\"131\",\"132\",\"133\",\"134\",\"135\",\"136\",\"137\",\"138\",\"139\",\"140\",\"141\",\"142\",\"143\",\"144\",\"145\",\"146\",\"147\",\"148\",\"149\",\"150\",\"151\",\"152\",\"153\",\"154\",\"155\",\"156\",\"157\",\"158\",\"159\",\"160\",\"161\",\"162\",\"163\",\"164\",\"165\",\"166\",\"167\",\"168\",\"169\",\"170\",\"171\",\"172\",\"173\",\"174\",\"175\",\"176\",\"177\",\"178\",\"179\",\"180\",\"181\",\"182\",\"183\",\"184\",\"185\",\"186\",\"187\",\"188\",\"189\",\"190\",\"191\",\"192\",\"193\",\"194\",\"195\",\"196\",\"197\",\"198\",\"199\",\"200\",\"201\",\"202\",\"203\",\"204\",\"205\",\"206\",\"207\",\"208\",\"209\",\"210\",\"211\",\"212\",\"213\",\"214\",\"215\",\"216\",\"217\",\"218\",\"219\",\"220\",\"221\",\"222\",\"223\",\"224\",\"225\",\"226\",\"227\",\"228\",\"229\",\"230\",\"231\",\"232\",\"233\",\"234\",\"235\",\"236\",\"237\",\"238\",\"239\",\"240\",\"241\",\"242\",\"243\",\"244\",\"245\",\"246\",\"247\",\"248\",\"249\",\"250\",\"251\",\"252\",\"253\",\"254\",\"255\",\"256\",\"257\",\"258\",\"259\",\"260\",\"261\",\"262\",\"263\",\"264\",\"265\",\"266\",\"267\",\"268\",\"269\",\"270\",\"271\",\"272\",\"273\",\"274\",\"275\",\"276\",\"277\",\"278\",\"279\",\"280\",\"281\",\"282\",\"283\",\"284\",\"285\",\"286\",\"287\",\"288\",\"289\",\"290\",\"291\",\"292\",\"293\",\"294\",\"295\",\"296\",\"297\",\"298\",\"299\",\"300\",\"301\",\"302\",\"303\",\"304\",\"305\",\"306\",\"307\",\"308\",\"309\",\"310\",\"311\",\"312\",\"313\",\"314\",\"315\",\"316\",\"317\",\"318\",\"319\",\"320\",\"321\",\"322\",\"323\",\"324\",\"325\",\"326\",\"327\",\"328\",\"329\",\"330\",\"331\",\"332\",\"333\",\"334\",\"335\",\"336\",\"337\",\"338\",\"339\",\"340\",\"341\",\"342\",\"343\",\"344\",\"345\",\"346\",\"347\",\"348\",\"349\",\"350\",\"351\",\"352\",\"353\",\"354\",\"355\",\"356\",\"357\",\"358\",\"359\",\"360\",\"361\",\"362\",\"363\",\"364\",\"365\",\"366\",\"367\",\"368\",\"369\",\"370\",\"371\",\"372\",\"373\",\"374\",\"375\",\"376\",\"377\",\"378\",\"379\",\"380\",\"381\",\"382\",\"383\",\"384\",\"385\",\"386\",\"387\",\"388\",\"389\",\"390\",\"391\",\"392\",\"393\",\"394\",\"395\",\"396\",\"397\",\"398\",\"399\",\"400\",\"401\",\"402\",\"403\",\"404\",\"405\",\"406\",\"407\",\"408\",\"409\",\"410\",\"411\",\"412\",\"413\",\"414\",\"415\",\"416\",\"417\",\"418\",\"419\",\"420\",\"421\",\"422\",\"423\",\"424\",\"425\",\"426\",\"427\",\"428\",\"429\",\"430\",\"431\",\"432\",\"433\",\"434\",\"435\",\"436\",\"437\",\"438\",\"439\",\"440\",\"441\",\"442\",\"443\",\"444\",\"445\",\"446\",\"447\",\"448\",\"449\",\"450\",\"451\",\"452\",\"453\",\"454\",\"455\",\"456\",\"457\",\"458\",\"459\",\"460\",\"461\",\"462\",\"463\",\"464\",\"465\",\"466\",\"467\",\"468\",\"469\",\"470\",\"471\",\"472\",\"473\",\"474\",\"475\",\"476\",\"477\",\"478\",\"479\",\"480\",\"481\",\"482\",\"483\",\"484\",\"485\",\"486\",\"487\",\"488\",\"489\",\"490\",\"491\",\"492\",\"493\",\"494\",\"495\",\"496\",\"497\",\"498\",\"499\",\"500\",\"501\",\"502\",\"503\",\"504\",\"505\",\"506\",\"507\",\"508\",\"509\",\"510\",\"511\",\"512\",\"513\",\"514\",\"515\",\"516\",\"517\",\"518\",\"519\",\"520\",\"521\",\"522\",\"523\",\"524\",\"525\",\"526\",\"527\",\"528\",\"529\",\"530\",\"531\",\"532\",\"533\",\"534\",\"535\",\"536\",\"537\",\"538\",\"539\",\"540\",\"541\",\"542\",\"543\",\"544\",\"545\",\"546\",\"547\",\"548\",\"549\",\"550\",\"551\",\"552\",\"553\",\"554\",\"555\",\"556\",\"557\",\"558\",\"559\",\"0\",\"1\",\"2\",\"3\",\"4\",\"5\",\"6\",\"7\",\"8\",\"9\",\"10\",\"11\",\"12\",\"13\",\"14\",\"15\",\"16\",\"17\",\"18\",\"19\",\"20\",\"21\",\"22\",\"23\",\"24\",\"25\",\"26\",\"27\",\"28\",\"29\",\"30\",\"31\",\"32\",\"33\",\"34\",\"35\",\"36\",\"37\",\"38\",\"39\",\"40\",\"41\",\"42\",\"43\",\"44\",\"45\",\"46\",\"47\",\"48\",\"49\",\"50\",\"51\",\"52\",\"53\",\"54\",\"55\",\"56\",\"57\",\"58\",\"59\",\"60\",\"61\",\"62\",\"63\",\"64\",\"65\",\"66\",\"67\",\"68\",\"69\",\"70\",\"71\",\"72\",\"73\",\"74\",\"75\",\"76\",\"77\",\"78\",\"79\",\"80\",\"81\",\"82\",\"83\",\"84\",\"85\",\"86\",\"87\",\"88\",\"89\",\"90\",\"91\",\"92\",\"93\",\"94\",\"95\",\"96\",\"97\",\"98\",\"99\",\"100\",\"101\",\"102\",\"103\",\"104\",\"105\",\"106\",\"107\",\"108\",\"109\",\"110\",\"111\",\"112\",\"113\",\"114\",\"115\",\"116\",\"117\",\"118\",\"119\",\"120\",\"121\",\"122\",\"123\",\"124\",\"125\",\"126\",\"127\",\"128\",\"129\",\"130\",\"131\",\"132\",\"133\",\"134\",\"135\",\"136\",\"137\",\"138\",\"139\",\"140\",\"141\",\"142\",\"143\",\"144\",\"145\",\"146\",\"147\",\"148\",\"149\",\"150\",\"151\",\"152\",\"153\",\"154\",\"155\",\"156\",\"157\",\"158\",\"159\",\"160\",\"161\",\"162\",\"163\",\"164\",\"165\",\"166\",\"167\",\"168\",\"169\",\"170\",\"171\",\"172\",\"173\",\"174\",\"175\",\"176\",\"177\",\"178\",\"179\",\"180\",\"181\",\"182\",\"183\",\"184\",\"185\",\"186\",\"187\",\"188\",\"189\",\"190\",\"191\",\"192\",\"193\",\"194\",\"195\",\"196\",\"197\",\"198\",\"199\",\"200\",\"201\",\"202\",\"203\",\"204\",\"205\",\"206\",\"207\",\"208\",\"209\",\"210\",\"211\",\"212\",\"213\",\"214\",\"215\",\"216\",\"217\",\"218\",\"219\",\"220\",\"221\",\"222\",\"223\",\"224\",\"225\",\"226\",\"227\",\"228\",\"229\",\"230\",\"231\",\"232\",\"233\",\"234\",\"235\",\"236\",\"237\",\"238\",\"239\",\"240\",\"241\",\"242\",\"243\",\"244\",\"245\",\"246\",\"247\",\"248\",\"249\",\"250\",\"251\",\"252\",\"253\",\"254\",\"255\",\"256\",\"257\",\"258\",\"259\",\"260\",\"261\",\"262\",\"263\",\"264\",\"265\",\"266\",\"267\",\"268\",\"269\",\"270\",\"271\",\"272\",\"273\",\"274\",\"275\",\"276\",\"277\",\"278\",\"279\",\"280\",\"281\",\"282\",\"283\",\"284\",\"285\",\"286\",\"287\",\"288\",\"289\",\"290\",\"291\",\"292\",\"293\",\"294\",\"295\",\"296\",\"297\",\"298\",\"299\",\"300\",\"301\",\"302\",\"303\",\"304\",\"305\",\"306\",\"307\",\"308\",\"309\",\"310\",\"311\",\"312\",\"313\",\"314\",\"315\",\"316\",\"317\",\"318\",\"319\",\"320\",\"321\",\"322\",\"323\",\"324\",\"325\",\"326\",\"327\",\"328\",\"329\",\"330\",\"331\",\"332\",\"333\",\"334\",\"335\",\"336\",\"337\",\"338\",\"339\",\"340\",\"341\",\"342\",\"343\",\"344\",\"345\",\"346\",\"347\",\"348\",\"349\",\"350\",\"351\",\"352\",\"353\",\"354\",\"355\",\"356\",\"357\",\"358\",\"359\",\"360\",\"361\",\"362\",\"363\",\"364\",\"365\",\"366\",\"367\",\"368\",\"369\",\"370\",\"371\",\"372\",\"373\",\"374\",\"375\",\"376\",\"377\",\"378\",\"379\",\"380\",\"381\",\"382\",\"383\",\"384\",\"385\",\"386\",\"387\",\"388\",\"389\",\"390\",\"391\",\"392\",\"393\",\"394\",\"395\",\"396\",\"397\",\"398\",\"399\",\"400\",\"401\",\"402\",\"403\",\"404\",\"405\",\"406\",\"407\",\"408\",\"409\",\"410\",\"411\",\"412\",\"413\",\"414\",\"415\",\"416\",\"417\",\"418\",\"419\",\"420\",\"421\",\"422\",\"423\",\"424\",\"425\",\"426\",\"427\",\"428\",\"429\",\"430\",\"431\",\"432\",\"433\",\"434\",\"435\",\"436\",\"437\",\"438\",\"439\",\"440\",\"441\",\"442\",\"443\",\"444\",\"445\",\"446\",\"447\",\"448\",\"449\",\"450\",\"451\",\"452\",\"453\",\"454\",\"455\",\"456\",\"457\",\"458\",\"459\",\"460\",\"461\",\"462\",\"463\",\"464\",\"465\",\"466\",\"467\",\"468\",\"469\",\"470\",\"471\",\"472\",\"473\",\"474\",\"475\",\"476\",\"477\",\"478\",\"479\",\"480\",\"481\",\"482\",\"483\",\"484\",\"485\",\"486\",\"487\",\"488\",\"489\",\"490\",\"491\",\"492\",\"493\",\"494\",\"495\",\"496\",\"497\",\"498\",\"499\",\"500\",\"501\",\"502\",\"503\",\"504\",\"505\",\"506\",\"507\",\"508\",\"509\",\"510\",\"511\",\"512\",\"513\",\"514\",\"515\",\"516\",\"517\",\"518\",\"519\",\"520\",\"521\",\"522\",\"523\",\"524\",\"525\",\"526\",\"527\",\"528\",\"529\",\"530\",\"531\",\"532\",\"533\",\"534\",\"535\",\"536\",\"537\",\"538\",\"539\",\"540\",\"541\",\"542\",\"543\",\"544\",\"545\",\"546\",\"547\",\"548\",\"549\",\"550\",\"551\",\"552\",\"553\",\"554\",\"555\",\"556\",\"557\",\"558\",\"559\"],\"value\":[2001,2001,2001,2001,2001,2001,2001,2001,2001,2001,2001,2001,2001,2001,2001,2001,2001,2001,2001,2001,2001,2001,2001,2001,2001,2001,2001,2001,2001,2001,2001,2001,2001,2001,2001,2001,2001,2001,2001,2001,2001,2001,2001,2001,2001,2001,2001,2001,2001,2001,2001,2001,2001,2001,2001,2001,2001,2001,2001,2001,2001,2001,2001,2001,2001,2001,2001,2001,2001,2001,2001,2001,2001,2001,2001,2001,2001,2001,2001,2001,2001,2001,2001,2001,2001,2001,2001,2001,2001,2001,2001,2001,2001,2001,2001,2001,2001,2001,2001,2001,2001,2001,2001,2001,2001,2001,2001,2001,2001,2001,2001,2001,2001,2001,2001,2001,2001,2001,2001,2001,2001,2001,2001,2001,2001,2001,2001,2001,2001,2001,2001,2001,2001,2001,2001,2001,2001,2001,2001,2001,2006,2006,2006,2006,2006,2006,2006,2006,2006,2006,2006,2006,2006,2006,2006,2006,2006,2006,2006,2006,2006,2006,2006,2006,2006,2006,2006,2006,2006,2006,2006,2006,2006,2006,2006,2006,2006,2006,2006,2006,2006,2006,2006,2006,2006,2006,2006,2006,2006,2006,2006,2006,2006,2006,2006,2006,2006,2006,2006,2006,2006,2006,2006,2006,2006,2006,2006,2006,2006,2006,2006,2006,2006,2006,2006,2006,2006,2006,2006,2006,2006,2006,2006,2006,2006,2006,2006,2006,2006,2006,2006,2006,2006,2006,2006,2006,2006,2006,2006,2006,2006,2006,2006,2006,2006,2006,2006,2006,2006,2006,2006,2006,2006,2006,2006,2006,2006,2006,2006,2006,2006,2006,2006,2006,2006,2006,2006,2006,2006,2006,2006,2006,2006,2006,2006,2006,2006,2006,2006,2006,2011,2011,2011,2011,2011,2011,2011,2011,2011,2011,2011,2011,2011,2011,2011,2011,2011,2011,2011,2011,2011,2011,2011,2011,2011,2011,2011,2011,2011,2011,2011,2011,2011,2011,2011,2011,2011,2011,2011,2011,2011,2011,2011,2011,2011,2011,2011,2011,2011,2011,2011,2011,2011,2011,2011,2011,2011,2011,2011,2011,2011,2011,2011,2011,2011,2011,2011,2011,2011,2011,2011,2011,2011,2011,2011,2011,2011,2011,2011,2011,2011,2011,2011,2011,2011,2011,2011,2011,2011,2011,2011,2011,2011,2011,2011,2011,2011,2011,2011,2011,2011,2011,2011,2011,2011,2011,2011,2011,2011,2011,2011,2011,2011,2011,2011,2011,2011,2011,2011,2011,2011,2011,2011,2011,2011,2011,2011,2011,2011,2011,2011,2011,2011,2011,2011,2011,2011,2011,2011,2011,2016,2016,2016,2016,2016,2016,2016,2016,2016,2016,2016,2016,2016,2016,2016,2016,2016,2016,2016,2016,2016,2016,2016,2016,2016,2016,2016,2016,2016,2016,2016,2016,2016,2016,2016,2016,2016,2016,2016,2016,2016,2016,2016,2016,2016,2016,2016,2016,2016,2016,2016,2016,2016,2016,2016,2016,2016,2016,2016,2016,2016,2016,2016,2016,2016,2016,2016,2016,2016,2016,2016,2016,2016,2016,2016,2016,2016,2016,2016,2016,2016,2016,2016,2016,2016,2016,2016,2016,2016,2016,2016,2016,2016,2016,2016,2016,2016,2016,2016,2016,2016,2016,2016,2016,2016,2016,2016,2016,2016,2016,2016,2016,2016,2016,2016,2016,2016,2016,2016,2016,2016,2016,2016,2016,2016,2016,2016,2016,2016,2016,2016,2016,2016,2016,2016,2016,2016,2016,2016,2016,3715,3250,3175,1060,3615,2405,10,2170,1650,4985,745,4385,5470,855,660,2010,2275,960,1705,585,1940,1035,3210,65,3530,2610,3515,1960,785,3320,2150,2065,2670,4410,660,2035,2620,1890,1185,2435,4040,1025,15,1565,1815,510,1410,2310,505,1600,3160,3210,1800,1850,420,575,2005,1375,5365,1050,2035,1765,225,2310,2370,1320,3810,2635,3410,3590,3660,595,1605,4285,1825,1805,4090,2715,2245,230,1145,1945,2380,575,1730,3120,3025,85,995,40,1400,3530,3090,2570,765,2605,1960,940,1055,3320,40,2140,3320,1385,2610,5210,2165,1225,1115,755,1370,3275,3715,6035,3335,675,2760,1975,15,665,240,1295,285,3395,5640,840,1980,1000,6000,3825,2485,3770,7480,990,2105,1390,1650,670,1385,2540,3295,2695,2750,630,3620,1960,0,2070,1550,4785,650,3835,4860,695,445,1595,2205,845,1775,150,1705,875,3175,15,3040,2480,3275,1280,665,2845,2120,2045,1590,4170,300,1735,2540,1545,970,1900,3880,960,5,1450,1740,410,925,2185,495,1375,2620,3035,1650,1670,540,580,1805,1005,5110,750,1690,1745,85,2130,2275,1250,3675,2435,3110,3415,3555,260,1455,3450,1630,1775,3780,2355,2215,75,965,1630,2155,475,1540,2855,2590,40,785,5,1055,2840,2955,2195,315,2545,1665,660,995,3275,5,1790,2740,630,2450,7215,1980,1135,1045,185,835,3095,3635,5790,3065,590,2580,1560,0,320,115,1230,255,3130,3920,810,1675,535,5245,3430,2100,3580,6290,850,1855,945,1410,540,1310,2220,3385,2855,2850,670,3570,2055,0,2140,1575,4870,685,3885,4950,700,505,1640,2285,865,1830,180,1705,880,3470,25,3190,2425,3460,1325,700,2940,2230,2185,1710,4405,340,1800,2565,1580,1000,1970,3960,1000,0,1470,1730,430,1010,2185,505,1425,2695,3155,1685,1710,530,605,1880,1040,5175,750,1755,1825,95,2175,2350,1300,3755,2365,3155,3465,3625,250,1515,3565,1670,1795,3870,2300,2285,70,1050,1690,2205,490,1580,2890,2640,50,905,10,1065,2835,3060,2270,400,2565,1760,650,1045,3305,10,1840,2785,685,2485,7700,2065,1165,1060,210,950,3285,3770,5875,3195,625,2640,1620,0,400,140,1250,275,3255,4095,865,1695,560,5395,3495,2100,3640,6415,870,1910,970,1415,530,1490,2220,3345,2790,2840,645,3485,2105,5,2025,1565,4820,665,3870,4900,680,495,1610,2275,850,1790,160,1680,875,3510,10,3135,2405,3380,1240,685,2900,2120,2130,1635,4330,310,1770,2555,1535,990,1905,3925,965,0,1470,1685,415,965,2175,495,1370,2655,3100,1650,1680,525,575,1850,1020,5175,740,1670,1805,70,2175,2310,1270,3685,2355,3110,3420,3565,270,1480,3475,1635,1780,3900,2255,2280,65,955,1655,2160,475,1555,2760,2530,35,815,5,1050,2795,3030,2220,355,2555,1795,630,1010,3295,5,1775,2765,675,2450,7625,2025,1150,1105,200,865,3245,3725,5790,3080,600,2590,1575,0,385,125,1250,255,3220,3870,870,1620,505,5290,3385,2030,3600,6310,885,1885,920,1400,520,1235,2165,1480,1835,315,6090,4465,1550,7575,630,1715,2080,715,2015,880,4530,505,2430,110,3160,3415,3170,175,1700,0,11760,1645,805,1375,15,345,780,5095,3805,1330,3165,1160,2035,1790,4965,1415,2355,1655,2685,6265,3380,2440,3655,535,1090,2935,5705,1910,0,1945,2055,725,1570,1750,3055,6200,100,495,2925,3605,4920,260,715,6850,1190,170,570,550,335,920,2815,935,2010,1860,4470,2185,4360,2275,5865,1980,11060,1040,2200,3160,3115,655,7920,3235,1555,2400,565,240,6510,370,955,1465,460,2165,805,3225,1620,3880,915,5,1930,4120,6535,450,1455,2555,570,4420,4930,220,675,6275,75,820,3025,9205,3540,1305,7650,4425,545,1860,5010,2110,3115,8035,595,690,1295,1525,3625,5100,1515,2060,1840,315,7135,5020,1710,8435,2625,1605,1890,645,3270,905,4375,490,2360,145,3075,3430,3150,160,2230,0,13900,1605,1015,1255,0,340,715,5075,3690,1680,3065,1130,2045,1920,5100,1355,2775,1740,2570,6150,3410,1835,3240,505,1065,2950,5795,1930,5,1935,1980,715,1525,1630,2710,6580,85,500,2790,3815,4690,560,685,6775,2735,215,745,595,320,865,2750,910,1990,1855,5870,2000,5110,2160,5660,1880,11845,1010,2235,3125,4850,625,7700,3170,1765,2125,505,240,6145,395,915,1450,435,1880,640,3175,1590,4790,895,0,1910,3645,6065,515,1740,2530,890,4345,4515,460,645,6070,85,430,3140,14035,3350,1250,7510,4060,515,1740,11945,2545,3220,9070,580,620,1370,1525,3785,4980,1445,2130,1900,325,7550,5800,1945,11070,3735,1705,1960,660,4195,950,4455,500,2420,480,3295,3685,3595,165,2630,0,16455,1770,1275,1305,0,335,740,5225,3710,1390,3420,1315,2080,2170,5150,1365,2730,1790,2675,6635,3350,1825,3355,515,1085,3020,6065,2605,0,1980,1825,730,1595,1715,2790,9410,490,385,2860,4115,4665,695,670,6540,2775,215,855,525,780,920,3190,800,2015,2110,6835,2105,5925,2025,5975,1900,14480,1135,2590,4025,9455,690,8470,3195,1555,2360,525,265,6495,380,930,1480,445,2350,635,3240,1610,4905,920,0,1975,4050,6460,910,1740,2570,975,4545,4895,635,665,6270,260,945,3200,25150,3390,2080,7765,4660,655,1775,13340,3730,3420,9160,445,615,985,1510,4070,5075,1245,2120,3145,255,8165,6270,2055,14800,5900,1775,1995,665,4850,945,4065,470,2395,590,3325,3745,3375,165,2680,0,18055,1965,2315,1335,0,330,880,5630,3770,2265,3085,1335,2085,2405,4965,1375,3030,1785,3160,6425,3430,2025,3405,515,1090,5330,6515,3585,0,1940,1975,710,1585,1705,2880,12345,720,665,2835,4630,4760,790,700,6760,3335,205,925,525,2955,1135,3175,800,2025,1970,10810,2130,8240,2495,6165,2275,14785,1180,2590,4400,15645,700,8845,3175,1525,2395,520,310,6710,535,925,1475,440,3630,460,3260,1720,4990,1015,0,1965,3980,7170,2175,1745,2715,1035,4860,4840,640,680,6660,295,1125,3235,39265,3485,2265,7735,4405,500,1865,16100,4630,3740,9330,690,610,1295,1995,4315,5505,1185,0,0,0,5,0,0,0,0,0,0,0,0,0,0,0,0,0,0,0,0,0,0,0,0,0,5,5,0,0,0,0,0,0,0,0,0,0,0,0,0,0,0,0,0,5,0,0,0,0,0,0,0,0,5,0,0,0,0,0,0,10,5,0,0,0,0,0,5,0,0,0,0,0,0,0,0,0,0,0,0,0,5,0,0,0,0,0,0,0,0,0,0,0,0,0,0,0,0,0,0,0,0,0,0,0,0,0,0,0,0,5,0,0,0,0,0,0,0,0,0,0,0,5,0,0,0,0,5,0,0,5,0,5,0,0,0,0,0,0,0,0,5,5,0,5,0,0,5,0,0,0,5,0,0,0,0,0,0,0,0,0,0,5,0,5,10,0,0,0,0,5,0,5,0,0,5,0,0,0,0,0,0,0,0,0,0,0,0,0,0,5,0,0,0,0,0,0,0,0,0,0,0,5,0,0,0,0,0,0,0,0,0,0,0,5,0,0,0,0,0,0,0,5,10,5,0,0,0,0,5,0,0,0,0,5,5,0,0,0,0,0,0,0,10,0,0,0,0,0,10,0,0,0,0,0,0,0,0,0,0,0,0,5,0,0,0,0,0,5,25,0,0,0,0,0,0,0,0,0,0,5,0,0,0,0,0,0,5,0,0,0,0,0,0,0,0,0,0,0,0,0,0,0,5,5,5,0,0,0,0,0,0,0,0,0,0,0,0,0,0,0,0,0,0,0,0,0,0,0,0,0,5,0,0,0,0,0,0,0,0,0,0,0,0,0,0,0,0,0,0,0,0,0,0,0,0,0,5,0,0,0,0,0,15,0,5,0,0,0,0,0,0,5,0,0,0,0,0,0,0,0,0,5,10,0,0,0,0,0,5,10,0,0,0,0,0,5,0,0,0,0,0,0,0,0,0,0,0,0,0,0,0,0,0,0,0,0,0,5,0,5,0,0,0,0,0,0,0,0,0,0,5,0,0,0,0,0,0,0,0,0,0,5,0,0,5,0,0,0,0,0,0,5,10,0,5,0,0,0,0,0,0,0,0,0,0,5,0,0,0,0,0,0,0,5,0,0,0,0,0,0,0,0,0,0,0,0,0,0,0,0,0,0,0,5,0,0,0,5,0,0,0,0,0,0,0,0,0,0,0,0,0,0,0,0,0,0,0,0,0,0,0,0,20,0,0,0,0,0,5,0,0,5,0,0,0,0,0,0,0,0,0,0,0,0,0,0,0,5,0,0,0,0,0,0,0,0,0,0,0,1055,545,470,1980,240,130,0,170,925,45,45,440,430,675,985,150,25,465,265,470,435,415,175,50,825,15,80,1730,1685,1800,535,305,4400,820,1290,2075,85,155,85,10,290,105,180,10,65,3855,2505,120,60,660,565,0,1110,55,2245,1775,265,405,135,920,320,700,680,175,65,555,1355,60,830,170,775,1255,60,1430,135,10,545,260,35,320,120,225,1625,165,215,5,670,225,1710,90,180,1385,120,175,1695,1675,285,845,2520,0,80,60,1235,1605,520,540,760,160,35,540,3650,220,205,90,180,250,1810,380,0,1890,560,340,160,570,375,720,225,1575,15,60,145,535,460,1965,330,1250,480,410,1080,60,775,305,480,1120,285,165,5,140,410,45,75,285,400,740,615,135,35,430,265,425,385,230,170,25,700,10,60,1225,1220,1665,345,330,2145,930,510,1880,95,85,75,30,305,90,190,10,50,3555,1415,100,0,580,495,0,825,60,2205,1235,250,370,125,965,365,345,185,120,60,545,915,50,865,110,790,480,80,1285,175,5,550,235,25,95,120,150,1570,200,190,10,640,105,1205,0,135,1205,130,160,855,1355,245,600,1750,5,45,25,990,995,445,1040,765,205,35,150,2205,165,185,85,165,170,1455,310,0,720,210,315,30,415,190,705,185,1305,10,60,145,520,275,1500,315,920,460,390,1270,70,820,320,520,1215,285,145,0,135,490,40,80,280,420,665,825,160,45,460,250,450,430,245,160,30,1020,10,60,1315,1255,1720,350,335,2140,900,555,1990,95,75,70,40,350,95,180,15,65,3460,1475,105,0,630,505,10,840,60,1885,1190,255,370,125,945,410,350,235,125,70,550,935,30,905,115,805,470,85,1280,185,5,555,285,25,120,165,170,1630,225,200,10,610,130,1345,0,145,1280,130,175,1090,1395,245,585,1840,0,55,30,1045,1000,495,1175,755,220,30,135,2500,180,185,100,170,200,1460,300,0,770,220,300,45,465,235,590,250,1270,15,70,145,540,285,1565,325,920,475,450,1555,85,805,330,545,1185,285,165,0,120,495,45,80,290,425,660,815,155,40,440,240,460,435,265,160,25,1015,10,55,1230,1240,1700,360,335,2050,925,500,1950,85,120,70,30,360,95,180,15,65,3285,1480,140,0,600,515,5,825,60,1790,1135,265,375,125,980,425,350,215,130,70,545,925,30,885,110,795,460,80,1275,175,5,550,285,25,135,150,160,1620,185,215,10,605,110,1305,0,140,1260,130,170,960,1355,510,580,1805,5,50,30,1055,995,485,1145,760,210,30,150,2390,175,185,100,165,195,1450,300,0,715,215,305,40,450,295,555,205,1220,15,65,140,530,285,1555,325,880,465,450,1360,80,1295,455,50,605,380,130,15,765,105,40,20,220,60,1125,455,0,15,75,0,575,10,190,365,270,75,10,275,95,50,25,1445,925,875,475,160,305,180,195,430,225,470,220,805,0,45,1270,500,295,480,105,70,0,1090,50,140,60,20,105,185,430,10,110,1035,285,45,50,2435,0,25,70,90,805,80,3075,95,260,565,555,820,550,180,1000,140,340,75,25,365,800,240,45,205,50,70,0,310,1385,30,65,280,45,665,495,250,430,225,1030,45,5,110,145,1685,555,565,210,870,290,210,50,75,1245,380,230,430,1130,1255,405,95,265,205,725,25,230,265,235,25,335,25,200,560,265,1425,420,85,620,660,50,15,825,195,60,15,190,40,1090,320,5,15,85,0,610,20,195,370,220,135,15,285,110,25,30,1405,1370,745,500,90,350,95,405,450,275,540,220,570,10,50,1290,295,285,535,110,165,5,1075,60,100,105,5,150,400,540,15,125,675,320,50,175,2450,0,20,25,60,600,80,3465,95,250,615,675,860,625,300,1060,150,170,240,40,515,1025,135,60,205,35,125,0,255,1290,85,60,270,40,655,445,220,360,245,1710,50,0,190,130,1180,560,555,325,875,235,260,55,325,1000,325,315,565,1140,1400,330,110,325,230,615,85,255,230,215,20,255,25,210,630,470,1465,435,85,635,725,55,30,850,200,65,15,300,50,1110,375,70,100,85,10,645,25,220,460,215,845,10,375,105,30,40,1490,1420,950,520,90,530,120,505,510,285,600,220,580,25,45,1380,355,305,535,130,285,20,1105,60,80,450,0,155,560,570,10,130,735,310,50,170,2465,0,20,25,75,625,90,3560,105,285,630,920,920,715,395,1035,155,240,240,45,570,745,210,115,215,20,135,0,335,1415,105,65,270,40,485,435,225,315,250,1890,45,0,255,485,1740,555,560,455,900,155,330,55,80,975,295,325,560,1295,1400,395,205,340,210,760,175,280,230,265,20,315,25,220,685,465,1440,515,85,595,740,45,15,880,200,65,15,325,40,1140,370,75,230,80,25,630,20,200,485,220,1045,15,435,105,30,35,1415,1560,1140,645,110,595,130,510,515,265,605,230,565,30,40,1350,335,300,435,130,290,15,1070,65,85,455,0,145,650,565,10,125,600,315,50,185,2415,0,30,35,75,605,90,3540,95,285,610,915,920,630,335,1040,140,200,260,30,550,860,360,100,200,20,145,0,295,1370,260,60,270,40,505,430,240,320,260,1855,50,5,270,355,1660,540,555,440,920,185,340,50,85,890,285,365,560,1445,1310,470,160,300,360,845,250,345,240,300,20,290,60,220,775,600,195,105,185,275,15,375,0,15,10,210,120,535,560,5,125,195,10,40,55,125,330,185,35,35,275,445,205,430,165,350,45,205,660,180,410,390,35,220,10,125,10,20,0,0,85,10,70,5,0,685,1045,275,40,5,5,25,185,30,80,640,295,405,60,95,0,65,190,25,155,190,50,260,220,230,30,170,160,430,150,185,150,320,160,80,160,50,15,150,160,25,105,660,315,120,165,40,10,240,20,30,20,30,160,155,290,200,295,30,110,70,320,45,55,130,135,95,490,30,0,170,130,15,20,295,40,10,60,105,850,30,15,5,610,110,145,295,350,280,25,120,600,610,370,240,30,895,5,90,120,290,95,1025,850,140,135,440,30,125,125,40,360,170,170,10,600,530,400,455,190,595,150,450,845,360,205,480,55,545,225,545,125,50,5,115,70,495,345,135,15,455,605,510,200,180,150,85,155,375,275,600,470,610,65,160,25,100,375,220,185,250,40,180,215,990,200,55,425,475,285,50,150,685,150,95,210,310,380,35,215,5,315,685,300,470,145,80,440,160,80,50,0,425,465,545,330,780,265,85,140,265,370,105,370,260,505,150,465,300,0,175,80,140,5,620,1720,190,265,225,1525,300,370,235,1615,180,310,300,320,145,240,435,610,685,325,450,45,800,0,100,115,335,85,1050,835,155,175,385,30,135,120,185,355,140,145,65,655,540,415,435,220,555,140,455,830,355,170,485,45,575,180,515,115,50,5,105,75,360,325,170,15,400,555,550,165,170,90,85,145,355,225,505,380,630,170,170,25,85,375,185,185,230,55,170,200,1075,170,60,475,370,275,80,195,655,190,110,185,320,325,430,360,20,340,640,275,420,240,90,325,205,75,55,5,370,435,430,345,780,245,85,135,225,495,120,320,255,600,160,425,310,0,620,190,185,20,655,1770,125,220,205,1410,240,320,240,1695,165,290,310,335,135,210,490,645,695,330,455,40,640,0,75,100,315,90,1075,880,155,170,385,30,150,135,160,440,155,150,45,725,555,470,610,215,550,145,510,1135,425,400,485,40,585,200,510,125,60,5,110,70,330,360,180,15,410,565,545,155,180,95,80,155,380,250,510,395,680,245,170,30,95,420,185,185,230,45,240,230,1220,205,40,520,355,310,110,210,755,180,100,200,380,375,315,315,20,440,685,285,425,410,125,350,200,110,55,10,480,465,430,345,1170,240,85,170,210,685,120,355,245,670,195,465,375,0,875,185,180,80,735,1850,145,230,210,1470,250,300,255,1750,190,285,395,310,130,280,465,185,425,370,3710,1360,745,240,640,170,1235,940,165,1955,85,305,760,20,795,435,790,750,1090,25,1215,520,1235,125,1000,870,530,70,340,2610,3270,1195,1725,1075,425,25,2355,70,65,480,485,1010,760,1115,85,0,1615,2610,0,380,170,180,470,2335,40,450,1580,660,580,1625,185,340,360,50,580,965,845,1375,1445,1630,110,510,0,50,2835,200,1240,675,240,1020,1845,1645,275,300,1210,1270,310,80,1495,1530,345,2865,970,45,540,155,0,965,355,555,1415,1735,595,600,150,205,2385,2380,525,185,2925,395,110,3395,110,0,2145,775,2000,375,405,285,115,500,350,1000,840,190,65,150,1295,255,1295,1175,1020,1010,590,565,860,540,4955,1330,1030,305,390,725,1285,1035,460,1965,60,1115,1145,10,785,490,1685,905,1240,40,1445,1040,1280,155,2095,1470,995,310,430,6290,3045,2745,2240,1040,195,50,2560,70,50,600,375,1015,770,2540,125,0,1985,3190,20,780,180,140,1080,2475,250,720,2310,1065,720,2815,185,335,385,870,520,1050,1025,1445,2980,1665,795,600,130,130,2910,210,2190,905,95,1085,1895,1625,265,325,1940,1970,585,275,2110,1505,435,4240,1280,110,1185,900,10,1040,545,1175,2275,1685,650,700,250,355,3135,4620,645,295,2705,530,290,3885,275,15,4110,1375,1955,810,670,485,210,710,1380,1110,1300,210,35,580,1910,320,2100,1485,1465,1075,740,705,620,540,4960,1355,1050,300,450,625,1320,1135,355,1950,180,780,1135,50,780,540,1575,820,1215,35,1410,1205,1255,150,1915,1350,955,305,420,6870,3625,2650,2170,1025,190,60,2585,65,55,640,365,1035,1015,2315,95,40,1980,3225,45,765,75,495,1200,2575,260,745,2475,1045,675,3285,210,335,370,830,615,1015,980,1445,2980,1695,650,635,135,105,2975,230,2115,1035,85,1105,2015,1820,340,450,1815,1600,585,265,2225,1430,460,3860,1195,175,1105,825,15,905,640,1170,2710,1550,615,700,195,365,3075,4100,580,265,2760,370,235,3875,270,360,3600,1450,1995,950,590,565,330,875,1335,1145,1725,215,35,500,1870,320,2040,1435,1380,1260,730,735,610,560,4795,1315,1070,240,520,570,1260,1130,340,1960,630,795,1100,80,815,540,1640,940,1225,60,1280,1315,1255,160,2235,1410,945,305,465,6875,3720,2700,2240,1035,195,65,2510,75,55,645,385,1050,1150,2360,95,80,1985,3240,30,755,190,685,1210,2595,270,750,2510,1005,695,2930,220,335,335,830,655,1005,1015,1420,2835,1795,655,635,170,95,3145,205,2350,1035,90,1055,1755,1965,330,495,1770,1460,575,250,2390,1485,455,3890,1185,240,1170,825,15,735,670,1275,2715,1505,575,735,240,355,3280,4195,595,285,2765,340,240,3925,295,375,3385,1410,2060,535,635,685,455,990,1475,1105,1650,195,35,490,1810,320,2080,1445,1370,995,830,5,0,0,165,0,0,0,0,5,15,5,0,10,5,55,10,0,5,15,10,5,5,15,30,5,5,5,30,65,85,5,0,140,45,45,45,0,5,0,25,0,0,0,5,15,0,10,0,0,35,20,0,0,0,0,5,0,0,5,55,5,20,230,0,10,5,0,10,0,40,35,90,35,45,10,0,50,60,0,45,0,5,10,65,5,0,5,15,35,25,35,35,20,35,80,0,5,40,0,0,5,0,0,110,0,0,10,10,0,25,160,5,0,10,0,5,65,5,20,90,85,5,40,0,0,45,5,30,10,0,0,0,0,50,15,30,10,25,40,10,0,5,5,15,0,10,0,0,0,110,5,0,20,0,10,5,0,0,5,0,10,5,5,5,5,25,45,30,0,10,5,5,25,10,0,20,5,5,0,5,15,15,0,0,0,10,5,0,0,5,25,0,0,5,0,0,0,100,10,5,0,65,15,0,0,0,20,15,0,10,0,10,10,0,5,0,0,5,0,10,5,0,185,5,0,0,0,5,5,0,10,30,0,5,0,0,0,0,0,0,5,0,0,65,5,0,5,0,0,15,25,0,0,5,5,0,5,0,0,25,5,5,0,5,0,0,10,20,15,5,0,0,10,5,10,5,10,0,45,5,20,60,0,65,0,10,0,5,0,115,5,20,35,0,20,0,0,0,5,20,5,0,0,45,55,20,65,15,30,10,0,5,35,0,0,55,0,5,0,0,5,15,0,0,0,15,5,5,0,5,10,0,0,0,0,0,5,100,0,10,0,80,15,5,0,5,5,10,5,10,0,10,5,90,0,5,10,0,5,10,0,0,190,10,5,0,0,0,45,0,0,10,5,5,55,5,5,15,5,0,30,0,0,20,0,5,5,5,0,5,70,10,0,5,5,30,10,5,0,195,45,20,0,30,5,5,0,20,10,15,0,0,10,15,0,0,5,0,50,10,15,65,0,90,0,15,10,5,0,115,0,20,40,5,15,5,0,0,0,20,0,0,0,30,50,10,60,65,25,15,0,5,220,5,95,40,0,10,0,0,5,10,0,0,0,0,30,0,5,10,25,0,0,0,0,0,0,100,5,10,0,80,55,0,0,0,15,15,0,5,0,45,10,85,0,5,30,10,5,30,5,0,5,5,5,0,0,50,40,0,15,10,0,5,130,15,10,15,20,10,25,0,0,20,5,20,10,0,0,5,85,5,0,5,30,25,15,5,0,365,50,15,20,30,5,0,5,15,5,20,0,0,10,25,5,35,0,0,0,5,200388,203047,259998,453850,371864,304749,257404,327644,343535,565304,225369,182957,265705,158483,310740,222086,927466,269386,213227,300213,219771,596077,249025,246750,215421,335119,253618,255142,283706,256205,241824,159187,264116,231741,278023,290457,483734,163419,163039,345676,241685,187993,126255,517466,726664,199043,235168,224425,224780,323536,354207,260555,240009,272896,213919,194295,423537,174793,274436,263247,196112,174518,267631,205572,512334,395115,204523,372579,461393,664712,489998,328211,234424,156076,275374,269751,209609,239078,173169,248778,159374,153829,411558,284459,247779,339987,279833,224801,427169,249993,181251,256556,268067,269410,378033,276239,246333,394235,226856,465254,238524,219337,210017,309221,664476,228625,335435,261923,200402,271880,276462,607040,228460,334433,215039,145464,404836,228368,155094,324732,375678,213950,228975,172947,208555,212241,187140,213749,211633,284984,283215,282087,181367,270607,224756,343877,491987,494098,185859,261784,293140,297031,380342,663921,543987,445807,376548,479299,502546,826963,329685,267642,388690,231839,454571,324882,1356757,394075,311922,439171,321496,871981,364291,360962,315133,490234,371009,373239,415024,374793,353756,232869,386366,339006,406710,424900,707638,239060,238505,505677,353553,275009,184694,756983,1063011,291172,344019,328303,328823,473289,518157,381156,351101,399210,312935,284227,619577,255698,401463,385094,286886,255296,391509,300725,749476,578001,299190,545034,674957,972384,716801,480129,342930,228318,402835,394610,306629,349739,253323,363929,233143,225031,602054,416125,362468,497355,409358,328854,624890,365706,265146,375307,392146,394111,553011,404100,360352,576713,331860,680604,348928,320860,307227,452349,972039,334448,490697,383158,293162,397724,404427,888017,334206,489230,314574,212794,592220,334072,226882,475039,549567,312980,334960,252998,305088,310480,273761,312685,309590,416893,414306,412655,265315,395861,328788,503046,719711,722799,271887,382954,366667,371534,475742,830450,680433,557627,470996,599520,628597,1034387,412378,334773,486184,289990,568589,406371,1697067,492919,390160,549326,402135,1090696,455664,451500,394176,613197,464068,466857,519123,468801,442487,291278,483276,424038,508723,531476,885132,299023,298328,632514,442233,343988,231020,946854,1329642,364206,430308,410650,411300,592002,648124,476760,439166,499342,391427,355519,774983,319834,502160,481686,358844,319331,489709,376154,937464,722978,374234,681742,844253,1216283,896593,600558,428946,285586,503876,493588,383540,437462,316863,455212,291621,281475,753065,520500,453384,622104,512036,411339,781629,457435,331652,469444,490506,492964,691720,505459,450737,721368,415099,851317,436448,401340,384287,565810,1215852,418336,613776,479264,366694,497483,505868,1110755,418033,611942,393477,266168,740764,417866,283790,594191,687412,391483,418977,316456,381612,388356,342427,391115,387243,521460,518224,516160,331863,495153,411256,629223,900233,904096,340083,479009,459051,465144,595608,1039687,851872,698124,589666,750572,786976,1295007,516279,419121,608681,363055,711848,508759,2124653,617113,488463,687732,503455,1365503,570471,565258,493491,767695,580993,584484,649919,586918,553974,364667,605040,530877,636899,665384,1108146,374364,373493,791880,553656,430658,289227,1185419,1664653,455970,538727,514116,514929,741161,811423,596883,549816,625154,490049,445094,970245,400418,628682,603050,449257,399789,613094,470928,1173663,905137,468524,853511,1056967,1522732,1122495,751872,537021,357541,630831,617950,480175,547683,396699,569905,365097,352394,942804,651643,567617,778847,641047,514978,978565,572689,415214,587723,614092,617169,866003,632812,564303,903121,519686,1065811,546413,502460,481110,708369,1522193,523738,768420,600017,459085,622827,633325,1390616,523359,766124,492616,333230,927404,523150,355293,743901,860610,490119,524540,396189,477762,486204,428703,489659,484811,652845,648794,646210,415478,619910,514874,787760,1127052,1131888,425769,599698,810,806,817,1027,1007,843,1218,1197,1212,933,622,811,705,703,646,810,1983,781,742,810,781,1241,937,942,739,779,697,785,688,766,925,765,800,752,848,690,936,726,802,751,920,895,774,940,1001,679,688,898,960,942,874,755,563,864,753,802,809,717,890,851,661,616,834,874,1362,676,763,1106,1071,1021,962,828,766,796,777,923,776,838,712,660,744,765,911,953,645,999,943,1076,878,730,606,728,718,796,981,925,846,893,893,992,524,712,673,780,1219,899,899,615,692,718,713,1055,959,827,801,732,958,737,876,938,1035,720,1177,570,785,909,726,597,751,1207,928,933,698,649,683,772,1035,1091,757,761,1055,1082,1120,1671,1410,1276,1385,1412,1235,1808,1017,1104,1225,973,1394,1282,2170,1309,1124,1486,1215,1819,1277,1517,1229,1396,1226,1188,1363,1249,1181,1118,1200,1057,1270,1543,1502,1073,1166,1346,1132,1092,1171,1731,1781,1059,1261,1145,1316,1421,1471,1229,1134,1157,1086,1115,1598,1091,1298,1360,1118,1082,1376,1068,1625,1488,1099,1527,1748,1977,1657,1266,1308,1197,1041,1187,1056,1419,1188,1527,1232,1127,1673,1546,1240,1386,1205,1584,1479,1579,1032,1209,1261,1170,1332,1216,1029,1720,1108,1468,1552,1105,1124,1456,1868,1362,1440,1023,1212,1652,1441,1881,1063,1258,1053,1101,1708,1175,1263,1326,1383,1143,1584,1081,1186,1271,1172,1165,1053,1377,1324,1104,1091,1432,1263,1394,1793,1638,1079,1085,1160,1190,1232,1838,1551,1403,1523,1553,1358,1988,1118,1214,1347,1070,1533,1410,2387,1440,1236,1634,1336,2001,1404,1668,1352,1535,1348,1307,1499,1374,1299,1230,1320,1162,1397,1697,1652,1180,1282,1480,1245,1201,1288,1904,1959,1165,1387,1259,1447,1563,1618,1352,1247,1272,1194,1226,1758,1200,1428,1496,1230,1190,1513,1175,1787,1637,1209,1679,1922,2174,1822,1392,1439,1317,1145,1305,1161,1561,1307,1679,1355,1239,1840,1700,1364,1524,1325,1742,1627,1737,1135,1330,1387,1287,1465,1337,1132,1892,1219,1615,1707,1215,1236,1601,2054,1498,1584,1125,1333,1817,1585,2069,1169,1384,1158,1211,1878,1292,1389,1458,1521,1257,1742,1189,1304,1398,1289,1281,1158,1514,1456,1214,1200,1575,1389,1533,1972,1802,1187,1193,1411,1447,1498,2235,1886,1706,1852,1889,1652,2418,1360,1476,1638,1301,1864,1715,2903,1751,1503,1987,1625,2434,1708,2029,1644,1867,1639,1590,1823,1671,1580,1496,1605,1413,1699,2064,2009,1435,1559,1800,1514,1461,1566,2316,2383,1417,1687,1531,1760,1901,1968,1644,1517,1547,1452,1491,2138,1459,1737,1819,1496,1447,1840,1429,2173,1991,1470,2042,2338,2644,2216,1693,1750,1602,1393,1587,1412,1899,1590,2042,1648,1507,2238,2068,1659,1854,1611,2119,1979,2113,1380,1618,1687,1565,1782,1626,1377,2301,1483,1964,2076,1478,1503,1947,2498,1822,1926,1368,1621,2210,1928,2516,1422,1683,1408,1473,2284,1571,1689,1773,1850,1529,2119,1446,1586,1700,1568,1558,1408,1841,1771,1476,1459,1916,1689,1864,2398,2192,1444,1451,870,892,924,1378,1163,1052,1142,1164,1018,1491,838,910,1010,802,1149,1057,1790,1080,927,1225,1002,1500,1053,1251,1014,1151,1011,980,1124,1030,974,922,990,871,1048,1272,1239,885,961,1110,934,901,966,1428,1469,874,1040,944,1085,1172,1213,1014,935,954,895,919,1318,900,1071,1122,922,892,1134,881,1340,1227,907,1259,1441,1630,1366,1044,1079,988,859,979,871,1170,980,1259,1016,929,1380,1275,1023,1143,994,1306,1220,1302,851,997,1040,965,1098,1003,849,1419,914,1211,1280,911,927,1200,1540,1123,1188,844,1000,1362,1188,1551,877,1038,868,908,1408,969,1042,1093,1140,943,1306,892,978,1048,967,961,868,1135,1092,910,900,1181,1042,1149,1479,1351,890,895,886,881,893,1122,1101,921,1331,1308,1324,1020,680,887,770,768,706,886,2167,853,810,886,854,1356,1024,1029,808,851,761,858,751,838,1011,836,874,821,926,754,1023,793,877,820,1005,978,846,1027,1094,742,752,981,1049,1029,956,825,615,945,823,877,884,783,973,930,722,673,911,955,1488,739,834,1209,1171,1116,1051,905,837,869,849,1009,848,916,778,721,813,836,995,1042,705,1092,1030,1176,959,798,662,796,785,870,1072,1011,925,975,975,1083,573,778,735,852,1332,982,983,671,756,785,779,1152,1048,904,875,800,1047,805,957,1025,1131,787,1286,622,858,994,793,652,820,1318,1014,1020,762,710,747,844,1131,1192,827,831,976,971,984,1237,1213,1015,1467,1441,1459,1124,749,977,849,846,778,976,2388,940,893,976,941,1494,1128,1134,890,938,839,945,828,923,1114,921,963,905,1021,831,1127,874,966,904,1108,1078,932,1132,1206,818,829,1081,1156,1134,1053,909,678,1041,907,966,974,863,1072,1025,796,742,1004,1052,1640,814,919,1332,1290,1230,1158,997,922,958,936,1112,934,1009,857,795,896,921,1097,1148,777,1203,1135,1296,1057,879,730,877,865,959,1181,1114,1019,1075,1075,1194,631,857,810,939,1468,1082,1083,740,833,865,859,1270,1155,996,964,882,1154,887,1055,1130,1246,867,1417,686,945,1095,874,719,904,1453,1117,1124,840,782,823,930,1246,1314,911,916,1202,1196,1212,1524,1494,1250,1807,1775,1797,1385,923,1204,1046,1042,958,1202,2942,1158,1100,1202,1159,1841,1390,1397,1096,1156,1034,1164,1020,1137,1372,1135,1186,1115,1258,1024,1388,1077,1190,1114,1365,1328,1148,1395,1486,1008,1021,1332,1424,1397,1297,1120,835,1282,1117,1190,1200,1063,1321,1263,981,914,1237,1296,2020,1003,1132,1641,1589,1515,1427,1228,1136,1180,1153,1370,1151,1243,1056,979,1104,1135,1351,1414,957,1482,1398,1597,1302,1083,899,1080,1066,1181,1455,1372,1255,1324,1324,1471,777,1056,998,1157,1809,1333,1334,912,1026,1066,1058,1565,1423,1227,1188,1087,1422,1093,1300,1392,1535,1068,1746,845,1164,1349,1077,886,1114,1790,1376,1385,1035,963,1014,1146,1535,1619,1122,1128],\"xoffsets\":[[\"0\",\"year\"],[\"1\",\"year\"],[\"2\",\"year\"],[\"3\",\"year\"],[\"4\",\"year\"],[\"5\",\"year\"],[\"6\",\"year\"],[\"7\",\"year\"],[\"8\",\"year\"],[\"9\",\"year\"],[\"10\",\"year\"],[\"11\",\"year\"],[\"12\",\"year\"],[\"13\",\"year\"],[\"14\",\"year\"],[\"15\",\"year\"],[\"16\",\"year\"],[\"17\",\"year\"],[\"18\",\"year\"],[\"19\",\"year\"],[\"20\",\"year\"],[\"21\",\"year\"],[\"22\",\"year\"],[\"23\",\"year\"],[\"24\",\"year\"],[\"25\",\"year\"],[\"26\",\"year\"],[\"27\",\"year\"],[\"28\",\"year\"],[\"29\",\"year\"],[\"30\",\"year\"],[\"31\",\"year\"],[\"32\",\"year\"],[\"33\",\"year\"],[\"34\",\"year\"],[\"35\",\"year\"],[\"36\",\"year\"],[\"37\",\"year\"],[\"38\",\"year\"],[\"39\",\"year\"],[\"40\",\"year\"],[\"41\",\"year\"],[\"42\",\"year\"],[\"43\",\"year\"],[\"44\",\"year\"],[\"45\",\"year\"],[\"46\",\"year\"],[\"47\",\"year\"],[\"48\",\"year\"],[\"49\",\"year\"],[\"50\",\"year\"],[\"51\",\"year\"],[\"52\",\"year\"],[\"53\",\"year\"],[\"54\",\"year\"],[\"55\",\"year\"],[\"56\",\"year\"],[\"57\",\"year\"],[\"58\",\"year\"],[\"59\",\"year\"],[\"60\",\"year\"],[\"61\",\"year\"],[\"62\",\"year\"],[\"63\",\"year\"],[\"64\",\"year\"],[\"65\",\"year\"],[\"66\",\"year\"],[\"67\",\"year\"],[\"68\",\"year\"],[\"69\",\"year\"],[\"70\",\"year\"],[\"71\",\"year\"],[\"72\",\"year\"],[\"73\",\"year\"],[\"74\",\"year\"],[\"75\",\"year\"],[\"76\",\"year\"],[\"77\",\"year\"],[\"78\",\"year\"],[\"79\",\"year\"],[\"80\",\"year\"],[\"81\",\"year\"],[\"82\",\"year\"],[\"83\",\"year\"],[\"84\",\"year\"],[\"85\",\"year\"],[\"86\",\"year\"],[\"87\",\"year\"],[\"88\",\"year\"],[\"89\",\"year\"],[\"90\",\"year\"],[\"91\",\"year\"],[\"92\",\"year\"],[\"93\",\"year\"],[\"94\",\"year\"],[\"95\",\"year\"],[\"96\",\"year\"],[\"97\",\"year\"],[\"98\",\"year\"],[\"99\",\"year\"],[\"100\",\"year\"],[\"101\",\"year\"],[\"102\",\"year\"],[\"103\",\"year\"],[\"104\",\"year\"],[\"105\",\"year\"],[\"106\",\"year\"],[\"107\",\"year\"],[\"108\",\"year\"],[\"109\",\"year\"],[\"110\",\"year\"],[\"111\",\"year\"],[\"112\",\"year\"],[\"113\",\"year\"],[\"114\",\"year\"],[\"115\",\"year\"],[\"116\",\"year\"],[\"117\",\"year\"],[\"118\",\"year\"],[\"119\",\"year\"],[\"120\",\"year\"],[\"121\",\"year\"],[\"122\",\"year\"],[\"123\",\"year\"],[\"124\",\"year\"],[\"125\",\"year\"],[\"126\",\"year\"],[\"127\",\"year\"],[\"128\",\"year\"],[\"129\",\"year\"],[\"130\",\"year\"],[\"131\",\"year\"],[\"132\",\"year\"],[\"133\",\"year\"],[\"134\",\"year\"],[\"135\",\"year\"],[\"136\",\"year\"],[\"137\",\"year\"],[\"138\",\"year\"],[\"139\",\"year\"],[\"140\",\"year\"],[\"141\",\"year\"],[\"142\",\"year\"],[\"143\",\"year\"],[\"144\",\"year\"],[\"145\",\"year\"],[\"146\",\"year\"],[\"147\",\"year\"],[\"148\",\"year\"],[\"149\",\"year\"],[\"150\",\"year\"],[\"151\",\"year\"],[\"152\",\"year\"],[\"153\",\"year\"],[\"154\",\"year\"],[\"155\",\"year\"],[\"156\",\"year\"],[\"157\",\"year\"],[\"158\",\"year\"],[\"159\",\"year\"],[\"160\",\"year\"],[\"161\",\"year\"],[\"162\",\"year\"],[\"163\",\"year\"],[\"164\",\"year\"],[\"165\",\"year\"],[\"166\",\"year\"],[\"167\",\"year\"],[\"168\",\"year\"],[\"169\",\"year\"],[\"170\",\"year\"],[\"171\",\"year\"],[\"172\",\"year\"],[\"173\",\"year\"],[\"174\",\"year\"],[\"175\",\"year\"],[\"176\",\"year\"],[\"177\",\"year\"],[\"178\",\"year\"],[\"179\",\"year\"],[\"180\",\"year\"],[\"181\",\"year\"],[\"182\",\"year\"],[\"183\",\"year\"],[\"184\",\"year\"],[\"185\",\"year\"],[\"186\",\"year\"],[\"187\",\"year\"],[\"188\",\"year\"],[\"189\",\"year\"],[\"190\",\"year\"],[\"191\",\"year\"],[\"192\",\"year\"],[\"193\",\"year\"],[\"194\",\"year\"],[\"195\",\"year\"],[\"196\",\"year\"],[\"197\",\"year\"],[\"198\",\"year\"],[\"199\",\"year\"],[\"200\",\"year\"],[\"201\",\"year\"],[\"202\",\"year\"],[\"203\",\"year\"],[\"204\",\"year\"],[\"205\",\"year\"],[\"206\",\"year\"],[\"207\",\"year\"],[\"208\",\"year\"],[\"209\",\"year\"],[\"210\",\"year\"],[\"211\",\"year\"],[\"212\",\"year\"],[\"213\",\"year\"],[\"214\",\"year\"],[\"215\",\"year\"],[\"216\",\"year\"],[\"217\",\"year\"],[\"218\",\"year\"],[\"219\",\"year\"],[\"220\",\"year\"],[\"221\",\"year\"],[\"222\",\"year\"],[\"223\",\"year\"],[\"224\",\"year\"],[\"225\",\"year\"],[\"226\",\"year\"],[\"227\",\"year\"],[\"228\",\"year\"],[\"229\",\"year\"],[\"230\",\"year\"],[\"231\",\"year\"],[\"232\",\"year\"],[\"233\",\"year\"],[\"234\",\"year\"],[\"235\",\"year\"],[\"236\",\"year\"],[\"237\",\"year\"],[\"238\",\"year\"],[\"239\",\"year\"],[\"240\",\"year\"],[\"241\",\"year\"],[\"242\",\"year\"],[\"243\",\"year\"],[\"244\",\"year\"],[\"245\",\"year\"],[\"246\",\"year\"],[\"247\",\"year\"],[\"248\",\"year\"],[\"249\",\"year\"],[\"250\",\"year\"],[\"251\",\"year\"],[\"252\",\"year\"],[\"253\",\"year\"],[\"254\",\"year\"],[\"255\",\"year\"],[\"256\",\"year\"],[\"257\",\"year\"],[\"258\",\"year\"],[\"259\",\"year\"],[\"260\",\"year\"],[\"261\",\"year\"],[\"262\",\"year\"],[\"263\",\"year\"],[\"264\",\"year\"],[\"265\",\"year\"],[\"266\",\"year\"],[\"267\",\"year\"],[\"268\",\"year\"],[\"269\",\"year\"],[\"270\",\"year\"],[\"271\",\"year\"],[\"272\",\"year\"],[\"273\",\"year\"],[\"274\",\"year\"],[\"275\",\"year\"],[\"276\",\"year\"],[\"277\",\"year\"],[\"278\",\"year\"],[\"279\",\"year\"],[\"280\",\"year\"],[\"281\",\"year\"],[\"282\",\"year\"],[\"283\",\"year\"],[\"284\",\"year\"],[\"285\",\"year\"],[\"286\",\"year\"],[\"287\",\"year\"],[\"288\",\"year\"],[\"289\",\"year\"],[\"290\",\"year\"],[\"291\",\"year\"],[\"292\",\"year\"],[\"293\",\"year\"],[\"294\",\"year\"],[\"295\",\"year\"],[\"296\",\"year\"],[\"297\",\"year\"],[\"298\",\"year\"],[\"299\",\"year\"],[\"300\",\"year\"],[\"301\",\"year\"],[\"302\",\"year\"],[\"303\",\"year\"],[\"304\",\"year\"],[\"305\",\"year\"],[\"306\",\"year\"],[\"307\",\"year\"],[\"308\",\"year\"],[\"309\",\"year\"],[\"310\",\"year\"],[\"311\",\"year\"],[\"312\",\"year\"],[\"313\",\"year\"],[\"314\",\"year\"],[\"315\",\"year\"],[\"316\",\"year\"],[\"317\",\"year\"],[\"318\",\"year\"],[\"319\",\"year\"],[\"320\",\"year\"],[\"321\",\"year\"],[\"322\",\"year\"],[\"323\",\"year\"],[\"324\",\"year\"],[\"325\",\"year\"],[\"326\",\"year\"],[\"327\",\"year\"],[\"328\",\"year\"],[\"329\",\"year\"],[\"330\",\"year\"],[\"331\",\"year\"],[\"332\",\"year\"],[\"333\",\"year\"],[\"334\",\"year\"],[\"335\",\"year\"],[\"336\",\"year\"],[\"337\",\"year\"],[\"338\",\"year\"],[\"339\",\"year\"],[\"340\",\"year\"],[\"341\",\"year\"],[\"342\",\"year\"],[\"343\",\"year\"],[\"344\",\"year\"],[\"345\",\"year\"],[\"346\",\"year\"],[\"347\",\"year\"],[\"348\",\"year\"],[\"349\",\"year\"],[\"350\",\"year\"],[\"351\",\"year\"],[\"352\",\"year\"],[\"353\",\"year\"],[\"354\",\"year\"],[\"355\",\"year\"],[\"356\",\"year\"],[\"357\",\"year\"],[\"358\",\"year\"],[\"359\",\"year\"],[\"360\",\"year\"],[\"361\",\"year\"],[\"362\",\"year\"],[\"363\",\"year\"],[\"364\",\"year\"],[\"365\",\"year\"],[\"366\",\"year\"],[\"367\",\"year\"],[\"368\",\"year\"],[\"369\",\"year\"],[\"370\",\"year\"],[\"371\",\"year\"],[\"372\",\"year\"],[\"373\",\"year\"],[\"374\",\"year\"],[\"375\",\"year\"],[\"376\",\"year\"],[\"377\",\"year\"],[\"378\",\"year\"],[\"379\",\"year\"],[\"380\",\"year\"],[\"381\",\"year\"],[\"382\",\"year\"],[\"383\",\"year\"],[\"384\",\"year\"],[\"385\",\"year\"],[\"386\",\"year\"],[\"387\",\"year\"],[\"388\",\"year\"],[\"389\",\"year\"],[\"390\",\"year\"],[\"391\",\"year\"],[\"392\",\"year\"],[\"393\",\"year\"],[\"394\",\"year\"],[\"395\",\"year\"],[\"396\",\"year\"],[\"397\",\"year\"],[\"398\",\"year\"],[\"399\",\"year\"],[\"400\",\"year\"],[\"401\",\"year\"],[\"402\",\"year\"],[\"403\",\"year\"],[\"404\",\"year\"],[\"405\",\"year\"],[\"406\",\"year\"],[\"407\",\"year\"],[\"408\",\"year\"],[\"409\",\"year\"],[\"410\",\"year\"],[\"411\",\"year\"],[\"412\",\"year\"],[\"413\",\"year\"],[\"414\",\"year\"],[\"415\",\"year\"],[\"416\",\"year\"],[\"417\",\"year\"],[\"418\",\"year\"],[\"419\",\"year\"],[\"420\",\"year\"],[\"421\",\"year\"],[\"422\",\"year\"],[\"423\",\"year\"],[\"424\",\"year\"],[\"425\",\"year\"],[\"426\",\"year\"],[\"427\",\"year\"],[\"428\",\"year\"],[\"429\",\"year\"],[\"430\",\"year\"],[\"431\",\"year\"],[\"432\",\"year\"],[\"433\",\"year\"],[\"434\",\"year\"],[\"435\",\"year\"],[\"436\",\"year\"],[\"437\",\"year\"],[\"438\",\"year\"],[\"439\",\"year\"],[\"440\",\"year\"],[\"441\",\"year\"],[\"442\",\"year\"],[\"443\",\"year\"],[\"444\",\"year\"],[\"445\",\"year\"],[\"446\",\"year\"],[\"447\",\"year\"],[\"448\",\"year\"],[\"449\",\"year\"],[\"450\",\"year\"],[\"451\",\"year\"],[\"452\",\"year\"],[\"453\",\"year\"],[\"454\",\"year\"],[\"455\",\"year\"],[\"456\",\"year\"],[\"457\",\"year\"],[\"458\",\"year\"],[\"459\",\"year\"],[\"460\",\"year\"],[\"461\",\"year\"],[\"462\",\"year\"],[\"463\",\"year\"],[\"464\",\"year\"],[\"465\",\"year\"],[\"466\",\"year\"],[\"467\",\"year\"],[\"468\",\"year\"],[\"469\",\"year\"],[\"470\",\"year\"],[\"471\",\"year\"],[\"472\",\"year\"],[\"473\",\"year\"],[\"474\",\"year\"],[\"475\",\"year\"],[\"476\",\"year\"],[\"477\",\"year\"],[\"478\",\"year\"],[\"479\",\"year\"],[\"480\",\"year\"],[\"481\",\"year\"],[\"482\",\"year\"],[\"483\",\"year\"],[\"484\",\"year\"],[\"485\",\"year\"],[\"486\",\"year\"],[\"487\",\"year\"],[\"488\",\"year\"],[\"489\",\"year\"],[\"490\",\"year\"],[\"491\",\"year\"],[\"492\",\"year\"],[\"493\",\"year\"],[\"494\",\"year\"],[\"495\",\"year\"],[\"496\",\"year\"],[\"497\",\"year\"],[\"498\",\"year\"],[\"499\",\"year\"],[\"500\",\"year\"],[\"501\",\"year\"],[\"502\",\"year\"],[\"503\",\"year\"],[\"504\",\"year\"],[\"505\",\"year\"],[\"506\",\"year\"],[\"507\",\"year\"],[\"508\",\"year\"],[\"509\",\"year\"],[\"510\",\"year\"],[\"511\",\"year\"],[\"512\",\"year\"],[\"513\",\"year\"],[\"514\",\"year\"],[\"515\",\"year\"],[\"516\",\"year\"],[\"517\",\"year\"],[\"518\",\"year\"],[\"519\",\"year\"],[\"520\",\"year\"],[\"521\",\"year\"],[\"522\",\"year\"],[\"523\",\"year\"],[\"524\",\"year\"],[\"525\",\"year\"],[\"526\",\"year\"],[\"527\",\"year\"],[\"528\",\"year\"],[\"529\",\"year\"],[\"530\",\"year\"],[\"531\",\"year\"],[\"532\",\"year\"],[\"533\",\"year\"],[\"534\",\"year\"],[\"535\",\"year\"],[\"536\",\"year\"],[\"537\",\"year\"],[\"538\",\"year\"],[\"539\",\"year\"],[\"540\",\"year\"],[\"541\",\"year\"],[\"542\",\"year\"],[\"543\",\"year\"],[\"544\",\"year\"],[\"545\",\"year\"],[\"546\",\"year\"],[\"547\",\"year\"],[\"548\",\"year\"],[\"549\",\"year\"],[\"550\",\"year\"],[\"551\",\"year\"],[\"552\",\"year\"],[\"553\",\"year\"],[\"554\",\"year\"],[\"555\",\"year\"],[\"556\",\"year\"],[\"557\",\"year\"],[\"558\",\"year\"],[\"559\",\"year\"],[\"0\",\"single_detached_house\"],[\"1\",\"single_detached_house\"],[\"2\",\"single_detached_house\"],[\"3\",\"single_detached_house\"],[\"4\",\"single_detached_house\"],[\"5\",\"single_detached_house\"],[\"6\",\"single_detached_house\"],[\"7\",\"single_detached_house\"],[\"8\",\"single_detached_house\"],[\"9\",\"single_detached_house\"],[\"10\",\"single_detached_house\"],[\"11\",\"single_detached_house\"],[\"12\",\"single_detached_house\"],[\"13\",\"single_detached_house\"],[\"14\",\"single_detached_house\"],[\"15\",\"single_detached_house\"],[\"16\",\"single_detached_house\"],[\"17\",\"single_detached_house\"],[\"18\",\"single_detached_house\"],[\"19\",\"single_detached_house\"],[\"20\",\"single_detached_house\"],[\"21\",\"single_detached_house\"],[\"22\",\"single_detached_house\"],[\"23\",\"single_detached_house\"],[\"24\",\"single_detached_house\"],[\"25\",\"single_detached_house\"],[\"26\",\"single_detached_house\"],[\"27\",\"single_detached_house\"],[\"28\",\"single_detached_house\"],[\"29\",\"single_detached_house\"],[\"30\",\"single_detached_house\"],[\"31\",\"single_detached_house\"],[\"32\",\"single_detached_house\"],[\"33\",\"single_detached_house\"],[\"34\",\"single_detached_house\"],[\"35\",\"single_detached_house\"],[\"36\",\"single_detached_house\"],[\"37\",\"single_detached_house\"],[\"38\",\"single_detached_house\"],[\"39\",\"single_detached_house\"],[\"40\",\"single_detached_house\"],[\"41\",\"single_detached_house\"],[\"42\",\"single_detached_house\"],[\"43\",\"single_detached_house\"],[\"44\",\"single_detached_house\"],[\"45\",\"single_detached_house\"],[\"46\",\"single_detached_house\"],[\"47\",\"single_detached_house\"],[\"48\",\"single_detached_house\"],[\"49\",\"single_detached_house\"],[\"50\",\"single_detached_house\"],[\"51\",\"single_detached_house\"],[\"52\",\"single_detached_house\"],[\"53\",\"single_detached_house\"],[\"54\",\"single_detached_house\"],[\"55\",\"single_detached_house\"],[\"56\",\"single_detached_house\"],[\"57\",\"single_detached_house\"],[\"58\",\"single_detached_house\"],[\"59\",\"single_detached_house\"],[\"60\",\"single_detached_house\"],[\"61\",\"single_detached_house\"],[\"62\",\"single_detached_house\"],[\"63\",\"single_detached_house\"],[\"64\",\"single_detached_house\"],[\"65\",\"single_detached_house\"],[\"66\",\"single_detached_house\"],[\"67\",\"single_detached_house\"],[\"68\",\"single_detached_house\"],[\"69\",\"single_detached_house\"],[\"70\",\"single_detached_house\"],[\"71\",\"single_detached_house\"],[\"72\",\"single_detached_house\"],[\"73\",\"single_detached_house\"],[\"74\",\"single_detached_house\"],[\"75\",\"single_detached_house\"],[\"76\",\"single_detached_house\"],[\"77\",\"single_detached_house\"],[\"78\",\"single_detached_house\"],[\"79\",\"single_detached_house\"],[\"80\",\"single_detached_house\"],[\"81\",\"single_detached_house\"],[\"82\",\"single_detached_house\"],[\"83\",\"single_detached_house\"],[\"84\",\"single_detached_house\"],[\"85\",\"single_detached_house\"],[\"86\",\"single_detached_house\"],[\"87\",\"single_detached_house\"],[\"88\",\"single_detached_house\"],[\"89\",\"single_detached_house\"],[\"90\",\"single_detached_house\"],[\"91\",\"single_detached_house\"],[\"92\",\"single_detached_house\"],[\"93\",\"single_detached_house\"],[\"94\",\"single_detached_house\"],[\"95\",\"single_detached_house\"],[\"96\",\"single_detached_house\"],[\"97\",\"single_detached_house\"],[\"98\",\"single_detached_house\"],[\"99\",\"single_detached_house\"],[\"100\",\"single_detached_house\"],[\"101\",\"single_detached_house\"],[\"102\",\"single_detached_house\"],[\"103\",\"single_detached_house\"],[\"104\",\"single_detached_house\"],[\"105\",\"single_detached_house\"],[\"106\",\"single_detached_house\"],[\"107\",\"single_detached_house\"],[\"108\",\"single_detached_house\"],[\"109\",\"single_detached_house\"],[\"110\",\"single_detached_house\"],[\"111\",\"single_detached_house\"],[\"112\",\"single_detached_house\"],[\"113\",\"single_detached_house\"],[\"114\",\"single_detached_house\"],[\"115\",\"single_detached_house\"],[\"116\",\"single_detached_house\"],[\"117\",\"single_detached_house\"],[\"118\",\"single_detached_house\"],[\"119\",\"single_detached_house\"],[\"120\",\"single_detached_house\"],[\"121\",\"single_detached_house\"],[\"122\",\"single_detached_house\"],[\"123\",\"single_detached_house\"],[\"124\",\"single_detached_house\"],[\"125\",\"single_detached_house\"],[\"126\",\"single_detached_house\"],[\"127\",\"single_detached_house\"],[\"128\",\"single_detached_house\"],[\"129\",\"single_detached_house\"],[\"130\",\"single_detached_house\"],[\"131\",\"single_detached_house\"],[\"132\",\"single_detached_house\"],[\"133\",\"single_detached_house\"],[\"134\",\"single_detached_house\"],[\"135\",\"single_detached_house\"],[\"136\",\"single_detached_house\"],[\"137\",\"single_detached_house\"],[\"138\",\"single_detached_house\"],[\"139\",\"single_detached_house\"],[\"140\",\"single_detached_house\"],[\"141\",\"single_detached_house\"],[\"142\",\"single_detached_house\"],[\"143\",\"single_detached_house\"],[\"144\",\"single_detached_house\"],[\"145\",\"single_detached_house\"],[\"146\",\"single_detached_house\"],[\"147\",\"single_detached_house\"],[\"148\",\"single_detached_house\"],[\"149\",\"single_detached_house\"],[\"150\",\"single_detached_house\"],[\"151\",\"single_detached_house\"],[\"152\",\"single_detached_house\"],[\"153\",\"single_detached_house\"],[\"154\",\"single_detached_house\"],[\"155\",\"single_detached_house\"],[\"156\",\"single_detached_house\"],[\"157\",\"single_detached_house\"],[\"158\",\"single_detached_house\"],[\"159\",\"single_detached_house\"],[\"160\",\"single_detached_house\"],[\"161\",\"single_detached_house\"],[\"162\",\"single_detached_house\"],[\"163\",\"single_detached_house\"],[\"164\",\"single_detached_house\"],[\"165\",\"single_detached_house\"],[\"166\",\"single_detached_house\"],[\"167\",\"single_detached_house\"],[\"168\",\"single_detached_house\"],[\"169\",\"single_detached_house\"],[\"170\",\"single_detached_house\"],[\"171\",\"single_detached_house\"],[\"172\",\"single_detached_house\"],[\"173\",\"single_detached_house\"],[\"174\",\"single_detached_house\"],[\"175\",\"single_detached_house\"],[\"176\",\"single_detached_house\"],[\"177\",\"single_detached_house\"],[\"178\",\"single_detached_house\"],[\"179\",\"single_detached_house\"],[\"180\",\"single_detached_house\"],[\"181\",\"single_detached_house\"],[\"182\",\"single_detached_house\"],[\"183\",\"single_detached_house\"],[\"184\",\"single_detached_house\"],[\"185\",\"single_detached_house\"],[\"186\",\"single_detached_house\"],[\"187\",\"single_detached_house\"],[\"188\",\"single_detached_house\"],[\"189\",\"single_detached_house\"],[\"190\",\"single_detached_house\"],[\"191\",\"single_detached_house\"],[\"192\",\"single_detached_house\"],[\"193\",\"single_detached_house\"],[\"194\",\"single_detached_house\"],[\"195\",\"single_detached_house\"],[\"196\",\"single_detached_house\"],[\"197\",\"single_detached_house\"],[\"198\",\"single_detached_house\"],[\"199\",\"single_detached_house\"],[\"200\",\"single_detached_house\"],[\"201\",\"single_detached_house\"],[\"202\",\"single_detached_house\"],[\"203\",\"single_detached_house\"],[\"204\",\"single_detached_house\"],[\"205\",\"single_detached_house\"],[\"206\",\"single_detached_house\"],[\"207\",\"single_detached_house\"],[\"208\",\"single_detached_house\"],[\"209\",\"single_detached_house\"],[\"210\",\"single_detached_house\"],[\"211\",\"single_detached_house\"],[\"212\",\"single_detached_house\"],[\"213\",\"single_detached_house\"],[\"214\",\"single_detached_house\"],[\"215\",\"single_detached_house\"],[\"216\",\"single_detached_house\"],[\"217\",\"single_detached_house\"],[\"218\",\"single_detached_house\"],[\"219\",\"single_detached_house\"],[\"220\",\"single_detached_house\"],[\"221\",\"single_detached_house\"],[\"222\",\"single_detached_house\"],[\"223\",\"single_detached_house\"],[\"224\",\"single_detached_house\"],[\"225\",\"single_detached_house\"],[\"226\",\"single_detached_house\"],[\"227\",\"single_detached_house\"],[\"228\",\"single_detached_house\"],[\"229\",\"single_detached_house\"],[\"230\",\"single_detached_house\"],[\"231\",\"single_detached_house\"],[\"232\",\"single_detached_house\"],[\"233\",\"single_detached_house\"],[\"234\",\"single_detached_house\"],[\"235\",\"single_detached_house\"],[\"236\",\"single_detached_house\"],[\"237\",\"single_detached_house\"],[\"238\",\"single_detached_house\"],[\"239\",\"single_detached_house\"],[\"240\",\"single_detached_house\"],[\"241\",\"single_detached_house\"],[\"242\",\"single_detached_house\"],[\"243\",\"single_detached_house\"],[\"244\",\"single_detached_house\"],[\"245\",\"single_detached_house\"],[\"246\",\"single_detached_house\"],[\"247\",\"single_detached_house\"],[\"248\",\"single_detached_house\"],[\"249\",\"single_detached_house\"],[\"250\",\"single_detached_house\"],[\"251\",\"single_detached_house\"],[\"252\",\"single_detached_house\"],[\"253\",\"single_detached_house\"],[\"254\",\"single_detached_house\"],[\"255\",\"single_detached_house\"],[\"256\",\"single_detached_house\"],[\"257\",\"single_detached_house\"],[\"258\",\"single_detached_house\"],[\"259\",\"single_detached_house\"],[\"260\",\"single_detached_house\"],[\"261\",\"single_detached_house\"],[\"262\",\"single_detached_house\"],[\"263\",\"single_detached_house\"],[\"264\",\"single_detached_house\"],[\"265\",\"single_detached_house\"],[\"266\",\"single_detached_house\"],[\"267\",\"single_detached_house\"],[\"268\",\"single_detached_house\"],[\"269\",\"single_detached_house\"],[\"270\",\"single_detached_house\"],[\"271\",\"single_detached_house\"],[\"272\",\"single_detached_house\"],[\"273\",\"single_detached_house\"],[\"274\",\"single_detached_house\"],[\"275\",\"single_detached_house\"],[\"276\",\"single_detached_house\"],[\"277\",\"single_detached_house\"],[\"278\",\"single_detached_house\"],[\"279\",\"single_detached_house\"],[\"280\",\"single_detached_house\"],[\"281\",\"single_detached_house\"],[\"282\",\"single_detached_house\"],[\"283\",\"single_detached_house\"],[\"284\",\"single_detached_house\"],[\"285\",\"single_detached_house\"],[\"286\",\"single_detached_house\"],[\"287\",\"single_detached_house\"],[\"288\",\"single_detached_house\"],[\"289\",\"single_detached_house\"],[\"290\",\"single_detached_house\"],[\"291\",\"single_detached_house\"],[\"292\",\"single_detached_house\"],[\"293\",\"single_detached_house\"],[\"294\",\"single_detached_house\"],[\"295\",\"single_detached_house\"],[\"296\",\"single_detached_house\"],[\"297\",\"single_detached_house\"],[\"298\",\"single_detached_house\"],[\"299\",\"single_detached_house\"],[\"300\",\"single_detached_house\"],[\"301\",\"single_detached_house\"],[\"302\",\"single_detached_house\"],[\"303\",\"single_detached_house\"],[\"304\",\"single_detached_house\"],[\"305\",\"single_detached_house\"],[\"306\",\"single_detached_house\"],[\"307\",\"single_detached_house\"],[\"308\",\"single_detached_house\"],[\"309\",\"single_detached_house\"],[\"310\",\"single_detached_house\"],[\"311\",\"single_detached_house\"],[\"312\",\"single_detached_house\"],[\"313\",\"single_detached_house\"],[\"314\",\"single_detached_house\"],[\"315\",\"single_detached_house\"],[\"316\",\"single_detached_house\"],[\"317\",\"single_detached_house\"],[\"318\",\"single_detached_house\"],[\"319\",\"single_detached_house\"],[\"320\",\"single_detached_house\"],[\"321\",\"single_detached_house\"],[\"322\",\"single_detached_house\"],[\"323\",\"single_detached_house\"],[\"324\",\"single_detached_house\"],[\"325\",\"single_detached_house\"],[\"326\",\"single_detached_house\"],[\"327\",\"single_detached_house\"],[\"328\",\"single_detached_house\"],[\"329\",\"single_detached_house\"],[\"330\",\"single_detached_house\"],[\"331\",\"single_detached_house\"],[\"332\",\"single_detached_house\"],[\"333\",\"single_detached_house\"],[\"334\",\"single_detached_house\"],[\"335\",\"single_detached_house\"],[\"336\",\"single_detached_house\"],[\"337\",\"single_detached_house\"],[\"338\",\"single_detached_house\"],[\"339\",\"single_detached_house\"],[\"340\",\"single_detached_house\"],[\"341\",\"single_detached_house\"],[\"342\",\"single_detached_house\"],[\"343\",\"single_detached_house\"],[\"344\",\"single_detached_house\"],[\"345\",\"single_detached_house\"],[\"346\",\"single_detached_house\"],[\"347\",\"single_detached_house\"],[\"348\",\"single_detached_house\"],[\"349\",\"single_detached_house\"],[\"350\",\"single_detached_house\"],[\"351\",\"single_detached_house\"],[\"352\",\"single_detached_house\"],[\"353\",\"single_detached_house\"],[\"354\",\"single_detached_house\"],[\"355\",\"single_detached_house\"],[\"356\",\"single_detached_house\"],[\"357\",\"single_detached_house\"],[\"358\",\"single_detached_house\"],[\"359\",\"single_detached_house\"],[\"360\",\"single_detached_house\"],[\"361\",\"single_detached_house\"],[\"362\",\"single_detached_house\"],[\"363\",\"single_detached_house\"],[\"364\",\"single_detached_house\"],[\"365\",\"single_detached_house\"],[\"366\",\"single_detached_house\"],[\"367\",\"single_detached_house\"],[\"368\",\"single_detached_house\"],[\"369\",\"single_detached_house\"],[\"370\",\"single_detached_house\"],[\"371\",\"single_detached_house\"],[\"372\",\"single_detached_house\"],[\"373\",\"single_detached_house\"],[\"374\",\"single_detached_house\"],[\"375\",\"single_detached_house\"],[\"376\",\"single_detached_house\"],[\"377\",\"single_detached_house\"],[\"378\",\"single_detached_house\"],[\"379\",\"single_detached_house\"],[\"380\",\"single_detached_house\"],[\"381\",\"single_detached_house\"],[\"382\",\"single_detached_house\"],[\"383\",\"single_detached_house\"],[\"384\",\"single_detached_house\"],[\"385\",\"single_detached_house\"],[\"386\",\"single_detached_house\"],[\"387\",\"single_detached_house\"],[\"388\",\"single_detached_house\"],[\"389\",\"single_detached_house\"],[\"390\",\"single_detached_house\"],[\"391\",\"single_detached_house\"],[\"392\",\"single_detached_house\"],[\"393\",\"single_detached_house\"],[\"394\",\"single_detached_house\"],[\"395\",\"single_detached_house\"],[\"396\",\"single_detached_house\"],[\"397\",\"single_detached_house\"],[\"398\",\"single_detached_house\"],[\"399\",\"single_detached_house\"],[\"400\",\"single_detached_house\"],[\"401\",\"single_detached_house\"],[\"402\",\"single_detached_house\"],[\"403\",\"single_detached_house\"],[\"404\",\"single_detached_house\"],[\"405\",\"single_detached_house\"],[\"406\",\"single_detached_house\"],[\"407\",\"single_detached_house\"],[\"408\",\"single_detached_house\"],[\"409\",\"single_detached_house\"],[\"410\",\"single_detached_house\"],[\"411\",\"single_detached_house\"],[\"412\",\"single_detached_house\"],[\"413\",\"single_detached_house\"],[\"414\",\"single_detached_house\"],[\"415\",\"single_detached_house\"],[\"416\",\"single_detached_house\"],[\"417\",\"single_detached_house\"],[\"418\",\"single_detached_house\"],[\"419\",\"single_detached_house\"],[\"420\",\"single_detached_house\"],[\"421\",\"single_detached_house\"],[\"422\",\"single_detached_house\"],[\"423\",\"single_detached_house\"],[\"424\",\"single_detached_house\"],[\"425\",\"single_detached_house\"],[\"426\",\"single_detached_house\"],[\"427\",\"single_detached_house\"],[\"428\",\"single_detached_house\"],[\"429\",\"single_detached_house\"],[\"430\",\"single_detached_house\"],[\"431\",\"single_detached_house\"],[\"432\",\"single_detached_house\"],[\"433\",\"single_detached_house\"],[\"434\",\"single_detached_house\"],[\"435\",\"single_detached_house\"],[\"436\",\"single_detached_house\"],[\"437\",\"single_detached_house\"],[\"438\",\"single_detached_house\"],[\"439\",\"single_detached_house\"],[\"440\",\"single_detached_house\"],[\"441\",\"single_detached_house\"],[\"442\",\"single_detached_house\"],[\"443\",\"single_detached_house\"],[\"444\",\"single_detached_house\"],[\"445\",\"single_detached_house\"],[\"446\",\"single_detached_house\"],[\"447\",\"single_detached_house\"],[\"448\",\"single_detached_house\"],[\"449\",\"single_detached_house\"],[\"450\",\"single_detached_house\"],[\"451\",\"single_detached_house\"],[\"452\",\"single_detached_house\"],[\"453\",\"single_detached_house\"],[\"454\",\"single_detached_house\"],[\"455\",\"single_detached_house\"],[\"456\",\"single_detached_house\"],[\"457\",\"single_detached_house\"],[\"458\",\"single_detached_house\"],[\"459\",\"single_detached_house\"],[\"460\",\"single_detached_house\"],[\"461\",\"single_detached_house\"],[\"462\",\"single_detached_house\"],[\"463\",\"single_detached_house\"],[\"464\",\"single_detached_house\"],[\"465\",\"single_detached_house\"],[\"466\",\"single_detached_house\"],[\"467\",\"single_detached_house\"],[\"468\",\"single_detached_house\"],[\"469\",\"single_detached_house\"],[\"470\",\"single_detached_house\"],[\"471\",\"single_detached_house\"],[\"472\",\"single_detached_house\"],[\"473\",\"single_detached_house\"],[\"474\",\"single_detached_house\"],[\"475\",\"single_detached_house\"],[\"476\",\"single_detached_house\"],[\"477\",\"single_detached_house\"],[\"478\",\"single_detached_house\"],[\"479\",\"single_detached_house\"],[\"480\",\"single_detached_house\"],[\"481\",\"single_detached_house\"],[\"482\",\"single_detached_house\"],[\"483\",\"single_detached_house\"],[\"484\",\"single_detached_house\"],[\"485\",\"single_detached_house\"],[\"486\",\"single_detached_house\"],[\"487\",\"single_detached_house\"],[\"488\",\"single_detached_house\"],[\"489\",\"single_detached_house\"],[\"490\",\"single_detached_house\"],[\"491\",\"single_detached_house\"],[\"492\",\"single_detached_house\"],[\"493\",\"single_detached_house\"],[\"494\",\"single_detached_house\"],[\"495\",\"single_detached_house\"],[\"496\",\"single_detached_house\"],[\"497\",\"single_detached_house\"],[\"498\",\"single_detached_house\"],[\"499\",\"single_detached_house\"],[\"500\",\"single_detached_house\"],[\"501\",\"single_detached_house\"],[\"502\",\"single_detached_house\"],[\"503\",\"single_detached_house\"],[\"504\",\"single_detached_house\"],[\"505\",\"single_detached_house\"],[\"506\",\"single_detached_house\"],[\"507\",\"single_detached_house\"],[\"508\",\"single_detached_house\"],[\"509\",\"single_detached_house\"],[\"510\",\"single_detached_house\"],[\"511\",\"single_detached_house\"],[\"512\",\"single_detached_house\"],[\"513\",\"single_detached_house\"],[\"514\",\"single_detached_house\"],[\"515\",\"single_detached_house\"],[\"516\",\"single_detached_house\"],[\"517\",\"single_detached_house\"],[\"518\",\"single_detached_house\"],[\"519\",\"single_detached_house\"],[\"520\",\"single_detached_house\"],[\"521\",\"single_detached_house\"],[\"522\",\"single_detached_house\"],[\"523\",\"single_detached_house\"],[\"524\",\"single_detached_house\"],[\"525\",\"single_detached_house\"],[\"526\",\"single_detached_house\"],[\"527\",\"single_detached_house\"],[\"528\",\"single_detached_house\"],[\"529\",\"single_detached_house\"],[\"530\",\"single_detached_house\"],[\"531\",\"single_detached_house\"],[\"532\",\"single_detached_house\"],[\"533\",\"single_detached_house\"],[\"534\",\"single_detached_house\"],[\"535\",\"single_detached_house\"],[\"536\",\"single_detached_house\"],[\"537\",\"single_detached_house\"],[\"538\",\"single_detached_house\"],[\"539\",\"single_detached_house\"],[\"540\",\"single_detached_house\"],[\"541\",\"single_detached_house\"],[\"542\",\"single_detached_house\"],[\"543\",\"single_detached_house\"],[\"544\",\"single_detached_house\"],[\"545\",\"single_detached_house\"],[\"546\",\"single_detached_house\"],[\"547\",\"single_detached_house\"],[\"548\",\"single_detached_house\"],[\"549\",\"single_detached_house\"],[\"550\",\"single_detached_house\"],[\"551\",\"single_detached_house\"],[\"552\",\"single_detached_house\"],[\"553\",\"single_detached_house\"],[\"554\",\"single_detached_house\"],[\"555\",\"single_detached_house\"],[\"556\",\"single_detached_house\"],[\"557\",\"single_detached_house\"],[\"558\",\"single_detached_house\"],[\"559\",\"single_detached_house\"],[\"0\",\"apartment_five_storeys_plus\"],[\"1\",\"apartment_five_storeys_plus\"],[\"2\",\"apartment_five_storeys_plus\"],[\"3\",\"apartment_five_storeys_plus\"],[\"4\",\"apartment_five_storeys_plus\"],[\"5\",\"apartment_five_storeys_plus\"],[\"6\",\"apartment_five_storeys_plus\"],[\"7\",\"apartment_five_storeys_plus\"],[\"8\",\"apartment_five_storeys_plus\"],[\"9\",\"apartment_five_storeys_plus\"],[\"10\",\"apartment_five_storeys_plus\"],[\"11\",\"apartment_five_storeys_plus\"],[\"12\",\"apartment_five_storeys_plus\"],[\"13\",\"apartment_five_storeys_plus\"],[\"14\",\"apartment_five_storeys_plus\"],[\"15\",\"apartment_five_storeys_plus\"],[\"16\",\"apartment_five_storeys_plus\"],[\"17\",\"apartment_five_storeys_plus\"],[\"18\",\"apartment_five_storeys_plus\"],[\"19\",\"apartment_five_storeys_plus\"],[\"20\",\"apartment_five_storeys_plus\"],[\"21\",\"apartment_five_storeys_plus\"],[\"22\",\"apartment_five_storeys_plus\"],[\"23\",\"apartment_five_storeys_plus\"],[\"24\",\"apartment_five_storeys_plus\"],[\"25\",\"apartment_five_storeys_plus\"],[\"26\",\"apartment_five_storeys_plus\"],[\"27\",\"apartment_five_storeys_plus\"],[\"28\",\"apartment_five_storeys_plus\"],[\"29\",\"apartment_five_storeys_plus\"],[\"30\",\"apartment_five_storeys_plus\"],[\"31\",\"apartment_five_storeys_plus\"],[\"32\",\"apartment_five_storeys_plus\"],[\"33\",\"apartment_five_storeys_plus\"],[\"34\",\"apartment_five_storeys_plus\"],[\"35\",\"apartment_five_storeys_plus\"],[\"36\",\"apartment_five_storeys_plus\"],[\"37\",\"apartment_five_storeys_plus\"],[\"38\",\"apartment_five_storeys_plus\"],[\"39\",\"apartment_five_storeys_plus\"],[\"40\",\"apartment_five_storeys_plus\"],[\"41\",\"apartment_five_storeys_plus\"],[\"42\",\"apartment_five_storeys_plus\"],[\"43\",\"apartment_five_storeys_plus\"],[\"44\",\"apartment_five_storeys_plus\"],[\"45\",\"apartment_five_storeys_plus\"],[\"46\",\"apartment_five_storeys_plus\"],[\"47\",\"apartment_five_storeys_plus\"],[\"48\",\"apartment_five_storeys_plus\"],[\"49\",\"apartment_five_storeys_plus\"],[\"50\",\"apartment_five_storeys_plus\"],[\"51\",\"apartment_five_storeys_plus\"],[\"52\",\"apartment_five_storeys_plus\"],[\"53\",\"apartment_five_storeys_plus\"],[\"54\",\"apartment_five_storeys_plus\"],[\"55\",\"apartment_five_storeys_plus\"],[\"56\",\"apartment_five_storeys_plus\"],[\"57\",\"apartment_five_storeys_plus\"],[\"58\",\"apartment_five_storeys_plus\"],[\"59\",\"apartment_five_storeys_plus\"],[\"60\",\"apartment_five_storeys_plus\"],[\"61\",\"apartment_five_storeys_plus\"],[\"62\",\"apartment_five_storeys_plus\"],[\"63\",\"apartment_five_storeys_plus\"],[\"64\",\"apartment_five_storeys_plus\"],[\"65\",\"apartment_five_storeys_plus\"],[\"66\",\"apartment_five_storeys_plus\"],[\"67\",\"apartment_five_storeys_plus\"],[\"68\",\"apartment_five_storeys_plus\"],[\"69\",\"apartment_five_storeys_plus\"],[\"70\",\"apartment_five_storeys_plus\"],[\"71\",\"apartment_five_storeys_plus\"],[\"72\",\"apartment_five_storeys_plus\"],[\"73\",\"apartment_five_storeys_plus\"],[\"74\",\"apartment_five_storeys_plus\"],[\"75\",\"apartment_five_storeys_plus\"],[\"76\",\"apartment_five_storeys_plus\"],[\"77\",\"apartment_five_storeys_plus\"],[\"78\",\"apartment_five_storeys_plus\"],[\"79\",\"apartment_five_storeys_plus\"],[\"80\",\"apartment_five_storeys_plus\"],[\"81\",\"apartment_five_storeys_plus\"],[\"82\",\"apartment_five_storeys_plus\"],[\"83\",\"apartment_five_storeys_plus\"],[\"84\",\"apartment_five_storeys_plus\"],[\"85\",\"apartment_five_storeys_plus\"],[\"86\",\"apartment_five_storeys_plus\"],[\"87\",\"apartment_five_storeys_plus\"],[\"88\",\"apartment_five_storeys_plus\"],[\"89\",\"apartment_five_storeys_plus\"],[\"90\",\"apartment_five_storeys_plus\"],[\"91\",\"apartment_five_storeys_plus\"],[\"92\",\"apartment_five_storeys_plus\"],[\"93\",\"apartment_five_storeys_plus\"],[\"94\",\"apartment_five_storeys_plus\"],[\"95\",\"apartment_five_storeys_plus\"],[\"96\",\"apartment_five_storeys_plus\"],[\"97\",\"apartment_five_storeys_plus\"],[\"98\",\"apartment_five_storeys_plus\"],[\"99\",\"apartment_five_storeys_plus\"],[\"100\",\"apartment_five_storeys_plus\"],[\"101\",\"apartment_five_storeys_plus\"],[\"102\",\"apartment_five_storeys_plus\"],[\"103\",\"apartment_five_storeys_plus\"],[\"104\",\"apartment_five_storeys_plus\"],[\"105\",\"apartment_five_storeys_plus\"],[\"106\",\"apartment_five_storeys_plus\"],[\"107\",\"apartment_five_storeys_plus\"],[\"108\",\"apartment_five_storeys_plus\"],[\"109\",\"apartment_five_storeys_plus\"],[\"110\",\"apartment_five_storeys_plus\"],[\"111\",\"apartment_five_storeys_plus\"],[\"112\",\"apartment_five_storeys_plus\"],[\"113\",\"apartment_five_storeys_plus\"],[\"114\",\"apartment_five_storeys_plus\"],[\"115\",\"apartment_five_storeys_plus\"],[\"116\",\"apartment_five_storeys_plus\"],[\"117\",\"apartment_five_storeys_plus\"],[\"118\",\"apartment_five_storeys_plus\"],[\"119\",\"apartment_five_storeys_plus\"],[\"120\",\"apartment_five_storeys_plus\"],[\"121\",\"apartment_five_storeys_plus\"],[\"122\",\"apartment_five_storeys_plus\"],[\"123\",\"apartment_five_storeys_plus\"],[\"124\",\"apartment_five_storeys_plus\"],[\"125\",\"apartment_five_storeys_plus\"],[\"126\",\"apartment_five_storeys_plus\"],[\"127\",\"apartment_five_storeys_plus\"],[\"128\",\"apartment_five_storeys_plus\"],[\"129\",\"apartment_five_storeys_plus\"],[\"130\",\"apartment_five_storeys_plus\"],[\"131\",\"apartment_five_storeys_plus\"],[\"132\",\"apartment_five_storeys_plus\"],[\"133\",\"apartment_five_storeys_plus\"],[\"134\",\"apartment_five_storeys_plus\"],[\"135\",\"apartment_five_storeys_plus\"],[\"136\",\"apartment_five_storeys_plus\"],[\"137\",\"apartment_five_storeys_plus\"],[\"138\",\"apartment_five_storeys_plus\"],[\"139\",\"apartment_five_storeys_plus\"],[\"140\",\"apartment_five_storeys_plus\"],[\"141\",\"apartment_five_storeys_plus\"],[\"142\",\"apartment_five_storeys_plus\"],[\"143\",\"apartment_five_storeys_plus\"],[\"144\",\"apartment_five_storeys_plus\"],[\"145\",\"apartment_five_storeys_plus\"],[\"146\",\"apartment_five_storeys_plus\"],[\"147\",\"apartment_five_storeys_plus\"],[\"148\",\"apartment_five_storeys_plus\"],[\"149\",\"apartment_five_storeys_plus\"],[\"150\",\"apartment_five_storeys_plus\"],[\"151\",\"apartment_five_storeys_plus\"],[\"152\",\"apartment_five_storeys_plus\"],[\"153\",\"apartment_five_storeys_plus\"],[\"154\",\"apartment_five_storeys_plus\"],[\"155\",\"apartment_five_storeys_plus\"],[\"156\",\"apartment_five_storeys_plus\"],[\"157\",\"apartment_five_storeys_plus\"],[\"158\",\"apartment_five_storeys_plus\"],[\"159\",\"apartment_five_storeys_plus\"],[\"160\",\"apartment_five_storeys_plus\"],[\"161\",\"apartment_five_storeys_plus\"],[\"162\",\"apartment_five_storeys_plus\"],[\"163\",\"apartment_five_storeys_plus\"],[\"164\",\"apartment_five_storeys_plus\"],[\"165\",\"apartment_five_storeys_plus\"],[\"166\",\"apartment_five_storeys_plus\"],[\"167\",\"apartment_five_storeys_plus\"],[\"168\",\"apartment_five_storeys_plus\"],[\"169\",\"apartment_five_storeys_plus\"],[\"170\",\"apartment_five_storeys_plus\"],[\"171\",\"apartment_five_storeys_plus\"],[\"172\",\"apartment_five_storeys_plus\"],[\"173\",\"apartment_five_storeys_plus\"],[\"174\",\"apartment_five_storeys_plus\"],[\"175\",\"apartment_five_storeys_plus\"],[\"176\",\"apartment_five_storeys_plus\"],[\"177\",\"apartment_five_storeys_plus\"],[\"178\",\"apartment_five_storeys_plus\"],[\"179\",\"apartment_five_storeys_plus\"],[\"180\",\"apartment_five_storeys_plus\"],[\"181\",\"apartment_five_storeys_plus\"],[\"182\",\"apartment_five_storeys_plus\"],[\"183\",\"apartment_five_storeys_plus\"],[\"184\",\"apartment_five_storeys_plus\"],[\"185\",\"apartment_five_storeys_plus\"],[\"186\",\"apartment_five_storeys_plus\"],[\"187\",\"apartment_five_storeys_plus\"],[\"188\",\"apartment_five_storeys_plus\"],[\"189\",\"apartment_five_storeys_plus\"],[\"190\",\"apartment_five_storeys_plus\"],[\"191\",\"apartment_five_storeys_plus\"],[\"192\",\"apartment_five_storeys_plus\"],[\"193\",\"apartment_five_storeys_plus\"],[\"194\",\"apartment_five_storeys_plus\"],[\"195\",\"apartment_five_storeys_plus\"],[\"196\",\"apartment_five_storeys_plus\"],[\"197\",\"apartment_five_storeys_plus\"],[\"198\",\"apartment_five_storeys_plus\"],[\"199\",\"apartment_five_storeys_plus\"],[\"200\",\"apartment_five_storeys_plus\"],[\"201\",\"apartment_five_storeys_plus\"],[\"202\",\"apartment_five_storeys_plus\"],[\"203\",\"apartment_five_storeys_plus\"],[\"204\",\"apartment_five_storeys_plus\"],[\"205\",\"apartment_five_storeys_plus\"],[\"206\",\"apartment_five_storeys_plus\"],[\"207\",\"apartment_five_storeys_plus\"],[\"208\",\"apartment_five_storeys_plus\"],[\"209\",\"apartment_five_storeys_plus\"],[\"210\",\"apartment_five_storeys_plus\"],[\"211\",\"apartment_five_storeys_plus\"],[\"212\",\"apartment_five_storeys_plus\"],[\"213\",\"apartment_five_storeys_plus\"],[\"214\",\"apartment_five_storeys_plus\"],[\"215\",\"apartment_five_storeys_plus\"],[\"216\",\"apartment_five_storeys_plus\"],[\"217\",\"apartment_five_storeys_plus\"],[\"218\",\"apartment_five_storeys_plus\"],[\"219\",\"apartment_five_storeys_plus\"],[\"220\",\"apartment_five_storeys_plus\"],[\"221\",\"apartment_five_storeys_plus\"],[\"222\",\"apartment_five_storeys_plus\"],[\"223\",\"apartment_five_storeys_plus\"],[\"224\",\"apartment_five_storeys_plus\"],[\"225\",\"apartment_five_storeys_plus\"],[\"226\",\"apartment_five_storeys_plus\"],[\"227\",\"apartment_five_storeys_plus\"],[\"228\",\"apartment_five_storeys_plus\"],[\"229\",\"apartment_five_storeys_plus\"],[\"230\",\"apartment_five_storeys_plus\"],[\"231\",\"apartment_five_storeys_plus\"],[\"232\",\"apartment_five_storeys_plus\"],[\"233\",\"apartment_five_storeys_plus\"],[\"234\",\"apartment_five_storeys_plus\"],[\"235\",\"apartment_five_storeys_plus\"],[\"236\",\"apartment_five_storeys_plus\"],[\"237\",\"apartment_five_storeys_plus\"],[\"238\",\"apartment_five_storeys_plus\"],[\"239\",\"apartment_five_storeys_plus\"],[\"240\",\"apartment_five_storeys_plus\"],[\"241\",\"apartment_five_storeys_plus\"],[\"242\",\"apartment_five_storeys_plus\"],[\"243\",\"apartment_five_storeys_plus\"],[\"244\",\"apartment_five_storeys_plus\"],[\"245\",\"apartment_five_storeys_plus\"],[\"246\",\"apartment_five_storeys_plus\"],[\"247\",\"apartment_five_storeys_plus\"],[\"248\",\"apartment_five_storeys_plus\"],[\"249\",\"apartment_five_storeys_plus\"],[\"250\",\"apartment_five_storeys_plus\"],[\"251\",\"apartment_five_storeys_plus\"],[\"252\",\"apartment_five_storeys_plus\"],[\"253\",\"apartment_five_storeys_plus\"],[\"254\",\"apartment_five_storeys_plus\"],[\"255\",\"apartment_five_storeys_plus\"],[\"256\",\"apartment_five_storeys_plus\"],[\"257\",\"apartment_five_storeys_plus\"],[\"258\",\"apartment_five_storeys_plus\"],[\"259\",\"apartment_five_storeys_plus\"],[\"260\",\"apartment_five_storeys_plus\"],[\"261\",\"apartment_five_storeys_plus\"],[\"262\",\"apartment_five_storeys_plus\"],[\"263\",\"apartment_five_storeys_plus\"],[\"264\",\"apartment_five_storeys_plus\"],[\"265\",\"apartment_five_storeys_plus\"],[\"266\",\"apartment_five_storeys_plus\"],[\"267\",\"apartment_five_storeys_plus\"],[\"268\",\"apartment_five_storeys_plus\"],[\"269\",\"apartment_five_storeys_plus\"],[\"270\",\"apartment_five_storeys_plus\"],[\"271\",\"apartment_five_storeys_plus\"],[\"272\",\"apartment_five_storeys_plus\"],[\"273\",\"apartment_five_storeys_plus\"],[\"274\",\"apartment_five_storeys_plus\"],[\"275\",\"apartment_five_storeys_plus\"],[\"276\",\"apartment_five_storeys_plus\"],[\"277\",\"apartment_five_storeys_plus\"],[\"278\",\"apartment_five_storeys_plus\"],[\"279\",\"apartment_five_storeys_plus\"],[\"280\",\"apartment_five_storeys_plus\"],[\"281\",\"apartment_five_storeys_plus\"],[\"282\",\"apartment_five_storeys_plus\"],[\"283\",\"apartment_five_storeys_plus\"],[\"284\",\"apartment_five_storeys_plus\"],[\"285\",\"apartment_five_storeys_plus\"],[\"286\",\"apartment_five_storeys_plus\"],[\"287\",\"apartment_five_storeys_plus\"],[\"288\",\"apartment_five_storeys_plus\"],[\"289\",\"apartment_five_storeys_plus\"],[\"290\",\"apartment_five_storeys_plus\"],[\"291\",\"apartment_five_storeys_plus\"],[\"292\",\"apartment_five_storeys_plus\"],[\"293\",\"apartment_five_storeys_plus\"],[\"294\",\"apartment_five_storeys_plus\"],[\"295\",\"apartment_five_storeys_plus\"],[\"296\",\"apartment_five_storeys_plus\"],[\"297\",\"apartment_five_storeys_plus\"],[\"298\",\"apartment_five_storeys_plus\"],[\"299\",\"apartment_five_storeys_plus\"],[\"300\",\"apartment_five_storeys_plus\"],[\"301\",\"apartment_five_storeys_plus\"],[\"302\",\"apartment_five_storeys_plus\"],[\"303\",\"apartment_five_storeys_plus\"],[\"304\",\"apartment_five_storeys_plus\"],[\"305\",\"apartment_five_storeys_plus\"],[\"306\",\"apartment_five_storeys_plus\"],[\"307\",\"apartment_five_storeys_plus\"],[\"308\",\"apartment_five_storeys_plus\"],[\"309\",\"apartment_five_storeys_plus\"],[\"310\",\"apartment_five_storeys_plus\"],[\"311\",\"apartment_five_storeys_plus\"],[\"312\",\"apartment_five_storeys_plus\"],[\"313\",\"apartment_five_storeys_plus\"],[\"314\",\"apartment_five_storeys_plus\"],[\"315\",\"apartment_five_storeys_plus\"],[\"316\",\"apartment_five_storeys_plus\"],[\"317\",\"apartment_five_storeys_plus\"],[\"318\",\"apartment_five_storeys_plus\"],[\"319\",\"apartment_five_storeys_plus\"],[\"320\",\"apartment_five_storeys_plus\"],[\"321\",\"apartment_five_storeys_plus\"],[\"322\",\"apartment_five_storeys_plus\"],[\"323\",\"apartment_five_storeys_plus\"],[\"324\",\"apartment_five_storeys_plus\"],[\"325\",\"apartment_five_storeys_plus\"],[\"326\",\"apartment_five_storeys_plus\"],[\"327\",\"apartment_five_storeys_plus\"],[\"328\",\"apartment_five_storeys_plus\"],[\"329\",\"apartment_five_storeys_plus\"],[\"330\",\"apartment_five_storeys_plus\"],[\"331\",\"apartment_five_storeys_plus\"],[\"332\",\"apartment_five_storeys_plus\"],[\"333\",\"apartment_five_storeys_plus\"],[\"334\",\"apartment_five_storeys_plus\"],[\"335\",\"apartment_five_storeys_plus\"],[\"336\",\"apartment_five_storeys_plus\"],[\"337\",\"apartment_five_storeys_plus\"],[\"338\",\"apartment_five_storeys_plus\"],[\"339\",\"apartment_five_storeys_plus\"],[\"340\",\"apartment_five_storeys_plus\"],[\"341\",\"apartment_five_storeys_plus\"],[\"342\",\"apartment_five_storeys_plus\"],[\"343\",\"apartment_five_storeys_plus\"],[\"344\",\"apartment_five_storeys_plus\"],[\"345\",\"apartment_five_storeys_plus\"],[\"346\",\"apartment_five_storeys_plus\"],[\"347\",\"apartment_five_storeys_plus\"],[\"348\",\"apartment_five_storeys_plus\"],[\"349\",\"apartment_five_storeys_plus\"],[\"350\",\"apartment_five_storeys_plus\"],[\"351\",\"apartment_five_storeys_plus\"],[\"352\",\"apartment_five_storeys_plus\"],[\"353\",\"apartment_five_storeys_plus\"],[\"354\",\"apartment_five_storeys_plus\"],[\"355\",\"apartment_five_storeys_plus\"],[\"356\",\"apartment_five_storeys_plus\"],[\"357\",\"apartment_five_storeys_plus\"],[\"358\",\"apartment_five_storeys_plus\"],[\"359\",\"apartment_five_storeys_plus\"],[\"360\",\"apartment_five_storeys_plus\"],[\"361\",\"apartment_five_storeys_plus\"],[\"362\",\"apartment_five_storeys_plus\"],[\"363\",\"apartment_five_storeys_plus\"],[\"364\",\"apartment_five_storeys_plus\"],[\"365\",\"apartment_five_storeys_plus\"],[\"366\",\"apartment_five_storeys_plus\"],[\"367\",\"apartment_five_storeys_plus\"],[\"368\",\"apartment_five_storeys_plus\"],[\"369\",\"apartment_five_storeys_plus\"],[\"370\",\"apartment_five_storeys_plus\"],[\"371\",\"apartment_five_storeys_plus\"],[\"372\",\"apartment_five_storeys_plus\"],[\"373\",\"apartment_five_storeys_plus\"],[\"374\",\"apartment_five_storeys_plus\"],[\"375\",\"apartment_five_storeys_plus\"],[\"376\",\"apartment_five_storeys_plus\"],[\"377\",\"apartment_five_storeys_plus\"],[\"378\",\"apartment_five_storeys_plus\"],[\"379\",\"apartment_five_storeys_plus\"],[\"380\",\"apartment_five_storeys_plus\"],[\"381\",\"apartment_five_storeys_plus\"],[\"382\",\"apartment_five_storeys_plus\"],[\"383\",\"apartment_five_storeys_plus\"],[\"384\",\"apartment_five_storeys_plus\"],[\"385\",\"apartment_five_storeys_plus\"],[\"386\",\"apartment_five_storeys_plus\"],[\"387\",\"apartment_five_storeys_plus\"],[\"388\",\"apartment_five_storeys_plus\"],[\"389\",\"apartment_five_storeys_plus\"],[\"390\",\"apartment_five_storeys_plus\"],[\"391\",\"apartment_five_storeys_plus\"],[\"392\",\"apartment_five_storeys_plus\"],[\"393\",\"apartment_five_storeys_plus\"],[\"394\",\"apartment_five_storeys_plus\"],[\"395\",\"apartment_five_storeys_plus\"],[\"396\",\"apartment_five_storeys_plus\"],[\"397\",\"apartment_five_storeys_plus\"],[\"398\",\"apartment_five_storeys_plus\"],[\"399\",\"apartment_five_storeys_plus\"],[\"400\",\"apartment_five_storeys_plus\"],[\"401\",\"apartment_five_storeys_plus\"],[\"402\",\"apartment_five_storeys_plus\"],[\"403\",\"apartment_five_storeys_plus\"],[\"404\",\"apartment_five_storeys_plus\"],[\"405\",\"apartment_five_storeys_plus\"],[\"406\",\"apartment_five_storeys_plus\"],[\"407\",\"apartment_five_storeys_plus\"],[\"408\",\"apartment_five_storeys_plus\"],[\"409\",\"apartment_five_storeys_plus\"],[\"410\",\"apartment_five_storeys_plus\"],[\"411\",\"apartment_five_storeys_plus\"],[\"412\",\"apartment_five_storeys_plus\"],[\"413\",\"apartment_five_storeys_plus\"],[\"414\",\"apartment_five_storeys_plus\"],[\"415\",\"apartment_five_storeys_plus\"],[\"416\",\"apartment_five_storeys_plus\"],[\"417\",\"apartment_five_storeys_plus\"],[\"418\",\"apartment_five_storeys_plus\"],[\"419\",\"apartment_five_storeys_plus\"],[\"420\",\"apartment_five_storeys_plus\"],[\"421\",\"apartment_five_storeys_plus\"],[\"422\",\"apartment_five_storeys_plus\"],[\"423\",\"apartment_five_storeys_plus\"],[\"424\",\"apartment_five_storeys_plus\"],[\"425\",\"apartment_five_storeys_plus\"],[\"426\",\"apartment_five_storeys_plus\"],[\"427\",\"apartment_five_storeys_plus\"],[\"428\",\"apartment_five_storeys_plus\"],[\"429\",\"apartment_five_storeys_plus\"],[\"430\",\"apartment_five_storeys_plus\"],[\"431\",\"apartment_five_storeys_plus\"],[\"432\",\"apartment_five_storeys_plus\"],[\"433\",\"apartment_five_storeys_plus\"],[\"434\",\"apartment_five_storeys_plus\"],[\"435\",\"apartment_five_storeys_plus\"],[\"436\",\"apartment_five_storeys_plus\"],[\"437\",\"apartment_five_storeys_plus\"],[\"438\",\"apartment_five_storeys_plus\"],[\"439\",\"apartment_five_storeys_plus\"],[\"440\",\"apartment_five_storeys_plus\"],[\"441\",\"apartment_five_storeys_plus\"],[\"442\",\"apartment_five_storeys_plus\"],[\"443\",\"apartment_five_storeys_plus\"],[\"444\",\"apartment_five_storeys_plus\"],[\"445\",\"apartment_five_storeys_plus\"],[\"446\",\"apartment_five_storeys_plus\"],[\"447\",\"apartment_five_storeys_plus\"],[\"448\",\"apartment_five_storeys_plus\"],[\"449\",\"apartment_five_storeys_plus\"],[\"450\",\"apartment_five_storeys_plus\"],[\"451\",\"apartment_five_storeys_plus\"],[\"452\",\"apartment_five_storeys_plus\"],[\"453\",\"apartment_five_storeys_plus\"],[\"454\",\"apartment_five_storeys_plus\"],[\"455\",\"apartment_five_storeys_plus\"],[\"456\",\"apartment_five_storeys_plus\"],[\"457\",\"apartment_five_storeys_plus\"],[\"458\",\"apartment_five_storeys_plus\"],[\"459\",\"apartment_five_storeys_plus\"],[\"460\",\"apartment_five_storeys_plus\"],[\"461\",\"apartment_five_storeys_plus\"],[\"462\",\"apartment_five_storeys_plus\"],[\"463\",\"apartment_five_storeys_plus\"],[\"464\",\"apartment_five_storeys_plus\"],[\"465\",\"apartment_five_storeys_plus\"],[\"466\",\"apartment_five_storeys_plus\"],[\"467\",\"apartment_five_storeys_plus\"],[\"468\",\"apartment_five_storeys_plus\"],[\"469\",\"apartment_five_storeys_plus\"],[\"470\",\"apartment_five_storeys_plus\"],[\"471\",\"apartment_five_storeys_plus\"],[\"472\",\"apartment_five_storeys_plus\"],[\"473\",\"apartment_five_storeys_plus\"],[\"474\",\"apartment_five_storeys_plus\"],[\"475\",\"apartment_five_storeys_plus\"],[\"476\",\"apartment_five_storeys_plus\"],[\"477\",\"apartment_five_storeys_plus\"],[\"478\",\"apartment_five_storeys_plus\"],[\"479\",\"apartment_five_storeys_plus\"],[\"480\",\"apartment_five_storeys_plus\"],[\"481\",\"apartment_five_storeys_plus\"],[\"482\",\"apartment_five_storeys_plus\"],[\"483\",\"apartment_five_storeys_plus\"],[\"484\",\"apartment_five_storeys_plus\"],[\"485\",\"apartment_five_storeys_plus\"],[\"486\",\"apartment_five_storeys_plus\"],[\"487\",\"apartment_five_storeys_plus\"],[\"488\",\"apartment_five_storeys_plus\"],[\"489\",\"apartment_five_storeys_plus\"],[\"490\",\"apartment_five_storeys_plus\"],[\"491\",\"apartment_five_storeys_plus\"],[\"492\",\"apartment_five_storeys_plus\"],[\"493\",\"apartment_five_storeys_plus\"],[\"494\",\"apartment_five_storeys_plus\"],[\"495\",\"apartment_five_storeys_plus\"],[\"496\",\"apartment_five_storeys_plus\"],[\"497\",\"apartment_five_storeys_plus\"],[\"498\",\"apartment_five_storeys_plus\"],[\"499\",\"apartment_five_storeys_plus\"],[\"500\",\"apartment_five_storeys_plus\"],[\"501\",\"apartment_five_storeys_plus\"],[\"502\",\"apartment_five_storeys_plus\"],[\"503\",\"apartment_five_storeys_plus\"],[\"504\",\"apartment_five_storeys_plus\"],[\"505\",\"apartment_five_storeys_plus\"],[\"506\",\"apartment_five_storeys_plus\"],[\"507\",\"apartment_five_storeys_plus\"],[\"508\",\"apartment_five_storeys_plus\"],[\"509\",\"apartment_five_storeys_plus\"],[\"510\",\"apartment_five_storeys_plus\"],[\"511\",\"apartment_five_storeys_plus\"],[\"512\",\"apartment_five_storeys_plus\"],[\"513\",\"apartment_five_storeys_plus\"],[\"514\",\"apartment_five_storeys_plus\"],[\"515\",\"apartment_five_storeys_plus\"],[\"516\",\"apartment_five_storeys_plus\"],[\"517\",\"apartment_five_storeys_plus\"],[\"518\",\"apartment_five_storeys_plus\"],[\"519\",\"apartment_five_storeys_plus\"],[\"520\",\"apartment_five_storeys_plus\"],[\"521\",\"apartment_five_storeys_plus\"],[\"522\",\"apartment_five_storeys_plus\"],[\"523\",\"apartment_five_storeys_plus\"],[\"524\",\"apartment_five_storeys_plus\"],[\"525\",\"apartment_five_storeys_plus\"],[\"526\",\"apartment_five_storeys_plus\"],[\"527\",\"apartment_five_storeys_plus\"],[\"528\",\"apartment_five_storeys_plus\"],[\"529\",\"apartment_five_storeys_plus\"],[\"530\",\"apartment_five_storeys_plus\"],[\"531\",\"apartment_five_storeys_plus\"],[\"532\",\"apartment_five_storeys_plus\"],[\"533\",\"apartment_five_storeys_plus\"],[\"534\",\"apartment_five_storeys_plus\"],[\"535\",\"apartment_five_storeys_plus\"],[\"536\",\"apartment_five_storeys_plus\"],[\"537\",\"apartment_five_storeys_plus\"],[\"538\",\"apartment_five_storeys_plus\"],[\"539\",\"apartment_five_storeys_plus\"],[\"540\",\"apartment_five_storeys_plus\"],[\"541\",\"apartment_five_storeys_plus\"],[\"542\",\"apartment_five_storeys_plus\"],[\"543\",\"apartment_five_storeys_plus\"],[\"544\",\"apartment_five_storeys_plus\"],[\"545\",\"apartment_five_storeys_plus\"],[\"546\",\"apartment_five_storeys_plus\"],[\"547\",\"apartment_five_storeys_plus\"],[\"548\",\"apartment_five_storeys_plus\"],[\"549\",\"apartment_five_storeys_plus\"],[\"550\",\"apartment_five_storeys_plus\"],[\"551\",\"apartment_five_storeys_plus\"],[\"552\",\"apartment_five_storeys_plus\"],[\"553\",\"apartment_five_storeys_plus\"],[\"554\",\"apartment_five_storeys_plus\"],[\"555\",\"apartment_five_storeys_plus\"],[\"556\",\"apartment_five_storeys_plus\"],[\"557\",\"apartment_five_storeys_plus\"],[\"558\",\"apartment_five_storeys_plus\"],[\"559\",\"apartment_five_storeys_plus\"],[\"0\",\"movable_dwelling\"],[\"1\",\"movable_dwelling\"],[\"2\",\"movable_dwelling\"],[\"3\",\"movable_dwelling\"],[\"4\",\"movable_dwelling\"],[\"5\",\"movable_dwelling\"],[\"6\",\"movable_dwelling\"],[\"7\",\"movable_dwelling\"],[\"8\",\"movable_dwelling\"],[\"9\",\"movable_dwelling\"],[\"10\",\"movable_dwelling\"],[\"11\",\"movable_dwelling\"],[\"12\",\"movable_dwelling\"],[\"13\",\"movable_dwelling\"],[\"14\",\"movable_dwelling\"],[\"15\",\"movable_dwelling\"],[\"16\",\"movable_dwelling\"],[\"17\",\"movable_dwelling\"],[\"18\",\"movable_dwelling\"],[\"19\",\"movable_dwelling\"],[\"20\",\"movable_dwelling\"],[\"21\",\"movable_dwelling\"],[\"22\",\"movable_dwelling\"],[\"23\",\"movable_dwelling\"],[\"24\",\"movable_dwelling\"],[\"25\",\"movable_dwelling\"],[\"26\",\"movable_dwelling\"],[\"27\",\"movable_dwelling\"],[\"28\",\"movable_dwelling\"],[\"29\",\"movable_dwelling\"],[\"30\",\"movable_dwelling\"],[\"31\",\"movable_dwelling\"],[\"32\",\"movable_dwelling\"],[\"33\",\"movable_dwelling\"],[\"34\",\"movable_dwelling\"],[\"35\",\"movable_dwelling\"],[\"36\",\"movable_dwelling\"],[\"37\",\"movable_dwelling\"],[\"38\",\"movable_dwelling\"],[\"39\",\"movable_dwelling\"],[\"40\",\"movable_dwelling\"],[\"41\",\"movable_dwelling\"],[\"42\",\"movable_dwelling\"],[\"43\",\"movable_dwelling\"],[\"44\",\"movable_dwelling\"],[\"45\",\"movable_dwelling\"],[\"46\",\"movable_dwelling\"],[\"47\",\"movable_dwelling\"],[\"48\",\"movable_dwelling\"],[\"49\",\"movable_dwelling\"],[\"50\",\"movable_dwelling\"],[\"51\",\"movable_dwelling\"],[\"52\",\"movable_dwelling\"],[\"53\",\"movable_dwelling\"],[\"54\",\"movable_dwelling\"],[\"55\",\"movable_dwelling\"],[\"56\",\"movable_dwelling\"],[\"57\",\"movable_dwelling\"],[\"58\",\"movable_dwelling\"],[\"59\",\"movable_dwelling\"],[\"60\",\"movable_dwelling\"],[\"61\",\"movable_dwelling\"],[\"62\",\"movable_dwelling\"],[\"63\",\"movable_dwelling\"],[\"64\",\"movable_dwelling\"],[\"65\",\"movable_dwelling\"],[\"66\",\"movable_dwelling\"],[\"67\",\"movable_dwelling\"],[\"68\",\"movable_dwelling\"],[\"69\",\"movable_dwelling\"],[\"70\",\"movable_dwelling\"],[\"71\",\"movable_dwelling\"],[\"72\",\"movable_dwelling\"],[\"73\",\"movable_dwelling\"],[\"74\",\"movable_dwelling\"],[\"75\",\"movable_dwelling\"],[\"76\",\"movable_dwelling\"],[\"77\",\"movable_dwelling\"],[\"78\",\"movable_dwelling\"],[\"79\",\"movable_dwelling\"],[\"80\",\"movable_dwelling\"],[\"81\",\"movable_dwelling\"],[\"82\",\"movable_dwelling\"],[\"83\",\"movable_dwelling\"],[\"84\",\"movable_dwelling\"],[\"85\",\"movable_dwelling\"],[\"86\",\"movable_dwelling\"],[\"87\",\"movable_dwelling\"],[\"88\",\"movable_dwelling\"],[\"89\",\"movable_dwelling\"],[\"90\",\"movable_dwelling\"],[\"91\",\"movable_dwelling\"],[\"92\",\"movable_dwelling\"],[\"93\",\"movable_dwelling\"],[\"94\",\"movable_dwelling\"],[\"95\",\"movable_dwelling\"],[\"96\",\"movable_dwelling\"],[\"97\",\"movable_dwelling\"],[\"98\",\"movable_dwelling\"],[\"99\",\"movable_dwelling\"],[\"100\",\"movable_dwelling\"],[\"101\",\"movable_dwelling\"],[\"102\",\"movable_dwelling\"],[\"103\",\"movable_dwelling\"],[\"104\",\"movable_dwelling\"],[\"105\",\"movable_dwelling\"],[\"106\",\"movable_dwelling\"],[\"107\",\"movable_dwelling\"],[\"108\",\"movable_dwelling\"],[\"109\",\"movable_dwelling\"],[\"110\",\"movable_dwelling\"],[\"111\",\"movable_dwelling\"],[\"112\",\"movable_dwelling\"],[\"113\",\"movable_dwelling\"],[\"114\",\"movable_dwelling\"],[\"115\",\"movable_dwelling\"],[\"116\",\"movable_dwelling\"],[\"117\",\"movable_dwelling\"],[\"118\",\"movable_dwelling\"],[\"119\",\"movable_dwelling\"],[\"120\",\"movable_dwelling\"],[\"121\",\"movable_dwelling\"],[\"122\",\"movable_dwelling\"],[\"123\",\"movable_dwelling\"],[\"124\",\"movable_dwelling\"],[\"125\",\"movable_dwelling\"],[\"126\",\"movable_dwelling\"],[\"127\",\"movable_dwelling\"],[\"128\",\"movable_dwelling\"],[\"129\",\"movable_dwelling\"],[\"130\",\"movable_dwelling\"],[\"131\",\"movable_dwelling\"],[\"132\",\"movable_dwelling\"],[\"133\",\"movable_dwelling\"],[\"134\",\"movable_dwelling\"],[\"135\",\"movable_dwelling\"],[\"136\",\"movable_dwelling\"],[\"137\",\"movable_dwelling\"],[\"138\",\"movable_dwelling\"],[\"139\",\"movable_dwelling\"],[\"140\",\"movable_dwelling\"],[\"141\",\"movable_dwelling\"],[\"142\",\"movable_dwelling\"],[\"143\",\"movable_dwelling\"],[\"144\",\"movable_dwelling\"],[\"145\",\"movable_dwelling\"],[\"146\",\"movable_dwelling\"],[\"147\",\"movable_dwelling\"],[\"148\",\"movable_dwelling\"],[\"149\",\"movable_dwelling\"],[\"150\",\"movable_dwelling\"],[\"151\",\"movable_dwelling\"],[\"152\",\"movable_dwelling\"],[\"153\",\"movable_dwelling\"],[\"154\",\"movable_dwelling\"],[\"155\",\"movable_dwelling\"],[\"156\",\"movable_dwelling\"],[\"157\",\"movable_dwelling\"],[\"158\",\"movable_dwelling\"],[\"159\",\"movable_dwelling\"],[\"160\",\"movable_dwelling\"],[\"161\",\"movable_dwelling\"],[\"162\",\"movable_dwelling\"],[\"163\",\"movable_dwelling\"],[\"164\",\"movable_dwelling\"],[\"165\",\"movable_dwelling\"],[\"166\",\"movable_dwelling\"],[\"167\",\"movable_dwelling\"],[\"168\",\"movable_dwelling\"],[\"169\",\"movable_dwelling\"],[\"170\",\"movable_dwelling\"],[\"171\",\"movable_dwelling\"],[\"172\",\"movable_dwelling\"],[\"173\",\"movable_dwelling\"],[\"174\",\"movable_dwelling\"],[\"175\",\"movable_dwelling\"],[\"176\",\"movable_dwelling\"],[\"177\",\"movable_dwelling\"],[\"178\",\"movable_dwelling\"],[\"179\",\"movable_dwelling\"],[\"180\",\"movable_dwelling\"],[\"181\",\"movable_dwelling\"],[\"182\",\"movable_dwelling\"],[\"183\",\"movable_dwelling\"],[\"184\",\"movable_dwelling\"],[\"185\",\"movable_dwelling\"],[\"186\",\"movable_dwelling\"],[\"187\",\"movable_dwelling\"],[\"188\",\"movable_dwelling\"],[\"189\",\"movable_dwelling\"],[\"190\",\"movable_dwelling\"],[\"191\",\"movable_dwelling\"],[\"192\",\"movable_dwelling\"],[\"193\",\"movable_dwelling\"],[\"194\",\"movable_dwelling\"],[\"195\",\"movable_dwelling\"],[\"196\",\"movable_dwelling\"],[\"197\",\"movable_dwelling\"],[\"198\",\"movable_dwelling\"],[\"199\",\"movable_dwelling\"],[\"200\",\"movable_dwelling\"],[\"201\",\"movable_dwelling\"],[\"202\",\"movable_dwelling\"],[\"203\",\"movable_dwelling\"],[\"204\",\"movable_dwelling\"],[\"205\",\"movable_dwelling\"],[\"206\",\"movable_dwelling\"],[\"207\",\"movable_dwelling\"],[\"208\",\"movable_dwelling\"],[\"209\",\"movable_dwelling\"],[\"210\",\"movable_dwelling\"],[\"211\",\"movable_dwelling\"],[\"212\",\"movable_dwelling\"],[\"213\",\"movable_dwelling\"],[\"214\",\"movable_dwelling\"],[\"215\",\"movable_dwelling\"],[\"216\",\"movable_dwelling\"],[\"217\",\"movable_dwelling\"],[\"218\",\"movable_dwelling\"],[\"219\",\"movable_dwelling\"],[\"220\",\"movable_dwelling\"],[\"221\",\"movable_dwelling\"],[\"222\",\"movable_dwelling\"],[\"223\",\"movable_dwelling\"],[\"224\",\"movable_dwelling\"],[\"225\",\"movable_dwelling\"],[\"226\",\"movable_dwelling\"],[\"227\",\"movable_dwelling\"],[\"228\",\"movable_dwelling\"],[\"229\",\"movable_dwelling\"],[\"230\",\"movable_dwelling\"],[\"231\",\"movable_dwelling\"],[\"232\",\"movable_dwelling\"],[\"233\",\"movable_dwelling\"],[\"234\",\"movable_dwelling\"],[\"235\",\"movable_dwelling\"],[\"236\",\"movable_dwelling\"],[\"237\",\"movable_dwelling\"],[\"238\",\"movable_dwelling\"],[\"239\",\"movable_dwelling\"],[\"240\",\"movable_dwelling\"],[\"241\",\"movable_dwelling\"],[\"242\",\"movable_dwelling\"],[\"243\",\"movable_dwelling\"],[\"244\",\"movable_dwelling\"],[\"245\",\"movable_dwelling\"],[\"246\",\"movable_dwelling\"],[\"247\",\"movable_dwelling\"],[\"248\",\"movable_dwelling\"],[\"249\",\"movable_dwelling\"],[\"250\",\"movable_dwelling\"],[\"251\",\"movable_dwelling\"],[\"252\",\"movable_dwelling\"],[\"253\",\"movable_dwelling\"],[\"254\",\"movable_dwelling\"],[\"255\",\"movable_dwelling\"],[\"256\",\"movable_dwelling\"],[\"257\",\"movable_dwelling\"],[\"258\",\"movable_dwelling\"],[\"259\",\"movable_dwelling\"],[\"260\",\"movable_dwelling\"],[\"261\",\"movable_dwelling\"],[\"262\",\"movable_dwelling\"],[\"263\",\"movable_dwelling\"],[\"264\",\"movable_dwelling\"],[\"265\",\"movable_dwelling\"],[\"266\",\"movable_dwelling\"],[\"267\",\"movable_dwelling\"],[\"268\",\"movable_dwelling\"],[\"269\",\"movable_dwelling\"],[\"270\",\"movable_dwelling\"],[\"271\",\"movable_dwelling\"],[\"272\",\"movable_dwelling\"],[\"273\",\"movable_dwelling\"],[\"274\",\"movable_dwelling\"],[\"275\",\"movable_dwelling\"],[\"276\",\"movable_dwelling\"],[\"277\",\"movable_dwelling\"],[\"278\",\"movable_dwelling\"],[\"279\",\"movable_dwelling\"],[\"280\",\"movable_dwelling\"],[\"281\",\"movable_dwelling\"],[\"282\",\"movable_dwelling\"],[\"283\",\"movable_dwelling\"],[\"284\",\"movable_dwelling\"],[\"285\",\"movable_dwelling\"],[\"286\",\"movable_dwelling\"],[\"287\",\"movable_dwelling\"],[\"288\",\"movable_dwelling\"],[\"289\",\"movable_dwelling\"],[\"290\",\"movable_dwelling\"],[\"291\",\"movable_dwelling\"],[\"292\",\"movable_dwelling\"],[\"293\",\"movable_dwelling\"],[\"294\",\"movable_dwelling\"],[\"295\",\"movable_dwelling\"],[\"296\",\"movable_dwelling\"],[\"297\",\"movable_dwelling\"],[\"298\",\"movable_dwelling\"],[\"299\",\"movable_dwelling\"],[\"300\",\"movable_dwelling\"],[\"301\",\"movable_dwelling\"],[\"302\",\"movable_dwelling\"],[\"303\",\"movable_dwelling\"],[\"304\",\"movable_dwelling\"],[\"305\",\"movable_dwelling\"],[\"306\",\"movable_dwelling\"],[\"307\",\"movable_dwelling\"],[\"308\",\"movable_dwelling\"],[\"309\",\"movable_dwelling\"],[\"310\",\"movable_dwelling\"],[\"311\",\"movable_dwelling\"],[\"312\",\"movable_dwelling\"],[\"313\",\"movable_dwelling\"],[\"314\",\"movable_dwelling\"],[\"315\",\"movable_dwelling\"],[\"316\",\"movable_dwelling\"],[\"317\",\"movable_dwelling\"],[\"318\",\"movable_dwelling\"],[\"319\",\"movable_dwelling\"],[\"320\",\"movable_dwelling\"],[\"321\",\"movable_dwelling\"],[\"322\",\"movable_dwelling\"],[\"323\",\"movable_dwelling\"],[\"324\",\"movable_dwelling\"],[\"325\",\"movable_dwelling\"],[\"326\",\"movable_dwelling\"],[\"327\",\"movable_dwelling\"],[\"328\",\"movable_dwelling\"],[\"329\",\"movable_dwelling\"],[\"330\",\"movable_dwelling\"],[\"331\",\"movable_dwelling\"],[\"332\",\"movable_dwelling\"],[\"333\",\"movable_dwelling\"],[\"334\",\"movable_dwelling\"],[\"335\",\"movable_dwelling\"],[\"336\",\"movable_dwelling\"],[\"337\",\"movable_dwelling\"],[\"338\",\"movable_dwelling\"],[\"339\",\"movable_dwelling\"],[\"340\",\"movable_dwelling\"],[\"341\",\"movable_dwelling\"],[\"342\",\"movable_dwelling\"],[\"343\",\"movable_dwelling\"],[\"344\",\"movable_dwelling\"],[\"345\",\"movable_dwelling\"],[\"346\",\"movable_dwelling\"],[\"347\",\"movable_dwelling\"],[\"348\",\"movable_dwelling\"],[\"349\",\"movable_dwelling\"],[\"350\",\"movable_dwelling\"],[\"351\",\"movable_dwelling\"],[\"352\",\"movable_dwelling\"],[\"353\",\"movable_dwelling\"],[\"354\",\"movable_dwelling\"],[\"355\",\"movable_dwelling\"],[\"356\",\"movable_dwelling\"],[\"357\",\"movable_dwelling\"],[\"358\",\"movable_dwelling\"],[\"359\",\"movable_dwelling\"],[\"360\",\"movable_dwelling\"],[\"361\",\"movable_dwelling\"],[\"362\",\"movable_dwelling\"],[\"363\",\"movable_dwelling\"],[\"364\",\"movable_dwelling\"],[\"365\",\"movable_dwelling\"],[\"366\",\"movable_dwelling\"],[\"367\",\"movable_dwelling\"],[\"368\",\"movable_dwelling\"],[\"369\",\"movable_dwelling\"],[\"370\",\"movable_dwelling\"],[\"371\",\"movable_dwelling\"],[\"372\",\"movable_dwelling\"],[\"373\",\"movable_dwelling\"],[\"374\",\"movable_dwelling\"],[\"375\",\"movable_dwelling\"],[\"376\",\"movable_dwelling\"],[\"377\",\"movable_dwelling\"],[\"378\",\"movable_dwelling\"],[\"379\",\"movable_dwelling\"],[\"380\",\"movable_dwelling\"],[\"381\",\"movable_dwelling\"],[\"382\",\"movable_dwelling\"],[\"383\",\"movable_dwelling\"],[\"384\",\"movable_dwelling\"],[\"385\",\"movable_dwelling\"],[\"386\",\"movable_dwelling\"],[\"387\",\"movable_dwelling\"],[\"388\",\"movable_dwelling\"],[\"389\",\"movable_dwelling\"],[\"390\",\"movable_dwelling\"],[\"391\",\"movable_dwelling\"],[\"392\",\"movable_dwelling\"],[\"393\",\"movable_dwelling\"],[\"394\",\"movable_dwelling\"],[\"395\",\"movable_dwelling\"],[\"396\",\"movable_dwelling\"],[\"397\",\"movable_dwelling\"],[\"398\",\"movable_dwelling\"],[\"399\",\"movable_dwelling\"],[\"400\",\"movable_dwelling\"],[\"401\",\"movable_dwelling\"],[\"402\",\"movable_dwelling\"],[\"403\",\"movable_dwelling\"],[\"404\",\"movable_dwelling\"],[\"405\",\"movable_dwelling\"],[\"406\",\"movable_dwelling\"],[\"407\",\"movable_dwelling\"],[\"408\",\"movable_dwelling\"],[\"409\",\"movable_dwelling\"],[\"410\",\"movable_dwelling\"],[\"411\",\"movable_dwelling\"],[\"412\",\"movable_dwelling\"],[\"413\",\"movable_dwelling\"],[\"414\",\"movable_dwelling\"],[\"415\",\"movable_dwelling\"],[\"416\",\"movable_dwelling\"],[\"417\",\"movable_dwelling\"],[\"418\",\"movable_dwelling\"],[\"419\",\"movable_dwelling\"],[\"420\",\"movable_dwelling\"],[\"421\",\"movable_dwelling\"],[\"422\",\"movable_dwelling\"],[\"423\",\"movable_dwelling\"],[\"424\",\"movable_dwelling\"],[\"425\",\"movable_dwelling\"],[\"426\",\"movable_dwelling\"],[\"427\",\"movable_dwelling\"],[\"428\",\"movable_dwelling\"],[\"429\",\"movable_dwelling\"],[\"430\",\"movable_dwelling\"],[\"431\",\"movable_dwelling\"],[\"432\",\"movable_dwelling\"],[\"433\",\"movable_dwelling\"],[\"434\",\"movable_dwelling\"],[\"435\",\"movable_dwelling\"],[\"436\",\"movable_dwelling\"],[\"437\",\"movable_dwelling\"],[\"438\",\"movable_dwelling\"],[\"439\",\"movable_dwelling\"],[\"440\",\"movable_dwelling\"],[\"441\",\"movable_dwelling\"],[\"442\",\"movable_dwelling\"],[\"443\",\"movable_dwelling\"],[\"444\",\"movable_dwelling\"],[\"445\",\"movable_dwelling\"],[\"446\",\"movable_dwelling\"],[\"447\",\"movable_dwelling\"],[\"448\",\"movable_dwelling\"],[\"449\",\"movable_dwelling\"],[\"450\",\"movable_dwelling\"],[\"451\",\"movable_dwelling\"],[\"452\",\"movable_dwelling\"],[\"453\",\"movable_dwelling\"],[\"454\",\"movable_dwelling\"],[\"455\",\"movable_dwelling\"],[\"456\",\"movable_dwelling\"],[\"457\",\"movable_dwelling\"],[\"458\",\"movable_dwelling\"],[\"459\",\"movable_dwelling\"],[\"460\",\"movable_dwelling\"],[\"461\",\"movable_dwelling\"],[\"462\",\"movable_dwelling\"],[\"463\",\"movable_dwelling\"],[\"464\",\"movable_dwelling\"],[\"465\",\"movable_dwelling\"],[\"466\",\"movable_dwelling\"],[\"467\",\"movable_dwelling\"],[\"468\",\"movable_dwelling\"],[\"469\",\"movable_dwelling\"],[\"470\",\"movable_dwelling\"],[\"471\",\"movable_dwelling\"],[\"472\",\"movable_dwelling\"],[\"473\",\"movable_dwelling\"],[\"474\",\"movable_dwelling\"],[\"475\",\"movable_dwelling\"],[\"476\",\"movable_dwelling\"],[\"477\",\"movable_dwelling\"],[\"478\",\"movable_dwelling\"],[\"479\",\"movable_dwelling\"],[\"480\",\"movable_dwelling\"],[\"481\",\"movable_dwelling\"],[\"482\",\"movable_dwelling\"],[\"483\",\"movable_dwelling\"],[\"484\",\"movable_dwelling\"],[\"485\",\"movable_dwelling\"],[\"486\",\"movable_dwelling\"],[\"487\",\"movable_dwelling\"],[\"488\",\"movable_dwelling\"],[\"489\",\"movable_dwelling\"],[\"490\",\"movable_dwelling\"],[\"491\",\"movable_dwelling\"],[\"492\",\"movable_dwelling\"],[\"493\",\"movable_dwelling\"],[\"494\",\"movable_dwelling\"],[\"495\",\"movable_dwelling\"],[\"496\",\"movable_dwelling\"],[\"497\",\"movable_dwelling\"],[\"498\",\"movable_dwelling\"],[\"499\",\"movable_dwelling\"],[\"500\",\"movable_dwelling\"],[\"501\",\"movable_dwelling\"],[\"502\",\"movable_dwelling\"],[\"503\",\"movable_dwelling\"],[\"504\",\"movable_dwelling\"],[\"505\",\"movable_dwelling\"],[\"506\",\"movable_dwelling\"],[\"507\",\"movable_dwelling\"],[\"508\",\"movable_dwelling\"],[\"509\",\"movable_dwelling\"],[\"510\",\"movable_dwelling\"],[\"511\",\"movable_dwelling\"],[\"512\",\"movable_dwelling\"],[\"513\",\"movable_dwelling\"],[\"514\",\"movable_dwelling\"],[\"515\",\"movable_dwelling\"],[\"516\",\"movable_dwelling\"],[\"517\",\"movable_dwelling\"],[\"518\",\"movable_dwelling\"],[\"519\",\"movable_dwelling\"],[\"520\",\"movable_dwelling\"],[\"521\",\"movable_dwelling\"],[\"522\",\"movable_dwelling\"],[\"523\",\"movable_dwelling\"],[\"524\",\"movable_dwelling\"],[\"525\",\"movable_dwelling\"],[\"526\",\"movable_dwelling\"],[\"527\",\"movable_dwelling\"],[\"528\",\"movable_dwelling\"],[\"529\",\"movable_dwelling\"],[\"530\",\"movable_dwelling\"],[\"531\",\"movable_dwelling\"],[\"532\",\"movable_dwelling\"],[\"533\",\"movable_dwelling\"],[\"534\",\"movable_dwelling\"],[\"535\",\"movable_dwelling\"],[\"536\",\"movable_dwelling\"],[\"537\",\"movable_dwelling\"],[\"538\",\"movable_dwelling\"],[\"539\",\"movable_dwelling\"],[\"540\",\"movable_dwelling\"],[\"541\",\"movable_dwelling\"],[\"542\",\"movable_dwelling\"],[\"543\",\"movable_dwelling\"],[\"544\",\"movable_dwelling\"],[\"545\",\"movable_dwelling\"],[\"546\",\"movable_dwelling\"],[\"547\",\"movable_dwelling\"],[\"548\",\"movable_dwelling\"],[\"549\",\"movable_dwelling\"],[\"550\",\"movable_dwelling\"],[\"551\",\"movable_dwelling\"],[\"552\",\"movable_dwelling\"],[\"553\",\"movable_dwelling\"],[\"554\",\"movable_dwelling\"],[\"555\",\"movable_dwelling\"],[\"556\",\"movable_dwelling\"],[\"557\",\"movable_dwelling\"],[\"558\",\"movable_dwelling\"],[\"559\",\"movable_dwelling\"],[\"0\",\"semi_detached_house\"],[\"1\",\"semi_detached_house\"],[\"2\",\"semi_detached_house\"],[\"3\",\"semi_detached_house\"],[\"4\",\"semi_detached_house\"],[\"5\",\"semi_detached_house\"],[\"6\",\"semi_detached_house\"],[\"7\",\"semi_detached_house\"],[\"8\",\"semi_detached_house\"],[\"9\",\"semi_detached_house\"],[\"10\",\"semi_detached_house\"],[\"11\",\"semi_detached_house\"],[\"12\",\"semi_detached_house\"],[\"13\",\"semi_detached_house\"],[\"14\",\"semi_detached_house\"],[\"15\",\"semi_detached_house\"],[\"16\",\"semi_detached_house\"],[\"17\",\"semi_detached_house\"],[\"18\",\"semi_detached_house\"],[\"19\",\"semi_detached_house\"],[\"20\",\"semi_detached_house\"],[\"21\",\"semi_detached_house\"],[\"22\",\"semi_detached_house\"],[\"23\",\"semi_detached_house\"],[\"24\",\"semi_detached_house\"],[\"25\",\"semi_detached_house\"],[\"26\",\"semi_detached_house\"],[\"27\",\"semi_detached_house\"],[\"28\",\"semi_detached_house\"],[\"29\",\"semi_detached_house\"],[\"30\",\"semi_detached_house\"],[\"31\",\"semi_detached_house\"],[\"32\",\"semi_detached_house\"],[\"33\",\"semi_detached_house\"],[\"34\",\"semi_detached_house\"],[\"35\",\"semi_detached_house\"],[\"36\",\"semi_detached_house\"],[\"37\",\"semi_detached_house\"],[\"38\",\"semi_detached_house\"],[\"39\",\"semi_detached_house\"],[\"40\",\"semi_detached_house\"],[\"41\",\"semi_detached_house\"],[\"42\",\"semi_detached_house\"],[\"43\",\"semi_detached_house\"],[\"44\",\"semi_detached_house\"],[\"45\",\"semi_detached_house\"],[\"46\",\"semi_detached_house\"],[\"47\",\"semi_detached_house\"],[\"48\",\"semi_detached_house\"],[\"49\",\"semi_detached_house\"],[\"50\",\"semi_detached_house\"],[\"51\",\"semi_detached_house\"],[\"52\",\"semi_detached_house\"],[\"53\",\"semi_detached_house\"],[\"54\",\"semi_detached_house\"],[\"55\",\"semi_detached_house\"],[\"56\",\"semi_detached_house\"],[\"57\",\"semi_detached_house\"],[\"58\",\"semi_detached_house\"],[\"59\",\"semi_detached_house\"],[\"60\",\"semi_detached_house\"],[\"61\",\"semi_detached_house\"],[\"62\",\"semi_detached_house\"],[\"63\",\"semi_detached_house\"],[\"64\",\"semi_detached_house\"],[\"65\",\"semi_detached_house\"],[\"66\",\"semi_detached_house\"],[\"67\",\"semi_detached_house\"],[\"68\",\"semi_detached_house\"],[\"69\",\"semi_detached_house\"],[\"70\",\"semi_detached_house\"],[\"71\",\"semi_detached_house\"],[\"72\",\"semi_detached_house\"],[\"73\",\"semi_detached_house\"],[\"74\",\"semi_detached_house\"],[\"75\",\"semi_detached_house\"],[\"76\",\"semi_detached_house\"],[\"77\",\"semi_detached_house\"],[\"78\",\"semi_detached_house\"],[\"79\",\"semi_detached_house\"],[\"80\",\"semi_detached_house\"],[\"81\",\"semi_detached_house\"],[\"82\",\"semi_detached_house\"],[\"83\",\"semi_detached_house\"],[\"84\",\"semi_detached_house\"],[\"85\",\"semi_detached_house\"],[\"86\",\"semi_detached_house\"],[\"87\",\"semi_detached_house\"],[\"88\",\"semi_detached_house\"],[\"89\",\"semi_detached_house\"],[\"90\",\"semi_detached_house\"],[\"91\",\"semi_detached_house\"],[\"92\",\"semi_detached_house\"],[\"93\",\"semi_detached_house\"],[\"94\",\"semi_detached_house\"],[\"95\",\"semi_detached_house\"],[\"96\",\"semi_detached_house\"],[\"97\",\"semi_detached_house\"],[\"98\",\"semi_detached_house\"],[\"99\",\"semi_detached_house\"],[\"100\",\"semi_detached_house\"],[\"101\",\"semi_detached_house\"],[\"102\",\"semi_detached_house\"],[\"103\",\"semi_detached_house\"],[\"104\",\"semi_detached_house\"],[\"105\",\"semi_detached_house\"],[\"106\",\"semi_detached_house\"],[\"107\",\"semi_detached_house\"],[\"108\",\"semi_detached_house\"],[\"109\",\"semi_detached_house\"],[\"110\",\"semi_detached_house\"],[\"111\",\"semi_detached_house\"],[\"112\",\"semi_detached_house\"],[\"113\",\"semi_detached_house\"],[\"114\",\"semi_detached_house\"],[\"115\",\"semi_detached_house\"],[\"116\",\"semi_detached_house\"],[\"117\",\"semi_detached_house\"],[\"118\",\"semi_detached_house\"],[\"119\",\"semi_detached_house\"],[\"120\",\"semi_detached_house\"],[\"121\",\"semi_detached_house\"],[\"122\",\"semi_detached_house\"],[\"123\",\"semi_detached_house\"],[\"124\",\"semi_detached_house\"],[\"125\",\"semi_detached_house\"],[\"126\",\"semi_detached_house\"],[\"127\",\"semi_detached_house\"],[\"128\",\"semi_detached_house\"],[\"129\",\"semi_detached_house\"],[\"130\",\"semi_detached_house\"],[\"131\",\"semi_detached_house\"],[\"132\",\"semi_detached_house\"],[\"133\",\"semi_detached_house\"],[\"134\",\"semi_detached_house\"],[\"135\",\"semi_detached_house\"],[\"136\",\"semi_detached_house\"],[\"137\",\"semi_detached_house\"],[\"138\",\"semi_detached_house\"],[\"139\",\"semi_detached_house\"],[\"140\",\"semi_detached_house\"],[\"141\",\"semi_detached_house\"],[\"142\",\"semi_detached_house\"],[\"143\",\"semi_detached_house\"],[\"144\",\"semi_detached_house\"],[\"145\",\"semi_detached_house\"],[\"146\",\"semi_detached_house\"],[\"147\",\"semi_detached_house\"],[\"148\",\"semi_detached_house\"],[\"149\",\"semi_detached_house\"],[\"150\",\"semi_detached_house\"],[\"151\",\"semi_detached_house\"],[\"152\",\"semi_detached_house\"],[\"153\",\"semi_detached_house\"],[\"154\",\"semi_detached_house\"],[\"155\",\"semi_detached_house\"],[\"156\",\"semi_detached_house\"],[\"157\",\"semi_detached_house\"],[\"158\",\"semi_detached_house\"],[\"159\",\"semi_detached_house\"],[\"160\",\"semi_detached_house\"],[\"161\",\"semi_detached_house\"],[\"162\",\"semi_detached_house\"],[\"163\",\"semi_detached_house\"],[\"164\",\"semi_detached_house\"],[\"165\",\"semi_detached_house\"],[\"166\",\"semi_detached_house\"],[\"167\",\"semi_detached_house\"],[\"168\",\"semi_detached_house\"],[\"169\",\"semi_detached_house\"],[\"170\",\"semi_detached_house\"],[\"171\",\"semi_detached_house\"],[\"172\",\"semi_detached_house\"],[\"173\",\"semi_detached_house\"],[\"174\",\"semi_detached_house\"],[\"175\",\"semi_detached_house\"],[\"176\",\"semi_detached_house\"],[\"177\",\"semi_detached_house\"],[\"178\",\"semi_detached_house\"],[\"179\",\"semi_detached_house\"],[\"180\",\"semi_detached_house\"],[\"181\",\"semi_detached_house\"],[\"182\",\"semi_detached_house\"],[\"183\",\"semi_detached_house\"],[\"184\",\"semi_detached_house\"],[\"185\",\"semi_detached_house\"],[\"186\",\"semi_detached_house\"],[\"187\",\"semi_detached_house\"],[\"188\",\"semi_detached_house\"],[\"189\",\"semi_detached_house\"],[\"190\",\"semi_detached_house\"],[\"191\",\"semi_detached_house\"],[\"192\",\"semi_detached_house\"],[\"193\",\"semi_detached_house\"],[\"194\",\"semi_detached_house\"],[\"195\",\"semi_detached_house\"],[\"196\",\"semi_detached_house\"],[\"197\",\"semi_detached_house\"],[\"198\",\"semi_detached_house\"],[\"199\",\"semi_detached_house\"],[\"200\",\"semi_detached_house\"],[\"201\",\"semi_detached_house\"],[\"202\",\"semi_detached_house\"],[\"203\",\"semi_detached_house\"],[\"204\",\"semi_detached_house\"],[\"205\",\"semi_detached_house\"],[\"206\",\"semi_detached_house\"],[\"207\",\"semi_detached_house\"],[\"208\",\"semi_detached_house\"],[\"209\",\"semi_detached_house\"],[\"210\",\"semi_detached_house\"],[\"211\",\"semi_detached_house\"],[\"212\",\"semi_detached_house\"],[\"213\",\"semi_detached_house\"],[\"214\",\"semi_detached_house\"],[\"215\",\"semi_detached_house\"],[\"216\",\"semi_detached_house\"],[\"217\",\"semi_detached_house\"],[\"218\",\"semi_detached_house\"],[\"219\",\"semi_detached_house\"],[\"220\",\"semi_detached_house\"],[\"221\",\"semi_detached_house\"],[\"222\",\"semi_detached_house\"],[\"223\",\"semi_detached_house\"],[\"224\",\"semi_detached_house\"],[\"225\",\"semi_detached_house\"],[\"226\",\"semi_detached_house\"],[\"227\",\"semi_detached_house\"],[\"228\",\"semi_detached_house\"],[\"229\",\"semi_detached_house\"],[\"230\",\"semi_detached_house\"],[\"231\",\"semi_detached_house\"],[\"232\",\"semi_detached_house\"],[\"233\",\"semi_detached_house\"],[\"234\",\"semi_detached_house\"],[\"235\",\"semi_detached_house\"],[\"236\",\"semi_detached_house\"],[\"237\",\"semi_detached_house\"],[\"238\",\"semi_detached_house\"],[\"239\",\"semi_detached_house\"],[\"240\",\"semi_detached_house\"],[\"241\",\"semi_detached_house\"],[\"242\",\"semi_detached_house\"],[\"243\",\"semi_detached_house\"],[\"244\",\"semi_detached_house\"],[\"245\",\"semi_detached_house\"],[\"246\",\"semi_detached_house\"],[\"247\",\"semi_detached_house\"],[\"248\",\"semi_detached_house\"],[\"249\",\"semi_detached_house\"],[\"250\",\"semi_detached_house\"],[\"251\",\"semi_detached_house\"],[\"252\",\"semi_detached_house\"],[\"253\",\"semi_detached_house\"],[\"254\",\"semi_detached_house\"],[\"255\",\"semi_detached_house\"],[\"256\",\"semi_detached_house\"],[\"257\",\"semi_detached_house\"],[\"258\",\"semi_detached_house\"],[\"259\",\"semi_detached_house\"],[\"260\",\"semi_detached_house\"],[\"261\",\"semi_detached_house\"],[\"262\",\"semi_detached_house\"],[\"263\",\"semi_detached_house\"],[\"264\",\"semi_detached_house\"],[\"265\",\"semi_detached_house\"],[\"266\",\"semi_detached_house\"],[\"267\",\"semi_detached_house\"],[\"268\",\"semi_detached_house\"],[\"269\",\"semi_detached_house\"],[\"270\",\"semi_detached_house\"],[\"271\",\"semi_detached_house\"],[\"272\",\"semi_detached_house\"],[\"273\",\"semi_detached_house\"],[\"274\",\"semi_detached_house\"],[\"275\",\"semi_detached_house\"],[\"276\",\"semi_detached_house\"],[\"277\",\"semi_detached_house\"],[\"278\",\"semi_detached_house\"],[\"279\",\"semi_detached_house\"],[\"280\",\"semi_detached_house\"],[\"281\",\"semi_detached_house\"],[\"282\",\"semi_detached_house\"],[\"283\",\"semi_detached_house\"],[\"284\",\"semi_detached_house\"],[\"285\",\"semi_detached_house\"],[\"286\",\"semi_detached_house\"],[\"287\",\"semi_detached_house\"],[\"288\",\"semi_detached_house\"],[\"289\",\"semi_detached_house\"],[\"290\",\"semi_detached_house\"],[\"291\",\"semi_detached_house\"],[\"292\",\"semi_detached_house\"],[\"293\",\"semi_detached_house\"],[\"294\",\"semi_detached_house\"],[\"295\",\"semi_detached_house\"],[\"296\",\"semi_detached_house\"],[\"297\",\"semi_detached_house\"],[\"298\",\"semi_detached_house\"],[\"299\",\"semi_detached_house\"],[\"300\",\"semi_detached_house\"],[\"301\",\"semi_detached_house\"],[\"302\",\"semi_detached_house\"],[\"303\",\"semi_detached_house\"],[\"304\",\"semi_detached_house\"],[\"305\",\"semi_detached_house\"],[\"306\",\"semi_detached_house\"],[\"307\",\"semi_detached_house\"],[\"308\",\"semi_detached_house\"],[\"309\",\"semi_detached_house\"],[\"310\",\"semi_detached_house\"],[\"311\",\"semi_detached_house\"],[\"312\",\"semi_detached_house\"],[\"313\",\"semi_detached_house\"],[\"314\",\"semi_detached_house\"],[\"315\",\"semi_detached_house\"],[\"316\",\"semi_detached_house\"],[\"317\",\"semi_detached_house\"],[\"318\",\"semi_detached_house\"],[\"319\",\"semi_detached_house\"],[\"320\",\"semi_detached_house\"],[\"321\",\"semi_detached_house\"],[\"322\",\"semi_detached_house\"],[\"323\",\"semi_detached_house\"],[\"324\",\"semi_detached_house\"],[\"325\",\"semi_detached_house\"],[\"326\",\"semi_detached_house\"],[\"327\",\"semi_detached_house\"],[\"328\",\"semi_detached_house\"],[\"329\",\"semi_detached_house\"],[\"330\",\"semi_detached_house\"],[\"331\",\"semi_detached_house\"],[\"332\",\"semi_detached_house\"],[\"333\",\"semi_detached_house\"],[\"334\",\"semi_detached_house\"],[\"335\",\"semi_detached_house\"],[\"336\",\"semi_detached_house\"],[\"337\",\"semi_detached_house\"],[\"338\",\"semi_detached_house\"],[\"339\",\"semi_detached_house\"],[\"340\",\"semi_detached_house\"],[\"341\",\"semi_detached_house\"],[\"342\",\"semi_detached_house\"],[\"343\",\"semi_detached_house\"],[\"344\",\"semi_detached_house\"],[\"345\",\"semi_detached_house\"],[\"346\",\"semi_detached_house\"],[\"347\",\"semi_detached_house\"],[\"348\",\"semi_detached_house\"],[\"349\",\"semi_detached_house\"],[\"350\",\"semi_detached_house\"],[\"351\",\"semi_detached_house\"],[\"352\",\"semi_detached_house\"],[\"353\",\"semi_detached_house\"],[\"354\",\"semi_detached_house\"],[\"355\",\"semi_detached_house\"],[\"356\",\"semi_detached_house\"],[\"357\",\"semi_detached_house\"],[\"358\",\"semi_detached_house\"],[\"359\",\"semi_detached_house\"],[\"360\",\"semi_detached_house\"],[\"361\",\"semi_detached_house\"],[\"362\",\"semi_detached_house\"],[\"363\",\"semi_detached_house\"],[\"364\",\"semi_detached_house\"],[\"365\",\"semi_detached_house\"],[\"366\",\"semi_detached_house\"],[\"367\",\"semi_detached_house\"],[\"368\",\"semi_detached_house\"],[\"369\",\"semi_detached_house\"],[\"370\",\"semi_detached_house\"],[\"371\",\"semi_detached_house\"],[\"372\",\"semi_detached_house\"],[\"373\",\"semi_detached_house\"],[\"374\",\"semi_detached_house\"],[\"375\",\"semi_detached_house\"],[\"376\",\"semi_detached_house\"],[\"377\",\"semi_detached_house\"],[\"378\",\"semi_detached_house\"],[\"379\",\"semi_detached_house\"],[\"380\",\"semi_detached_house\"],[\"381\",\"semi_detached_house\"],[\"382\",\"semi_detached_house\"],[\"383\",\"semi_detached_house\"],[\"384\",\"semi_detached_house\"],[\"385\",\"semi_detached_house\"],[\"386\",\"semi_detached_house\"],[\"387\",\"semi_detached_house\"],[\"388\",\"semi_detached_house\"],[\"389\",\"semi_detached_house\"],[\"390\",\"semi_detached_house\"],[\"391\",\"semi_detached_house\"],[\"392\",\"semi_detached_house\"],[\"393\",\"semi_detached_house\"],[\"394\",\"semi_detached_house\"],[\"395\",\"semi_detached_house\"],[\"396\",\"semi_detached_house\"],[\"397\",\"semi_detached_house\"],[\"398\",\"semi_detached_house\"],[\"399\",\"semi_detached_house\"],[\"400\",\"semi_detached_house\"],[\"401\",\"semi_detached_house\"],[\"402\",\"semi_detached_house\"],[\"403\",\"semi_detached_house\"],[\"404\",\"semi_detached_house\"],[\"405\",\"semi_detached_house\"],[\"406\",\"semi_detached_house\"],[\"407\",\"semi_detached_house\"],[\"408\",\"semi_detached_house\"],[\"409\",\"semi_detached_house\"],[\"410\",\"semi_detached_house\"],[\"411\",\"semi_detached_house\"],[\"412\",\"semi_detached_house\"],[\"413\",\"semi_detached_house\"],[\"414\",\"semi_detached_house\"],[\"415\",\"semi_detached_house\"],[\"416\",\"semi_detached_house\"],[\"417\",\"semi_detached_house\"],[\"418\",\"semi_detached_house\"],[\"419\",\"semi_detached_house\"],[\"420\",\"semi_detached_house\"],[\"421\",\"semi_detached_house\"],[\"422\",\"semi_detached_house\"],[\"423\",\"semi_detached_house\"],[\"424\",\"semi_detached_house\"],[\"425\",\"semi_detached_house\"],[\"426\",\"semi_detached_house\"],[\"427\",\"semi_detached_house\"],[\"428\",\"semi_detached_house\"],[\"429\",\"semi_detached_house\"],[\"430\",\"semi_detached_house\"],[\"431\",\"semi_detached_house\"],[\"432\",\"semi_detached_house\"],[\"433\",\"semi_detached_house\"],[\"434\",\"semi_detached_house\"],[\"435\",\"semi_detached_house\"],[\"436\",\"semi_detached_house\"],[\"437\",\"semi_detached_house\"],[\"438\",\"semi_detached_house\"],[\"439\",\"semi_detached_house\"],[\"440\",\"semi_detached_house\"],[\"441\",\"semi_detached_house\"],[\"442\",\"semi_detached_house\"],[\"443\",\"semi_detached_house\"],[\"444\",\"semi_detached_house\"],[\"445\",\"semi_detached_house\"],[\"446\",\"semi_detached_house\"],[\"447\",\"semi_detached_house\"],[\"448\",\"semi_detached_house\"],[\"449\",\"semi_detached_house\"],[\"450\",\"semi_detached_house\"],[\"451\",\"semi_detached_house\"],[\"452\",\"semi_detached_house\"],[\"453\",\"semi_detached_house\"],[\"454\",\"semi_detached_house\"],[\"455\",\"semi_detached_house\"],[\"456\",\"semi_detached_house\"],[\"457\",\"semi_detached_house\"],[\"458\",\"semi_detached_house\"],[\"459\",\"semi_detached_house\"],[\"460\",\"semi_detached_house\"],[\"461\",\"semi_detached_house\"],[\"462\",\"semi_detached_house\"],[\"463\",\"semi_detached_house\"],[\"464\",\"semi_detached_house\"],[\"465\",\"semi_detached_house\"],[\"466\",\"semi_detached_house\"],[\"467\",\"semi_detached_house\"],[\"468\",\"semi_detached_house\"],[\"469\",\"semi_detached_house\"],[\"470\",\"semi_detached_house\"],[\"471\",\"semi_detached_house\"],[\"472\",\"semi_detached_house\"],[\"473\",\"semi_detached_house\"],[\"474\",\"semi_detached_house\"],[\"475\",\"semi_detached_house\"],[\"476\",\"semi_detached_house\"],[\"477\",\"semi_detached_house\"],[\"478\",\"semi_detached_house\"],[\"479\",\"semi_detached_house\"],[\"480\",\"semi_detached_house\"],[\"481\",\"semi_detached_house\"],[\"482\",\"semi_detached_house\"],[\"483\",\"semi_detached_house\"],[\"484\",\"semi_detached_house\"],[\"485\",\"semi_detached_house\"],[\"486\",\"semi_detached_house\"],[\"487\",\"semi_detached_house\"],[\"488\",\"semi_detached_house\"],[\"489\",\"semi_detached_house\"],[\"490\",\"semi_detached_house\"],[\"491\",\"semi_detached_house\"],[\"492\",\"semi_detached_house\"],[\"493\",\"semi_detached_house\"],[\"494\",\"semi_detached_house\"],[\"495\",\"semi_detached_house\"],[\"496\",\"semi_detached_house\"],[\"497\",\"semi_detached_house\"],[\"498\",\"semi_detached_house\"],[\"499\",\"semi_detached_house\"],[\"500\",\"semi_detached_house\"],[\"501\",\"semi_detached_house\"],[\"502\",\"semi_detached_house\"],[\"503\",\"semi_detached_house\"],[\"504\",\"semi_detached_house\"],[\"505\",\"semi_detached_house\"],[\"506\",\"semi_detached_house\"],[\"507\",\"semi_detached_house\"],[\"508\",\"semi_detached_house\"],[\"509\",\"semi_detached_house\"],[\"510\",\"semi_detached_house\"],[\"511\",\"semi_detached_house\"],[\"512\",\"semi_detached_house\"],[\"513\",\"semi_detached_house\"],[\"514\",\"semi_detached_house\"],[\"515\",\"semi_detached_house\"],[\"516\",\"semi_detached_house\"],[\"517\",\"semi_detached_house\"],[\"518\",\"semi_detached_house\"],[\"519\",\"semi_detached_house\"],[\"520\",\"semi_detached_house\"],[\"521\",\"semi_detached_house\"],[\"522\",\"semi_detached_house\"],[\"523\",\"semi_detached_house\"],[\"524\",\"semi_detached_house\"],[\"525\",\"semi_detached_house\"],[\"526\",\"semi_detached_house\"],[\"527\",\"semi_detached_house\"],[\"528\",\"semi_detached_house\"],[\"529\",\"semi_detached_house\"],[\"530\",\"semi_detached_house\"],[\"531\",\"semi_detached_house\"],[\"532\",\"semi_detached_house\"],[\"533\",\"semi_detached_house\"],[\"534\",\"semi_detached_house\"],[\"535\",\"semi_detached_house\"],[\"536\",\"semi_detached_house\"],[\"537\",\"semi_detached_house\"],[\"538\",\"semi_detached_house\"],[\"539\",\"semi_detached_house\"],[\"540\",\"semi_detached_house\"],[\"541\",\"semi_detached_house\"],[\"542\",\"semi_detached_house\"],[\"543\",\"semi_detached_house\"],[\"544\",\"semi_detached_house\"],[\"545\",\"semi_detached_house\"],[\"546\",\"semi_detached_house\"],[\"547\",\"semi_detached_house\"],[\"548\",\"semi_detached_house\"],[\"549\",\"semi_detached_house\"],[\"550\",\"semi_detached_house\"],[\"551\",\"semi_detached_house\"],[\"552\",\"semi_detached_house\"],[\"553\",\"semi_detached_house\"],[\"554\",\"semi_detached_house\"],[\"555\",\"semi_detached_house\"],[\"556\",\"semi_detached_house\"],[\"557\",\"semi_detached_house\"],[\"558\",\"semi_detached_house\"],[\"559\",\"semi_detached_house\"],[\"0\",\"row_house\"],[\"1\",\"row_house\"],[\"2\",\"row_house\"],[\"3\",\"row_house\"],[\"4\",\"row_house\"],[\"5\",\"row_house\"],[\"6\",\"row_house\"],[\"7\",\"row_house\"],[\"8\",\"row_house\"],[\"9\",\"row_house\"],[\"10\",\"row_house\"],[\"11\",\"row_house\"],[\"12\",\"row_house\"],[\"13\",\"row_house\"],[\"14\",\"row_house\"],[\"15\",\"row_house\"],[\"16\",\"row_house\"],[\"17\",\"row_house\"],[\"18\",\"row_house\"],[\"19\",\"row_house\"],[\"20\",\"row_house\"],[\"21\",\"row_house\"],[\"22\",\"row_house\"],[\"23\",\"row_house\"],[\"24\",\"row_house\"],[\"25\",\"row_house\"],[\"26\",\"row_house\"],[\"27\",\"row_house\"],[\"28\",\"row_house\"],[\"29\",\"row_house\"],[\"30\",\"row_house\"],[\"31\",\"row_house\"],[\"32\",\"row_house\"],[\"33\",\"row_house\"],[\"34\",\"row_house\"],[\"35\",\"row_house\"],[\"36\",\"row_house\"],[\"37\",\"row_house\"],[\"38\",\"row_house\"],[\"39\",\"row_house\"],[\"40\",\"row_house\"],[\"41\",\"row_house\"],[\"42\",\"row_house\"],[\"43\",\"row_house\"],[\"44\",\"row_house\"],[\"45\",\"row_house\"],[\"46\",\"row_house\"],[\"47\",\"row_house\"],[\"48\",\"row_house\"],[\"49\",\"row_house\"],[\"50\",\"row_house\"],[\"51\",\"row_house\"],[\"52\",\"row_house\"],[\"53\",\"row_house\"],[\"54\",\"row_house\"],[\"55\",\"row_house\"],[\"56\",\"row_house\"],[\"57\",\"row_house\"],[\"58\",\"row_house\"],[\"59\",\"row_house\"],[\"60\",\"row_house\"],[\"61\",\"row_house\"],[\"62\",\"row_house\"],[\"63\",\"row_house\"],[\"64\",\"row_house\"],[\"65\",\"row_house\"],[\"66\",\"row_house\"],[\"67\",\"row_house\"],[\"68\",\"row_house\"],[\"69\",\"row_house\"],[\"70\",\"row_house\"],[\"71\",\"row_house\"],[\"72\",\"row_house\"],[\"73\",\"row_house\"],[\"74\",\"row_house\"],[\"75\",\"row_house\"],[\"76\",\"row_house\"],[\"77\",\"row_house\"],[\"78\",\"row_house\"],[\"79\",\"row_house\"],[\"80\",\"row_house\"],[\"81\",\"row_house\"],[\"82\",\"row_house\"],[\"83\",\"row_house\"],[\"84\",\"row_house\"],[\"85\",\"row_house\"],[\"86\",\"row_house\"],[\"87\",\"row_house\"],[\"88\",\"row_house\"],[\"89\",\"row_house\"],[\"90\",\"row_house\"],[\"91\",\"row_house\"],[\"92\",\"row_house\"],[\"93\",\"row_house\"],[\"94\",\"row_house\"],[\"95\",\"row_house\"],[\"96\",\"row_house\"],[\"97\",\"row_house\"],[\"98\",\"row_house\"],[\"99\",\"row_house\"],[\"100\",\"row_house\"],[\"101\",\"row_house\"],[\"102\",\"row_house\"],[\"103\",\"row_house\"],[\"104\",\"row_house\"],[\"105\",\"row_house\"],[\"106\",\"row_house\"],[\"107\",\"row_house\"],[\"108\",\"row_house\"],[\"109\",\"row_house\"],[\"110\",\"row_house\"],[\"111\",\"row_house\"],[\"112\",\"row_house\"],[\"113\",\"row_house\"],[\"114\",\"row_house\"],[\"115\",\"row_house\"],[\"116\",\"row_house\"],[\"117\",\"row_house\"],[\"118\",\"row_house\"],[\"119\",\"row_house\"],[\"120\",\"row_house\"],[\"121\",\"row_house\"],[\"122\",\"row_house\"],[\"123\",\"row_house\"],[\"124\",\"row_house\"],[\"125\",\"row_house\"],[\"126\",\"row_house\"],[\"127\",\"row_house\"],[\"128\",\"row_house\"],[\"129\",\"row_house\"],[\"130\",\"row_house\"],[\"131\",\"row_house\"],[\"132\",\"row_house\"],[\"133\",\"row_house\"],[\"134\",\"row_house\"],[\"135\",\"row_house\"],[\"136\",\"row_house\"],[\"137\",\"row_house\"],[\"138\",\"row_house\"],[\"139\",\"row_house\"],[\"140\",\"row_house\"],[\"141\",\"row_house\"],[\"142\",\"row_house\"],[\"143\",\"row_house\"],[\"144\",\"row_house\"],[\"145\",\"row_house\"],[\"146\",\"row_house\"],[\"147\",\"row_house\"],[\"148\",\"row_house\"],[\"149\",\"row_house\"],[\"150\",\"row_house\"],[\"151\",\"row_house\"],[\"152\",\"row_house\"],[\"153\",\"row_house\"],[\"154\",\"row_house\"],[\"155\",\"row_house\"],[\"156\",\"row_house\"],[\"157\",\"row_house\"],[\"158\",\"row_house\"],[\"159\",\"row_house\"],[\"160\",\"row_house\"],[\"161\",\"row_house\"],[\"162\",\"row_house\"],[\"163\",\"row_house\"],[\"164\",\"row_house\"],[\"165\",\"row_house\"],[\"166\",\"row_house\"],[\"167\",\"row_house\"],[\"168\",\"row_house\"],[\"169\",\"row_house\"],[\"170\",\"row_house\"],[\"171\",\"row_house\"],[\"172\",\"row_house\"],[\"173\",\"row_house\"],[\"174\",\"row_house\"],[\"175\",\"row_house\"],[\"176\",\"row_house\"],[\"177\",\"row_house\"],[\"178\",\"row_house\"],[\"179\",\"row_house\"],[\"180\",\"row_house\"],[\"181\",\"row_house\"],[\"182\",\"row_house\"],[\"183\",\"row_house\"],[\"184\",\"row_house\"],[\"185\",\"row_house\"],[\"186\",\"row_house\"],[\"187\",\"row_house\"],[\"188\",\"row_house\"],[\"189\",\"row_house\"],[\"190\",\"row_house\"],[\"191\",\"row_house\"],[\"192\",\"row_house\"],[\"193\",\"row_house\"],[\"194\",\"row_house\"],[\"195\",\"row_house\"],[\"196\",\"row_house\"],[\"197\",\"row_house\"],[\"198\",\"row_house\"],[\"199\",\"row_house\"],[\"200\",\"row_house\"],[\"201\",\"row_house\"],[\"202\",\"row_house\"],[\"203\",\"row_house\"],[\"204\",\"row_house\"],[\"205\",\"row_house\"],[\"206\",\"row_house\"],[\"207\",\"row_house\"],[\"208\",\"row_house\"],[\"209\",\"row_house\"],[\"210\",\"row_house\"],[\"211\",\"row_house\"],[\"212\",\"row_house\"],[\"213\",\"row_house\"],[\"214\",\"row_house\"],[\"215\",\"row_house\"],[\"216\",\"row_house\"],[\"217\",\"row_house\"],[\"218\",\"row_house\"],[\"219\",\"row_house\"],[\"220\",\"row_house\"],[\"221\",\"row_house\"],[\"222\",\"row_house\"],[\"223\",\"row_house\"],[\"224\",\"row_house\"],[\"225\",\"row_house\"],[\"226\",\"row_house\"],[\"227\",\"row_house\"],[\"228\",\"row_house\"],[\"229\",\"row_house\"],[\"230\",\"row_house\"],[\"231\",\"row_house\"],[\"232\",\"row_house\"],[\"233\",\"row_house\"],[\"234\",\"row_house\"],[\"235\",\"row_house\"],[\"236\",\"row_house\"],[\"237\",\"row_house\"],[\"238\",\"row_house\"],[\"239\",\"row_house\"],[\"240\",\"row_house\"],[\"241\",\"row_house\"],[\"242\",\"row_house\"],[\"243\",\"row_house\"],[\"244\",\"row_house\"],[\"245\",\"row_house\"],[\"246\",\"row_house\"],[\"247\",\"row_house\"],[\"248\",\"row_house\"],[\"249\",\"row_house\"],[\"250\",\"row_house\"],[\"251\",\"row_house\"],[\"252\",\"row_house\"],[\"253\",\"row_house\"],[\"254\",\"row_house\"],[\"255\",\"row_house\"],[\"256\",\"row_house\"],[\"257\",\"row_house\"],[\"258\",\"row_house\"],[\"259\",\"row_house\"],[\"260\",\"row_house\"],[\"261\",\"row_house\"],[\"262\",\"row_house\"],[\"263\",\"row_house\"],[\"264\",\"row_house\"],[\"265\",\"row_house\"],[\"266\",\"row_house\"],[\"267\",\"row_house\"],[\"268\",\"row_house\"],[\"269\",\"row_house\"],[\"270\",\"row_house\"],[\"271\",\"row_house\"],[\"272\",\"row_house\"],[\"273\",\"row_house\"],[\"274\",\"row_house\"],[\"275\",\"row_house\"],[\"276\",\"row_house\"],[\"277\",\"row_house\"],[\"278\",\"row_house\"],[\"279\",\"row_house\"],[\"280\",\"row_house\"],[\"281\",\"row_house\"],[\"282\",\"row_house\"],[\"283\",\"row_house\"],[\"284\",\"row_house\"],[\"285\",\"row_house\"],[\"286\",\"row_house\"],[\"287\",\"row_house\"],[\"288\",\"row_house\"],[\"289\",\"row_house\"],[\"290\",\"row_house\"],[\"291\",\"row_house\"],[\"292\",\"row_house\"],[\"293\",\"row_house\"],[\"294\",\"row_house\"],[\"295\",\"row_house\"],[\"296\",\"row_house\"],[\"297\",\"row_house\"],[\"298\",\"row_house\"],[\"299\",\"row_house\"],[\"300\",\"row_house\"],[\"301\",\"row_house\"],[\"302\",\"row_house\"],[\"303\",\"row_house\"],[\"304\",\"row_house\"],[\"305\",\"row_house\"],[\"306\",\"row_house\"],[\"307\",\"row_house\"],[\"308\",\"row_house\"],[\"309\",\"row_house\"],[\"310\",\"row_house\"],[\"311\",\"row_house\"],[\"312\",\"row_house\"],[\"313\",\"row_house\"],[\"314\",\"row_house\"],[\"315\",\"row_house\"],[\"316\",\"row_house\"],[\"317\",\"row_house\"],[\"318\",\"row_house\"],[\"319\",\"row_house\"],[\"320\",\"row_house\"],[\"321\",\"row_house\"],[\"322\",\"row_house\"],[\"323\",\"row_house\"],[\"324\",\"row_house\"],[\"325\",\"row_house\"],[\"326\",\"row_house\"],[\"327\",\"row_house\"],[\"328\",\"row_house\"],[\"329\",\"row_house\"],[\"330\",\"row_house\"],[\"331\",\"row_house\"],[\"332\",\"row_house\"],[\"333\",\"row_house\"],[\"334\",\"row_house\"],[\"335\",\"row_house\"],[\"336\",\"row_house\"],[\"337\",\"row_house\"],[\"338\",\"row_house\"],[\"339\",\"row_house\"],[\"340\",\"row_house\"],[\"341\",\"row_house\"],[\"342\",\"row_house\"],[\"343\",\"row_house\"],[\"344\",\"row_house\"],[\"345\",\"row_house\"],[\"346\",\"row_house\"],[\"347\",\"row_house\"],[\"348\",\"row_house\"],[\"349\",\"row_house\"],[\"350\",\"row_house\"],[\"351\",\"row_house\"],[\"352\",\"row_house\"],[\"353\",\"row_house\"],[\"354\",\"row_house\"],[\"355\",\"row_house\"],[\"356\",\"row_house\"],[\"357\",\"row_house\"],[\"358\",\"row_house\"],[\"359\",\"row_house\"],[\"360\",\"row_house\"],[\"361\",\"row_house\"],[\"362\",\"row_house\"],[\"363\",\"row_house\"],[\"364\",\"row_house\"],[\"365\",\"row_house\"],[\"366\",\"row_house\"],[\"367\",\"row_house\"],[\"368\",\"row_house\"],[\"369\",\"row_house\"],[\"370\",\"row_house\"],[\"371\",\"row_house\"],[\"372\",\"row_house\"],[\"373\",\"row_house\"],[\"374\",\"row_house\"],[\"375\",\"row_house\"],[\"376\",\"row_house\"],[\"377\",\"row_house\"],[\"378\",\"row_house\"],[\"379\",\"row_house\"],[\"380\",\"row_house\"],[\"381\",\"row_house\"],[\"382\",\"row_house\"],[\"383\",\"row_house\"],[\"384\",\"row_house\"],[\"385\",\"row_house\"],[\"386\",\"row_house\"],[\"387\",\"row_house\"],[\"388\",\"row_house\"],[\"389\",\"row_house\"],[\"390\",\"row_house\"],[\"391\",\"row_house\"],[\"392\",\"row_house\"],[\"393\",\"row_house\"],[\"394\",\"row_house\"],[\"395\",\"row_house\"],[\"396\",\"row_house\"],[\"397\",\"row_house\"],[\"398\",\"row_house\"],[\"399\",\"row_house\"],[\"400\",\"row_house\"],[\"401\",\"row_house\"],[\"402\",\"row_house\"],[\"403\",\"row_house\"],[\"404\",\"row_house\"],[\"405\",\"row_house\"],[\"406\",\"row_house\"],[\"407\",\"row_house\"],[\"408\",\"row_house\"],[\"409\",\"row_house\"],[\"410\",\"row_house\"],[\"411\",\"row_house\"],[\"412\",\"row_house\"],[\"413\",\"row_house\"],[\"414\",\"row_house\"],[\"415\",\"row_house\"],[\"416\",\"row_house\"],[\"417\",\"row_house\"],[\"418\",\"row_house\"],[\"419\",\"row_house\"],[\"420\",\"row_house\"],[\"421\",\"row_house\"],[\"422\",\"row_house\"],[\"423\",\"row_house\"],[\"424\",\"row_house\"],[\"425\",\"row_house\"],[\"426\",\"row_house\"],[\"427\",\"row_house\"],[\"428\",\"row_house\"],[\"429\",\"row_house\"],[\"430\",\"row_house\"],[\"431\",\"row_house\"],[\"432\",\"row_house\"],[\"433\",\"row_house\"],[\"434\",\"row_house\"],[\"435\",\"row_house\"],[\"436\",\"row_house\"],[\"437\",\"row_house\"],[\"438\",\"row_house\"],[\"439\",\"row_house\"],[\"440\",\"row_house\"],[\"441\",\"row_house\"],[\"442\",\"row_house\"],[\"443\",\"row_house\"],[\"444\",\"row_house\"],[\"445\",\"row_house\"],[\"446\",\"row_house\"],[\"447\",\"row_house\"],[\"448\",\"row_house\"],[\"449\",\"row_house\"],[\"450\",\"row_house\"],[\"451\",\"row_house\"],[\"452\",\"row_house\"],[\"453\",\"row_house\"],[\"454\",\"row_house\"],[\"455\",\"row_house\"],[\"456\",\"row_house\"],[\"457\",\"row_house\"],[\"458\",\"row_house\"],[\"459\",\"row_house\"],[\"460\",\"row_house\"],[\"461\",\"row_house\"],[\"462\",\"row_house\"],[\"463\",\"row_house\"],[\"464\",\"row_house\"],[\"465\",\"row_house\"],[\"466\",\"row_house\"],[\"467\",\"row_house\"],[\"468\",\"row_house\"],[\"469\",\"row_house\"],[\"470\",\"row_house\"],[\"471\",\"row_house\"],[\"472\",\"row_house\"],[\"473\",\"row_house\"],[\"474\",\"row_house\"],[\"475\",\"row_house\"],[\"476\",\"row_house\"],[\"477\",\"row_house\"],[\"478\",\"row_house\"],[\"479\",\"row_house\"],[\"480\",\"row_house\"],[\"481\",\"row_house\"],[\"482\",\"row_house\"],[\"483\",\"row_house\"],[\"484\",\"row_house\"],[\"485\",\"row_house\"],[\"486\",\"row_house\"],[\"487\",\"row_house\"],[\"488\",\"row_house\"],[\"489\",\"row_house\"],[\"490\",\"row_house\"],[\"491\",\"row_house\"],[\"492\",\"row_house\"],[\"493\",\"row_house\"],[\"494\",\"row_house\"],[\"495\",\"row_house\"],[\"496\",\"row_house\"],[\"497\",\"row_house\"],[\"498\",\"row_house\"],[\"499\",\"row_house\"],[\"500\",\"row_house\"],[\"501\",\"row_house\"],[\"502\",\"row_house\"],[\"503\",\"row_house\"],[\"504\",\"row_house\"],[\"505\",\"row_house\"],[\"506\",\"row_house\"],[\"507\",\"row_house\"],[\"508\",\"row_house\"],[\"509\",\"row_house\"],[\"510\",\"row_house\"],[\"511\",\"row_house\"],[\"512\",\"row_house\"],[\"513\",\"row_house\"],[\"514\",\"row_house\"],[\"515\",\"row_house\"],[\"516\",\"row_house\"],[\"517\",\"row_house\"],[\"518\",\"row_house\"],[\"519\",\"row_house\"],[\"520\",\"row_house\"],[\"521\",\"row_house\"],[\"522\",\"row_house\"],[\"523\",\"row_house\"],[\"524\",\"row_house\"],[\"525\",\"row_house\"],[\"526\",\"row_house\"],[\"527\",\"row_house\"],[\"528\",\"row_house\"],[\"529\",\"row_house\"],[\"530\",\"row_house\"],[\"531\",\"row_house\"],[\"532\",\"row_house\"],[\"533\",\"row_house\"],[\"534\",\"row_house\"],[\"535\",\"row_house\"],[\"536\",\"row_house\"],[\"537\",\"row_house\"],[\"538\",\"row_house\"],[\"539\",\"row_house\"],[\"540\",\"row_house\"],[\"541\",\"row_house\"],[\"542\",\"row_house\"],[\"543\",\"row_house\"],[\"544\",\"row_house\"],[\"545\",\"row_house\"],[\"546\",\"row_house\"],[\"547\",\"row_house\"],[\"548\",\"row_house\"],[\"549\",\"row_house\"],[\"550\",\"row_house\"],[\"551\",\"row_house\"],[\"552\",\"row_house\"],[\"553\",\"row_house\"],[\"554\",\"row_house\"],[\"555\",\"row_house\"],[\"556\",\"row_house\"],[\"557\",\"row_house\"],[\"558\",\"row_house\"],[\"559\",\"row_house\"],[\"0\",\"duplex\"],[\"1\",\"duplex\"],[\"2\",\"duplex\"],[\"3\",\"duplex\"],[\"4\",\"duplex\"],[\"5\",\"duplex\"],[\"6\",\"duplex\"],[\"7\",\"duplex\"],[\"8\",\"duplex\"],[\"9\",\"duplex\"],[\"10\",\"duplex\"],[\"11\",\"duplex\"],[\"12\",\"duplex\"],[\"13\",\"duplex\"],[\"14\",\"duplex\"],[\"15\",\"duplex\"],[\"16\",\"duplex\"],[\"17\",\"duplex\"],[\"18\",\"duplex\"],[\"19\",\"duplex\"],[\"20\",\"duplex\"],[\"21\",\"duplex\"],[\"22\",\"duplex\"],[\"23\",\"duplex\"],[\"24\",\"duplex\"],[\"25\",\"duplex\"],[\"26\",\"duplex\"],[\"27\",\"duplex\"],[\"28\",\"duplex\"],[\"29\",\"duplex\"],[\"30\",\"duplex\"],[\"31\",\"duplex\"],[\"32\",\"duplex\"],[\"33\",\"duplex\"],[\"34\",\"duplex\"],[\"35\",\"duplex\"],[\"36\",\"duplex\"],[\"37\",\"duplex\"],[\"38\",\"duplex\"],[\"39\",\"duplex\"],[\"40\",\"duplex\"],[\"41\",\"duplex\"],[\"42\",\"duplex\"],[\"43\",\"duplex\"],[\"44\",\"duplex\"],[\"45\",\"duplex\"],[\"46\",\"duplex\"],[\"47\",\"duplex\"],[\"48\",\"duplex\"],[\"49\",\"duplex\"],[\"50\",\"duplex\"],[\"51\",\"duplex\"],[\"52\",\"duplex\"],[\"53\",\"duplex\"],[\"54\",\"duplex\"],[\"55\",\"duplex\"],[\"56\",\"duplex\"],[\"57\",\"duplex\"],[\"58\",\"duplex\"],[\"59\",\"duplex\"],[\"60\",\"duplex\"],[\"61\",\"duplex\"],[\"62\",\"duplex\"],[\"63\",\"duplex\"],[\"64\",\"duplex\"],[\"65\",\"duplex\"],[\"66\",\"duplex\"],[\"67\",\"duplex\"],[\"68\",\"duplex\"],[\"69\",\"duplex\"],[\"70\",\"duplex\"],[\"71\",\"duplex\"],[\"72\",\"duplex\"],[\"73\",\"duplex\"],[\"74\",\"duplex\"],[\"75\",\"duplex\"],[\"76\",\"duplex\"],[\"77\",\"duplex\"],[\"78\",\"duplex\"],[\"79\",\"duplex\"],[\"80\",\"duplex\"],[\"81\",\"duplex\"],[\"82\",\"duplex\"],[\"83\",\"duplex\"],[\"84\",\"duplex\"],[\"85\",\"duplex\"],[\"86\",\"duplex\"],[\"87\",\"duplex\"],[\"88\",\"duplex\"],[\"89\",\"duplex\"],[\"90\",\"duplex\"],[\"91\",\"duplex\"],[\"92\",\"duplex\"],[\"93\",\"duplex\"],[\"94\",\"duplex\"],[\"95\",\"duplex\"],[\"96\",\"duplex\"],[\"97\",\"duplex\"],[\"98\",\"duplex\"],[\"99\",\"duplex\"],[\"100\",\"duplex\"],[\"101\",\"duplex\"],[\"102\",\"duplex\"],[\"103\",\"duplex\"],[\"104\",\"duplex\"],[\"105\",\"duplex\"],[\"106\",\"duplex\"],[\"107\",\"duplex\"],[\"108\",\"duplex\"],[\"109\",\"duplex\"],[\"110\",\"duplex\"],[\"111\",\"duplex\"],[\"112\",\"duplex\"],[\"113\",\"duplex\"],[\"114\",\"duplex\"],[\"115\",\"duplex\"],[\"116\",\"duplex\"],[\"117\",\"duplex\"],[\"118\",\"duplex\"],[\"119\",\"duplex\"],[\"120\",\"duplex\"],[\"121\",\"duplex\"],[\"122\",\"duplex\"],[\"123\",\"duplex\"],[\"124\",\"duplex\"],[\"125\",\"duplex\"],[\"126\",\"duplex\"],[\"127\",\"duplex\"],[\"128\",\"duplex\"],[\"129\",\"duplex\"],[\"130\",\"duplex\"],[\"131\",\"duplex\"],[\"132\",\"duplex\"],[\"133\",\"duplex\"],[\"134\",\"duplex\"],[\"135\",\"duplex\"],[\"136\",\"duplex\"],[\"137\",\"duplex\"],[\"138\",\"duplex\"],[\"139\",\"duplex\"],[\"140\",\"duplex\"],[\"141\",\"duplex\"],[\"142\",\"duplex\"],[\"143\",\"duplex\"],[\"144\",\"duplex\"],[\"145\",\"duplex\"],[\"146\",\"duplex\"],[\"147\",\"duplex\"],[\"148\",\"duplex\"],[\"149\",\"duplex\"],[\"150\",\"duplex\"],[\"151\",\"duplex\"],[\"152\",\"duplex\"],[\"153\",\"duplex\"],[\"154\",\"duplex\"],[\"155\",\"duplex\"],[\"156\",\"duplex\"],[\"157\",\"duplex\"],[\"158\",\"duplex\"],[\"159\",\"duplex\"],[\"160\",\"duplex\"],[\"161\",\"duplex\"],[\"162\",\"duplex\"],[\"163\",\"duplex\"],[\"164\",\"duplex\"],[\"165\",\"duplex\"],[\"166\",\"duplex\"],[\"167\",\"duplex\"],[\"168\",\"duplex\"],[\"169\",\"duplex\"],[\"170\",\"duplex\"],[\"171\",\"duplex\"],[\"172\",\"duplex\"],[\"173\",\"duplex\"],[\"174\",\"duplex\"],[\"175\",\"duplex\"],[\"176\",\"duplex\"],[\"177\",\"duplex\"],[\"178\",\"duplex\"],[\"179\",\"duplex\"],[\"180\",\"duplex\"],[\"181\",\"duplex\"],[\"182\",\"duplex\"],[\"183\",\"duplex\"],[\"184\",\"duplex\"],[\"185\",\"duplex\"],[\"186\",\"duplex\"],[\"187\",\"duplex\"],[\"188\",\"duplex\"],[\"189\",\"duplex\"],[\"190\",\"duplex\"],[\"191\",\"duplex\"],[\"192\",\"duplex\"],[\"193\",\"duplex\"],[\"194\",\"duplex\"],[\"195\",\"duplex\"],[\"196\",\"duplex\"],[\"197\",\"duplex\"],[\"198\",\"duplex\"],[\"199\",\"duplex\"],[\"200\",\"duplex\"],[\"201\",\"duplex\"],[\"202\",\"duplex\"],[\"203\",\"duplex\"],[\"204\",\"duplex\"],[\"205\",\"duplex\"],[\"206\",\"duplex\"],[\"207\",\"duplex\"],[\"208\",\"duplex\"],[\"209\",\"duplex\"],[\"210\",\"duplex\"],[\"211\",\"duplex\"],[\"212\",\"duplex\"],[\"213\",\"duplex\"],[\"214\",\"duplex\"],[\"215\",\"duplex\"],[\"216\",\"duplex\"],[\"217\",\"duplex\"],[\"218\",\"duplex\"],[\"219\",\"duplex\"],[\"220\",\"duplex\"],[\"221\",\"duplex\"],[\"222\",\"duplex\"],[\"223\",\"duplex\"],[\"224\",\"duplex\"],[\"225\",\"duplex\"],[\"226\",\"duplex\"],[\"227\",\"duplex\"],[\"228\",\"duplex\"],[\"229\",\"duplex\"],[\"230\",\"duplex\"],[\"231\",\"duplex\"],[\"232\",\"duplex\"],[\"233\",\"duplex\"],[\"234\",\"duplex\"],[\"235\",\"duplex\"],[\"236\",\"duplex\"],[\"237\",\"duplex\"],[\"238\",\"duplex\"],[\"239\",\"duplex\"],[\"240\",\"duplex\"],[\"241\",\"duplex\"],[\"242\",\"duplex\"],[\"243\",\"duplex\"],[\"244\",\"duplex\"],[\"245\",\"duplex\"],[\"246\",\"duplex\"],[\"247\",\"duplex\"],[\"248\",\"duplex\"],[\"249\",\"duplex\"],[\"250\",\"duplex\"],[\"251\",\"duplex\"],[\"252\",\"duplex\"],[\"253\",\"duplex\"],[\"254\",\"duplex\"],[\"255\",\"duplex\"],[\"256\",\"duplex\"],[\"257\",\"duplex\"],[\"258\",\"duplex\"],[\"259\",\"duplex\"],[\"260\",\"duplex\"],[\"261\",\"duplex\"],[\"262\",\"duplex\"],[\"263\",\"duplex\"],[\"264\",\"duplex\"],[\"265\",\"duplex\"],[\"266\",\"duplex\"],[\"267\",\"duplex\"],[\"268\",\"duplex\"],[\"269\",\"duplex\"],[\"270\",\"duplex\"],[\"271\",\"duplex\"],[\"272\",\"duplex\"],[\"273\",\"duplex\"],[\"274\",\"duplex\"],[\"275\",\"duplex\"],[\"276\",\"duplex\"],[\"277\",\"duplex\"],[\"278\",\"duplex\"],[\"279\",\"duplex\"],[\"280\",\"duplex\"],[\"281\",\"duplex\"],[\"282\",\"duplex\"],[\"283\",\"duplex\"],[\"284\",\"duplex\"],[\"285\",\"duplex\"],[\"286\",\"duplex\"],[\"287\",\"duplex\"],[\"288\",\"duplex\"],[\"289\",\"duplex\"],[\"290\",\"duplex\"],[\"291\",\"duplex\"],[\"292\",\"duplex\"],[\"293\",\"duplex\"],[\"294\",\"duplex\"],[\"295\",\"duplex\"],[\"296\",\"duplex\"],[\"297\",\"duplex\"],[\"298\",\"duplex\"],[\"299\",\"duplex\"],[\"300\",\"duplex\"],[\"301\",\"duplex\"],[\"302\",\"duplex\"],[\"303\",\"duplex\"],[\"304\",\"duplex\"],[\"305\",\"duplex\"],[\"306\",\"duplex\"],[\"307\",\"duplex\"],[\"308\",\"duplex\"],[\"309\",\"duplex\"],[\"310\",\"duplex\"],[\"311\",\"duplex\"],[\"312\",\"duplex\"],[\"313\",\"duplex\"],[\"314\",\"duplex\"],[\"315\",\"duplex\"],[\"316\",\"duplex\"],[\"317\",\"duplex\"],[\"318\",\"duplex\"],[\"319\",\"duplex\"],[\"320\",\"duplex\"],[\"321\",\"duplex\"],[\"322\",\"duplex\"],[\"323\",\"duplex\"],[\"324\",\"duplex\"],[\"325\",\"duplex\"],[\"326\",\"duplex\"],[\"327\",\"duplex\"],[\"328\",\"duplex\"],[\"329\",\"duplex\"],[\"330\",\"duplex\"],[\"331\",\"duplex\"],[\"332\",\"duplex\"],[\"333\",\"duplex\"],[\"334\",\"duplex\"],[\"335\",\"duplex\"],[\"336\",\"duplex\"],[\"337\",\"duplex\"],[\"338\",\"duplex\"],[\"339\",\"duplex\"],[\"340\",\"duplex\"],[\"341\",\"duplex\"],[\"342\",\"duplex\"],[\"343\",\"duplex\"],[\"344\",\"duplex\"],[\"345\",\"duplex\"],[\"346\",\"duplex\"],[\"347\",\"duplex\"],[\"348\",\"duplex\"],[\"349\",\"duplex\"],[\"350\",\"duplex\"],[\"351\",\"duplex\"],[\"352\",\"duplex\"],[\"353\",\"duplex\"],[\"354\",\"duplex\"],[\"355\",\"duplex\"],[\"356\",\"duplex\"],[\"357\",\"duplex\"],[\"358\",\"duplex\"],[\"359\",\"duplex\"],[\"360\",\"duplex\"],[\"361\",\"duplex\"],[\"362\",\"duplex\"],[\"363\",\"duplex\"],[\"364\",\"duplex\"],[\"365\",\"duplex\"],[\"366\",\"duplex\"],[\"367\",\"duplex\"],[\"368\",\"duplex\"],[\"369\",\"duplex\"],[\"370\",\"duplex\"],[\"371\",\"duplex\"],[\"372\",\"duplex\"],[\"373\",\"duplex\"],[\"374\",\"duplex\"],[\"375\",\"duplex\"],[\"376\",\"duplex\"],[\"377\",\"duplex\"],[\"378\",\"duplex\"],[\"379\",\"duplex\"],[\"380\",\"duplex\"],[\"381\",\"duplex\"],[\"382\",\"duplex\"],[\"383\",\"duplex\"],[\"384\",\"duplex\"],[\"385\",\"duplex\"],[\"386\",\"duplex\"],[\"387\",\"duplex\"],[\"388\",\"duplex\"],[\"389\",\"duplex\"],[\"390\",\"duplex\"],[\"391\",\"duplex\"],[\"392\",\"duplex\"],[\"393\",\"duplex\"],[\"394\",\"duplex\"],[\"395\",\"duplex\"],[\"396\",\"duplex\"],[\"397\",\"duplex\"],[\"398\",\"duplex\"],[\"399\",\"duplex\"],[\"400\",\"duplex\"],[\"401\",\"duplex\"],[\"402\",\"duplex\"],[\"403\",\"duplex\"],[\"404\",\"duplex\"],[\"405\",\"duplex\"],[\"406\",\"duplex\"],[\"407\",\"duplex\"],[\"408\",\"duplex\"],[\"409\",\"duplex\"],[\"410\",\"duplex\"],[\"411\",\"duplex\"],[\"412\",\"duplex\"],[\"413\",\"duplex\"],[\"414\",\"duplex\"],[\"415\",\"duplex\"],[\"416\",\"duplex\"],[\"417\",\"duplex\"],[\"418\",\"duplex\"],[\"419\",\"duplex\"],[\"420\",\"duplex\"],[\"421\",\"duplex\"],[\"422\",\"duplex\"],[\"423\",\"duplex\"],[\"424\",\"duplex\"],[\"425\",\"duplex\"],[\"426\",\"duplex\"],[\"427\",\"duplex\"],[\"428\",\"duplex\"],[\"429\",\"duplex\"],[\"430\",\"duplex\"],[\"431\",\"duplex\"],[\"432\",\"duplex\"],[\"433\",\"duplex\"],[\"434\",\"duplex\"],[\"435\",\"duplex\"],[\"436\",\"duplex\"],[\"437\",\"duplex\"],[\"438\",\"duplex\"],[\"439\",\"duplex\"],[\"440\",\"duplex\"],[\"441\",\"duplex\"],[\"442\",\"duplex\"],[\"443\",\"duplex\"],[\"444\",\"duplex\"],[\"445\",\"duplex\"],[\"446\",\"duplex\"],[\"447\",\"duplex\"],[\"448\",\"duplex\"],[\"449\",\"duplex\"],[\"450\",\"duplex\"],[\"451\",\"duplex\"],[\"452\",\"duplex\"],[\"453\",\"duplex\"],[\"454\",\"duplex\"],[\"455\",\"duplex\"],[\"456\",\"duplex\"],[\"457\",\"duplex\"],[\"458\",\"duplex\"],[\"459\",\"duplex\"],[\"460\",\"duplex\"],[\"461\",\"duplex\"],[\"462\",\"duplex\"],[\"463\",\"duplex\"],[\"464\",\"duplex\"],[\"465\",\"duplex\"],[\"466\",\"duplex\"],[\"467\",\"duplex\"],[\"468\",\"duplex\"],[\"469\",\"duplex\"],[\"470\",\"duplex\"],[\"471\",\"duplex\"],[\"472\",\"duplex\"],[\"473\",\"duplex\"],[\"474\",\"duplex\"],[\"475\",\"duplex\"],[\"476\",\"duplex\"],[\"477\",\"duplex\"],[\"478\",\"duplex\"],[\"479\",\"duplex\"],[\"480\",\"duplex\"],[\"481\",\"duplex\"],[\"482\",\"duplex\"],[\"483\",\"duplex\"],[\"484\",\"duplex\"],[\"485\",\"duplex\"],[\"486\",\"duplex\"],[\"487\",\"duplex\"],[\"488\",\"duplex\"],[\"489\",\"duplex\"],[\"490\",\"duplex\"],[\"491\",\"duplex\"],[\"492\",\"duplex\"],[\"493\",\"duplex\"],[\"494\",\"duplex\"],[\"495\",\"duplex\"],[\"496\",\"duplex\"],[\"497\",\"duplex\"],[\"498\",\"duplex\"],[\"499\",\"duplex\"],[\"500\",\"duplex\"],[\"501\",\"duplex\"],[\"502\",\"duplex\"],[\"503\",\"duplex\"],[\"504\",\"duplex\"],[\"505\",\"duplex\"],[\"506\",\"duplex\"],[\"507\",\"duplex\"],[\"508\",\"duplex\"],[\"509\",\"duplex\"],[\"510\",\"duplex\"],[\"511\",\"duplex\"],[\"512\",\"duplex\"],[\"513\",\"duplex\"],[\"514\",\"duplex\"],[\"515\",\"duplex\"],[\"516\",\"duplex\"],[\"517\",\"duplex\"],[\"518\",\"duplex\"],[\"519\",\"duplex\"],[\"520\",\"duplex\"],[\"521\",\"duplex\"],[\"522\",\"duplex\"],[\"523\",\"duplex\"],[\"524\",\"duplex\"],[\"525\",\"duplex\"],[\"526\",\"duplex\"],[\"527\",\"duplex\"],[\"528\",\"duplex\"],[\"529\",\"duplex\"],[\"530\",\"duplex\"],[\"531\",\"duplex\"],[\"532\",\"duplex\"],[\"533\",\"duplex\"],[\"534\",\"duplex\"],[\"535\",\"duplex\"],[\"536\",\"duplex\"],[\"537\",\"duplex\"],[\"538\",\"duplex\"],[\"539\",\"duplex\"],[\"540\",\"duplex\"],[\"541\",\"duplex\"],[\"542\",\"duplex\"],[\"543\",\"duplex\"],[\"544\",\"duplex\"],[\"545\",\"duplex\"],[\"546\",\"duplex\"],[\"547\",\"duplex\"],[\"548\",\"duplex\"],[\"549\",\"duplex\"],[\"550\",\"duplex\"],[\"551\",\"duplex\"],[\"552\",\"duplex\"],[\"553\",\"duplex\"],[\"554\",\"duplex\"],[\"555\",\"duplex\"],[\"556\",\"duplex\"],[\"557\",\"duplex\"],[\"558\",\"duplex\"],[\"559\",\"duplex\"],[\"0\",\"apartment_five_storeys_less\"],[\"1\",\"apartment_five_storeys_less\"],[\"2\",\"apartment_five_storeys_less\"],[\"3\",\"apartment_five_storeys_less\"],[\"4\",\"apartment_five_storeys_less\"],[\"5\",\"apartment_five_storeys_less\"],[\"6\",\"apartment_five_storeys_less\"],[\"7\",\"apartment_five_storeys_less\"],[\"8\",\"apartment_five_storeys_less\"],[\"9\",\"apartment_five_storeys_less\"],[\"10\",\"apartment_five_storeys_less\"],[\"11\",\"apartment_five_storeys_less\"],[\"12\",\"apartment_five_storeys_less\"],[\"13\",\"apartment_five_storeys_less\"],[\"14\",\"apartment_five_storeys_less\"],[\"15\",\"apartment_five_storeys_less\"],[\"16\",\"apartment_five_storeys_less\"],[\"17\",\"apartment_five_storeys_less\"],[\"18\",\"apartment_five_storeys_less\"],[\"19\",\"apartment_five_storeys_less\"],[\"20\",\"apartment_five_storeys_less\"],[\"21\",\"apartment_five_storeys_less\"],[\"22\",\"apartment_five_storeys_less\"],[\"23\",\"apartment_five_storeys_less\"],[\"24\",\"apartment_five_storeys_less\"],[\"25\",\"apartment_five_storeys_less\"],[\"26\",\"apartment_five_storeys_less\"],[\"27\",\"apartment_five_storeys_less\"],[\"28\",\"apartment_five_storeys_less\"],[\"29\",\"apartment_five_storeys_less\"],[\"30\",\"apartment_five_storeys_less\"],[\"31\",\"apartment_five_storeys_less\"],[\"32\",\"apartment_five_storeys_less\"],[\"33\",\"apartment_five_storeys_less\"],[\"34\",\"apartment_five_storeys_less\"],[\"35\",\"apartment_five_storeys_less\"],[\"36\",\"apartment_five_storeys_less\"],[\"37\",\"apartment_five_storeys_less\"],[\"38\",\"apartment_five_storeys_less\"],[\"39\",\"apartment_five_storeys_less\"],[\"40\",\"apartment_five_storeys_less\"],[\"41\",\"apartment_five_storeys_less\"],[\"42\",\"apartment_five_storeys_less\"],[\"43\",\"apartment_five_storeys_less\"],[\"44\",\"apartment_five_storeys_less\"],[\"45\",\"apartment_five_storeys_less\"],[\"46\",\"apartment_five_storeys_less\"],[\"47\",\"apartment_five_storeys_less\"],[\"48\",\"apartment_five_storeys_less\"],[\"49\",\"apartment_five_storeys_less\"],[\"50\",\"apartment_five_storeys_less\"],[\"51\",\"apartment_five_storeys_less\"],[\"52\",\"apartment_five_storeys_less\"],[\"53\",\"apartment_five_storeys_less\"],[\"54\",\"apartment_five_storeys_less\"],[\"55\",\"apartment_five_storeys_less\"],[\"56\",\"apartment_five_storeys_less\"],[\"57\",\"apartment_five_storeys_less\"],[\"58\",\"apartment_five_storeys_less\"],[\"59\",\"apartment_five_storeys_less\"],[\"60\",\"apartment_five_storeys_less\"],[\"61\",\"apartment_five_storeys_less\"],[\"62\",\"apartment_five_storeys_less\"],[\"63\",\"apartment_five_storeys_less\"],[\"64\",\"apartment_five_storeys_less\"],[\"65\",\"apartment_five_storeys_less\"],[\"66\",\"apartment_five_storeys_less\"],[\"67\",\"apartment_five_storeys_less\"],[\"68\",\"apartment_five_storeys_less\"],[\"69\",\"apartment_five_storeys_less\"],[\"70\",\"apartment_five_storeys_less\"],[\"71\",\"apartment_five_storeys_less\"],[\"72\",\"apartment_five_storeys_less\"],[\"73\",\"apartment_five_storeys_less\"],[\"74\",\"apartment_five_storeys_less\"],[\"75\",\"apartment_five_storeys_less\"],[\"76\",\"apartment_five_storeys_less\"],[\"77\",\"apartment_five_storeys_less\"],[\"78\",\"apartment_five_storeys_less\"],[\"79\",\"apartment_five_storeys_less\"],[\"80\",\"apartment_five_storeys_less\"],[\"81\",\"apartment_five_storeys_less\"],[\"82\",\"apartment_five_storeys_less\"],[\"83\",\"apartment_five_storeys_less\"],[\"84\",\"apartment_five_storeys_less\"],[\"85\",\"apartment_five_storeys_less\"],[\"86\",\"apartment_five_storeys_less\"],[\"87\",\"apartment_five_storeys_less\"],[\"88\",\"apartment_five_storeys_less\"],[\"89\",\"apartment_five_storeys_less\"],[\"90\",\"apartment_five_storeys_less\"],[\"91\",\"apartment_five_storeys_less\"],[\"92\",\"apartment_five_storeys_less\"],[\"93\",\"apartment_five_storeys_less\"],[\"94\",\"apartment_five_storeys_less\"],[\"95\",\"apartment_five_storeys_less\"],[\"96\",\"apartment_five_storeys_less\"],[\"97\",\"apartment_five_storeys_less\"],[\"98\",\"apartment_five_storeys_less\"],[\"99\",\"apartment_five_storeys_less\"],[\"100\",\"apartment_five_storeys_less\"],[\"101\",\"apartment_five_storeys_less\"],[\"102\",\"apartment_five_storeys_less\"],[\"103\",\"apartment_five_storeys_less\"],[\"104\",\"apartment_five_storeys_less\"],[\"105\",\"apartment_five_storeys_less\"],[\"106\",\"apartment_five_storeys_less\"],[\"107\",\"apartment_five_storeys_less\"],[\"108\",\"apartment_five_storeys_less\"],[\"109\",\"apartment_five_storeys_less\"],[\"110\",\"apartment_five_storeys_less\"],[\"111\",\"apartment_five_storeys_less\"],[\"112\",\"apartment_five_storeys_less\"],[\"113\",\"apartment_five_storeys_less\"],[\"114\",\"apartment_five_storeys_less\"],[\"115\",\"apartment_five_storeys_less\"],[\"116\",\"apartment_five_storeys_less\"],[\"117\",\"apartment_five_storeys_less\"],[\"118\",\"apartment_five_storeys_less\"],[\"119\",\"apartment_five_storeys_less\"],[\"120\",\"apartment_five_storeys_less\"],[\"121\",\"apartment_five_storeys_less\"],[\"122\",\"apartment_five_storeys_less\"],[\"123\",\"apartment_five_storeys_less\"],[\"124\",\"apartment_five_storeys_less\"],[\"125\",\"apartment_five_storeys_less\"],[\"126\",\"apartment_five_storeys_less\"],[\"127\",\"apartment_five_storeys_less\"],[\"128\",\"apartment_five_storeys_less\"],[\"129\",\"apartment_five_storeys_less\"],[\"130\",\"apartment_five_storeys_less\"],[\"131\",\"apartment_five_storeys_less\"],[\"132\",\"apartment_five_storeys_less\"],[\"133\",\"apartment_five_storeys_less\"],[\"134\",\"apartment_five_storeys_less\"],[\"135\",\"apartment_five_storeys_less\"],[\"136\",\"apartment_five_storeys_less\"],[\"137\",\"apartment_five_storeys_less\"],[\"138\",\"apartment_five_storeys_less\"],[\"139\",\"apartment_five_storeys_less\"],[\"140\",\"apartment_five_storeys_less\"],[\"141\",\"apartment_five_storeys_less\"],[\"142\",\"apartment_five_storeys_less\"],[\"143\",\"apartment_five_storeys_less\"],[\"144\",\"apartment_five_storeys_less\"],[\"145\",\"apartment_five_storeys_less\"],[\"146\",\"apartment_five_storeys_less\"],[\"147\",\"apartment_five_storeys_less\"],[\"148\",\"apartment_five_storeys_less\"],[\"149\",\"apartment_five_storeys_less\"],[\"150\",\"apartment_five_storeys_less\"],[\"151\",\"apartment_five_storeys_less\"],[\"152\",\"apartment_five_storeys_less\"],[\"153\",\"apartment_five_storeys_less\"],[\"154\",\"apartment_five_storeys_less\"],[\"155\",\"apartment_five_storeys_less\"],[\"156\",\"apartment_five_storeys_less\"],[\"157\",\"apartment_five_storeys_less\"],[\"158\",\"apartment_five_storeys_less\"],[\"159\",\"apartment_five_storeys_less\"],[\"160\",\"apartment_five_storeys_less\"],[\"161\",\"apartment_five_storeys_less\"],[\"162\",\"apartment_five_storeys_less\"],[\"163\",\"apartment_five_storeys_less\"],[\"164\",\"apartment_five_storeys_less\"],[\"165\",\"apartment_five_storeys_less\"],[\"166\",\"apartment_five_storeys_less\"],[\"167\",\"apartment_five_storeys_less\"],[\"168\",\"apartment_five_storeys_less\"],[\"169\",\"apartment_five_storeys_less\"],[\"170\",\"apartment_five_storeys_less\"],[\"171\",\"apartment_five_storeys_less\"],[\"172\",\"apartment_five_storeys_less\"],[\"173\",\"apartment_five_storeys_less\"],[\"174\",\"apartment_five_storeys_less\"],[\"175\",\"apartment_five_storeys_less\"],[\"176\",\"apartment_five_storeys_less\"],[\"177\",\"apartment_five_storeys_less\"],[\"178\",\"apartment_five_storeys_less\"],[\"179\",\"apartment_five_storeys_less\"],[\"180\",\"apartment_five_storeys_less\"],[\"181\",\"apartment_five_storeys_less\"],[\"182\",\"apartment_five_storeys_less\"],[\"183\",\"apartment_five_storeys_less\"],[\"184\",\"apartment_five_storeys_less\"],[\"185\",\"apartment_five_storeys_less\"],[\"186\",\"apartment_five_storeys_less\"],[\"187\",\"apartment_five_storeys_less\"],[\"188\",\"apartment_five_storeys_less\"],[\"189\",\"apartment_five_storeys_less\"],[\"190\",\"apartment_five_storeys_less\"],[\"191\",\"apartment_five_storeys_less\"],[\"192\",\"apartment_five_storeys_less\"],[\"193\",\"apartment_five_storeys_less\"],[\"194\",\"apartment_five_storeys_less\"],[\"195\",\"apartment_five_storeys_less\"],[\"196\",\"apartment_five_storeys_less\"],[\"197\",\"apartment_five_storeys_less\"],[\"198\",\"apartment_five_storeys_less\"],[\"199\",\"apartment_five_storeys_less\"],[\"200\",\"apartment_five_storeys_less\"],[\"201\",\"apartment_five_storeys_less\"],[\"202\",\"apartment_five_storeys_less\"],[\"203\",\"apartment_five_storeys_less\"],[\"204\",\"apartment_five_storeys_less\"],[\"205\",\"apartment_five_storeys_less\"],[\"206\",\"apartment_five_storeys_less\"],[\"207\",\"apartment_five_storeys_less\"],[\"208\",\"apartment_five_storeys_less\"],[\"209\",\"apartment_five_storeys_less\"],[\"210\",\"apartment_five_storeys_less\"],[\"211\",\"apartment_five_storeys_less\"],[\"212\",\"apartment_five_storeys_less\"],[\"213\",\"apartment_five_storeys_less\"],[\"214\",\"apartment_five_storeys_less\"],[\"215\",\"apartment_five_storeys_less\"],[\"216\",\"apartment_five_storeys_less\"],[\"217\",\"apartment_five_storeys_less\"],[\"218\",\"apartment_five_storeys_less\"],[\"219\",\"apartment_five_storeys_less\"],[\"220\",\"apartment_five_storeys_less\"],[\"221\",\"apartment_five_storeys_less\"],[\"222\",\"apartment_five_storeys_less\"],[\"223\",\"apartment_five_storeys_less\"],[\"224\",\"apartment_five_storeys_less\"],[\"225\",\"apartment_five_storeys_less\"],[\"226\",\"apartment_five_storeys_less\"],[\"227\",\"apartment_five_storeys_less\"],[\"228\",\"apartment_five_storeys_less\"],[\"229\",\"apartment_five_storeys_less\"],[\"230\",\"apartment_five_storeys_less\"],[\"231\",\"apartment_five_storeys_less\"],[\"232\",\"apartment_five_storeys_less\"],[\"233\",\"apartment_five_storeys_less\"],[\"234\",\"apartment_five_storeys_less\"],[\"235\",\"apartment_five_storeys_less\"],[\"236\",\"apartment_five_storeys_less\"],[\"237\",\"apartment_five_storeys_less\"],[\"238\",\"apartment_five_storeys_less\"],[\"239\",\"apartment_five_storeys_less\"],[\"240\",\"apartment_five_storeys_less\"],[\"241\",\"apartment_five_storeys_less\"],[\"242\",\"apartment_five_storeys_less\"],[\"243\",\"apartment_five_storeys_less\"],[\"244\",\"apartment_five_storeys_less\"],[\"245\",\"apartment_five_storeys_less\"],[\"246\",\"apartment_five_storeys_less\"],[\"247\",\"apartment_five_storeys_less\"],[\"248\",\"apartment_five_storeys_less\"],[\"249\",\"apartment_five_storeys_less\"],[\"250\",\"apartment_five_storeys_less\"],[\"251\",\"apartment_five_storeys_less\"],[\"252\",\"apartment_five_storeys_less\"],[\"253\",\"apartment_five_storeys_less\"],[\"254\",\"apartment_five_storeys_less\"],[\"255\",\"apartment_five_storeys_less\"],[\"256\",\"apartment_five_storeys_less\"],[\"257\",\"apartment_five_storeys_less\"],[\"258\",\"apartment_five_storeys_less\"],[\"259\",\"apartment_five_storeys_less\"],[\"260\",\"apartment_five_storeys_less\"],[\"261\",\"apartment_five_storeys_less\"],[\"262\",\"apartment_five_storeys_less\"],[\"263\",\"apartment_five_storeys_less\"],[\"264\",\"apartment_five_storeys_less\"],[\"265\",\"apartment_five_storeys_less\"],[\"266\",\"apartment_five_storeys_less\"],[\"267\",\"apartment_five_storeys_less\"],[\"268\",\"apartment_five_storeys_less\"],[\"269\",\"apartment_five_storeys_less\"],[\"270\",\"apartment_five_storeys_less\"],[\"271\",\"apartment_five_storeys_less\"],[\"272\",\"apartment_five_storeys_less\"],[\"273\",\"apartment_five_storeys_less\"],[\"274\",\"apartment_five_storeys_less\"],[\"275\",\"apartment_five_storeys_less\"],[\"276\",\"apartment_five_storeys_less\"],[\"277\",\"apartment_five_storeys_less\"],[\"278\",\"apartment_five_storeys_less\"],[\"279\",\"apartment_five_storeys_less\"],[\"280\",\"apartment_five_storeys_less\"],[\"281\",\"apartment_five_storeys_less\"],[\"282\",\"apartment_five_storeys_less\"],[\"283\",\"apartment_five_storeys_less\"],[\"284\",\"apartment_five_storeys_less\"],[\"285\",\"apartment_five_storeys_less\"],[\"286\",\"apartment_five_storeys_less\"],[\"287\",\"apartment_five_storeys_less\"],[\"288\",\"apartment_five_storeys_less\"],[\"289\",\"apartment_five_storeys_less\"],[\"290\",\"apartment_five_storeys_less\"],[\"291\",\"apartment_five_storeys_less\"],[\"292\",\"apartment_five_storeys_less\"],[\"293\",\"apartment_five_storeys_less\"],[\"294\",\"apartment_five_storeys_less\"],[\"295\",\"apartment_five_storeys_less\"],[\"296\",\"apartment_five_storeys_less\"],[\"297\",\"apartment_five_storeys_less\"],[\"298\",\"apartment_five_storeys_less\"],[\"299\",\"apartment_five_storeys_less\"],[\"300\",\"apartment_five_storeys_less\"],[\"301\",\"apartment_five_storeys_less\"],[\"302\",\"apartment_five_storeys_less\"],[\"303\",\"apartment_five_storeys_less\"],[\"304\",\"apartment_five_storeys_less\"],[\"305\",\"apartment_five_storeys_less\"],[\"306\",\"apartment_five_storeys_less\"],[\"307\",\"apartment_five_storeys_less\"],[\"308\",\"apartment_five_storeys_less\"],[\"309\",\"apartment_five_storeys_less\"],[\"310\",\"apartment_five_storeys_less\"],[\"311\",\"apartment_five_storeys_less\"],[\"312\",\"apartment_five_storeys_less\"],[\"313\",\"apartment_five_storeys_less\"],[\"314\",\"apartment_five_storeys_less\"],[\"315\",\"apartment_five_storeys_less\"],[\"316\",\"apartment_five_storeys_less\"],[\"317\",\"apartment_five_storeys_less\"],[\"318\",\"apartment_five_storeys_less\"],[\"319\",\"apartment_five_storeys_less\"],[\"320\",\"apartment_five_storeys_less\"],[\"321\",\"apartment_five_storeys_less\"],[\"322\",\"apartment_five_storeys_less\"],[\"323\",\"apartment_five_storeys_less\"],[\"324\",\"apartment_five_storeys_less\"],[\"325\",\"apartment_five_storeys_less\"],[\"326\",\"apartment_five_storeys_less\"],[\"327\",\"apartment_five_storeys_less\"],[\"328\",\"apartment_five_storeys_less\"],[\"329\",\"apartment_five_storeys_less\"],[\"330\",\"apartment_five_storeys_less\"],[\"331\",\"apartment_five_storeys_less\"],[\"332\",\"apartment_five_storeys_less\"],[\"333\",\"apartment_five_storeys_less\"],[\"334\",\"apartment_five_storeys_less\"],[\"335\",\"apartment_five_storeys_less\"],[\"336\",\"apartment_five_storeys_less\"],[\"337\",\"apartment_five_storeys_less\"],[\"338\",\"apartment_five_storeys_less\"],[\"339\",\"apartment_five_storeys_less\"],[\"340\",\"apartment_five_storeys_less\"],[\"341\",\"apartment_five_storeys_less\"],[\"342\",\"apartment_five_storeys_less\"],[\"343\",\"apartment_five_storeys_less\"],[\"344\",\"apartment_five_storeys_less\"],[\"345\",\"apartment_five_storeys_less\"],[\"346\",\"apartment_five_storeys_less\"],[\"347\",\"apartment_five_storeys_less\"],[\"348\",\"apartment_five_storeys_less\"],[\"349\",\"apartment_five_storeys_less\"],[\"350\",\"apartment_five_storeys_less\"],[\"351\",\"apartment_five_storeys_less\"],[\"352\",\"apartment_five_storeys_less\"],[\"353\",\"apartment_five_storeys_less\"],[\"354\",\"apartment_five_storeys_less\"],[\"355\",\"apartment_five_storeys_less\"],[\"356\",\"apartment_five_storeys_less\"],[\"357\",\"apartment_five_storeys_less\"],[\"358\",\"apartment_five_storeys_less\"],[\"359\",\"apartment_five_storeys_less\"],[\"360\",\"apartment_five_storeys_less\"],[\"361\",\"apartment_five_storeys_less\"],[\"362\",\"apartment_five_storeys_less\"],[\"363\",\"apartment_five_storeys_less\"],[\"364\",\"apartment_five_storeys_less\"],[\"365\",\"apartment_five_storeys_less\"],[\"366\",\"apartment_five_storeys_less\"],[\"367\",\"apartment_five_storeys_less\"],[\"368\",\"apartment_five_storeys_less\"],[\"369\",\"apartment_five_storeys_less\"],[\"370\",\"apartment_five_storeys_less\"],[\"371\",\"apartment_five_storeys_less\"],[\"372\",\"apartment_five_storeys_less\"],[\"373\",\"apartment_five_storeys_less\"],[\"374\",\"apartment_five_storeys_less\"],[\"375\",\"apartment_five_storeys_less\"],[\"376\",\"apartment_five_storeys_less\"],[\"377\",\"apartment_five_storeys_less\"],[\"378\",\"apartment_five_storeys_less\"],[\"379\",\"apartment_five_storeys_less\"],[\"380\",\"apartment_five_storeys_less\"],[\"381\",\"apartment_five_storeys_less\"],[\"382\",\"apartment_five_storeys_less\"],[\"383\",\"apartment_five_storeys_less\"],[\"384\",\"apartment_five_storeys_less\"],[\"385\",\"apartment_five_storeys_less\"],[\"386\",\"apartment_five_storeys_less\"],[\"387\",\"apartment_five_storeys_less\"],[\"388\",\"apartment_five_storeys_less\"],[\"389\",\"apartment_five_storeys_less\"],[\"390\",\"apartment_five_storeys_less\"],[\"391\",\"apartment_five_storeys_less\"],[\"392\",\"apartment_five_storeys_less\"],[\"393\",\"apartment_five_storeys_less\"],[\"394\",\"apartment_five_storeys_less\"],[\"395\",\"apartment_five_storeys_less\"],[\"396\",\"apartment_five_storeys_less\"],[\"397\",\"apartment_five_storeys_less\"],[\"398\",\"apartment_five_storeys_less\"],[\"399\",\"apartment_five_storeys_less\"],[\"400\",\"apartment_five_storeys_less\"],[\"401\",\"apartment_five_storeys_less\"],[\"402\",\"apartment_five_storeys_less\"],[\"403\",\"apartment_five_storeys_less\"],[\"404\",\"apartment_five_storeys_less\"],[\"405\",\"apartment_five_storeys_less\"],[\"406\",\"apartment_five_storeys_less\"],[\"407\",\"apartment_five_storeys_less\"],[\"408\",\"apartment_five_storeys_less\"],[\"409\",\"apartment_five_storeys_less\"],[\"410\",\"apartment_five_storeys_less\"],[\"411\",\"apartment_five_storeys_less\"],[\"412\",\"apartment_five_storeys_less\"],[\"413\",\"apartment_five_storeys_less\"],[\"414\",\"apartment_five_storeys_less\"],[\"415\",\"apartment_five_storeys_less\"],[\"416\",\"apartment_five_storeys_less\"],[\"417\",\"apartment_five_storeys_less\"],[\"418\",\"apartment_five_storeys_less\"],[\"419\",\"apartment_five_storeys_less\"],[\"420\",\"apartment_five_storeys_less\"],[\"421\",\"apartment_five_storeys_less\"],[\"422\",\"apartment_five_storeys_less\"],[\"423\",\"apartment_five_storeys_less\"],[\"424\",\"apartment_five_storeys_less\"],[\"425\",\"apartment_five_storeys_less\"],[\"426\",\"apartment_five_storeys_less\"],[\"427\",\"apartment_five_storeys_less\"],[\"428\",\"apartment_five_storeys_less\"],[\"429\",\"apartment_five_storeys_less\"],[\"430\",\"apartment_five_storeys_less\"],[\"431\",\"apartment_five_storeys_less\"],[\"432\",\"apartment_five_storeys_less\"],[\"433\",\"apartment_five_storeys_less\"],[\"434\",\"apartment_five_storeys_less\"],[\"435\",\"apartment_five_storeys_less\"],[\"436\",\"apartment_five_storeys_less\"],[\"437\",\"apartment_five_storeys_less\"],[\"438\",\"apartment_five_storeys_less\"],[\"439\",\"apartment_five_storeys_less\"],[\"440\",\"apartment_five_storeys_less\"],[\"441\",\"apartment_five_storeys_less\"],[\"442\",\"apartment_five_storeys_less\"],[\"443\",\"apartment_five_storeys_less\"],[\"444\",\"apartment_five_storeys_less\"],[\"445\",\"apartment_five_storeys_less\"],[\"446\",\"apartment_five_storeys_less\"],[\"447\",\"apartment_five_storeys_less\"],[\"448\",\"apartment_five_storeys_less\"],[\"449\",\"apartment_five_storeys_less\"],[\"450\",\"apartment_five_storeys_less\"],[\"451\",\"apartment_five_storeys_less\"],[\"452\",\"apartment_five_storeys_less\"],[\"453\",\"apartment_five_storeys_less\"],[\"454\",\"apartment_five_storeys_less\"],[\"455\",\"apartment_five_storeys_less\"],[\"456\",\"apartment_five_storeys_less\"],[\"457\",\"apartment_five_storeys_less\"],[\"458\",\"apartment_five_storeys_less\"],[\"459\",\"apartment_five_storeys_less\"],[\"460\",\"apartment_five_storeys_less\"],[\"461\",\"apartment_five_storeys_less\"],[\"462\",\"apartment_five_storeys_less\"],[\"463\",\"apartment_five_storeys_less\"],[\"464\",\"apartment_five_storeys_less\"],[\"465\",\"apartment_five_storeys_less\"],[\"466\",\"apartment_five_storeys_less\"],[\"467\",\"apartment_five_storeys_less\"],[\"468\",\"apartment_five_storeys_less\"],[\"469\",\"apartment_five_storeys_less\"],[\"470\",\"apartment_five_storeys_less\"],[\"471\",\"apartment_five_storeys_less\"],[\"472\",\"apartment_five_storeys_less\"],[\"473\",\"apartment_five_storeys_less\"],[\"474\",\"apartment_five_storeys_less\"],[\"475\",\"apartment_five_storeys_less\"],[\"476\",\"apartment_five_storeys_less\"],[\"477\",\"apartment_five_storeys_less\"],[\"478\",\"apartment_five_storeys_less\"],[\"479\",\"apartment_five_storeys_less\"],[\"480\",\"apartment_five_storeys_less\"],[\"481\",\"apartment_five_storeys_less\"],[\"482\",\"apartment_five_storeys_less\"],[\"483\",\"apartment_five_storeys_less\"],[\"484\",\"apartment_five_storeys_less\"],[\"485\",\"apartment_five_storeys_less\"],[\"486\",\"apartment_five_storeys_less\"],[\"487\",\"apartment_five_storeys_less\"],[\"488\",\"apartment_five_storeys_less\"],[\"489\",\"apartment_five_storeys_less\"],[\"490\",\"apartment_five_storeys_less\"],[\"491\",\"apartment_five_storeys_less\"],[\"492\",\"apartment_five_storeys_less\"],[\"493\",\"apartment_five_storeys_less\"],[\"494\",\"apartment_five_storeys_less\"],[\"495\",\"apartment_five_storeys_less\"],[\"496\",\"apartment_five_storeys_less\"],[\"497\",\"apartment_five_storeys_less\"],[\"498\",\"apartment_five_storeys_less\"],[\"499\",\"apartment_five_storeys_less\"],[\"500\",\"apartment_five_storeys_less\"],[\"501\",\"apartment_five_storeys_less\"],[\"502\",\"apartment_five_storeys_less\"],[\"503\",\"apartment_five_storeys_less\"],[\"504\",\"apartment_five_storeys_less\"],[\"505\",\"apartment_five_storeys_less\"],[\"506\",\"apartment_five_storeys_less\"],[\"507\",\"apartment_five_storeys_less\"],[\"508\",\"apartment_five_storeys_less\"],[\"509\",\"apartment_five_storeys_less\"],[\"510\",\"apartment_five_storeys_less\"],[\"511\",\"apartment_five_storeys_less\"],[\"512\",\"apartment_five_storeys_less\"],[\"513\",\"apartment_five_storeys_less\"],[\"514\",\"apartment_five_storeys_less\"],[\"515\",\"apartment_five_storeys_less\"],[\"516\",\"apartment_five_storeys_less\"],[\"517\",\"apartment_five_storeys_less\"],[\"518\",\"apartment_five_storeys_less\"],[\"519\",\"apartment_five_storeys_less\"],[\"520\",\"apartment_five_storeys_less\"],[\"521\",\"apartment_five_storeys_less\"],[\"522\",\"apartment_five_storeys_less\"],[\"523\",\"apartment_five_storeys_less\"],[\"524\",\"apartment_five_storeys_less\"],[\"525\",\"apartment_five_storeys_less\"],[\"526\",\"apartment_five_storeys_less\"],[\"527\",\"apartment_five_storeys_less\"],[\"528\",\"apartment_five_storeys_less\"],[\"529\",\"apartment_five_storeys_less\"],[\"530\",\"apartment_five_storeys_less\"],[\"531\",\"apartment_five_storeys_less\"],[\"532\",\"apartment_five_storeys_less\"],[\"533\",\"apartment_five_storeys_less\"],[\"534\",\"apartment_five_storeys_less\"],[\"535\",\"apartment_five_storeys_less\"],[\"536\",\"apartment_five_storeys_less\"],[\"537\",\"apartment_five_storeys_less\"],[\"538\",\"apartment_five_storeys_less\"],[\"539\",\"apartment_five_storeys_less\"],[\"540\",\"apartment_five_storeys_less\"],[\"541\",\"apartment_five_storeys_less\"],[\"542\",\"apartment_five_storeys_less\"],[\"543\",\"apartment_five_storeys_less\"],[\"544\",\"apartment_five_storeys_less\"],[\"545\",\"apartment_five_storeys_less\"],[\"546\",\"apartment_five_storeys_less\"],[\"547\",\"apartment_five_storeys_less\"],[\"548\",\"apartment_five_storeys_less\"],[\"549\",\"apartment_five_storeys_less\"],[\"550\",\"apartment_five_storeys_less\"],[\"551\",\"apartment_five_storeys_less\"],[\"552\",\"apartment_five_storeys_less\"],[\"553\",\"apartment_five_storeys_less\"],[\"554\",\"apartment_five_storeys_less\"],[\"555\",\"apartment_five_storeys_less\"],[\"556\",\"apartment_five_storeys_less\"],[\"557\",\"apartment_five_storeys_less\"],[\"558\",\"apartment_five_storeys_less\"],[\"559\",\"apartment_five_storeys_less\"],[\"0\",\"other_house\"],[\"1\",\"other_house\"],[\"2\",\"other_house\"],[\"3\",\"other_house\"],[\"4\",\"other_house\"],[\"5\",\"other_house\"],[\"6\",\"other_house\"],[\"7\",\"other_house\"],[\"8\",\"other_house\"],[\"9\",\"other_house\"],[\"10\",\"other_house\"],[\"11\",\"other_house\"],[\"12\",\"other_house\"],[\"13\",\"other_house\"],[\"14\",\"other_house\"],[\"15\",\"other_house\"],[\"16\",\"other_house\"],[\"17\",\"other_house\"],[\"18\",\"other_house\"],[\"19\",\"other_house\"],[\"20\",\"other_house\"],[\"21\",\"other_house\"],[\"22\",\"other_house\"],[\"23\",\"other_house\"],[\"24\",\"other_house\"],[\"25\",\"other_house\"],[\"26\",\"other_house\"],[\"27\",\"other_house\"],[\"28\",\"other_house\"],[\"29\",\"other_house\"],[\"30\",\"other_house\"],[\"31\",\"other_house\"],[\"32\",\"other_house\"],[\"33\",\"other_house\"],[\"34\",\"other_house\"],[\"35\",\"other_house\"],[\"36\",\"other_house\"],[\"37\",\"other_house\"],[\"38\",\"other_house\"],[\"39\",\"other_house\"],[\"40\",\"other_house\"],[\"41\",\"other_house\"],[\"42\",\"other_house\"],[\"43\",\"other_house\"],[\"44\",\"other_house\"],[\"45\",\"other_house\"],[\"46\",\"other_house\"],[\"47\",\"other_house\"],[\"48\",\"other_house\"],[\"49\",\"other_house\"],[\"50\",\"other_house\"],[\"51\",\"other_house\"],[\"52\",\"other_house\"],[\"53\",\"other_house\"],[\"54\",\"other_house\"],[\"55\",\"other_house\"],[\"56\",\"other_house\"],[\"57\",\"other_house\"],[\"58\",\"other_house\"],[\"59\",\"other_house\"],[\"60\",\"other_house\"],[\"61\",\"other_house\"],[\"62\",\"other_house\"],[\"63\",\"other_house\"],[\"64\",\"other_house\"],[\"65\",\"other_house\"],[\"66\",\"other_house\"],[\"67\",\"other_house\"],[\"68\",\"other_house\"],[\"69\",\"other_house\"],[\"70\",\"other_house\"],[\"71\",\"other_house\"],[\"72\",\"other_house\"],[\"73\",\"other_house\"],[\"74\",\"other_house\"],[\"75\",\"other_house\"],[\"76\",\"other_house\"],[\"77\",\"other_house\"],[\"78\",\"other_house\"],[\"79\",\"other_house\"],[\"80\",\"other_house\"],[\"81\",\"other_house\"],[\"82\",\"other_house\"],[\"83\",\"other_house\"],[\"84\",\"other_house\"],[\"85\",\"other_house\"],[\"86\",\"other_house\"],[\"87\",\"other_house\"],[\"88\",\"other_house\"],[\"89\",\"other_house\"],[\"90\",\"other_house\"],[\"91\",\"other_house\"],[\"92\",\"other_house\"],[\"93\",\"other_house\"],[\"94\",\"other_house\"],[\"95\",\"other_house\"],[\"96\",\"other_house\"],[\"97\",\"other_house\"],[\"98\",\"other_house\"],[\"99\",\"other_house\"],[\"100\",\"other_house\"],[\"101\",\"other_house\"],[\"102\",\"other_house\"],[\"103\",\"other_house\"],[\"104\",\"other_house\"],[\"105\",\"other_house\"],[\"106\",\"other_house\"],[\"107\",\"other_house\"],[\"108\",\"other_house\"],[\"109\",\"other_house\"],[\"110\",\"other_house\"],[\"111\",\"other_house\"],[\"112\",\"other_house\"],[\"113\",\"other_house\"],[\"114\",\"other_house\"],[\"115\",\"other_house\"],[\"116\",\"other_house\"],[\"117\",\"other_house\"],[\"118\",\"other_house\"],[\"119\",\"other_house\"],[\"120\",\"other_house\"],[\"121\",\"other_house\"],[\"122\",\"other_house\"],[\"123\",\"other_house\"],[\"124\",\"other_house\"],[\"125\",\"other_house\"],[\"126\",\"other_house\"],[\"127\",\"other_house\"],[\"128\",\"other_house\"],[\"129\",\"other_house\"],[\"130\",\"other_house\"],[\"131\",\"other_house\"],[\"132\",\"other_house\"],[\"133\",\"other_house\"],[\"134\",\"other_house\"],[\"135\",\"other_house\"],[\"136\",\"other_house\"],[\"137\",\"other_house\"],[\"138\",\"other_house\"],[\"139\",\"other_house\"],[\"140\",\"other_house\"],[\"141\",\"other_house\"],[\"142\",\"other_house\"],[\"143\",\"other_house\"],[\"144\",\"other_house\"],[\"145\",\"other_house\"],[\"146\",\"other_house\"],[\"147\",\"other_house\"],[\"148\",\"other_house\"],[\"149\",\"other_house\"],[\"150\",\"other_house\"],[\"151\",\"other_house\"],[\"152\",\"other_house\"],[\"153\",\"other_house\"],[\"154\",\"other_house\"],[\"155\",\"other_house\"],[\"156\",\"other_house\"],[\"157\",\"other_house\"],[\"158\",\"other_house\"],[\"159\",\"other_house\"],[\"160\",\"other_house\"],[\"161\",\"other_house\"],[\"162\",\"other_house\"],[\"163\",\"other_house\"],[\"164\",\"other_house\"],[\"165\",\"other_house\"],[\"166\",\"other_house\"],[\"167\",\"other_house\"],[\"168\",\"other_house\"],[\"169\",\"other_house\"],[\"170\",\"other_house\"],[\"171\",\"other_house\"],[\"172\",\"other_house\"],[\"173\",\"other_house\"],[\"174\",\"other_house\"],[\"175\",\"other_house\"],[\"176\",\"other_house\"],[\"177\",\"other_house\"],[\"178\",\"other_house\"],[\"179\",\"other_house\"],[\"180\",\"other_house\"],[\"181\",\"other_house\"],[\"182\",\"other_house\"],[\"183\",\"other_house\"],[\"184\",\"other_house\"],[\"185\",\"other_house\"],[\"186\",\"other_house\"],[\"187\",\"other_house\"],[\"188\",\"other_house\"],[\"189\",\"other_house\"],[\"190\",\"other_house\"],[\"191\",\"other_house\"],[\"192\",\"other_house\"],[\"193\",\"other_house\"],[\"194\",\"other_house\"],[\"195\",\"other_house\"],[\"196\",\"other_house\"],[\"197\",\"other_house\"],[\"198\",\"other_house\"],[\"199\",\"other_house\"],[\"200\",\"other_house\"],[\"201\",\"other_house\"],[\"202\",\"other_house\"],[\"203\",\"other_house\"],[\"204\",\"other_house\"],[\"205\",\"other_house\"],[\"206\",\"other_house\"],[\"207\",\"other_house\"],[\"208\",\"other_house\"],[\"209\",\"other_house\"],[\"210\",\"other_house\"],[\"211\",\"other_house\"],[\"212\",\"other_house\"],[\"213\",\"other_house\"],[\"214\",\"other_house\"],[\"215\",\"other_house\"],[\"216\",\"other_house\"],[\"217\",\"other_house\"],[\"218\",\"other_house\"],[\"219\",\"other_house\"],[\"220\",\"other_house\"],[\"221\",\"other_house\"],[\"222\",\"other_house\"],[\"223\",\"other_house\"],[\"224\",\"other_house\"],[\"225\",\"other_house\"],[\"226\",\"other_house\"],[\"227\",\"other_house\"],[\"228\",\"other_house\"],[\"229\",\"other_house\"],[\"230\",\"other_house\"],[\"231\",\"other_house\"],[\"232\",\"other_house\"],[\"233\",\"other_house\"],[\"234\",\"other_house\"],[\"235\",\"other_house\"],[\"236\",\"other_house\"],[\"237\",\"other_house\"],[\"238\",\"other_house\"],[\"239\",\"other_house\"],[\"240\",\"other_house\"],[\"241\",\"other_house\"],[\"242\",\"other_house\"],[\"243\",\"other_house\"],[\"244\",\"other_house\"],[\"245\",\"other_house\"],[\"246\",\"other_house\"],[\"247\",\"other_house\"],[\"248\",\"other_house\"],[\"249\",\"other_house\"],[\"250\",\"other_house\"],[\"251\",\"other_house\"],[\"252\",\"other_house\"],[\"253\",\"other_house\"],[\"254\",\"other_house\"],[\"255\",\"other_house\"],[\"256\",\"other_house\"],[\"257\",\"other_house\"],[\"258\",\"other_house\"],[\"259\",\"other_house\"],[\"260\",\"other_house\"],[\"261\",\"other_house\"],[\"262\",\"other_house\"],[\"263\",\"other_house\"],[\"264\",\"other_house\"],[\"265\",\"other_house\"],[\"266\",\"other_house\"],[\"267\",\"other_house\"],[\"268\",\"other_house\"],[\"269\",\"other_house\"],[\"270\",\"other_house\"],[\"271\",\"other_house\"],[\"272\",\"other_house\"],[\"273\",\"other_house\"],[\"274\",\"other_house\"],[\"275\",\"other_house\"],[\"276\",\"other_house\"],[\"277\",\"other_house\"],[\"278\",\"other_house\"],[\"279\",\"other_house\"],[\"280\",\"other_house\"],[\"281\",\"other_house\"],[\"282\",\"other_house\"],[\"283\",\"other_house\"],[\"284\",\"other_house\"],[\"285\",\"other_house\"],[\"286\",\"other_house\"],[\"287\",\"other_house\"],[\"288\",\"other_house\"],[\"289\",\"other_house\"],[\"290\",\"other_house\"],[\"291\",\"other_house\"],[\"292\",\"other_house\"],[\"293\",\"other_house\"],[\"294\",\"other_house\"],[\"295\",\"other_house\"],[\"296\",\"other_house\"],[\"297\",\"other_house\"],[\"298\",\"other_house\"],[\"299\",\"other_house\"],[\"300\",\"other_house\"],[\"301\",\"other_house\"],[\"302\",\"other_house\"],[\"303\",\"other_house\"],[\"304\",\"other_house\"],[\"305\",\"other_house\"],[\"306\",\"other_house\"],[\"307\",\"other_house\"],[\"308\",\"other_house\"],[\"309\",\"other_house\"],[\"310\",\"other_house\"],[\"311\",\"other_house\"],[\"312\",\"other_house\"],[\"313\",\"other_house\"],[\"314\",\"other_house\"],[\"315\",\"other_house\"],[\"316\",\"other_house\"],[\"317\",\"other_house\"],[\"318\",\"other_house\"],[\"319\",\"other_house\"],[\"320\",\"other_house\"],[\"321\",\"other_house\"],[\"322\",\"other_house\"],[\"323\",\"other_house\"],[\"324\",\"other_house\"],[\"325\",\"other_house\"],[\"326\",\"other_house\"],[\"327\",\"other_house\"],[\"328\",\"other_house\"],[\"329\",\"other_house\"],[\"330\",\"other_house\"],[\"331\",\"other_house\"],[\"332\",\"other_house\"],[\"333\",\"other_house\"],[\"334\",\"other_house\"],[\"335\",\"other_house\"],[\"336\",\"other_house\"],[\"337\",\"other_house\"],[\"338\",\"other_house\"],[\"339\",\"other_house\"],[\"340\",\"other_house\"],[\"341\",\"other_house\"],[\"342\",\"other_house\"],[\"343\",\"other_house\"],[\"344\",\"other_house\"],[\"345\",\"other_house\"],[\"346\",\"other_house\"],[\"347\",\"other_house\"],[\"348\",\"other_house\"],[\"349\",\"other_house\"],[\"350\",\"other_house\"],[\"351\",\"other_house\"],[\"352\",\"other_house\"],[\"353\",\"other_house\"],[\"354\",\"other_house\"],[\"355\",\"other_house\"],[\"356\",\"other_house\"],[\"357\",\"other_house\"],[\"358\",\"other_house\"],[\"359\",\"other_house\"],[\"360\",\"other_house\"],[\"361\",\"other_house\"],[\"362\",\"other_house\"],[\"363\",\"other_house\"],[\"364\",\"other_house\"],[\"365\",\"other_house\"],[\"366\",\"other_house\"],[\"367\",\"other_house\"],[\"368\",\"other_house\"],[\"369\",\"other_house\"],[\"370\",\"other_house\"],[\"371\",\"other_house\"],[\"372\",\"other_house\"],[\"373\",\"other_house\"],[\"374\",\"other_house\"],[\"375\",\"other_house\"],[\"376\",\"other_house\"],[\"377\",\"other_house\"],[\"378\",\"other_house\"],[\"379\",\"other_house\"],[\"380\",\"other_house\"],[\"381\",\"other_house\"],[\"382\",\"other_house\"],[\"383\",\"other_house\"],[\"384\",\"other_house\"],[\"385\",\"other_house\"],[\"386\",\"other_house\"],[\"387\",\"other_house\"],[\"388\",\"other_house\"],[\"389\",\"other_house\"],[\"390\",\"other_house\"],[\"391\",\"other_house\"],[\"392\",\"other_house\"],[\"393\",\"other_house\"],[\"394\",\"other_house\"],[\"395\",\"other_house\"],[\"396\",\"other_house\"],[\"397\",\"other_house\"],[\"398\",\"other_house\"],[\"399\",\"other_house\"],[\"400\",\"other_house\"],[\"401\",\"other_house\"],[\"402\",\"other_house\"],[\"403\",\"other_house\"],[\"404\",\"other_house\"],[\"405\",\"other_house\"],[\"406\",\"other_house\"],[\"407\",\"other_house\"],[\"408\",\"other_house\"],[\"409\",\"other_house\"],[\"410\",\"other_house\"],[\"411\",\"other_house\"],[\"412\",\"other_house\"],[\"413\",\"other_house\"],[\"414\",\"other_house\"],[\"415\",\"other_house\"],[\"416\",\"other_house\"],[\"417\",\"other_house\"],[\"418\",\"other_house\"],[\"419\",\"other_house\"],[\"420\",\"other_house\"],[\"421\",\"other_house\"],[\"422\",\"other_house\"],[\"423\",\"other_house\"],[\"424\",\"other_house\"],[\"425\",\"other_house\"],[\"426\",\"other_house\"],[\"427\",\"other_house\"],[\"428\",\"other_house\"],[\"429\",\"other_house\"],[\"430\",\"other_house\"],[\"431\",\"other_house\"],[\"432\",\"other_house\"],[\"433\",\"other_house\"],[\"434\",\"other_house\"],[\"435\",\"other_house\"],[\"436\",\"other_house\"],[\"437\",\"other_house\"],[\"438\",\"other_house\"],[\"439\",\"other_house\"],[\"440\",\"other_house\"],[\"441\",\"other_house\"],[\"442\",\"other_house\"],[\"443\",\"other_house\"],[\"444\",\"other_house\"],[\"445\",\"other_house\"],[\"446\",\"other_house\"],[\"447\",\"other_house\"],[\"448\",\"other_house\"],[\"449\",\"other_house\"],[\"450\",\"other_house\"],[\"451\",\"other_house\"],[\"452\",\"other_house\"],[\"453\",\"other_house\"],[\"454\",\"other_house\"],[\"455\",\"other_house\"],[\"456\",\"other_house\"],[\"457\",\"other_house\"],[\"458\",\"other_house\"],[\"459\",\"other_house\"],[\"460\",\"other_house\"],[\"461\",\"other_house\"],[\"462\",\"other_house\"],[\"463\",\"other_house\"],[\"464\",\"other_house\"],[\"465\",\"other_house\"],[\"466\",\"other_house\"],[\"467\",\"other_house\"],[\"468\",\"other_house\"],[\"469\",\"other_house\"],[\"470\",\"other_house\"],[\"471\",\"other_house\"],[\"472\",\"other_house\"],[\"473\",\"other_house\"],[\"474\",\"other_house\"],[\"475\",\"other_house\"],[\"476\",\"other_house\"],[\"477\",\"other_house\"],[\"478\",\"other_house\"],[\"479\",\"other_house\"],[\"480\",\"other_house\"],[\"481\",\"other_house\"],[\"482\",\"other_house\"],[\"483\",\"other_house\"],[\"484\",\"other_house\"],[\"485\",\"other_house\"],[\"486\",\"other_house\"],[\"487\",\"other_house\"],[\"488\",\"other_house\"],[\"489\",\"other_house\"],[\"490\",\"other_house\"],[\"491\",\"other_house\"],[\"492\",\"other_house\"],[\"493\",\"other_house\"],[\"494\",\"other_house\"],[\"495\",\"other_house\"],[\"496\",\"other_house\"],[\"497\",\"other_house\"],[\"498\",\"other_house\"],[\"499\",\"other_house\"],[\"500\",\"other_house\"],[\"501\",\"other_house\"],[\"502\",\"other_house\"],[\"503\",\"other_house\"],[\"504\",\"other_house\"],[\"505\",\"other_house\"],[\"506\",\"other_house\"],[\"507\",\"other_house\"],[\"508\",\"other_house\"],[\"509\",\"other_house\"],[\"510\",\"other_house\"],[\"511\",\"other_house\"],[\"512\",\"other_house\"],[\"513\",\"other_house\"],[\"514\",\"other_house\"],[\"515\",\"other_house\"],[\"516\",\"other_house\"],[\"517\",\"other_house\"],[\"518\",\"other_house\"],[\"519\",\"other_house\"],[\"520\",\"other_house\"],[\"521\",\"other_house\"],[\"522\",\"other_house\"],[\"523\",\"other_house\"],[\"524\",\"other_house\"],[\"525\",\"other_house\"],[\"526\",\"other_house\"],[\"527\",\"other_house\"],[\"528\",\"other_house\"],[\"529\",\"other_house\"],[\"530\",\"other_house\"],[\"531\",\"other_house\"],[\"532\",\"other_house\"],[\"533\",\"other_house\"],[\"534\",\"other_house\"],[\"535\",\"other_house\"],[\"536\",\"other_house\"],[\"537\",\"other_house\"],[\"538\",\"other_house\"],[\"539\",\"other_house\"],[\"540\",\"other_house\"],[\"541\",\"other_house\"],[\"542\",\"other_house\"],[\"543\",\"other_house\"],[\"544\",\"other_house\"],[\"545\",\"other_house\"],[\"546\",\"other_house\"],[\"547\",\"other_house\"],[\"548\",\"other_house\"],[\"549\",\"other_house\"],[\"550\",\"other_house\"],[\"551\",\"other_house\"],[\"552\",\"other_house\"],[\"553\",\"other_house\"],[\"554\",\"other_house\"],[\"555\",\"other_house\"],[\"556\",\"other_house\"],[\"557\",\"other_house\"],[\"558\",\"other_house\"],[\"559\",\"other_house\"],[\"0\",\"average_house_value\"],[\"1\",\"average_house_value\"],[\"2\",\"average_house_value\"],[\"3\",\"average_house_value\"],[\"4\",\"average_house_value\"],[\"5\",\"average_house_value\"],[\"6\",\"average_house_value\"],[\"7\",\"average_house_value\"],[\"8\",\"average_house_value\"],[\"9\",\"average_house_value\"],[\"10\",\"average_house_value\"],[\"11\",\"average_house_value\"],[\"12\",\"average_house_value\"],[\"13\",\"average_house_value\"],[\"14\",\"average_house_value\"],[\"15\",\"average_house_value\"],[\"16\",\"average_house_value\"],[\"17\",\"average_house_value\"],[\"18\",\"average_house_value\"],[\"19\",\"average_house_value\"],[\"20\",\"average_house_value\"],[\"21\",\"average_house_value\"],[\"22\",\"average_house_value\"],[\"23\",\"average_house_value\"],[\"24\",\"average_house_value\"],[\"25\",\"average_house_value\"],[\"26\",\"average_house_value\"],[\"27\",\"average_house_value\"],[\"28\",\"average_house_value\"],[\"29\",\"average_house_value\"],[\"30\",\"average_house_value\"],[\"31\",\"average_house_value\"],[\"32\",\"average_house_value\"],[\"33\",\"average_house_value\"],[\"34\",\"average_house_value\"],[\"35\",\"average_house_value\"],[\"36\",\"average_house_value\"],[\"37\",\"average_house_value\"],[\"38\",\"average_house_value\"],[\"39\",\"average_house_value\"],[\"40\",\"average_house_value\"],[\"41\",\"average_house_value\"],[\"42\",\"average_house_value\"],[\"43\",\"average_house_value\"],[\"44\",\"average_house_value\"],[\"45\",\"average_house_value\"],[\"46\",\"average_house_value\"],[\"47\",\"average_house_value\"],[\"48\",\"average_house_value\"],[\"49\",\"average_house_value\"],[\"50\",\"average_house_value\"],[\"51\",\"average_house_value\"],[\"52\",\"average_house_value\"],[\"53\",\"average_house_value\"],[\"54\",\"average_house_value\"],[\"55\",\"average_house_value\"],[\"56\",\"average_house_value\"],[\"57\",\"average_house_value\"],[\"58\",\"average_house_value\"],[\"59\",\"average_house_value\"],[\"60\",\"average_house_value\"],[\"61\",\"average_house_value\"],[\"62\",\"average_house_value\"],[\"63\",\"average_house_value\"],[\"64\",\"average_house_value\"],[\"65\",\"average_house_value\"],[\"66\",\"average_house_value\"],[\"67\",\"average_house_value\"],[\"68\",\"average_house_value\"],[\"69\",\"average_house_value\"],[\"70\",\"average_house_value\"],[\"71\",\"average_house_value\"],[\"72\",\"average_house_value\"],[\"73\",\"average_house_value\"],[\"74\",\"average_house_value\"],[\"75\",\"average_house_value\"],[\"76\",\"average_house_value\"],[\"77\",\"average_house_value\"],[\"78\",\"average_house_value\"],[\"79\",\"average_house_value\"],[\"80\",\"average_house_value\"],[\"81\",\"average_house_value\"],[\"82\",\"average_house_value\"],[\"83\",\"average_house_value\"],[\"84\",\"average_house_value\"],[\"85\",\"average_house_value\"],[\"86\",\"average_house_value\"],[\"87\",\"average_house_value\"],[\"88\",\"average_house_value\"],[\"89\",\"average_house_value\"],[\"90\",\"average_house_value\"],[\"91\",\"average_house_value\"],[\"92\",\"average_house_value\"],[\"93\",\"average_house_value\"],[\"94\",\"average_house_value\"],[\"95\",\"average_house_value\"],[\"96\",\"average_house_value\"],[\"97\",\"average_house_value\"],[\"98\",\"average_house_value\"],[\"99\",\"average_house_value\"],[\"100\",\"average_house_value\"],[\"101\",\"average_house_value\"],[\"102\",\"average_house_value\"],[\"103\",\"average_house_value\"],[\"104\",\"average_house_value\"],[\"105\",\"average_house_value\"],[\"106\",\"average_house_value\"],[\"107\",\"average_house_value\"],[\"108\",\"average_house_value\"],[\"109\",\"average_house_value\"],[\"110\",\"average_house_value\"],[\"111\",\"average_house_value\"],[\"112\",\"average_house_value\"],[\"113\",\"average_house_value\"],[\"114\",\"average_house_value\"],[\"115\",\"average_house_value\"],[\"116\",\"average_house_value\"],[\"117\",\"average_house_value\"],[\"118\",\"average_house_value\"],[\"119\",\"average_house_value\"],[\"120\",\"average_house_value\"],[\"121\",\"average_house_value\"],[\"122\",\"average_house_value\"],[\"123\",\"average_house_value\"],[\"124\",\"average_house_value\"],[\"125\",\"average_house_value\"],[\"126\",\"average_house_value\"],[\"127\",\"average_house_value\"],[\"128\",\"average_house_value\"],[\"129\",\"average_house_value\"],[\"130\",\"average_house_value\"],[\"131\",\"average_house_value\"],[\"132\",\"average_house_value\"],[\"133\",\"average_house_value\"],[\"134\",\"average_house_value\"],[\"135\",\"average_house_value\"],[\"136\",\"average_house_value\"],[\"137\",\"average_house_value\"],[\"138\",\"average_house_value\"],[\"139\",\"average_house_value\"],[\"140\",\"average_house_value\"],[\"141\",\"average_house_value\"],[\"142\",\"average_house_value\"],[\"143\",\"average_house_value\"],[\"144\",\"average_house_value\"],[\"145\",\"average_house_value\"],[\"146\",\"average_house_value\"],[\"147\",\"average_house_value\"],[\"148\",\"average_house_value\"],[\"149\",\"average_house_value\"],[\"150\",\"average_house_value\"],[\"151\",\"average_house_value\"],[\"152\",\"average_house_value\"],[\"153\",\"average_house_value\"],[\"154\",\"average_house_value\"],[\"155\",\"average_house_value\"],[\"156\",\"average_house_value\"],[\"157\",\"average_house_value\"],[\"158\",\"average_house_value\"],[\"159\",\"average_house_value\"],[\"160\",\"average_house_value\"],[\"161\",\"average_house_value\"],[\"162\",\"average_house_value\"],[\"163\",\"average_house_value\"],[\"164\",\"average_house_value\"],[\"165\",\"average_house_value\"],[\"166\",\"average_house_value\"],[\"167\",\"average_house_value\"],[\"168\",\"average_house_value\"],[\"169\",\"average_house_value\"],[\"170\",\"average_house_value\"],[\"171\",\"average_house_value\"],[\"172\",\"average_house_value\"],[\"173\",\"average_house_value\"],[\"174\",\"average_house_value\"],[\"175\",\"average_house_value\"],[\"176\",\"average_house_value\"],[\"177\",\"average_house_value\"],[\"178\",\"average_house_value\"],[\"179\",\"average_house_value\"],[\"180\",\"average_house_value\"],[\"181\",\"average_house_value\"],[\"182\",\"average_house_value\"],[\"183\",\"average_house_value\"],[\"184\",\"average_house_value\"],[\"185\",\"average_house_value\"],[\"186\",\"average_house_value\"],[\"187\",\"average_house_value\"],[\"188\",\"average_house_value\"],[\"189\",\"average_house_value\"],[\"190\",\"average_house_value\"],[\"191\",\"average_house_value\"],[\"192\",\"average_house_value\"],[\"193\",\"average_house_value\"],[\"194\",\"average_house_value\"],[\"195\",\"average_house_value\"],[\"196\",\"average_house_value\"],[\"197\",\"average_house_value\"],[\"198\",\"average_house_value\"],[\"199\",\"average_house_value\"],[\"200\",\"average_house_value\"],[\"201\",\"average_house_value\"],[\"202\",\"average_house_value\"],[\"203\",\"average_house_value\"],[\"204\",\"average_house_value\"],[\"205\",\"average_house_value\"],[\"206\",\"average_house_value\"],[\"207\",\"average_house_value\"],[\"208\",\"average_house_value\"],[\"209\",\"average_house_value\"],[\"210\",\"average_house_value\"],[\"211\",\"average_house_value\"],[\"212\",\"average_house_value\"],[\"213\",\"average_house_value\"],[\"214\",\"average_house_value\"],[\"215\",\"average_house_value\"],[\"216\",\"average_house_value\"],[\"217\",\"average_house_value\"],[\"218\",\"average_house_value\"],[\"219\",\"average_house_value\"],[\"220\",\"average_house_value\"],[\"221\",\"average_house_value\"],[\"222\",\"average_house_value\"],[\"223\",\"average_house_value\"],[\"224\",\"average_house_value\"],[\"225\",\"average_house_value\"],[\"226\",\"average_house_value\"],[\"227\",\"average_house_value\"],[\"228\",\"average_house_value\"],[\"229\",\"average_house_value\"],[\"230\",\"average_house_value\"],[\"231\",\"average_house_value\"],[\"232\",\"average_house_value\"],[\"233\",\"average_house_value\"],[\"234\",\"average_house_value\"],[\"235\",\"average_house_value\"],[\"236\",\"average_house_value\"],[\"237\",\"average_house_value\"],[\"238\",\"average_house_value\"],[\"239\",\"average_house_value\"],[\"240\",\"average_house_value\"],[\"241\",\"average_house_value\"],[\"242\",\"average_house_value\"],[\"243\",\"average_house_value\"],[\"244\",\"average_house_value\"],[\"245\",\"average_house_value\"],[\"246\",\"average_house_value\"],[\"247\",\"average_house_value\"],[\"248\",\"average_house_value\"],[\"249\",\"average_house_value\"],[\"250\",\"average_house_value\"],[\"251\",\"average_house_value\"],[\"252\",\"average_house_value\"],[\"253\",\"average_house_value\"],[\"254\",\"average_house_value\"],[\"255\",\"average_house_value\"],[\"256\",\"average_house_value\"],[\"257\",\"average_house_value\"],[\"258\",\"average_house_value\"],[\"259\",\"average_house_value\"],[\"260\",\"average_house_value\"],[\"261\",\"average_house_value\"],[\"262\",\"average_house_value\"],[\"263\",\"average_house_value\"],[\"264\",\"average_house_value\"],[\"265\",\"average_house_value\"],[\"266\",\"average_house_value\"],[\"267\",\"average_house_value\"],[\"268\",\"average_house_value\"],[\"269\",\"average_house_value\"],[\"270\",\"average_house_value\"],[\"271\",\"average_house_value\"],[\"272\",\"average_house_value\"],[\"273\",\"average_house_value\"],[\"274\",\"average_house_value\"],[\"275\",\"average_house_value\"],[\"276\",\"average_house_value\"],[\"277\",\"average_house_value\"],[\"278\",\"average_house_value\"],[\"279\",\"average_house_value\"],[\"280\",\"average_house_value\"],[\"281\",\"average_house_value\"],[\"282\",\"average_house_value\"],[\"283\",\"average_house_value\"],[\"284\",\"average_house_value\"],[\"285\",\"average_house_value\"],[\"286\",\"average_house_value\"],[\"287\",\"average_house_value\"],[\"288\",\"average_house_value\"],[\"289\",\"average_house_value\"],[\"290\",\"average_house_value\"],[\"291\",\"average_house_value\"],[\"292\",\"average_house_value\"],[\"293\",\"average_house_value\"],[\"294\",\"average_house_value\"],[\"295\",\"average_house_value\"],[\"296\",\"average_house_value\"],[\"297\",\"average_house_value\"],[\"298\",\"average_house_value\"],[\"299\",\"average_house_value\"],[\"300\",\"average_house_value\"],[\"301\",\"average_house_value\"],[\"302\",\"average_house_value\"],[\"303\",\"average_house_value\"],[\"304\",\"average_house_value\"],[\"305\",\"average_house_value\"],[\"306\",\"average_house_value\"],[\"307\",\"average_house_value\"],[\"308\",\"average_house_value\"],[\"309\",\"average_house_value\"],[\"310\",\"average_house_value\"],[\"311\",\"average_house_value\"],[\"312\",\"average_house_value\"],[\"313\",\"average_house_value\"],[\"314\",\"average_house_value\"],[\"315\",\"average_house_value\"],[\"316\",\"average_house_value\"],[\"317\",\"average_house_value\"],[\"318\",\"average_house_value\"],[\"319\",\"average_house_value\"],[\"320\",\"average_house_value\"],[\"321\",\"average_house_value\"],[\"322\",\"average_house_value\"],[\"323\",\"average_house_value\"],[\"324\",\"average_house_value\"],[\"325\",\"average_house_value\"],[\"326\",\"average_house_value\"],[\"327\",\"average_house_value\"],[\"328\",\"average_house_value\"],[\"329\",\"average_house_value\"],[\"330\",\"average_house_value\"],[\"331\",\"average_house_value\"],[\"332\",\"average_house_value\"],[\"333\",\"average_house_value\"],[\"334\",\"average_house_value\"],[\"335\",\"average_house_value\"],[\"336\",\"average_house_value\"],[\"337\",\"average_house_value\"],[\"338\",\"average_house_value\"],[\"339\",\"average_house_value\"],[\"340\",\"average_house_value\"],[\"341\",\"average_house_value\"],[\"342\",\"average_house_value\"],[\"343\",\"average_house_value\"],[\"344\",\"average_house_value\"],[\"345\",\"average_house_value\"],[\"346\",\"average_house_value\"],[\"347\",\"average_house_value\"],[\"348\",\"average_house_value\"],[\"349\",\"average_house_value\"],[\"350\",\"average_house_value\"],[\"351\",\"average_house_value\"],[\"352\",\"average_house_value\"],[\"353\",\"average_house_value\"],[\"354\",\"average_house_value\"],[\"355\",\"average_house_value\"],[\"356\",\"average_house_value\"],[\"357\",\"average_house_value\"],[\"358\",\"average_house_value\"],[\"359\",\"average_house_value\"],[\"360\",\"average_house_value\"],[\"361\",\"average_house_value\"],[\"362\",\"average_house_value\"],[\"363\",\"average_house_value\"],[\"364\",\"average_house_value\"],[\"365\",\"average_house_value\"],[\"366\",\"average_house_value\"],[\"367\",\"average_house_value\"],[\"368\",\"average_house_value\"],[\"369\",\"average_house_value\"],[\"370\",\"average_house_value\"],[\"371\",\"average_house_value\"],[\"372\",\"average_house_value\"],[\"373\",\"average_house_value\"],[\"374\",\"average_house_value\"],[\"375\",\"average_house_value\"],[\"376\",\"average_house_value\"],[\"377\",\"average_house_value\"],[\"378\",\"average_house_value\"],[\"379\",\"average_house_value\"],[\"380\",\"average_house_value\"],[\"381\",\"average_house_value\"],[\"382\",\"average_house_value\"],[\"383\",\"average_house_value\"],[\"384\",\"average_house_value\"],[\"385\",\"average_house_value\"],[\"386\",\"average_house_value\"],[\"387\",\"average_house_value\"],[\"388\",\"average_house_value\"],[\"389\",\"average_house_value\"],[\"390\",\"average_house_value\"],[\"391\",\"average_house_value\"],[\"392\",\"average_house_value\"],[\"393\",\"average_house_value\"],[\"394\",\"average_house_value\"],[\"395\",\"average_house_value\"],[\"396\",\"average_house_value\"],[\"397\",\"average_house_value\"],[\"398\",\"average_house_value\"],[\"399\",\"average_house_value\"],[\"400\",\"average_house_value\"],[\"401\",\"average_house_value\"],[\"402\",\"average_house_value\"],[\"403\",\"average_house_value\"],[\"404\",\"average_house_value\"],[\"405\",\"average_house_value\"],[\"406\",\"average_house_value\"],[\"407\",\"average_house_value\"],[\"408\",\"average_house_value\"],[\"409\",\"average_house_value\"],[\"410\",\"average_house_value\"],[\"411\",\"average_house_value\"],[\"412\",\"average_house_value\"],[\"413\",\"average_house_value\"],[\"414\",\"average_house_value\"],[\"415\",\"average_house_value\"],[\"416\",\"average_house_value\"],[\"417\",\"average_house_value\"],[\"418\",\"average_house_value\"],[\"419\",\"average_house_value\"],[\"420\",\"average_house_value\"],[\"421\",\"average_house_value\"],[\"422\",\"average_house_value\"],[\"423\",\"average_house_value\"],[\"424\",\"average_house_value\"],[\"425\",\"average_house_value\"],[\"426\",\"average_house_value\"],[\"427\",\"average_house_value\"],[\"428\",\"average_house_value\"],[\"429\",\"average_house_value\"],[\"430\",\"average_house_value\"],[\"431\",\"average_house_value\"],[\"432\",\"average_house_value\"],[\"433\",\"average_house_value\"],[\"434\",\"average_house_value\"],[\"435\",\"average_house_value\"],[\"436\",\"average_house_value\"],[\"437\",\"average_house_value\"],[\"438\",\"average_house_value\"],[\"439\",\"average_house_value\"],[\"440\",\"average_house_value\"],[\"441\",\"average_house_value\"],[\"442\",\"average_house_value\"],[\"443\",\"average_house_value\"],[\"444\",\"average_house_value\"],[\"445\",\"average_house_value\"],[\"446\",\"average_house_value\"],[\"447\",\"average_house_value\"],[\"448\",\"average_house_value\"],[\"449\",\"average_house_value\"],[\"450\",\"average_house_value\"],[\"451\",\"average_house_value\"],[\"452\",\"average_house_value\"],[\"453\",\"average_house_value\"],[\"454\",\"average_house_value\"],[\"455\",\"average_house_value\"],[\"456\",\"average_house_value\"],[\"457\",\"average_house_value\"],[\"458\",\"average_house_value\"],[\"459\",\"average_house_value\"],[\"460\",\"average_house_value\"],[\"461\",\"average_house_value\"],[\"462\",\"average_house_value\"],[\"463\",\"average_house_value\"],[\"464\",\"average_house_value\"],[\"465\",\"average_house_value\"],[\"466\",\"average_house_value\"],[\"467\",\"average_house_value\"],[\"468\",\"average_house_value\"],[\"469\",\"average_house_value\"],[\"470\",\"average_house_value\"],[\"471\",\"average_house_value\"],[\"472\",\"average_house_value\"],[\"473\",\"average_house_value\"],[\"474\",\"average_house_value\"],[\"475\",\"average_house_value\"],[\"476\",\"average_house_value\"],[\"477\",\"average_house_value\"],[\"478\",\"average_house_value\"],[\"479\",\"average_house_value\"],[\"480\",\"average_house_value\"],[\"481\",\"average_house_value\"],[\"482\",\"average_house_value\"],[\"483\",\"average_house_value\"],[\"484\",\"average_house_value\"],[\"485\",\"average_house_value\"],[\"486\",\"average_house_value\"],[\"487\",\"average_house_value\"],[\"488\",\"average_house_value\"],[\"489\",\"average_house_value\"],[\"490\",\"average_house_value\"],[\"491\",\"average_house_value\"],[\"492\",\"average_house_value\"],[\"493\",\"average_house_value\"],[\"494\",\"average_house_value\"],[\"495\",\"average_house_value\"],[\"496\",\"average_house_value\"],[\"497\",\"average_house_value\"],[\"498\",\"average_house_value\"],[\"499\",\"average_house_value\"],[\"500\",\"average_house_value\"],[\"501\",\"average_house_value\"],[\"502\",\"average_house_value\"],[\"503\",\"average_house_value\"],[\"504\",\"average_house_value\"],[\"505\",\"average_house_value\"],[\"506\",\"average_house_value\"],[\"507\",\"average_house_value\"],[\"508\",\"average_house_value\"],[\"509\",\"average_house_value\"],[\"510\",\"average_house_value\"],[\"511\",\"average_house_value\"],[\"512\",\"average_house_value\"],[\"513\",\"average_house_value\"],[\"514\",\"average_house_value\"],[\"515\",\"average_house_value\"],[\"516\",\"average_house_value\"],[\"517\",\"average_house_value\"],[\"518\",\"average_house_value\"],[\"519\",\"average_house_value\"],[\"520\",\"average_house_value\"],[\"521\",\"average_house_value\"],[\"522\",\"average_house_value\"],[\"523\",\"average_house_value\"],[\"524\",\"average_house_value\"],[\"525\",\"average_house_value\"],[\"526\",\"average_house_value\"],[\"527\",\"average_house_value\"],[\"528\",\"average_house_value\"],[\"529\",\"average_house_value\"],[\"530\",\"average_house_value\"],[\"531\",\"average_house_value\"],[\"532\",\"average_house_value\"],[\"533\",\"average_house_value\"],[\"534\",\"average_house_value\"],[\"535\",\"average_house_value\"],[\"536\",\"average_house_value\"],[\"537\",\"average_house_value\"],[\"538\",\"average_house_value\"],[\"539\",\"average_house_value\"],[\"540\",\"average_house_value\"],[\"541\",\"average_house_value\"],[\"542\",\"average_house_value\"],[\"543\",\"average_house_value\"],[\"544\",\"average_house_value\"],[\"545\",\"average_house_value\"],[\"546\",\"average_house_value\"],[\"547\",\"average_house_value\"],[\"548\",\"average_house_value\"],[\"549\",\"average_house_value\"],[\"550\",\"average_house_value\"],[\"551\",\"average_house_value\"],[\"552\",\"average_house_value\"],[\"553\",\"average_house_value\"],[\"554\",\"average_house_value\"],[\"555\",\"average_house_value\"],[\"556\",\"average_house_value\"],[\"557\",\"average_house_value\"],[\"558\",\"average_house_value\"],[\"559\",\"average_house_value\"],[\"0\",\"shelter_costs_owned\"],[\"1\",\"shelter_costs_owned\"],[\"2\",\"shelter_costs_owned\"],[\"3\",\"shelter_costs_owned\"],[\"4\",\"shelter_costs_owned\"],[\"5\",\"shelter_costs_owned\"],[\"6\",\"shelter_costs_owned\"],[\"7\",\"shelter_costs_owned\"],[\"8\",\"shelter_costs_owned\"],[\"9\",\"shelter_costs_owned\"],[\"10\",\"shelter_costs_owned\"],[\"11\",\"shelter_costs_owned\"],[\"12\",\"shelter_costs_owned\"],[\"13\",\"shelter_costs_owned\"],[\"14\",\"shelter_costs_owned\"],[\"15\",\"shelter_costs_owned\"],[\"16\",\"shelter_costs_owned\"],[\"17\",\"shelter_costs_owned\"],[\"18\",\"shelter_costs_owned\"],[\"19\",\"shelter_costs_owned\"],[\"20\",\"shelter_costs_owned\"],[\"21\",\"shelter_costs_owned\"],[\"22\",\"shelter_costs_owned\"],[\"23\",\"shelter_costs_owned\"],[\"24\",\"shelter_costs_owned\"],[\"25\",\"shelter_costs_owned\"],[\"26\",\"shelter_costs_owned\"],[\"27\",\"shelter_costs_owned\"],[\"28\",\"shelter_costs_owned\"],[\"29\",\"shelter_costs_owned\"],[\"30\",\"shelter_costs_owned\"],[\"31\",\"shelter_costs_owned\"],[\"32\",\"shelter_costs_owned\"],[\"33\",\"shelter_costs_owned\"],[\"34\",\"shelter_costs_owned\"],[\"35\",\"shelter_costs_owned\"],[\"36\",\"shelter_costs_owned\"],[\"37\",\"shelter_costs_owned\"],[\"38\",\"shelter_costs_owned\"],[\"39\",\"shelter_costs_owned\"],[\"40\",\"shelter_costs_owned\"],[\"41\",\"shelter_costs_owned\"],[\"42\",\"shelter_costs_owned\"],[\"43\",\"shelter_costs_owned\"],[\"44\",\"shelter_costs_owned\"],[\"45\",\"shelter_costs_owned\"],[\"46\",\"shelter_costs_owned\"],[\"47\",\"shelter_costs_owned\"],[\"48\",\"shelter_costs_owned\"],[\"49\",\"shelter_costs_owned\"],[\"50\",\"shelter_costs_owned\"],[\"51\",\"shelter_costs_owned\"],[\"52\",\"shelter_costs_owned\"],[\"53\",\"shelter_costs_owned\"],[\"54\",\"shelter_costs_owned\"],[\"55\",\"shelter_costs_owned\"],[\"56\",\"shelter_costs_owned\"],[\"57\",\"shelter_costs_owned\"],[\"58\",\"shelter_costs_owned\"],[\"59\",\"shelter_costs_owned\"],[\"60\",\"shelter_costs_owned\"],[\"61\",\"shelter_costs_owned\"],[\"62\",\"shelter_costs_owned\"],[\"63\",\"shelter_costs_owned\"],[\"64\",\"shelter_costs_owned\"],[\"65\",\"shelter_costs_owned\"],[\"66\",\"shelter_costs_owned\"],[\"67\",\"shelter_costs_owned\"],[\"68\",\"shelter_costs_owned\"],[\"69\",\"shelter_costs_owned\"],[\"70\",\"shelter_costs_owned\"],[\"71\",\"shelter_costs_owned\"],[\"72\",\"shelter_costs_owned\"],[\"73\",\"shelter_costs_owned\"],[\"74\",\"shelter_costs_owned\"],[\"75\",\"shelter_costs_owned\"],[\"76\",\"shelter_costs_owned\"],[\"77\",\"shelter_costs_owned\"],[\"78\",\"shelter_costs_owned\"],[\"79\",\"shelter_costs_owned\"],[\"80\",\"shelter_costs_owned\"],[\"81\",\"shelter_costs_owned\"],[\"82\",\"shelter_costs_owned\"],[\"83\",\"shelter_costs_owned\"],[\"84\",\"shelter_costs_owned\"],[\"85\",\"shelter_costs_owned\"],[\"86\",\"shelter_costs_owned\"],[\"87\",\"shelter_costs_owned\"],[\"88\",\"shelter_costs_owned\"],[\"89\",\"shelter_costs_owned\"],[\"90\",\"shelter_costs_owned\"],[\"91\",\"shelter_costs_owned\"],[\"92\",\"shelter_costs_owned\"],[\"93\",\"shelter_costs_owned\"],[\"94\",\"shelter_costs_owned\"],[\"95\",\"shelter_costs_owned\"],[\"96\",\"shelter_costs_owned\"],[\"97\",\"shelter_costs_owned\"],[\"98\",\"shelter_costs_owned\"],[\"99\",\"shelter_costs_owned\"],[\"100\",\"shelter_costs_owned\"],[\"101\",\"shelter_costs_owned\"],[\"102\",\"shelter_costs_owned\"],[\"103\",\"shelter_costs_owned\"],[\"104\",\"shelter_costs_owned\"],[\"105\",\"shelter_costs_owned\"],[\"106\",\"shelter_costs_owned\"],[\"107\",\"shelter_costs_owned\"],[\"108\",\"shelter_costs_owned\"],[\"109\",\"shelter_costs_owned\"],[\"110\",\"shelter_costs_owned\"],[\"111\",\"shelter_costs_owned\"],[\"112\",\"shelter_costs_owned\"],[\"113\",\"shelter_costs_owned\"],[\"114\",\"shelter_costs_owned\"],[\"115\",\"shelter_costs_owned\"],[\"116\",\"shelter_costs_owned\"],[\"117\",\"shelter_costs_owned\"],[\"118\",\"shelter_costs_owned\"],[\"119\",\"shelter_costs_owned\"],[\"120\",\"shelter_costs_owned\"],[\"121\",\"shelter_costs_owned\"],[\"122\",\"shelter_costs_owned\"],[\"123\",\"shelter_costs_owned\"],[\"124\",\"shelter_costs_owned\"],[\"125\",\"shelter_costs_owned\"],[\"126\",\"shelter_costs_owned\"],[\"127\",\"shelter_costs_owned\"],[\"128\",\"shelter_costs_owned\"],[\"129\",\"shelter_costs_owned\"],[\"130\",\"shelter_costs_owned\"],[\"131\",\"shelter_costs_owned\"],[\"132\",\"shelter_costs_owned\"],[\"133\",\"shelter_costs_owned\"],[\"134\",\"shelter_costs_owned\"],[\"135\",\"shelter_costs_owned\"],[\"136\",\"shelter_costs_owned\"],[\"137\",\"shelter_costs_owned\"],[\"138\",\"shelter_costs_owned\"],[\"139\",\"shelter_costs_owned\"],[\"140\",\"shelter_costs_owned\"],[\"141\",\"shelter_costs_owned\"],[\"142\",\"shelter_costs_owned\"],[\"143\",\"shelter_costs_owned\"],[\"144\",\"shelter_costs_owned\"],[\"145\",\"shelter_costs_owned\"],[\"146\",\"shelter_costs_owned\"],[\"147\",\"shelter_costs_owned\"],[\"148\",\"shelter_costs_owned\"],[\"149\",\"shelter_costs_owned\"],[\"150\",\"shelter_costs_owned\"],[\"151\",\"shelter_costs_owned\"],[\"152\",\"shelter_costs_owned\"],[\"153\",\"shelter_costs_owned\"],[\"154\",\"shelter_costs_owned\"],[\"155\",\"shelter_costs_owned\"],[\"156\",\"shelter_costs_owned\"],[\"157\",\"shelter_costs_owned\"],[\"158\",\"shelter_costs_owned\"],[\"159\",\"shelter_costs_owned\"],[\"160\",\"shelter_costs_owned\"],[\"161\",\"shelter_costs_owned\"],[\"162\",\"shelter_costs_owned\"],[\"163\",\"shelter_costs_owned\"],[\"164\",\"shelter_costs_owned\"],[\"165\",\"shelter_costs_owned\"],[\"166\",\"shelter_costs_owned\"],[\"167\",\"shelter_costs_owned\"],[\"168\",\"shelter_costs_owned\"],[\"169\",\"shelter_costs_owned\"],[\"170\",\"shelter_costs_owned\"],[\"171\",\"shelter_costs_owned\"],[\"172\",\"shelter_costs_owned\"],[\"173\",\"shelter_costs_owned\"],[\"174\",\"shelter_costs_owned\"],[\"175\",\"shelter_costs_owned\"],[\"176\",\"shelter_costs_owned\"],[\"177\",\"shelter_costs_owned\"],[\"178\",\"shelter_costs_owned\"],[\"179\",\"shelter_costs_owned\"],[\"180\",\"shelter_costs_owned\"],[\"181\",\"shelter_costs_owned\"],[\"182\",\"shelter_costs_owned\"],[\"183\",\"shelter_costs_owned\"],[\"184\",\"shelter_costs_owned\"],[\"185\",\"shelter_costs_owned\"],[\"186\",\"shelter_costs_owned\"],[\"187\",\"shelter_costs_owned\"],[\"188\",\"shelter_costs_owned\"],[\"189\",\"shelter_costs_owned\"],[\"190\",\"shelter_costs_owned\"],[\"191\",\"shelter_costs_owned\"],[\"192\",\"shelter_costs_owned\"],[\"193\",\"shelter_costs_owned\"],[\"194\",\"shelter_costs_owned\"],[\"195\",\"shelter_costs_owned\"],[\"196\",\"shelter_costs_owned\"],[\"197\",\"shelter_costs_owned\"],[\"198\",\"shelter_costs_owned\"],[\"199\",\"shelter_costs_owned\"],[\"200\",\"shelter_costs_owned\"],[\"201\",\"shelter_costs_owned\"],[\"202\",\"shelter_costs_owned\"],[\"203\",\"shelter_costs_owned\"],[\"204\",\"shelter_costs_owned\"],[\"205\",\"shelter_costs_owned\"],[\"206\",\"shelter_costs_owned\"],[\"207\",\"shelter_costs_owned\"],[\"208\",\"shelter_costs_owned\"],[\"209\",\"shelter_costs_owned\"],[\"210\",\"shelter_costs_owned\"],[\"211\",\"shelter_costs_owned\"],[\"212\",\"shelter_costs_owned\"],[\"213\",\"shelter_costs_owned\"],[\"214\",\"shelter_costs_owned\"],[\"215\",\"shelter_costs_owned\"],[\"216\",\"shelter_costs_owned\"],[\"217\",\"shelter_costs_owned\"],[\"218\",\"shelter_costs_owned\"],[\"219\",\"shelter_costs_owned\"],[\"220\",\"shelter_costs_owned\"],[\"221\",\"shelter_costs_owned\"],[\"222\",\"shelter_costs_owned\"],[\"223\",\"shelter_costs_owned\"],[\"224\",\"shelter_costs_owned\"],[\"225\",\"shelter_costs_owned\"],[\"226\",\"shelter_costs_owned\"],[\"227\",\"shelter_costs_owned\"],[\"228\",\"shelter_costs_owned\"],[\"229\",\"shelter_costs_owned\"],[\"230\",\"shelter_costs_owned\"],[\"231\",\"shelter_costs_owned\"],[\"232\",\"shelter_costs_owned\"],[\"233\",\"shelter_costs_owned\"],[\"234\",\"shelter_costs_owned\"],[\"235\",\"shelter_costs_owned\"],[\"236\",\"shelter_costs_owned\"],[\"237\",\"shelter_costs_owned\"],[\"238\",\"shelter_costs_owned\"],[\"239\",\"shelter_costs_owned\"],[\"240\",\"shelter_costs_owned\"],[\"241\",\"shelter_costs_owned\"],[\"242\",\"shelter_costs_owned\"],[\"243\",\"shelter_costs_owned\"],[\"244\",\"shelter_costs_owned\"],[\"245\",\"shelter_costs_owned\"],[\"246\",\"shelter_costs_owned\"],[\"247\",\"shelter_costs_owned\"],[\"248\",\"shelter_costs_owned\"],[\"249\",\"shelter_costs_owned\"],[\"250\",\"shelter_costs_owned\"],[\"251\",\"shelter_costs_owned\"],[\"252\",\"shelter_costs_owned\"],[\"253\",\"shelter_costs_owned\"],[\"254\",\"shelter_costs_owned\"],[\"255\",\"shelter_costs_owned\"],[\"256\",\"shelter_costs_owned\"],[\"257\",\"shelter_costs_owned\"],[\"258\",\"shelter_costs_owned\"],[\"259\",\"shelter_costs_owned\"],[\"260\",\"shelter_costs_owned\"],[\"261\",\"shelter_costs_owned\"],[\"262\",\"shelter_costs_owned\"],[\"263\",\"shelter_costs_owned\"],[\"264\",\"shelter_costs_owned\"],[\"265\",\"shelter_costs_owned\"],[\"266\",\"shelter_costs_owned\"],[\"267\",\"shelter_costs_owned\"],[\"268\",\"shelter_costs_owned\"],[\"269\",\"shelter_costs_owned\"],[\"270\",\"shelter_costs_owned\"],[\"271\",\"shelter_costs_owned\"],[\"272\",\"shelter_costs_owned\"],[\"273\",\"shelter_costs_owned\"],[\"274\",\"shelter_costs_owned\"],[\"275\",\"shelter_costs_owned\"],[\"276\",\"shelter_costs_owned\"],[\"277\",\"shelter_costs_owned\"],[\"278\",\"shelter_costs_owned\"],[\"279\",\"shelter_costs_owned\"],[\"280\",\"shelter_costs_owned\"],[\"281\",\"shelter_costs_owned\"],[\"282\",\"shelter_costs_owned\"],[\"283\",\"shelter_costs_owned\"],[\"284\",\"shelter_costs_owned\"],[\"285\",\"shelter_costs_owned\"],[\"286\",\"shelter_costs_owned\"],[\"287\",\"shelter_costs_owned\"],[\"288\",\"shelter_costs_owned\"],[\"289\",\"shelter_costs_owned\"],[\"290\",\"shelter_costs_owned\"],[\"291\",\"shelter_costs_owned\"],[\"292\",\"shelter_costs_owned\"],[\"293\",\"shelter_costs_owned\"],[\"294\",\"shelter_costs_owned\"],[\"295\",\"shelter_costs_owned\"],[\"296\",\"shelter_costs_owned\"],[\"297\",\"shelter_costs_owned\"],[\"298\",\"shelter_costs_owned\"],[\"299\",\"shelter_costs_owned\"],[\"300\",\"shelter_costs_owned\"],[\"301\",\"shelter_costs_owned\"],[\"302\",\"shelter_costs_owned\"],[\"303\",\"shelter_costs_owned\"],[\"304\",\"shelter_costs_owned\"],[\"305\",\"shelter_costs_owned\"],[\"306\",\"shelter_costs_owned\"],[\"307\",\"shelter_costs_owned\"],[\"308\",\"shelter_costs_owned\"],[\"309\",\"shelter_costs_owned\"],[\"310\",\"shelter_costs_owned\"],[\"311\",\"shelter_costs_owned\"],[\"312\",\"shelter_costs_owned\"],[\"313\",\"shelter_costs_owned\"],[\"314\",\"shelter_costs_owned\"],[\"315\",\"shelter_costs_owned\"],[\"316\",\"shelter_costs_owned\"],[\"317\",\"shelter_costs_owned\"],[\"318\",\"shelter_costs_owned\"],[\"319\",\"shelter_costs_owned\"],[\"320\",\"shelter_costs_owned\"],[\"321\",\"shelter_costs_owned\"],[\"322\",\"shelter_costs_owned\"],[\"323\",\"shelter_costs_owned\"],[\"324\",\"shelter_costs_owned\"],[\"325\",\"shelter_costs_owned\"],[\"326\",\"shelter_costs_owned\"],[\"327\",\"shelter_costs_owned\"],[\"328\",\"shelter_costs_owned\"],[\"329\",\"shelter_costs_owned\"],[\"330\",\"shelter_costs_owned\"],[\"331\",\"shelter_costs_owned\"],[\"332\",\"shelter_costs_owned\"],[\"333\",\"shelter_costs_owned\"],[\"334\",\"shelter_costs_owned\"],[\"335\",\"shelter_costs_owned\"],[\"336\",\"shelter_costs_owned\"],[\"337\",\"shelter_costs_owned\"],[\"338\",\"shelter_costs_owned\"],[\"339\",\"shelter_costs_owned\"],[\"340\",\"shelter_costs_owned\"],[\"341\",\"shelter_costs_owned\"],[\"342\",\"shelter_costs_owned\"],[\"343\",\"shelter_costs_owned\"],[\"344\",\"shelter_costs_owned\"],[\"345\",\"shelter_costs_owned\"],[\"346\",\"shelter_costs_owned\"],[\"347\",\"shelter_costs_owned\"],[\"348\",\"shelter_costs_owned\"],[\"349\",\"shelter_costs_owned\"],[\"350\",\"shelter_costs_owned\"],[\"351\",\"shelter_costs_owned\"],[\"352\",\"shelter_costs_owned\"],[\"353\",\"shelter_costs_owned\"],[\"354\",\"shelter_costs_owned\"],[\"355\",\"shelter_costs_owned\"],[\"356\",\"shelter_costs_owned\"],[\"357\",\"shelter_costs_owned\"],[\"358\",\"shelter_costs_owned\"],[\"359\",\"shelter_costs_owned\"],[\"360\",\"shelter_costs_owned\"],[\"361\",\"shelter_costs_owned\"],[\"362\",\"shelter_costs_owned\"],[\"363\",\"shelter_costs_owned\"],[\"364\",\"shelter_costs_owned\"],[\"365\",\"shelter_costs_owned\"],[\"366\",\"shelter_costs_owned\"],[\"367\",\"shelter_costs_owned\"],[\"368\",\"shelter_costs_owned\"],[\"369\",\"shelter_costs_owned\"],[\"370\",\"shelter_costs_owned\"],[\"371\",\"shelter_costs_owned\"],[\"372\",\"shelter_costs_owned\"],[\"373\",\"shelter_costs_owned\"],[\"374\",\"shelter_costs_owned\"],[\"375\",\"shelter_costs_owned\"],[\"376\",\"shelter_costs_owned\"],[\"377\",\"shelter_costs_owned\"],[\"378\",\"shelter_costs_owned\"],[\"379\",\"shelter_costs_owned\"],[\"380\",\"shelter_costs_owned\"],[\"381\",\"shelter_costs_owned\"],[\"382\",\"shelter_costs_owned\"],[\"383\",\"shelter_costs_owned\"],[\"384\",\"shelter_costs_owned\"],[\"385\",\"shelter_costs_owned\"],[\"386\",\"shelter_costs_owned\"],[\"387\",\"shelter_costs_owned\"],[\"388\",\"shelter_costs_owned\"],[\"389\",\"shelter_costs_owned\"],[\"390\",\"shelter_costs_owned\"],[\"391\",\"shelter_costs_owned\"],[\"392\",\"shelter_costs_owned\"],[\"393\",\"shelter_costs_owned\"],[\"394\",\"shelter_costs_owned\"],[\"395\",\"shelter_costs_owned\"],[\"396\",\"shelter_costs_owned\"],[\"397\",\"shelter_costs_owned\"],[\"398\",\"shelter_costs_owned\"],[\"399\",\"shelter_costs_owned\"],[\"400\",\"shelter_costs_owned\"],[\"401\",\"shelter_costs_owned\"],[\"402\",\"shelter_costs_owned\"],[\"403\",\"shelter_costs_owned\"],[\"404\",\"shelter_costs_owned\"],[\"405\",\"shelter_costs_owned\"],[\"406\",\"shelter_costs_owned\"],[\"407\",\"shelter_costs_owned\"],[\"408\",\"shelter_costs_owned\"],[\"409\",\"shelter_costs_owned\"],[\"410\",\"shelter_costs_owned\"],[\"411\",\"shelter_costs_owned\"],[\"412\",\"shelter_costs_owned\"],[\"413\",\"shelter_costs_owned\"],[\"414\",\"shelter_costs_owned\"],[\"415\",\"shelter_costs_owned\"],[\"416\",\"shelter_costs_owned\"],[\"417\",\"shelter_costs_owned\"],[\"418\",\"shelter_costs_owned\"],[\"419\",\"shelter_costs_owned\"],[\"420\",\"shelter_costs_owned\"],[\"421\",\"shelter_costs_owned\"],[\"422\",\"shelter_costs_owned\"],[\"423\",\"shelter_costs_owned\"],[\"424\",\"shelter_costs_owned\"],[\"425\",\"shelter_costs_owned\"],[\"426\",\"shelter_costs_owned\"],[\"427\",\"shelter_costs_owned\"],[\"428\",\"shelter_costs_owned\"],[\"429\",\"shelter_costs_owned\"],[\"430\",\"shelter_costs_owned\"],[\"431\",\"shelter_costs_owned\"],[\"432\",\"shelter_costs_owned\"],[\"433\",\"shelter_costs_owned\"],[\"434\",\"shelter_costs_owned\"],[\"435\",\"shelter_costs_owned\"],[\"436\",\"shelter_costs_owned\"],[\"437\",\"shelter_costs_owned\"],[\"438\",\"shelter_costs_owned\"],[\"439\",\"shelter_costs_owned\"],[\"440\",\"shelter_costs_owned\"],[\"441\",\"shelter_costs_owned\"],[\"442\",\"shelter_costs_owned\"],[\"443\",\"shelter_costs_owned\"],[\"444\",\"shelter_costs_owned\"],[\"445\",\"shelter_costs_owned\"],[\"446\",\"shelter_costs_owned\"],[\"447\",\"shelter_costs_owned\"],[\"448\",\"shelter_costs_owned\"],[\"449\",\"shelter_costs_owned\"],[\"450\",\"shelter_costs_owned\"],[\"451\",\"shelter_costs_owned\"],[\"452\",\"shelter_costs_owned\"],[\"453\",\"shelter_costs_owned\"],[\"454\",\"shelter_costs_owned\"],[\"455\",\"shelter_costs_owned\"],[\"456\",\"shelter_costs_owned\"],[\"457\",\"shelter_costs_owned\"],[\"458\",\"shelter_costs_owned\"],[\"459\",\"shelter_costs_owned\"],[\"460\",\"shelter_costs_owned\"],[\"461\",\"shelter_costs_owned\"],[\"462\",\"shelter_costs_owned\"],[\"463\",\"shelter_costs_owned\"],[\"464\",\"shelter_costs_owned\"],[\"465\",\"shelter_costs_owned\"],[\"466\",\"shelter_costs_owned\"],[\"467\",\"shelter_costs_owned\"],[\"468\",\"shelter_costs_owned\"],[\"469\",\"shelter_costs_owned\"],[\"470\",\"shelter_costs_owned\"],[\"471\",\"shelter_costs_owned\"],[\"472\",\"shelter_costs_owned\"],[\"473\",\"shelter_costs_owned\"],[\"474\",\"shelter_costs_owned\"],[\"475\",\"shelter_costs_owned\"],[\"476\",\"shelter_costs_owned\"],[\"477\",\"shelter_costs_owned\"],[\"478\",\"shelter_costs_owned\"],[\"479\",\"shelter_costs_owned\"],[\"480\",\"shelter_costs_owned\"],[\"481\",\"shelter_costs_owned\"],[\"482\",\"shelter_costs_owned\"],[\"483\",\"shelter_costs_owned\"],[\"484\",\"shelter_costs_owned\"],[\"485\",\"shelter_costs_owned\"],[\"486\",\"shelter_costs_owned\"],[\"487\",\"shelter_costs_owned\"],[\"488\",\"shelter_costs_owned\"],[\"489\",\"shelter_costs_owned\"],[\"490\",\"shelter_costs_owned\"],[\"491\",\"shelter_costs_owned\"],[\"492\",\"shelter_costs_owned\"],[\"493\",\"shelter_costs_owned\"],[\"494\",\"shelter_costs_owned\"],[\"495\",\"shelter_costs_owned\"],[\"496\",\"shelter_costs_owned\"],[\"497\",\"shelter_costs_owned\"],[\"498\",\"shelter_costs_owned\"],[\"499\",\"shelter_costs_owned\"],[\"500\",\"shelter_costs_owned\"],[\"501\",\"shelter_costs_owned\"],[\"502\",\"shelter_costs_owned\"],[\"503\",\"shelter_costs_owned\"],[\"504\",\"shelter_costs_owned\"],[\"505\",\"shelter_costs_owned\"],[\"506\",\"shelter_costs_owned\"],[\"507\",\"shelter_costs_owned\"],[\"508\",\"shelter_costs_owned\"],[\"509\",\"shelter_costs_owned\"],[\"510\",\"shelter_costs_owned\"],[\"511\",\"shelter_costs_owned\"],[\"512\",\"shelter_costs_owned\"],[\"513\",\"shelter_costs_owned\"],[\"514\",\"shelter_costs_owned\"],[\"515\",\"shelter_costs_owned\"],[\"516\",\"shelter_costs_owned\"],[\"517\",\"shelter_costs_owned\"],[\"518\",\"shelter_costs_owned\"],[\"519\",\"shelter_costs_owned\"],[\"520\",\"shelter_costs_owned\"],[\"521\",\"shelter_costs_owned\"],[\"522\",\"shelter_costs_owned\"],[\"523\",\"shelter_costs_owned\"],[\"524\",\"shelter_costs_owned\"],[\"525\",\"shelter_costs_owned\"],[\"526\",\"shelter_costs_owned\"],[\"527\",\"shelter_costs_owned\"],[\"528\",\"shelter_costs_owned\"],[\"529\",\"shelter_costs_owned\"],[\"530\",\"shelter_costs_owned\"],[\"531\",\"shelter_costs_owned\"],[\"532\",\"shelter_costs_owned\"],[\"533\",\"shelter_costs_owned\"],[\"534\",\"shelter_costs_owned\"],[\"535\",\"shelter_costs_owned\"],[\"536\",\"shelter_costs_owned\"],[\"537\",\"shelter_costs_owned\"],[\"538\",\"shelter_costs_owned\"],[\"539\",\"shelter_costs_owned\"],[\"540\",\"shelter_costs_owned\"],[\"541\",\"shelter_costs_owned\"],[\"542\",\"shelter_costs_owned\"],[\"543\",\"shelter_costs_owned\"],[\"544\",\"shelter_costs_owned\"],[\"545\",\"shelter_costs_owned\"],[\"546\",\"shelter_costs_owned\"],[\"547\",\"shelter_costs_owned\"],[\"548\",\"shelter_costs_owned\"],[\"549\",\"shelter_costs_owned\"],[\"550\",\"shelter_costs_owned\"],[\"551\",\"shelter_costs_owned\"],[\"552\",\"shelter_costs_owned\"],[\"553\",\"shelter_costs_owned\"],[\"554\",\"shelter_costs_owned\"],[\"555\",\"shelter_costs_owned\"],[\"556\",\"shelter_costs_owned\"],[\"557\",\"shelter_costs_owned\"],[\"558\",\"shelter_costs_owned\"],[\"559\",\"shelter_costs_owned\"],[\"0\",\"shelter_costs_rented\"],[\"1\",\"shelter_costs_rented\"],[\"2\",\"shelter_costs_rented\"],[\"3\",\"shelter_costs_rented\"],[\"4\",\"shelter_costs_rented\"],[\"5\",\"shelter_costs_rented\"],[\"6\",\"shelter_costs_rented\"],[\"7\",\"shelter_costs_rented\"],[\"8\",\"shelter_costs_rented\"],[\"9\",\"shelter_costs_rented\"],[\"10\",\"shelter_costs_rented\"],[\"11\",\"shelter_costs_rented\"],[\"12\",\"shelter_costs_rented\"],[\"13\",\"shelter_costs_rented\"],[\"14\",\"shelter_costs_rented\"],[\"15\",\"shelter_costs_rented\"],[\"16\",\"shelter_costs_rented\"],[\"17\",\"shelter_costs_rented\"],[\"18\",\"shelter_costs_rented\"],[\"19\",\"shelter_costs_rented\"],[\"20\",\"shelter_costs_rented\"],[\"21\",\"shelter_costs_rented\"],[\"22\",\"shelter_costs_rented\"],[\"23\",\"shelter_costs_rented\"],[\"24\",\"shelter_costs_rented\"],[\"25\",\"shelter_costs_rented\"],[\"26\",\"shelter_costs_rented\"],[\"27\",\"shelter_costs_rented\"],[\"28\",\"shelter_costs_rented\"],[\"29\",\"shelter_costs_rented\"],[\"30\",\"shelter_costs_rented\"],[\"31\",\"shelter_costs_rented\"],[\"32\",\"shelter_costs_rented\"],[\"33\",\"shelter_costs_rented\"],[\"34\",\"shelter_costs_rented\"],[\"35\",\"shelter_costs_rented\"],[\"36\",\"shelter_costs_rented\"],[\"37\",\"shelter_costs_rented\"],[\"38\",\"shelter_costs_rented\"],[\"39\",\"shelter_costs_rented\"],[\"40\",\"shelter_costs_rented\"],[\"41\",\"shelter_costs_rented\"],[\"42\",\"shelter_costs_rented\"],[\"43\",\"shelter_costs_rented\"],[\"44\",\"shelter_costs_rented\"],[\"45\",\"shelter_costs_rented\"],[\"46\",\"shelter_costs_rented\"],[\"47\",\"shelter_costs_rented\"],[\"48\",\"shelter_costs_rented\"],[\"49\",\"shelter_costs_rented\"],[\"50\",\"shelter_costs_rented\"],[\"51\",\"shelter_costs_rented\"],[\"52\",\"shelter_costs_rented\"],[\"53\",\"shelter_costs_rented\"],[\"54\",\"shelter_costs_rented\"],[\"55\",\"shelter_costs_rented\"],[\"56\",\"shelter_costs_rented\"],[\"57\",\"shelter_costs_rented\"],[\"58\",\"shelter_costs_rented\"],[\"59\",\"shelter_costs_rented\"],[\"60\",\"shelter_costs_rented\"],[\"61\",\"shelter_costs_rented\"],[\"62\",\"shelter_costs_rented\"],[\"63\",\"shelter_costs_rented\"],[\"64\",\"shelter_costs_rented\"],[\"65\",\"shelter_costs_rented\"],[\"66\",\"shelter_costs_rented\"],[\"67\",\"shelter_costs_rented\"],[\"68\",\"shelter_costs_rented\"],[\"69\",\"shelter_costs_rented\"],[\"70\",\"shelter_costs_rented\"],[\"71\",\"shelter_costs_rented\"],[\"72\",\"shelter_costs_rented\"],[\"73\",\"shelter_costs_rented\"],[\"74\",\"shelter_costs_rented\"],[\"75\",\"shelter_costs_rented\"],[\"76\",\"shelter_costs_rented\"],[\"77\",\"shelter_costs_rented\"],[\"78\",\"shelter_costs_rented\"],[\"79\",\"shelter_costs_rented\"],[\"80\",\"shelter_costs_rented\"],[\"81\",\"shelter_costs_rented\"],[\"82\",\"shelter_costs_rented\"],[\"83\",\"shelter_costs_rented\"],[\"84\",\"shelter_costs_rented\"],[\"85\",\"shelter_costs_rented\"],[\"86\",\"shelter_costs_rented\"],[\"87\",\"shelter_costs_rented\"],[\"88\",\"shelter_costs_rented\"],[\"89\",\"shelter_costs_rented\"],[\"90\",\"shelter_costs_rented\"],[\"91\",\"shelter_costs_rented\"],[\"92\",\"shelter_costs_rented\"],[\"93\",\"shelter_costs_rented\"],[\"94\",\"shelter_costs_rented\"],[\"95\",\"shelter_costs_rented\"],[\"96\",\"shelter_costs_rented\"],[\"97\",\"shelter_costs_rented\"],[\"98\",\"shelter_costs_rented\"],[\"99\",\"shelter_costs_rented\"],[\"100\",\"shelter_costs_rented\"],[\"101\",\"shelter_costs_rented\"],[\"102\",\"shelter_costs_rented\"],[\"103\",\"shelter_costs_rented\"],[\"104\",\"shelter_costs_rented\"],[\"105\",\"shelter_costs_rented\"],[\"106\",\"shelter_costs_rented\"],[\"107\",\"shelter_costs_rented\"],[\"108\",\"shelter_costs_rented\"],[\"109\",\"shelter_costs_rented\"],[\"110\",\"shelter_costs_rented\"],[\"111\",\"shelter_costs_rented\"],[\"112\",\"shelter_costs_rented\"],[\"113\",\"shelter_costs_rented\"],[\"114\",\"shelter_costs_rented\"],[\"115\",\"shelter_costs_rented\"],[\"116\",\"shelter_costs_rented\"],[\"117\",\"shelter_costs_rented\"],[\"118\",\"shelter_costs_rented\"],[\"119\",\"shelter_costs_rented\"],[\"120\",\"shelter_costs_rented\"],[\"121\",\"shelter_costs_rented\"],[\"122\",\"shelter_costs_rented\"],[\"123\",\"shelter_costs_rented\"],[\"124\",\"shelter_costs_rented\"],[\"125\",\"shelter_costs_rented\"],[\"126\",\"shelter_costs_rented\"],[\"127\",\"shelter_costs_rented\"],[\"128\",\"shelter_costs_rented\"],[\"129\",\"shelter_costs_rented\"],[\"130\",\"shelter_costs_rented\"],[\"131\",\"shelter_costs_rented\"],[\"132\",\"shelter_costs_rented\"],[\"133\",\"shelter_costs_rented\"],[\"134\",\"shelter_costs_rented\"],[\"135\",\"shelter_costs_rented\"],[\"136\",\"shelter_costs_rented\"],[\"137\",\"shelter_costs_rented\"],[\"138\",\"shelter_costs_rented\"],[\"139\",\"shelter_costs_rented\"],[\"140\",\"shelter_costs_rented\"],[\"141\",\"shelter_costs_rented\"],[\"142\",\"shelter_costs_rented\"],[\"143\",\"shelter_costs_rented\"],[\"144\",\"shelter_costs_rented\"],[\"145\",\"shelter_costs_rented\"],[\"146\",\"shelter_costs_rented\"],[\"147\",\"shelter_costs_rented\"],[\"148\",\"shelter_costs_rented\"],[\"149\",\"shelter_costs_rented\"],[\"150\",\"shelter_costs_rented\"],[\"151\",\"shelter_costs_rented\"],[\"152\",\"shelter_costs_rented\"],[\"153\",\"shelter_costs_rented\"],[\"154\",\"shelter_costs_rented\"],[\"155\",\"shelter_costs_rented\"],[\"156\",\"shelter_costs_rented\"],[\"157\",\"shelter_costs_rented\"],[\"158\",\"shelter_costs_rented\"],[\"159\",\"shelter_costs_rented\"],[\"160\",\"shelter_costs_rented\"],[\"161\",\"shelter_costs_rented\"],[\"162\",\"shelter_costs_rented\"],[\"163\",\"shelter_costs_rented\"],[\"164\",\"shelter_costs_rented\"],[\"165\",\"shelter_costs_rented\"],[\"166\",\"shelter_costs_rented\"],[\"167\",\"shelter_costs_rented\"],[\"168\",\"shelter_costs_rented\"],[\"169\",\"shelter_costs_rented\"],[\"170\",\"shelter_costs_rented\"],[\"171\",\"shelter_costs_rented\"],[\"172\",\"shelter_costs_rented\"],[\"173\",\"shelter_costs_rented\"],[\"174\",\"shelter_costs_rented\"],[\"175\",\"shelter_costs_rented\"],[\"176\",\"shelter_costs_rented\"],[\"177\",\"shelter_costs_rented\"],[\"178\",\"shelter_costs_rented\"],[\"179\",\"shelter_costs_rented\"],[\"180\",\"shelter_costs_rented\"],[\"181\",\"shelter_costs_rented\"],[\"182\",\"shelter_costs_rented\"],[\"183\",\"shelter_costs_rented\"],[\"184\",\"shelter_costs_rented\"],[\"185\",\"shelter_costs_rented\"],[\"186\",\"shelter_costs_rented\"],[\"187\",\"shelter_costs_rented\"],[\"188\",\"shelter_costs_rented\"],[\"189\",\"shelter_costs_rented\"],[\"190\",\"shelter_costs_rented\"],[\"191\",\"shelter_costs_rented\"],[\"192\",\"shelter_costs_rented\"],[\"193\",\"shelter_costs_rented\"],[\"194\",\"shelter_costs_rented\"],[\"195\",\"shelter_costs_rented\"],[\"196\",\"shelter_costs_rented\"],[\"197\",\"shelter_costs_rented\"],[\"198\",\"shelter_costs_rented\"],[\"199\",\"shelter_costs_rented\"],[\"200\",\"shelter_costs_rented\"],[\"201\",\"shelter_costs_rented\"],[\"202\",\"shelter_costs_rented\"],[\"203\",\"shelter_costs_rented\"],[\"204\",\"shelter_costs_rented\"],[\"205\",\"shelter_costs_rented\"],[\"206\",\"shelter_costs_rented\"],[\"207\",\"shelter_costs_rented\"],[\"208\",\"shelter_costs_rented\"],[\"209\",\"shelter_costs_rented\"],[\"210\",\"shelter_costs_rented\"],[\"211\",\"shelter_costs_rented\"],[\"212\",\"shelter_costs_rented\"],[\"213\",\"shelter_costs_rented\"],[\"214\",\"shelter_costs_rented\"],[\"215\",\"shelter_costs_rented\"],[\"216\",\"shelter_costs_rented\"],[\"217\",\"shelter_costs_rented\"],[\"218\",\"shelter_costs_rented\"],[\"219\",\"shelter_costs_rented\"],[\"220\",\"shelter_costs_rented\"],[\"221\",\"shelter_costs_rented\"],[\"222\",\"shelter_costs_rented\"],[\"223\",\"shelter_costs_rented\"],[\"224\",\"shelter_costs_rented\"],[\"225\",\"shelter_costs_rented\"],[\"226\",\"shelter_costs_rented\"],[\"227\",\"shelter_costs_rented\"],[\"228\",\"shelter_costs_rented\"],[\"229\",\"shelter_costs_rented\"],[\"230\",\"shelter_costs_rented\"],[\"231\",\"shelter_costs_rented\"],[\"232\",\"shelter_costs_rented\"],[\"233\",\"shelter_costs_rented\"],[\"234\",\"shelter_costs_rented\"],[\"235\",\"shelter_costs_rented\"],[\"236\",\"shelter_costs_rented\"],[\"237\",\"shelter_costs_rented\"],[\"238\",\"shelter_costs_rented\"],[\"239\",\"shelter_costs_rented\"],[\"240\",\"shelter_costs_rented\"],[\"241\",\"shelter_costs_rented\"],[\"242\",\"shelter_costs_rented\"],[\"243\",\"shelter_costs_rented\"],[\"244\",\"shelter_costs_rented\"],[\"245\",\"shelter_costs_rented\"],[\"246\",\"shelter_costs_rented\"],[\"247\",\"shelter_costs_rented\"],[\"248\",\"shelter_costs_rented\"],[\"249\",\"shelter_costs_rented\"],[\"250\",\"shelter_costs_rented\"],[\"251\",\"shelter_costs_rented\"],[\"252\",\"shelter_costs_rented\"],[\"253\",\"shelter_costs_rented\"],[\"254\",\"shelter_costs_rented\"],[\"255\",\"shelter_costs_rented\"],[\"256\",\"shelter_costs_rented\"],[\"257\",\"shelter_costs_rented\"],[\"258\",\"shelter_costs_rented\"],[\"259\",\"shelter_costs_rented\"],[\"260\",\"shelter_costs_rented\"],[\"261\",\"shelter_costs_rented\"],[\"262\",\"shelter_costs_rented\"],[\"263\",\"shelter_costs_rented\"],[\"264\",\"shelter_costs_rented\"],[\"265\",\"shelter_costs_rented\"],[\"266\",\"shelter_costs_rented\"],[\"267\",\"shelter_costs_rented\"],[\"268\",\"shelter_costs_rented\"],[\"269\",\"shelter_costs_rented\"],[\"270\",\"shelter_costs_rented\"],[\"271\",\"shelter_costs_rented\"],[\"272\",\"shelter_costs_rented\"],[\"273\",\"shelter_costs_rented\"],[\"274\",\"shelter_costs_rented\"],[\"275\",\"shelter_costs_rented\"],[\"276\",\"shelter_costs_rented\"],[\"277\",\"shelter_costs_rented\"],[\"278\",\"shelter_costs_rented\"],[\"279\",\"shelter_costs_rented\"],[\"280\",\"shelter_costs_rented\"],[\"281\",\"shelter_costs_rented\"],[\"282\",\"shelter_costs_rented\"],[\"283\",\"shelter_costs_rented\"],[\"284\",\"shelter_costs_rented\"],[\"285\",\"shelter_costs_rented\"],[\"286\",\"shelter_costs_rented\"],[\"287\",\"shelter_costs_rented\"],[\"288\",\"shelter_costs_rented\"],[\"289\",\"shelter_costs_rented\"],[\"290\",\"shelter_costs_rented\"],[\"291\",\"shelter_costs_rented\"],[\"292\",\"shelter_costs_rented\"],[\"293\",\"shelter_costs_rented\"],[\"294\",\"shelter_costs_rented\"],[\"295\",\"shelter_costs_rented\"],[\"296\",\"shelter_costs_rented\"],[\"297\",\"shelter_costs_rented\"],[\"298\",\"shelter_costs_rented\"],[\"299\",\"shelter_costs_rented\"],[\"300\",\"shelter_costs_rented\"],[\"301\",\"shelter_costs_rented\"],[\"302\",\"shelter_costs_rented\"],[\"303\",\"shelter_costs_rented\"],[\"304\",\"shelter_costs_rented\"],[\"305\",\"shelter_costs_rented\"],[\"306\",\"shelter_costs_rented\"],[\"307\",\"shelter_costs_rented\"],[\"308\",\"shelter_costs_rented\"],[\"309\",\"shelter_costs_rented\"],[\"310\",\"shelter_costs_rented\"],[\"311\",\"shelter_costs_rented\"],[\"312\",\"shelter_costs_rented\"],[\"313\",\"shelter_costs_rented\"],[\"314\",\"shelter_costs_rented\"],[\"315\",\"shelter_costs_rented\"],[\"316\",\"shelter_costs_rented\"],[\"317\",\"shelter_costs_rented\"],[\"318\",\"shelter_costs_rented\"],[\"319\",\"shelter_costs_rented\"],[\"320\",\"shelter_costs_rented\"],[\"321\",\"shelter_costs_rented\"],[\"322\",\"shelter_costs_rented\"],[\"323\",\"shelter_costs_rented\"],[\"324\",\"shelter_costs_rented\"],[\"325\",\"shelter_costs_rented\"],[\"326\",\"shelter_costs_rented\"],[\"327\",\"shelter_costs_rented\"],[\"328\",\"shelter_costs_rented\"],[\"329\",\"shelter_costs_rented\"],[\"330\",\"shelter_costs_rented\"],[\"331\",\"shelter_costs_rented\"],[\"332\",\"shelter_costs_rented\"],[\"333\",\"shelter_costs_rented\"],[\"334\",\"shelter_costs_rented\"],[\"335\",\"shelter_costs_rented\"],[\"336\",\"shelter_costs_rented\"],[\"337\",\"shelter_costs_rented\"],[\"338\",\"shelter_costs_rented\"],[\"339\",\"shelter_costs_rented\"],[\"340\",\"shelter_costs_rented\"],[\"341\",\"shelter_costs_rented\"],[\"342\",\"shelter_costs_rented\"],[\"343\",\"shelter_costs_rented\"],[\"344\",\"shelter_costs_rented\"],[\"345\",\"shelter_costs_rented\"],[\"346\",\"shelter_costs_rented\"],[\"347\",\"shelter_costs_rented\"],[\"348\",\"shelter_costs_rented\"],[\"349\",\"shelter_costs_rented\"],[\"350\",\"shelter_costs_rented\"],[\"351\",\"shelter_costs_rented\"],[\"352\",\"shelter_costs_rented\"],[\"353\",\"shelter_costs_rented\"],[\"354\",\"shelter_costs_rented\"],[\"355\",\"shelter_costs_rented\"],[\"356\",\"shelter_costs_rented\"],[\"357\",\"shelter_costs_rented\"],[\"358\",\"shelter_costs_rented\"],[\"359\",\"shelter_costs_rented\"],[\"360\",\"shelter_costs_rented\"],[\"361\",\"shelter_costs_rented\"],[\"362\",\"shelter_costs_rented\"],[\"363\",\"shelter_costs_rented\"],[\"364\",\"shelter_costs_rented\"],[\"365\",\"shelter_costs_rented\"],[\"366\",\"shelter_costs_rented\"],[\"367\",\"shelter_costs_rented\"],[\"368\",\"shelter_costs_rented\"],[\"369\",\"shelter_costs_rented\"],[\"370\",\"shelter_costs_rented\"],[\"371\",\"shelter_costs_rented\"],[\"372\",\"shelter_costs_rented\"],[\"373\",\"shelter_costs_rented\"],[\"374\",\"shelter_costs_rented\"],[\"375\",\"shelter_costs_rented\"],[\"376\",\"shelter_costs_rented\"],[\"377\",\"shelter_costs_rented\"],[\"378\",\"shelter_costs_rented\"],[\"379\",\"shelter_costs_rented\"],[\"380\",\"shelter_costs_rented\"],[\"381\",\"shelter_costs_rented\"],[\"382\",\"shelter_costs_rented\"],[\"383\",\"shelter_costs_rented\"],[\"384\",\"shelter_costs_rented\"],[\"385\",\"shelter_costs_rented\"],[\"386\",\"shelter_costs_rented\"],[\"387\",\"shelter_costs_rented\"],[\"388\",\"shelter_costs_rented\"],[\"389\",\"shelter_costs_rented\"],[\"390\",\"shelter_costs_rented\"],[\"391\",\"shelter_costs_rented\"],[\"392\",\"shelter_costs_rented\"],[\"393\",\"shelter_costs_rented\"],[\"394\",\"shelter_costs_rented\"],[\"395\",\"shelter_costs_rented\"],[\"396\",\"shelter_costs_rented\"],[\"397\",\"shelter_costs_rented\"],[\"398\",\"shelter_costs_rented\"],[\"399\",\"shelter_costs_rented\"],[\"400\",\"shelter_costs_rented\"],[\"401\",\"shelter_costs_rented\"],[\"402\",\"shelter_costs_rented\"],[\"403\",\"shelter_costs_rented\"],[\"404\",\"shelter_costs_rented\"],[\"405\",\"shelter_costs_rented\"],[\"406\",\"shelter_costs_rented\"],[\"407\",\"shelter_costs_rented\"],[\"408\",\"shelter_costs_rented\"],[\"409\",\"shelter_costs_rented\"],[\"410\",\"shelter_costs_rented\"],[\"411\",\"shelter_costs_rented\"],[\"412\",\"shelter_costs_rented\"],[\"413\",\"shelter_costs_rented\"],[\"414\",\"shelter_costs_rented\"],[\"415\",\"shelter_costs_rented\"],[\"416\",\"shelter_costs_rented\"],[\"417\",\"shelter_costs_rented\"],[\"418\",\"shelter_costs_rented\"],[\"419\",\"shelter_costs_rented\"],[\"420\",\"shelter_costs_rented\"],[\"421\",\"shelter_costs_rented\"],[\"422\",\"shelter_costs_rented\"],[\"423\",\"shelter_costs_rented\"],[\"424\",\"shelter_costs_rented\"],[\"425\",\"shelter_costs_rented\"],[\"426\",\"shelter_costs_rented\"],[\"427\",\"shelter_costs_rented\"],[\"428\",\"shelter_costs_rented\"],[\"429\",\"shelter_costs_rented\"],[\"430\",\"shelter_costs_rented\"],[\"431\",\"shelter_costs_rented\"],[\"432\",\"shelter_costs_rented\"],[\"433\",\"shelter_costs_rented\"],[\"434\",\"shelter_costs_rented\"],[\"435\",\"shelter_costs_rented\"],[\"436\",\"shelter_costs_rented\"],[\"437\",\"shelter_costs_rented\"],[\"438\",\"shelter_costs_rented\"],[\"439\",\"shelter_costs_rented\"],[\"440\",\"shelter_costs_rented\"],[\"441\",\"shelter_costs_rented\"],[\"442\",\"shelter_costs_rented\"],[\"443\",\"shelter_costs_rented\"],[\"444\",\"shelter_costs_rented\"],[\"445\",\"shelter_costs_rented\"],[\"446\",\"shelter_costs_rented\"],[\"447\",\"shelter_costs_rented\"],[\"448\",\"shelter_costs_rented\"],[\"449\",\"shelter_costs_rented\"],[\"450\",\"shelter_costs_rented\"],[\"451\",\"shelter_costs_rented\"],[\"452\",\"shelter_costs_rented\"],[\"453\",\"shelter_costs_rented\"],[\"454\",\"shelter_costs_rented\"],[\"455\",\"shelter_costs_rented\"],[\"456\",\"shelter_costs_rented\"],[\"457\",\"shelter_costs_rented\"],[\"458\",\"shelter_costs_rented\"],[\"459\",\"shelter_costs_rented\"],[\"460\",\"shelter_costs_rented\"],[\"461\",\"shelter_costs_rented\"],[\"462\",\"shelter_costs_rented\"],[\"463\",\"shelter_costs_rented\"],[\"464\",\"shelter_costs_rented\"],[\"465\",\"shelter_costs_rented\"],[\"466\",\"shelter_costs_rented\"],[\"467\",\"shelter_costs_rented\"],[\"468\",\"shelter_costs_rented\"],[\"469\",\"shelter_costs_rented\"],[\"470\",\"shelter_costs_rented\"],[\"471\",\"shelter_costs_rented\"],[\"472\",\"shelter_costs_rented\"],[\"473\",\"shelter_costs_rented\"],[\"474\",\"shelter_costs_rented\"],[\"475\",\"shelter_costs_rented\"],[\"476\",\"shelter_costs_rented\"],[\"477\",\"shelter_costs_rented\"],[\"478\",\"shelter_costs_rented\"],[\"479\",\"shelter_costs_rented\"],[\"480\",\"shelter_costs_rented\"],[\"481\",\"shelter_costs_rented\"],[\"482\",\"shelter_costs_rented\"],[\"483\",\"shelter_costs_rented\"],[\"484\",\"shelter_costs_rented\"],[\"485\",\"shelter_costs_rented\"],[\"486\",\"shelter_costs_rented\"],[\"487\",\"shelter_costs_rented\"],[\"488\",\"shelter_costs_rented\"],[\"489\",\"shelter_costs_rented\"],[\"490\",\"shelter_costs_rented\"],[\"491\",\"shelter_costs_rented\"],[\"492\",\"shelter_costs_rented\"],[\"493\",\"shelter_costs_rented\"],[\"494\",\"shelter_costs_rented\"],[\"495\",\"shelter_costs_rented\"],[\"496\",\"shelter_costs_rented\"],[\"497\",\"shelter_costs_rented\"],[\"498\",\"shelter_costs_rented\"],[\"499\",\"shelter_costs_rented\"],[\"500\",\"shelter_costs_rented\"],[\"501\",\"shelter_costs_rented\"],[\"502\",\"shelter_costs_rented\"],[\"503\",\"shelter_costs_rented\"],[\"504\",\"shelter_costs_rented\"],[\"505\",\"shelter_costs_rented\"],[\"506\",\"shelter_costs_rented\"],[\"507\",\"shelter_costs_rented\"],[\"508\",\"shelter_costs_rented\"],[\"509\",\"shelter_costs_rented\"],[\"510\",\"shelter_costs_rented\"],[\"511\",\"shelter_costs_rented\"],[\"512\",\"shelter_costs_rented\"],[\"513\",\"shelter_costs_rented\"],[\"514\",\"shelter_costs_rented\"],[\"515\",\"shelter_costs_rented\"],[\"516\",\"shelter_costs_rented\"],[\"517\",\"shelter_costs_rented\"],[\"518\",\"shelter_costs_rented\"],[\"519\",\"shelter_costs_rented\"],[\"520\",\"shelter_costs_rented\"],[\"521\",\"shelter_costs_rented\"],[\"522\",\"shelter_costs_rented\"],[\"523\",\"shelter_costs_rented\"],[\"524\",\"shelter_costs_rented\"],[\"525\",\"shelter_costs_rented\"],[\"526\",\"shelter_costs_rented\"],[\"527\",\"shelter_costs_rented\"],[\"528\",\"shelter_costs_rented\"],[\"529\",\"shelter_costs_rented\"],[\"530\",\"shelter_costs_rented\"],[\"531\",\"shelter_costs_rented\"],[\"532\",\"shelter_costs_rented\"],[\"533\",\"shelter_costs_rented\"],[\"534\",\"shelter_costs_rented\"],[\"535\",\"shelter_costs_rented\"],[\"536\",\"shelter_costs_rented\"],[\"537\",\"shelter_costs_rented\"],[\"538\",\"shelter_costs_rented\"],[\"539\",\"shelter_costs_rented\"],[\"540\",\"shelter_costs_rented\"],[\"541\",\"shelter_costs_rented\"],[\"542\",\"shelter_costs_rented\"],[\"543\",\"shelter_costs_rented\"],[\"544\",\"shelter_costs_rented\"],[\"545\",\"shelter_costs_rented\"],[\"546\",\"shelter_costs_rented\"],[\"547\",\"shelter_costs_rented\"],[\"548\",\"shelter_costs_rented\"],[\"549\",\"shelter_costs_rented\"],[\"550\",\"shelter_costs_rented\"],[\"551\",\"shelter_costs_rented\"],[\"552\",\"shelter_costs_rented\"],[\"553\",\"shelter_costs_rented\"],[\"554\",\"shelter_costs_rented\"],[\"555\",\"shelter_costs_rented\"],[\"556\",\"shelter_costs_rented\"],[\"557\",\"shelter_costs_rented\"],[\"558\",\"shelter_costs_rented\"],[\"559\",\"shelter_costs_rented\"]]},\"selected\":{\"id\":\"7724\"},\"selection_policy\":{\"id\":\"7747\"}},\"id\":\"7723\",\"type\":\"ColumnDataSource\"},{\"attributes\":{\"below\":[{\"id\":\"7702\"}],\"center\":[{\"id\":\"7704\"},{\"id\":\"7708\"}],\"height\":300,\"left\":[{\"id\":\"7705\"}],\"margin\":[5,5,5,5],\"min_border_bottom\":10,\"min_border_left\":10,\"min_border_right\":10,\"min_border_top\":10,\"renderers\":[{\"id\":\"7729\"}],\"sizing_mode\":\"fixed\",\"title\":{\"id\":\"7694\"},\"toolbar\":{\"id\":\"7715\"},\"width\":700,\"x_range\":{\"id\":\"7690\"},\"x_scale\":{\"id\":\"7698\"},\"y_range\":{\"id\":\"7691\"},\"y_scale\":{\"id\":\"7700\"}},\"id\":\"7693\",\"subtype\":\"Figure\",\"type\":\"Plot\"},{\"attributes\":{},\"id\":\"7709\",\"type\":\"SaveTool\"},{\"attributes\":{},\"id\":\"7710\",\"type\":\"PanTool\"},{\"attributes\":{\"data_source\":{\"id\":\"7723\"},\"glyph\":{\"id\":\"7726\"},\"hover_glyph\":null,\"muted_glyph\":{\"id\":\"7728\"},\"nonselection_glyph\":{\"id\":\"7727\"},\"selection_glyph\":{\"id\":\"7731\"},\"view\":{\"id\":\"7730\"}},\"id\":\"7729\",\"type\":\"GlyphRenderer\"},{\"attributes\":{},\"id\":\"7713\",\"type\":\"ResetTool\"},{\"attributes\":{\"axis_label\":\"year\",\"formatter\":{\"id\":\"7733\"},\"major_label_policy\":{\"id\":\"7734\"},\"ticker\":{\"id\":\"7703\"}},\"id\":\"7702\",\"type\":\"CategoricalAxis\"},{\"attributes\":{},\"id\":\"7711\",\"type\":\"WheelZoomTool\"},{\"attributes\":{\"text_color\":\"black\",\"text_font_size\":\"12pt\"},\"id\":\"7694\",\"type\":\"Title\"},{\"attributes\":{\"overlay\":{\"id\":\"7714\"}},\"id\":\"7712\",\"type\":\"BoxZoomTool\"},{\"attributes\":{\"axis\":{\"id\":\"7702\"},\"grid_line_color\":null,\"ticker\":null},\"id\":\"7704\",\"type\":\"Grid\"},{\"attributes\":{\"fill_alpha\":{\"value\":0.2},\"fill_color\":{\"field\":\"Variable\",\"transform\":{\"id\":\"7722\"}},\"line_alpha\":{\"value\":0.2},\"top\":{\"field\":\"value\"},\"width\":{\"value\":0.8},\"x\":{\"field\":\"xoffsets\"}},\"id\":\"7728\",\"type\":\"VBar\"},{\"attributes\":{\"factors\":[\"year\",\"single_detached_house\",\"apartment_five_storeys_plus\",\"movable_dwelling\",\"semi_detached_house\",\"row_house\",\"duplex\",\"apartment_five_storeys_less\",\"other_house\",\"average_house_value\",\"shelter_costs_owned\",\"shelter_costs_rented\"],\"palette\":[\"#30a2da\",\"#fc4f30\",\"#e5ae38\",\"#6d904f\",\"#8b8b8b\",\"#17becf\",\"#9467bd\",\"#d62728\",\"#1f77b4\",\"#e377c2\",\"#8c564b\",\"#bcbd22\"]},\"id\":\"7722\",\"type\":\"CategoricalColorMapper\"},{\"attributes\":{\"margin\":[5,5,5,5],\"name\":\"HSpacer14697\",\"sizing_mode\":\"stretch_width\"},\"id\":\"7759\",\"type\":\"Spacer\"},{\"attributes\":{\"source\":{\"id\":\"7723\"}},\"id\":\"7730\",\"type\":\"CDSView\"},{\"attributes\":{\"margin\":[5,5,5,5],\"name\":\"HSpacer14696\",\"sizing_mode\":\"stretch_width\"},\"id\":\"7689\",\"type\":\"Spacer\"},{\"attributes\":{},\"id\":\"7698\",\"type\":\"CategoricalScale\"},{\"attributes\":{\"fill_alpha\":{\"value\":0.1},\"fill_color\":{\"field\":\"Variable\",\"transform\":{\"id\":\"7722\"}},\"line_alpha\":{\"value\":0.1},\"top\":{\"field\":\"value\"},\"width\":{\"value\":0.8},\"x\":{\"field\":\"xoffsets\"}},\"id\":\"7727\",\"type\":\"VBar\"},{\"attributes\":{\"fill_color\":{\"field\":\"Variable\",\"transform\":{\"id\":\"7722\"}},\"top\":{\"field\":\"value\"},\"width\":{\"value\":0.8},\"x\":{\"field\":\"xoffsets\"}},\"id\":\"7726\",\"type\":\"VBar\"},{\"attributes\":{\"factors\":[[\"0\",\"shelter_costs_rented\"],[\"0\",\"shelter_costs_owned\"],[\"0\",\"average_house_value\"],[\"0\",\"other_house\"],[\"0\",\"apartment_five_storeys_less\"],[\"0\",\"duplex\"],[\"0\",\"row_house\"],[\"0\",\"semi_detached_house\"],[\"0\",\"movable_dwelling\"],[\"0\",\"apartment_five_storeys_plus\"],[\"0\",\"single_detached_house\"],[\"0\",\"year\"],[\"1\",\"shelter_costs_rented\"],[\"1\",\"shelter_costs_owned\"],[\"1\",\"average_house_value\"],[\"1\",\"other_house\"],[\"1\",\"apartment_five_storeys_less\"],[\"1\",\"duplex\"],[\"1\",\"row_house\"],[\"1\",\"semi_detached_house\"],[\"1\",\"movable_dwelling\"],[\"1\",\"apartment_five_storeys_plus\"],[\"1\",\"single_detached_house\"],[\"1\",\"year\"],[\"2\",\"shelter_costs_rented\"],[\"2\",\"shelter_costs_owned\"],[\"2\",\"average_house_value\"],[\"2\",\"other_house\"],[\"2\",\"apartment_five_storeys_less\"],[\"2\",\"duplex\"],[\"2\",\"row_house\"],[\"2\",\"semi_detached_house\"],[\"2\",\"movable_dwelling\"],[\"2\",\"apartment_five_storeys_plus\"],[\"2\",\"single_detached_house\"],[\"2\",\"year\"],[\"3\",\"shelter_costs_rented\"],[\"3\",\"shelter_costs_owned\"],[\"3\",\"average_house_value\"],[\"3\",\"other_house\"],[\"3\",\"apartment_five_storeys_less\"],[\"3\",\"duplex\"],[\"3\",\"row_house\"],[\"3\",\"semi_detached_house\"],[\"3\",\"movable_dwelling\"],[\"3\",\"apartment_five_storeys_plus\"],[\"3\",\"single_detached_house\"],[\"3\",\"year\"],[\"4\",\"shelter_costs_rented\"],[\"4\",\"shelter_costs_owned\"],[\"4\",\"average_house_value\"],[\"4\",\"other_house\"],[\"4\",\"apartment_five_storeys_less\"],[\"4\",\"duplex\"],[\"4\",\"row_house\"],[\"4\",\"semi_detached_house\"],[\"4\",\"movable_dwelling\"],[\"4\",\"apartment_five_storeys_plus\"],[\"4\",\"single_detached_house\"],[\"4\",\"year\"],[\"5\",\"shelter_costs_rented\"],[\"5\",\"shelter_costs_owned\"],[\"5\",\"average_house_value\"],[\"5\",\"other_house\"],[\"5\",\"apartment_five_storeys_less\"],[\"5\",\"duplex\"],[\"5\",\"row_house\"],[\"5\",\"semi_detached_house\"],[\"5\",\"movable_dwelling\"],[\"5\",\"apartment_five_storeys_plus\"],[\"5\",\"single_detached_house\"],[\"5\",\"year\"],[\"6\",\"shelter_costs_rented\"],[\"6\",\"shelter_costs_owned\"],[\"6\",\"average_house_value\"],[\"6\",\"other_house\"],[\"6\",\"apartment_five_storeys_less\"],[\"6\",\"duplex\"],[\"6\",\"row_house\"],[\"6\",\"semi_detached_house\"],[\"6\",\"movable_dwelling\"],[\"6\",\"apartment_five_storeys_plus\"],[\"6\",\"single_detached_house\"],[\"6\",\"year\"],[\"7\",\"shelter_costs_rented\"],[\"7\",\"shelter_costs_owned\"],[\"7\",\"average_house_value\"],[\"7\",\"other_house\"],[\"7\",\"apartment_five_storeys_less\"],[\"7\",\"duplex\"],[\"7\",\"row_house\"],[\"7\",\"semi_detached_house\"],[\"7\",\"movable_dwelling\"],[\"7\",\"apartment_five_storeys_plus\"],[\"7\",\"single_detached_house\"],[\"7\",\"year\"],[\"8\",\"shelter_costs_rented\"],[\"8\",\"shelter_costs_owned\"],[\"8\",\"average_house_value\"],[\"8\",\"other_house\"],[\"8\",\"apartment_five_storeys_less\"],[\"8\",\"duplex\"],[\"8\",\"row_house\"],[\"8\",\"semi_detached_house\"],[\"8\",\"movable_dwelling\"],[\"8\",\"apartment_five_storeys_plus\"],[\"8\",\"single_detached_house\"],[\"8\",\"year\"],[\"9\",\"shelter_costs_rented\"],[\"9\",\"shelter_costs_owned\"],[\"9\",\"average_house_value\"],[\"9\",\"other_house\"],[\"9\",\"apartment_five_storeys_less\"],[\"9\",\"duplex\"],[\"9\",\"row_house\"],[\"9\",\"semi_detached_house\"],[\"9\",\"movable_dwelling\"],[\"9\",\"apartment_five_storeys_plus\"],[\"9\",\"single_detached_house\"],[\"9\",\"year\"],[\"10\",\"shelter_costs_rented\"],[\"10\",\"shelter_costs_owned\"],[\"10\",\"average_house_value\"],[\"10\",\"other_house\"],[\"10\",\"apartment_five_storeys_less\"],[\"10\",\"duplex\"],[\"10\",\"row_house\"],[\"10\",\"semi_detached_house\"],[\"10\",\"movable_dwelling\"],[\"10\",\"apartment_five_storeys_plus\"],[\"10\",\"single_detached_house\"],[\"10\",\"year\"],[\"11\",\"shelter_costs_rented\"],[\"11\",\"shelter_costs_owned\"],[\"11\",\"average_house_value\"],[\"11\",\"other_house\"],[\"11\",\"apartment_five_storeys_less\"],[\"11\",\"duplex\"],[\"11\",\"row_house\"],[\"11\",\"semi_detached_house\"],[\"11\",\"movable_dwelling\"],[\"11\",\"apartment_five_storeys_plus\"],[\"11\",\"single_detached_house\"],[\"11\",\"year\"],[\"12\",\"shelter_costs_rented\"],[\"12\",\"shelter_costs_owned\"],[\"12\",\"average_house_value\"],[\"12\",\"other_house\"],[\"12\",\"apartment_five_storeys_less\"],[\"12\",\"duplex\"],[\"12\",\"row_house\"],[\"12\",\"semi_detached_house\"],[\"12\",\"movable_dwelling\"],[\"12\",\"apartment_five_storeys_plus\"],[\"12\",\"single_detached_house\"],[\"12\",\"year\"],[\"13\",\"shelter_costs_rented\"],[\"13\",\"shelter_costs_owned\"],[\"13\",\"average_house_value\"],[\"13\",\"other_house\"],[\"13\",\"apartment_five_storeys_less\"],[\"13\",\"duplex\"],[\"13\",\"row_house\"],[\"13\",\"semi_detached_house\"],[\"13\",\"movable_dwelling\"],[\"13\",\"apartment_five_storeys_plus\"],[\"13\",\"single_detached_house\"],[\"13\",\"year\"],[\"14\",\"shelter_costs_rented\"],[\"14\",\"shelter_costs_owned\"],[\"14\",\"average_house_value\"],[\"14\",\"other_house\"],[\"14\",\"apartment_five_storeys_less\"],[\"14\",\"duplex\"],[\"14\",\"row_house\"],[\"14\",\"semi_detached_house\"],[\"14\",\"movable_dwelling\"],[\"14\",\"apartment_five_storeys_plus\"],[\"14\",\"single_detached_house\"],[\"14\",\"year\"],[\"15\",\"shelter_costs_rented\"],[\"15\",\"shelter_costs_owned\"],[\"15\",\"average_house_value\"],[\"15\",\"other_house\"],[\"15\",\"apartment_five_storeys_less\"],[\"15\",\"duplex\"],[\"15\",\"row_house\"],[\"15\",\"semi_detached_house\"],[\"15\",\"movable_dwelling\"],[\"15\",\"apartment_five_storeys_plus\"],[\"15\",\"single_detached_house\"],[\"15\",\"year\"],[\"16\",\"shelter_costs_rented\"],[\"16\",\"shelter_costs_owned\"],[\"16\",\"average_house_value\"],[\"16\",\"other_house\"],[\"16\",\"apartment_five_storeys_less\"],[\"16\",\"duplex\"],[\"16\",\"row_house\"],[\"16\",\"semi_detached_house\"],[\"16\",\"movable_dwelling\"],[\"16\",\"apartment_five_storeys_plus\"],[\"16\",\"single_detached_house\"],[\"16\",\"year\"],[\"17\",\"shelter_costs_rented\"],[\"17\",\"shelter_costs_owned\"],[\"17\",\"average_house_value\"],[\"17\",\"other_house\"],[\"17\",\"apartment_five_storeys_less\"],[\"17\",\"duplex\"],[\"17\",\"row_house\"],[\"17\",\"semi_detached_house\"],[\"17\",\"movable_dwelling\"],[\"17\",\"apartment_five_storeys_plus\"],[\"17\",\"single_detached_house\"],[\"17\",\"year\"],[\"18\",\"shelter_costs_rented\"],[\"18\",\"shelter_costs_owned\"],[\"18\",\"average_house_value\"],[\"18\",\"other_house\"],[\"18\",\"apartment_five_storeys_less\"],[\"18\",\"duplex\"],[\"18\",\"row_house\"],[\"18\",\"semi_detached_house\"],[\"18\",\"movable_dwelling\"],[\"18\",\"apartment_five_storeys_plus\"],[\"18\",\"single_detached_house\"],[\"18\",\"year\"],[\"19\",\"shelter_costs_rented\"],[\"19\",\"shelter_costs_owned\"],[\"19\",\"average_house_value\"],[\"19\",\"other_house\"],[\"19\",\"apartment_five_storeys_less\"],[\"19\",\"duplex\"],[\"19\",\"row_house\"],[\"19\",\"semi_detached_house\"],[\"19\",\"movable_dwelling\"],[\"19\",\"apartment_five_storeys_plus\"],[\"19\",\"single_detached_house\"],[\"19\",\"year\"],[\"20\",\"shelter_costs_rented\"],[\"20\",\"shelter_costs_owned\"],[\"20\",\"average_house_value\"],[\"20\",\"other_house\"],[\"20\",\"apartment_five_storeys_less\"],[\"20\",\"duplex\"],[\"20\",\"row_house\"],[\"20\",\"semi_detached_house\"],[\"20\",\"movable_dwelling\"],[\"20\",\"apartment_five_storeys_plus\"],[\"20\",\"single_detached_house\"],[\"20\",\"year\"],[\"21\",\"shelter_costs_rented\"],[\"21\",\"shelter_costs_owned\"],[\"21\",\"average_house_value\"],[\"21\",\"other_house\"],[\"21\",\"apartment_five_storeys_less\"],[\"21\",\"duplex\"],[\"21\",\"row_house\"],[\"21\",\"semi_detached_house\"],[\"21\",\"movable_dwelling\"],[\"21\",\"apartment_five_storeys_plus\"],[\"21\",\"single_detached_house\"],[\"21\",\"year\"],[\"22\",\"shelter_costs_rented\"],[\"22\",\"shelter_costs_owned\"],[\"22\",\"average_house_value\"],[\"22\",\"other_house\"],[\"22\",\"apartment_five_storeys_less\"],[\"22\",\"duplex\"],[\"22\",\"row_house\"],[\"22\",\"semi_detached_house\"],[\"22\",\"movable_dwelling\"],[\"22\",\"apartment_five_storeys_plus\"],[\"22\",\"single_detached_house\"],[\"22\",\"year\"],[\"23\",\"shelter_costs_rented\"],[\"23\",\"shelter_costs_owned\"],[\"23\",\"average_house_value\"],[\"23\",\"other_house\"],[\"23\",\"apartment_five_storeys_less\"],[\"23\",\"duplex\"],[\"23\",\"row_house\"],[\"23\",\"semi_detached_house\"],[\"23\",\"movable_dwelling\"],[\"23\",\"apartment_five_storeys_plus\"],[\"23\",\"single_detached_house\"],[\"23\",\"year\"],[\"24\",\"shelter_costs_rented\"],[\"24\",\"shelter_costs_owned\"],[\"24\",\"average_house_value\"],[\"24\",\"other_house\"],[\"24\",\"apartment_five_storeys_less\"],[\"24\",\"duplex\"],[\"24\",\"row_house\"],[\"24\",\"semi_detached_house\"],[\"24\",\"movable_dwelling\"],[\"24\",\"apartment_five_storeys_plus\"],[\"24\",\"single_detached_house\"],[\"24\",\"year\"],[\"25\",\"shelter_costs_rented\"],[\"25\",\"shelter_costs_owned\"],[\"25\",\"average_house_value\"],[\"25\",\"other_house\"],[\"25\",\"apartment_five_storeys_less\"],[\"25\",\"duplex\"],[\"25\",\"row_house\"],[\"25\",\"semi_detached_house\"],[\"25\",\"movable_dwelling\"],[\"25\",\"apartment_five_storeys_plus\"],[\"25\",\"single_detached_house\"],[\"25\",\"year\"],[\"26\",\"shelter_costs_rented\"],[\"26\",\"shelter_costs_owned\"],[\"26\",\"average_house_value\"],[\"26\",\"other_house\"],[\"26\",\"apartment_five_storeys_less\"],[\"26\",\"duplex\"],[\"26\",\"row_house\"],[\"26\",\"semi_detached_house\"],[\"26\",\"movable_dwelling\"],[\"26\",\"apartment_five_storeys_plus\"],[\"26\",\"single_detached_house\"],[\"26\",\"year\"],[\"27\",\"shelter_costs_rented\"],[\"27\",\"shelter_costs_owned\"],[\"27\",\"average_house_value\"],[\"27\",\"other_house\"],[\"27\",\"apartment_five_storeys_less\"],[\"27\",\"duplex\"],[\"27\",\"row_house\"],[\"27\",\"semi_detached_house\"],[\"27\",\"movable_dwelling\"],[\"27\",\"apartment_five_storeys_plus\"],[\"27\",\"single_detached_house\"],[\"27\",\"year\"],[\"28\",\"shelter_costs_rented\"],[\"28\",\"shelter_costs_owned\"],[\"28\",\"average_house_value\"],[\"28\",\"other_house\"],[\"28\",\"apartment_five_storeys_less\"],[\"28\",\"duplex\"],[\"28\",\"row_house\"],[\"28\",\"semi_detached_house\"],[\"28\",\"movable_dwelling\"],[\"28\",\"apartment_five_storeys_plus\"],[\"28\",\"single_detached_house\"],[\"28\",\"year\"],[\"29\",\"shelter_costs_rented\"],[\"29\",\"shelter_costs_owned\"],[\"29\",\"average_house_value\"],[\"29\",\"other_house\"],[\"29\",\"apartment_five_storeys_less\"],[\"29\",\"duplex\"],[\"29\",\"row_house\"],[\"29\",\"semi_detached_house\"],[\"29\",\"movable_dwelling\"],[\"29\",\"apartment_five_storeys_plus\"],[\"29\",\"single_detached_house\"],[\"29\",\"year\"],[\"30\",\"shelter_costs_rented\"],[\"30\",\"shelter_costs_owned\"],[\"30\",\"average_house_value\"],[\"30\",\"other_house\"],[\"30\",\"apartment_five_storeys_less\"],[\"30\",\"duplex\"],[\"30\",\"row_house\"],[\"30\",\"semi_detached_house\"],[\"30\",\"movable_dwelling\"],[\"30\",\"apartment_five_storeys_plus\"],[\"30\",\"single_detached_house\"],[\"30\",\"year\"],[\"31\",\"shelter_costs_rented\"],[\"31\",\"shelter_costs_owned\"],[\"31\",\"average_house_value\"],[\"31\",\"other_house\"],[\"31\",\"apartment_five_storeys_less\"],[\"31\",\"duplex\"],[\"31\",\"row_house\"],[\"31\",\"semi_detached_house\"],[\"31\",\"movable_dwelling\"],[\"31\",\"apartment_five_storeys_plus\"],[\"31\",\"single_detached_house\"],[\"31\",\"year\"],[\"32\",\"shelter_costs_rented\"],[\"32\",\"shelter_costs_owned\"],[\"32\",\"average_house_value\"],[\"32\",\"other_house\"],[\"32\",\"apartment_five_storeys_less\"],[\"32\",\"duplex\"],[\"32\",\"row_house\"],[\"32\",\"semi_detached_house\"],[\"32\",\"movable_dwelling\"],[\"32\",\"apartment_five_storeys_plus\"],[\"32\",\"single_detached_house\"],[\"32\",\"year\"],[\"33\",\"shelter_costs_rented\"],[\"33\",\"shelter_costs_owned\"],[\"33\",\"average_house_value\"],[\"33\",\"other_house\"],[\"33\",\"apartment_five_storeys_less\"],[\"33\",\"duplex\"],[\"33\",\"row_house\"],[\"33\",\"semi_detached_house\"],[\"33\",\"movable_dwelling\"],[\"33\",\"apartment_five_storeys_plus\"],[\"33\",\"single_detached_house\"],[\"33\",\"year\"],[\"34\",\"shelter_costs_rented\"],[\"34\",\"shelter_costs_owned\"],[\"34\",\"average_house_value\"],[\"34\",\"other_house\"],[\"34\",\"apartment_five_storeys_less\"],[\"34\",\"duplex\"],[\"34\",\"row_house\"],[\"34\",\"semi_detached_house\"],[\"34\",\"movable_dwelling\"],[\"34\",\"apartment_five_storeys_plus\"],[\"34\",\"single_detached_house\"],[\"34\",\"year\"],[\"35\",\"shelter_costs_rented\"],[\"35\",\"shelter_costs_owned\"],[\"35\",\"average_house_value\"],[\"35\",\"other_house\"],[\"35\",\"apartment_five_storeys_less\"],[\"35\",\"duplex\"],[\"35\",\"row_house\"],[\"35\",\"semi_detached_house\"],[\"35\",\"movable_dwelling\"],[\"35\",\"apartment_five_storeys_plus\"],[\"35\",\"single_detached_house\"],[\"35\",\"year\"],[\"36\",\"shelter_costs_rented\"],[\"36\",\"shelter_costs_owned\"],[\"36\",\"average_house_value\"],[\"36\",\"other_house\"],[\"36\",\"apartment_five_storeys_less\"],[\"36\",\"duplex\"],[\"36\",\"row_house\"],[\"36\",\"semi_detached_house\"],[\"36\",\"movable_dwelling\"],[\"36\",\"apartment_five_storeys_plus\"],[\"36\",\"single_detached_house\"],[\"36\",\"year\"],[\"37\",\"shelter_costs_rented\"],[\"37\",\"shelter_costs_owned\"],[\"37\",\"average_house_value\"],[\"37\",\"other_house\"],[\"37\",\"apartment_five_storeys_less\"],[\"37\",\"duplex\"],[\"37\",\"row_house\"],[\"37\",\"semi_detached_house\"],[\"37\",\"movable_dwelling\"],[\"37\",\"apartment_five_storeys_plus\"],[\"37\",\"single_detached_house\"],[\"37\",\"year\"],[\"38\",\"shelter_costs_rented\"],[\"38\",\"shelter_costs_owned\"],[\"38\",\"average_house_value\"],[\"38\",\"other_house\"],[\"38\",\"apartment_five_storeys_less\"],[\"38\",\"duplex\"],[\"38\",\"row_house\"],[\"38\",\"semi_detached_house\"],[\"38\",\"movable_dwelling\"],[\"38\",\"apartment_five_storeys_plus\"],[\"38\",\"single_detached_house\"],[\"38\",\"year\"],[\"39\",\"shelter_costs_rented\"],[\"39\",\"shelter_costs_owned\"],[\"39\",\"average_house_value\"],[\"39\",\"other_house\"],[\"39\",\"apartment_five_storeys_less\"],[\"39\",\"duplex\"],[\"39\",\"row_house\"],[\"39\",\"semi_detached_house\"],[\"39\",\"movable_dwelling\"],[\"39\",\"apartment_five_storeys_plus\"],[\"39\",\"single_detached_house\"],[\"39\",\"year\"],[\"40\",\"shelter_costs_rented\"],[\"40\",\"shelter_costs_owned\"],[\"40\",\"average_house_value\"],[\"40\",\"other_house\"],[\"40\",\"apartment_five_storeys_less\"],[\"40\",\"duplex\"],[\"40\",\"row_house\"],[\"40\",\"semi_detached_house\"],[\"40\",\"movable_dwelling\"],[\"40\",\"apartment_five_storeys_plus\"],[\"40\",\"single_detached_house\"],[\"40\",\"year\"],[\"41\",\"shelter_costs_rented\"],[\"41\",\"shelter_costs_owned\"],[\"41\",\"average_house_value\"],[\"41\",\"other_house\"],[\"41\",\"apartment_five_storeys_less\"],[\"41\",\"duplex\"],[\"41\",\"row_house\"],[\"41\",\"semi_detached_house\"],[\"41\",\"movable_dwelling\"],[\"41\",\"apartment_five_storeys_plus\"],[\"41\",\"single_detached_house\"],[\"41\",\"year\"],[\"42\",\"shelter_costs_rented\"],[\"42\",\"shelter_costs_owned\"],[\"42\",\"average_house_value\"],[\"42\",\"other_house\"],[\"42\",\"apartment_five_storeys_less\"],[\"42\",\"duplex\"],[\"42\",\"row_house\"],[\"42\",\"semi_detached_house\"],[\"42\",\"movable_dwelling\"],[\"42\",\"apartment_five_storeys_plus\"],[\"42\",\"single_detached_house\"],[\"42\",\"year\"],[\"43\",\"shelter_costs_rented\"],[\"43\",\"shelter_costs_owned\"],[\"43\",\"average_house_value\"],[\"43\",\"other_house\"],[\"43\",\"apartment_five_storeys_less\"],[\"43\",\"duplex\"],[\"43\",\"row_house\"],[\"43\",\"semi_detached_house\"],[\"43\",\"movable_dwelling\"],[\"43\",\"apartment_five_storeys_plus\"],[\"43\",\"single_detached_house\"],[\"43\",\"year\"],[\"44\",\"shelter_costs_rented\"],[\"44\",\"shelter_costs_owned\"],[\"44\",\"average_house_value\"],[\"44\",\"other_house\"],[\"44\",\"apartment_five_storeys_less\"],[\"44\",\"duplex\"],[\"44\",\"row_house\"],[\"44\",\"semi_detached_house\"],[\"44\",\"movable_dwelling\"],[\"44\",\"apartment_five_storeys_plus\"],[\"44\",\"single_detached_house\"],[\"44\",\"year\"],[\"45\",\"shelter_costs_rented\"],[\"45\",\"shelter_costs_owned\"],[\"45\",\"average_house_value\"],[\"45\",\"other_house\"],[\"45\",\"apartment_five_storeys_less\"],[\"45\",\"duplex\"],[\"45\",\"row_house\"],[\"45\",\"semi_detached_house\"],[\"45\",\"movable_dwelling\"],[\"45\",\"apartment_five_storeys_plus\"],[\"45\",\"single_detached_house\"],[\"45\",\"year\"],[\"46\",\"shelter_costs_rented\"],[\"46\",\"shelter_costs_owned\"],[\"46\",\"average_house_value\"],[\"46\",\"other_house\"],[\"46\",\"apartment_five_storeys_less\"],[\"46\",\"duplex\"],[\"46\",\"row_house\"],[\"46\",\"semi_detached_house\"],[\"46\",\"movable_dwelling\"],[\"46\",\"apartment_five_storeys_plus\"],[\"46\",\"single_detached_house\"],[\"46\",\"year\"],[\"47\",\"shelter_costs_rented\"],[\"47\",\"shelter_costs_owned\"],[\"47\",\"average_house_value\"],[\"47\",\"other_house\"],[\"47\",\"apartment_five_storeys_less\"],[\"47\",\"duplex\"],[\"47\",\"row_house\"],[\"47\",\"semi_detached_house\"],[\"47\",\"movable_dwelling\"],[\"47\",\"apartment_five_storeys_plus\"],[\"47\",\"single_detached_house\"],[\"47\",\"year\"],[\"48\",\"shelter_costs_rented\"],[\"48\",\"shelter_costs_owned\"],[\"48\",\"average_house_value\"],[\"48\",\"other_house\"],[\"48\",\"apartment_five_storeys_less\"],[\"48\",\"duplex\"],[\"48\",\"row_house\"],[\"48\",\"semi_detached_house\"],[\"48\",\"movable_dwelling\"],[\"48\",\"apartment_five_storeys_plus\"],[\"48\",\"single_detached_house\"],[\"48\",\"year\"],[\"49\",\"shelter_costs_rented\"],[\"49\",\"shelter_costs_owned\"],[\"49\",\"average_house_value\"],[\"49\",\"other_house\"],[\"49\",\"apartment_five_storeys_less\"],[\"49\",\"duplex\"],[\"49\",\"row_house\"],[\"49\",\"semi_detached_house\"],[\"49\",\"movable_dwelling\"],[\"49\",\"apartment_five_storeys_plus\"],[\"49\",\"single_detached_house\"],[\"49\",\"year\"],[\"50\",\"shelter_costs_rented\"],[\"50\",\"shelter_costs_owned\"],[\"50\",\"average_house_value\"],[\"50\",\"other_house\"],[\"50\",\"apartment_five_storeys_less\"],[\"50\",\"duplex\"],[\"50\",\"row_house\"],[\"50\",\"semi_detached_house\"],[\"50\",\"movable_dwelling\"],[\"50\",\"apartment_five_storeys_plus\"],[\"50\",\"single_detached_house\"],[\"50\",\"year\"],[\"51\",\"shelter_costs_rented\"],[\"51\",\"shelter_costs_owned\"],[\"51\",\"average_house_value\"],[\"51\",\"other_house\"],[\"51\",\"apartment_five_storeys_less\"],[\"51\",\"duplex\"],[\"51\",\"row_house\"],[\"51\",\"semi_detached_house\"],[\"51\",\"movable_dwelling\"],[\"51\",\"apartment_five_storeys_plus\"],[\"51\",\"single_detached_house\"],[\"51\",\"year\"],[\"52\",\"shelter_costs_rented\"],[\"52\",\"shelter_costs_owned\"],[\"52\",\"average_house_value\"],[\"52\",\"other_house\"],[\"52\",\"apartment_five_storeys_less\"],[\"52\",\"duplex\"],[\"52\",\"row_house\"],[\"52\",\"semi_detached_house\"],[\"52\",\"movable_dwelling\"],[\"52\",\"apartment_five_storeys_plus\"],[\"52\",\"single_detached_house\"],[\"52\",\"year\"],[\"53\",\"shelter_costs_rented\"],[\"53\",\"shelter_costs_owned\"],[\"53\",\"average_house_value\"],[\"53\",\"other_house\"],[\"53\",\"apartment_five_storeys_less\"],[\"53\",\"duplex\"],[\"53\",\"row_house\"],[\"53\",\"semi_detached_house\"],[\"53\",\"movable_dwelling\"],[\"53\",\"apartment_five_storeys_plus\"],[\"53\",\"single_detached_house\"],[\"53\",\"year\"],[\"54\",\"shelter_costs_rented\"],[\"54\",\"shelter_costs_owned\"],[\"54\",\"average_house_value\"],[\"54\",\"other_house\"],[\"54\",\"apartment_five_storeys_less\"],[\"54\",\"duplex\"],[\"54\",\"row_house\"],[\"54\",\"semi_detached_house\"],[\"54\",\"movable_dwelling\"],[\"54\",\"apartment_five_storeys_plus\"],[\"54\",\"single_detached_house\"],[\"54\",\"year\"],[\"55\",\"shelter_costs_rented\"],[\"55\",\"shelter_costs_owned\"],[\"55\",\"average_house_value\"],[\"55\",\"other_house\"],[\"55\",\"apartment_five_storeys_less\"],[\"55\",\"duplex\"],[\"55\",\"row_house\"],[\"55\",\"semi_detached_house\"],[\"55\",\"movable_dwelling\"],[\"55\",\"apartment_five_storeys_plus\"],[\"55\",\"single_detached_house\"],[\"55\",\"year\"],[\"56\",\"shelter_costs_rented\"],[\"56\",\"shelter_costs_owned\"],[\"56\",\"average_house_value\"],[\"56\",\"other_house\"],[\"56\",\"apartment_five_storeys_less\"],[\"56\",\"duplex\"],[\"56\",\"row_house\"],[\"56\",\"semi_detached_house\"],[\"56\",\"movable_dwelling\"],[\"56\",\"apartment_five_storeys_plus\"],[\"56\",\"single_detached_house\"],[\"56\",\"year\"],[\"57\",\"shelter_costs_rented\"],[\"57\",\"shelter_costs_owned\"],[\"57\",\"average_house_value\"],[\"57\",\"other_house\"],[\"57\",\"apartment_five_storeys_less\"],[\"57\",\"duplex\"],[\"57\",\"row_house\"],[\"57\",\"semi_detached_house\"],[\"57\",\"movable_dwelling\"],[\"57\",\"apartment_five_storeys_plus\"],[\"57\",\"single_detached_house\"],[\"57\",\"year\"],[\"58\",\"shelter_costs_rented\"],[\"58\",\"shelter_costs_owned\"],[\"58\",\"average_house_value\"],[\"58\",\"other_house\"],[\"58\",\"apartment_five_storeys_less\"],[\"58\",\"duplex\"],[\"58\",\"row_house\"],[\"58\",\"semi_detached_house\"],[\"58\",\"movable_dwelling\"],[\"58\",\"apartment_five_storeys_plus\"],[\"58\",\"single_detached_house\"],[\"58\",\"year\"],[\"59\",\"shelter_costs_rented\"],[\"59\",\"shelter_costs_owned\"],[\"59\",\"average_house_value\"],[\"59\",\"other_house\"],[\"59\",\"apartment_five_storeys_less\"],[\"59\",\"duplex\"],[\"59\",\"row_house\"],[\"59\",\"semi_detached_house\"],[\"59\",\"movable_dwelling\"],[\"59\",\"apartment_five_storeys_plus\"],[\"59\",\"single_detached_house\"],[\"59\",\"year\"],[\"60\",\"shelter_costs_rented\"],[\"60\",\"shelter_costs_owned\"],[\"60\",\"average_house_value\"],[\"60\",\"other_house\"],[\"60\",\"apartment_five_storeys_less\"],[\"60\",\"duplex\"],[\"60\",\"row_house\"],[\"60\",\"semi_detached_house\"],[\"60\",\"movable_dwelling\"],[\"60\",\"apartment_five_storeys_plus\"],[\"60\",\"single_detached_house\"],[\"60\",\"year\"],[\"61\",\"shelter_costs_rented\"],[\"61\",\"shelter_costs_owned\"],[\"61\",\"average_house_value\"],[\"61\",\"other_house\"],[\"61\",\"apartment_five_storeys_less\"],[\"61\",\"duplex\"],[\"61\",\"row_house\"],[\"61\",\"semi_detached_house\"],[\"61\",\"movable_dwelling\"],[\"61\",\"apartment_five_storeys_plus\"],[\"61\",\"single_detached_house\"],[\"61\",\"year\"],[\"62\",\"shelter_costs_rented\"],[\"62\",\"shelter_costs_owned\"],[\"62\",\"average_house_value\"],[\"62\",\"other_house\"],[\"62\",\"apartment_five_storeys_less\"],[\"62\",\"duplex\"],[\"62\",\"row_house\"],[\"62\",\"semi_detached_house\"],[\"62\",\"movable_dwelling\"],[\"62\",\"apartment_five_storeys_plus\"],[\"62\",\"single_detached_house\"],[\"62\",\"year\"],[\"63\",\"shelter_costs_rented\"],[\"63\",\"shelter_costs_owned\"],[\"63\",\"average_house_value\"],[\"63\",\"other_house\"],[\"63\",\"apartment_five_storeys_less\"],[\"63\",\"duplex\"],[\"63\",\"row_house\"],[\"63\",\"semi_detached_house\"],[\"63\",\"movable_dwelling\"],[\"63\",\"apartment_five_storeys_plus\"],[\"63\",\"single_detached_house\"],[\"63\",\"year\"],[\"64\",\"shelter_costs_rented\"],[\"64\",\"shelter_costs_owned\"],[\"64\",\"average_house_value\"],[\"64\",\"other_house\"],[\"64\",\"apartment_five_storeys_less\"],[\"64\",\"duplex\"],[\"64\",\"row_house\"],[\"64\",\"semi_detached_house\"],[\"64\",\"movable_dwelling\"],[\"64\",\"apartment_five_storeys_plus\"],[\"64\",\"single_detached_house\"],[\"64\",\"year\"],[\"65\",\"shelter_costs_rented\"],[\"65\",\"shelter_costs_owned\"],[\"65\",\"average_house_value\"],[\"65\",\"other_house\"],[\"65\",\"apartment_five_storeys_less\"],[\"65\",\"duplex\"],[\"65\",\"row_house\"],[\"65\",\"semi_detached_house\"],[\"65\",\"movable_dwelling\"],[\"65\",\"apartment_five_storeys_plus\"],[\"65\",\"single_detached_house\"],[\"65\",\"year\"],[\"66\",\"shelter_costs_rented\"],[\"66\",\"shelter_costs_owned\"],[\"66\",\"average_house_value\"],[\"66\",\"other_house\"],[\"66\",\"apartment_five_storeys_less\"],[\"66\",\"duplex\"],[\"66\",\"row_house\"],[\"66\",\"semi_detached_house\"],[\"66\",\"movable_dwelling\"],[\"66\",\"apartment_five_storeys_plus\"],[\"66\",\"single_detached_house\"],[\"66\",\"year\"],[\"67\",\"shelter_costs_rented\"],[\"67\",\"shelter_costs_owned\"],[\"67\",\"average_house_value\"],[\"67\",\"other_house\"],[\"67\",\"apartment_five_storeys_less\"],[\"67\",\"duplex\"],[\"67\",\"row_house\"],[\"67\",\"semi_detached_house\"],[\"67\",\"movable_dwelling\"],[\"67\",\"apartment_five_storeys_plus\"],[\"67\",\"single_detached_house\"],[\"67\",\"year\"],[\"68\",\"shelter_costs_rented\"],[\"68\",\"shelter_costs_owned\"],[\"68\",\"average_house_value\"],[\"68\",\"other_house\"],[\"68\",\"apartment_five_storeys_less\"],[\"68\",\"duplex\"],[\"68\",\"row_house\"],[\"68\",\"semi_detached_house\"],[\"68\",\"movable_dwelling\"],[\"68\",\"apartment_five_storeys_plus\"],[\"68\",\"single_detached_house\"],[\"68\",\"year\"],[\"69\",\"shelter_costs_rented\"],[\"69\",\"shelter_costs_owned\"],[\"69\",\"average_house_value\"],[\"69\",\"other_house\"],[\"69\",\"apartment_five_storeys_less\"],[\"69\",\"duplex\"],[\"69\",\"row_house\"],[\"69\",\"semi_detached_house\"],[\"69\",\"movable_dwelling\"],[\"69\",\"apartment_five_storeys_plus\"],[\"69\",\"single_detached_house\"],[\"69\",\"year\"],[\"70\",\"shelter_costs_rented\"],[\"70\",\"shelter_costs_owned\"],[\"70\",\"average_house_value\"],[\"70\",\"other_house\"],[\"70\",\"apartment_five_storeys_less\"],[\"70\",\"duplex\"],[\"70\",\"row_house\"],[\"70\",\"semi_detached_house\"],[\"70\",\"movable_dwelling\"],[\"70\",\"apartment_five_storeys_plus\"],[\"70\",\"single_detached_house\"],[\"70\",\"year\"],[\"71\",\"shelter_costs_rented\"],[\"71\",\"shelter_costs_owned\"],[\"71\",\"average_house_value\"],[\"71\",\"other_house\"],[\"71\",\"apartment_five_storeys_less\"],[\"71\",\"duplex\"],[\"71\",\"row_house\"],[\"71\",\"semi_detached_house\"],[\"71\",\"movable_dwelling\"],[\"71\",\"apartment_five_storeys_plus\"],[\"71\",\"single_detached_house\"],[\"71\",\"year\"],[\"72\",\"shelter_costs_rented\"],[\"72\",\"shelter_costs_owned\"],[\"72\",\"average_house_value\"],[\"72\",\"other_house\"],[\"72\",\"apartment_five_storeys_less\"],[\"72\",\"duplex\"],[\"72\",\"row_house\"],[\"72\",\"semi_detached_house\"],[\"72\",\"movable_dwelling\"],[\"72\",\"apartment_five_storeys_plus\"],[\"72\",\"single_detached_house\"],[\"72\",\"year\"],[\"73\",\"shelter_costs_rented\"],[\"73\",\"shelter_costs_owned\"],[\"73\",\"average_house_value\"],[\"73\",\"other_house\"],[\"73\",\"apartment_five_storeys_less\"],[\"73\",\"duplex\"],[\"73\",\"row_house\"],[\"73\",\"semi_detached_house\"],[\"73\",\"movable_dwelling\"],[\"73\",\"apartment_five_storeys_plus\"],[\"73\",\"single_detached_house\"],[\"73\",\"year\"],[\"74\",\"shelter_costs_rented\"],[\"74\",\"shelter_costs_owned\"],[\"74\",\"average_house_value\"],[\"74\",\"other_house\"],[\"74\",\"apartment_five_storeys_less\"],[\"74\",\"duplex\"],[\"74\",\"row_house\"],[\"74\",\"semi_detached_house\"],[\"74\",\"movable_dwelling\"],[\"74\",\"apartment_five_storeys_plus\"],[\"74\",\"single_detached_house\"],[\"74\",\"year\"],[\"75\",\"shelter_costs_rented\"],[\"75\",\"shelter_costs_owned\"],[\"75\",\"average_house_value\"],[\"75\",\"other_house\"],[\"75\",\"apartment_five_storeys_less\"],[\"75\",\"duplex\"],[\"75\",\"row_house\"],[\"75\",\"semi_detached_house\"],[\"75\",\"movable_dwelling\"],[\"75\",\"apartment_five_storeys_plus\"],[\"75\",\"single_detached_house\"],[\"75\",\"year\"],[\"76\",\"shelter_costs_rented\"],[\"76\",\"shelter_costs_owned\"],[\"76\",\"average_house_value\"],[\"76\",\"other_house\"],[\"76\",\"apartment_five_storeys_less\"],[\"76\",\"duplex\"],[\"76\",\"row_house\"],[\"76\",\"semi_detached_house\"],[\"76\",\"movable_dwelling\"],[\"76\",\"apartment_five_storeys_plus\"],[\"76\",\"single_detached_house\"],[\"76\",\"year\"],[\"77\",\"shelter_costs_rented\"],[\"77\",\"shelter_costs_owned\"],[\"77\",\"average_house_value\"],[\"77\",\"other_house\"],[\"77\",\"apartment_five_storeys_less\"],[\"77\",\"duplex\"],[\"77\",\"row_house\"],[\"77\",\"semi_detached_house\"],[\"77\",\"movable_dwelling\"],[\"77\",\"apartment_five_storeys_plus\"],[\"77\",\"single_detached_house\"],[\"77\",\"year\"],[\"78\",\"shelter_costs_rented\"],[\"78\",\"shelter_costs_owned\"],[\"78\",\"average_house_value\"],[\"78\",\"other_house\"],[\"78\",\"apartment_five_storeys_less\"],[\"78\",\"duplex\"],[\"78\",\"row_house\"],[\"78\",\"semi_detached_house\"],[\"78\",\"movable_dwelling\"],[\"78\",\"apartment_five_storeys_plus\"],[\"78\",\"single_detached_house\"],[\"78\",\"year\"],[\"79\",\"shelter_costs_rented\"],[\"79\",\"shelter_costs_owned\"],[\"79\",\"average_house_value\"],[\"79\",\"other_house\"],[\"79\",\"apartment_five_storeys_less\"],[\"79\",\"duplex\"],[\"79\",\"row_house\"],[\"79\",\"semi_detached_house\"],[\"79\",\"movable_dwelling\"],[\"79\",\"apartment_five_storeys_plus\"],[\"79\",\"single_detached_house\"],[\"79\",\"year\"],[\"80\",\"shelter_costs_rented\"],[\"80\",\"shelter_costs_owned\"],[\"80\",\"average_house_value\"],[\"80\",\"other_house\"],[\"80\",\"apartment_five_storeys_less\"],[\"80\",\"duplex\"],[\"80\",\"row_house\"],[\"80\",\"semi_detached_house\"],[\"80\",\"movable_dwelling\"],[\"80\",\"apartment_five_storeys_plus\"],[\"80\",\"single_detached_house\"],[\"80\",\"year\"],[\"81\",\"shelter_costs_rented\"],[\"81\",\"shelter_costs_owned\"],[\"81\",\"average_house_value\"],[\"81\",\"other_house\"],[\"81\",\"apartment_five_storeys_less\"],[\"81\",\"duplex\"],[\"81\",\"row_house\"],[\"81\",\"semi_detached_house\"],[\"81\",\"movable_dwelling\"],[\"81\",\"apartment_five_storeys_plus\"],[\"81\",\"single_detached_house\"],[\"81\",\"year\"],[\"82\",\"shelter_costs_rented\"],[\"82\",\"shelter_costs_owned\"],[\"82\",\"average_house_value\"],[\"82\",\"other_house\"],[\"82\",\"apartment_five_storeys_less\"],[\"82\",\"duplex\"],[\"82\",\"row_house\"],[\"82\",\"semi_detached_house\"],[\"82\",\"movable_dwelling\"],[\"82\",\"apartment_five_storeys_plus\"],[\"82\",\"single_detached_house\"],[\"82\",\"year\"],[\"83\",\"shelter_costs_rented\"],[\"83\",\"shelter_costs_owned\"],[\"83\",\"average_house_value\"],[\"83\",\"other_house\"],[\"83\",\"apartment_five_storeys_less\"],[\"83\",\"duplex\"],[\"83\",\"row_house\"],[\"83\",\"semi_detached_house\"],[\"83\",\"movable_dwelling\"],[\"83\",\"apartment_five_storeys_plus\"],[\"83\",\"single_detached_house\"],[\"83\",\"year\"],[\"84\",\"shelter_costs_rented\"],[\"84\",\"shelter_costs_owned\"],[\"84\",\"average_house_value\"],[\"84\",\"other_house\"],[\"84\",\"apartment_five_storeys_less\"],[\"84\",\"duplex\"],[\"84\",\"row_house\"],[\"84\",\"semi_detached_house\"],[\"84\",\"movable_dwelling\"],[\"84\",\"apartment_five_storeys_plus\"],[\"84\",\"single_detached_house\"],[\"84\",\"year\"],[\"85\",\"shelter_costs_rented\"],[\"85\",\"shelter_costs_owned\"],[\"85\",\"average_house_value\"],[\"85\",\"other_house\"],[\"85\",\"apartment_five_storeys_less\"],[\"85\",\"duplex\"],[\"85\",\"row_house\"],[\"85\",\"semi_detached_house\"],[\"85\",\"movable_dwelling\"],[\"85\",\"apartment_five_storeys_plus\"],[\"85\",\"single_detached_house\"],[\"85\",\"year\"],[\"86\",\"shelter_costs_rented\"],[\"86\",\"shelter_costs_owned\"],[\"86\",\"average_house_value\"],[\"86\",\"other_house\"],[\"86\",\"apartment_five_storeys_less\"],[\"86\",\"duplex\"],[\"86\",\"row_house\"],[\"86\",\"semi_detached_house\"],[\"86\",\"movable_dwelling\"],[\"86\",\"apartment_five_storeys_plus\"],[\"86\",\"single_detached_house\"],[\"86\",\"year\"],[\"87\",\"shelter_costs_rented\"],[\"87\",\"shelter_costs_owned\"],[\"87\",\"average_house_value\"],[\"87\",\"other_house\"],[\"87\",\"apartment_five_storeys_less\"],[\"87\",\"duplex\"],[\"87\",\"row_house\"],[\"87\",\"semi_detached_house\"],[\"87\",\"movable_dwelling\"],[\"87\",\"apartment_five_storeys_plus\"],[\"87\",\"single_detached_house\"],[\"87\",\"year\"],[\"88\",\"shelter_costs_rented\"],[\"88\",\"shelter_costs_owned\"],[\"88\",\"average_house_value\"],[\"88\",\"other_house\"],[\"88\",\"apartment_five_storeys_less\"],[\"88\",\"duplex\"],[\"88\",\"row_house\"],[\"88\",\"semi_detached_house\"],[\"88\",\"movable_dwelling\"],[\"88\",\"apartment_five_storeys_plus\"],[\"88\",\"single_detached_house\"],[\"88\",\"year\"],[\"89\",\"shelter_costs_rented\"],[\"89\",\"shelter_costs_owned\"],[\"89\",\"average_house_value\"],[\"89\",\"other_house\"],[\"89\",\"apartment_five_storeys_less\"],[\"89\",\"duplex\"],[\"89\",\"row_house\"],[\"89\",\"semi_detached_house\"],[\"89\",\"movable_dwelling\"],[\"89\",\"apartment_five_storeys_plus\"],[\"89\",\"single_detached_house\"],[\"89\",\"year\"],[\"90\",\"shelter_costs_rented\"],[\"90\",\"shelter_costs_owned\"],[\"90\",\"average_house_value\"],[\"90\",\"other_house\"],[\"90\",\"apartment_five_storeys_less\"],[\"90\",\"duplex\"],[\"90\",\"row_house\"],[\"90\",\"semi_detached_house\"],[\"90\",\"movable_dwelling\"],[\"90\",\"apartment_five_storeys_plus\"],[\"90\",\"single_detached_house\"],[\"90\",\"year\"],[\"91\",\"shelter_costs_rented\"],[\"91\",\"shelter_costs_owned\"],[\"91\",\"average_house_value\"],[\"91\",\"other_house\"],[\"91\",\"apartment_five_storeys_less\"],[\"91\",\"duplex\"],[\"91\",\"row_house\"],[\"91\",\"semi_detached_house\"],[\"91\",\"movable_dwelling\"],[\"91\",\"apartment_five_storeys_plus\"],[\"91\",\"single_detached_house\"],[\"91\",\"year\"],[\"92\",\"shelter_costs_rented\"],[\"92\",\"shelter_costs_owned\"],[\"92\",\"average_house_value\"],[\"92\",\"other_house\"],[\"92\",\"apartment_five_storeys_less\"],[\"92\",\"duplex\"],[\"92\",\"row_house\"],[\"92\",\"semi_detached_house\"],[\"92\",\"movable_dwelling\"],[\"92\",\"apartment_five_storeys_plus\"],[\"92\",\"single_detached_house\"],[\"92\",\"year\"],[\"93\",\"shelter_costs_rented\"],[\"93\",\"shelter_costs_owned\"],[\"93\",\"average_house_value\"],[\"93\",\"other_house\"],[\"93\",\"apartment_five_storeys_less\"],[\"93\",\"duplex\"],[\"93\",\"row_house\"],[\"93\",\"semi_detached_house\"],[\"93\",\"movable_dwelling\"],[\"93\",\"apartment_five_storeys_plus\"],[\"93\",\"single_detached_house\"],[\"93\",\"year\"],[\"94\",\"shelter_costs_rented\"],[\"94\",\"shelter_costs_owned\"],[\"94\",\"average_house_value\"],[\"94\",\"other_house\"],[\"94\",\"apartment_five_storeys_less\"],[\"94\",\"duplex\"],[\"94\",\"row_house\"],[\"94\",\"semi_detached_house\"],[\"94\",\"movable_dwelling\"],[\"94\",\"apartment_five_storeys_plus\"],[\"94\",\"single_detached_house\"],[\"94\",\"year\"],[\"95\",\"shelter_costs_rented\"],[\"95\",\"shelter_costs_owned\"],[\"95\",\"average_house_value\"],[\"95\",\"other_house\"],[\"95\",\"apartment_five_storeys_less\"],[\"95\",\"duplex\"],[\"95\",\"row_house\"],[\"95\",\"semi_detached_house\"],[\"95\",\"movable_dwelling\"],[\"95\",\"apartment_five_storeys_plus\"],[\"95\",\"single_detached_house\"],[\"95\",\"year\"],[\"96\",\"shelter_costs_rented\"],[\"96\",\"shelter_costs_owned\"],[\"96\",\"average_house_value\"],[\"96\",\"other_house\"],[\"96\",\"apartment_five_storeys_less\"],[\"96\",\"duplex\"],[\"96\",\"row_house\"],[\"96\",\"semi_detached_house\"],[\"96\",\"movable_dwelling\"],[\"96\",\"apartment_five_storeys_plus\"],[\"96\",\"single_detached_house\"],[\"96\",\"year\"],[\"97\",\"shelter_costs_rented\"],[\"97\",\"shelter_costs_owned\"],[\"97\",\"average_house_value\"],[\"97\",\"other_house\"],[\"97\",\"apartment_five_storeys_less\"],[\"97\",\"duplex\"],[\"97\",\"row_house\"],[\"97\",\"semi_detached_house\"],[\"97\",\"movable_dwelling\"],[\"97\",\"apartment_five_storeys_plus\"],[\"97\",\"single_detached_house\"],[\"97\",\"year\"],[\"98\",\"shelter_costs_rented\"],[\"98\",\"shelter_costs_owned\"],[\"98\",\"average_house_value\"],[\"98\",\"other_house\"],[\"98\",\"apartment_five_storeys_less\"],[\"98\",\"duplex\"],[\"98\",\"row_house\"],[\"98\",\"semi_detached_house\"],[\"98\",\"movable_dwelling\"],[\"98\",\"apartment_five_storeys_plus\"],[\"98\",\"single_detached_house\"],[\"98\",\"year\"],[\"99\",\"shelter_costs_rented\"],[\"99\",\"shelter_costs_owned\"],[\"99\",\"average_house_value\"],[\"99\",\"other_house\"],[\"99\",\"apartment_five_storeys_less\"],[\"99\",\"duplex\"],[\"99\",\"row_house\"],[\"99\",\"semi_detached_house\"],[\"99\",\"movable_dwelling\"],[\"99\",\"apartment_five_storeys_plus\"],[\"99\",\"single_detached_house\"],[\"99\",\"year\"],[\"100\",\"shelter_costs_rented\"],[\"100\",\"shelter_costs_owned\"],[\"100\",\"average_house_value\"],[\"100\",\"other_house\"],[\"100\",\"apartment_five_storeys_less\"],[\"100\",\"duplex\"],[\"100\",\"row_house\"],[\"100\",\"semi_detached_house\"],[\"100\",\"movable_dwelling\"],[\"100\",\"apartment_five_storeys_plus\"],[\"100\",\"single_detached_house\"],[\"100\",\"year\"],[\"101\",\"shelter_costs_rented\"],[\"101\",\"shelter_costs_owned\"],[\"101\",\"average_house_value\"],[\"101\",\"other_house\"],[\"101\",\"apartment_five_storeys_less\"],[\"101\",\"duplex\"],[\"101\",\"row_house\"],[\"101\",\"semi_detached_house\"],[\"101\",\"movable_dwelling\"],[\"101\",\"apartment_five_storeys_plus\"],[\"101\",\"single_detached_house\"],[\"101\",\"year\"],[\"102\",\"shelter_costs_rented\"],[\"102\",\"shelter_costs_owned\"],[\"102\",\"average_house_value\"],[\"102\",\"other_house\"],[\"102\",\"apartment_five_storeys_less\"],[\"102\",\"duplex\"],[\"102\",\"row_house\"],[\"102\",\"semi_detached_house\"],[\"102\",\"movable_dwelling\"],[\"102\",\"apartment_five_storeys_plus\"],[\"102\",\"single_detached_house\"],[\"102\",\"year\"],[\"103\",\"shelter_costs_rented\"],[\"103\",\"shelter_costs_owned\"],[\"103\",\"average_house_value\"],[\"103\",\"other_house\"],[\"103\",\"apartment_five_storeys_less\"],[\"103\",\"duplex\"],[\"103\",\"row_house\"],[\"103\",\"semi_detached_house\"],[\"103\",\"movable_dwelling\"],[\"103\",\"apartment_five_storeys_plus\"],[\"103\",\"single_detached_house\"],[\"103\",\"year\"],[\"104\",\"shelter_costs_rented\"],[\"104\",\"shelter_costs_owned\"],[\"104\",\"average_house_value\"],[\"104\",\"other_house\"],[\"104\",\"apartment_five_storeys_less\"],[\"104\",\"duplex\"],[\"104\",\"row_house\"],[\"104\",\"semi_detached_house\"],[\"104\",\"movable_dwelling\"],[\"104\",\"apartment_five_storeys_plus\"],[\"104\",\"single_detached_house\"],[\"104\",\"year\"],[\"105\",\"shelter_costs_rented\"],[\"105\",\"shelter_costs_owned\"],[\"105\",\"average_house_value\"],[\"105\",\"other_house\"],[\"105\",\"apartment_five_storeys_less\"],[\"105\",\"duplex\"],[\"105\",\"row_house\"],[\"105\",\"semi_detached_house\"],[\"105\",\"movable_dwelling\"],[\"105\",\"apartment_five_storeys_plus\"],[\"105\",\"single_detached_house\"],[\"105\",\"year\"],[\"106\",\"shelter_costs_rented\"],[\"106\",\"shelter_costs_owned\"],[\"106\",\"average_house_value\"],[\"106\",\"other_house\"],[\"106\",\"apartment_five_storeys_less\"],[\"106\",\"duplex\"],[\"106\",\"row_house\"],[\"106\",\"semi_detached_house\"],[\"106\",\"movable_dwelling\"],[\"106\",\"apartment_five_storeys_plus\"],[\"106\",\"single_detached_house\"],[\"106\",\"year\"],[\"107\",\"shelter_costs_rented\"],[\"107\",\"shelter_costs_owned\"],[\"107\",\"average_house_value\"],[\"107\",\"other_house\"],[\"107\",\"apartment_five_storeys_less\"],[\"107\",\"duplex\"],[\"107\",\"row_house\"],[\"107\",\"semi_detached_house\"],[\"107\",\"movable_dwelling\"],[\"107\",\"apartment_five_storeys_plus\"],[\"107\",\"single_detached_house\"],[\"107\",\"year\"],[\"108\",\"shelter_costs_rented\"],[\"108\",\"shelter_costs_owned\"],[\"108\",\"average_house_value\"],[\"108\",\"other_house\"],[\"108\",\"apartment_five_storeys_less\"],[\"108\",\"duplex\"],[\"108\",\"row_house\"],[\"108\",\"semi_detached_house\"],[\"108\",\"movable_dwelling\"],[\"108\",\"apartment_five_storeys_plus\"],[\"108\",\"single_detached_house\"],[\"108\",\"year\"],[\"109\",\"shelter_costs_rented\"],[\"109\",\"shelter_costs_owned\"],[\"109\",\"average_house_value\"],[\"109\",\"other_house\"],[\"109\",\"apartment_five_storeys_less\"],[\"109\",\"duplex\"],[\"109\",\"row_house\"],[\"109\",\"semi_detached_house\"],[\"109\",\"movable_dwelling\"],[\"109\",\"apartment_five_storeys_plus\"],[\"109\",\"single_detached_house\"],[\"109\",\"year\"],[\"110\",\"shelter_costs_rented\"],[\"110\",\"shelter_costs_owned\"],[\"110\",\"average_house_value\"],[\"110\",\"other_house\"],[\"110\",\"apartment_five_storeys_less\"],[\"110\",\"duplex\"],[\"110\",\"row_house\"],[\"110\",\"semi_detached_house\"],[\"110\",\"movable_dwelling\"],[\"110\",\"apartment_five_storeys_plus\"],[\"110\",\"single_detached_house\"],[\"110\",\"year\"],[\"111\",\"shelter_costs_rented\"],[\"111\",\"shelter_costs_owned\"],[\"111\",\"average_house_value\"],[\"111\",\"other_house\"],[\"111\",\"apartment_five_storeys_less\"],[\"111\",\"duplex\"],[\"111\",\"row_house\"],[\"111\",\"semi_detached_house\"],[\"111\",\"movable_dwelling\"],[\"111\",\"apartment_five_storeys_plus\"],[\"111\",\"single_detached_house\"],[\"111\",\"year\"],[\"112\",\"shelter_costs_rented\"],[\"112\",\"shelter_costs_owned\"],[\"112\",\"average_house_value\"],[\"112\",\"other_house\"],[\"112\",\"apartment_five_storeys_less\"],[\"112\",\"duplex\"],[\"112\",\"row_house\"],[\"112\",\"semi_detached_house\"],[\"112\",\"movable_dwelling\"],[\"112\",\"apartment_five_storeys_plus\"],[\"112\",\"single_detached_house\"],[\"112\",\"year\"],[\"113\",\"shelter_costs_rented\"],[\"113\",\"shelter_costs_owned\"],[\"113\",\"average_house_value\"],[\"113\",\"other_house\"],[\"113\",\"apartment_five_storeys_less\"],[\"113\",\"duplex\"],[\"113\",\"row_house\"],[\"113\",\"semi_detached_house\"],[\"113\",\"movable_dwelling\"],[\"113\",\"apartment_five_storeys_plus\"],[\"113\",\"single_detached_house\"],[\"113\",\"year\"],[\"114\",\"shelter_costs_rented\"],[\"114\",\"shelter_costs_owned\"],[\"114\",\"average_house_value\"],[\"114\",\"other_house\"],[\"114\",\"apartment_five_storeys_less\"],[\"114\",\"duplex\"],[\"114\",\"row_house\"],[\"114\",\"semi_detached_house\"],[\"114\",\"movable_dwelling\"],[\"114\",\"apartment_five_storeys_plus\"],[\"114\",\"single_detached_house\"],[\"114\",\"year\"],[\"115\",\"shelter_costs_rented\"],[\"115\",\"shelter_costs_owned\"],[\"115\",\"average_house_value\"],[\"115\",\"other_house\"],[\"115\",\"apartment_five_storeys_less\"],[\"115\",\"duplex\"],[\"115\",\"row_house\"],[\"115\",\"semi_detached_house\"],[\"115\",\"movable_dwelling\"],[\"115\",\"apartment_five_storeys_plus\"],[\"115\",\"single_detached_house\"],[\"115\",\"year\"],[\"116\",\"shelter_costs_rented\"],[\"116\",\"shelter_costs_owned\"],[\"116\",\"average_house_value\"],[\"116\",\"other_house\"],[\"116\",\"apartment_five_storeys_less\"],[\"116\",\"duplex\"],[\"116\",\"row_house\"],[\"116\",\"semi_detached_house\"],[\"116\",\"movable_dwelling\"],[\"116\",\"apartment_five_storeys_plus\"],[\"116\",\"single_detached_house\"],[\"116\",\"year\"],[\"117\",\"shelter_costs_rented\"],[\"117\",\"shelter_costs_owned\"],[\"117\",\"average_house_value\"],[\"117\",\"other_house\"],[\"117\",\"apartment_five_storeys_less\"],[\"117\",\"duplex\"],[\"117\",\"row_house\"],[\"117\",\"semi_detached_house\"],[\"117\",\"movable_dwelling\"],[\"117\",\"apartment_five_storeys_plus\"],[\"117\",\"single_detached_house\"],[\"117\",\"year\"],[\"118\",\"shelter_costs_rented\"],[\"118\",\"shelter_costs_owned\"],[\"118\",\"average_house_value\"],[\"118\",\"other_house\"],[\"118\",\"apartment_five_storeys_less\"],[\"118\",\"duplex\"],[\"118\",\"row_house\"],[\"118\",\"semi_detached_house\"],[\"118\",\"movable_dwelling\"],[\"118\",\"apartment_five_storeys_plus\"],[\"118\",\"single_detached_house\"],[\"118\",\"year\"],[\"119\",\"shelter_costs_rented\"],[\"119\",\"shelter_costs_owned\"],[\"119\",\"average_house_value\"],[\"119\",\"other_house\"],[\"119\",\"apartment_five_storeys_less\"],[\"119\",\"duplex\"],[\"119\",\"row_house\"],[\"119\",\"semi_detached_house\"],[\"119\",\"movable_dwelling\"],[\"119\",\"apartment_five_storeys_plus\"],[\"119\",\"single_detached_house\"],[\"119\",\"year\"],[\"120\",\"shelter_costs_rented\"],[\"120\",\"shelter_costs_owned\"],[\"120\",\"average_house_value\"],[\"120\",\"other_house\"],[\"120\",\"apartment_five_storeys_less\"],[\"120\",\"duplex\"],[\"120\",\"row_house\"],[\"120\",\"semi_detached_house\"],[\"120\",\"movable_dwelling\"],[\"120\",\"apartment_five_storeys_plus\"],[\"120\",\"single_detached_house\"],[\"120\",\"year\"],[\"121\",\"shelter_costs_rented\"],[\"121\",\"shelter_costs_owned\"],[\"121\",\"average_house_value\"],[\"121\",\"other_house\"],[\"121\",\"apartment_five_storeys_less\"],[\"121\",\"duplex\"],[\"121\",\"row_house\"],[\"121\",\"semi_detached_house\"],[\"121\",\"movable_dwelling\"],[\"121\",\"apartment_five_storeys_plus\"],[\"121\",\"single_detached_house\"],[\"121\",\"year\"],[\"122\",\"shelter_costs_rented\"],[\"122\",\"shelter_costs_owned\"],[\"122\",\"average_house_value\"],[\"122\",\"other_house\"],[\"122\",\"apartment_five_storeys_less\"],[\"122\",\"duplex\"],[\"122\",\"row_house\"],[\"122\",\"semi_detached_house\"],[\"122\",\"movable_dwelling\"],[\"122\",\"apartment_five_storeys_plus\"],[\"122\",\"single_detached_house\"],[\"122\",\"year\"],[\"123\",\"shelter_costs_rented\"],[\"123\",\"shelter_costs_owned\"],[\"123\",\"average_house_value\"],[\"123\",\"other_house\"],[\"123\",\"apartment_five_storeys_less\"],[\"123\",\"duplex\"],[\"123\",\"row_house\"],[\"123\",\"semi_detached_house\"],[\"123\",\"movable_dwelling\"],[\"123\",\"apartment_five_storeys_plus\"],[\"123\",\"single_detached_house\"],[\"123\",\"year\"],[\"124\",\"shelter_costs_rented\"],[\"124\",\"shelter_costs_owned\"],[\"124\",\"average_house_value\"],[\"124\",\"other_house\"],[\"124\",\"apartment_five_storeys_less\"],[\"124\",\"duplex\"],[\"124\",\"row_house\"],[\"124\",\"semi_detached_house\"],[\"124\",\"movable_dwelling\"],[\"124\",\"apartment_five_storeys_plus\"],[\"124\",\"single_detached_house\"],[\"124\",\"year\"],[\"125\",\"shelter_costs_rented\"],[\"125\",\"shelter_costs_owned\"],[\"125\",\"average_house_value\"],[\"125\",\"other_house\"],[\"125\",\"apartment_five_storeys_less\"],[\"125\",\"duplex\"],[\"125\",\"row_house\"],[\"125\",\"semi_detached_house\"],[\"125\",\"movable_dwelling\"],[\"125\",\"apartment_five_storeys_plus\"],[\"125\",\"single_detached_house\"],[\"125\",\"year\"],[\"126\",\"shelter_costs_rented\"],[\"126\",\"shelter_costs_owned\"],[\"126\",\"average_house_value\"],[\"126\",\"other_house\"],[\"126\",\"apartment_five_storeys_less\"],[\"126\",\"duplex\"],[\"126\",\"row_house\"],[\"126\",\"semi_detached_house\"],[\"126\",\"movable_dwelling\"],[\"126\",\"apartment_five_storeys_plus\"],[\"126\",\"single_detached_house\"],[\"126\",\"year\"],[\"127\",\"shelter_costs_rented\"],[\"127\",\"shelter_costs_owned\"],[\"127\",\"average_house_value\"],[\"127\",\"other_house\"],[\"127\",\"apartment_five_storeys_less\"],[\"127\",\"duplex\"],[\"127\",\"row_house\"],[\"127\",\"semi_detached_house\"],[\"127\",\"movable_dwelling\"],[\"127\",\"apartment_five_storeys_plus\"],[\"127\",\"single_detached_house\"],[\"127\",\"year\"],[\"128\",\"shelter_costs_rented\"],[\"128\",\"shelter_costs_owned\"],[\"128\",\"average_house_value\"],[\"128\",\"other_house\"],[\"128\",\"apartment_five_storeys_less\"],[\"128\",\"duplex\"],[\"128\",\"row_house\"],[\"128\",\"semi_detached_house\"],[\"128\",\"movable_dwelling\"],[\"128\",\"apartment_five_storeys_plus\"],[\"128\",\"single_detached_house\"],[\"128\",\"year\"],[\"129\",\"shelter_costs_rented\"],[\"129\",\"shelter_costs_owned\"],[\"129\",\"average_house_value\"],[\"129\",\"other_house\"],[\"129\",\"apartment_five_storeys_less\"],[\"129\",\"duplex\"],[\"129\",\"row_house\"],[\"129\",\"semi_detached_house\"],[\"129\",\"movable_dwelling\"],[\"129\",\"apartment_five_storeys_plus\"],[\"129\",\"single_detached_house\"],[\"129\",\"year\"],[\"130\",\"shelter_costs_rented\"],[\"130\",\"shelter_costs_owned\"],[\"130\",\"average_house_value\"],[\"130\",\"other_house\"],[\"130\",\"apartment_five_storeys_less\"],[\"130\",\"duplex\"],[\"130\",\"row_house\"],[\"130\",\"semi_detached_house\"],[\"130\",\"movable_dwelling\"],[\"130\",\"apartment_five_storeys_plus\"],[\"130\",\"single_detached_house\"],[\"130\",\"year\"],[\"131\",\"shelter_costs_rented\"],[\"131\",\"shelter_costs_owned\"],[\"131\",\"average_house_value\"],[\"131\",\"other_house\"],[\"131\",\"apartment_five_storeys_less\"],[\"131\",\"duplex\"],[\"131\",\"row_house\"],[\"131\",\"semi_detached_house\"],[\"131\",\"movable_dwelling\"],[\"131\",\"apartment_five_storeys_plus\"],[\"131\",\"single_detached_house\"],[\"131\",\"year\"],[\"132\",\"shelter_costs_rented\"],[\"132\",\"shelter_costs_owned\"],[\"132\",\"average_house_value\"],[\"132\",\"other_house\"],[\"132\",\"apartment_five_storeys_less\"],[\"132\",\"duplex\"],[\"132\",\"row_house\"],[\"132\",\"semi_detached_house\"],[\"132\",\"movable_dwelling\"],[\"132\",\"apartment_five_storeys_plus\"],[\"132\",\"single_detached_house\"],[\"132\",\"year\"],[\"133\",\"shelter_costs_rented\"],[\"133\",\"shelter_costs_owned\"],[\"133\",\"average_house_value\"],[\"133\",\"other_house\"],[\"133\",\"apartment_five_storeys_less\"],[\"133\",\"duplex\"],[\"133\",\"row_house\"],[\"133\",\"semi_detached_house\"],[\"133\",\"movable_dwelling\"],[\"133\",\"apartment_five_storeys_plus\"],[\"133\",\"single_detached_house\"],[\"133\",\"year\"],[\"134\",\"shelter_costs_rented\"],[\"134\",\"shelter_costs_owned\"],[\"134\",\"average_house_value\"],[\"134\",\"other_house\"],[\"134\",\"apartment_five_storeys_less\"],[\"134\",\"duplex\"],[\"134\",\"row_house\"],[\"134\",\"semi_detached_house\"],[\"134\",\"movable_dwelling\"],[\"134\",\"apartment_five_storeys_plus\"],[\"134\",\"single_detached_house\"],[\"134\",\"year\"],[\"135\",\"shelter_costs_rented\"],[\"135\",\"shelter_costs_owned\"],[\"135\",\"average_house_value\"],[\"135\",\"other_house\"],[\"135\",\"apartment_five_storeys_less\"],[\"135\",\"duplex\"],[\"135\",\"row_house\"],[\"135\",\"semi_detached_house\"],[\"135\",\"movable_dwelling\"],[\"135\",\"apartment_five_storeys_plus\"],[\"135\",\"single_detached_house\"],[\"135\",\"year\"],[\"136\",\"shelter_costs_rented\"],[\"136\",\"shelter_costs_owned\"],[\"136\",\"average_house_value\"],[\"136\",\"other_house\"],[\"136\",\"apartment_five_storeys_less\"],[\"136\",\"duplex\"],[\"136\",\"row_house\"],[\"136\",\"semi_detached_house\"],[\"136\",\"movable_dwelling\"],[\"136\",\"apartment_five_storeys_plus\"],[\"136\",\"single_detached_house\"],[\"136\",\"year\"],[\"137\",\"shelter_costs_rented\"],[\"137\",\"shelter_costs_owned\"],[\"137\",\"average_house_value\"],[\"137\",\"other_house\"],[\"137\",\"apartment_five_storeys_less\"],[\"137\",\"duplex\"],[\"137\",\"row_house\"],[\"137\",\"semi_detached_house\"],[\"137\",\"movable_dwelling\"],[\"137\",\"apartment_five_storeys_plus\"],[\"137\",\"single_detached_house\"],[\"137\",\"year\"],[\"138\",\"shelter_costs_rented\"],[\"138\",\"shelter_costs_owned\"],[\"138\",\"average_house_value\"],[\"138\",\"other_house\"],[\"138\",\"apartment_five_storeys_less\"],[\"138\",\"duplex\"],[\"138\",\"row_house\"],[\"138\",\"semi_detached_house\"],[\"138\",\"movable_dwelling\"],[\"138\",\"apartment_five_storeys_plus\"],[\"138\",\"single_detached_house\"],[\"138\",\"year\"],[\"139\",\"shelter_costs_rented\"],[\"139\",\"shelter_costs_owned\"],[\"139\",\"average_house_value\"],[\"139\",\"other_house\"],[\"139\",\"apartment_five_storeys_less\"],[\"139\",\"duplex\"],[\"139\",\"row_house\"],[\"139\",\"semi_detached_house\"],[\"139\",\"movable_dwelling\"],[\"139\",\"apartment_five_storeys_plus\"],[\"139\",\"single_detached_house\"],[\"139\",\"year\"],[\"140\",\"shelter_costs_rented\"],[\"140\",\"shelter_costs_owned\"],[\"140\",\"average_house_value\"],[\"140\",\"other_house\"],[\"140\",\"apartment_five_storeys_less\"],[\"140\",\"duplex\"],[\"140\",\"row_house\"],[\"140\",\"semi_detached_house\"],[\"140\",\"movable_dwelling\"],[\"140\",\"apartment_five_storeys_plus\"],[\"140\",\"single_detached_house\"],[\"140\",\"year\"],[\"141\",\"shelter_costs_rented\"],[\"141\",\"shelter_costs_owned\"],[\"141\",\"average_house_value\"],[\"141\",\"other_house\"],[\"141\",\"apartment_five_storeys_less\"],[\"141\",\"duplex\"],[\"141\",\"row_house\"],[\"141\",\"semi_detached_house\"],[\"141\",\"movable_dwelling\"],[\"141\",\"apartment_five_storeys_plus\"],[\"141\",\"single_detached_house\"],[\"141\",\"year\"],[\"142\",\"shelter_costs_rented\"],[\"142\",\"shelter_costs_owned\"],[\"142\",\"average_house_value\"],[\"142\",\"other_house\"],[\"142\",\"apartment_five_storeys_less\"],[\"142\",\"duplex\"],[\"142\",\"row_house\"],[\"142\",\"semi_detached_house\"],[\"142\",\"movable_dwelling\"],[\"142\",\"apartment_five_storeys_plus\"],[\"142\",\"single_detached_house\"],[\"142\",\"year\"],[\"143\",\"shelter_costs_rented\"],[\"143\",\"shelter_costs_owned\"],[\"143\",\"average_house_value\"],[\"143\",\"other_house\"],[\"143\",\"apartment_five_storeys_less\"],[\"143\",\"duplex\"],[\"143\",\"row_house\"],[\"143\",\"semi_detached_house\"],[\"143\",\"movable_dwelling\"],[\"143\",\"apartment_five_storeys_plus\"],[\"143\",\"single_detached_house\"],[\"143\",\"year\"],[\"144\",\"shelter_costs_rented\"],[\"144\",\"shelter_costs_owned\"],[\"144\",\"average_house_value\"],[\"144\",\"other_house\"],[\"144\",\"apartment_five_storeys_less\"],[\"144\",\"duplex\"],[\"144\",\"row_house\"],[\"144\",\"semi_detached_house\"],[\"144\",\"movable_dwelling\"],[\"144\",\"apartment_five_storeys_plus\"],[\"144\",\"single_detached_house\"],[\"144\",\"year\"],[\"145\",\"shelter_costs_rented\"],[\"145\",\"shelter_costs_owned\"],[\"145\",\"average_house_value\"],[\"145\",\"other_house\"],[\"145\",\"apartment_five_storeys_less\"],[\"145\",\"duplex\"],[\"145\",\"row_house\"],[\"145\",\"semi_detached_house\"],[\"145\",\"movable_dwelling\"],[\"145\",\"apartment_five_storeys_plus\"],[\"145\",\"single_detached_house\"],[\"145\",\"year\"],[\"146\",\"shelter_costs_rented\"],[\"146\",\"shelter_costs_owned\"],[\"146\",\"average_house_value\"],[\"146\",\"other_house\"],[\"146\",\"apartment_five_storeys_less\"],[\"146\",\"duplex\"],[\"146\",\"row_house\"],[\"146\",\"semi_detached_house\"],[\"146\",\"movable_dwelling\"],[\"146\",\"apartment_five_storeys_plus\"],[\"146\",\"single_detached_house\"],[\"146\",\"year\"],[\"147\",\"shelter_costs_rented\"],[\"147\",\"shelter_costs_owned\"],[\"147\",\"average_house_value\"],[\"147\",\"other_house\"],[\"147\",\"apartment_five_storeys_less\"],[\"147\",\"duplex\"],[\"147\",\"row_house\"],[\"147\",\"semi_detached_house\"],[\"147\",\"movable_dwelling\"],[\"147\",\"apartment_five_storeys_plus\"],[\"147\",\"single_detached_house\"],[\"147\",\"year\"],[\"148\",\"shelter_costs_rented\"],[\"148\",\"shelter_costs_owned\"],[\"148\",\"average_house_value\"],[\"148\",\"other_house\"],[\"148\",\"apartment_five_storeys_less\"],[\"148\",\"duplex\"],[\"148\",\"row_house\"],[\"148\",\"semi_detached_house\"],[\"148\",\"movable_dwelling\"],[\"148\",\"apartment_five_storeys_plus\"],[\"148\",\"single_detached_house\"],[\"148\",\"year\"],[\"149\",\"shelter_costs_rented\"],[\"149\",\"shelter_costs_owned\"],[\"149\",\"average_house_value\"],[\"149\",\"other_house\"],[\"149\",\"apartment_five_storeys_less\"],[\"149\",\"duplex\"],[\"149\",\"row_house\"],[\"149\",\"semi_detached_house\"],[\"149\",\"movable_dwelling\"],[\"149\",\"apartment_five_storeys_plus\"],[\"149\",\"single_detached_house\"],[\"149\",\"year\"],[\"150\",\"shelter_costs_rented\"],[\"150\",\"shelter_costs_owned\"],[\"150\",\"average_house_value\"],[\"150\",\"other_house\"],[\"150\",\"apartment_five_storeys_less\"],[\"150\",\"duplex\"],[\"150\",\"row_house\"],[\"150\",\"semi_detached_house\"],[\"150\",\"movable_dwelling\"],[\"150\",\"apartment_five_storeys_plus\"],[\"150\",\"single_detached_house\"],[\"150\",\"year\"],[\"151\",\"shelter_costs_rented\"],[\"151\",\"shelter_costs_owned\"],[\"151\",\"average_house_value\"],[\"151\",\"other_house\"],[\"151\",\"apartment_five_storeys_less\"],[\"151\",\"duplex\"],[\"151\",\"row_house\"],[\"151\",\"semi_detached_house\"],[\"151\",\"movable_dwelling\"],[\"151\",\"apartment_five_storeys_plus\"],[\"151\",\"single_detached_house\"],[\"151\",\"year\"],[\"152\",\"shelter_costs_rented\"],[\"152\",\"shelter_costs_owned\"],[\"152\",\"average_house_value\"],[\"152\",\"other_house\"],[\"152\",\"apartment_five_storeys_less\"],[\"152\",\"duplex\"],[\"152\",\"row_house\"],[\"152\",\"semi_detached_house\"],[\"152\",\"movable_dwelling\"],[\"152\",\"apartment_five_storeys_plus\"],[\"152\",\"single_detached_house\"],[\"152\",\"year\"],[\"153\",\"shelter_costs_rented\"],[\"153\",\"shelter_costs_owned\"],[\"153\",\"average_house_value\"],[\"153\",\"other_house\"],[\"153\",\"apartment_five_storeys_less\"],[\"153\",\"duplex\"],[\"153\",\"row_house\"],[\"153\",\"semi_detached_house\"],[\"153\",\"movable_dwelling\"],[\"153\",\"apartment_five_storeys_plus\"],[\"153\",\"single_detached_house\"],[\"153\",\"year\"],[\"154\",\"shelter_costs_rented\"],[\"154\",\"shelter_costs_owned\"],[\"154\",\"average_house_value\"],[\"154\",\"other_house\"],[\"154\",\"apartment_five_storeys_less\"],[\"154\",\"duplex\"],[\"154\",\"row_house\"],[\"154\",\"semi_detached_house\"],[\"154\",\"movable_dwelling\"],[\"154\",\"apartment_five_storeys_plus\"],[\"154\",\"single_detached_house\"],[\"154\",\"year\"],[\"155\",\"shelter_costs_rented\"],[\"155\",\"shelter_costs_owned\"],[\"155\",\"average_house_value\"],[\"155\",\"other_house\"],[\"155\",\"apartment_five_storeys_less\"],[\"155\",\"duplex\"],[\"155\",\"row_house\"],[\"155\",\"semi_detached_house\"],[\"155\",\"movable_dwelling\"],[\"155\",\"apartment_five_storeys_plus\"],[\"155\",\"single_detached_house\"],[\"155\",\"year\"],[\"156\",\"shelter_costs_rented\"],[\"156\",\"shelter_costs_owned\"],[\"156\",\"average_house_value\"],[\"156\",\"other_house\"],[\"156\",\"apartment_five_storeys_less\"],[\"156\",\"duplex\"],[\"156\",\"row_house\"],[\"156\",\"semi_detached_house\"],[\"156\",\"movable_dwelling\"],[\"156\",\"apartment_five_storeys_plus\"],[\"156\",\"single_detached_house\"],[\"156\",\"year\"],[\"157\",\"shelter_costs_rented\"],[\"157\",\"shelter_costs_owned\"],[\"157\",\"average_house_value\"],[\"157\",\"other_house\"],[\"157\",\"apartment_five_storeys_less\"],[\"157\",\"duplex\"],[\"157\",\"row_house\"],[\"157\",\"semi_detached_house\"],[\"157\",\"movable_dwelling\"],[\"157\",\"apartment_five_storeys_plus\"],[\"157\",\"single_detached_house\"],[\"157\",\"year\"],[\"158\",\"shelter_costs_rented\"],[\"158\",\"shelter_costs_owned\"],[\"158\",\"average_house_value\"],[\"158\",\"other_house\"],[\"158\",\"apartment_five_storeys_less\"],[\"158\",\"duplex\"],[\"158\",\"row_house\"],[\"158\",\"semi_detached_house\"],[\"158\",\"movable_dwelling\"],[\"158\",\"apartment_five_storeys_plus\"],[\"158\",\"single_detached_house\"],[\"158\",\"year\"],[\"159\",\"shelter_costs_rented\"],[\"159\",\"shelter_costs_owned\"],[\"159\",\"average_house_value\"],[\"159\",\"other_house\"],[\"159\",\"apartment_five_storeys_less\"],[\"159\",\"duplex\"],[\"159\",\"row_house\"],[\"159\",\"semi_detached_house\"],[\"159\",\"movable_dwelling\"],[\"159\",\"apartment_five_storeys_plus\"],[\"159\",\"single_detached_house\"],[\"159\",\"year\"],[\"160\",\"shelter_costs_rented\"],[\"160\",\"shelter_costs_owned\"],[\"160\",\"average_house_value\"],[\"160\",\"other_house\"],[\"160\",\"apartment_five_storeys_less\"],[\"160\",\"duplex\"],[\"160\",\"row_house\"],[\"160\",\"semi_detached_house\"],[\"160\",\"movable_dwelling\"],[\"160\",\"apartment_five_storeys_plus\"],[\"160\",\"single_detached_house\"],[\"160\",\"year\"],[\"161\",\"shelter_costs_rented\"],[\"161\",\"shelter_costs_owned\"],[\"161\",\"average_house_value\"],[\"161\",\"other_house\"],[\"161\",\"apartment_five_storeys_less\"],[\"161\",\"duplex\"],[\"161\",\"row_house\"],[\"161\",\"semi_detached_house\"],[\"161\",\"movable_dwelling\"],[\"161\",\"apartment_five_storeys_plus\"],[\"161\",\"single_detached_house\"],[\"161\",\"year\"],[\"162\",\"shelter_costs_rented\"],[\"162\",\"shelter_costs_owned\"],[\"162\",\"average_house_value\"],[\"162\",\"other_house\"],[\"162\",\"apartment_five_storeys_less\"],[\"162\",\"duplex\"],[\"162\",\"row_house\"],[\"162\",\"semi_detached_house\"],[\"162\",\"movable_dwelling\"],[\"162\",\"apartment_five_storeys_plus\"],[\"162\",\"single_detached_house\"],[\"162\",\"year\"],[\"163\",\"shelter_costs_rented\"],[\"163\",\"shelter_costs_owned\"],[\"163\",\"average_house_value\"],[\"163\",\"other_house\"],[\"163\",\"apartment_five_storeys_less\"],[\"163\",\"duplex\"],[\"163\",\"row_house\"],[\"163\",\"semi_detached_house\"],[\"163\",\"movable_dwelling\"],[\"163\",\"apartment_five_storeys_plus\"],[\"163\",\"single_detached_house\"],[\"163\",\"year\"],[\"164\",\"shelter_costs_rented\"],[\"164\",\"shelter_costs_owned\"],[\"164\",\"average_house_value\"],[\"164\",\"other_house\"],[\"164\",\"apartment_five_storeys_less\"],[\"164\",\"duplex\"],[\"164\",\"row_house\"],[\"164\",\"semi_detached_house\"],[\"164\",\"movable_dwelling\"],[\"164\",\"apartment_five_storeys_plus\"],[\"164\",\"single_detached_house\"],[\"164\",\"year\"],[\"165\",\"shelter_costs_rented\"],[\"165\",\"shelter_costs_owned\"],[\"165\",\"average_house_value\"],[\"165\",\"other_house\"],[\"165\",\"apartment_five_storeys_less\"],[\"165\",\"duplex\"],[\"165\",\"row_house\"],[\"165\",\"semi_detached_house\"],[\"165\",\"movable_dwelling\"],[\"165\",\"apartment_five_storeys_plus\"],[\"165\",\"single_detached_house\"],[\"165\",\"year\"],[\"166\",\"shelter_costs_rented\"],[\"166\",\"shelter_costs_owned\"],[\"166\",\"average_house_value\"],[\"166\",\"other_house\"],[\"166\",\"apartment_five_storeys_less\"],[\"166\",\"duplex\"],[\"166\",\"row_house\"],[\"166\",\"semi_detached_house\"],[\"166\",\"movable_dwelling\"],[\"166\",\"apartment_five_storeys_plus\"],[\"166\",\"single_detached_house\"],[\"166\",\"year\"],[\"167\",\"shelter_costs_rented\"],[\"167\",\"shelter_costs_owned\"],[\"167\",\"average_house_value\"],[\"167\",\"other_house\"],[\"167\",\"apartment_five_storeys_less\"],[\"167\",\"duplex\"],[\"167\",\"row_house\"],[\"167\",\"semi_detached_house\"],[\"167\",\"movable_dwelling\"],[\"167\",\"apartment_five_storeys_plus\"],[\"167\",\"single_detached_house\"],[\"167\",\"year\"],[\"168\",\"shelter_costs_rented\"],[\"168\",\"shelter_costs_owned\"],[\"168\",\"average_house_value\"],[\"168\",\"other_house\"],[\"168\",\"apartment_five_storeys_less\"],[\"168\",\"duplex\"],[\"168\",\"row_house\"],[\"168\",\"semi_detached_house\"],[\"168\",\"movable_dwelling\"],[\"168\",\"apartment_five_storeys_plus\"],[\"168\",\"single_detached_house\"],[\"168\",\"year\"],[\"169\",\"shelter_costs_rented\"],[\"169\",\"shelter_costs_owned\"],[\"169\",\"average_house_value\"],[\"169\",\"other_house\"],[\"169\",\"apartment_five_storeys_less\"],[\"169\",\"duplex\"],[\"169\",\"row_house\"],[\"169\",\"semi_detached_house\"],[\"169\",\"movable_dwelling\"],[\"169\",\"apartment_five_storeys_plus\"],[\"169\",\"single_detached_house\"],[\"169\",\"year\"],[\"170\",\"shelter_costs_rented\"],[\"170\",\"shelter_costs_owned\"],[\"170\",\"average_house_value\"],[\"170\",\"other_house\"],[\"170\",\"apartment_five_storeys_less\"],[\"170\",\"duplex\"],[\"170\",\"row_house\"],[\"170\",\"semi_detached_house\"],[\"170\",\"movable_dwelling\"],[\"170\",\"apartment_five_storeys_plus\"],[\"170\",\"single_detached_house\"],[\"170\",\"year\"],[\"171\",\"shelter_costs_rented\"],[\"171\",\"shelter_costs_owned\"],[\"171\",\"average_house_value\"],[\"171\",\"other_house\"],[\"171\",\"apartment_five_storeys_less\"],[\"171\",\"duplex\"],[\"171\",\"row_house\"],[\"171\",\"semi_detached_house\"],[\"171\",\"movable_dwelling\"],[\"171\",\"apartment_five_storeys_plus\"],[\"171\",\"single_detached_house\"],[\"171\",\"year\"],[\"172\",\"shelter_costs_rented\"],[\"172\",\"shelter_costs_owned\"],[\"172\",\"average_house_value\"],[\"172\",\"other_house\"],[\"172\",\"apartment_five_storeys_less\"],[\"172\",\"duplex\"],[\"172\",\"row_house\"],[\"172\",\"semi_detached_house\"],[\"172\",\"movable_dwelling\"],[\"172\",\"apartment_five_storeys_plus\"],[\"172\",\"single_detached_house\"],[\"172\",\"year\"],[\"173\",\"shelter_costs_rented\"],[\"173\",\"shelter_costs_owned\"],[\"173\",\"average_house_value\"],[\"173\",\"other_house\"],[\"173\",\"apartment_five_storeys_less\"],[\"173\",\"duplex\"],[\"173\",\"row_house\"],[\"173\",\"semi_detached_house\"],[\"173\",\"movable_dwelling\"],[\"173\",\"apartment_five_storeys_plus\"],[\"173\",\"single_detached_house\"],[\"173\",\"year\"],[\"174\",\"shelter_costs_rented\"],[\"174\",\"shelter_costs_owned\"],[\"174\",\"average_house_value\"],[\"174\",\"other_house\"],[\"174\",\"apartment_five_storeys_less\"],[\"174\",\"duplex\"],[\"174\",\"row_house\"],[\"174\",\"semi_detached_house\"],[\"174\",\"movable_dwelling\"],[\"174\",\"apartment_five_storeys_plus\"],[\"174\",\"single_detached_house\"],[\"174\",\"year\"],[\"175\",\"shelter_costs_rented\"],[\"175\",\"shelter_costs_owned\"],[\"175\",\"average_house_value\"],[\"175\",\"other_house\"],[\"175\",\"apartment_five_storeys_less\"],[\"175\",\"duplex\"],[\"175\",\"row_house\"],[\"175\",\"semi_detached_house\"],[\"175\",\"movable_dwelling\"],[\"175\",\"apartment_five_storeys_plus\"],[\"175\",\"single_detached_house\"],[\"175\",\"year\"],[\"176\",\"shelter_costs_rented\"],[\"176\",\"shelter_costs_owned\"],[\"176\",\"average_house_value\"],[\"176\",\"other_house\"],[\"176\",\"apartment_five_storeys_less\"],[\"176\",\"duplex\"],[\"176\",\"row_house\"],[\"176\",\"semi_detached_house\"],[\"176\",\"movable_dwelling\"],[\"176\",\"apartment_five_storeys_plus\"],[\"176\",\"single_detached_house\"],[\"176\",\"year\"],[\"177\",\"shelter_costs_rented\"],[\"177\",\"shelter_costs_owned\"],[\"177\",\"average_house_value\"],[\"177\",\"other_house\"],[\"177\",\"apartment_five_storeys_less\"],[\"177\",\"duplex\"],[\"177\",\"row_house\"],[\"177\",\"semi_detached_house\"],[\"177\",\"movable_dwelling\"],[\"177\",\"apartment_five_storeys_plus\"],[\"177\",\"single_detached_house\"],[\"177\",\"year\"],[\"178\",\"shelter_costs_rented\"],[\"178\",\"shelter_costs_owned\"],[\"178\",\"average_house_value\"],[\"178\",\"other_house\"],[\"178\",\"apartment_five_storeys_less\"],[\"178\",\"duplex\"],[\"178\",\"row_house\"],[\"178\",\"semi_detached_house\"],[\"178\",\"movable_dwelling\"],[\"178\",\"apartment_five_storeys_plus\"],[\"178\",\"single_detached_house\"],[\"178\",\"year\"],[\"179\",\"shelter_costs_rented\"],[\"179\",\"shelter_costs_owned\"],[\"179\",\"average_house_value\"],[\"179\",\"other_house\"],[\"179\",\"apartment_five_storeys_less\"],[\"179\",\"duplex\"],[\"179\",\"row_house\"],[\"179\",\"semi_detached_house\"],[\"179\",\"movable_dwelling\"],[\"179\",\"apartment_five_storeys_plus\"],[\"179\",\"single_detached_house\"],[\"179\",\"year\"],[\"180\",\"shelter_costs_rented\"],[\"180\",\"shelter_costs_owned\"],[\"180\",\"average_house_value\"],[\"180\",\"other_house\"],[\"180\",\"apartment_five_storeys_less\"],[\"180\",\"duplex\"],[\"180\",\"row_house\"],[\"180\",\"semi_detached_house\"],[\"180\",\"movable_dwelling\"],[\"180\",\"apartment_five_storeys_plus\"],[\"180\",\"single_detached_house\"],[\"180\",\"year\"],[\"181\",\"shelter_costs_rented\"],[\"181\",\"shelter_costs_owned\"],[\"181\",\"average_house_value\"],[\"181\",\"other_house\"],[\"181\",\"apartment_five_storeys_less\"],[\"181\",\"duplex\"],[\"181\",\"row_house\"],[\"181\",\"semi_detached_house\"],[\"181\",\"movable_dwelling\"],[\"181\",\"apartment_five_storeys_plus\"],[\"181\",\"single_detached_house\"],[\"181\",\"year\"],[\"182\",\"shelter_costs_rented\"],[\"182\",\"shelter_costs_owned\"],[\"182\",\"average_house_value\"],[\"182\",\"other_house\"],[\"182\",\"apartment_five_storeys_less\"],[\"182\",\"duplex\"],[\"182\",\"row_house\"],[\"182\",\"semi_detached_house\"],[\"182\",\"movable_dwelling\"],[\"182\",\"apartment_five_storeys_plus\"],[\"182\",\"single_detached_house\"],[\"182\",\"year\"],[\"183\",\"shelter_costs_rented\"],[\"183\",\"shelter_costs_owned\"],[\"183\",\"average_house_value\"],[\"183\",\"other_house\"],[\"183\",\"apartment_five_storeys_less\"],[\"183\",\"duplex\"],[\"183\",\"row_house\"],[\"183\",\"semi_detached_house\"],[\"183\",\"movable_dwelling\"],[\"183\",\"apartment_five_storeys_plus\"],[\"183\",\"single_detached_house\"],[\"183\",\"year\"],[\"184\",\"shelter_costs_rented\"],[\"184\",\"shelter_costs_owned\"],[\"184\",\"average_house_value\"],[\"184\",\"other_house\"],[\"184\",\"apartment_five_storeys_less\"],[\"184\",\"duplex\"],[\"184\",\"row_house\"],[\"184\",\"semi_detached_house\"],[\"184\",\"movable_dwelling\"],[\"184\",\"apartment_five_storeys_plus\"],[\"184\",\"single_detached_house\"],[\"184\",\"year\"],[\"185\",\"shelter_costs_rented\"],[\"185\",\"shelter_costs_owned\"],[\"185\",\"average_house_value\"],[\"185\",\"other_house\"],[\"185\",\"apartment_five_storeys_less\"],[\"185\",\"duplex\"],[\"185\",\"row_house\"],[\"185\",\"semi_detached_house\"],[\"185\",\"movable_dwelling\"],[\"185\",\"apartment_five_storeys_plus\"],[\"185\",\"single_detached_house\"],[\"185\",\"year\"],[\"186\",\"shelter_costs_rented\"],[\"186\",\"shelter_costs_owned\"],[\"186\",\"average_house_value\"],[\"186\",\"other_house\"],[\"186\",\"apartment_five_storeys_less\"],[\"186\",\"duplex\"],[\"186\",\"row_house\"],[\"186\",\"semi_detached_house\"],[\"186\",\"movable_dwelling\"],[\"186\",\"apartment_five_storeys_plus\"],[\"186\",\"single_detached_house\"],[\"186\",\"year\"],[\"187\",\"shelter_costs_rented\"],[\"187\",\"shelter_costs_owned\"],[\"187\",\"average_house_value\"],[\"187\",\"other_house\"],[\"187\",\"apartment_five_storeys_less\"],[\"187\",\"duplex\"],[\"187\",\"row_house\"],[\"187\",\"semi_detached_house\"],[\"187\",\"movable_dwelling\"],[\"187\",\"apartment_five_storeys_plus\"],[\"187\",\"single_detached_house\"],[\"187\",\"year\"],[\"188\",\"shelter_costs_rented\"],[\"188\",\"shelter_costs_owned\"],[\"188\",\"average_house_value\"],[\"188\",\"other_house\"],[\"188\",\"apartment_five_storeys_less\"],[\"188\",\"duplex\"],[\"188\",\"row_house\"],[\"188\",\"semi_detached_house\"],[\"188\",\"movable_dwelling\"],[\"188\",\"apartment_five_storeys_plus\"],[\"188\",\"single_detached_house\"],[\"188\",\"year\"],[\"189\",\"shelter_costs_rented\"],[\"189\",\"shelter_costs_owned\"],[\"189\",\"average_house_value\"],[\"189\",\"other_house\"],[\"189\",\"apartment_five_storeys_less\"],[\"189\",\"duplex\"],[\"189\",\"row_house\"],[\"189\",\"semi_detached_house\"],[\"189\",\"movable_dwelling\"],[\"189\",\"apartment_five_storeys_plus\"],[\"189\",\"single_detached_house\"],[\"189\",\"year\"],[\"190\",\"shelter_costs_rented\"],[\"190\",\"shelter_costs_owned\"],[\"190\",\"average_house_value\"],[\"190\",\"other_house\"],[\"190\",\"apartment_five_storeys_less\"],[\"190\",\"duplex\"],[\"190\",\"row_house\"],[\"190\",\"semi_detached_house\"],[\"190\",\"movable_dwelling\"],[\"190\",\"apartment_five_storeys_plus\"],[\"190\",\"single_detached_house\"],[\"190\",\"year\"],[\"191\",\"shelter_costs_rented\"],[\"191\",\"shelter_costs_owned\"],[\"191\",\"average_house_value\"],[\"191\",\"other_house\"],[\"191\",\"apartment_five_storeys_less\"],[\"191\",\"duplex\"],[\"191\",\"row_house\"],[\"191\",\"semi_detached_house\"],[\"191\",\"movable_dwelling\"],[\"191\",\"apartment_five_storeys_plus\"],[\"191\",\"single_detached_house\"],[\"191\",\"year\"],[\"192\",\"shelter_costs_rented\"],[\"192\",\"shelter_costs_owned\"],[\"192\",\"average_house_value\"],[\"192\",\"other_house\"],[\"192\",\"apartment_five_storeys_less\"],[\"192\",\"duplex\"],[\"192\",\"row_house\"],[\"192\",\"semi_detached_house\"],[\"192\",\"movable_dwelling\"],[\"192\",\"apartment_five_storeys_plus\"],[\"192\",\"single_detached_house\"],[\"192\",\"year\"],[\"193\",\"shelter_costs_rented\"],[\"193\",\"shelter_costs_owned\"],[\"193\",\"average_house_value\"],[\"193\",\"other_house\"],[\"193\",\"apartment_five_storeys_less\"],[\"193\",\"duplex\"],[\"193\",\"row_house\"],[\"193\",\"semi_detached_house\"],[\"193\",\"movable_dwelling\"],[\"193\",\"apartment_five_storeys_plus\"],[\"193\",\"single_detached_house\"],[\"193\",\"year\"],[\"194\",\"shelter_costs_rented\"],[\"194\",\"shelter_costs_owned\"],[\"194\",\"average_house_value\"],[\"194\",\"other_house\"],[\"194\",\"apartment_five_storeys_less\"],[\"194\",\"duplex\"],[\"194\",\"row_house\"],[\"194\",\"semi_detached_house\"],[\"194\",\"movable_dwelling\"],[\"194\",\"apartment_five_storeys_plus\"],[\"194\",\"single_detached_house\"],[\"194\",\"year\"],[\"195\",\"shelter_costs_rented\"],[\"195\",\"shelter_costs_owned\"],[\"195\",\"average_house_value\"],[\"195\",\"other_house\"],[\"195\",\"apartment_five_storeys_less\"],[\"195\",\"duplex\"],[\"195\",\"row_house\"],[\"195\",\"semi_detached_house\"],[\"195\",\"movable_dwelling\"],[\"195\",\"apartment_five_storeys_plus\"],[\"195\",\"single_detached_house\"],[\"195\",\"year\"],[\"196\",\"shelter_costs_rented\"],[\"196\",\"shelter_costs_owned\"],[\"196\",\"average_house_value\"],[\"196\",\"other_house\"],[\"196\",\"apartment_five_storeys_less\"],[\"196\",\"duplex\"],[\"196\",\"row_house\"],[\"196\",\"semi_detached_house\"],[\"196\",\"movable_dwelling\"],[\"196\",\"apartment_five_storeys_plus\"],[\"196\",\"single_detached_house\"],[\"196\",\"year\"],[\"197\",\"shelter_costs_rented\"],[\"197\",\"shelter_costs_owned\"],[\"197\",\"average_house_value\"],[\"197\",\"other_house\"],[\"197\",\"apartment_five_storeys_less\"],[\"197\",\"duplex\"],[\"197\",\"row_house\"],[\"197\",\"semi_detached_house\"],[\"197\",\"movable_dwelling\"],[\"197\",\"apartment_five_storeys_plus\"],[\"197\",\"single_detached_house\"],[\"197\",\"year\"],[\"198\",\"shelter_costs_rented\"],[\"198\",\"shelter_costs_owned\"],[\"198\",\"average_house_value\"],[\"198\",\"other_house\"],[\"198\",\"apartment_five_storeys_less\"],[\"198\",\"duplex\"],[\"198\",\"row_house\"],[\"198\",\"semi_detached_house\"],[\"198\",\"movable_dwelling\"],[\"198\",\"apartment_five_storeys_plus\"],[\"198\",\"single_detached_house\"],[\"198\",\"year\"],[\"199\",\"shelter_costs_rented\"],[\"199\",\"shelter_costs_owned\"],[\"199\",\"average_house_value\"],[\"199\",\"other_house\"],[\"199\",\"apartment_five_storeys_less\"],[\"199\",\"duplex\"],[\"199\",\"row_house\"],[\"199\",\"semi_detached_house\"],[\"199\",\"movable_dwelling\"],[\"199\",\"apartment_five_storeys_plus\"],[\"199\",\"single_detached_house\"],[\"199\",\"year\"],[\"200\",\"shelter_costs_rented\"],[\"200\",\"shelter_costs_owned\"],[\"200\",\"average_house_value\"],[\"200\",\"other_house\"],[\"200\",\"apartment_five_storeys_less\"],[\"200\",\"duplex\"],[\"200\",\"row_house\"],[\"200\",\"semi_detached_house\"],[\"200\",\"movable_dwelling\"],[\"200\",\"apartment_five_storeys_plus\"],[\"200\",\"single_detached_house\"],[\"200\",\"year\"],[\"201\",\"shelter_costs_rented\"],[\"201\",\"shelter_costs_owned\"],[\"201\",\"average_house_value\"],[\"201\",\"other_house\"],[\"201\",\"apartment_five_storeys_less\"],[\"201\",\"duplex\"],[\"201\",\"row_house\"],[\"201\",\"semi_detached_house\"],[\"201\",\"movable_dwelling\"],[\"201\",\"apartment_five_storeys_plus\"],[\"201\",\"single_detached_house\"],[\"201\",\"year\"],[\"202\",\"shelter_costs_rented\"],[\"202\",\"shelter_costs_owned\"],[\"202\",\"average_house_value\"],[\"202\",\"other_house\"],[\"202\",\"apartment_five_storeys_less\"],[\"202\",\"duplex\"],[\"202\",\"row_house\"],[\"202\",\"semi_detached_house\"],[\"202\",\"movable_dwelling\"],[\"202\",\"apartment_five_storeys_plus\"],[\"202\",\"single_detached_house\"],[\"202\",\"year\"],[\"203\",\"shelter_costs_rented\"],[\"203\",\"shelter_costs_owned\"],[\"203\",\"average_house_value\"],[\"203\",\"other_house\"],[\"203\",\"apartment_five_storeys_less\"],[\"203\",\"duplex\"],[\"203\",\"row_house\"],[\"203\",\"semi_detached_house\"],[\"203\",\"movable_dwelling\"],[\"203\",\"apartment_five_storeys_plus\"],[\"203\",\"single_detached_house\"],[\"203\",\"year\"],[\"204\",\"shelter_costs_rented\"],[\"204\",\"shelter_costs_owned\"],[\"204\",\"average_house_value\"],[\"204\",\"other_house\"],[\"204\",\"apartment_five_storeys_less\"],[\"204\",\"duplex\"],[\"204\",\"row_house\"],[\"204\",\"semi_detached_house\"],[\"204\",\"movable_dwelling\"],[\"204\",\"apartment_five_storeys_plus\"],[\"204\",\"single_detached_house\"],[\"204\",\"year\"],[\"205\",\"shelter_costs_rented\"],[\"205\",\"shelter_costs_owned\"],[\"205\",\"average_house_value\"],[\"205\",\"other_house\"],[\"205\",\"apartment_five_storeys_less\"],[\"205\",\"duplex\"],[\"205\",\"row_house\"],[\"205\",\"semi_detached_house\"],[\"205\",\"movable_dwelling\"],[\"205\",\"apartment_five_storeys_plus\"],[\"205\",\"single_detached_house\"],[\"205\",\"year\"],[\"206\",\"shelter_costs_rented\"],[\"206\",\"shelter_costs_owned\"],[\"206\",\"average_house_value\"],[\"206\",\"other_house\"],[\"206\",\"apartment_five_storeys_less\"],[\"206\",\"duplex\"],[\"206\",\"row_house\"],[\"206\",\"semi_detached_house\"],[\"206\",\"movable_dwelling\"],[\"206\",\"apartment_five_storeys_plus\"],[\"206\",\"single_detached_house\"],[\"206\",\"year\"],[\"207\",\"shelter_costs_rented\"],[\"207\",\"shelter_costs_owned\"],[\"207\",\"average_house_value\"],[\"207\",\"other_house\"],[\"207\",\"apartment_five_storeys_less\"],[\"207\",\"duplex\"],[\"207\",\"row_house\"],[\"207\",\"semi_detached_house\"],[\"207\",\"movable_dwelling\"],[\"207\",\"apartment_five_storeys_plus\"],[\"207\",\"single_detached_house\"],[\"207\",\"year\"],[\"208\",\"shelter_costs_rented\"],[\"208\",\"shelter_costs_owned\"],[\"208\",\"average_house_value\"],[\"208\",\"other_house\"],[\"208\",\"apartment_five_storeys_less\"],[\"208\",\"duplex\"],[\"208\",\"row_house\"],[\"208\",\"semi_detached_house\"],[\"208\",\"movable_dwelling\"],[\"208\",\"apartment_five_storeys_plus\"],[\"208\",\"single_detached_house\"],[\"208\",\"year\"],[\"209\",\"shelter_costs_rented\"],[\"209\",\"shelter_costs_owned\"],[\"209\",\"average_house_value\"],[\"209\",\"other_house\"],[\"209\",\"apartment_five_storeys_less\"],[\"209\",\"duplex\"],[\"209\",\"row_house\"],[\"209\",\"semi_detached_house\"],[\"209\",\"movable_dwelling\"],[\"209\",\"apartment_five_storeys_plus\"],[\"209\",\"single_detached_house\"],[\"209\",\"year\"],[\"210\",\"shelter_costs_rented\"],[\"210\",\"shelter_costs_owned\"],[\"210\",\"average_house_value\"],[\"210\",\"other_house\"],[\"210\",\"apartment_five_storeys_less\"],[\"210\",\"duplex\"],[\"210\",\"row_house\"],[\"210\",\"semi_detached_house\"],[\"210\",\"movable_dwelling\"],[\"210\",\"apartment_five_storeys_plus\"],[\"210\",\"single_detached_house\"],[\"210\",\"year\"],[\"211\",\"shelter_costs_rented\"],[\"211\",\"shelter_costs_owned\"],[\"211\",\"average_house_value\"],[\"211\",\"other_house\"],[\"211\",\"apartment_five_storeys_less\"],[\"211\",\"duplex\"],[\"211\",\"row_house\"],[\"211\",\"semi_detached_house\"],[\"211\",\"movable_dwelling\"],[\"211\",\"apartment_five_storeys_plus\"],[\"211\",\"single_detached_house\"],[\"211\",\"year\"],[\"212\",\"shelter_costs_rented\"],[\"212\",\"shelter_costs_owned\"],[\"212\",\"average_house_value\"],[\"212\",\"other_house\"],[\"212\",\"apartment_five_storeys_less\"],[\"212\",\"duplex\"],[\"212\",\"row_house\"],[\"212\",\"semi_detached_house\"],[\"212\",\"movable_dwelling\"],[\"212\",\"apartment_five_storeys_plus\"],[\"212\",\"single_detached_house\"],[\"212\",\"year\"],[\"213\",\"shelter_costs_rented\"],[\"213\",\"shelter_costs_owned\"],[\"213\",\"average_house_value\"],[\"213\",\"other_house\"],[\"213\",\"apartment_five_storeys_less\"],[\"213\",\"duplex\"],[\"213\",\"row_house\"],[\"213\",\"semi_detached_house\"],[\"213\",\"movable_dwelling\"],[\"213\",\"apartment_five_storeys_plus\"],[\"213\",\"single_detached_house\"],[\"213\",\"year\"],[\"214\",\"shelter_costs_rented\"],[\"214\",\"shelter_costs_owned\"],[\"214\",\"average_house_value\"],[\"214\",\"other_house\"],[\"214\",\"apartment_five_storeys_less\"],[\"214\",\"duplex\"],[\"214\",\"row_house\"],[\"214\",\"semi_detached_house\"],[\"214\",\"movable_dwelling\"],[\"214\",\"apartment_five_storeys_plus\"],[\"214\",\"single_detached_house\"],[\"214\",\"year\"],[\"215\",\"shelter_costs_rented\"],[\"215\",\"shelter_costs_owned\"],[\"215\",\"average_house_value\"],[\"215\",\"other_house\"],[\"215\",\"apartment_five_storeys_less\"],[\"215\",\"duplex\"],[\"215\",\"row_house\"],[\"215\",\"semi_detached_house\"],[\"215\",\"movable_dwelling\"],[\"215\",\"apartment_five_storeys_plus\"],[\"215\",\"single_detached_house\"],[\"215\",\"year\"],[\"216\",\"shelter_costs_rented\"],[\"216\",\"shelter_costs_owned\"],[\"216\",\"average_house_value\"],[\"216\",\"other_house\"],[\"216\",\"apartment_five_storeys_less\"],[\"216\",\"duplex\"],[\"216\",\"row_house\"],[\"216\",\"semi_detached_house\"],[\"216\",\"movable_dwelling\"],[\"216\",\"apartment_five_storeys_plus\"],[\"216\",\"single_detached_house\"],[\"216\",\"year\"],[\"217\",\"shelter_costs_rented\"],[\"217\",\"shelter_costs_owned\"],[\"217\",\"average_house_value\"],[\"217\",\"other_house\"],[\"217\",\"apartment_five_storeys_less\"],[\"217\",\"duplex\"],[\"217\",\"row_house\"],[\"217\",\"semi_detached_house\"],[\"217\",\"movable_dwelling\"],[\"217\",\"apartment_five_storeys_plus\"],[\"217\",\"single_detached_house\"],[\"217\",\"year\"],[\"218\",\"shelter_costs_rented\"],[\"218\",\"shelter_costs_owned\"],[\"218\",\"average_house_value\"],[\"218\",\"other_house\"],[\"218\",\"apartment_five_storeys_less\"],[\"218\",\"duplex\"],[\"218\",\"row_house\"],[\"218\",\"semi_detached_house\"],[\"218\",\"movable_dwelling\"],[\"218\",\"apartment_five_storeys_plus\"],[\"218\",\"single_detached_house\"],[\"218\",\"year\"],[\"219\",\"shelter_costs_rented\"],[\"219\",\"shelter_costs_owned\"],[\"219\",\"average_house_value\"],[\"219\",\"other_house\"],[\"219\",\"apartment_five_storeys_less\"],[\"219\",\"duplex\"],[\"219\",\"row_house\"],[\"219\",\"semi_detached_house\"],[\"219\",\"movable_dwelling\"],[\"219\",\"apartment_five_storeys_plus\"],[\"219\",\"single_detached_house\"],[\"219\",\"year\"],[\"220\",\"shelter_costs_rented\"],[\"220\",\"shelter_costs_owned\"],[\"220\",\"average_house_value\"],[\"220\",\"other_house\"],[\"220\",\"apartment_five_storeys_less\"],[\"220\",\"duplex\"],[\"220\",\"row_house\"],[\"220\",\"semi_detached_house\"],[\"220\",\"movable_dwelling\"],[\"220\",\"apartment_five_storeys_plus\"],[\"220\",\"single_detached_house\"],[\"220\",\"year\"],[\"221\",\"shelter_costs_rented\"],[\"221\",\"shelter_costs_owned\"],[\"221\",\"average_house_value\"],[\"221\",\"other_house\"],[\"221\",\"apartment_five_storeys_less\"],[\"221\",\"duplex\"],[\"221\",\"row_house\"],[\"221\",\"semi_detached_house\"],[\"221\",\"movable_dwelling\"],[\"221\",\"apartment_five_storeys_plus\"],[\"221\",\"single_detached_house\"],[\"221\",\"year\"],[\"222\",\"shelter_costs_rented\"],[\"222\",\"shelter_costs_owned\"],[\"222\",\"average_house_value\"],[\"222\",\"other_house\"],[\"222\",\"apartment_five_storeys_less\"],[\"222\",\"duplex\"],[\"222\",\"row_house\"],[\"222\",\"semi_detached_house\"],[\"222\",\"movable_dwelling\"],[\"222\",\"apartment_five_storeys_plus\"],[\"222\",\"single_detached_house\"],[\"222\",\"year\"],[\"223\",\"shelter_costs_rented\"],[\"223\",\"shelter_costs_owned\"],[\"223\",\"average_house_value\"],[\"223\",\"other_house\"],[\"223\",\"apartment_five_storeys_less\"],[\"223\",\"duplex\"],[\"223\",\"row_house\"],[\"223\",\"semi_detached_house\"],[\"223\",\"movable_dwelling\"],[\"223\",\"apartment_five_storeys_plus\"],[\"223\",\"single_detached_house\"],[\"223\",\"year\"],[\"224\",\"shelter_costs_rented\"],[\"224\",\"shelter_costs_owned\"],[\"224\",\"average_house_value\"],[\"224\",\"other_house\"],[\"224\",\"apartment_five_storeys_less\"],[\"224\",\"duplex\"],[\"224\",\"row_house\"],[\"224\",\"semi_detached_house\"],[\"224\",\"movable_dwelling\"],[\"224\",\"apartment_five_storeys_plus\"],[\"224\",\"single_detached_house\"],[\"224\",\"year\"],[\"225\",\"shelter_costs_rented\"],[\"225\",\"shelter_costs_owned\"],[\"225\",\"average_house_value\"],[\"225\",\"other_house\"],[\"225\",\"apartment_five_storeys_less\"],[\"225\",\"duplex\"],[\"225\",\"row_house\"],[\"225\",\"semi_detached_house\"],[\"225\",\"movable_dwelling\"],[\"225\",\"apartment_five_storeys_plus\"],[\"225\",\"single_detached_house\"],[\"225\",\"year\"],[\"226\",\"shelter_costs_rented\"],[\"226\",\"shelter_costs_owned\"],[\"226\",\"average_house_value\"],[\"226\",\"other_house\"],[\"226\",\"apartment_five_storeys_less\"],[\"226\",\"duplex\"],[\"226\",\"row_house\"],[\"226\",\"semi_detached_house\"],[\"226\",\"movable_dwelling\"],[\"226\",\"apartment_five_storeys_plus\"],[\"226\",\"single_detached_house\"],[\"226\",\"year\"],[\"227\",\"shelter_costs_rented\"],[\"227\",\"shelter_costs_owned\"],[\"227\",\"average_house_value\"],[\"227\",\"other_house\"],[\"227\",\"apartment_five_storeys_less\"],[\"227\",\"duplex\"],[\"227\",\"row_house\"],[\"227\",\"semi_detached_house\"],[\"227\",\"movable_dwelling\"],[\"227\",\"apartment_five_storeys_plus\"],[\"227\",\"single_detached_house\"],[\"227\",\"year\"],[\"228\",\"shelter_costs_rented\"],[\"228\",\"shelter_costs_owned\"],[\"228\",\"average_house_value\"],[\"228\",\"other_house\"],[\"228\",\"apartment_five_storeys_less\"],[\"228\",\"duplex\"],[\"228\",\"row_house\"],[\"228\",\"semi_detached_house\"],[\"228\",\"movable_dwelling\"],[\"228\",\"apartment_five_storeys_plus\"],[\"228\",\"single_detached_house\"],[\"228\",\"year\"],[\"229\",\"shelter_costs_rented\"],[\"229\",\"shelter_costs_owned\"],[\"229\",\"average_house_value\"],[\"229\",\"other_house\"],[\"229\",\"apartment_five_storeys_less\"],[\"229\",\"duplex\"],[\"229\",\"row_house\"],[\"229\",\"semi_detached_house\"],[\"229\",\"movable_dwelling\"],[\"229\",\"apartment_five_storeys_plus\"],[\"229\",\"single_detached_house\"],[\"229\",\"year\"],[\"230\",\"shelter_costs_rented\"],[\"230\",\"shelter_costs_owned\"],[\"230\",\"average_house_value\"],[\"230\",\"other_house\"],[\"230\",\"apartment_five_storeys_less\"],[\"230\",\"duplex\"],[\"230\",\"row_house\"],[\"230\",\"semi_detached_house\"],[\"230\",\"movable_dwelling\"],[\"230\",\"apartment_five_storeys_plus\"],[\"230\",\"single_detached_house\"],[\"230\",\"year\"],[\"231\",\"shelter_costs_rented\"],[\"231\",\"shelter_costs_owned\"],[\"231\",\"average_house_value\"],[\"231\",\"other_house\"],[\"231\",\"apartment_five_storeys_less\"],[\"231\",\"duplex\"],[\"231\",\"row_house\"],[\"231\",\"semi_detached_house\"],[\"231\",\"movable_dwelling\"],[\"231\",\"apartment_five_storeys_plus\"],[\"231\",\"single_detached_house\"],[\"231\",\"year\"],[\"232\",\"shelter_costs_rented\"],[\"232\",\"shelter_costs_owned\"],[\"232\",\"average_house_value\"],[\"232\",\"other_house\"],[\"232\",\"apartment_five_storeys_less\"],[\"232\",\"duplex\"],[\"232\",\"row_house\"],[\"232\",\"semi_detached_house\"],[\"232\",\"movable_dwelling\"],[\"232\",\"apartment_five_storeys_plus\"],[\"232\",\"single_detached_house\"],[\"232\",\"year\"],[\"233\",\"shelter_costs_rented\"],[\"233\",\"shelter_costs_owned\"],[\"233\",\"average_house_value\"],[\"233\",\"other_house\"],[\"233\",\"apartment_five_storeys_less\"],[\"233\",\"duplex\"],[\"233\",\"row_house\"],[\"233\",\"semi_detached_house\"],[\"233\",\"movable_dwelling\"],[\"233\",\"apartment_five_storeys_plus\"],[\"233\",\"single_detached_house\"],[\"233\",\"year\"],[\"234\",\"shelter_costs_rented\"],[\"234\",\"shelter_costs_owned\"],[\"234\",\"average_house_value\"],[\"234\",\"other_house\"],[\"234\",\"apartment_five_storeys_less\"],[\"234\",\"duplex\"],[\"234\",\"row_house\"],[\"234\",\"semi_detached_house\"],[\"234\",\"movable_dwelling\"],[\"234\",\"apartment_five_storeys_plus\"],[\"234\",\"single_detached_house\"],[\"234\",\"year\"],[\"235\",\"shelter_costs_rented\"],[\"235\",\"shelter_costs_owned\"],[\"235\",\"average_house_value\"],[\"235\",\"other_house\"],[\"235\",\"apartment_five_storeys_less\"],[\"235\",\"duplex\"],[\"235\",\"row_house\"],[\"235\",\"semi_detached_house\"],[\"235\",\"movable_dwelling\"],[\"235\",\"apartment_five_storeys_plus\"],[\"235\",\"single_detached_house\"],[\"235\",\"year\"],[\"236\",\"shelter_costs_rented\"],[\"236\",\"shelter_costs_owned\"],[\"236\",\"average_house_value\"],[\"236\",\"other_house\"],[\"236\",\"apartment_five_storeys_less\"],[\"236\",\"duplex\"],[\"236\",\"row_house\"],[\"236\",\"semi_detached_house\"],[\"236\",\"movable_dwelling\"],[\"236\",\"apartment_five_storeys_plus\"],[\"236\",\"single_detached_house\"],[\"236\",\"year\"],[\"237\",\"shelter_costs_rented\"],[\"237\",\"shelter_costs_owned\"],[\"237\",\"average_house_value\"],[\"237\",\"other_house\"],[\"237\",\"apartment_five_storeys_less\"],[\"237\",\"duplex\"],[\"237\",\"row_house\"],[\"237\",\"semi_detached_house\"],[\"237\",\"movable_dwelling\"],[\"237\",\"apartment_five_storeys_plus\"],[\"237\",\"single_detached_house\"],[\"237\",\"year\"],[\"238\",\"shelter_costs_rented\"],[\"238\",\"shelter_costs_owned\"],[\"238\",\"average_house_value\"],[\"238\",\"other_house\"],[\"238\",\"apartment_five_storeys_less\"],[\"238\",\"duplex\"],[\"238\",\"row_house\"],[\"238\",\"semi_detached_house\"],[\"238\",\"movable_dwelling\"],[\"238\",\"apartment_five_storeys_plus\"],[\"238\",\"single_detached_house\"],[\"238\",\"year\"],[\"239\",\"shelter_costs_rented\"],[\"239\",\"shelter_costs_owned\"],[\"239\",\"average_house_value\"],[\"239\",\"other_house\"],[\"239\",\"apartment_five_storeys_less\"],[\"239\",\"duplex\"],[\"239\",\"row_house\"],[\"239\",\"semi_detached_house\"],[\"239\",\"movable_dwelling\"],[\"239\",\"apartment_five_storeys_plus\"],[\"239\",\"single_detached_house\"],[\"239\",\"year\"],[\"240\",\"shelter_costs_rented\"],[\"240\",\"shelter_costs_owned\"],[\"240\",\"average_house_value\"],[\"240\",\"other_house\"],[\"240\",\"apartment_five_storeys_less\"],[\"240\",\"duplex\"],[\"240\",\"row_house\"],[\"240\",\"semi_detached_house\"],[\"240\",\"movable_dwelling\"],[\"240\",\"apartment_five_storeys_plus\"],[\"240\",\"single_detached_house\"],[\"240\",\"year\"],[\"241\",\"shelter_costs_rented\"],[\"241\",\"shelter_costs_owned\"],[\"241\",\"average_house_value\"],[\"241\",\"other_house\"],[\"241\",\"apartment_five_storeys_less\"],[\"241\",\"duplex\"],[\"241\",\"row_house\"],[\"241\",\"semi_detached_house\"],[\"241\",\"movable_dwelling\"],[\"241\",\"apartment_five_storeys_plus\"],[\"241\",\"single_detached_house\"],[\"241\",\"year\"],[\"242\",\"shelter_costs_rented\"],[\"242\",\"shelter_costs_owned\"],[\"242\",\"average_house_value\"],[\"242\",\"other_house\"],[\"242\",\"apartment_five_storeys_less\"],[\"242\",\"duplex\"],[\"242\",\"row_house\"],[\"242\",\"semi_detached_house\"],[\"242\",\"movable_dwelling\"],[\"242\",\"apartment_five_storeys_plus\"],[\"242\",\"single_detached_house\"],[\"242\",\"year\"],[\"243\",\"shelter_costs_rented\"],[\"243\",\"shelter_costs_owned\"],[\"243\",\"average_house_value\"],[\"243\",\"other_house\"],[\"243\",\"apartment_five_storeys_less\"],[\"243\",\"duplex\"],[\"243\",\"row_house\"],[\"243\",\"semi_detached_house\"],[\"243\",\"movable_dwelling\"],[\"243\",\"apartment_five_storeys_plus\"],[\"243\",\"single_detached_house\"],[\"243\",\"year\"],[\"244\",\"shelter_costs_rented\"],[\"244\",\"shelter_costs_owned\"],[\"244\",\"average_house_value\"],[\"244\",\"other_house\"],[\"244\",\"apartment_five_storeys_less\"],[\"244\",\"duplex\"],[\"244\",\"row_house\"],[\"244\",\"semi_detached_house\"],[\"244\",\"movable_dwelling\"],[\"244\",\"apartment_five_storeys_plus\"],[\"244\",\"single_detached_house\"],[\"244\",\"year\"],[\"245\",\"shelter_costs_rented\"],[\"245\",\"shelter_costs_owned\"],[\"245\",\"average_house_value\"],[\"245\",\"other_house\"],[\"245\",\"apartment_five_storeys_less\"],[\"245\",\"duplex\"],[\"245\",\"row_house\"],[\"245\",\"semi_detached_house\"],[\"245\",\"movable_dwelling\"],[\"245\",\"apartment_five_storeys_plus\"],[\"245\",\"single_detached_house\"],[\"245\",\"year\"],[\"246\",\"shelter_costs_rented\"],[\"246\",\"shelter_costs_owned\"],[\"246\",\"average_house_value\"],[\"246\",\"other_house\"],[\"246\",\"apartment_five_storeys_less\"],[\"246\",\"duplex\"],[\"246\",\"row_house\"],[\"246\",\"semi_detached_house\"],[\"246\",\"movable_dwelling\"],[\"246\",\"apartment_five_storeys_plus\"],[\"246\",\"single_detached_house\"],[\"246\",\"year\"],[\"247\",\"shelter_costs_rented\"],[\"247\",\"shelter_costs_owned\"],[\"247\",\"average_house_value\"],[\"247\",\"other_house\"],[\"247\",\"apartment_five_storeys_less\"],[\"247\",\"duplex\"],[\"247\",\"row_house\"],[\"247\",\"semi_detached_house\"],[\"247\",\"movable_dwelling\"],[\"247\",\"apartment_five_storeys_plus\"],[\"247\",\"single_detached_house\"],[\"247\",\"year\"],[\"248\",\"shelter_costs_rented\"],[\"248\",\"shelter_costs_owned\"],[\"248\",\"average_house_value\"],[\"248\",\"other_house\"],[\"248\",\"apartment_five_storeys_less\"],[\"248\",\"duplex\"],[\"248\",\"row_house\"],[\"248\",\"semi_detached_house\"],[\"248\",\"movable_dwelling\"],[\"248\",\"apartment_five_storeys_plus\"],[\"248\",\"single_detached_house\"],[\"248\",\"year\"],[\"249\",\"shelter_costs_rented\"],[\"249\",\"shelter_costs_owned\"],[\"249\",\"average_house_value\"],[\"249\",\"other_house\"],[\"249\",\"apartment_five_storeys_less\"],[\"249\",\"duplex\"],[\"249\",\"row_house\"],[\"249\",\"semi_detached_house\"],[\"249\",\"movable_dwelling\"],[\"249\",\"apartment_five_storeys_plus\"],[\"249\",\"single_detached_house\"],[\"249\",\"year\"],[\"250\",\"shelter_costs_rented\"],[\"250\",\"shelter_costs_owned\"],[\"250\",\"average_house_value\"],[\"250\",\"other_house\"],[\"250\",\"apartment_five_storeys_less\"],[\"250\",\"duplex\"],[\"250\",\"row_house\"],[\"250\",\"semi_detached_house\"],[\"250\",\"movable_dwelling\"],[\"250\",\"apartment_five_storeys_plus\"],[\"250\",\"single_detached_house\"],[\"250\",\"year\"],[\"251\",\"shelter_costs_rented\"],[\"251\",\"shelter_costs_owned\"],[\"251\",\"average_house_value\"],[\"251\",\"other_house\"],[\"251\",\"apartment_five_storeys_less\"],[\"251\",\"duplex\"],[\"251\",\"row_house\"],[\"251\",\"semi_detached_house\"],[\"251\",\"movable_dwelling\"],[\"251\",\"apartment_five_storeys_plus\"],[\"251\",\"single_detached_house\"],[\"251\",\"year\"],[\"252\",\"shelter_costs_rented\"],[\"252\",\"shelter_costs_owned\"],[\"252\",\"average_house_value\"],[\"252\",\"other_house\"],[\"252\",\"apartment_five_storeys_less\"],[\"252\",\"duplex\"],[\"252\",\"row_house\"],[\"252\",\"semi_detached_house\"],[\"252\",\"movable_dwelling\"],[\"252\",\"apartment_five_storeys_plus\"],[\"252\",\"single_detached_house\"],[\"252\",\"year\"],[\"253\",\"shelter_costs_rented\"],[\"253\",\"shelter_costs_owned\"],[\"253\",\"average_house_value\"],[\"253\",\"other_house\"],[\"253\",\"apartment_five_storeys_less\"],[\"253\",\"duplex\"],[\"253\",\"row_house\"],[\"253\",\"semi_detached_house\"],[\"253\",\"movable_dwelling\"],[\"253\",\"apartment_five_storeys_plus\"],[\"253\",\"single_detached_house\"],[\"253\",\"year\"],[\"254\",\"shelter_costs_rented\"],[\"254\",\"shelter_costs_owned\"],[\"254\",\"average_house_value\"],[\"254\",\"other_house\"],[\"254\",\"apartment_five_storeys_less\"],[\"254\",\"duplex\"],[\"254\",\"row_house\"],[\"254\",\"semi_detached_house\"],[\"254\",\"movable_dwelling\"],[\"254\",\"apartment_five_storeys_plus\"],[\"254\",\"single_detached_house\"],[\"254\",\"year\"],[\"255\",\"shelter_costs_rented\"],[\"255\",\"shelter_costs_owned\"],[\"255\",\"average_house_value\"],[\"255\",\"other_house\"],[\"255\",\"apartment_five_storeys_less\"],[\"255\",\"duplex\"],[\"255\",\"row_house\"],[\"255\",\"semi_detached_house\"],[\"255\",\"movable_dwelling\"],[\"255\",\"apartment_five_storeys_plus\"],[\"255\",\"single_detached_house\"],[\"255\",\"year\"],[\"256\",\"shelter_costs_rented\"],[\"256\",\"shelter_costs_owned\"],[\"256\",\"average_house_value\"],[\"256\",\"other_house\"],[\"256\",\"apartment_five_storeys_less\"],[\"256\",\"duplex\"],[\"256\",\"row_house\"],[\"256\",\"semi_detached_house\"],[\"256\",\"movable_dwelling\"],[\"256\",\"apartment_five_storeys_plus\"],[\"256\",\"single_detached_house\"],[\"256\",\"year\"],[\"257\",\"shelter_costs_rented\"],[\"257\",\"shelter_costs_owned\"],[\"257\",\"average_house_value\"],[\"257\",\"other_house\"],[\"257\",\"apartment_five_storeys_less\"],[\"257\",\"duplex\"],[\"257\",\"row_house\"],[\"257\",\"semi_detached_house\"],[\"257\",\"movable_dwelling\"],[\"257\",\"apartment_five_storeys_plus\"],[\"257\",\"single_detached_house\"],[\"257\",\"year\"],[\"258\",\"shelter_costs_rented\"],[\"258\",\"shelter_costs_owned\"],[\"258\",\"average_house_value\"],[\"258\",\"other_house\"],[\"258\",\"apartment_five_storeys_less\"],[\"258\",\"duplex\"],[\"258\",\"row_house\"],[\"258\",\"semi_detached_house\"],[\"258\",\"movable_dwelling\"],[\"258\",\"apartment_five_storeys_plus\"],[\"258\",\"single_detached_house\"],[\"258\",\"year\"],[\"259\",\"shelter_costs_rented\"],[\"259\",\"shelter_costs_owned\"],[\"259\",\"average_house_value\"],[\"259\",\"other_house\"],[\"259\",\"apartment_five_storeys_less\"],[\"259\",\"duplex\"],[\"259\",\"row_house\"],[\"259\",\"semi_detached_house\"],[\"259\",\"movable_dwelling\"],[\"259\",\"apartment_five_storeys_plus\"],[\"259\",\"single_detached_house\"],[\"259\",\"year\"],[\"260\",\"shelter_costs_rented\"],[\"260\",\"shelter_costs_owned\"],[\"260\",\"average_house_value\"],[\"260\",\"other_house\"],[\"260\",\"apartment_five_storeys_less\"],[\"260\",\"duplex\"],[\"260\",\"row_house\"],[\"260\",\"semi_detached_house\"],[\"260\",\"movable_dwelling\"],[\"260\",\"apartment_five_storeys_plus\"],[\"260\",\"single_detached_house\"],[\"260\",\"year\"],[\"261\",\"shelter_costs_rented\"],[\"261\",\"shelter_costs_owned\"],[\"261\",\"average_house_value\"],[\"261\",\"other_house\"],[\"261\",\"apartment_five_storeys_less\"],[\"261\",\"duplex\"],[\"261\",\"row_house\"],[\"261\",\"semi_detached_house\"],[\"261\",\"movable_dwelling\"],[\"261\",\"apartment_five_storeys_plus\"],[\"261\",\"single_detached_house\"],[\"261\",\"year\"],[\"262\",\"shelter_costs_rented\"],[\"262\",\"shelter_costs_owned\"],[\"262\",\"average_house_value\"],[\"262\",\"other_house\"],[\"262\",\"apartment_five_storeys_less\"],[\"262\",\"duplex\"],[\"262\",\"row_house\"],[\"262\",\"semi_detached_house\"],[\"262\",\"movable_dwelling\"],[\"262\",\"apartment_five_storeys_plus\"],[\"262\",\"single_detached_house\"],[\"262\",\"year\"],[\"263\",\"shelter_costs_rented\"],[\"263\",\"shelter_costs_owned\"],[\"263\",\"average_house_value\"],[\"263\",\"other_house\"],[\"263\",\"apartment_five_storeys_less\"],[\"263\",\"duplex\"],[\"263\",\"row_house\"],[\"263\",\"semi_detached_house\"],[\"263\",\"movable_dwelling\"],[\"263\",\"apartment_five_storeys_plus\"],[\"263\",\"single_detached_house\"],[\"263\",\"year\"],[\"264\",\"shelter_costs_rented\"],[\"264\",\"shelter_costs_owned\"],[\"264\",\"average_house_value\"],[\"264\",\"other_house\"],[\"264\",\"apartment_five_storeys_less\"],[\"264\",\"duplex\"],[\"264\",\"row_house\"],[\"264\",\"semi_detached_house\"],[\"264\",\"movable_dwelling\"],[\"264\",\"apartment_five_storeys_plus\"],[\"264\",\"single_detached_house\"],[\"264\",\"year\"],[\"265\",\"shelter_costs_rented\"],[\"265\",\"shelter_costs_owned\"],[\"265\",\"average_house_value\"],[\"265\",\"other_house\"],[\"265\",\"apartment_five_storeys_less\"],[\"265\",\"duplex\"],[\"265\",\"row_house\"],[\"265\",\"semi_detached_house\"],[\"265\",\"movable_dwelling\"],[\"265\",\"apartment_five_storeys_plus\"],[\"265\",\"single_detached_house\"],[\"265\",\"year\"],[\"266\",\"shelter_costs_rented\"],[\"266\",\"shelter_costs_owned\"],[\"266\",\"average_house_value\"],[\"266\",\"other_house\"],[\"266\",\"apartment_five_storeys_less\"],[\"266\",\"duplex\"],[\"266\",\"row_house\"],[\"266\",\"semi_detached_house\"],[\"266\",\"movable_dwelling\"],[\"266\",\"apartment_five_storeys_plus\"],[\"266\",\"single_detached_house\"],[\"266\",\"year\"],[\"267\",\"shelter_costs_rented\"],[\"267\",\"shelter_costs_owned\"],[\"267\",\"average_house_value\"],[\"267\",\"other_house\"],[\"267\",\"apartment_five_storeys_less\"],[\"267\",\"duplex\"],[\"267\",\"row_house\"],[\"267\",\"semi_detached_house\"],[\"267\",\"movable_dwelling\"],[\"267\",\"apartment_five_storeys_plus\"],[\"267\",\"single_detached_house\"],[\"267\",\"year\"],[\"268\",\"shelter_costs_rented\"],[\"268\",\"shelter_costs_owned\"],[\"268\",\"average_house_value\"],[\"268\",\"other_house\"],[\"268\",\"apartment_five_storeys_less\"],[\"268\",\"duplex\"],[\"268\",\"row_house\"],[\"268\",\"semi_detached_house\"],[\"268\",\"movable_dwelling\"],[\"268\",\"apartment_five_storeys_plus\"],[\"268\",\"single_detached_house\"],[\"268\",\"year\"],[\"269\",\"shelter_costs_rented\"],[\"269\",\"shelter_costs_owned\"],[\"269\",\"average_house_value\"],[\"269\",\"other_house\"],[\"269\",\"apartment_five_storeys_less\"],[\"269\",\"duplex\"],[\"269\",\"row_house\"],[\"269\",\"semi_detached_house\"],[\"269\",\"movable_dwelling\"],[\"269\",\"apartment_five_storeys_plus\"],[\"269\",\"single_detached_house\"],[\"269\",\"year\"],[\"270\",\"shelter_costs_rented\"],[\"270\",\"shelter_costs_owned\"],[\"270\",\"average_house_value\"],[\"270\",\"other_house\"],[\"270\",\"apartment_five_storeys_less\"],[\"270\",\"duplex\"],[\"270\",\"row_house\"],[\"270\",\"semi_detached_house\"],[\"270\",\"movable_dwelling\"],[\"270\",\"apartment_five_storeys_plus\"],[\"270\",\"single_detached_house\"],[\"270\",\"year\"],[\"271\",\"shelter_costs_rented\"],[\"271\",\"shelter_costs_owned\"],[\"271\",\"average_house_value\"],[\"271\",\"other_house\"],[\"271\",\"apartment_five_storeys_less\"],[\"271\",\"duplex\"],[\"271\",\"row_house\"],[\"271\",\"semi_detached_house\"],[\"271\",\"movable_dwelling\"],[\"271\",\"apartment_five_storeys_plus\"],[\"271\",\"single_detached_house\"],[\"271\",\"year\"],[\"272\",\"shelter_costs_rented\"],[\"272\",\"shelter_costs_owned\"],[\"272\",\"average_house_value\"],[\"272\",\"other_house\"],[\"272\",\"apartment_five_storeys_less\"],[\"272\",\"duplex\"],[\"272\",\"row_house\"],[\"272\",\"semi_detached_house\"],[\"272\",\"movable_dwelling\"],[\"272\",\"apartment_five_storeys_plus\"],[\"272\",\"single_detached_house\"],[\"272\",\"year\"],[\"273\",\"shelter_costs_rented\"],[\"273\",\"shelter_costs_owned\"],[\"273\",\"average_house_value\"],[\"273\",\"other_house\"],[\"273\",\"apartment_five_storeys_less\"],[\"273\",\"duplex\"],[\"273\",\"row_house\"],[\"273\",\"semi_detached_house\"],[\"273\",\"movable_dwelling\"],[\"273\",\"apartment_five_storeys_plus\"],[\"273\",\"single_detached_house\"],[\"273\",\"year\"],[\"274\",\"shelter_costs_rented\"],[\"274\",\"shelter_costs_owned\"],[\"274\",\"average_house_value\"],[\"274\",\"other_house\"],[\"274\",\"apartment_five_storeys_less\"],[\"274\",\"duplex\"],[\"274\",\"row_house\"],[\"274\",\"semi_detached_house\"],[\"274\",\"movable_dwelling\"],[\"274\",\"apartment_five_storeys_plus\"],[\"274\",\"single_detached_house\"],[\"274\",\"year\"],[\"275\",\"shelter_costs_rented\"],[\"275\",\"shelter_costs_owned\"],[\"275\",\"average_house_value\"],[\"275\",\"other_house\"],[\"275\",\"apartment_five_storeys_less\"],[\"275\",\"duplex\"],[\"275\",\"row_house\"],[\"275\",\"semi_detached_house\"],[\"275\",\"movable_dwelling\"],[\"275\",\"apartment_five_storeys_plus\"],[\"275\",\"single_detached_house\"],[\"275\",\"year\"],[\"276\",\"shelter_costs_rented\"],[\"276\",\"shelter_costs_owned\"],[\"276\",\"average_house_value\"],[\"276\",\"other_house\"],[\"276\",\"apartment_five_storeys_less\"],[\"276\",\"duplex\"],[\"276\",\"row_house\"],[\"276\",\"semi_detached_house\"],[\"276\",\"movable_dwelling\"],[\"276\",\"apartment_five_storeys_plus\"],[\"276\",\"single_detached_house\"],[\"276\",\"year\"],[\"277\",\"shelter_costs_rented\"],[\"277\",\"shelter_costs_owned\"],[\"277\",\"average_house_value\"],[\"277\",\"other_house\"],[\"277\",\"apartment_five_storeys_less\"],[\"277\",\"duplex\"],[\"277\",\"row_house\"],[\"277\",\"semi_detached_house\"],[\"277\",\"movable_dwelling\"],[\"277\",\"apartment_five_storeys_plus\"],[\"277\",\"single_detached_house\"],[\"277\",\"year\"],[\"278\",\"shelter_costs_rented\"],[\"278\",\"shelter_costs_owned\"],[\"278\",\"average_house_value\"],[\"278\",\"other_house\"],[\"278\",\"apartment_five_storeys_less\"],[\"278\",\"duplex\"],[\"278\",\"row_house\"],[\"278\",\"semi_detached_house\"],[\"278\",\"movable_dwelling\"],[\"278\",\"apartment_five_storeys_plus\"],[\"278\",\"single_detached_house\"],[\"278\",\"year\"],[\"279\",\"shelter_costs_rented\"],[\"279\",\"shelter_costs_owned\"],[\"279\",\"average_house_value\"],[\"279\",\"other_house\"],[\"279\",\"apartment_five_storeys_less\"],[\"279\",\"duplex\"],[\"279\",\"row_house\"],[\"279\",\"semi_detached_house\"],[\"279\",\"movable_dwelling\"],[\"279\",\"apartment_five_storeys_plus\"],[\"279\",\"single_detached_house\"],[\"279\",\"year\"],[\"280\",\"shelter_costs_rented\"],[\"280\",\"shelter_costs_owned\"],[\"280\",\"average_house_value\"],[\"280\",\"other_house\"],[\"280\",\"apartment_five_storeys_less\"],[\"280\",\"duplex\"],[\"280\",\"row_house\"],[\"280\",\"semi_detached_house\"],[\"280\",\"movable_dwelling\"],[\"280\",\"apartment_five_storeys_plus\"],[\"280\",\"single_detached_house\"],[\"280\",\"year\"],[\"281\",\"shelter_costs_rented\"],[\"281\",\"shelter_costs_owned\"],[\"281\",\"average_house_value\"],[\"281\",\"other_house\"],[\"281\",\"apartment_five_storeys_less\"],[\"281\",\"duplex\"],[\"281\",\"row_house\"],[\"281\",\"semi_detached_house\"],[\"281\",\"movable_dwelling\"],[\"281\",\"apartment_five_storeys_plus\"],[\"281\",\"single_detached_house\"],[\"281\",\"year\"],[\"282\",\"shelter_costs_rented\"],[\"282\",\"shelter_costs_owned\"],[\"282\",\"average_house_value\"],[\"282\",\"other_house\"],[\"282\",\"apartment_five_storeys_less\"],[\"282\",\"duplex\"],[\"282\",\"row_house\"],[\"282\",\"semi_detached_house\"],[\"282\",\"movable_dwelling\"],[\"282\",\"apartment_five_storeys_plus\"],[\"282\",\"single_detached_house\"],[\"282\",\"year\"],[\"283\",\"shelter_costs_rented\"],[\"283\",\"shelter_costs_owned\"],[\"283\",\"average_house_value\"],[\"283\",\"other_house\"],[\"283\",\"apartment_five_storeys_less\"],[\"283\",\"duplex\"],[\"283\",\"row_house\"],[\"283\",\"semi_detached_house\"],[\"283\",\"movable_dwelling\"],[\"283\",\"apartment_five_storeys_plus\"],[\"283\",\"single_detached_house\"],[\"283\",\"year\"],[\"284\",\"shelter_costs_rented\"],[\"284\",\"shelter_costs_owned\"],[\"284\",\"average_house_value\"],[\"284\",\"other_house\"],[\"284\",\"apartment_five_storeys_less\"],[\"284\",\"duplex\"],[\"284\",\"row_house\"],[\"284\",\"semi_detached_house\"],[\"284\",\"movable_dwelling\"],[\"284\",\"apartment_five_storeys_plus\"],[\"284\",\"single_detached_house\"],[\"284\",\"year\"],[\"285\",\"shelter_costs_rented\"],[\"285\",\"shelter_costs_owned\"],[\"285\",\"average_house_value\"],[\"285\",\"other_house\"],[\"285\",\"apartment_five_storeys_less\"],[\"285\",\"duplex\"],[\"285\",\"row_house\"],[\"285\",\"semi_detached_house\"],[\"285\",\"movable_dwelling\"],[\"285\",\"apartment_five_storeys_plus\"],[\"285\",\"single_detached_house\"],[\"285\",\"year\"],[\"286\",\"shelter_costs_rented\"],[\"286\",\"shelter_costs_owned\"],[\"286\",\"average_house_value\"],[\"286\",\"other_house\"],[\"286\",\"apartment_five_storeys_less\"],[\"286\",\"duplex\"],[\"286\",\"row_house\"],[\"286\",\"semi_detached_house\"],[\"286\",\"movable_dwelling\"],[\"286\",\"apartment_five_storeys_plus\"],[\"286\",\"single_detached_house\"],[\"286\",\"year\"],[\"287\",\"shelter_costs_rented\"],[\"287\",\"shelter_costs_owned\"],[\"287\",\"average_house_value\"],[\"287\",\"other_house\"],[\"287\",\"apartment_five_storeys_less\"],[\"287\",\"duplex\"],[\"287\",\"row_house\"],[\"287\",\"semi_detached_house\"],[\"287\",\"movable_dwelling\"],[\"287\",\"apartment_five_storeys_plus\"],[\"287\",\"single_detached_house\"],[\"287\",\"year\"],[\"288\",\"shelter_costs_rented\"],[\"288\",\"shelter_costs_owned\"],[\"288\",\"average_house_value\"],[\"288\",\"other_house\"],[\"288\",\"apartment_five_storeys_less\"],[\"288\",\"duplex\"],[\"288\",\"row_house\"],[\"288\",\"semi_detached_house\"],[\"288\",\"movable_dwelling\"],[\"288\",\"apartment_five_storeys_plus\"],[\"288\",\"single_detached_house\"],[\"288\",\"year\"],[\"289\",\"shelter_costs_rented\"],[\"289\",\"shelter_costs_owned\"],[\"289\",\"average_house_value\"],[\"289\",\"other_house\"],[\"289\",\"apartment_five_storeys_less\"],[\"289\",\"duplex\"],[\"289\",\"row_house\"],[\"289\",\"semi_detached_house\"],[\"289\",\"movable_dwelling\"],[\"289\",\"apartment_five_storeys_plus\"],[\"289\",\"single_detached_house\"],[\"289\",\"year\"],[\"290\",\"shelter_costs_rented\"],[\"290\",\"shelter_costs_owned\"],[\"290\",\"average_house_value\"],[\"290\",\"other_house\"],[\"290\",\"apartment_five_storeys_less\"],[\"290\",\"duplex\"],[\"290\",\"row_house\"],[\"290\",\"semi_detached_house\"],[\"290\",\"movable_dwelling\"],[\"290\",\"apartment_five_storeys_plus\"],[\"290\",\"single_detached_house\"],[\"290\",\"year\"],[\"291\",\"shelter_costs_rented\"],[\"291\",\"shelter_costs_owned\"],[\"291\",\"average_house_value\"],[\"291\",\"other_house\"],[\"291\",\"apartment_five_storeys_less\"],[\"291\",\"duplex\"],[\"291\",\"row_house\"],[\"291\",\"semi_detached_house\"],[\"291\",\"movable_dwelling\"],[\"291\",\"apartment_five_storeys_plus\"],[\"291\",\"single_detached_house\"],[\"291\",\"year\"],[\"292\",\"shelter_costs_rented\"],[\"292\",\"shelter_costs_owned\"],[\"292\",\"average_house_value\"],[\"292\",\"other_house\"],[\"292\",\"apartment_five_storeys_less\"],[\"292\",\"duplex\"],[\"292\",\"row_house\"],[\"292\",\"semi_detached_house\"],[\"292\",\"movable_dwelling\"],[\"292\",\"apartment_five_storeys_plus\"],[\"292\",\"single_detached_house\"],[\"292\",\"year\"],[\"293\",\"shelter_costs_rented\"],[\"293\",\"shelter_costs_owned\"],[\"293\",\"average_house_value\"],[\"293\",\"other_house\"],[\"293\",\"apartment_five_storeys_less\"],[\"293\",\"duplex\"],[\"293\",\"row_house\"],[\"293\",\"semi_detached_house\"],[\"293\",\"movable_dwelling\"],[\"293\",\"apartment_five_storeys_plus\"],[\"293\",\"single_detached_house\"],[\"293\",\"year\"],[\"294\",\"shelter_costs_rented\"],[\"294\",\"shelter_costs_owned\"],[\"294\",\"average_house_value\"],[\"294\",\"other_house\"],[\"294\",\"apartment_five_storeys_less\"],[\"294\",\"duplex\"],[\"294\",\"row_house\"],[\"294\",\"semi_detached_house\"],[\"294\",\"movable_dwelling\"],[\"294\",\"apartment_five_storeys_plus\"],[\"294\",\"single_detached_house\"],[\"294\",\"year\"],[\"295\",\"shelter_costs_rented\"],[\"295\",\"shelter_costs_owned\"],[\"295\",\"average_house_value\"],[\"295\",\"other_house\"],[\"295\",\"apartment_five_storeys_less\"],[\"295\",\"duplex\"],[\"295\",\"row_house\"],[\"295\",\"semi_detached_house\"],[\"295\",\"movable_dwelling\"],[\"295\",\"apartment_five_storeys_plus\"],[\"295\",\"single_detached_house\"],[\"295\",\"year\"],[\"296\",\"shelter_costs_rented\"],[\"296\",\"shelter_costs_owned\"],[\"296\",\"average_house_value\"],[\"296\",\"other_house\"],[\"296\",\"apartment_five_storeys_less\"],[\"296\",\"duplex\"],[\"296\",\"row_house\"],[\"296\",\"semi_detached_house\"],[\"296\",\"movable_dwelling\"],[\"296\",\"apartment_five_storeys_plus\"],[\"296\",\"single_detached_house\"],[\"296\",\"year\"],[\"297\",\"shelter_costs_rented\"],[\"297\",\"shelter_costs_owned\"],[\"297\",\"average_house_value\"],[\"297\",\"other_house\"],[\"297\",\"apartment_five_storeys_less\"],[\"297\",\"duplex\"],[\"297\",\"row_house\"],[\"297\",\"semi_detached_house\"],[\"297\",\"movable_dwelling\"],[\"297\",\"apartment_five_storeys_plus\"],[\"297\",\"single_detached_house\"],[\"297\",\"year\"],[\"298\",\"shelter_costs_rented\"],[\"298\",\"shelter_costs_owned\"],[\"298\",\"average_house_value\"],[\"298\",\"other_house\"],[\"298\",\"apartment_five_storeys_less\"],[\"298\",\"duplex\"],[\"298\",\"row_house\"],[\"298\",\"semi_detached_house\"],[\"298\",\"movable_dwelling\"],[\"298\",\"apartment_five_storeys_plus\"],[\"298\",\"single_detached_house\"],[\"298\",\"year\"],[\"299\",\"shelter_costs_rented\"],[\"299\",\"shelter_costs_owned\"],[\"299\",\"average_house_value\"],[\"299\",\"other_house\"],[\"299\",\"apartment_five_storeys_less\"],[\"299\",\"duplex\"],[\"299\",\"row_house\"],[\"299\",\"semi_detached_house\"],[\"299\",\"movable_dwelling\"],[\"299\",\"apartment_five_storeys_plus\"],[\"299\",\"single_detached_house\"],[\"299\",\"year\"],[\"300\",\"shelter_costs_rented\"],[\"300\",\"shelter_costs_owned\"],[\"300\",\"average_house_value\"],[\"300\",\"other_house\"],[\"300\",\"apartment_five_storeys_less\"],[\"300\",\"duplex\"],[\"300\",\"row_house\"],[\"300\",\"semi_detached_house\"],[\"300\",\"movable_dwelling\"],[\"300\",\"apartment_five_storeys_plus\"],[\"300\",\"single_detached_house\"],[\"300\",\"year\"],[\"301\",\"shelter_costs_rented\"],[\"301\",\"shelter_costs_owned\"],[\"301\",\"average_house_value\"],[\"301\",\"other_house\"],[\"301\",\"apartment_five_storeys_less\"],[\"301\",\"duplex\"],[\"301\",\"row_house\"],[\"301\",\"semi_detached_house\"],[\"301\",\"movable_dwelling\"],[\"301\",\"apartment_five_storeys_plus\"],[\"301\",\"single_detached_house\"],[\"301\",\"year\"],[\"302\",\"shelter_costs_rented\"],[\"302\",\"shelter_costs_owned\"],[\"302\",\"average_house_value\"],[\"302\",\"other_house\"],[\"302\",\"apartment_five_storeys_less\"],[\"302\",\"duplex\"],[\"302\",\"row_house\"],[\"302\",\"semi_detached_house\"],[\"302\",\"movable_dwelling\"],[\"302\",\"apartment_five_storeys_plus\"],[\"302\",\"single_detached_house\"],[\"302\",\"year\"],[\"303\",\"shelter_costs_rented\"],[\"303\",\"shelter_costs_owned\"],[\"303\",\"average_house_value\"],[\"303\",\"other_house\"],[\"303\",\"apartment_five_storeys_less\"],[\"303\",\"duplex\"],[\"303\",\"row_house\"],[\"303\",\"semi_detached_house\"],[\"303\",\"movable_dwelling\"],[\"303\",\"apartment_five_storeys_plus\"],[\"303\",\"single_detached_house\"],[\"303\",\"year\"],[\"304\",\"shelter_costs_rented\"],[\"304\",\"shelter_costs_owned\"],[\"304\",\"average_house_value\"],[\"304\",\"other_house\"],[\"304\",\"apartment_five_storeys_less\"],[\"304\",\"duplex\"],[\"304\",\"row_house\"],[\"304\",\"semi_detached_house\"],[\"304\",\"movable_dwelling\"],[\"304\",\"apartment_five_storeys_plus\"],[\"304\",\"single_detached_house\"],[\"304\",\"year\"],[\"305\",\"shelter_costs_rented\"],[\"305\",\"shelter_costs_owned\"],[\"305\",\"average_house_value\"],[\"305\",\"other_house\"],[\"305\",\"apartment_five_storeys_less\"],[\"305\",\"duplex\"],[\"305\",\"row_house\"],[\"305\",\"semi_detached_house\"],[\"305\",\"movable_dwelling\"],[\"305\",\"apartment_five_storeys_plus\"],[\"305\",\"single_detached_house\"],[\"305\",\"year\"],[\"306\",\"shelter_costs_rented\"],[\"306\",\"shelter_costs_owned\"],[\"306\",\"average_house_value\"],[\"306\",\"other_house\"],[\"306\",\"apartment_five_storeys_less\"],[\"306\",\"duplex\"],[\"306\",\"row_house\"],[\"306\",\"semi_detached_house\"],[\"306\",\"movable_dwelling\"],[\"306\",\"apartment_five_storeys_plus\"],[\"306\",\"single_detached_house\"],[\"306\",\"year\"],[\"307\",\"shelter_costs_rented\"],[\"307\",\"shelter_costs_owned\"],[\"307\",\"average_house_value\"],[\"307\",\"other_house\"],[\"307\",\"apartment_five_storeys_less\"],[\"307\",\"duplex\"],[\"307\",\"row_house\"],[\"307\",\"semi_detached_house\"],[\"307\",\"movable_dwelling\"],[\"307\",\"apartment_five_storeys_plus\"],[\"307\",\"single_detached_house\"],[\"307\",\"year\"],[\"308\",\"shelter_costs_rented\"],[\"308\",\"shelter_costs_owned\"],[\"308\",\"average_house_value\"],[\"308\",\"other_house\"],[\"308\",\"apartment_five_storeys_less\"],[\"308\",\"duplex\"],[\"308\",\"row_house\"],[\"308\",\"semi_detached_house\"],[\"308\",\"movable_dwelling\"],[\"308\",\"apartment_five_storeys_plus\"],[\"308\",\"single_detached_house\"],[\"308\",\"year\"],[\"309\",\"shelter_costs_rented\"],[\"309\",\"shelter_costs_owned\"],[\"309\",\"average_house_value\"],[\"309\",\"other_house\"],[\"309\",\"apartment_five_storeys_less\"],[\"309\",\"duplex\"],[\"309\",\"row_house\"],[\"309\",\"semi_detached_house\"],[\"309\",\"movable_dwelling\"],[\"309\",\"apartment_five_storeys_plus\"],[\"309\",\"single_detached_house\"],[\"309\",\"year\"],[\"310\",\"shelter_costs_rented\"],[\"310\",\"shelter_costs_owned\"],[\"310\",\"average_house_value\"],[\"310\",\"other_house\"],[\"310\",\"apartment_five_storeys_less\"],[\"310\",\"duplex\"],[\"310\",\"row_house\"],[\"310\",\"semi_detached_house\"],[\"310\",\"movable_dwelling\"],[\"310\",\"apartment_five_storeys_plus\"],[\"310\",\"single_detached_house\"],[\"310\",\"year\"],[\"311\",\"shelter_costs_rented\"],[\"311\",\"shelter_costs_owned\"],[\"311\",\"average_house_value\"],[\"311\",\"other_house\"],[\"311\",\"apartment_five_storeys_less\"],[\"311\",\"duplex\"],[\"311\",\"row_house\"],[\"311\",\"semi_detached_house\"],[\"311\",\"movable_dwelling\"],[\"311\",\"apartment_five_storeys_plus\"],[\"311\",\"single_detached_house\"],[\"311\",\"year\"],[\"312\",\"shelter_costs_rented\"],[\"312\",\"shelter_costs_owned\"],[\"312\",\"average_house_value\"],[\"312\",\"other_house\"],[\"312\",\"apartment_five_storeys_less\"],[\"312\",\"duplex\"],[\"312\",\"row_house\"],[\"312\",\"semi_detached_house\"],[\"312\",\"movable_dwelling\"],[\"312\",\"apartment_five_storeys_plus\"],[\"312\",\"single_detached_house\"],[\"312\",\"year\"],[\"313\",\"shelter_costs_rented\"],[\"313\",\"shelter_costs_owned\"],[\"313\",\"average_house_value\"],[\"313\",\"other_house\"],[\"313\",\"apartment_five_storeys_less\"],[\"313\",\"duplex\"],[\"313\",\"row_house\"],[\"313\",\"semi_detached_house\"],[\"313\",\"movable_dwelling\"],[\"313\",\"apartment_five_storeys_plus\"],[\"313\",\"single_detached_house\"],[\"313\",\"year\"],[\"314\",\"shelter_costs_rented\"],[\"314\",\"shelter_costs_owned\"],[\"314\",\"average_house_value\"],[\"314\",\"other_house\"],[\"314\",\"apartment_five_storeys_less\"],[\"314\",\"duplex\"],[\"314\",\"row_house\"],[\"314\",\"semi_detached_house\"],[\"314\",\"movable_dwelling\"],[\"314\",\"apartment_five_storeys_plus\"],[\"314\",\"single_detached_house\"],[\"314\",\"year\"],[\"315\",\"shelter_costs_rented\"],[\"315\",\"shelter_costs_owned\"],[\"315\",\"average_house_value\"],[\"315\",\"other_house\"],[\"315\",\"apartment_five_storeys_less\"],[\"315\",\"duplex\"],[\"315\",\"row_house\"],[\"315\",\"semi_detached_house\"],[\"315\",\"movable_dwelling\"],[\"315\",\"apartment_five_storeys_plus\"],[\"315\",\"single_detached_house\"],[\"315\",\"year\"],[\"316\",\"shelter_costs_rented\"],[\"316\",\"shelter_costs_owned\"],[\"316\",\"average_house_value\"],[\"316\",\"other_house\"],[\"316\",\"apartment_five_storeys_less\"],[\"316\",\"duplex\"],[\"316\",\"row_house\"],[\"316\",\"semi_detached_house\"],[\"316\",\"movable_dwelling\"],[\"316\",\"apartment_five_storeys_plus\"],[\"316\",\"single_detached_house\"],[\"316\",\"year\"],[\"317\",\"shelter_costs_rented\"],[\"317\",\"shelter_costs_owned\"],[\"317\",\"average_house_value\"],[\"317\",\"other_house\"],[\"317\",\"apartment_five_storeys_less\"],[\"317\",\"duplex\"],[\"317\",\"row_house\"],[\"317\",\"semi_detached_house\"],[\"317\",\"movable_dwelling\"],[\"317\",\"apartment_five_storeys_plus\"],[\"317\",\"single_detached_house\"],[\"317\",\"year\"],[\"318\",\"shelter_costs_rented\"],[\"318\",\"shelter_costs_owned\"],[\"318\",\"average_house_value\"],[\"318\",\"other_house\"],[\"318\",\"apartment_five_storeys_less\"],[\"318\",\"duplex\"],[\"318\",\"row_house\"],[\"318\",\"semi_detached_house\"],[\"318\",\"movable_dwelling\"],[\"318\",\"apartment_five_storeys_plus\"],[\"318\",\"single_detached_house\"],[\"318\",\"year\"],[\"319\",\"shelter_costs_rented\"],[\"319\",\"shelter_costs_owned\"],[\"319\",\"average_house_value\"],[\"319\",\"other_house\"],[\"319\",\"apartment_five_storeys_less\"],[\"319\",\"duplex\"],[\"319\",\"row_house\"],[\"319\",\"semi_detached_house\"],[\"319\",\"movable_dwelling\"],[\"319\",\"apartment_five_storeys_plus\"],[\"319\",\"single_detached_house\"],[\"319\",\"year\"],[\"320\",\"shelter_costs_rented\"],[\"320\",\"shelter_costs_owned\"],[\"320\",\"average_house_value\"],[\"320\",\"other_house\"],[\"320\",\"apartment_five_storeys_less\"],[\"320\",\"duplex\"],[\"320\",\"row_house\"],[\"320\",\"semi_detached_house\"],[\"320\",\"movable_dwelling\"],[\"320\",\"apartment_five_storeys_plus\"],[\"320\",\"single_detached_house\"],[\"320\",\"year\"],[\"321\",\"shelter_costs_rented\"],[\"321\",\"shelter_costs_owned\"],[\"321\",\"average_house_value\"],[\"321\",\"other_house\"],[\"321\",\"apartment_five_storeys_less\"],[\"321\",\"duplex\"],[\"321\",\"row_house\"],[\"321\",\"semi_detached_house\"],[\"321\",\"movable_dwelling\"],[\"321\",\"apartment_five_storeys_plus\"],[\"321\",\"single_detached_house\"],[\"321\",\"year\"],[\"322\",\"shelter_costs_rented\"],[\"322\",\"shelter_costs_owned\"],[\"322\",\"average_house_value\"],[\"322\",\"other_house\"],[\"322\",\"apartment_five_storeys_less\"],[\"322\",\"duplex\"],[\"322\",\"row_house\"],[\"322\",\"semi_detached_house\"],[\"322\",\"movable_dwelling\"],[\"322\",\"apartment_five_storeys_plus\"],[\"322\",\"single_detached_house\"],[\"322\",\"year\"],[\"323\",\"shelter_costs_rented\"],[\"323\",\"shelter_costs_owned\"],[\"323\",\"average_house_value\"],[\"323\",\"other_house\"],[\"323\",\"apartment_five_storeys_less\"],[\"323\",\"duplex\"],[\"323\",\"row_house\"],[\"323\",\"semi_detached_house\"],[\"323\",\"movable_dwelling\"],[\"323\",\"apartment_five_storeys_plus\"],[\"323\",\"single_detached_house\"],[\"323\",\"year\"],[\"324\",\"shelter_costs_rented\"],[\"324\",\"shelter_costs_owned\"],[\"324\",\"average_house_value\"],[\"324\",\"other_house\"],[\"324\",\"apartment_five_storeys_less\"],[\"324\",\"duplex\"],[\"324\",\"row_house\"],[\"324\",\"semi_detached_house\"],[\"324\",\"movable_dwelling\"],[\"324\",\"apartment_five_storeys_plus\"],[\"324\",\"single_detached_house\"],[\"324\",\"year\"],[\"325\",\"shelter_costs_rented\"],[\"325\",\"shelter_costs_owned\"],[\"325\",\"average_house_value\"],[\"325\",\"other_house\"],[\"325\",\"apartment_five_storeys_less\"],[\"325\",\"duplex\"],[\"325\",\"row_house\"],[\"325\",\"semi_detached_house\"],[\"325\",\"movable_dwelling\"],[\"325\",\"apartment_five_storeys_plus\"],[\"325\",\"single_detached_house\"],[\"325\",\"year\"],[\"326\",\"shelter_costs_rented\"],[\"326\",\"shelter_costs_owned\"],[\"326\",\"average_house_value\"],[\"326\",\"other_house\"],[\"326\",\"apartment_five_storeys_less\"],[\"326\",\"duplex\"],[\"326\",\"row_house\"],[\"326\",\"semi_detached_house\"],[\"326\",\"movable_dwelling\"],[\"326\",\"apartment_five_storeys_plus\"],[\"326\",\"single_detached_house\"],[\"326\",\"year\"],[\"327\",\"shelter_costs_rented\"],[\"327\",\"shelter_costs_owned\"],[\"327\",\"average_house_value\"],[\"327\",\"other_house\"],[\"327\",\"apartment_five_storeys_less\"],[\"327\",\"duplex\"],[\"327\",\"row_house\"],[\"327\",\"semi_detached_house\"],[\"327\",\"movable_dwelling\"],[\"327\",\"apartment_five_storeys_plus\"],[\"327\",\"single_detached_house\"],[\"327\",\"year\"],[\"328\",\"shelter_costs_rented\"],[\"328\",\"shelter_costs_owned\"],[\"328\",\"average_house_value\"],[\"328\",\"other_house\"],[\"328\",\"apartment_five_storeys_less\"],[\"328\",\"duplex\"],[\"328\",\"row_house\"],[\"328\",\"semi_detached_house\"],[\"328\",\"movable_dwelling\"],[\"328\",\"apartment_five_storeys_plus\"],[\"328\",\"single_detached_house\"],[\"328\",\"year\"],[\"329\",\"shelter_costs_rented\"],[\"329\",\"shelter_costs_owned\"],[\"329\",\"average_house_value\"],[\"329\",\"other_house\"],[\"329\",\"apartment_five_storeys_less\"],[\"329\",\"duplex\"],[\"329\",\"row_house\"],[\"329\",\"semi_detached_house\"],[\"329\",\"movable_dwelling\"],[\"329\",\"apartment_five_storeys_plus\"],[\"329\",\"single_detached_house\"],[\"329\",\"year\"],[\"330\",\"shelter_costs_rented\"],[\"330\",\"shelter_costs_owned\"],[\"330\",\"average_house_value\"],[\"330\",\"other_house\"],[\"330\",\"apartment_five_storeys_less\"],[\"330\",\"duplex\"],[\"330\",\"row_house\"],[\"330\",\"semi_detached_house\"],[\"330\",\"movable_dwelling\"],[\"330\",\"apartment_five_storeys_plus\"],[\"330\",\"single_detached_house\"],[\"330\",\"year\"],[\"331\",\"shelter_costs_rented\"],[\"331\",\"shelter_costs_owned\"],[\"331\",\"average_house_value\"],[\"331\",\"other_house\"],[\"331\",\"apartment_five_storeys_less\"],[\"331\",\"duplex\"],[\"331\",\"row_house\"],[\"331\",\"semi_detached_house\"],[\"331\",\"movable_dwelling\"],[\"331\",\"apartment_five_storeys_plus\"],[\"331\",\"single_detached_house\"],[\"331\",\"year\"],[\"332\",\"shelter_costs_rented\"],[\"332\",\"shelter_costs_owned\"],[\"332\",\"average_house_value\"],[\"332\",\"other_house\"],[\"332\",\"apartment_five_storeys_less\"],[\"332\",\"duplex\"],[\"332\",\"row_house\"],[\"332\",\"semi_detached_house\"],[\"332\",\"movable_dwelling\"],[\"332\",\"apartment_five_storeys_plus\"],[\"332\",\"single_detached_house\"],[\"332\",\"year\"],[\"333\",\"shelter_costs_rented\"],[\"333\",\"shelter_costs_owned\"],[\"333\",\"average_house_value\"],[\"333\",\"other_house\"],[\"333\",\"apartment_five_storeys_less\"],[\"333\",\"duplex\"],[\"333\",\"row_house\"],[\"333\",\"semi_detached_house\"],[\"333\",\"movable_dwelling\"],[\"333\",\"apartment_five_storeys_plus\"],[\"333\",\"single_detached_house\"],[\"333\",\"year\"],[\"334\",\"shelter_costs_rented\"],[\"334\",\"shelter_costs_owned\"],[\"334\",\"average_house_value\"],[\"334\",\"other_house\"],[\"334\",\"apartment_five_storeys_less\"],[\"334\",\"duplex\"],[\"334\",\"row_house\"],[\"334\",\"semi_detached_house\"],[\"334\",\"movable_dwelling\"],[\"334\",\"apartment_five_storeys_plus\"],[\"334\",\"single_detached_house\"],[\"334\",\"year\"],[\"335\",\"shelter_costs_rented\"],[\"335\",\"shelter_costs_owned\"],[\"335\",\"average_house_value\"],[\"335\",\"other_house\"],[\"335\",\"apartment_five_storeys_less\"],[\"335\",\"duplex\"],[\"335\",\"row_house\"],[\"335\",\"semi_detached_house\"],[\"335\",\"movable_dwelling\"],[\"335\",\"apartment_five_storeys_plus\"],[\"335\",\"single_detached_house\"],[\"335\",\"year\"],[\"336\",\"shelter_costs_rented\"],[\"336\",\"shelter_costs_owned\"],[\"336\",\"average_house_value\"],[\"336\",\"other_house\"],[\"336\",\"apartment_five_storeys_less\"],[\"336\",\"duplex\"],[\"336\",\"row_house\"],[\"336\",\"semi_detached_house\"],[\"336\",\"movable_dwelling\"],[\"336\",\"apartment_five_storeys_plus\"],[\"336\",\"single_detached_house\"],[\"336\",\"year\"],[\"337\",\"shelter_costs_rented\"],[\"337\",\"shelter_costs_owned\"],[\"337\",\"average_house_value\"],[\"337\",\"other_house\"],[\"337\",\"apartment_five_storeys_less\"],[\"337\",\"duplex\"],[\"337\",\"row_house\"],[\"337\",\"semi_detached_house\"],[\"337\",\"movable_dwelling\"],[\"337\",\"apartment_five_storeys_plus\"],[\"337\",\"single_detached_house\"],[\"337\",\"year\"],[\"338\",\"shelter_costs_rented\"],[\"338\",\"shelter_costs_owned\"],[\"338\",\"average_house_value\"],[\"338\",\"other_house\"],[\"338\",\"apartment_five_storeys_less\"],[\"338\",\"duplex\"],[\"338\",\"row_house\"],[\"338\",\"semi_detached_house\"],[\"338\",\"movable_dwelling\"],[\"338\",\"apartment_five_storeys_plus\"],[\"338\",\"single_detached_house\"],[\"338\",\"year\"],[\"339\",\"shelter_costs_rented\"],[\"339\",\"shelter_costs_owned\"],[\"339\",\"average_house_value\"],[\"339\",\"other_house\"],[\"339\",\"apartment_five_storeys_less\"],[\"339\",\"duplex\"],[\"339\",\"row_house\"],[\"339\",\"semi_detached_house\"],[\"339\",\"movable_dwelling\"],[\"339\",\"apartment_five_storeys_plus\"],[\"339\",\"single_detached_house\"],[\"339\",\"year\"],[\"340\",\"shelter_costs_rented\"],[\"340\",\"shelter_costs_owned\"],[\"340\",\"average_house_value\"],[\"340\",\"other_house\"],[\"340\",\"apartment_five_storeys_less\"],[\"340\",\"duplex\"],[\"340\",\"row_house\"],[\"340\",\"semi_detached_house\"],[\"340\",\"movable_dwelling\"],[\"340\",\"apartment_five_storeys_plus\"],[\"340\",\"single_detached_house\"],[\"340\",\"year\"],[\"341\",\"shelter_costs_rented\"],[\"341\",\"shelter_costs_owned\"],[\"341\",\"average_house_value\"],[\"341\",\"other_house\"],[\"341\",\"apartment_five_storeys_less\"],[\"341\",\"duplex\"],[\"341\",\"row_house\"],[\"341\",\"semi_detached_house\"],[\"341\",\"movable_dwelling\"],[\"341\",\"apartment_five_storeys_plus\"],[\"341\",\"single_detached_house\"],[\"341\",\"year\"],[\"342\",\"shelter_costs_rented\"],[\"342\",\"shelter_costs_owned\"],[\"342\",\"average_house_value\"],[\"342\",\"other_house\"],[\"342\",\"apartment_five_storeys_less\"],[\"342\",\"duplex\"],[\"342\",\"row_house\"],[\"342\",\"semi_detached_house\"],[\"342\",\"movable_dwelling\"],[\"342\",\"apartment_five_storeys_plus\"],[\"342\",\"single_detached_house\"],[\"342\",\"year\"],[\"343\",\"shelter_costs_rented\"],[\"343\",\"shelter_costs_owned\"],[\"343\",\"average_house_value\"],[\"343\",\"other_house\"],[\"343\",\"apartment_five_storeys_less\"],[\"343\",\"duplex\"],[\"343\",\"row_house\"],[\"343\",\"semi_detached_house\"],[\"343\",\"movable_dwelling\"],[\"343\",\"apartment_five_storeys_plus\"],[\"343\",\"single_detached_house\"],[\"343\",\"year\"],[\"344\",\"shelter_costs_rented\"],[\"344\",\"shelter_costs_owned\"],[\"344\",\"average_house_value\"],[\"344\",\"other_house\"],[\"344\",\"apartment_five_storeys_less\"],[\"344\",\"duplex\"],[\"344\",\"row_house\"],[\"344\",\"semi_detached_house\"],[\"344\",\"movable_dwelling\"],[\"344\",\"apartment_five_storeys_plus\"],[\"344\",\"single_detached_house\"],[\"344\",\"year\"],[\"345\",\"shelter_costs_rented\"],[\"345\",\"shelter_costs_owned\"],[\"345\",\"average_house_value\"],[\"345\",\"other_house\"],[\"345\",\"apartment_five_storeys_less\"],[\"345\",\"duplex\"],[\"345\",\"row_house\"],[\"345\",\"semi_detached_house\"],[\"345\",\"movable_dwelling\"],[\"345\",\"apartment_five_storeys_plus\"],[\"345\",\"single_detached_house\"],[\"345\",\"year\"],[\"346\",\"shelter_costs_rented\"],[\"346\",\"shelter_costs_owned\"],[\"346\",\"average_house_value\"],[\"346\",\"other_house\"],[\"346\",\"apartment_five_storeys_less\"],[\"346\",\"duplex\"],[\"346\",\"row_house\"],[\"346\",\"semi_detached_house\"],[\"346\",\"movable_dwelling\"],[\"346\",\"apartment_five_storeys_plus\"],[\"346\",\"single_detached_house\"],[\"346\",\"year\"],[\"347\",\"shelter_costs_rented\"],[\"347\",\"shelter_costs_owned\"],[\"347\",\"average_house_value\"],[\"347\",\"other_house\"],[\"347\",\"apartment_five_storeys_less\"],[\"347\",\"duplex\"],[\"347\",\"row_house\"],[\"347\",\"semi_detached_house\"],[\"347\",\"movable_dwelling\"],[\"347\",\"apartment_five_storeys_plus\"],[\"347\",\"single_detached_house\"],[\"347\",\"year\"],[\"348\",\"shelter_costs_rented\"],[\"348\",\"shelter_costs_owned\"],[\"348\",\"average_house_value\"],[\"348\",\"other_house\"],[\"348\",\"apartment_five_storeys_less\"],[\"348\",\"duplex\"],[\"348\",\"row_house\"],[\"348\",\"semi_detached_house\"],[\"348\",\"movable_dwelling\"],[\"348\",\"apartment_five_storeys_plus\"],[\"348\",\"single_detached_house\"],[\"348\",\"year\"],[\"349\",\"shelter_costs_rented\"],[\"349\",\"shelter_costs_owned\"],[\"349\",\"average_house_value\"],[\"349\",\"other_house\"],[\"349\",\"apartment_five_storeys_less\"],[\"349\",\"duplex\"],[\"349\",\"row_house\"],[\"349\",\"semi_detached_house\"],[\"349\",\"movable_dwelling\"],[\"349\",\"apartment_five_storeys_plus\"],[\"349\",\"single_detached_house\"],[\"349\",\"year\"],[\"350\",\"shelter_costs_rented\"],[\"350\",\"shelter_costs_owned\"],[\"350\",\"average_house_value\"],[\"350\",\"other_house\"],[\"350\",\"apartment_five_storeys_less\"],[\"350\",\"duplex\"],[\"350\",\"row_house\"],[\"350\",\"semi_detached_house\"],[\"350\",\"movable_dwelling\"],[\"350\",\"apartment_five_storeys_plus\"],[\"350\",\"single_detached_house\"],[\"350\",\"year\"],[\"351\",\"shelter_costs_rented\"],[\"351\",\"shelter_costs_owned\"],[\"351\",\"average_house_value\"],[\"351\",\"other_house\"],[\"351\",\"apartment_five_storeys_less\"],[\"351\",\"duplex\"],[\"351\",\"row_house\"],[\"351\",\"semi_detached_house\"],[\"351\",\"movable_dwelling\"],[\"351\",\"apartment_five_storeys_plus\"],[\"351\",\"single_detached_house\"],[\"351\",\"year\"],[\"352\",\"shelter_costs_rented\"],[\"352\",\"shelter_costs_owned\"],[\"352\",\"average_house_value\"],[\"352\",\"other_house\"],[\"352\",\"apartment_five_storeys_less\"],[\"352\",\"duplex\"],[\"352\",\"row_house\"],[\"352\",\"semi_detached_house\"],[\"352\",\"movable_dwelling\"],[\"352\",\"apartment_five_storeys_plus\"],[\"352\",\"single_detached_house\"],[\"352\",\"year\"],[\"353\",\"shelter_costs_rented\"],[\"353\",\"shelter_costs_owned\"],[\"353\",\"average_house_value\"],[\"353\",\"other_house\"],[\"353\",\"apartment_five_storeys_less\"],[\"353\",\"duplex\"],[\"353\",\"row_house\"],[\"353\",\"semi_detached_house\"],[\"353\",\"movable_dwelling\"],[\"353\",\"apartment_five_storeys_plus\"],[\"353\",\"single_detached_house\"],[\"353\",\"year\"],[\"354\",\"shelter_costs_rented\"],[\"354\",\"shelter_costs_owned\"],[\"354\",\"average_house_value\"],[\"354\",\"other_house\"],[\"354\",\"apartment_five_storeys_less\"],[\"354\",\"duplex\"],[\"354\",\"row_house\"],[\"354\",\"semi_detached_house\"],[\"354\",\"movable_dwelling\"],[\"354\",\"apartment_five_storeys_plus\"],[\"354\",\"single_detached_house\"],[\"354\",\"year\"],[\"355\",\"shelter_costs_rented\"],[\"355\",\"shelter_costs_owned\"],[\"355\",\"average_house_value\"],[\"355\",\"other_house\"],[\"355\",\"apartment_five_storeys_less\"],[\"355\",\"duplex\"],[\"355\",\"row_house\"],[\"355\",\"semi_detached_house\"],[\"355\",\"movable_dwelling\"],[\"355\",\"apartment_five_storeys_plus\"],[\"355\",\"single_detached_house\"],[\"355\",\"year\"],[\"356\",\"shelter_costs_rented\"],[\"356\",\"shelter_costs_owned\"],[\"356\",\"average_house_value\"],[\"356\",\"other_house\"],[\"356\",\"apartment_five_storeys_less\"],[\"356\",\"duplex\"],[\"356\",\"row_house\"],[\"356\",\"semi_detached_house\"],[\"356\",\"movable_dwelling\"],[\"356\",\"apartment_five_storeys_plus\"],[\"356\",\"single_detached_house\"],[\"356\",\"year\"],[\"357\",\"shelter_costs_rented\"],[\"357\",\"shelter_costs_owned\"],[\"357\",\"average_house_value\"],[\"357\",\"other_house\"],[\"357\",\"apartment_five_storeys_less\"],[\"357\",\"duplex\"],[\"357\",\"row_house\"],[\"357\",\"semi_detached_house\"],[\"357\",\"movable_dwelling\"],[\"357\",\"apartment_five_storeys_plus\"],[\"357\",\"single_detached_house\"],[\"357\",\"year\"],[\"358\",\"shelter_costs_rented\"],[\"358\",\"shelter_costs_owned\"],[\"358\",\"average_house_value\"],[\"358\",\"other_house\"],[\"358\",\"apartment_five_storeys_less\"],[\"358\",\"duplex\"],[\"358\",\"row_house\"],[\"358\",\"semi_detached_house\"],[\"358\",\"movable_dwelling\"],[\"358\",\"apartment_five_storeys_plus\"],[\"358\",\"single_detached_house\"],[\"358\",\"year\"],[\"359\",\"shelter_costs_rented\"],[\"359\",\"shelter_costs_owned\"],[\"359\",\"average_house_value\"],[\"359\",\"other_house\"],[\"359\",\"apartment_five_storeys_less\"],[\"359\",\"duplex\"],[\"359\",\"row_house\"],[\"359\",\"semi_detached_house\"],[\"359\",\"movable_dwelling\"],[\"359\",\"apartment_five_storeys_plus\"],[\"359\",\"single_detached_house\"],[\"359\",\"year\"],[\"360\",\"shelter_costs_rented\"],[\"360\",\"shelter_costs_owned\"],[\"360\",\"average_house_value\"],[\"360\",\"other_house\"],[\"360\",\"apartment_five_storeys_less\"],[\"360\",\"duplex\"],[\"360\",\"row_house\"],[\"360\",\"semi_detached_house\"],[\"360\",\"movable_dwelling\"],[\"360\",\"apartment_five_storeys_plus\"],[\"360\",\"single_detached_house\"],[\"360\",\"year\"],[\"361\",\"shelter_costs_rented\"],[\"361\",\"shelter_costs_owned\"],[\"361\",\"average_house_value\"],[\"361\",\"other_house\"],[\"361\",\"apartment_five_storeys_less\"],[\"361\",\"duplex\"],[\"361\",\"row_house\"],[\"361\",\"semi_detached_house\"],[\"361\",\"movable_dwelling\"],[\"361\",\"apartment_five_storeys_plus\"],[\"361\",\"single_detached_house\"],[\"361\",\"year\"],[\"362\",\"shelter_costs_rented\"],[\"362\",\"shelter_costs_owned\"],[\"362\",\"average_house_value\"],[\"362\",\"other_house\"],[\"362\",\"apartment_five_storeys_less\"],[\"362\",\"duplex\"],[\"362\",\"row_house\"],[\"362\",\"semi_detached_house\"],[\"362\",\"movable_dwelling\"],[\"362\",\"apartment_five_storeys_plus\"],[\"362\",\"single_detached_house\"],[\"362\",\"year\"],[\"363\",\"shelter_costs_rented\"],[\"363\",\"shelter_costs_owned\"],[\"363\",\"average_house_value\"],[\"363\",\"other_house\"],[\"363\",\"apartment_five_storeys_less\"],[\"363\",\"duplex\"],[\"363\",\"row_house\"],[\"363\",\"semi_detached_house\"],[\"363\",\"movable_dwelling\"],[\"363\",\"apartment_five_storeys_plus\"],[\"363\",\"single_detached_house\"],[\"363\",\"year\"],[\"364\",\"shelter_costs_rented\"],[\"364\",\"shelter_costs_owned\"],[\"364\",\"average_house_value\"],[\"364\",\"other_house\"],[\"364\",\"apartment_five_storeys_less\"],[\"364\",\"duplex\"],[\"364\",\"row_house\"],[\"364\",\"semi_detached_house\"],[\"364\",\"movable_dwelling\"],[\"364\",\"apartment_five_storeys_plus\"],[\"364\",\"single_detached_house\"],[\"364\",\"year\"],[\"365\",\"shelter_costs_rented\"],[\"365\",\"shelter_costs_owned\"],[\"365\",\"average_house_value\"],[\"365\",\"other_house\"],[\"365\",\"apartment_five_storeys_less\"],[\"365\",\"duplex\"],[\"365\",\"row_house\"],[\"365\",\"semi_detached_house\"],[\"365\",\"movable_dwelling\"],[\"365\",\"apartment_five_storeys_plus\"],[\"365\",\"single_detached_house\"],[\"365\",\"year\"],[\"366\",\"shelter_costs_rented\"],[\"366\",\"shelter_costs_owned\"],[\"366\",\"average_house_value\"],[\"366\",\"other_house\"],[\"366\",\"apartment_five_storeys_less\"],[\"366\",\"duplex\"],[\"366\",\"row_house\"],[\"366\",\"semi_detached_house\"],[\"366\",\"movable_dwelling\"],[\"366\",\"apartment_five_storeys_plus\"],[\"366\",\"single_detached_house\"],[\"366\",\"year\"],[\"367\",\"shelter_costs_rented\"],[\"367\",\"shelter_costs_owned\"],[\"367\",\"average_house_value\"],[\"367\",\"other_house\"],[\"367\",\"apartment_five_storeys_less\"],[\"367\",\"duplex\"],[\"367\",\"row_house\"],[\"367\",\"semi_detached_house\"],[\"367\",\"movable_dwelling\"],[\"367\",\"apartment_five_storeys_plus\"],[\"367\",\"single_detached_house\"],[\"367\",\"year\"],[\"368\",\"shelter_costs_rented\"],[\"368\",\"shelter_costs_owned\"],[\"368\",\"average_house_value\"],[\"368\",\"other_house\"],[\"368\",\"apartment_five_storeys_less\"],[\"368\",\"duplex\"],[\"368\",\"row_house\"],[\"368\",\"semi_detached_house\"],[\"368\",\"movable_dwelling\"],[\"368\",\"apartment_five_storeys_plus\"],[\"368\",\"single_detached_house\"],[\"368\",\"year\"],[\"369\",\"shelter_costs_rented\"],[\"369\",\"shelter_costs_owned\"],[\"369\",\"average_house_value\"],[\"369\",\"other_house\"],[\"369\",\"apartment_five_storeys_less\"],[\"369\",\"duplex\"],[\"369\",\"row_house\"],[\"369\",\"semi_detached_house\"],[\"369\",\"movable_dwelling\"],[\"369\",\"apartment_five_storeys_plus\"],[\"369\",\"single_detached_house\"],[\"369\",\"year\"],[\"370\",\"shelter_costs_rented\"],[\"370\",\"shelter_costs_owned\"],[\"370\",\"average_house_value\"],[\"370\",\"other_house\"],[\"370\",\"apartment_five_storeys_less\"],[\"370\",\"duplex\"],[\"370\",\"row_house\"],[\"370\",\"semi_detached_house\"],[\"370\",\"movable_dwelling\"],[\"370\",\"apartment_five_storeys_plus\"],[\"370\",\"single_detached_house\"],[\"370\",\"year\"],[\"371\",\"shelter_costs_rented\"],[\"371\",\"shelter_costs_owned\"],[\"371\",\"average_house_value\"],[\"371\",\"other_house\"],[\"371\",\"apartment_five_storeys_less\"],[\"371\",\"duplex\"],[\"371\",\"row_house\"],[\"371\",\"semi_detached_house\"],[\"371\",\"movable_dwelling\"],[\"371\",\"apartment_five_storeys_plus\"],[\"371\",\"single_detached_house\"],[\"371\",\"year\"],[\"372\",\"shelter_costs_rented\"],[\"372\",\"shelter_costs_owned\"],[\"372\",\"average_house_value\"],[\"372\",\"other_house\"],[\"372\",\"apartment_five_storeys_less\"],[\"372\",\"duplex\"],[\"372\",\"row_house\"],[\"372\",\"semi_detached_house\"],[\"372\",\"movable_dwelling\"],[\"372\",\"apartment_five_storeys_plus\"],[\"372\",\"single_detached_house\"],[\"372\",\"year\"],[\"373\",\"shelter_costs_rented\"],[\"373\",\"shelter_costs_owned\"],[\"373\",\"average_house_value\"],[\"373\",\"other_house\"],[\"373\",\"apartment_five_storeys_less\"],[\"373\",\"duplex\"],[\"373\",\"row_house\"],[\"373\",\"semi_detached_house\"],[\"373\",\"movable_dwelling\"],[\"373\",\"apartment_five_storeys_plus\"],[\"373\",\"single_detached_house\"],[\"373\",\"year\"],[\"374\",\"shelter_costs_rented\"],[\"374\",\"shelter_costs_owned\"],[\"374\",\"average_house_value\"],[\"374\",\"other_house\"],[\"374\",\"apartment_five_storeys_less\"],[\"374\",\"duplex\"],[\"374\",\"row_house\"],[\"374\",\"semi_detached_house\"],[\"374\",\"movable_dwelling\"],[\"374\",\"apartment_five_storeys_plus\"],[\"374\",\"single_detached_house\"],[\"374\",\"year\"],[\"375\",\"shelter_costs_rented\"],[\"375\",\"shelter_costs_owned\"],[\"375\",\"average_house_value\"],[\"375\",\"other_house\"],[\"375\",\"apartment_five_storeys_less\"],[\"375\",\"duplex\"],[\"375\",\"row_house\"],[\"375\",\"semi_detached_house\"],[\"375\",\"movable_dwelling\"],[\"375\",\"apartment_five_storeys_plus\"],[\"375\",\"single_detached_house\"],[\"375\",\"year\"],[\"376\",\"shelter_costs_rented\"],[\"376\",\"shelter_costs_owned\"],[\"376\",\"average_house_value\"],[\"376\",\"other_house\"],[\"376\",\"apartment_five_storeys_less\"],[\"376\",\"duplex\"],[\"376\",\"row_house\"],[\"376\",\"semi_detached_house\"],[\"376\",\"movable_dwelling\"],[\"376\",\"apartment_five_storeys_plus\"],[\"376\",\"single_detached_house\"],[\"376\",\"year\"],[\"377\",\"shelter_costs_rented\"],[\"377\",\"shelter_costs_owned\"],[\"377\",\"average_house_value\"],[\"377\",\"other_house\"],[\"377\",\"apartment_five_storeys_less\"],[\"377\",\"duplex\"],[\"377\",\"row_house\"],[\"377\",\"semi_detached_house\"],[\"377\",\"movable_dwelling\"],[\"377\",\"apartment_five_storeys_plus\"],[\"377\",\"single_detached_house\"],[\"377\",\"year\"],[\"378\",\"shelter_costs_rented\"],[\"378\",\"shelter_costs_owned\"],[\"378\",\"average_house_value\"],[\"378\",\"other_house\"],[\"378\",\"apartment_five_storeys_less\"],[\"378\",\"duplex\"],[\"378\",\"row_house\"],[\"378\",\"semi_detached_house\"],[\"378\",\"movable_dwelling\"],[\"378\",\"apartment_five_storeys_plus\"],[\"378\",\"single_detached_house\"],[\"378\",\"year\"],[\"379\",\"shelter_costs_rented\"],[\"379\",\"shelter_costs_owned\"],[\"379\",\"average_house_value\"],[\"379\",\"other_house\"],[\"379\",\"apartment_five_storeys_less\"],[\"379\",\"duplex\"],[\"379\",\"row_house\"],[\"379\",\"semi_detached_house\"],[\"379\",\"movable_dwelling\"],[\"379\",\"apartment_five_storeys_plus\"],[\"379\",\"single_detached_house\"],[\"379\",\"year\"],[\"380\",\"shelter_costs_rented\"],[\"380\",\"shelter_costs_owned\"],[\"380\",\"average_house_value\"],[\"380\",\"other_house\"],[\"380\",\"apartment_five_storeys_less\"],[\"380\",\"duplex\"],[\"380\",\"row_house\"],[\"380\",\"semi_detached_house\"],[\"380\",\"movable_dwelling\"],[\"380\",\"apartment_five_storeys_plus\"],[\"380\",\"single_detached_house\"],[\"380\",\"year\"],[\"381\",\"shelter_costs_rented\"],[\"381\",\"shelter_costs_owned\"],[\"381\",\"average_house_value\"],[\"381\",\"other_house\"],[\"381\",\"apartment_five_storeys_less\"],[\"381\",\"duplex\"],[\"381\",\"row_house\"],[\"381\",\"semi_detached_house\"],[\"381\",\"movable_dwelling\"],[\"381\",\"apartment_five_storeys_plus\"],[\"381\",\"single_detached_house\"],[\"381\",\"year\"],[\"382\",\"shelter_costs_rented\"],[\"382\",\"shelter_costs_owned\"],[\"382\",\"average_house_value\"],[\"382\",\"other_house\"],[\"382\",\"apartment_five_storeys_less\"],[\"382\",\"duplex\"],[\"382\",\"row_house\"],[\"382\",\"semi_detached_house\"],[\"382\",\"movable_dwelling\"],[\"382\",\"apartment_five_storeys_plus\"],[\"382\",\"single_detached_house\"],[\"382\",\"year\"],[\"383\",\"shelter_costs_rented\"],[\"383\",\"shelter_costs_owned\"],[\"383\",\"average_house_value\"],[\"383\",\"other_house\"],[\"383\",\"apartment_five_storeys_less\"],[\"383\",\"duplex\"],[\"383\",\"row_house\"],[\"383\",\"semi_detached_house\"],[\"383\",\"movable_dwelling\"],[\"383\",\"apartment_five_storeys_plus\"],[\"383\",\"single_detached_house\"],[\"383\",\"year\"],[\"384\",\"shelter_costs_rented\"],[\"384\",\"shelter_costs_owned\"],[\"384\",\"average_house_value\"],[\"384\",\"other_house\"],[\"384\",\"apartment_five_storeys_less\"],[\"384\",\"duplex\"],[\"384\",\"row_house\"],[\"384\",\"semi_detached_house\"],[\"384\",\"movable_dwelling\"],[\"384\",\"apartment_five_storeys_plus\"],[\"384\",\"single_detached_house\"],[\"384\",\"year\"],[\"385\",\"shelter_costs_rented\"],[\"385\",\"shelter_costs_owned\"],[\"385\",\"average_house_value\"],[\"385\",\"other_house\"],[\"385\",\"apartment_five_storeys_less\"],[\"385\",\"duplex\"],[\"385\",\"row_house\"],[\"385\",\"semi_detached_house\"],[\"385\",\"movable_dwelling\"],[\"385\",\"apartment_five_storeys_plus\"],[\"385\",\"single_detached_house\"],[\"385\",\"year\"],[\"386\",\"shelter_costs_rented\"],[\"386\",\"shelter_costs_owned\"],[\"386\",\"average_house_value\"],[\"386\",\"other_house\"],[\"386\",\"apartment_five_storeys_less\"],[\"386\",\"duplex\"],[\"386\",\"row_house\"],[\"386\",\"semi_detached_house\"],[\"386\",\"movable_dwelling\"],[\"386\",\"apartment_five_storeys_plus\"],[\"386\",\"single_detached_house\"],[\"386\",\"year\"],[\"387\",\"shelter_costs_rented\"],[\"387\",\"shelter_costs_owned\"],[\"387\",\"average_house_value\"],[\"387\",\"other_house\"],[\"387\",\"apartment_five_storeys_less\"],[\"387\",\"duplex\"],[\"387\",\"row_house\"],[\"387\",\"semi_detached_house\"],[\"387\",\"movable_dwelling\"],[\"387\",\"apartment_five_storeys_plus\"],[\"387\",\"single_detached_house\"],[\"387\",\"year\"],[\"388\",\"shelter_costs_rented\"],[\"388\",\"shelter_costs_owned\"],[\"388\",\"average_house_value\"],[\"388\",\"other_house\"],[\"388\",\"apartment_five_storeys_less\"],[\"388\",\"duplex\"],[\"388\",\"row_house\"],[\"388\",\"semi_detached_house\"],[\"388\",\"movable_dwelling\"],[\"388\",\"apartment_five_storeys_plus\"],[\"388\",\"single_detached_house\"],[\"388\",\"year\"],[\"389\",\"shelter_costs_rented\"],[\"389\",\"shelter_costs_owned\"],[\"389\",\"average_house_value\"],[\"389\",\"other_house\"],[\"389\",\"apartment_five_storeys_less\"],[\"389\",\"duplex\"],[\"389\",\"row_house\"],[\"389\",\"semi_detached_house\"],[\"389\",\"movable_dwelling\"],[\"389\",\"apartment_five_storeys_plus\"],[\"389\",\"single_detached_house\"],[\"389\",\"year\"],[\"390\",\"shelter_costs_rented\"],[\"390\",\"shelter_costs_owned\"],[\"390\",\"average_house_value\"],[\"390\",\"other_house\"],[\"390\",\"apartment_five_storeys_less\"],[\"390\",\"duplex\"],[\"390\",\"row_house\"],[\"390\",\"semi_detached_house\"],[\"390\",\"movable_dwelling\"],[\"390\",\"apartment_five_storeys_plus\"],[\"390\",\"single_detached_house\"],[\"390\",\"year\"],[\"391\",\"shelter_costs_rented\"],[\"391\",\"shelter_costs_owned\"],[\"391\",\"average_house_value\"],[\"391\",\"other_house\"],[\"391\",\"apartment_five_storeys_less\"],[\"391\",\"duplex\"],[\"391\",\"row_house\"],[\"391\",\"semi_detached_house\"],[\"391\",\"movable_dwelling\"],[\"391\",\"apartment_five_storeys_plus\"],[\"391\",\"single_detached_house\"],[\"391\",\"year\"],[\"392\",\"shelter_costs_rented\"],[\"392\",\"shelter_costs_owned\"],[\"392\",\"average_house_value\"],[\"392\",\"other_house\"],[\"392\",\"apartment_five_storeys_less\"],[\"392\",\"duplex\"],[\"392\",\"row_house\"],[\"392\",\"semi_detached_house\"],[\"392\",\"movable_dwelling\"],[\"392\",\"apartment_five_storeys_plus\"],[\"392\",\"single_detached_house\"],[\"392\",\"year\"],[\"393\",\"shelter_costs_rented\"],[\"393\",\"shelter_costs_owned\"],[\"393\",\"average_house_value\"],[\"393\",\"other_house\"],[\"393\",\"apartment_five_storeys_less\"],[\"393\",\"duplex\"],[\"393\",\"row_house\"],[\"393\",\"semi_detached_house\"],[\"393\",\"movable_dwelling\"],[\"393\",\"apartment_five_storeys_plus\"],[\"393\",\"single_detached_house\"],[\"393\",\"year\"],[\"394\",\"shelter_costs_rented\"],[\"394\",\"shelter_costs_owned\"],[\"394\",\"average_house_value\"],[\"394\",\"other_house\"],[\"394\",\"apartment_five_storeys_less\"],[\"394\",\"duplex\"],[\"394\",\"row_house\"],[\"394\",\"semi_detached_house\"],[\"394\",\"movable_dwelling\"],[\"394\",\"apartment_five_storeys_plus\"],[\"394\",\"single_detached_house\"],[\"394\",\"year\"],[\"395\",\"shelter_costs_rented\"],[\"395\",\"shelter_costs_owned\"],[\"395\",\"average_house_value\"],[\"395\",\"other_house\"],[\"395\",\"apartment_five_storeys_less\"],[\"395\",\"duplex\"],[\"395\",\"row_house\"],[\"395\",\"semi_detached_house\"],[\"395\",\"movable_dwelling\"],[\"395\",\"apartment_five_storeys_plus\"],[\"395\",\"single_detached_house\"],[\"395\",\"year\"],[\"396\",\"shelter_costs_rented\"],[\"396\",\"shelter_costs_owned\"],[\"396\",\"average_house_value\"],[\"396\",\"other_house\"],[\"396\",\"apartment_five_storeys_less\"],[\"396\",\"duplex\"],[\"396\",\"row_house\"],[\"396\",\"semi_detached_house\"],[\"396\",\"movable_dwelling\"],[\"396\",\"apartment_five_storeys_plus\"],[\"396\",\"single_detached_house\"],[\"396\",\"year\"],[\"397\",\"shelter_costs_rented\"],[\"397\",\"shelter_costs_owned\"],[\"397\",\"average_house_value\"],[\"397\",\"other_house\"],[\"397\",\"apartment_five_storeys_less\"],[\"397\",\"duplex\"],[\"397\",\"row_house\"],[\"397\",\"semi_detached_house\"],[\"397\",\"movable_dwelling\"],[\"397\",\"apartment_five_storeys_plus\"],[\"397\",\"single_detached_house\"],[\"397\",\"year\"],[\"398\",\"shelter_costs_rented\"],[\"398\",\"shelter_costs_owned\"],[\"398\",\"average_house_value\"],[\"398\",\"other_house\"],[\"398\",\"apartment_five_storeys_less\"],[\"398\",\"duplex\"],[\"398\",\"row_house\"],[\"398\",\"semi_detached_house\"],[\"398\",\"movable_dwelling\"],[\"398\",\"apartment_five_storeys_plus\"],[\"398\",\"single_detached_house\"],[\"398\",\"year\"],[\"399\",\"shelter_costs_rented\"],[\"399\",\"shelter_costs_owned\"],[\"399\",\"average_house_value\"],[\"399\",\"other_house\"],[\"399\",\"apartment_five_storeys_less\"],[\"399\",\"duplex\"],[\"399\",\"row_house\"],[\"399\",\"semi_detached_house\"],[\"399\",\"movable_dwelling\"],[\"399\",\"apartment_five_storeys_plus\"],[\"399\",\"single_detached_house\"],[\"399\",\"year\"],[\"400\",\"shelter_costs_rented\"],[\"400\",\"shelter_costs_owned\"],[\"400\",\"average_house_value\"],[\"400\",\"other_house\"],[\"400\",\"apartment_five_storeys_less\"],[\"400\",\"duplex\"],[\"400\",\"row_house\"],[\"400\",\"semi_detached_house\"],[\"400\",\"movable_dwelling\"],[\"400\",\"apartment_five_storeys_plus\"],[\"400\",\"single_detached_house\"],[\"400\",\"year\"],[\"401\",\"shelter_costs_rented\"],[\"401\",\"shelter_costs_owned\"],[\"401\",\"average_house_value\"],[\"401\",\"other_house\"],[\"401\",\"apartment_five_storeys_less\"],[\"401\",\"duplex\"],[\"401\",\"row_house\"],[\"401\",\"semi_detached_house\"],[\"401\",\"movable_dwelling\"],[\"401\",\"apartment_five_storeys_plus\"],[\"401\",\"single_detached_house\"],[\"401\",\"year\"],[\"402\",\"shelter_costs_rented\"],[\"402\",\"shelter_costs_owned\"],[\"402\",\"average_house_value\"],[\"402\",\"other_house\"],[\"402\",\"apartment_five_storeys_less\"],[\"402\",\"duplex\"],[\"402\",\"row_house\"],[\"402\",\"semi_detached_house\"],[\"402\",\"movable_dwelling\"],[\"402\",\"apartment_five_storeys_plus\"],[\"402\",\"single_detached_house\"],[\"402\",\"year\"],[\"403\",\"shelter_costs_rented\"],[\"403\",\"shelter_costs_owned\"],[\"403\",\"average_house_value\"],[\"403\",\"other_house\"],[\"403\",\"apartment_five_storeys_less\"],[\"403\",\"duplex\"],[\"403\",\"row_house\"],[\"403\",\"semi_detached_house\"],[\"403\",\"movable_dwelling\"],[\"403\",\"apartment_five_storeys_plus\"],[\"403\",\"single_detached_house\"],[\"403\",\"year\"],[\"404\",\"shelter_costs_rented\"],[\"404\",\"shelter_costs_owned\"],[\"404\",\"average_house_value\"],[\"404\",\"other_house\"],[\"404\",\"apartment_five_storeys_less\"],[\"404\",\"duplex\"],[\"404\",\"row_house\"],[\"404\",\"semi_detached_house\"],[\"404\",\"movable_dwelling\"],[\"404\",\"apartment_five_storeys_plus\"],[\"404\",\"single_detached_house\"],[\"404\",\"year\"],[\"405\",\"shelter_costs_rented\"],[\"405\",\"shelter_costs_owned\"],[\"405\",\"average_house_value\"],[\"405\",\"other_house\"],[\"405\",\"apartment_five_storeys_less\"],[\"405\",\"duplex\"],[\"405\",\"row_house\"],[\"405\",\"semi_detached_house\"],[\"405\",\"movable_dwelling\"],[\"405\",\"apartment_five_storeys_plus\"],[\"405\",\"single_detached_house\"],[\"405\",\"year\"],[\"406\",\"shelter_costs_rented\"],[\"406\",\"shelter_costs_owned\"],[\"406\",\"average_house_value\"],[\"406\",\"other_house\"],[\"406\",\"apartment_five_storeys_less\"],[\"406\",\"duplex\"],[\"406\",\"row_house\"],[\"406\",\"semi_detached_house\"],[\"406\",\"movable_dwelling\"],[\"406\",\"apartment_five_storeys_plus\"],[\"406\",\"single_detached_house\"],[\"406\",\"year\"],[\"407\",\"shelter_costs_rented\"],[\"407\",\"shelter_costs_owned\"],[\"407\",\"average_house_value\"],[\"407\",\"other_house\"],[\"407\",\"apartment_five_storeys_less\"],[\"407\",\"duplex\"],[\"407\",\"row_house\"],[\"407\",\"semi_detached_house\"],[\"407\",\"movable_dwelling\"],[\"407\",\"apartment_five_storeys_plus\"],[\"407\",\"single_detached_house\"],[\"407\",\"year\"],[\"408\",\"shelter_costs_rented\"],[\"408\",\"shelter_costs_owned\"],[\"408\",\"average_house_value\"],[\"408\",\"other_house\"],[\"408\",\"apartment_five_storeys_less\"],[\"408\",\"duplex\"],[\"408\",\"row_house\"],[\"408\",\"semi_detached_house\"],[\"408\",\"movable_dwelling\"],[\"408\",\"apartment_five_storeys_plus\"],[\"408\",\"single_detached_house\"],[\"408\",\"year\"],[\"409\",\"shelter_costs_rented\"],[\"409\",\"shelter_costs_owned\"],[\"409\",\"average_house_value\"],[\"409\",\"other_house\"],[\"409\",\"apartment_five_storeys_less\"],[\"409\",\"duplex\"],[\"409\",\"row_house\"],[\"409\",\"semi_detached_house\"],[\"409\",\"movable_dwelling\"],[\"409\",\"apartment_five_storeys_plus\"],[\"409\",\"single_detached_house\"],[\"409\",\"year\"],[\"410\",\"shelter_costs_rented\"],[\"410\",\"shelter_costs_owned\"],[\"410\",\"average_house_value\"],[\"410\",\"other_house\"],[\"410\",\"apartment_five_storeys_less\"],[\"410\",\"duplex\"],[\"410\",\"row_house\"],[\"410\",\"semi_detached_house\"],[\"410\",\"movable_dwelling\"],[\"410\",\"apartment_five_storeys_plus\"],[\"410\",\"single_detached_house\"],[\"410\",\"year\"],[\"411\",\"shelter_costs_rented\"],[\"411\",\"shelter_costs_owned\"],[\"411\",\"average_house_value\"],[\"411\",\"other_house\"],[\"411\",\"apartment_five_storeys_less\"],[\"411\",\"duplex\"],[\"411\",\"row_house\"],[\"411\",\"semi_detached_house\"],[\"411\",\"movable_dwelling\"],[\"411\",\"apartment_five_storeys_plus\"],[\"411\",\"single_detached_house\"],[\"411\",\"year\"],[\"412\",\"shelter_costs_rented\"],[\"412\",\"shelter_costs_owned\"],[\"412\",\"average_house_value\"],[\"412\",\"other_house\"],[\"412\",\"apartment_five_storeys_less\"],[\"412\",\"duplex\"],[\"412\",\"row_house\"],[\"412\",\"semi_detached_house\"],[\"412\",\"movable_dwelling\"],[\"412\",\"apartment_five_storeys_plus\"],[\"412\",\"single_detached_house\"],[\"412\",\"year\"],[\"413\",\"shelter_costs_rented\"],[\"413\",\"shelter_costs_owned\"],[\"413\",\"average_house_value\"],[\"413\",\"other_house\"],[\"413\",\"apartment_five_storeys_less\"],[\"413\",\"duplex\"],[\"413\",\"row_house\"],[\"413\",\"semi_detached_house\"],[\"413\",\"movable_dwelling\"],[\"413\",\"apartment_five_storeys_plus\"],[\"413\",\"single_detached_house\"],[\"413\",\"year\"],[\"414\",\"shelter_costs_rented\"],[\"414\",\"shelter_costs_owned\"],[\"414\",\"average_house_value\"],[\"414\",\"other_house\"],[\"414\",\"apartment_five_storeys_less\"],[\"414\",\"duplex\"],[\"414\",\"row_house\"],[\"414\",\"semi_detached_house\"],[\"414\",\"movable_dwelling\"],[\"414\",\"apartment_five_storeys_plus\"],[\"414\",\"single_detached_house\"],[\"414\",\"year\"],[\"415\",\"shelter_costs_rented\"],[\"415\",\"shelter_costs_owned\"],[\"415\",\"average_house_value\"],[\"415\",\"other_house\"],[\"415\",\"apartment_five_storeys_less\"],[\"415\",\"duplex\"],[\"415\",\"row_house\"],[\"415\",\"semi_detached_house\"],[\"415\",\"movable_dwelling\"],[\"415\",\"apartment_five_storeys_plus\"],[\"415\",\"single_detached_house\"],[\"415\",\"year\"],[\"416\",\"shelter_costs_rented\"],[\"416\",\"shelter_costs_owned\"],[\"416\",\"average_house_value\"],[\"416\",\"other_house\"],[\"416\",\"apartment_five_storeys_less\"],[\"416\",\"duplex\"],[\"416\",\"row_house\"],[\"416\",\"semi_detached_house\"],[\"416\",\"movable_dwelling\"],[\"416\",\"apartment_five_storeys_plus\"],[\"416\",\"single_detached_house\"],[\"416\",\"year\"],[\"417\",\"shelter_costs_rented\"],[\"417\",\"shelter_costs_owned\"],[\"417\",\"average_house_value\"],[\"417\",\"other_house\"],[\"417\",\"apartment_five_storeys_less\"],[\"417\",\"duplex\"],[\"417\",\"row_house\"],[\"417\",\"semi_detached_house\"],[\"417\",\"movable_dwelling\"],[\"417\",\"apartment_five_storeys_plus\"],[\"417\",\"single_detached_house\"],[\"417\",\"year\"],[\"418\",\"shelter_costs_rented\"],[\"418\",\"shelter_costs_owned\"],[\"418\",\"average_house_value\"],[\"418\",\"other_house\"],[\"418\",\"apartment_five_storeys_less\"],[\"418\",\"duplex\"],[\"418\",\"row_house\"],[\"418\",\"semi_detached_house\"],[\"418\",\"movable_dwelling\"],[\"418\",\"apartment_five_storeys_plus\"],[\"418\",\"single_detached_house\"],[\"418\",\"year\"],[\"419\",\"shelter_costs_rented\"],[\"419\",\"shelter_costs_owned\"],[\"419\",\"average_house_value\"],[\"419\",\"other_house\"],[\"419\",\"apartment_five_storeys_less\"],[\"419\",\"duplex\"],[\"419\",\"row_house\"],[\"419\",\"semi_detached_house\"],[\"419\",\"movable_dwelling\"],[\"419\",\"apartment_five_storeys_plus\"],[\"419\",\"single_detached_house\"],[\"419\",\"year\"],[\"420\",\"shelter_costs_rented\"],[\"420\",\"shelter_costs_owned\"],[\"420\",\"average_house_value\"],[\"420\",\"other_house\"],[\"420\",\"apartment_five_storeys_less\"],[\"420\",\"duplex\"],[\"420\",\"row_house\"],[\"420\",\"semi_detached_house\"],[\"420\",\"movable_dwelling\"],[\"420\",\"apartment_five_storeys_plus\"],[\"420\",\"single_detached_house\"],[\"420\",\"year\"],[\"421\",\"shelter_costs_rented\"],[\"421\",\"shelter_costs_owned\"],[\"421\",\"average_house_value\"],[\"421\",\"other_house\"],[\"421\",\"apartment_five_storeys_less\"],[\"421\",\"duplex\"],[\"421\",\"row_house\"],[\"421\",\"semi_detached_house\"],[\"421\",\"movable_dwelling\"],[\"421\",\"apartment_five_storeys_plus\"],[\"421\",\"single_detached_house\"],[\"421\",\"year\"],[\"422\",\"shelter_costs_rented\"],[\"422\",\"shelter_costs_owned\"],[\"422\",\"average_house_value\"],[\"422\",\"other_house\"],[\"422\",\"apartment_five_storeys_less\"],[\"422\",\"duplex\"],[\"422\",\"row_house\"],[\"422\",\"semi_detached_house\"],[\"422\",\"movable_dwelling\"],[\"422\",\"apartment_five_storeys_plus\"],[\"422\",\"single_detached_house\"],[\"422\",\"year\"],[\"423\",\"shelter_costs_rented\"],[\"423\",\"shelter_costs_owned\"],[\"423\",\"average_house_value\"],[\"423\",\"other_house\"],[\"423\",\"apartment_five_storeys_less\"],[\"423\",\"duplex\"],[\"423\",\"row_house\"],[\"423\",\"semi_detached_house\"],[\"423\",\"movable_dwelling\"],[\"423\",\"apartment_five_storeys_plus\"],[\"423\",\"single_detached_house\"],[\"423\",\"year\"],[\"424\",\"shelter_costs_rented\"],[\"424\",\"shelter_costs_owned\"],[\"424\",\"average_house_value\"],[\"424\",\"other_house\"],[\"424\",\"apartment_five_storeys_less\"],[\"424\",\"duplex\"],[\"424\",\"row_house\"],[\"424\",\"semi_detached_house\"],[\"424\",\"movable_dwelling\"],[\"424\",\"apartment_five_storeys_plus\"],[\"424\",\"single_detached_house\"],[\"424\",\"year\"],[\"425\",\"shelter_costs_rented\"],[\"425\",\"shelter_costs_owned\"],[\"425\",\"average_house_value\"],[\"425\",\"other_house\"],[\"425\",\"apartment_five_storeys_less\"],[\"425\",\"duplex\"],[\"425\",\"row_house\"],[\"425\",\"semi_detached_house\"],[\"425\",\"movable_dwelling\"],[\"425\",\"apartment_five_storeys_plus\"],[\"425\",\"single_detached_house\"],[\"425\",\"year\"],[\"426\",\"shelter_costs_rented\"],[\"426\",\"shelter_costs_owned\"],[\"426\",\"average_house_value\"],[\"426\",\"other_house\"],[\"426\",\"apartment_five_storeys_less\"],[\"426\",\"duplex\"],[\"426\",\"row_house\"],[\"426\",\"semi_detached_house\"],[\"426\",\"movable_dwelling\"],[\"426\",\"apartment_five_storeys_plus\"],[\"426\",\"single_detached_house\"],[\"426\",\"year\"],[\"427\",\"shelter_costs_rented\"],[\"427\",\"shelter_costs_owned\"],[\"427\",\"average_house_value\"],[\"427\",\"other_house\"],[\"427\",\"apartment_five_storeys_less\"],[\"427\",\"duplex\"],[\"427\",\"row_house\"],[\"427\",\"semi_detached_house\"],[\"427\",\"movable_dwelling\"],[\"427\",\"apartment_five_storeys_plus\"],[\"427\",\"single_detached_house\"],[\"427\",\"year\"],[\"428\",\"shelter_costs_rented\"],[\"428\",\"shelter_costs_owned\"],[\"428\",\"average_house_value\"],[\"428\",\"other_house\"],[\"428\",\"apartment_five_storeys_less\"],[\"428\",\"duplex\"],[\"428\",\"row_house\"],[\"428\",\"semi_detached_house\"],[\"428\",\"movable_dwelling\"],[\"428\",\"apartment_five_storeys_plus\"],[\"428\",\"single_detached_house\"],[\"428\",\"year\"],[\"429\",\"shelter_costs_rented\"],[\"429\",\"shelter_costs_owned\"],[\"429\",\"average_house_value\"],[\"429\",\"other_house\"],[\"429\",\"apartment_five_storeys_less\"],[\"429\",\"duplex\"],[\"429\",\"row_house\"],[\"429\",\"semi_detached_house\"],[\"429\",\"movable_dwelling\"],[\"429\",\"apartment_five_storeys_plus\"],[\"429\",\"single_detached_house\"],[\"429\",\"year\"],[\"430\",\"shelter_costs_rented\"],[\"430\",\"shelter_costs_owned\"],[\"430\",\"average_house_value\"],[\"430\",\"other_house\"],[\"430\",\"apartment_five_storeys_less\"],[\"430\",\"duplex\"],[\"430\",\"row_house\"],[\"430\",\"semi_detached_house\"],[\"430\",\"movable_dwelling\"],[\"430\",\"apartment_five_storeys_plus\"],[\"430\",\"single_detached_house\"],[\"430\",\"year\"],[\"431\",\"shelter_costs_rented\"],[\"431\",\"shelter_costs_owned\"],[\"431\",\"average_house_value\"],[\"431\",\"other_house\"],[\"431\",\"apartment_five_storeys_less\"],[\"431\",\"duplex\"],[\"431\",\"row_house\"],[\"431\",\"semi_detached_house\"],[\"431\",\"movable_dwelling\"],[\"431\",\"apartment_five_storeys_plus\"],[\"431\",\"single_detached_house\"],[\"431\",\"year\"],[\"432\",\"shelter_costs_rented\"],[\"432\",\"shelter_costs_owned\"],[\"432\",\"average_house_value\"],[\"432\",\"other_house\"],[\"432\",\"apartment_five_storeys_less\"],[\"432\",\"duplex\"],[\"432\",\"row_house\"],[\"432\",\"semi_detached_house\"],[\"432\",\"movable_dwelling\"],[\"432\",\"apartment_five_storeys_plus\"],[\"432\",\"single_detached_house\"],[\"432\",\"year\"],[\"433\",\"shelter_costs_rented\"],[\"433\",\"shelter_costs_owned\"],[\"433\",\"average_house_value\"],[\"433\",\"other_house\"],[\"433\",\"apartment_five_storeys_less\"],[\"433\",\"duplex\"],[\"433\",\"row_house\"],[\"433\",\"semi_detached_house\"],[\"433\",\"movable_dwelling\"],[\"433\",\"apartment_five_storeys_plus\"],[\"433\",\"single_detached_house\"],[\"433\",\"year\"],[\"434\",\"shelter_costs_rented\"],[\"434\",\"shelter_costs_owned\"],[\"434\",\"average_house_value\"],[\"434\",\"other_house\"],[\"434\",\"apartment_five_storeys_less\"],[\"434\",\"duplex\"],[\"434\",\"row_house\"],[\"434\",\"semi_detached_house\"],[\"434\",\"movable_dwelling\"],[\"434\",\"apartment_five_storeys_plus\"],[\"434\",\"single_detached_house\"],[\"434\",\"year\"],[\"435\",\"shelter_costs_rented\"],[\"435\",\"shelter_costs_owned\"],[\"435\",\"average_house_value\"],[\"435\",\"other_house\"],[\"435\",\"apartment_five_storeys_less\"],[\"435\",\"duplex\"],[\"435\",\"row_house\"],[\"435\",\"semi_detached_house\"],[\"435\",\"movable_dwelling\"],[\"435\",\"apartment_five_storeys_plus\"],[\"435\",\"single_detached_house\"],[\"435\",\"year\"],[\"436\",\"shelter_costs_rented\"],[\"436\",\"shelter_costs_owned\"],[\"436\",\"average_house_value\"],[\"436\",\"other_house\"],[\"436\",\"apartment_five_storeys_less\"],[\"436\",\"duplex\"],[\"436\",\"row_house\"],[\"436\",\"semi_detached_house\"],[\"436\",\"movable_dwelling\"],[\"436\",\"apartment_five_storeys_plus\"],[\"436\",\"single_detached_house\"],[\"436\",\"year\"],[\"437\",\"shelter_costs_rented\"],[\"437\",\"shelter_costs_owned\"],[\"437\",\"average_house_value\"],[\"437\",\"other_house\"],[\"437\",\"apartment_five_storeys_less\"],[\"437\",\"duplex\"],[\"437\",\"row_house\"],[\"437\",\"semi_detached_house\"],[\"437\",\"movable_dwelling\"],[\"437\",\"apartment_five_storeys_plus\"],[\"437\",\"single_detached_house\"],[\"437\",\"year\"],[\"438\",\"shelter_costs_rented\"],[\"438\",\"shelter_costs_owned\"],[\"438\",\"average_house_value\"],[\"438\",\"other_house\"],[\"438\",\"apartment_five_storeys_less\"],[\"438\",\"duplex\"],[\"438\",\"row_house\"],[\"438\",\"semi_detached_house\"],[\"438\",\"movable_dwelling\"],[\"438\",\"apartment_five_storeys_plus\"],[\"438\",\"single_detached_house\"],[\"438\",\"year\"],[\"439\",\"shelter_costs_rented\"],[\"439\",\"shelter_costs_owned\"],[\"439\",\"average_house_value\"],[\"439\",\"other_house\"],[\"439\",\"apartment_five_storeys_less\"],[\"439\",\"duplex\"],[\"439\",\"row_house\"],[\"439\",\"semi_detached_house\"],[\"439\",\"movable_dwelling\"],[\"439\",\"apartment_five_storeys_plus\"],[\"439\",\"single_detached_house\"],[\"439\",\"year\"],[\"440\",\"shelter_costs_rented\"],[\"440\",\"shelter_costs_owned\"],[\"440\",\"average_house_value\"],[\"440\",\"other_house\"],[\"440\",\"apartment_five_storeys_less\"],[\"440\",\"duplex\"],[\"440\",\"row_house\"],[\"440\",\"semi_detached_house\"],[\"440\",\"movable_dwelling\"],[\"440\",\"apartment_five_storeys_plus\"],[\"440\",\"single_detached_house\"],[\"440\",\"year\"],[\"441\",\"shelter_costs_rented\"],[\"441\",\"shelter_costs_owned\"],[\"441\",\"average_house_value\"],[\"441\",\"other_house\"],[\"441\",\"apartment_five_storeys_less\"],[\"441\",\"duplex\"],[\"441\",\"row_house\"],[\"441\",\"semi_detached_house\"],[\"441\",\"movable_dwelling\"],[\"441\",\"apartment_five_storeys_plus\"],[\"441\",\"single_detached_house\"],[\"441\",\"year\"],[\"442\",\"shelter_costs_rented\"],[\"442\",\"shelter_costs_owned\"],[\"442\",\"average_house_value\"],[\"442\",\"other_house\"],[\"442\",\"apartment_five_storeys_less\"],[\"442\",\"duplex\"],[\"442\",\"row_house\"],[\"442\",\"semi_detached_house\"],[\"442\",\"movable_dwelling\"],[\"442\",\"apartment_five_storeys_plus\"],[\"442\",\"single_detached_house\"],[\"442\",\"year\"],[\"443\",\"shelter_costs_rented\"],[\"443\",\"shelter_costs_owned\"],[\"443\",\"average_house_value\"],[\"443\",\"other_house\"],[\"443\",\"apartment_five_storeys_less\"],[\"443\",\"duplex\"],[\"443\",\"row_house\"],[\"443\",\"semi_detached_house\"],[\"443\",\"movable_dwelling\"],[\"443\",\"apartment_five_storeys_plus\"],[\"443\",\"single_detached_house\"],[\"443\",\"year\"],[\"444\",\"shelter_costs_rented\"],[\"444\",\"shelter_costs_owned\"],[\"444\",\"average_house_value\"],[\"444\",\"other_house\"],[\"444\",\"apartment_five_storeys_less\"],[\"444\",\"duplex\"],[\"444\",\"row_house\"],[\"444\",\"semi_detached_house\"],[\"444\",\"movable_dwelling\"],[\"444\",\"apartment_five_storeys_plus\"],[\"444\",\"single_detached_house\"],[\"444\",\"year\"],[\"445\",\"shelter_costs_rented\"],[\"445\",\"shelter_costs_owned\"],[\"445\",\"average_house_value\"],[\"445\",\"other_house\"],[\"445\",\"apartment_five_storeys_less\"],[\"445\",\"duplex\"],[\"445\",\"row_house\"],[\"445\",\"semi_detached_house\"],[\"445\",\"movable_dwelling\"],[\"445\",\"apartment_five_storeys_plus\"],[\"445\",\"single_detached_house\"],[\"445\",\"year\"],[\"446\",\"shelter_costs_rented\"],[\"446\",\"shelter_costs_owned\"],[\"446\",\"average_house_value\"],[\"446\",\"other_house\"],[\"446\",\"apartment_five_storeys_less\"],[\"446\",\"duplex\"],[\"446\",\"row_house\"],[\"446\",\"semi_detached_house\"],[\"446\",\"movable_dwelling\"],[\"446\",\"apartment_five_storeys_plus\"],[\"446\",\"single_detached_house\"],[\"446\",\"year\"],[\"447\",\"shelter_costs_rented\"],[\"447\",\"shelter_costs_owned\"],[\"447\",\"average_house_value\"],[\"447\",\"other_house\"],[\"447\",\"apartment_five_storeys_less\"],[\"447\",\"duplex\"],[\"447\",\"row_house\"],[\"447\",\"semi_detached_house\"],[\"447\",\"movable_dwelling\"],[\"447\",\"apartment_five_storeys_plus\"],[\"447\",\"single_detached_house\"],[\"447\",\"year\"],[\"448\",\"shelter_costs_rented\"],[\"448\",\"shelter_costs_owned\"],[\"448\",\"average_house_value\"],[\"448\",\"other_house\"],[\"448\",\"apartment_five_storeys_less\"],[\"448\",\"duplex\"],[\"448\",\"row_house\"],[\"448\",\"semi_detached_house\"],[\"448\",\"movable_dwelling\"],[\"448\",\"apartment_five_storeys_plus\"],[\"448\",\"single_detached_house\"],[\"448\",\"year\"],[\"449\",\"shelter_costs_rented\"],[\"449\",\"shelter_costs_owned\"],[\"449\",\"average_house_value\"],[\"449\",\"other_house\"],[\"449\",\"apartment_five_storeys_less\"],[\"449\",\"duplex\"],[\"449\",\"row_house\"],[\"449\",\"semi_detached_house\"],[\"449\",\"movable_dwelling\"],[\"449\",\"apartment_five_storeys_plus\"],[\"449\",\"single_detached_house\"],[\"449\",\"year\"],[\"450\",\"shelter_costs_rented\"],[\"450\",\"shelter_costs_owned\"],[\"450\",\"average_house_value\"],[\"450\",\"other_house\"],[\"450\",\"apartment_five_storeys_less\"],[\"450\",\"duplex\"],[\"450\",\"row_house\"],[\"450\",\"semi_detached_house\"],[\"450\",\"movable_dwelling\"],[\"450\",\"apartment_five_storeys_plus\"],[\"450\",\"single_detached_house\"],[\"450\",\"year\"],[\"451\",\"shelter_costs_rented\"],[\"451\",\"shelter_costs_owned\"],[\"451\",\"average_house_value\"],[\"451\",\"other_house\"],[\"451\",\"apartment_five_storeys_less\"],[\"451\",\"duplex\"],[\"451\",\"row_house\"],[\"451\",\"semi_detached_house\"],[\"451\",\"movable_dwelling\"],[\"451\",\"apartment_five_storeys_plus\"],[\"451\",\"single_detached_house\"],[\"451\",\"year\"],[\"452\",\"shelter_costs_rented\"],[\"452\",\"shelter_costs_owned\"],[\"452\",\"average_house_value\"],[\"452\",\"other_house\"],[\"452\",\"apartment_five_storeys_less\"],[\"452\",\"duplex\"],[\"452\",\"row_house\"],[\"452\",\"semi_detached_house\"],[\"452\",\"movable_dwelling\"],[\"452\",\"apartment_five_storeys_plus\"],[\"452\",\"single_detached_house\"],[\"452\",\"year\"],[\"453\",\"shelter_costs_rented\"],[\"453\",\"shelter_costs_owned\"],[\"453\",\"average_house_value\"],[\"453\",\"other_house\"],[\"453\",\"apartment_five_storeys_less\"],[\"453\",\"duplex\"],[\"453\",\"row_house\"],[\"453\",\"semi_detached_house\"],[\"453\",\"movable_dwelling\"],[\"453\",\"apartment_five_storeys_plus\"],[\"453\",\"single_detached_house\"],[\"453\",\"year\"],[\"454\",\"shelter_costs_rented\"],[\"454\",\"shelter_costs_owned\"],[\"454\",\"average_house_value\"],[\"454\",\"other_house\"],[\"454\",\"apartment_five_storeys_less\"],[\"454\",\"duplex\"],[\"454\",\"row_house\"],[\"454\",\"semi_detached_house\"],[\"454\",\"movable_dwelling\"],[\"454\",\"apartment_five_storeys_plus\"],[\"454\",\"single_detached_house\"],[\"454\",\"year\"],[\"455\",\"shelter_costs_rented\"],[\"455\",\"shelter_costs_owned\"],[\"455\",\"average_house_value\"],[\"455\",\"other_house\"],[\"455\",\"apartment_five_storeys_less\"],[\"455\",\"duplex\"],[\"455\",\"row_house\"],[\"455\",\"semi_detached_house\"],[\"455\",\"movable_dwelling\"],[\"455\",\"apartment_five_storeys_plus\"],[\"455\",\"single_detached_house\"],[\"455\",\"year\"],[\"456\",\"shelter_costs_rented\"],[\"456\",\"shelter_costs_owned\"],[\"456\",\"average_house_value\"],[\"456\",\"other_house\"],[\"456\",\"apartment_five_storeys_less\"],[\"456\",\"duplex\"],[\"456\",\"row_house\"],[\"456\",\"semi_detached_house\"],[\"456\",\"movable_dwelling\"],[\"456\",\"apartment_five_storeys_plus\"],[\"456\",\"single_detached_house\"],[\"456\",\"year\"],[\"457\",\"shelter_costs_rented\"],[\"457\",\"shelter_costs_owned\"],[\"457\",\"average_house_value\"],[\"457\",\"other_house\"],[\"457\",\"apartment_five_storeys_less\"],[\"457\",\"duplex\"],[\"457\",\"row_house\"],[\"457\",\"semi_detached_house\"],[\"457\",\"movable_dwelling\"],[\"457\",\"apartment_five_storeys_plus\"],[\"457\",\"single_detached_house\"],[\"457\",\"year\"],[\"458\",\"shelter_costs_rented\"],[\"458\",\"shelter_costs_owned\"],[\"458\",\"average_house_value\"],[\"458\",\"other_house\"],[\"458\",\"apartment_five_storeys_less\"],[\"458\",\"duplex\"],[\"458\",\"row_house\"],[\"458\",\"semi_detached_house\"],[\"458\",\"movable_dwelling\"],[\"458\",\"apartment_five_storeys_plus\"],[\"458\",\"single_detached_house\"],[\"458\",\"year\"],[\"459\",\"shelter_costs_rented\"],[\"459\",\"shelter_costs_owned\"],[\"459\",\"average_house_value\"],[\"459\",\"other_house\"],[\"459\",\"apartment_five_storeys_less\"],[\"459\",\"duplex\"],[\"459\",\"row_house\"],[\"459\",\"semi_detached_house\"],[\"459\",\"movable_dwelling\"],[\"459\",\"apartment_five_storeys_plus\"],[\"459\",\"single_detached_house\"],[\"459\",\"year\"],[\"460\",\"shelter_costs_rented\"],[\"460\",\"shelter_costs_owned\"],[\"460\",\"average_house_value\"],[\"460\",\"other_house\"],[\"460\",\"apartment_five_storeys_less\"],[\"460\",\"duplex\"],[\"460\",\"row_house\"],[\"460\",\"semi_detached_house\"],[\"460\",\"movable_dwelling\"],[\"460\",\"apartment_five_storeys_plus\"],[\"460\",\"single_detached_house\"],[\"460\",\"year\"],[\"461\",\"shelter_costs_rented\"],[\"461\",\"shelter_costs_owned\"],[\"461\",\"average_house_value\"],[\"461\",\"other_house\"],[\"461\",\"apartment_five_storeys_less\"],[\"461\",\"duplex\"],[\"461\",\"row_house\"],[\"461\",\"semi_detached_house\"],[\"461\",\"movable_dwelling\"],[\"461\",\"apartment_five_storeys_plus\"],[\"461\",\"single_detached_house\"],[\"461\",\"year\"],[\"462\",\"shelter_costs_rented\"],[\"462\",\"shelter_costs_owned\"],[\"462\",\"average_house_value\"],[\"462\",\"other_house\"],[\"462\",\"apartment_five_storeys_less\"],[\"462\",\"duplex\"],[\"462\",\"row_house\"],[\"462\",\"semi_detached_house\"],[\"462\",\"movable_dwelling\"],[\"462\",\"apartment_five_storeys_plus\"],[\"462\",\"single_detached_house\"],[\"462\",\"year\"],[\"463\",\"shelter_costs_rented\"],[\"463\",\"shelter_costs_owned\"],[\"463\",\"average_house_value\"],[\"463\",\"other_house\"],[\"463\",\"apartment_five_storeys_less\"],[\"463\",\"duplex\"],[\"463\",\"row_house\"],[\"463\",\"semi_detached_house\"],[\"463\",\"movable_dwelling\"],[\"463\",\"apartment_five_storeys_plus\"],[\"463\",\"single_detached_house\"],[\"463\",\"year\"],[\"464\",\"shelter_costs_rented\"],[\"464\",\"shelter_costs_owned\"],[\"464\",\"average_house_value\"],[\"464\",\"other_house\"],[\"464\",\"apartment_five_storeys_less\"],[\"464\",\"duplex\"],[\"464\",\"row_house\"],[\"464\",\"semi_detached_house\"],[\"464\",\"movable_dwelling\"],[\"464\",\"apartment_five_storeys_plus\"],[\"464\",\"single_detached_house\"],[\"464\",\"year\"],[\"465\",\"shelter_costs_rented\"],[\"465\",\"shelter_costs_owned\"],[\"465\",\"average_house_value\"],[\"465\",\"other_house\"],[\"465\",\"apartment_five_storeys_less\"],[\"465\",\"duplex\"],[\"465\",\"row_house\"],[\"465\",\"semi_detached_house\"],[\"465\",\"movable_dwelling\"],[\"465\",\"apartment_five_storeys_plus\"],[\"465\",\"single_detached_house\"],[\"465\",\"year\"],[\"466\",\"shelter_costs_rented\"],[\"466\",\"shelter_costs_owned\"],[\"466\",\"average_house_value\"],[\"466\",\"other_house\"],[\"466\",\"apartment_five_storeys_less\"],[\"466\",\"duplex\"],[\"466\",\"row_house\"],[\"466\",\"semi_detached_house\"],[\"466\",\"movable_dwelling\"],[\"466\",\"apartment_five_storeys_plus\"],[\"466\",\"single_detached_house\"],[\"466\",\"year\"],[\"467\",\"shelter_costs_rented\"],[\"467\",\"shelter_costs_owned\"],[\"467\",\"average_house_value\"],[\"467\",\"other_house\"],[\"467\",\"apartment_five_storeys_less\"],[\"467\",\"duplex\"],[\"467\",\"row_house\"],[\"467\",\"semi_detached_house\"],[\"467\",\"movable_dwelling\"],[\"467\",\"apartment_five_storeys_plus\"],[\"467\",\"single_detached_house\"],[\"467\",\"year\"],[\"468\",\"shelter_costs_rented\"],[\"468\",\"shelter_costs_owned\"],[\"468\",\"average_house_value\"],[\"468\",\"other_house\"],[\"468\",\"apartment_five_storeys_less\"],[\"468\",\"duplex\"],[\"468\",\"row_house\"],[\"468\",\"semi_detached_house\"],[\"468\",\"movable_dwelling\"],[\"468\",\"apartment_five_storeys_plus\"],[\"468\",\"single_detached_house\"],[\"468\",\"year\"],[\"469\",\"shelter_costs_rented\"],[\"469\",\"shelter_costs_owned\"],[\"469\",\"average_house_value\"],[\"469\",\"other_house\"],[\"469\",\"apartment_five_storeys_less\"],[\"469\",\"duplex\"],[\"469\",\"row_house\"],[\"469\",\"semi_detached_house\"],[\"469\",\"movable_dwelling\"],[\"469\",\"apartment_five_storeys_plus\"],[\"469\",\"single_detached_house\"],[\"469\",\"year\"],[\"470\",\"shelter_costs_rented\"],[\"470\",\"shelter_costs_owned\"],[\"470\",\"average_house_value\"],[\"470\",\"other_house\"],[\"470\",\"apartment_five_storeys_less\"],[\"470\",\"duplex\"],[\"470\",\"row_house\"],[\"470\",\"semi_detached_house\"],[\"470\",\"movable_dwelling\"],[\"470\",\"apartment_five_storeys_plus\"],[\"470\",\"single_detached_house\"],[\"470\",\"year\"],[\"471\",\"shelter_costs_rented\"],[\"471\",\"shelter_costs_owned\"],[\"471\",\"average_house_value\"],[\"471\",\"other_house\"],[\"471\",\"apartment_five_storeys_less\"],[\"471\",\"duplex\"],[\"471\",\"row_house\"],[\"471\",\"semi_detached_house\"],[\"471\",\"movable_dwelling\"],[\"471\",\"apartment_five_storeys_plus\"],[\"471\",\"single_detached_house\"],[\"471\",\"year\"],[\"472\",\"shelter_costs_rented\"],[\"472\",\"shelter_costs_owned\"],[\"472\",\"average_house_value\"],[\"472\",\"other_house\"],[\"472\",\"apartment_five_storeys_less\"],[\"472\",\"duplex\"],[\"472\",\"row_house\"],[\"472\",\"semi_detached_house\"],[\"472\",\"movable_dwelling\"],[\"472\",\"apartment_five_storeys_plus\"],[\"472\",\"single_detached_house\"],[\"472\",\"year\"],[\"473\",\"shelter_costs_rented\"],[\"473\",\"shelter_costs_owned\"],[\"473\",\"average_house_value\"],[\"473\",\"other_house\"],[\"473\",\"apartment_five_storeys_less\"],[\"473\",\"duplex\"],[\"473\",\"row_house\"],[\"473\",\"semi_detached_house\"],[\"473\",\"movable_dwelling\"],[\"473\",\"apartment_five_storeys_plus\"],[\"473\",\"single_detached_house\"],[\"473\",\"year\"],[\"474\",\"shelter_costs_rented\"],[\"474\",\"shelter_costs_owned\"],[\"474\",\"average_house_value\"],[\"474\",\"other_house\"],[\"474\",\"apartment_five_storeys_less\"],[\"474\",\"duplex\"],[\"474\",\"row_house\"],[\"474\",\"semi_detached_house\"],[\"474\",\"movable_dwelling\"],[\"474\",\"apartment_five_storeys_plus\"],[\"474\",\"single_detached_house\"],[\"474\",\"year\"],[\"475\",\"shelter_costs_rented\"],[\"475\",\"shelter_costs_owned\"],[\"475\",\"average_house_value\"],[\"475\",\"other_house\"],[\"475\",\"apartment_five_storeys_less\"],[\"475\",\"duplex\"],[\"475\",\"row_house\"],[\"475\",\"semi_detached_house\"],[\"475\",\"movable_dwelling\"],[\"475\",\"apartment_five_storeys_plus\"],[\"475\",\"single_detached_house\"],[\"475\",\"year\"],[\"476\",\"shelter_costs_rented\"],[\"476\",\"shelter_costs_owned\"],[\"476\",\"average_house_value\"],[\"476\",\"other_house\"],[\"476\",\"apartment_five_storeys_less\"],[\"476\",\"duplex\"],[\"476\",\"row_house\"],[\"476\",\"semi_detached_house\"],[\"476\",\"movable_dwelling\"],[\"476\",\"apartment_five_storeys_plus\"],[\"476\",\"single_detached_house\"],[\"476\",\"year\"],[\"477\",\"shelter_costs_rented\"],[\"477\",\"shelter_costs_owned\"],[\"477\",\"average_house_value\"],[\"477\",\"other_house\"],[\"477\",\"apartment_five_storeys_less\"],[\"477\",\"duplex\"],[\"477\",\"row_house\"],[\"477\",\"semi_detached_house\"],[\"477\",\"movable_dwelling\"],[\"477\",\"apartment_five_storeys_plus\"],[\"477\",\"single_detached_house\"],[\"477\",\"year\"],[\"478\",\"shelter_costs_rented\"],[\"478\",\"shelter_costs_owned\"],[\"478\",\"average_house_value\"],[\"478\",\"other_house\"],[\"478\",\"apartment_five_storeys_less\"],[\"478\",\"duplex\"],[\"478\",\"row_house\"],[\"478\",\"semi_detached_house\"],[\"478\",\"movable_dwelling\"],[\"478\",\"apartment_five_storeys_plus\"],[\"478\",\"single_detached_house\"],[\"478\",\"year\"],[\"479\",\"shelter_costs_rented\"],[\"479\",\"shelter_costs_owned\"],[\"479\",\"average_house_value\"],[\"479\",\"other_house\"],[\"479\",\"apartment_five_storeys_less\"],[\"479\",\"duplex\"],[\"479\",\"row_house\"],[\"479\",\"semi_detached_house\"],[\"479\",\"movable_dwelling\"],[\"479\",\"apartment_five_storeys_plus\"],[\"479\",\"single_detached_house\"],[\"479\",\"year\"],[\"480\",\"shelter_costs_rented\"],[\"480\",\"shelter_costs_owned\"],[\"480\",\"average_house_value\"],[\"480\",\"other_house\"],[\"480\",\"apartment_five_storeys_less\"],[\"480\",\"duplex\"],[\"480\",\"row_house\"],[\"480\",\"semi_detached_house\"],[\"480\",\"movable_dwelling\"],[\"480\",\"apartment_five_storeys_plus\"],[\"480\",\"single_detached_house\"],[\"480\",\"year\"],[\"481\",\"shelter_costs_rented\"],[\"481\",\"shelter_costs_owned\"],[\"481\",\"average_house_value\"],[\"481\",\"other_house\"],[\"481\",\"apartment_five_storeys_less\"],[\"481\",\"duplex\"],[\"481\",\"row_house\"],[\"481\",\"semi_detached_house\"],[\"481\",\"movable_dwelling\"],[\"481\",\"apartment_five_storeys_plus\"],[\"481\",\"single_detached_house\"],[\"481\",\"year\"],[\"482\",\"shelter_costs_rented\"],[\"482\",\"shelter_costs_owned\"],[\"482\",\"average_house_value\"],[\"482\",\"other_house\"],[\"482\",\"apartment_five_storeys_less\"],[\"482\",\"duplex\"],[\"482\",\"row_house\"],[\"482\",\"semi_detached_house\"],[\"482\",\"movable_dwelling\"],[\"482\",\"apartment_five_storeys_plus\"],[\"482\",\"single_detached_house\"],[\"482\",\"year\"],[\"483\",\"shelter_costs_rented\"],[\"483\",\"shelter_costs_owned\"],[\"483\",\"average_house_value\"],[\"483\",\"other_house\"],[\"483\",\"apartment_five_storeys_less\"],[\"483\",\"duplex\"],[\"483\",\"row_house\"],[\"483\",\"semi_detached_house\"],[\"483\",\"movable_dwelling\"],[\"483\",\"apartment_five_storeys_plus\"],[\"483\",\"single_detached_house\"],[\"483\",\"year\"],[\"484\",\"shelter_costs_rented\"],[\"484\",\"shelter_costs_owned\"],[\"484\",\"average_house_value\"],[\"484\",\"other_house\"],[\"484\",\"apartment_five_storeys_less\"],[\"484\",\"duplex\"],[\"484\",\"row_house\"],[\"484\",\"semi_detached_house\"],[\"484\",\"movable_dwelling\"],[\"484\",\"apartment_five_storeys_plus\"],[\"484\",\"single_detached_house\"],[\"484\",\"year\"],[\"485\",\"shelter_costs_rented\"],[\"485\",\"shelter_costs_owned\"],[\"485\",\"average_house_value\"],[\"485\",\"other_house\"],[\"485\",\"apartment_five_storeys_less\"],[\"485\",\"duplex\"],[\"485\",\"row_house\"],[\"485\",\"semi_detached_house\"],[\"485\",\"movable_dwelling\"],[\"485\",\"apartment_five_storeys_plus\"],[\"485\",\"single_detached_house\"],[\"485\",\"year\"],[\"486\",\"shelter_costs_rented\"],[\"486\",\"shelter_costs_owned\"],[\"486\",\"average_house_value\"],[\"486\",\"other_house\"],[\"486\",\"apartment_five_storeys_less\"],[\"486\",\"duplex\"],[\"486\",\"row_house\"],[\"486\",\"semi_detached_house\"],[\"486\",\"movable_dwelling\"],[\"486\",\"apartment_five_storeys_plus\"],[\"486\",\"single_detached_house\"],[\"486\",\"year\"],[\"487\",\"shelter_costs_rented\"],[\"487\",\"shelter_costs_owned\"],[\"487\",\"average_house_value\"],[\"487\",\"other_house\"],[\"487\",\"apartment_five_storeys_less\"],[\"487\",\"duplex\"],[\"487\",\"row_house\"],[\"487\",\"semi_detached_house\"],[\"487\",\"movable_dwelling\"],[\"487\",\"apartment_five_storeys_plus\"],[\"487\",\"single_detached_house\"],[\"487\",\"year\"],[\"488\",\"shelter_costs_rented\"],[\"488\",\"shelter_costs_owned\"],[\"488\",\"average_house_value\"],[\"488\",\"other_house\"],[\"488\",\"apartment_five_storeys_less\"],[\"488\",\"duplex\"],[\"488\",\"row_house\"],[\"488\",\"semi_detached_house\"],[\"488\",\"movable_dwelling\"],[\"488\",\"apartment_five_storeys_plus\"],[\"488\",\"single_detached_house\"],[\"488\",\"year\"],[\"489\",\"shelter_costs_rented\"],[\"489\",\"shelter_costs_owned\"],[\"489\",\"average_house_value\"],[\"489\",\"other_house\"],[\"489\",\"apartment_five_storeys_less\"],[\"489\",\"duplex\"],[\"489\",\"row_house\"],[\"489\",\"semi_detached_house\"],[\"489\",\"movable_dwelling\"],[\"489\",\"apartment_five_storeys_plus\"],[\"489\",\"single_detached_house\"],[\"489\",\"year\"],[\"490\",\"shelter_costs_rented\"],[\"490\",\"shelter_costs_owned\"],[\"490\",\"average_house_value\"],[\"490\",\"other_house\"],[\"490\",\"apartment_five_storeys_less\"],[\"490\",\"duplex\"],[\"490\",\"row_house\"],[\"490\",\"semi_detached_house\"],[\"490\",\"movable_dwelling\"],[\"490\",\"apartment_five_storeys_plus\"],[\"490\",\"single_detached_house\"],[\"490\",\"year\"],[\"491\",\"shelter_costs_rented\"],[\"491\",\"shelter_costs_owned\"],[\"491\",\"average_house_value\"],[\"491\",\"other_house\"],[\"491\",\"apartment_five_storeys_less\"],[\"491\",\"duplex\"],[\"491\",\"row_house\"],[\"491\",\"semi_detached_house\"],[\"491\",\"movable_dwelling\"],[\"491\",\"apartment_five_storeys_plus\"],[\"491\",\"single_detached_house\"],[\"491\",\"year\"],[\"492\",\"shelter_costs_rented\"],[\"492\",\"shelter_costs_owned\"],[\"492\",\"average_house_value\"],[\"492\",\"other_house\"],[\"492\",\"apartment_five_storeys_less\"],[\"492\",\"duplex\"],[\"492\",\"row_house\"],[\"492\",\"semi_detached_house\"],[\"492\",\"movable_dwelling\"],[\"492\",\"apartment_five_storeys_plus\"],[\"492\",\"single_detached_house\"],[\"492\",\"year\"],[\"493\",\"shelter_costs_rented\"],[\"493\",\"shelter_costs_owned\"],[\"493\",\"average_house_value\"],[\"493\",\"other_house\"],[\"493\",\"apartment_five_storeys_less\"],[\"493\",\"duplex\"],[\"493\",\"row_house\"],[\"493\",\"semi_detached_house\"],[\"493\",\"movable_dwelling\"],[\"493\",\"apartment_five_storeys_plus\"],[\"493\",\"single_detached_house\"],[\"493\",\"year\"],[\"494\",\"shelter_costs_rented\"],[\"494\",\"shelter_costs_owned\"],[\"494\",\"average_house_value\"],[\"494\",\"other_house\"],[\"494\",\"apartment_five_storeys_less\"],[\"494\",\"duplex\"],[\"494\",\"row_house\"],[\"494\",\"semi_detached_house\"],[\"494\",\"movable_dwelling\"],[\"494\",\"apartment_five_storeys_plus\"],[\"494\",\"single_detached_house\"],[\"494\",\"year\"],[\"495\",\"shelter_costs_rented\"],[\"495\",\"shelter_costs_owned\"],[\"495\",\"average_house_value\"],[\"495\",\"other_house\"],[\"495\",\"apartment_five_storeys_less\"],[\"495\",\"duplex\"],[\"495\",\"row_house\"],[\"495\",\"semi_detached_house\"],[\"495\",\"movable_dwelling\"],[\"495\",\"apartment_five_storeys_plus\"],[\"495\",\"single_detached_house\"],[\"495\",\"year\"],[\"496\",\"shelter_costs_rented\"],[\"496\",\"shelter_costs_owned\"],[\"496\",\"average_house_value\"],[\"496\",\"other_house\"],[\"496\",\"apartment_five_storeys_less\"],[\"496\",\"duplex\"],[\"496\",\"row_house\"],[\"496\",\"semi_detached_house\"],[\"496\",\"movable_dwelling\"],[\"496\",\"apartment_five_storeys_plus\"],[\"496\",\"single_detached_house\"],[\"496\",\"year\"],[\"497\",\"shelter_costs_rented\"],[\"497\",\"shelter_costs_owned\"],[\"497\",\"average_house_value\"],[\"497\",\"other_house\"],[\"497\",\"apartment_five_storeys_less\"],[\"497\",\"duplex\"],[\"497\",\"row_house\"],[\"497\",\"semi_detached_house\"],[\"497\",\"movable_dwelling\"],[\"497\",\"apartment_five_storeys_plus\"],[\"497\",\"single_detached_house\"],[\"497\",\"year\"],[\"498\",\"shelter_costs_rented\"],[\"498\",\"shelter_costs_owned\"],[\"498\",\"average_house_value\"],[\"498\",\"other_house\"],[\"498\",\"apartment_five_storeys_less\"],[\"498\",\"duplex\"],[\"498\",\"row_house\"],[\"498\",\"semi_detached_house\"],[\"498\",\"movable_dwelling\"],[\"498\",\"apartment_five_storeys_plus\"],[\"498\",\"single_detached_house\"],[\"498\",\"year\"],[\"499\",\"shelter_costs_rented\"],[\"499\",\"shelter_costs_owned\"],[\"499\",\"average_house_value\"],[\"499\",\"other_house\"],[\"499\",\"apartment_five_storeys_less\"],[\"499\",\"duplex\"],[\"499\",\"row_house\"],[\"499\",\"semi_detached_house\"],[\"499\",\"movable_dwelling\"],[\"499\",\"apartment_five_storeys_plus\"],[\"499\",\"single_detached_house\"],[\"499\",\"year\"],[\"500\",\"shelter_costs_rented\"],[\"500\",\"shelter_costs_owned\"],[\"500\",\"average_house_value\"],[\"500\",\"other_house\"],[\"500\",\"apartment_five_storeys_less\"],[\"500\",\"duplex\"],[\"500\",\"row_house\"],[\"500\",\"semi_detached_house\"],[\"500\",\"movable_dwelling\"],[\"500\",\"apartment_five_storeys_plus\"],[\"500\",\"single_detached_house\"],[\"500\",\"year\"],[\"501\",\"shelter_costs_rented\"],[\"501\",\"shelter_costs_owned\"],[\"501\",\"average_house_value\"],[\"501\",\"other_house\"],[\"501\",\"apartment_five_storeys_less\"],[\"501\",\"duplex\"],[\"501\",\"row_house\"],[\"501\",\"semi_detached_house\"],[\"501\",\"movable_dwelling\"],[\"501\",\"apartment_five_storeys_plus\"],[\"501\",\"single_detached_house\"],[\"501\",\"year\"],[\"502\",\"shelter_costs_rented\"],[\"502\",\"shelter_costs_owned\"],[\"502\",\"average_house_value\"],[\"502\",\"other_house\"],[\"502\",\"apartment_five_storeys_less\"],[\"502\",\"duplex\"],[\"502\",\"row_house\"],[\"502\",\"semi_detached_house\"],[\"502\",\"movable_dwelling\"],[\"502\",\"apartment_five_storeys_plus\"],[\"502\",\"single_detached_house\"],[\"502\",\"year\"],[\"503\",\"shelter_costs_rented\"],[\"503\",\"shelter_costs_owned\"],[\"503\",\"average_house_value\"],[\"503\",\"other_house\"],[\"503\",\"apartment_five_storeys_less\"],[\"503\",\"duplex\"],[\"503\",\"row_house\"],[\"503\",\"semi_detached_house\"],[\"503\",\"movable_dwelling\"],[\"503\",\"apartment_five_storeys_plus\"],[\"503\",\"single_detached_house\"],[\"503\",\"year\"],[\"504\",\"shelter_costs_rented\"],[\"504\",\"shelter_costs_owned\"],[\"504\",\"average_house_value\"],[\"504\",\"other_house\"],[\"504\",\"apartment_five_storeys_less\"],[\"504\",\"duplex\"],[\"504\",\"row_house\"],[\"504\",\"semi_detached_house\"],[\"504\",\"movable_dwelling\"],[\"504\",\"apartment_five_storeys_plus\"],[\"504\",\"single_detached_house\"],[\"504\",\"year\"],[\"505\",\"shelter_costs_rented\"],[\"505\",\"shelter_costs_owned\"],[\"505\",\"average_house_value\"],[\"505\",\"other_house\"],[\"505\",\"apartment_five_storeys_less\"],[\"505\",\"duplex\"],[\"505\",\"row_house\"],[\"505\",\"semi_detached_house\"],[\"505\",\"movable_dwelling\"],[\"505\",\"apartment_five_storeys_plus\"],[\"505\",\"single_detached_house\"],[\"505\",\"year\"],[\"506\",\"shelter_costs_rented\"],[\"506\",\"shelter_costs_owned\"],[\"506\",\"average_house_value\"],[\"506\",\"other_house\"],[\"506\",\"apartment_five_storeys_less\"],[\"506\",\"duplex\"],[\"506\",\"row_house\"],[\"506\",\"semi_detached_house\"],[\"506\",\"movable_dwelling\"],[\"506\",\"apartment_five_storeys_plus\"],[\"506\",\"single_detached_house\"],[\"506\",\"year\"],[\"507\",\"shelter_costs_rented\"],[\"507\",\"shelter_costs_owned\"],[\"507\",\"average_house_value\"],[\"507\",\"other_house\"],[\"507\",\"apartment_five_storeys_less\"],[\"507\",\"duplex\"],[\"507\",\"row_house\"],[\"507\",\"semi_detached_house\"],[\"507\",\"movable_dwelling\"],[\"507\",\"apartment_five_storeys_plus\"],[\"507\",\"single_detached_house\"],[\"507\",\"year\"],[\"508\",\"shelter_costs_rented\"],[\"508\",\"shelter_costs_owned\"],[\"508\",\"average_house_value\"],[\"508\",\"other_house\"],[\"508\",\"apartment_five_storeys_less\"],[\"508\",\"duplex\"],[\"508\",\"row_house\"],[\"508\",\"semi_detached_house\"],[\"508\",\"movable_dwelling\"],[\"508\",\"apartment_five_storeys_plus\"],[\"508\",\"single_detached_house\"],[\"508\",\"year\"],[\"509\",\"shelter_costs_rented\"],[\"509\",\"shelter_costs_owned\"],[\"509\",\"average_house_value\"],[\"509\",\"other_house\"],[\"509\",\"apartment_five_storeys_less\"],[\"509\",\"duplex\"],[\"509\",\"row_house\"],[\"509\",\"semi_detached_house\"],[\"509\",\"movable_dwelling\"],[\"509\",\"apartment_five_storeys_plus\"],[\"509\",\"single_detached_house\"],[\"509\",\"year\"],[\"510\",\"shelter_costs_rented\"],[\"510\",\"shelter_costs_owned\"],[\"510\",\"average_house_value\"],[\"510\",\"other_house\"],[\"510\",\"apartment_five_storeys_less\"],[\"510\",\"duplex\"],[\"510\",\"row_house\"],[\"510\",\"semi_detached_house\"],[\"510\",\"movable_dwelling\"],[\"510\",\"apartment_five_storeys_plus\"],[\"510\",\"single_detached_house\"],[\"510\",\"year\"],[\"511\",\"shelter_costs_rented\"],[\"511\",\"shelter_costs_owned\"],[\"511\",\"average_house_value\"],[\"511\",\"other_house\"],[\"511\",\"apartment_five_storeys_less\"],[\"511\",\"duplex\"],[\"511\",\"row_house\"],[\"511\",\"semi_detached_house\"],[\"511\",\"movable_dwelling\"],[\"511\",\"apartment_five_storeys_plus\"],[\"511\",\"single_detached_house\"],[\"511\",\"year\"],[\"512\",\"shelter_costs_rented\"],[\"512\",\"shelter_costs_owned\"],[\"512\",\"average_house_value\"],[\"512\",\"other_house\"],[\"512\",\"apartment_five_storeys_less\"],[\"512\",\"duplex\"],[\"512\",\"row_house\"],[\"512\",\"semi_detached_house\"],[\"512\",\"movable_dwelling\"],[\"512\",\"apartment_five_storeys_plus\"],[\"512\",\"single_detached_house\"],[\"512\",\"year\"],[\"513\",\"shelter_costs_rented\"],[\"513\",\"shelter_costs_owned\"],[\"513\",\"average_house_value\"],[\"513\",\"other_house\"],[\"513\",\"apartment_five_storeys_less\"],[\"513\",\"duplex\"],[\"513\",\"row_house\"],[\"513\",\"semi_detached_house\"],[\"513\",\"movable_dwelling\"],[\"513\",\"apartment_five_storeys_plus\"],[\"513\",\"single_detached_house\"],[\"513\",\"year\"],[\"514\",\"shelter_costs_rented\"],[\"514\",\"shelter_costs_owned\"],[\"514\",\"average_house_value\"],[\"514\",\"other_house\"],[\"514\",\"apartment_five_storeys_less\"],[\"514\",\"duplex\"],[\"514\",\"row_house\"],[\"514\",\"semi_detached_house\"],[\"514\",\"movable_dwelling\"],[\"514\",\"apartment_five_storeys_plus\"],[\"514\",\"single_detached_house\"],[\"514\",\"year\"],[\"515\",\"shelter_costs_rented\"],[\"515\",\"shelter_costs_owned\"],[\"515\",\"average_house_value\"],[\"515\",\"other_house\"],[\"515\",\"apartment_five_storeys_less\"],[\"515\",\"duplex\"],[\"515\",\"row_house\"],[\"515\",\"semi_detached_house\"],[\"515\",\"movable_dwelling\"],[\"515\",\"apartment_five_storeys_plus\"],[\"515\",\"single_detached_house\"],[\"515\",\"year\"],[\"516\",\"shelter_costs_rented\"],[\"516\",\"shelter_costs_owned\"],[\"516\",\"average_house_value\"],[\"516\",\"other_house\"],[\"516\",\"apartment_five_storeys_less\"],[\"516\",\"duplex\"],[\"516\",\"row_house\"],[\"516\",\"semi_detached_house\"],[\"516\",\"movable_dwelling\"],[\"516\",\"apartment_five_storeys_plus\"],[\"516\",\"single_detached_house\"],[\"516\",\"year\"],[\"517\",\"shelter_costs_rented\"],[\"517\",\"shelter_costs_owned\"],[\"517\",\"average_house_value\"],[\"517\",\"other_house\"],[\"517\",\"apartment_five_storeys_less\"],[\"517\",\"duplex\"],[\"517\",\"row_house\"],[\"517\",\"semi_detached_house\"],[\"517\",\"movable_dwelling\"],[\"517\",\"apartment_five_storeys_plus\"],[\"517\",\"single_detached_house\"],[\"517\",\"year\"],[\"518\",\"shelter_costs_rented\"],[\"518\",\"shelter_costs_owned\"],[\"518\",\"average_house_value\"],[\"518\",\"other_house\"],[\"518\",\"apartment_five_storeys_less\"],[\"518\",\"duplex\"],[\"518\",\"row_house\"],[\"518\",\"semi_detached_house\"],[\"518\",\"movable_dwelling\"],[\"518\",\"apartment_five_storeys_plus\"],[\"518\",\"single_detached_house\"],[\"518\",\"year\"],[\"519\",\"shelter_costs_rented\"],[\"519\",\"shelter_costs_owned\"],[\"519\",\"average_house_value\"],[\"519\",\"other_house\"],[\"519\",\"apartment_five_storeys_less\"],[\"519\",\"duplex\"],[\"519\",\"row_house\"],[\"519\",\"semi_detached_house\"],[\"519\",\"movable_dwelling\"],[\"519\",\"apartment_five_storeys_plus\"],[\"519\",\"single_detached_house\"],[\"519\",\"year\"],[\"520\",\"shelter_costs_rented\"],[\"520\",\"shelter_costs_owned\"],[\"520\",\"average_house_value\"],[\"520\",\"other_house\"],[\"520\",\"apartment_five_storeys_less\"],[\"520\",\"duplex\"],[\"520\",\"row_house\"],[\"520\",\"semi_detached_house\"],[\"520\",\"movable_dwelling\"],[\"520\",\"apartment_five_storeys_plus\"],[\"520\",\"single_detached_house\"],[\"520\",\"year\"],[\"521\",\"shelter_costs_rented\"],[\"521\",\"shelter_costs_owned\"],[\"521\",\"average_house_value\"],[\"521\",\"other_house\"],[\"521\",\"apartment_five_storeys_less\"],[\"521\",\"duplex\"],[\"521\",\"row_house\"],[\"521\",\"semi_detached_house\"],[\"521\",\"movable_dwelling\"],[\"521\",\"apartment_five_storeys_plus\"],[\"521\",\"single_detached_house\"],[\"521\",\"year\"],[\"522\",\"shelter_costs_rented\"],[\"522\",\"shelter_costs_owned\"],[\"522\",\"average_house_value\"],[\"522\",\"other_house\"],[\"522\",\"apartment_five_storeys_less\"],[\"522\",\"duplex\"],[\"522\",\"row_house\"],[\"522\",\"semi_detached_house\"],[\"522\",\"movable_dwelling\"],[\"522\",\"apartment_five_storeys_plus\"],[\"522\",\"single_detached_house\"],[\"522\",\"year\"],[\"523\",\"shelter_costs_rented\"],[\"523\",\"shelter_costs_owned\"],[\"523\",\"average_house_value\"],[\"523\",\"other_house\"],[\"523\",\"apartment_five_storeys_less\"],[\"523\",\"duplex\"],[\"523\",\"row_house\"],[\"523\",\"semi_detached_house\"],[\"523\",\"movable_dwelling\"],[\"523\",\"apartment_five_storeys_plus\"],[\"523\",\"single_detached_house\"],[\"523\",\"year\"],[\"524\",\"shelter_costs_rented\"],[\"524\",\"shelter_costs_owned\"],[\"524\",\"average_house_value\"],[\"524\",\"other_house\"],[\"524\",\"apartment_five_storeys_less\"],[\"524\",\"duplex\"],[\"524\",\"row_house\"],[\"524\",\"semi_detached_house\"],[\"524\",\"movable_dwelling\"],[\"524\",\"apartment_five_storeys_plus\"],[\"524\",\"single_detached_house\"],[\"524\",\"year\"],[\"525\",\"shelter_costs_rented\"],[\"525\",\"shelter_costs_owned\"],[\"525\",\"average_house_value\"],[\"525\",\"other_house\"],[\"525\",\"apartment_five_storeys_less\"],[\"525\",\"duplex\"],[\"525\",\"row_house\"],[\"525\",\"semi_detached_house\"],[\"525\",\"movable_dwelling\"],[\"525\",\"apartment_five_storeys_plus\"],[\"525\",\"single_detached_house\"],[\"525\",\"year\"],[\"526\",\"shelter_costs_rented\"],[\"526\",\"shelter_costs_owned\"],[\"526\",\"average_house_value\"],[\"526\",\"other_house\"],[\"526\",\"apartment_five_storeys_less\"],[\"526\",\"duplex\"],[\"526\",\"row_house\"],[\"526\",\"semi_detached_house\"],[\"526\",\"movable_dwelling\"],[\"526\",\"apartment_five_storeys_plus\"],[\"526\",\"single_detached_house\"],[\"526\",\"year\"],[\"527\",\"shelter_costs_rented\"],[\"527\",\"shelter_costs_owned\"],[\"527\",\"average_house_value\"],[\"527\",\"other_house\"],[\"527\",\"apartment_five_storeys_less\"],[\"527\",\"duplex\"],[\"527\",\"row_house\"],[\"527\",\"semi_detached_house\"],[\"527\",\"movable_dwelling\"],[\"527\",\"apartment_five_storeys_plus\"],[\"527\",\"single_detached_house\"],[\"527\",\"year\"],[\"528\",\"shelter_costs_rented\"],[\"528\",\"shelter_costs_owned\"],[\"528\",\"average_house_value\"],[\"528\",\"other_house\"],[\"528\",\"apartment_five_storeys_less\"],[\"528\",\"duplex\"],[\"528\",\"row_house\"],[\"528\",\"semi_detached_house\"],[\"528\",\"movable_dwelling\"],[\"528\",\"apartment_five_storeys_plus\"],[\"528\",\"single_detached_house\"],[\"528\",\"year\"],[\"529\",\"shelter_costs_rented\"],[\"529\",\"shelter_costs_owned\"],[\"529\",\"average_house_value\"],[\"529\",\"other_house\"],[\"529\",\"apartment_five_storeys_less\"],[\"529\",\"duplex\"],[\"529\",\"row_house\"],[\"529\",\"semi_detached_house\"],[\"529\",\"movable_dwelling\"],[\"529\",\"apartment_five_storeys_plus\"],[\"529\",\"single_detached_house\"],[\"529\",\"year\"],[\"530\",\"shelter_costs_rented\"],[\"530\",\"shelter_costs_owned\"],[\"530\",\"average_house_value\"],[\"530\",\"other_house\"],[\"530\",\"apartment_five_storeys_less\"],[\"530\",\"duplex\"],[\"530\",\"row_house\"],[\"530\",\"semi_detached_house\"],[\"530\",\"movable_dwelling\"],[\"530\",\"apartment_five_storeys_plus\"],[\"530\",\"single_detached_house\"],[\"530\",\"year\"],[\"531\",\"shelter_costs_rented\"],[\"531\",\"shelter_costs_owned\"],[\"531\",\"average_house_value\"],[\"531\",\"other_house\"],[\"531\",\"apartment_five_storeys_less\"],[\"531\",\"duplex\"],[\"531\",\"row_house\"],[\"531\",\"semi_detached_house\"],[\"531\",\"movable_dwelling\"],[\"531\",\"apartment_five_storeys_plus\"],[\"531\",\"single_detached_house\"],[\"531\",\"year\"],[\"532\",\"shelter_costs_rented\"],[\"532\",\"shelter_costs_owned\"],[\"532\",\"average_house_value\"],[\"532\",\"other_house\"],[\"532\",\"apartment_five_storeys_less\"],[\"532\",\"duplex\"],[\"532\",\"row_house\"],[\"532\",\"semi_detached_house\"],[\"532\",\"movable_dwelling\"],[\"532\",\"apartment_five_storeys_plus\"],[\"532\",\"single_detached_house\"],[\"532\",\"year\"],[\"533\",\"shelter_costs_rented\"],[\"533\",\"shelter_costs_owned\"],[\"533\",\"average_house_value\"],[\"533\",\"other_house\"],[\"533\",\"apartment_five_storeys_less\"],[\"533\",\"duplex\"],[\"533\",\"row_house\"],[\"533\",\"semi_detached_house\"],[\"533\",\"movable_dwelling\"],[\"533\",\"apartment_five_storeys_plus\"],[\"533\",\"single_detached_house\"],[\"533\",\"year\"],[\"534\",\"shelter_costs_rented\"],[\"534\",\"shelter_costs_owned\"],[\"534\",\"average_house_value\"],[\"534\",\"other_house\"],[\"534\",\"apartment_five_storeys_less\"],[\"534\",\"duplex\"],[\"534\",\"row_house\"],[\"534\",\"semi_detached_house\"],[\"534\",\"movable_dwelling\"],[\"534\",\"apartment_five_storeys_plus\"],[\"534\",\"single_detached_house\"],[\"534\",\"year\"],[\"535\",\"shelter_costs_rented\"],[\"535\",\"shelter_costs_owned\"],[\"535\",\"average_house_value\"],[\"535\",\"other_house\"],[\"535\",\"apartment_five_storeys_less\"],[\"535\",\"duplex\"],[\"535\",\"row_house\"],[\"535\",\"semi_detached_house\"],[\"535\",\"movable_dwelling\"],[\"535\",\"apartment_five_storeys_plus\"],[\"535\",\"single_detached_house\"],[\"535\",\"year\"],[\"536\",\"shelter_costs_rented\"],[\"536\",\"shelter_costs_owned\"],[\"536\",\"average_house_value\"],[\"536\",\"other_house\"],[\"536\",\"apartment_five_storeys_less\"],[\"536\",\"duplex\"],[\"536\",\"row_house\"],[\"536\",\"semi_detached_house\"],[\"536\",\"movable_dwelling\"],[\"536\",\"apartment_five_storeys_plus\"],[\"536\",\"single_detached_house\"],[\"536\",\"year\"],[\"537\",\"shelter_costs_rented\"],[\"537\",\"shelter_costs_owned\"],[\"537\",\"average_house_value\"],[\"537\",\"other_house\"],[\"537\",\"apartment_five_storeys_less\"],[\"537\",\"duplex\"],[\"537\",\"row_house\"],[\"537\",\"semi_detached_house\"],[\"537\",\"movable_dwelling\"],[\"537\",\"apartment_five_storeys_plus\"],[\"537\",\"single_detached_house\"],[\"537\",\"year\"],[\"538\",\"shelter_costs_rented\"],[\"538\",\"shelter_costs_owned\"],[\"538\",\"average_house_value\"],[\"538\",\"other_house\"],[\"538\",\"apartment_five_storeys_less\"],[\"538\",\"duplex\"],[\"538\",\"row_house\"],[\"538\",\"semi_detached_house\"],[\"538\",\"movable_dwelling\"],[\"538\",\"apartment_five_storeys_plus\"],[\"538\",\"single_detached_house\"],[\"538\",\"year\"],[\"539\",\"shelter_costs_rented\"],[\"539\",\"shelter_costs_owned\"],[\"539\",\"average_house_value\"],[\"539\",\"other_house\"],[\"539\",\"apartment_five_storeys_less\"],[\"539\",\"duplex\"],[\"539\",\"row_house\"],[\"539\",\"semi_detached_house\"],[\"539\",\"movable_dwelling\"],[\"539\",\"apartment_five_storeys_plus\"],[\"539\",\"single_detached_house\"],[\"539\",\"year\"],[\"540\",\"shelter_costs_rented\"],[\"540\",\"shelter_costs_owned\"],[\"540\",\"average_house_value\"],[\"540\",\"other_house\"],[\"540\",\"apartment_five_storeys_less\"],[\"540\",\"duplex\"],[\"540\",\"row_house\"],[\"540\",\"semi_detached_house\"],[\"540\",\"movable_dwelling\"],[\"540\",\"apartment_five_storeys_plus\"],[\"540\",\"single_detached_house\"],[\"540\",\"year\"],[\"541\",\"shelter_costs_rented\"],[\"541\",\"shelter_costs_owned\"],[\"541\",\"average_house_value\"],[\"541\",\"other_house\"],[\"541\",\"apartment_five_storeys_less\"],[\"541\",\"duplex\"],[\"541\",\"row_house\"],[\"541\",\"semi_detached_house\"],[\"541\",\"movable_dwelling\"],[\"541\",\"apartment_five_storeys_plus\"],[\"541\",\"single_detached_house\"],[\"541\",\"year\"],[\"542\",\"shelter_costs_rented\"],[\"542\",\"shelter_costs_owned\"],[\"542\",\"average_house_value\"],[\"542\",\"other_house\"],[\"542\",\"apartment_five_storeys_less\"],[\"542\",\"duplex\"],[\"542\",\"row_house\"],[\"542\",\"semi_detached_house\"],[\"542\",\"movable_dwelling\"],[\"542\",\"apartment_five_storeys_plus\"],[\"542\",\"single_detached_house\"],[\"542\",\"year\"],[\"543\",\"shelter_costs_rented\"],[\"543\",\"shelter_costs_owned\"],[\"543\",\"average_house_value\"],[\"543\",\"other_house\"],[\"543\",\"apartment_five_storeys_less\"],[\"543\",\"duplex\"],[\"543\",\"row_house\"],[\"543\",\"semi_detached_house\"],[\"543\",\"movable_dwelling\"],[\"543\",\"apartment_five_storeys_plus\"],[\"543\",\"single_detached_house\"],[\"543\",\"year\"],[\"544\",\"shelter_costs_rented\"],[\"544\",\"shelter_costs_owned\"],[\"544\",\"average_house_value\"],[\"544\",\"other_house\"],[\"544\",\"apartment_five_storeys_less\"],[\"544\",\"duplex\"],[\"544\",\"row_house\"],[\"544\",\"semi_detached_house\"],[\"544\",\"movable_dwelling\"],[\"544\",\"apartment_five_storeys_plus\"],[\"544\",\"single_detached_house\"],[\"544\",\"year\"],[\"545\",\"shelter_costs_rented\"],[\"545\",\"shelter_costs_owned\"],[\"545\",\"average_house_value\"],[\"545\",\"other_house\"],[\"545\",\"apartment_five_storeys_less\"],[\"545\",\"duplex\"],[\"545\",\"row_house\"],[\"545\",\"semi_detached_house\"],[\"545\",\"movable_dwelling\"],[\"545\",\"apartment_five_storeys_plus\"],[\"545\",\"single_detached_house\"],[\"545\",\"year\"],[\"546\",\"shelter_costs_rented\"],[\"546\",\"shelter_costs_owned\"],[\"546\",\"average_house_value\"],[\"546\",\"other_house\"],[\"546\",\"apartment_five_storeys_less\"],[\"546\",\"duplex\"],[\"546\",\"row_house\"],[\"546\",\"semi_detached_house\"],[\"546\",\"movable_dwelling\"],[\"546\",\"apartment_five_storeys_plus\"],[\"546\",\"single_detached_house\"],[\"546\",\"year\"],[\"547\",\"shelter_costs_rented\"],[\"547\",\"shelter_costs_owned\"],[\"547\",\"average_house_value\"],[\"547\",\"other_house\"],[\"547\",\"apartment_five_storeys_less\"],[\"547\",\"duplex\"],[\"547\",\"row_house\"],[\"547\",\"semi_detached_house\"],[\"547\",\"movable_dwelling\"],[\"547\",\"apartment_five_storeys_plus\"],[\"547\",\"single_detached_house\"],[\"547\",\"year\"],[\"548\",\"shelter_costs_rented\"],[\"548\",\"shelter_costs_owned\"],[\"548\",\"average_house_value\"],[\"548\",\"other_house\"],[\"548\",\"apartment_five_storeys_less\"],[\"548\",\"duplex\"],[\"548\",\"row_house\"],[\"548\",\"semi_detached_house\"],[\"548\",\"movable_dwelling\"],[\"548\",\"apartment_five_storeys_plus\"],[\"548\",\"single_detached_house\"],[\"548\",\"year\"],[\"549\",\"shelter_costs_rented\"],[\"549\",\"shelter_costs_owned\"],[\"549\",\"average_house_value\"],[\"549\",\"other_house\"],[\"549\",\"apartment_five_storeys_less\"],[\"549\",\"duplex\"],[\"549\",\"row_house\"],[\"549\",\"semi_detached_house\"],[\"549\",\"movable_dwelling\"],[\"549\",\"apartment_five_storeys_plus\"],[\"549\",\"single_detached_house\"],[\"549\",\"year\"],[\"550\",\"shelter_costs_rented\"],[\"550\",\"shelter_costs_owned\"],[\"550\",\"average_house_value\"],[\"550\",\"other_house\"],[\"550\",\"apartment_five_storeys_less\"],[\"550\",\"duplex\"],[\"550\",\"row_house\"],[\"550\",\"semi_detached_house\"],[\"550\",\"movable_dwelling\"],[\"550\",\"apartment_five_storeys_plus\"],[\"550\",\"single_detached_house\"],[\"550\",\"year\"],[\"551\",\"shelter_costs_rented\"],[\"551\",\"shelter_costs_owned\"],[\"551\",\"average_house_value\"],[\"551\",\"other_house\"],[\"551\",\"apartment_five_storeys_less\"],[\"551\",\"duplex\"],[\"551\",\"row_house\"],[\"551\",\"semi_detached_house\"],[\"551\",\"movable_dwelling\"],[\"551\",\"apartment_five_storeys_plus\"],[\"551\",\"single_detached_house\"],[\"551\",\"year\"],[\"552\",\"shelter_costs_rented\"],[\"552\",\"shelter_costs_owned\"],[\"552\",\"average_house_value\"],[\"552\",\"other_house\"],[\"552\",\"apartment_five_storeys_less\"],[\"552\",\"duplex\"],[\"552\",\"row_house\"],[\"552\",\"semi_detached_house\"],[\"552\",\"movable_dwelling\"],[\"552\",\"apartment_five_storeys_plus\"],[\"552\",\"single_detached_house\"],[\"552\",\"year\"],[\"553\",\"shelter_costs_rented\"],[\"553\",\"shelter_costs_owned\"],[\"553\",\"average_house_value\"],[\"553\",\"other_house\"],[\"553\",\"apartment_five_storeys_less\"],[\"553\",\"duplex\"],[\"553\",\"row_house\"],[\"553\",\"semi_detached_house\"],[\"553\",\"movable_dwelling\"],[\"553\",\"apartment_five_storeys_plus\"],[\"553\",\"single_detached_house\"],[\"553\",\"year\"],[\"554\",\"shelter_costs_rented\"],[\"554\",\"shelter_costs_owned\"],[\"554\",\"average_house_value\"],[\"554\",\"other_house\"],[\"554\",\"apartment_five_storeys_less\"],[\"554\",\"duplex\"],[\"554\",\"row_house\"],[\"554\",\"semi_detached_house\"],[\"554\",\"movable_dwelling\"],[\"554\",\"apartment_five_storeys_plus\"],[\"554\",\"single_detached_house\"],[\"554\",\"year\"],[\"555\",\"shelter_costs_rented\"],[\"555\",\"shelter_costs_owned\"],[\"555\",\"average_house_value\"],[\"555\",\"other_house\"],[\"555\",\"apartment_five_storeys_less\"],[\"555\",\"duplex\"],[\"555\",\"row_house\"],[\"555\",\"semi_detached_house\"],[\"555\",\"movable_dwelling\"],[\"555\",\"apartment_five_storeys_plus\"],[\"555\",\"single_detached_house\"],[\"555\",\"year\"],[\"556\",\"shelter_costs_rented\"],[\"556\",\"shelter_costs_owned\"],[\"556\",\"average_house_value\"],[\"556\",\"other_house\"],[\"556\",\"apartment_five_storeys_less\"],[\"556\",\"duplex\"],[\"556\",\"row_house\"],[\"556\",\"semi_detached_house\"],[\"556\",\"movable_dwelling\"],[\"556\",\"apartment_five_storeys_plus\"],[\"556\",\"single_detached_house\"],[\"556\",\"year\"],[\"557\",\"shelter_costs_rented\"],[\"557\",\"shelter_costs_owned\"],[\"557\",\"average_house_value\"],[\"557\",\"other_house\"],[\"557\",\"apartment_five_storeys_less\"],[\"557\",\"duplex\"],[\"557\",\"row_house\"],[\"557\",\"semi_detached_house\"],[\"557\",\"movable_dwelling\"],[\"557\",\"apartment_five_storeys_plus\"],[\"557\",\"single_detached_house\"],[\"557\",\"year\"],[\"558\",\"shelter_costs_rented\"],[\"558\",\"shelter_costs_owned\"],[\"558\",\"average_house_value\"],[\"558\",\"other_house\"],[\"558\",\"apartment_five_storeys_less\"],[\"558\",\"duplex\"],[\"558\",\"row_house\"],[\"558\",\"semi_detached_house\"],[\"558\",\"movable_dwelling\"],[\"558\",\"apartment_five_storeys_plus\"],[\"558\",\"single_detached_house\"],[\"558\",\"year\"],[\"559\",\"shelter_costs_rented\"],[\"559\",\"shelter_costs_owned\"],[\"559\",\"average_house_value\"],[\"559\",\"other_house\"],[\"559\",\"apartment_five_storeys_less\"],[\"559\",\"duplex\"],[\"559\",\"row_house\"],[\"559\",\"semi_detached_house\"],[\"559\",\"movable_dwelling\"],[\"559\",\"apartment_five_storeys_plus\"],[\"559\",\"single_detached_house\"],[\"559\",\"year\"]],\"tags\":[[[\"index\",\"index\",null],[\"Variable\",\"Variable\",null]]]},\"id\":\"7690\",\"type\":\"FactorRange\"},{\"attributes\":{},\"id\":\"7700\",\"type\":\"LinearScale\"},{\"attributes\":{\"bottom_units\":\"screen\",\"fill_alpha\":0.5,\"fill_color\":\"lightgrey\",\"left_units\":\"screen\",\"level\":\"overlay\",\"line_alpha\":1.0,\"line_color\":\"black\",\"line_dash\":[4,4],\"line_width\":2,\"right_units\":\"screen\",\"syncable\":false,\"top_units\":\"screen\"},\"id\":\"7714\",\"type\":\"BoxAnnotation\"},{\"attributes\":{},\"id\":\"7703\",\"type\":\"CategoricalTicker\"},{\"attributes\":{\"end\":2337118.3,\"reset_end\":2337118.3,\"reset_start\":0.0,\"tags\":[[[\"value\",\"value\",null]]]},\"id\":\"7691\",\"type\":\"Range1d\"},{\"attributes\":{\"axis\":{\"id\":\"7705\"},\"dimension\":1,\"grid_line_color\":null,\"ticker\":null},\"id\":\"7708\",\"type\":\"Grid\"},{\"attributes\":{},\"id\":\"7734\",\"type\":\"AllLabels\"},{\"attributes\":{},\"id\":\"7706\",\"type\":\"BasicTicker\"},{\"attributes\":{\"format\":\"%.0f\"},\"id\":\"7732\",\"type\":\"PrintfTickFormatter\"},{\"attributes\":{\"callback\":null,\"renderers\":[{\"id\":\"7729\"}],\"tags\":[\"hv_created\"],\"tooltips\":[[\"index\",\"@{index}\"],[\"Variable\",\"@{Variable}\"],[\"value\",\"@{value}\"]]},\"id\":\"7692\",\"type\":\"HoverTool\"},{\"attributes\":{\"axis_label\":\"Dwelling type units\",\"formatter\":{\"id\":\"7732\"},\"major_label_policy\":{\"id\":\"7738\"},\"ticker\":{\"id\":\"7706\"}},\"id\":\"7705\",\"type\":\"LinearAxis\"},{\"attributes\":{\"bottom\":{\"value\":0},\"fill_alpha\":{\"value\":1.0},\"fill_color\":{\"field\":\"Variable\",\"transform\":{\"id\":\"7722\"}},\"hatch_alpha\":{\"value\":1.0},\"hatch_color\":{\"value\":\"black\"},\"hatch_scale\":{\"value\":12.0},\"hatch_weight\":{\"value\":1.0},\"line_alpha\":{\"value\":1.0},\"line_cap\":{\"value\":\"butt\"},\"line_color\":{\"value\":\"black\"},\"line_dash\":{\"value\":[]},\"line_dash_offset\":{\"value\":0},\"line_join\":{\"value\":\"bevel\"},\"line_width\":{\"value\":1},\"top\":{\"field\":\"value\"},\"width\":{\"value\":0.8},\"x\":{\"field\":\"xoffsets\"}},\"id\":\"7731\",\"type\":\"VBar\"},{\"attributes\":{\"active_multi\":null,\"tools\":[{\"id\":\"7692\"},{\"id\":\"7709\"},{\"id\":\"7710\"},{\"id\":\"7711\"},{\"id\":\"7712\"},{\"id\":\"7713\"}]},\"id\":\"7715\",\"type\":\"Toolbar\"},{\"attributes\":{},\"id\":\"7738\",\"type\":\"AllLabels\"},{\"attributes\":{},\"id\":\"7733\",\"type\":\"CategoricalTickFormatter\"},{\"attributes\":{\"children\":[{\"id\":\"7689\"},{\"id\":\"7693\"},{\"id\":\"7759\"}],\"margin\":[0,0,0,0],\"name\":\"Row14692\",\"tags\":[\"embedded\"]},\"id\":\"7688\",\"type\":\"Row\"}],\"root_ids\":[\"7688\"]},\"title\":\"Bokeh Application\",\"version\":\"2.3.2\"}};\n",
       "    var render_items = [{\"docid\":\"70500622-8dc2-4d9b-ad8c-660be664a17b\",\"root_ids\":[\"7688\"],\"roots\":{\"7688\":\"02b36835-a3dd-4bfe-b5f0-3f48eed1d390\"}}];\n",
       "    root.Bokeh.embed.embed_items_notebook(docs_json, render_items);\n",
       "  }\n",
       "  if (root.Bokeh !== undefined && root.Bokeh.Panel !== undefined && root['Plotly'] !== undefined ) {\n",
       "    embed_document(root);\n",
       "  } else {\n",
       "    var attempts = 0;\n",
       "    var timer = setInterval(function(root) {\n",
       "      if (root.Bokeh !== undefined && root.Bokeh.Panel !== undefined && root['Plotly'] !== undefined) {\n",
       "        clearInterval(timer);\n",
       "        embed_document(root);\n",
       "      } else if (document.readyState == \"complete\") {\n",
       "        attempts++;\n",
       "        if (attempts > 100) {\n",
       "          clearInterval(timer);\n",
       "          console.log(\"Bokeh: ERROR: Unable to run BokehJS code because BokehJS library is missing\");\n",
       "        }\n",
       "      }\n",
       "    }, 10, root)\n",
       "  }\n",
       "})(window);</script>"
      ],
      "text/plain": [
       ":Bars   [index,Variable]   (value)"
      ]
     },
     "execution_count": 143,
     "metadata": {
      "application/vnd.holoviews_exec.v0+json": {
       "id": "7688"
      }
     },
     "output_type": "execute_result"
    }
   ],
   "source": [
    "# Use hvplot to create an interactive bar chart of the number of dwelling types per neighbourhood\n",
    "# The plot should have a dropdown selector for the neighbourhood\n",
    "plot_dwelling_types_per_year = to_data_3.hvplot.bar(xlabel = \"year\", ylabel = \"Dwelling type units\").opts(yformatter=\"%.0f\")\n",
    "plot_dwelling_types_per_year"
   ]
  },
  {
   "cell_type": "markdown",
   "metadata": {},
   "source": [
    "- - - "
   ]
  },
  {
   "cell_type": "markdown",
   "metadata": {},
   "source": [
    "Top 10 Most Expensive Neighbourhoods## The Top 10 Most Expensive Neighbourhoods\n",
    "\n",
    "In this section, you will need to calculate the house value for each neighbourhood and then sort the values to obtain the top 10 most expensive neighbourhoods on average. Plot the results as a bar chart."
   ]
  },
  {
   "cell_type": "code",
   "execution_count": 144,
   "metadata": {},
   "outputs": [
    {
     "data": {
      "text/html": [
       "<div>\n",
       "<style scoped>\n",
       "    .dataframe tbody tr th:only-of-type {\n",
       "        vertical-align: middle;\n",
       "    }\n",
       "\n",
       "    .dataframe tbody tr th {\n",
       "        vertical-align: top;\n",
       "    }\n",
       "\n",
       "    .dataframe thead th {\n",
       "        text-align: right;\n",
       "    }\n",
       "</style>\n",
       "<table border=\"1\" class=\"dataframe\">\n",
       "  <thead>\n",
       "    <tr style=\"text-align: right;\">\n",
       "      <th></th>\n",
       "      <th>neighbourhood</th>\n",
       "      <th>average_house_value</th>\n",
       "    </tr>\n",
       "  </thead>\n",
       "  <tbody>\n",
       "    <tr>\n",
       "      <th>42</th>\n",
       "      <td>Flemingdon Park</td>\n",
       "      <td>126255</td>\n",
       "    </tr>\n",
       "    <tr>\n",
       "      <th>115</th>\n",
       "      <td>Taylor-Massey</td>\n",
       "      <td>145464</td>\n",
       "    </tr>\n",
       "    <tr>\n",
       "      <th>81</th>\n",
       "      <td>Mount Olive-Silverstone-Jamestown</td>\n",
       "      <td>153829</td>\n",
       "    </tr>\n",
       "    <tr>\n",
       "      <th>118</th>\n",
       "      <td>Thorncliffe Park</td>\n",
       "      <td>155094</td>\n",
       "    </tr>\n",
       "    <tr>\n",
       "      <th>73</th>\n",
       "      <td>Malvern</td>\n",
       "      <td>156076</td>\n",
       "    </tr>\n",
       "    <tr>\n",
       "      <th>13</th>\n",
       "      <td>Black Creek</td>\n",
       "      <td>158483</td>\n",
       "    </tr>\n",
       "    <tr>\n",
       "      <th>31</th>\n",
       "      <td>Dorset Park</td>\n",
       "      <td>159187</td>\n",
       "    </tr>\n",
       "    <tr>\n",
       "      <th>80</th>\n",
       "      <td>Mount Dennis</td>\n",
       "      <td>159374</td>\n",
       "    </tr>\n",
       "    <tr>\n",
       "      <th>38</th>\n",
       "      <td>Elms-Old Rexdale</td>\n",
       "      <td>163039</td>\n",
       "    </tr>\n",
       "    <tr>\n",
       "      <th>37</th>\n",
       "      <td>Eglinton East</td>\n",
       "      <td>163419</td>\n",
       "    </tr>\n",
       "  </tbody>\n",
       "</table>\n",
       "</div>"
      ],
      "text/plain": [
       "                         neighbourhood  average_house_value\n",
       "42                     Flemingdon Park               126255\n",
       "115                      Taylor-Massey               145464\n",
       "81   Mount Olive-Silverstone-Jamestown               153829\n",
       "118                   Thorncliffe Park               155094\n",
       "73                             Malvern               156076\n",
       "13                         Black Creek               158483\n",
       "31                         Dorset Park               159187\n",
       "80                        Mount Dennis               159374\n",
       "38                    Elms-Old Rexdale               163039\n",
       "37                       Eglinton East               163419"
      ]
     },
     "execution_count": 144,
     "metadata": {},
     "output_type": "execute_result"
    }
   ],
   "source": [
    "# Getting the data from the top 10 expensive neighbourhoods\n",
    "top_10 = to_data_3[[\"neighbourhood\", \"average_house_value\"]].sort_values(\"average_house_value\").head(10)\n",
    "top_10.head(10)"
   ]
  },
  {
   "cell_type": "code",
   "execution_count": 145,
   "metadata": {},
   "outputs": [
    {
     "data": {
      "application/vnd.plotly.v1+json": {
       "config": {
        "plotlyServerURL": "https://plot.ly"
       },
       "data": [
        {
         "alignmentgroup": "True",
         "hovertemplate": "neighbourhood=%{x}<br>average_house_value=%{y}<extra></extra>",
         "legendgroup": "",
         "marker": {
          "color": "#636efa"
         },
         "name": "",
         "offsetgroup": "",
         "orientation": "v",
         "showlegend": false,
         "textposition": "auto",
         "type": "bar",
         "x": [
          "Flemingdon Park",
          "Taylor-Massey",
          "Mount Olive-Silverstone-Jamestown",
          "Thorncliffe Park",
          "Malvern",
          "Black Creek",
          "Dorset Park",
          "Mount Dennis",
          "Elms-Old Rexdale",
          "Eglinton East"
         ],
         "xaxis": "x",
         "y": [
          126255,
          145464,
          153829,
          155094,
          156076,
          158483,
          159187,
          159374,
          163039,
          163419
         ],
         "yaxis": "y"
        }
       ],
       "layout": {
        "autosize": true,
        "barmode": "relative",
        "legend": {
         "tracegroupgap": 0
        },
        "template": {
         "data": {
          "bar": [
           {
            "error_x": {
             "color": "#2a3f5f"
            },
            "error_y": {
             "color": "#2a3f5f"
            },
            "marker": {
             "line": {
              "color": "#E5ECF6",
              "width": 0.5
             }
            },
            "type": "bar"
           }
          ],
          "barpolar": [
           {
            "marker": {
             "line": {
              "color": "#E5ECF6",
              "width": 0.5
             }
            },
            "type": "barpolar"
           }
          ],
          "carpet": [
           {
            "aaxis": {
             "endlinecolor": "#2a3f5f",
             "gridcolor": "white",
             "linecolor": "white",
             "minorgridcolor": "white",
             "startlinecolor": "#2a3f5f"
            },
            "baxis": {
             "endlinecolor": "#2a3f5f",
             "gridcolor": "white",
             "linecolor": "white",
             "minorgridcolor": "white",
             "startlinecolor": "#2a3f5f"
            },
            "type": "carpet"
           }
          ],
          "choropleth": [
           {
            "colorbar": {
             "outlinewidth": 0,
             "ticks": ""
            },
            "type": "choropleth"
           }
          ],
          "contour": [
           {
            "colorbar": {
             "outlinewidth": 0,
             "ticks": ""
            },
            "colorscale": [
             [
              0,
              "#0d0887"
             ],
             [
              0.1111111111111111,
              "#46039f"
             ],
             [
              0.2222222222222222,
              "#7201a8"
             ],
             [
              0.3333333333333333,
              "#9c179e"
             ],
             [
              0.4444444444444444,
              "#bd3786"
             ],
             [
              0.5555555555555556,
              "#d8576b"
             ],
             [
              0.6666666666666666,
              "#ed7953"
             ],
             [
              0.7777777777777778,
              "#fb9f3a"
             ],
             [
              0.8888888888888888,
              "#fdca26"
             ],
             [
              1,
              "#f0f921"
             ]
            ],
            "type": "contour"
           }
          ],
          "contourcarpet": [
           {
            "colorbar": {
             "outlinewidth": 0,
             "ticks": ""
            },
            "type": "contourcarpet"
           }
          ],
          "heatmap": [
           {
            "colorbar": {
             "outlinewidth": 0,
             "ticks": ""
            },
            "colorscale": [
             [
              0,
              "#0d0887"
             ],
             [
              0.1111111111111111,
              "#46039f"
             ],
             [
              0.2222222222222222,
              "#7201a8"
             ],
             [
              0.3333333333333333,
              "#9c179e"
             ],
             [
              0.4444444444444444,
              "#bd3786"
             ],
             [
              0.5555555555555556,
              "#d8576b"
             ],
             [
              0.6666666666666666,
              "#ed7953"
             ],
             [
              0.7777777777777778,
              "#fb9f3a"
             ],
             [
              0.8888888888888888,
              "#fdca26"
             ],
             [
              1,
              "#f0f921"
             ]
            ],
            "type": "heatmap"
           }
          ],
          "heatmapgl": [
           {
            "colorbar": {
             "outlinewidth": 0,
             "ticks": ""
            },
            "colorscale": [
             [
              0,
              "#0d0887"
             ],
             [
              0.1111111111111111,
              "#46039f"
             ],
             [
              0.2222222222222222,
              "#7201a8"
             ],
             [
              0.3333333333333333,
              "#9c179e"
             ],
             [
              0.4444444444444444,
              "#bd3786"
             ],
             [
              0.5555555555555556,
              "#d8576b"
             ],
             [
              0.6666666666666666,
              "#ed7953"
             ],
             [
              0.7777777777777778,
              "#fb9f3a"
             ],
             [
              0.8888888888888888,
              "#fdca26"
             ],
             [
              1,
              "#f0f921"
             ]
            ],
            "type": "heatmapgl"
           }
          ],
          "histogram": [
           {
            "marker": {
             "colorbar": {
              "outlinewidth": 0,
              "ticks": ""
             }
            },
            "type": "histogram"
           }
          ],
          "histogram2d": [
           {
            "colorbar": {
             "outlinewidth": 0,
             "ticks": ""
            },
            "colorscale": [
             [
              0,
              "#0d0887"
             ],
             [
              0.1111111111111111,
              "#46039f"
             ],
             [
              0.2222222222222222,
              "#7201a8"
             ],
             [
              0.3333333333333333,
              "#9c179e"
             ],
             [
              0.4444444444444444,
              "#bd3786"
             ],
             [
              0.5555555555555556,
              "#d8576b"
             ],
             [
              0.6666666666666666,
              "#ed7953"
             ],
             [
              0.7777777777777778,
              "#fb9f3a"
             ],
             [
              0.8888888888888888,
              "#fdca26"
             ],
             [
              1,
              "#f0f921"
             ]
            ],
            "type": "histogram2d"
           }
          ],
          "histogram2dcontour": [
           {
            "colorbar": {
             "outlinewidth": 0,
             "ticks": ""
            },
            "colorscale": [
             [
              0,
              "#0d0887"
             ],
             [
              0.1111111111111111,
              "#46039f"
             ],
             [
              0.2222222222222222,
              "#7201a8"
             ],
             [
              0.3333333333333333,
              "#9c179e"
             ],
             [
              0.4444444444444444,
              "#bd3786"
             ],
             [
              0.5555555555555556,
              "#d8576b"
             ],
             [
              0.6666666666666666,
              "#ed7953"
             ],
             [
              0.7777777777777778,
              "#fb9f3a"
             ],
             [
              0.8888888888888888,
              "#fdca26"
             ],
             [
              1,
              "#f0f921"
             ]
            ],
            "type": "histogram2dcontour"
           }
          ],
          "mesh3d": [
           {
            "colorbar": {
             "outlinewidth": 0,
             "ticks": ""
            },
            "type": "mesh3d"
           }
          ],
          "parcoords": [
           {
            "line": {
             "colorbar": {
              "outlinewidth": 0,
              "ticks": ""
             }
            },
            "type": "parcoords"
           }
          ],
          "pie": [
           {
            "automargin": true,
            "type": "pie"
           }
          ],
          "scatter": [
           {
            "marker": {
             "colorbar": {
              "outlinewidth": 0,
              "ticks": ""
             }
            },
            "type": "scatter"
           }
          ],
          "scatter3d": [
           {
            "line": {
             "colorbar": {
              "outlinewidth": 0,
              "ticks": ""
             }
            },
            "marker": {
             "colorbar": {
              "outlinewidth": 0,
              "ticks": ""
             }
            },
            "type": "scatter3d"
           }
          ],
          "scattercarpet": [
           {
            "marker": {
             "colorbar": {
              "outlinewidth": 0,
              "ticks": ""
             }
            },
            "type": "scattercarpet"
           }
          ],
          "scattergeo": [
           {
            "marker": {
             "colorbar": {
              "outlinewidth": 0,
              "ticks": ""
             }
            },
            "type": "scattergeo"
           }
          ],
          "scattergl": [
           {
            "marker": {
             "colorbar": {
              "outlinewidth": 0,
              "ticks": ""
             }
            },
            "type": "scattergl"
           }
          ],
          "scattermapbox": [
           {
            "marker": {
             "colorbar": {
              "outlinewidth": 0,
              "ticks": ""
             }
            },
            "type": "scattermapbox"
           }
          ],
          "scatterpolar": [
           {
            "marker": {
             "colorbar": {
              "outlinewidth": 0,
              "ticks": ""
             }
            },
            "type": "scatterpolar"
           }
          ],
          "scatterpolargl": [
           {
            "marker": {
             "colorbar": {
              "outlinewidth": 0,
              "ticks": ""
             }
            },
            "type": "scatterpolargl"
           }
          ],
          "scatterternary": [
           {
            "marker": {
             "colorbar": {
              "outlinewidth": 0,
              "ticks": ""
             }
            },
            "type": "scatterternary"
           }
          ],
          "surface": [
           {
            "colorbar": {
             "outlinewidth": 0,
             "ticks": ""
            },
            "colorscale": [
             [
              0,
              "#0d0887"
             ],
             [
              0.1111111111111111,
              "#46039f"
             ],
             [
              0.2222222222222222,
              "#7201a8"
             ],
             [
              0.3333333333333333,
              "#9c179e"
             ],
             [
              0.4444444444444444,
              "#bd3786"
             ],
             [
              0.5555555555555556,
              "#d8576b"
             ],
             [
              0.6666666666666666,
              "#ed7953"
             ],
             [
              0.7777777777777778,
              "#fb9f3a"
             ],
             [
              0.8888888888888888,
              "#fdca26"
             ],
             [
              1,
              "#f0f921"
             ]
            ],
            "type": "surface"
           }
          ],
          "table": [
           {
            "cells": {
             "fill": {
              "color": "#EBF0F8"
             },
             "line": {
              "color": "white"
             }
            },
            "header": {
             "fill": {
              "color": "#C8D4E3"
             },
             "line": {
              "color": "white"
             }
            },
            "type": "table"
           }
          ]
         },
         "layout": {
          "annotationdefaults": {
           "arrowcolor": "#2a3f5f",
           "arrowhead": 0,
           "arrowwidth": 1
          },
          "autotypenumbers": "strict",
          "coloraxis": {
           "colorbar": {
            "outlinewidth": 0,
            "ticks": ""
           }
          },
          "colorscale": {
           "diverging": [
            [
             0,
             "#8e0152"
            ],
            [
             0.1,
             "#c51b7d"
            ],
            [
             0.2,
             "#de77ae"
            ],
            [
             0.3,
             "#f1b6da"
            ],
            [
             0.4,
             "#fde0ef"
            ],
            [
             0.5,
             "#f7f7f7"
            ],
            [
             0.6,
             "#e6f5d0"
            ],
            [
             0.7,
             "#b8e186"
            ],
            [
             0.8,
             "#7fbc41"
            ],
            [
             0.9,
             "#4d9221"
            ],
            [
             1,
             "#276419"
            ]
           ],
           "sequential": [
            [
             0,
             "#0d0887"
            ],
            [
             0.1111111111111111,
             "#46039f"
            ],
            [
             0.2222222222222222,
             "#7201a8"
            ],
            [
             0.3333333333333333,
             "#9c179e"
            ],
            [
             0.4444444444444444,
             "#bd3786"
            ],
            [
             0.5555555555555556,
             "#d8576b"
            ],
            [
             0.6666666666666666,
             "#ed7953"
            ],
            [
             0.7777777777777778,
             "#fb9f3a"
            ],
            [
             0.8888888888888888,
             "#fdca26"
            ],
            [
             1,
             "#f0f921"
            ]
           ],
           "sequentialminus": [
            [
             0,
             "#0d0887"
            ],
            [
             0.1111111111111111,
             "#46039f"
            ],
            [
             0.2222222222222222,
             "#7201a8"
            ],
            [
             0.3333333333333333,
             "#9c179e"
            ],
            [
             0.4444444444444444,
             "#bd3786"
            ],
            [
             0.5555555555555556,
             "#d8576b"
            ],
            [
             0.6666666666666666,
             "#ed7953"
            ],
            [
             0.7777777777777778,
             "#fb9f3a"
            ],
            [
             0.8888888888888888,
             "#fdca26"
            ],
            [
             1,
             "#f0f921"
            ]
           ]
          },
          "colorway": [
           "#636efa",
           "#EF553B",
           "#00cc96",
           "#ab63fa",
           "#FFA15A",
           "#19d3f3",
           "#FF6692",
           "#B6E880",
           "#FF97FF",
           "#FECB52"
          ],
          "font": {
           "color": "#2a3f5f"
          },
          "geo": {
           "bgcolor": "white",
           "lakecolor": "white",
           "landcolor": "#E5ECF6",
           "showlakes": true,
           "showland": true,
           "subunitcolor": "white"
          },
          "hoverlabel": {
           "align": "left"
          },
          "hovermode": "closest",
          "mapbox": {
           "style": "light"
          },
          "paper_bgcolor": "white",
          "plot_bgcolor": "#E5ECF6",
          "polar": {
           "angularaxis": {
            "gridcolor": "white",
            "linecolor": "white",
            "ticks": ""
           },
           "bgcolor": "#E5ECF6",
           "radialaxis": {
            "gridcolor": "white",
            "linecolor": "white",
            "ticks": ""
           }
          },
          "scene": {
           "xaxis": {
            "backgroundcolor": "#E5ECF6",
            "gridcolor": "white",
            "gridwidth": 2,
            "linecolor": "white",
            "showbackground": true,
            "ticks": "",
            "zerolinecolor": "white"
           },
           "yaxis": {
            "backgroundcolor": "#E5ECF6",
            "gridcolor": "white",
            "gridwidth": 2,
            "linecolor": "white",
            "showbackground": true,
            "ticks": "",
            "zerolinecolor": "white"
           },
           "zaxis": {
            "backgroundcolor": "#E5ECF6",
            "gridcolor": "white",
            "gridwidth": 2,
            "linecolor": "white",
            "showbackground": true,
            "ticks": "",
            "zerolinecolor": "white"
           }
          },
          "shapedefaults": {
           "line": {
            "color": "#2a3f5f"
           }
          },
          "ternary": {
           "aaxis": {
            "gridcolor": "white",
            "linecolor": "white",
            "ticks": ""
           },
           "baxis": {
            "gridcolor": "white",
            "linecolor": "white",
            "ticks": ""
           },
           "bgcolor": "#E5ECF6",
           "caxis": {
            "gridcolor": "white",
            "linecolor": "white",
            "ticks": ""
           }
          },
          "title": {
           "x": 0.05
          },
          "xaxis": {
           "automargin": true,
           "gridcolor": "white",
           "linecolor": "white",
           "ticks": "",
           "title": {
            "standoff": 15
           },
           "zerolinecolor": "white",
           "zerolinewidth": 2
          },
          "yaxis": {
           "automargin": true,
           "gridcolor": "white",
           "linecolor": "white",
           "ticks": "",
           "title": {
            "standoff": 15
           },
           "zerolinecolor": "white",
           "zerolinewidth": 2
          }
         }
        },
        "title": {
         "text": "Top 10 Most Expensive Neighbourhoods in Toronto"
        },
        "xaxis": {
         "anchor": "y",
         "autorange": true,
         "domain": [
          0,
          1
         ],
         "range": [
          -0.5,
          9.5
         ],
         "title": {
          "text": "neighbourhood"
         },
         "type": "category"
        },
        "yaxis": {
         "anchor": "x",
         "autorange": true,
         "domain": [
          0,
          1
         ],
         "range": [
          0,
          172020
         ],
         "title": {
          "text": "average_house_value"
         },
         "type": "linear"
        }
       }
      },
      "image/png": "[encoded data removed]",
      "text/html": [
       "<div>                            <div id=\"3709ec27-c389-4c65-b14b-d3c1e2cbad89\" class=\"plotly-graph-div\" style=\"height:525px; width:100%;\"></div>            <script type=\"text/javascript\">                require([\"plotly\"], function(Plotly) {                    window.PLOTLYENV=window.PLOTLYENV || {};                                    if (document.getElementById(\"3709ec27-c389-4c65-b14b-d3c1e2cbad89\")) {                    Plotly.newPlot(                        \"3709ec27-c389-4c65-b14b-d3c1e2cbad89\",                        [{\"alignmentgroup\": \"True\", \"hovertemplate\": \"neighbourhood=%{x}<br>average_house_value=%{y}<extra></extra>\", \"legendgroup\": \"\", \"marker\": {\"color\": \"#636efa\"}, \"name\": \"\", \"offsetgroup\": \"\", \"orientation\": \"v\", \"showlegend\": false, \"textposition\": \"auto\", \"type\": \"bar\", \"x\": [\"Flemingdon Park\", \"Taylor-Massey\", \"Mount Olive-Silverstone-Jamestown\", \"Thorncliffe Park\", \"Malvern\", \"Black Creek\", \"Dorset Park\", \"Mount Dennis\", \"Elms-Old Rexdale\", \"Eglinton East\"], \"xaxis\": \"x\", \"y\": [126255, 145464, 153829, 155094, 156076, 158483, 159187, 159374, 163039, 163419], \"yaxis\": \"y\"}],                        {\"barmode\": \"relative\", \"legend\": {\"tracegroupgap\": 0}, \"template\": {\"data\": {\"bar\": [{\"error_x\": {\"color\": \"#2a3f5f\"}, \"error_y\": {\"color\": \"#2a3f5f\"}, \"marker\": {\"line\": {\"color\": \"#E5ECF6\", \"width\": 0.5}}, \"type\": \"bar\"}], \"barpolar\": [{\"marker\": {\"line\": {\"color\": \"#E5ECF6\", \"width\": 0.5}}, \"type\": \"barpolar\"}], \"carpet\": [{\"aaxis\": {\"endlinecolor\": \"#2a3f5f\", \"gridcolor\": \"white\", \"linecolor\": \"white\", \"minorgridcolor\": \"white\", \"startlinecolor\": \"#2a3f5f\"}, \"baxis\": {\"endlinecolor\": \"#2a3f5f\", \"gridcolor\": \"white\", \"linecolor\": \"white\", \"minorgridcolor\": \"white\", \"startlinecolor\": \"#2a3f5f\"}, \"type\": \"carpet\"}], \"choropleth\": [{\"colorbar\": {\"outlinewidth\": 0, \"ticks\": \"\"}, \"type\": \"choropleth\"}], \"contour\": [{\"colorbar\": {\"outlinewidth\": 0, \"ticks\": \"\"}, \"colorscale\": [[0.0, \"#0d0887\"], [0.1111111111111111, \"#46039f\"], [0.2222222222222222, \"#7201a8\"], [0.3333333333333333, \"#9c179e\"], [0.4444444444444444, \"#bd3786\"], [0.5555555555555556, \"#d8576b\"], [0.6666666666666666, \"#ed7953\"], [0.7777777777777778, \"#fb9f3a\"], [0.8888888888888888, \"#fdca26\"], [1.0, \"#f0f921\"]], \"type\": \"contour\"}], \"contourcarpet\": [{\"colorbar\": {\"outlinewidth\": 0, \"ticks\": \"\"}, \"type\": \"contourcarpet\"}], \"heatmap\": [{\"colorbar\": {\"outlinewidth\": 0, \"ticks\": \"\"}, \"colorscale\": [[0.0, \"#0d0887\"], [0.1111111111111111, \"#46039f\"], [0.2222222222222222, \"#7201a8\"], [0.3333333333333333, \"#9c179e\"], [0.4444444444444444, \"#bd3786\"], [0.5555555555555556, \"#d8576b\"], [0.6666666666666666, \"#ed7953\"], [0.7777777777777778, \"#fb9f3a\"], [0.8888888888888888, \"#fdca26\"], [1.0, \"#f0f921\"]], \"type\": \"heatmap\"}], \"heatmapgl\": [{\"colorbar\": {\"outlinewidth\": 0, \"ticks\": \"\"}, \"colorscale\": [[0.0, \"#0d0887\"], [0.1111111111111111, \"#46039f\"], [0.2222222222222222, \"#7201a8\"], [0.3333333333333333, \"#9c179e\"], [0.4444444444444444, \"#bd3786\"], [0.5555555555555556, \"#d8576b\"], [0.6666666666666666, \"#ed7953\"], [0.7777777777777778, \"#fb9f3a\"], [0.8888888888888888, \"#fdca26\"], [1.0, \"#f0f921\"]], \"type\": \"heatmapgl\"}], \"histogram\": [{\"marker\": {\"colorbar\": {\"outlinewidth\": 0, \"ticks\": \"\"}}, \"type\": \"histogram\"}], \"histogram2d\": [{\"colorbar\": {\"outlinewidth\": 0, \"ticks\": \"\"}, \"colorscale\": [[0.0, \"#0d0887\"], [0.1111111111111111, \"#46039f\"], [0.2222222222222222, \"#7201a8\"], [0.3333333333333333, \"#9c179e\"], [0.4444444444444444, \"#bd3786\"], [0.5555555555555556, \"#d8576b\"], [0.6666666666666666, \"#ed7953\"], [0.7777777777777778, \"#fb9f3a\"], [0.8888888888888888, \"#fdca26\"], [1.0, \"#f0f921\"]], \"type\": \"histogram2d\"}], \"histogram2dcontour\": [{\"colorbar\": {\"outlinewidth\": 0, \"ticks\": \"\"}, \"colorscale\": [[0.0, \"#0d0887\"], [0.1111111111111111, \"#46039f\"], [0.2222222222222222, \"#7201a8\"], [0.3333333333333333, \"#9c179e\"], [0.4444444444444444, \"#bd3786\"], [0.5555555555555556, \"#d8576b\"], [0.6666666666666666, \"#ed7953\"], [0.7777777777777778, \"#fb9f3a\"], [0.8888888888888888, \"#fdca26\"], [1.0, \"#f0f921\"]], \"type\": \"histogram2dcontour\"}], \"mesh3d\": [{\"colorbar\": {\"outlinewidth\": 0, \"ticks\": \"\"}, \"type\": \"mesh3d\"}], \"parcoords\": [{\"line\": {\"colorbar\": {\"outlinewidth\": 0, \"ticks\": \"\"}}, \"type\": \"parcoords\"}], \"pie\": [{\"automargin\": true, \"type\": \"pie\"}], \"scatter\": [{\"marker\": {\"colorbar\": {\"outlinewidth\": 0, \"ticks\": \"\"}}, \"type\": \"scatter\"}], \"scatter3d\": [{\"line\": {\"colorbar\": {\"outlinewidth\": 0, \"ticks\": \"\"}}, \"marker\": {\"colorbar\": {\"outlinewidth\": 0, \"ticks\": \"\"}}, \"type\": \"scatter3d\"}], \"scattercarpet\": [{\"marker\": {\"colorbar\": {\"outlinewidth\": 0, \"ticks\": \"\"}}, \"type\": \"scattercarpet\"}], \"scattergeo\": [{\"marker\": {\"colorbar\": {\"outlinewidth\": 0, \"ticks\": \"\"}}, \"type\": \"scattergeo\"}], \"scattergl\": [{\"marker\": {\"colorbar\": {\"outlinewidth\": 0, \"ticks\": \"\"}}, \"type\": \"scattergl\"}], \"scattermapbox\": [{\"marker\": {\"colorbar\": {\"outlinewidth\": 0, \"ticks\": \"\"}}, \"type\": \"scattermapbox\"}], \"scatterpolar\": [{\"marker\": {\"colorbar\": {\"outlinewidth\": 0, \"ticks\": \"\"}}, \"type\": \"scatterpolar\"}], \"scatterpolargl\": [{\"marker\": {\"colorbar\": {\"outlinewidth\": 0, \"ticks\": \"\"}}, \"type\": \"scatterpolargl\"}], \"scatterternary\": [{\"marker\": {\"colorbar\": {\"outlinewidth\": 0, \"ticks\": \"\"}}, \"type\": \"scatterternary\"}], \"surface\": [{\"colorbar\": {\"outlinewidth\": 0, \"ticks\": \"\"}, \"colorscale\": [[0.0, \"#0d0887\"], [0.1111111111111111, \"#46039f\"], [0.2222222222222222, \"#7201a8\"], [0.3333333333333333, \"#9c179e\"], [0.4444444444444444, \"#bd3786\"], [0.5555555555555556, \"#d8576b\"], [0.6666666666666666, \"#ed7953\"], [0.7777777777777778, \"#fb9f3a\"], [0.8888888888888888, \"#fdca26\"], [1.0, \"#f0f921\"]], \"type\": \"surface\"}], \"table\": [{\"cells\": {\"fill\": {\"color\": \"#EBF0F8\"}, \"line\": {\"color\": \"white\"}}, \"header\": {\"fill\": {\"color\": \"#C8D4E3\"}, \"line\": {\"color\": \"white\"}}, \"type\": \"table\"}]}, \"layout\": {\"annotationdefaults\": {\"arrowcolor\": \"#2a3f5f\", \"arrowhead\": 0, \"arrowwidth\": 1}, \"autotypenumbers\": \"strict\", \"coloraxis\": {\"colorbar\": {\"outlinewidth\": 0, \"ticks\": \"\"}}, \"colorscale\": {\"diverging\": [[0, \"#8e0152\"], [0.1, \"#c51b7d\"], [0.2, \"#de77ae\"], [0.3, \"#f1b6da\"], [0.4, \"#fde0ef\"], [0.5, \"#f7f7f7\"], [0.6, \"#e6f5d0\"], [0.7, \"#b8e186\"], [0.8, \"#7fbc41\"], [0.9, \"#4d9221\"], [1, \"#276419\"]], \"sequential\": [[0.0, \"#0d0887\"], [0.1111111111111111, \"#46039f\"], [0.2222222222222222, \"#7201a8\"], [0.3333333333333333, \"#9c179e\"], [0.4444444444444444, \"#bd3786\"], [0.5555555555555556, \"#d8576b\"], [0.6666666666666666, \"#ed7953\"], [0.7777777777777778, \"#fb9f3a\"], [0.8888888888888888, \"#fdca26\"], [1.0, \"#f0f921\"]], \"sequentialminus\": [[0.0, \"#0d0887\"], [0.1111111111111111, \"#46039f\"], [0.2222222222222222, \"#7201a8\"], [0.3333333333333333, \"#9c179e\"], [0.4444444444444444, \"#bd3786\"], [0.5555555555555556, \"#d8576b\"], [0.6666666666666666, \"#ed7953\"], [0.7777777777777778, \"#fb9f3a\"], [0.8888888888888888, \"#fdca26\"], [1.0, \"#f0f921\"]]}, \"colorway\": [\"#636efa\", \"#EF553B\", \"#00cc96\", \"#ab63fa\", \"#FFA15A\", \"#19d3f3\", \"#FF6692\", \"#B6E880\", \"#FF97FF\", \"#FECB52\"], \"font\": {\"color\": \"#2a3f5f\"}, \"geo\": {\"bgcolor\": \"white\", \"lakecolor\": \"white\", \"landcolor\": \"#E5ECF6\", \"showlakes\": true, \"showland\": true, \"subunitcolor\": \"white\"}, \"hoverlabel\": {\"align\": \"left\"}, \"hovermode\": \"closest\", \"mapbox\": {\"style\": \"light\"}, \"paper_bgcolor\": \"white\", \"plot_bgcolor\": \"#E5ECF6\", \"polar\": {\"angularaxis\": {\"gridcolor\": \"white\", \"linecolor\": \"white\", \"ticks\": \"\"}, \"bgcolor\": \"#E5ECF6\", \"radialaxis\": {\"gridcolor\": \"white\", \"linecolor\": \"white\", \"ticks\": \"\"}}, \"scene\": {\"xaxis\": {\"backgroundcolor\": \"#E5ECF6\", \"gridcolor\": \"white\", \"gridwidth\": 2, \"linecolor\": \"white\", \"showbackground\": true, \"ticks\": \"\", \"zerolinecolor\": \"white\"}, \"yaxis\": {\"backgroundcolor\": \"#E5ECF6\", \"gridcolor\": \"white\", \"gridwidth\": 2, \"linecolor\": \"white\", \"showbackground\": true, \"ticks\": \"\", \"zerolinecolor\": \"white\"}, \"zaxis\": {\"backgroundcolor\": \"#E5ECF6\", \"gridcolor\": \"white\", \"gridwidth\": 2, \"linecolor\": \"white\", \"showbackground\": true, \"ticks\": \"\", \"zerolinecolor\": \"white\"}}, \"shapedefaults\": {\"line\": {\"color\": \"#2a3f5f\"}}, \"ternary\": {\"aaxis\": {\"gridcolor\": \"white\", \"linecolor\": \"white\", \"ticks\": \"\"}, \"baxis\": {\"gridcolor\": \"white\", \"linecolor\": \"white\", \"ticks\": \"\"}, \"bgcolor\": \"#E5ECF6\", \"caxis\": {\"gridcolor\": \"white\", \"linecolor\": \"white\", \"ticks\": \"\"}}, \"title\": {\"x\": 0.05}, \"xaxis\": {\"automargin\": true, \"gridcolor\": \"white\", \"linecolor\": \"white\", \"ticks\": \"\", \"title\": {\"standoff\": 15}, \"zerolinecolor\": \"white\", \"zerolinewidth\": 2}, \"yaxis\": {\"automargin\": true, \"gridcolor\": \"white\", \"linecolor\": \"white\", \"ticks\": \"\", \"title\": {\"standoff\": 15}, \"zerolinecolor\": \"white\", \"zerolinewidth\": 2}}}, \"title\": {\"text\": \"Top 10 Most Expensive Neighbourhoods in Toronto\"}, \"xaxis\": {\"anchor\": \"y\", \"domain\": [0.0, 1.0], \"title\": {\"text\": \"neighbourhood\"}}, \"yaxis\": {\"anchor\": \"x\", \"domain\": [0.0, 1.0], \"title\": {\"text\": \"average_house_value\"}}},                        {\"responsive\": true}                    ).then(function(){\n",
       "                            \n",
       "var gd = document.getElementById('3709ec27-c389-4c65-b14b-d3c1e2cbad89');\n",
       "var x = new MutationObserver(function (mutations, observer) {{\n",
       "        var display = window.getComputedStyle(gd).display;\n",
       "        if (!display || display === 'none') {{\n",
       "            console.log([gd, 'removed!']);\n",
       "            Plotly.purge(gd);\n",
       "            observer.disconnect();\n",
       "        }}\n",
       "}});\n",
       "\n",
       "// Listen for the removal of the full notebook cells\n",
       "var notebookContainer = gd.closest('#notebook-container');\n",
       "if (notebookContainer) {{\n",
       "    x.observe(notebookContainer, {childList: true});\n",
       "}}\n",
       "\n",
       "// Listen for the clearing of the current output cell\n",
       "var outputEl = gd.closest('.output');\n",
       "if (outputEl) {{\n",
       "    x.observe(outputEl, {childList: true});\n",
       "}}\n",
       "\n",
       "                        })                };                });            </script>        </div>"
      ]
     },
     "metadata": {},
     "output_type": "display_data"
    }
   ],
   "source": [
    "# Plotting the data from the top 10 expensive neighbourhoods\n",
    "top_10_plot = px.bar(\n",
    "    top_10,\n",
    "    x=\"neighbourhood\",\n",
    "    y=\"average_house_value\",\n",
    "    title=\"Top 10 Most Expensive Neighbourhoods in Toronto\",\n",
    ")\n",
    "\n",
    "top_10_plot"
   ]
  },
  {
   "cell_type": "markdown",
   "metadata": {},
   "source": [
    "- - - "
   ]
  },
  {
   "cell_type": "markdown",
   "metadata": {},
   "source": [
    "## Neighbourhood Map\n",
    "\n",
    "In this section, you will read in neighbourhoods location data and build an interactive map with the average house value per neighbourhood. Use a `scatter_mapbox` from Plotly express to create the visualization. Remember, you will need your Mapbox API key for this."
   ]
  },
  {
   "cell_type": "markdown",
   "metadata": {},
   "source": [
    "### Load Location Data"
   ]
  },
  {
   "cell_type": "code",
   "execution_count": 146,
   "metadata": {},
   "outputs": [
    {
     "data": {
      "text/html": [
       "<div>\n",
       "<style scoped>\n",
       "    .dataframe tbody tr th:only-of-type {\n",
       "        vertical-align: middle;\n",
       "    }\n",
       "\n",
       "    .dataframe tbody tr th {\n",
       "        vertical-align: top;\n",
       "    }\n",
       "\n",
       "    .dataframe thead th {\n",
       "        text-align: right;\n",
       "    }\n",
       "</style>\n",
       "<table border=\"1\" class=\"dataframe\">\n",
       "  <thead>\n",
       "    <tr style=\"text-align: right;\">\n",
       "      <th></th>\n",
       "      <th>neighbourhood</th>\n",
       "      <th>lat</th>\n",
       "      <th>lon</th>\n",
       "    </tr>\n",
       "  </thead>\n",
       "  <tbody>\n",
       "    <tr>\n",
       "      <th>0</th>\n",
       "      <td>Agincourt North</td>\n",
       "      <td>43.805441</td>\n",
       "      <td>-79.266712</td>\n",
       "    </tr>\n",
       "    <tr>\n",
       "      <th>1</th>\n",
       "      <td>Agincourt South-Malvern West</td>\n",
       "      <td>43.788658</td>\n",
       "      <td>-79.265612</td>\n",
       "    </tr>\n",
       "    <tr>\n",
       "      <th>2</th>\n",
       "      <td>Alderwood</td>\n",
       "      <td>43.604937</td>\n",
       "      <td>-79.541611</td>\n",
       "    </tr>\n",
       "    <tr>\n",
       "      <th>3</th>\n",
       "      <td>Annex</td>\n",
       "      <td>43.671585</td>\n",
       "      <td>-79.404001</td>\n",
       "    </tr>\n",
       "    <tr>\n",
       "      <th>4</th>\n",
       "      <td>Banbury-Don Mills</td>\n",
       "      <td>43.737657</td>\n",
       "      <td>-79.349718</td>\n",
       "    </tr>\n",
       "  </tbody>\n",
       "</table>\n",
       "</div>"
      ],
      "text/plain": [
       "                  neighbourhood        lat        lon\n",
       "0               Agincourt North  43.805441 -79.266712\n",
       "1  Agincourt South-Malvern West  43.788658 -79.265612\n",
       "2                     Alderwood  43.604937 -79.541611\n",
       "3                         Annex  43.671585 -79.404001\n",
       "4             Banbury-Don Mills  43.737657 -79.349718"
      ]
     },
     "execution_count": 146,
     "metadata": {},
     "output_type": "execute_result"
    }
   ],
   "source": [
    "# Load neighbourhoods coordinates data\n",
    "file_path = Path(\"Data/toronto_neighbourhoods_coordinates.csv\")\n",
    "df_neighbourhood_locations = pd.read_csv(file_path)\n",
    "df_neighbourhood_locations.head()\n"
   ]
  },
  {
   "cell_type": "markdown",
   "metadata": {},
   "source": [
    "### Data Preparation\n",
    "\n",
    "You will need to join the location data with the mean values per neighbourhood.\n",
    "\n",
    "1. Calculate the mean values for each neighbourhood.\n",
    "\n",
    "2. Join the average values with the neighbourhood locations."
   ]
  },
  {
   "cell_type": "code",
   "execution_count": 147,
   "metadata": {},
   "outputs": [
    {
     "data": {
      "text/html": [
       "<div>\n",
       "<style scoped>\n",
       "    .dataframe tbody tr th:only-of-type {\n",
       "        vertical-align: middle;\n",
       "    }\n",
       "\n",
       "    .dataframe tbody tr th {\n",
       "        vertical-align: top;\n",
       "    }\n",
       "\n",
       "    .dataframe thead th {\n",
       "        text-align: right;\n",
       "    }\n",
       "</style>\n",
       "<table border=\"1\" class=\"dataframe\">\n",
       "  <thead>\n",
       "    <tr style=\"text-align: right;\">\n",
       "      <th></th>\n",
       "      <th>neighbourhood</th>\n",
       "      <th>single_detached_house</th>\n",
       "      <th>apartment_five_storeys_plus</th>\n",
       "      <th>movable_dwelling</th>\n",
       "      <th>semi_detached_house</th>\n",
       "      <th>row_house</th>\n",
       "      <th>duplex</th>\n",
       "      <th>apartment_five_storeys_less</th>\n",
       "      <th>other_house</th>\n",
       "      <th>average_house_value</th>\n",
       "      <th>shelter_costs_owned</th>\n",
       "      <th>shelter_costs_rented</th>\n",
       "    </tr>\n",
       "  </thead>\n",
       "  <tbody>\n",
       "    <tr>\n",
       "      <th>0</th>\n",
       "      <td>Agincourt North</td>\n",
       "      <td>3715</td>\n",
       "      <td>1480</td>\n",
       "      <td>0</td>\n",
       "      <td>1055</td>\n",
       "      <td>1295</td>\n",
       "      <td>195</td>\n",
       "      <td>185</td>\n",
       "      <td>5</td>\n",
       "      <td>200388</td>\n",
       "      <td>810</td>\n",
       "      <td>870</td>\n",
       "    </tr>\n",
       "    <tr>\n",
       "      <th>1</th>\n",
       "      <td>Agincourt South-Malvern West</td>\n",
       "      <td>3250</td>\n",
       "      <td>1835</td>\n",
       "      <td>0</td>\n",
       "      <td>545</td>\n",
       "      <td>455</td>\n",
       "      <td>105</td>\n",
       "      <td>425</td>\n",
       "      <td>0</td>\n",
       "      <td>203047</td>\n",
       "      <td>806</td>\n",
       "      <td>892</td>\n",
       "    </tr>\n",
       "    <tr>\n",
       "      <th>2</th>\n",
       "      <td>Alderwood</td>\n",
       "      <td>3175</td>\n",
       "      <td>315</td>\n",
       "      <td>0</td>\n",
       "      <td>470</td>\n",
       "      <td>50</td>\n",
       "      <td>185</td>\n",
       "      <td>370</td>\n",
       "      <td>0</td>\n",
       "      <td>259998</td>\n",
       "      <td>817</td>\n",
       "      <td>924</td>\n",
       "    </tr>\n",
       "    <tr>\n",
       "      <th>3</th>\n",
       "      <td>Annex</td>\n",
       "      <td>1060</td>\n",
       "      <td>6090</td>\n",
       "      <td>5</td>\n",
       "      <td>1980</td>\n",
       "      <td>605</td>\n",
       "      <td>275</td>\n",
       "      <td>3710</td>\n",
       "      <td>165</td>\n",
       "      <td>453850</td>\n",
       "      <td>1027</td>\n",
       "      <td>1378</td>\n",
       "    </tr>\n",
       "  </tbody>\n",
       "</table>\n",
       "</div>"
      ],
      "text/plain": [
       "                  neighbourhood  single_detached_house  \\\n",
       "0               Agincourt North                   3715   \n",
       "1  Agincourt South-Malvern West                   3250   \n",
       "2                     Alderwood                   3175   \n",
       "3                         Annex                   1060   \n",
       "\n",
       "   apartment_five_storeys_plus  movable_dwelling  semi_detached_house  \\\n",
       "0                         1480                 0                 1055   \n",
       "1                         1835                 0                  545   \n",
       "2                          315                 0                  470   \n",
       "3                         6090                 5                 1980   \n",
       "\n",
       "   row_house  duplex  apartment_five_storeys_less  other_house  \\\n",
       "0       1295     195                          185            5   \n",
       "1        455     105                          425            0   \n",
       "2         50     185                          370            0   \n",
       "3        605     275                         3710          165   \n",
       "\n",
       "   average_house_value  shelter_costs_owned  shelter_costs_rented  \n",
       "0               200388                  810                   870  \n",
       "1               203047                  806                   892  \n",
       "2               259998                  817                   924  \n",
       "3               453850                 1027                  1378  "
      ]
     },
     "execution_count": 147,
     "metadata": {},
     "output_type": "execute_result"
    }
   ],
   "source": [
    "# Calculate the mean values for each neighborhood\n",
    "to_data_4 = to_data_3[['neighbourhood',\n",
    "                       'single_detached_house', \n",
    "                       'apartment_five_storeys_plus', \n",
    "                       'movable_dwelling', \n",
    "                       'semi_detached_house', \n",
    "                       'row_house', 'duplex', \n",
    "                       'apartment_five_storeys_less', \n",
    "                       'other_house', \n",
    "                       'average_house_value', \n",
    "                       'shelter_costs_owned', \n",
    "                       'shelter_costs_rented']]\n",
    "\n",
    "to_data_4.head(4)"
   ]
  },
  {
   "cell_type": "code",
   "execution_count": 148,
   "metadata": {},
   "outputs": [
    {
     "data": {
      "text/html": [
       "<div>\n",
       "<style scoped>\n",
       "    .dataframe tbody tr th:only-of-type {\n",
       "        vertical-align: middle;\n",
       "    }\n",
       "\n",
       "    .dataframe tbody tr th {\n",
       "        vertical-align: top;\n",
       "    }\n",
       "\n",
       "    .dataframe thead th {\n",
       "        text-align: right;\n",
       "    }\n",
       "</style>\n",
       "<table border=\"1\" class=\"dataframe\">\n",
       "  <thead>\n",
       "    <tr style=\"text-align: right;\">\n",
       "      <th></th>\n",
       "      <th>neighbourhood</th>\n",
       "      <th>lat</th>\n",
       "      <th>lon</th>\n",
       "      <th>neighbourhood</th>\n",
       "      <th>single_detached_house</th>\n",
       "      <th>apartment_five_storeys_plus</th>\n",
       "      <th>movable_dwelling</th>\n",
       "      <th>semi_detached_house</th>\n",
       "      <th>row_house</th>\n",
       "      <th>duplex</th>\n",
       "      <th>apartment_five_storeys_less</th>\n",
       "      <th>other_house</th>\n",
       "      <th>average_house_value</th>\n",
       "      <th>shelter_costs_owned</th>\n",
       "      <th>shelter_costs_rented</th>\n",
       "    </tr>\n",
       "  </thead>\n",
       "  <tbody>\n",
       "    <tr>\n",
       "      <th>0</th>\n",
       "      <td>Agincourt North</td>\n",
       "      <td>43.805441</td>\n",
       "      <td>-79.266712</td>\n",
       "      <td>Agincourt North</td>\n",
       "      <td>3715</td>\n",
       "      <td>1480</td>\n",
       "      <td>0</td>\n",
       "      <td>1055</td>\n",
       "      <td>1295</td>\n",
       "      <td>195</td>\n",
       "      <td>185</td>\n",
       "      <td>5</td>\n",
       "      <td>200388</td>\n",
       "      <td>810</td>\n",
       "      <td>870</td>\n",
       "    </tr>\n",
       "    <tr>\n",
       "      <th>1</th>\n",
       "      <td>Agincourt South-Malvern West</td>\n",
       "      <td>43.788658</td>\n",
       "      <td>-79.265612</td>\n",
       "      <td>Agincourt South-Malvern West</td>\n",
       "      <td>3250</td>\n",
       "      <td>1835</td>\n",
       "      <td>0</td>\n",
       "      <td>545</td>\n",
       "      <td>455</td>\n",
       "      <td>105</td>\n",
       "      <td>425</td>\n",
       "      <td>0</td>\n",
       "      <td>203047</td>\n",
       "      <td>806</td>\n",
       "      <td>892</td>\n",
       "    </tr>\n",
       "    <tr>\n",
       "      <th>2</th>\n",
       "      <td>Alderwood</td>\n",
       "      <td>43.604937</td>\n",
       "      <td>-79.541611</td>\n",
       "      <td>Alderwood</td>\n",
       "      <td>3175</td>\n",
       "      <td>315</td>\n",
       "      <td>0</td>\n",
       "      <td>470</td>\n",
       "      <td>50</td>\n",
       "      <td>185</td>\n",
       "      <td>370</td>\n",
       "      <td>0</td>\n",
       "      <td>259998</td>\n",
       "      <td>817</td>\n",
       "      <td>924</td>\n",
       "    </tr>\n",
       "    <tr>\n",
       "      <th>3</th>\n",
       "      <td>Annex</td>\n",
       "      <td>43.671585</td>\n",
       "      <td>-79.404001</td>\n",
       "      <td>Annex</td>\n",
       "      <td>1060</td>\n",
       "      <td>6090</td>\n",
       "      <td>5</td>\n",
       "      <td>1980</td>\n",
       "      <td>605</td>\n",
       "      <td>275</td>\n",
       "      <td>3710</td>\n",
       "      <td>165</td>\n",
       "      <td>453850</td>\n",
       "      <td>1027</td>\n",
       "      <td>1378</td>\n",
       "    </tr>\n",
       "    <tr>\n",
       "      <th>4</th>\n",
       "      <td>Banbury-Don Mills</td>\n",
       "      <td>43.737657</td>\n",
       "      <td>-79.349718</td>\n",
       "      <td>Banbury-Don Mills</td>\n",
       "      <td>3615</td>\n",
       "      <td>4465</td>\n",
       "      <td>0</td>\n",
       "      <td>240</td>\n",
       "      <td>380</td>\n",
       "      <td>15</td>\n",
       "      <td>1360</td>\n",
       "      <td>0</td>\n",
       "      <td>371864</td>\n",
       "      <td>1007</td>\n",
       "      <td>1163</td>\n",
       "    </tr>\n",
       "  </tbody>\n",
       "</table>\n",
       "</div>"
      ],
      "text/plain": [
       "                  neighbourhood        lat        lon  \\\n",
       "0               Agincourt North  43.805441 -79.266712   \n",
       "1  Agincourt South-Malvern West  43.788658 -79.265612   \n",
       "2                     Alderwood  43.604937 -79.541611   \n",
       "3                         Annex  43.671585 -79.404001   \n",
       "4             Banbury-Don Mills  43.737657 -79.349718   \n",
       "\n",
       "                  neighbourhood  single_detached_house  \\\n",
       "0               Agincourt North                   3715   \n",
       "1  Agincourt South-Malvern West                   3250   \n",
       "2                     Alderwood                   3175   \n",
       "3                         Annex                   1060   \n",
       "4             Banbury-Don Mills                   3615   \n",
       "\n",
       "   apartment_five_storeys_plus  movable_dwelling  semi_detached_house  \\\n",
       "0                         1480                 0                 1055   \n",
       "1                         1835                 0                  545   \n",
       "2                          315                 0                  470   \n",
       "3                         6090                 5                 1980   \n",
       "4                         4465                 0                  240   \n",
       "\n",
       "   row_house  duplex  apartment_five_storeys_less  other_house  \\\n",
       "0       1295     195                          185            5   \n",
       "1        455     105                          425            0   \n",
       "2         50     185                          370            0   \n",
       "3        605     275                         3710          165   \n",
       "4        380      15                         1360            0   \n",
       "\n",
       "   average_house_value  shelter_costs_owned  shelter_costs_rented  \n",
       "0               200388                  810                   870  \n",
       "1               203047                  806                   892  \n",
       "2               259998                  817                   924  \n",
       "3               453850                 1027                  1378  \n",
       "4               371864                 1007                  1163  "
      ]
     },
     "execution_count": 148,
     "metadata": {},
     "output_type": "execute_result"
    }
   ],
   "source": [
    "# Join the average values with the neighbourhood locations\n",
    "data_complete = pd.concat([df_neighbourhood_locations, to_data_4,], axis = 1).dropna()\n",
    "data_complete.head(5)"
   ]
  },
  {
   "cell_type": "markdown",
   "metadata": {},
   "source": [
    "### Mapbox Visualization\n",
    "\n",
    "Plot the average values per neighbourhood using a Plotly express `scatter_mapbox` visualization."
   ]
  },
  {
   "cell_type": "code",
   "execution_count": 127,
   "metadata": {},
   "outputs": [
    {
     "data": {
      "application/vnd.plotly.v1+json": {
       "config": {
        "plotlyServerURL": "https://plot.ly"
       },
       "data": [
        {
         "hovertemplate": "lat=%{lat}<br>lon=%{lon}<br>average_house_value=%{marker.color}<extra></extra>",
         "lat": [
          43.80544058,
          43.78865755,
          43.6049369,
          43.67158544,
          43.737657,
          43.76481331,
          43.65751135,
          43.77636052,
          43.79680187,
          43.73148623,
          43.69321649,
          43.76036631,
          43.69468198,
          43.76489025,
          43.67617288,
          43.69902438,
          43.73101314,
          43.68882512,
          43.70132631,
          43.66764773,
          43.68856865,
          43.6818521,
          43.7823765,
          43.65964886,
          43.71359238,
          43.74197843,
          43.72112117,
          43.67766091,
          43.68402547,
          43.68946809,
          43.78329369,
          43.75927437,
          43.66567693,
          43.73329235,
          43.65542833,
          43.68417388,
          43.67088591,
          43.7409223,
          43.72151887,
          43.72034467,
          43.65801676,
          43.64506262,
          43.71592975,
          43.70421756,
          43.69452576,
          43.74563575,
          43.67261231,
          43.74882934,
          43.77114414,
          43.65756491,
          43.64506458,
          43.79077477,
          43.80298783,
          43.6922328,
          43.75891975,
          43.74342952,
          43.69136981,
          43.73536441,
          43.63346335,
          43.66788977,
          43.68572747,
          43.72555572,
          43.65355413,
          43.69899257,
          43.65352043,
          43.79571603,
          43.65742013,
          43.75427115,
          43.73006017,
          43.7172117,
          43.70379663,
          43.64753593,
          43.59236169,
          43.80365820000001,
          43.71557394,
          43.63354175,
          43.82069079,
          43.61592386,
          43.78239861,
          43.65651762,
          43.68814409,
          43.7468678,
          43.70485217,
          43.70443517,
          43.6005886,
          43.79153579,
          43.78582994,
          43.63668088,
          43.67199515,
          43.66962341,
          43.70680049,
          43.69740813,
          43.68856556,
          43.69678127,
          43.6591571,
          43.75503347,
          43.7175146,
          43.67970047,
          43.78698176,
          43.6660506,
          43.65999214,
          43.72372548,
          43.67479045,
          43.64612299,
          43.68282043,
          43.82120126,
          43.65926882,
          43.71160912,
          43.73865186,
          43.63669952,
          43.64929206,
          43.75624583,
          43.81295883,
          43.63551813,
          43.78012985,
          43.69499819,
          43.67104999,
          43.73798792,
          43.70774921,
          43.6501763,
          43.6625062,
          43.72848902,
          43.63388036,
          43.76749026,
          43.7161804,
          43.77881322,
          43.70271605,
          43.67396204,
          43.74857214,
          43.77060226,
          43.77121049,
          43.68364496,
          43.76674024,
          43.67677292,
          43.69410674,
          43.67691927,
          43.70468937,
          43.68785887,
          43.76573649,
          43.71467153
         ],
         "legendgroup": "",
         "lon": [
          -79.26671217,
          -79.2656118,
          -79.54161093,
          -79.40400062,
          -79.34971798,
          -79.45605516,
          -79.38572125,
          -79.37711686,
          -79.38211795,
          -79.42022735,
          -79.47947251,
          -79.25740037,
          -79.26509259,
          -79.52197932,
          -79.33739417,
          -79.45285129999999,
          -79.37890418,
          -79.35562951,
          -79.48558926,
          -79.36610666,
          -79.45521208,
          -79.40800665,
          -79.15084327,
          -79.37901717,
          -79.28138178,
          -79.44630258,
          -79.23552957,
          -79.44746933,
          -79.32981941,
          -79.33140338,
          -79.35364413,
          -79.27890794,
          -79.4385407,
          -79.49049735,
          -79.43734104,
          -79.29935867,
          -79.52245776,
          -79.24559804,
          -79.54898272,
          -79.43740855,
          -79.58044524,
          -79.56893877,
          -79.33264597,
          -79.42814316,
          -79.41431786,
          -79.51346532,
          -79.32431802,
          -79.19505535,
          -79.34124067,
          -79.46630217,
          -79.46787222,
          -79.17747247,
          -79.354804,
          -79.5224162,
          -79.55617474,
          -79.54236712,
          -79.42768335,
          -79.27247049,
          -79.54331654,
          -79.47143987,
          -79.47143711,
          -79.26038221,
          -79.39723988,
          -79.54786331,
          -79.5105768,
          -79.31408424,
          -79.49604526,
          -79.42474772,
          -79.40397836,
          -79.40603941,
          -79.36607234,
          -79.43032271,
          -79.53334545,
          -79.22251662,
          -79.48075802,
          -79.57343155,
          -79.27500892,
          -79.50013664,
          -79.20704119,
          -79.36729703,
          -79.49998906,
          -79.58725926,
          -79.38492395,
          -79.39335955,
          -79.51035809,
          -79.40593745,
          -79.43142151,
          -79.4124204,
          -79.35126041,
          -79.37524658,
          -79.31222777,
          -79.27970834,
          -79.43978548,
          -79.33548836,
          -79.41840873,
          -79.33017952,
          -79.5282822,
          -79.35488729,
          -79.33494843,
          -79.54455929,
          -79.36050881,
          -79.56622841,
          -79.49442045,
          -79.44299245,
          -79.3796694,
          -79.18634345,
          -79.48570818,
          -79.49809147,
          -79.21681262,
          -79.43933783,
          -79.33565132,
          -79.37903709,
          -79.32120701,
          -79.50112821,
          -79.30291871,
          -79.29590112,
          -79.29960129999999,
          -79.56349102,
          -79.34998361,
          -79.41534216,
          -79.40117975,
          -79.31487383,
          -79.37720231,
          -79.17667603,
          -79.59635645,
          -79.45241823,
          -79.51572255,
          -79.46024391,
          -79.29863657,
          -79.40148379,
          -79.4275578,
          -79.55422105,
          -79.22858577,
          -79.31540738,
          -79.31116353,
          -79.42551495,
          -79.40359017,
          -79.39787077,
          -79.48888293,
          -79.45710807
         ],
         "marker": {
          "color": [
           200388,
           203047,
           259998,
           453850,
           371864,
           304749,
           257404,
           327644,
           343535,
           565304,
           225369,
           182957,
           265705,
           158483,
           310740,
           222086,
           927466,
           269386,
           213227,
           300213,
           219771,
           596077,
           249025,
           246750,
           215421,
           335119,
           253618,
           255142,
           283706,
           256205,
           241824,
           159187,
           264116,
           231741,
           278023,
           290457,
           483734,
           163419,
           163039,
           345676,
           241685,
           187993,
           126255,
           517466,
           726664,
           199043,
           235168,
           224425,
           224780,
           323536,
           354207,
           260555,
           240009,
           272896,
           213919,
           194295,
           423537,
           174793,
           274436,
           263247,
           196112,
           174518,
           267631,
           205572,
           512334,
           395115,
           204523,
           372579,
           461393,
           664712,
           489998,
           328211,
           234424,
           156076,
           275374,
           269751,
           209609,
           239078,
           173169,
           248778,
           159374,
           153829,
           411558,
           284459,
           247779,
           339987,
           279833,
           224801,
           427169,
           249993,
           181251,
           256556,
           268067,
           269410,
           378033,
           276239,
           246333,
           394235,
           226856,
           465254,
           238524,
           219337,
           210017,
           309221,
           664476,
           228625,
           335435,
           261923,
           200402,
           271880,
           276462,
           607040,
           228460,
           334433,
           215039,
           145464,
           404836,
           228368,
           155094,
           324732,
           375678,
           213950,
           228975,
           172947,
           208555,
           212241,
           187140,
           213749,
           211633,
           284984,
           283215,
           282087,
           181367,
           270607,
           224756,
           343877,
           491987,
           494098,
           185859,
           261784
          ],
          "coloraxis": "coloraxis"
         },
         "mode": "markers",
         "name": "",
         "showlegend": false,
         "subplot": "mapbox",
         "type": "scattermapbox"
        }
       ],
       "layout": {
        "coloraxis": {
         "colorbar": {
          "title": {
           "text": "average_house_value"
          }
         },
         "colorscale": [
          [
           0,
           "#0d0887"
          ],
          [
           0.1111111111111111,
           "#46039f"
          ],
          [
           0.2222222222222222,
           "#7201a8"
          ],
          [
           0.3333333333333333,
           "#9c179e"
          ],
          [
           0.4444444444444444,
           "#bd3786"
          ],
          [
           0.5555555555555556,
           "#d8576b"
          ],
          [
           0.6666666666666666,
           "#ed7953"
          ],
          [
           0.7777777777777778,
           "#fb9f3a"
          ],
          [
           0.8888888888888888,
           "#fdca26"
          ],
          [
           1,
           "#f0f921"
          ]
         ]
        },
        "legend": {
         "tracegroupgap": 0
        },
        "mapbox": {
         "center": {
          "lat": 43.708840577642846,
          "lon": -79.4001855035
         },
         "domain": {
          "x": [
           0,
           1
          ],
          "y": [
           0,
           1
          ]
         },
         "zoom": 8
        },
        "margin": {
         "t": 60
        },
        "template": {
         "data": {
          "bar": [
           {
            "error_x": {
             "color": "#2a3f5f"
            },
            "error_y": {
             "color": "#2a3f5f"
            },
            "marker": {
             "line": {
              "color": "#E5ECF6",
              "width": 0.5
             }
            },
            "type": "bar"
           }
          ],
          "barpolar": [
           {
            "marker": {
             "line": {
              "color": "#E5ECF6",
              "width": 0.5
             }
            },
            "type": "barpolar"
           }
          ],
          "carpet": [
           {
            "aaxis": {
             "endlinecolor": "#2a3f5f",
             "gridcolor": "white",
             "linecolor": "white",
             "minorgridcolor": "white",
             "startlinecolor": "#2a3f5f"
            },
            "baxis": {
             "endlinecolor": "#2a3f5f",
             "gridcolor": "white",
             "linecolor": "white",
             "minorgridcolor": "white",
             "startlinecolor": "#2a3f5f"
            },
            "type": "carpet"
           }
          ],
          "choropleth": [
           {
            "colorbar": {
             "outlinewidth": 0,
             "ticks": ""
            },
            "type": "choropleth"
           }
          ],
          "contour": [
           {
            "colorbar": {
             "outlinewidth": 0,
             "ticks": ""
            },
            "colorscale": [
             [
              0,
              "#0d0887"
             ],
             [
              0.1111111111111111,
              "#46039f"
             ],
             [
              0.2222222222222222,
              "#7201a8"
             ],
             [
              0.3333333333333333,
              "#9c179e"
             ],
             [
              0.4444444444444444,
              "#bd3786"
             ],
             [
              0.5555555555555556,
              "#d8576b"
             ],
             [
              0.6666666666666666,
              "#ed7953"
             ],
             [
              0.7777777777777778,
              "#fb9f3a"
             ],
             [
              0.8888888888888888,
              "#fdca26"
             ],
             [
              1,
              "#f0f921"
             ]
            ],
            "type": "contour"
           }
          ],
          "contourcarpet": [
           {
            "colorbar": {
             "outlinewidth": 0,
             "ticks": ""
            },
            "type": "contourcarpet"
           }
          ],
          "heatmap": [
           {
            "colorbar": {
             "outlinewidth": 0,
             "ticks": ""
            },
            "colorscale": [
             [
              0,
              "#0d0887"
             ],
             [
              0.1111111111111111,
              "#46039f"
             ],
             [
              0.2222222222222222,
              "#7201a8"
             ],
             [
              0.3333333333333333,
              "#9c179e"
             ],
             [
              0.4444444444444444,
              "#bd3786"
             ],
             [
              0.5555555555555556,
              "#d8576b"
             ],
             [
              0.6666666666666666,
              "#ed7953"
             ],
             [
              0.7777777777777778,
              "#fb9f3a"
             ],
             [
              0.8888888888888888,
              "#fdca26"
             ],
             [
              1,
              "#f0f921"
             ]
            ],
            "type": "heatmap"
           }
          ],
          "heatmapgl": [
           {
            "colorbar": {
             "outlinewidth": 0,
             "ticks": ""
            },
            "colorscale": [
             [
              0,
              "#0d0887"
             ],
             [
              0.1111111111111111,
              "#46039f"
             ],
             [
              0.2222222222222222,
              "#7201a8"
             ],
             [
              0.3333333333333333,
              "#9c179e"
             ],
             [
              0.4444444444444444,
              "#bd3786"
             ],
             [
              0.5555555555555556,
              "#d8576b"
             ],
             [
              0.6666666666666666,
              "#ed7953"
             ],
             [
              0.7777777777777778,
              "#fb9f3a"
             ],
             [
              0.8888888888888888,
              "#fdca26"
             ],
             [
              1,
              "#f0f921"
             ]
            ],
            "type": "heatmapgl"
           }
          ],
          "histogram": [
           {
            "marker": {
             "colorbar": {
              "outlinewidth": 0,
              "ticks": ""
             }
            },
            "type": "histogram"
           }
          ],
          "histogram2d": [
           {
            "colorbar": {
             "outlinewidth": 0,
             "ticks": ""
            },
            "colorscale": [
             [
              0,
              "#0d0887"
             ],
             [
              0.1111111111111111,
              "#46039f"
             ],
             [
              0.2222222222222222,
              "#7201a8"
             ],
             [
              0.3333333333333333,
              "#9c179e"
             ],
             [
              0.4444444444444444,
              "#bd3786"
             ],
             [
              0.5555555555555556,
              "#d8576b"
             ],
             [
              0.6666666666666666,
              "#ed7953"
             ],
             [
              0.7777777777777778,
              "#fb9f3a"
             ],
             [
              0.8888888888888888,
              "#fdca26"
             ],
             [
              1,
              "#f0f921"
             ]
            ],
            "type": "histogram2d"
           }
          ],
          "histogram2dcontour": [
           {
            "colorbar": {
             "outlinewidth": 0,
             "ticks": ""
            },
            "colorscale": [
             [
              0,
              "#0d0887"
             ],
             [
              0.1111111111111111,
              "#46039f"
             ],
             [
              0.2222222222222222,
              "#7201a8"
             ],
             [
              0.3333333333333333,
              "#9c179e"
             ],
             [
              0.4444444444444444,
              "#bd3786"
             ],
             [
              0.5555555555555556,
              "#d8576b"
             ],
             [
              0.6666666666666666,
              "#ed7953"
             ],
             [
              0.7777777777777778,
              "#fb9f3a"
             ],
             [
              0.8888888888888888,
              "#fdca26"
             ],
             [
              1,
              "#f0f921"
             ]
            ],
            "type": "histogram2dcontour"
           }
          ],
          "mesh3d": [
           {
            "colorbar": {
             "outlinewidth": 0,
             "ticks": ""
            },
            "type": "mesh3d"
           }
          ],
          "parcoords": [
           {
            "line": {
             "colorbar": {
              "outlinewidth": 0,
              "ticks": ""
             }
            },
            "type": "parcoords"
           }
          ],
          "pie": [
           {
            "automargin": true,
            "type": "pie"
           }
          ],
          "scatter": [
           {
            "marker": {
             "colorbar": {
              "outlinewidth": 0,
              "ticks": ""
             }
            },
            "type": "scatter"
           }
          ],
          "scatter3d": [
           {
            "line": {
             "colorbar": {
              "outlinewidth": 0,
              "ticks": ""
             }
            },
            "marker": {
             "colorbar": {
              "outlinewidth": 0,
              "ticks": ""
             }
            },
            "type": "scatter3d"
           }
          ],
          "scattercarpet": [
           {
            "marker": {
             "colorbar": {
              "outlinewidth": 0,
              "ticks": ""
             }
            },
            "type": "scattercarpet"
           }
          ],
          "scattergeo": [
           {
            "marker": {
             "colorbar": {
              "outlinewidth": 0,
              "ticks": ""
             }
            },
            "type": "scattergeo"
           }
          ],
          "scattergl": [
           {
            "marker": {
             "colorbar": {
              "outlinewidth": 0,
              "ticks": ""
             }
            },
            "type": "scattergl"
           }
          ],
          "scattermapbox": [
           {
            "marker": {
             "colorbar": {
              "outlinewidth": 0,
              "ticks": ""
             }
            },
            "type": "scattermapbox"
           }
          ],
          "scatterpolar": [
           {
            "marker": {
             "colorbar": {
              "outlinewidth": 0,
              "ticks": ""
             }
            },
            "type": "scatterpolar"
           }
          ],
          "scatterpolargl": [
           {
            "marker": {
             "colorbar": {
              "outlinewidth": 0,
              "ticks": ""
             }
            },
            "type": "scatterpolargl"
           }
          ],
          "scatterternary": [
           {
            "marker": {
             "colorbar": {
              "outlinewidth": 0,
              "ticks": ""
             }
            },
            "type": "scatterternary"
           }
          ],
          "surface": [
           {
            "colorbar": {
             "outlinewidth": 0,
             "ticks": ""
            },
            "colorscale": [
             [
              0,
              "#0d0887"
             ],
             [
              0.1111111111111111,
              "#46039f"
             ],
             [
              0.2222222222222222,
              "#7201a8"
             ],
             [
              0.3333333333333333,
              "#9c179e"
             ],
             [
              0.4444444444444444,
              "#bd3786"
             ],
             [
              0.5555555555555556,
              "#d8576b"
             ],
             [
              0.6666666666666666,
              "#ed7953"
             ],
             [
              0.7777777777777778,
              "#fb9f3a"
             ],
             [
              0.8888888888888888,
              "#fdca26"
             ],
             [
              1,
              "#f0f921"
             ]
            ],
            "type": "surface"
           }
          ],
          "table": [
           {
            "cells": {
             "fill": {
              "color": "#EBF0F8"
             },
             "line": {
              "color": "white"
             }
            },
            "header": {
             "fill": {
              "color": "#C8D4E3"
             },
             "line": {
              "color": "white"
             }
            },
            "type": "table"
           }
          ]
         },
         "layout": {
          "annotationdefaults": {
           "arrowcolor": "#2a3f5f",
           "arrowhead": 0,
           "arrowwidth": 1
          },
          "autotypenumbers": "strict",
          "coloraxis": {
           "colorbar": {
            "outlinewidth": 0,
            "ticks": ""
           }
          },
          "colorscale": {
           "diverging": [
            [
             0,
             "#8e0152"
            ],
            [
             0.1,
             "#c51b7d"
            ],
            [
             0.2,
             "#de77ae"
            ],
            [
             0.3,
             "#f1b6da"
            ],
            [
             0.4,
             "#fde0ef"
            ],
            [
             0.5,
             "#f7f7f7"
            ],
            [
             0.6,
             "#e6f5d0"
            ],
            [
             0.7,
             "#b8e186"
            ],
            [
             0.8,
             "#7fbc41"
            ],
            [
             0.9,
             "#4d9221"
            ],
            [
             1,
             "#276419"
            ]
           ],
           "sequential": [
            [
             0,
             "#0d0887"
            ],
            [
             0.1111111111111111,
             "#46039f"
            ],
            [
             0.2222222222222222,
             "#7201a8"
            ],
            [
             0.3333333333333333,
             "#9c179e"
            ],
            [
             0.4444444444444444,
             "#bd3786"
            ],
            [
             0.5555555555555556,
             "#d8576b"
            ],
            [
             0.6666666666666666,
             "#ed7953"
            ],
            [
             0.7777777777777778,
             "#fb9f3a"
            ],
            [
             0.8888888888888888,
             "#fdca26"
            ],
            [
             1,
             "#f0f921"
            ]
           ],
           "sequentialminus": [
            [
             0,
             "#0d0887"
            ],
            [
             0.1111111111111111,
             "#46039f"
            ],
            [
             0.2222222222222222,
             "#7201a8"
            ],
            [
             0.3333333333333333,
             "#9c179e"
            ],
            [
             0.4444444444444444,
             "#bd3786"
            ],
            [
             0.5555555555555556,
             "#d8576b"
            ],
            [
             0.6666666666666666,
             "#ed7953"
            ],
            [
             0.7777777777777778,
             "#fb9f3a"
            ],
            [
             0.8888888888888888,
             "#fdca26"
            ],
            [
             1,
             "#f0f921"
            ]
           ]
          },
          "colorway": [
           "#636efa",
           "#EF553B",
           "#00cc96",
           "#ab63fa",
           "#FFA15A",
           "#19d3f3",
           "#FF6692",
           "#B6E880",
           "#FF97FF",
           "#FECB52"
          ],
          "font": {
           "color": "#2a3f5f"
          },
          "geo": {
           "bgcolor": "white",
           "lakecolor": "white",
           "landcolor": "#E5ECF6",
           "showlakes": true,
           "showland": true,
           "subunitcolor": "white"
          },
          "hoverlabel": {
           "align": "left"
          },
          "hovermode": "closest",
          "mapbox": {
           "style": "light"
          },
          "paper_bgcolor": "white",
          "plot_bgcolor": "#E5ECF6",
          "polar": {
           "angularaxis": {
            "gridcolor": "white",
            "linecolor": "white",
            "ticks": ""
           },
           "bgcolor": "#E5ECF6",
           "radialaxis": {
            "gridcolor": "white",
            "linecolor": "white",
            "ticks": ""
           }
          },
          "scene": {
           "xaxis": {
            "backgroundcolor": "#E5ECF6",
            "gridcolor": "white",
            "gridwidth": 2,
            "linecolor": "white",
            "showbackground": true,
            "ticks": "",
            "zerolinecolor": "white"
           },
           "yaxis": {
            "backgroundcolor": "#E5ECF6",
            "gridcolor": "white",
            "gridwidth": 2,
            "linecolor": "white",
            "showbackground": true,
            "ticks": "",
            "zerolinecolor": "white"
           },
           "zaxis": {
            "backgroundcolor": "#E5ECF6",
            "gridcolor": "white",
            "gridwidth": 2,
            "linecolor": "white",
            "showbackground": true,
            "ticks": "",
            "zerolinecolor": "white"
           }
          },
          "shapedefaults": {
           "line": {
            "color": "#2a3f5f"
           }
          },
          "ternary": {
           "aaxis": {
            "gridcolor": "white",
            "linecolor": "white",
            "ticks": ""
           },
           "baxis": {
            "gridcolor": "white",
            "linecolor": "white",
            "ticks": ""
           },
           "bgcolor": "#E5ECF6",
           "caxis": {
            "gridcolor": "white",
            "linecolor": "white",
            "ticks": ""
           }
          },
          "title": {
           "x": 0.05
          },
          "xaxis": {
           "automargin": true,
           "gridcolor": "white",
           "linecolor": "white",
           "ticks": "",
           "title": {
            "standoff": 15
           },
           "zerolinecolor": "white",
           "zerolinewidth": 2
          },
          "yaxis": {
           "automargin": true,
           "gridcolor": "white",
           "linecolor": "white",
           "ticks": "",
           "title": {
            "standoff": 15
           },
           "zerolinecolor": "white",
           "zerolinewidth": 2
          }
         }
        }
       }
      },
      "text/html": [
       "<div>                            <div id=\"22fad0f9-6abf-41b8-98e1-d638aebf809f\" class=\"plotly-graph-div\" style=\"height:525px; width:100%;\"></div>            <script type=\"text/javascript\">                require([\"plotly\"], function(Plotly) {                    window.PLOTLYENV=window.PLOTLYENV || {};                                    if (document.getElementById(\"22fad0f9-6abf-41b8-98e1-d638aebf809f\")) {                    Plotly.newPlot(                        \"22fad0f9-6abf-41b8-98e1-d638aebf809f\",                        [{\"hovertemplate\": \"lat=%{lat}<br>lon=%{lon}<br>average_house_value=%{marker.color}<extra></extra>\", \"lat\": [43.80544058, 43.78865755, 43.6049369, 43.67158544, 43.737657, 43.76481331, 43.65751135, 43.77636052, 43.79680187, 43.73148623, 43.69321649, 43.76036631, 43.69468198, 43.76489025, 43.67617288, 43.69902438, 43.73101314, 43.68882512, 43.70132631, 43.66764773, 43.68856865, 43.6818521, 43.7823765, 43.65964886, 43.71359238, 43.74197843, 43.72112117, 43.67766091, 43.68402547, 43.68946809, 43.78329369, 43.75927437, 43.66567693, 43.73329235, 43.65542833, 43.68417388, 43.67088591, 43.7409223, 43.72151887, 43.72034467, 43.65801676, 43.64506262, 43.71592975, 43.70421756, 43.69452576, 43.74563575, 43.67261231, 43.74882934, 43.77114414, 43.65756491, 43.64506458, 43.79077477, 43.80298783, 43.6922328, 43.75891975, 43.74342952, 43.69136981, 43.73536441, 43.63346335, 43.66788977, 43.68572747, 43.72555572, 43.65355413, 43.69899257, 43.65352043, 43.79571603, 43.65742013, 43.75427115, 43.73006017, 43.7172117, 43.70379663, 43.64753593, 43.59236169, 43.80365820000001, 43.71557394, 43.63354175, 43.82069079, 43.61592386, 43.78239861, 43.65651762, 43.68814409, 43.7468678, 43.70485217, 43.70443517, 43.6005886, 43.79153579, 43.78582994, 43.63668088, 43.67199515, 43.66962341, 43.70680049, 43.69740813, 43.68856556, 43.69678127, 43.6591571, 43.75503347, 43.7175146, 43.67970047, 43.78698176, 43.6660506, 43.65999214, 43.72372548, 43.67479045, 43.64612299, 43.68282043, 43.82120126, 43.65926882, 43.71160912, 43.73865186, 43.63669952, 43.64929206, 43.75624583, 43.81295883, 43.63551813, 43.78012985, 43.69499819, 43.67104999, 43.73798792, 43.70774921, 43.6501763, 43.6625062, 43.72848902, 43.63388036, 43.76749026, 43.7161804, 43.77881322, 43.70271605, 43.67396204, 43.74857214, 43.77060226, 43.77121049, 43.68364496, 43.76674024, 43.67677292, 43.69410674, 43.67691927, 43.70468937, 43.68785887, 43.76573649, 43.71467153], \"legendgroup\": \"\", \"lon\": [-79.26671217, -79.2656118, -79.54161093, -79.40400062, -79.34971798, -79.45605516, -79.38572125, -79.37711686, -79.38211795, -79.42022735, -79.47947251, -79.25740037, -79.26509259, -79.52197932, -79.33739417, -79.45285129999999, -79.37890418, -79.35562951, -79.48558926, -79.36610666, -79.45521208, -79.40800665, -79.15084327, -79.37901717, -79.28138178, -79.44630258, -79.23552957, -79.44746933, -79.32981941, -79.33140338, -79.35364413, -79.27890794, -79.4385407, -79.49049735, -79.43734104, -79.29935867, -79.52245776, -79.24559804, -79.54898272, -79.43740855, -79.58044524, -79.56893877, -79.33264597, -79.42814316, -79.41431786, -79.51346532, -79.32431802, -79.19505535, -79.34124067, -79.46630217, -79.46787222, -79.17747247, -79.354804, -79.5224162, -79.55617474, -79.54236712, -79.42768335, -79.27247049, -79.54331654, -79.47143987, -79.47143711, -79.26038221, -79.39723988, -79.54786331, -79.5105768, -79.31408424, -79.49604526, -79.42474772, -79.40397836, -79.40603941, -79.36607234, -79.43032271, -79.53334545, -79.22251662, -79.48075802, -79.57343155, -79.27500892, -79.50013664, -79.20704119, -79.36729703, -79.49998906, -79.58725926, -79.38492395, -79.39335955, -79.51035809, -79.40593745, -79.43142151, -79.4124204, -79.35126041, -79.37524658, -79.31222777, -79.27970834, -79.43978548, -79.33548836, -79.41840873, -79.33017952, -79.5282822, -79.35488729, -79.33494843, -79.54455929, -79.36050881, -79.56622841, -79.49442045, -79.44299245, -79.3796694, -79.18634345, -79.48570818, -79.49809147, -79.21681262, -79.43933783, -79.33565132, -79.37903709, -79.32120701, -79.50112821, -79.30291871, -79.29590112, -79.29960129999999, -79.56349102, -79.34998361, -79.41534216, -79.40117975, -79.31487383, -79.37720231, -79.17667603, -79.59635645, -79.45241823, -79.51572255, -79.46024391, -79.29863657, -79.40148379, -79.4275578, -79.55422105, -79.22858577, -79.31540738, -79.31116353, -79.42551495, -79.40359017, -79.39787077, -79.48888293, -79.45710807], \"marker\": {\"color\": [200388, 203047, 259998, 453850, 371864, 304749, 257404, 327644, 343535, 565304, 225369, 182957, 265705, 158483, 310740, 222086, 927466, 269386, 213227, 300213, 219771, 596077, 249025, 246750, 215421, 335119, 253618, 255142, 283706, 256205, 241824, 159187, 264116, 231741, 278023, 290457, 483734, 163419, 163039, 345676, 241685, 187993, 126255, 517466, 726664, 199043, 235168, 224425, 224780, 323536, 354207, 260555, 240009, 272896, 213919, 194295, 423537, 174793, 274436, 263247, 196112, 174518, 267631, 205572, 512334, 395115, 204523, 372579, 461393, 664712, 489998, 328211, 234424, 156076, 275374, 269751, 209609, 239078, 173169, 248778, 159374, 153829, 411558, 284459, 247779, 339987, 279833, 224801, 427169, 249993, 181251, 256556, 268067, 269410, 378033, 276239, 246333, 394235, 226856, 465254, 238524, 219337, 210017, 309221, 664476, 228625, 335435, 261923, 200402, 271880, 276462, 607040, 228460, 334433, 215039, 145464, 404836, 228368, 155094, 324732, 375678, 213950, 228975, 172947, 208555, 212241, 187140, 213749, 211633, 284984, 283215, 282087, 181367, 270607, 224756, 343877, 491987, 494098, 185859, 261784], \"coloraxis\": \"coloraxis\"}, \"mode\": \"markers\", \"name\": \"\", \"showlegend\": false, \"subplot\": \"mapbox\", \"type\": \"scattermapbox\"}],                        {\"coloraxis\": {\"colorbar\": {\"title\": {\"text\": \"average_house_value\"}}, \"colorscale\": [[0.0, \"#0d0887\"], [0.1111111111111111, \"#46039f\"], [0.2222222222222222, \"#7201a8\"], [0.3333333333333333, \"#9c179e\"], [0.4444444444444444, \"#bd3786\"], [0.5555555555555556, \"#d8576b\"], [0.6666666666666666, \"#ed7953\"], [0.7777777777777778, \"#fb9f3a\"], [0.8888888888888888, \"#fdca26\"], [1.0, \"#f0f921\"]]}, \"legend\": {\"tracegroupgap\": 0}, \"mapbox\": {\"center\": {\"lat\": 43.708840577642846, \"lon\": -79.4001855035}, \"domain\": {\"x\": [0.0, 1.0], \"y\": [0.0, 1.0]}, \"zoom\": 8}, \"margin\": {\"t\": 60}, \"template\": {\"data\": {\"bar\": [{\"error_x\": {\"color\": \"#2a3f5f\"}, \"error_y\": {\"color\": \"#2a3f5f\"}, \"marker\": {\"line\": {\"color\": \"#E5ECF6\", \"width\": 0.5}}, \"type\": \"bar\"}], \"barpolar\": [{\"marker\": {\"line\": {\"color\": \"#E5ECF6\", \"width\": 0.5}}, \"type\": \"barpolar\"}], \"carpet\": [{\"aaxis\": {\"endlinecolor\": \"#2a3f5f\", \"gridcolor\": \"white\", \"linecolor\": \"white\", \"minorgridcolor\": \"white\", \"startlinecolor\": \"#2a3f5f\"}, \"baxis\": {\"endlinecolor\": \"#2a3f5f\", \"gridcolor\": \"white\", \"linecolor\": \"white\", \"minorgridcolor\": \"white\", \"startlinecolor\": \"#2a3f5f\"}, \"type\": \"carpet\"}], \"choropleth\": [{\"colorbar\": {\"outlinewidth\": 0, \"ticks\": \"\"}, \"type\": \"choropleth\"}], \"contour\": [{\"colorbar\": {\"outlinewidth\": 0, \"ticks\": \"\"}, \"colorscale\": [[0.0, \"#0d0887\"], [0.1111111111111111, \"#46039f\"], [0.2222222222222222, \"#7201a8\"], [0.3333333333333333, \"#9c179e\"], [0.4444444444444444, \"#bd3786\"], [0.5555555555555556, \"#d8576b\"], [0.6666666666666666, \"#ed7953\"], [0.7777777777777778, \"#fb9f3a\"], [0.8888888888888888, \"#fdca26\"], [1.0, \"#f0f921\"]], \"type\": \"contour\"}], \"contourcarpet\": [{\"colorbar\": {\"outlinewidth\": 0, \"ticks\": \"\"}, \"type\": \"contourcarpet\"}], \"heatmap\": [{\"colorbar\": {\"outlinewidth\": 0, \"ticks\": \"\"}, \"colorscale\": [[0.0, \"#0d0887\"], [0.1111111111111111, \"#46039f\"], [0.2222222222222222, \"#7201a8\"], [0.3333333333333333, \"#9c179e\"], [0.4444444444444444, \"#bd3786\"], [0.5555555555555556, \"#d8576b\"], [0.6666666666666666, \"#ed7953\"], [0.7777777777777778, \"#fb9f3a\"], [0.8888888888888888, \"#fdca26\"], [1.0, \"#f0f921\"]], \"type\": \"heatmap\"}], \"heatmapgl\": [{\"colorbar\": {\"outlinewidth\": 0, \"ticks\": \"\"}, \"colorscale\": [[0.0, \"#0d0887\"], [0.1111111111111111, \"#46039f\"], [0.2222222222222222, \"#7201a8\"], [0.3333333333333333, \"#9c179e\"], [0.4444444444444444, \"#bd3786\"], [0.5555555555555556, \"#d8576b\"], [0.6666666666666666, \"#ed7953\"], [0.7777777777777778, \"#fb9f3a\"], [0.8888888888888888, \"#fdca26\"], [1.0, \"#f0f921\"]], \"type\": \"heatmapgl\"}], \"histogram\": [{\"marker\": {\"colorbar\": {\"outlinewidth\": 0, \"ticks\": \"\"}}, \"type\": \"histogram\"}], \"histogram2d\": [{\"colorbar\": {\"outlinewidth\": 0, \"ticks\": \"\"}, \"colorscale\": [[0.0, \"#0d0887\"], [0.1111111111111111, \"#46039f\"], [0.2222222222222222, \"#7201a8\"], [0.3333333333333333, \"#9c179e\"], [0.4444444444444444, \"#bd3786\"], [0.5555555555555556, \"#d8576b\"], [0.6666666666666666, \"#ed7953\"], [0.7777777777777778, \"#fb9f3a\"], [0.8888888888888888, \"#fdca26\"], [1.0, \"#f0f921\"]], \"type\": \"histogram2d\"}], \"histogram2dcontour\": [{\"colorbar\": {\"outlinewidth\": 0, \"ticks\": \"\"}, \"colorscale\": [[0.0, \"#0d0887\"], [0.1111111111111111, \"#46039f\"], [0.2222222222222222, \"#7201a8\"], [0.3333333333333333, \"#9c179e\"], [0.4444444444444444, \"#bd3786\"], [0.5555555555555556, \"#d8576b\"], [0.6666666666666666, \"#ed7953\"], [0.7777777777777778, \"#fb9f3a\"], [0.8888888888888888, \"#fdca26\"], [1.0, \"#f0f921\"]], \"type\": \"histogram2dcontour\"}], \"mesh3d\": [{\"colorbar\": {\"outlinewidth\": 0, \"ticks\": \"\"}, \"type\": \"mesh3d\"}], \"parcoords\": [{\"line\": {\"colorbar\": {\"outlinewidth\": 0, \"ticks\": \"\"}}, \"type\": \"parcoords\"}], \"pie\": [{\"automargin\": true, \"type\": \"pie\"}], \"scatter\": [{\"marker\": {\"colorbar\": {\"outlinewidth\": 0, \"ticks\": \"\"}}, \"type\": \"scatter\"}], \"scatter3d\": [{\"line\": {\"colorbar\": {\"outlinewidth\": 0, \"ticks\": \"\"}}, \"marker\": {\"colorbar\": {\"outlinewidth\": 0, \"ticks\": \"\"}}, \"type\": \"scatter3d\"}], \"scattercarpet\": [{\"marker\": {\"colorbar\": {\"outlinewidth\": 0, \"ticks\": \"\"}}, \"type\": \"scattercarpet\"}], \"scattergeo\": [{\"marker\": {\"colorbar\": {\"outlinewidth\": 0, \"ticks\": \"\"}}, \"type\": \"scattergeo\"}], \"scattergl\": [{\"marker\": {\"colorbar\": {\"outlinewidth\": 0, \"ticks\": \"\"}}, \"type\": \"scattergl\"}], \"scattermapbox\": [{\"marker\": {\"colorbar\": {\"outlinewidth\": 0, \"ticks\": \"\"}}, \"type\": \"scattermapbox\"}], \"scatterpolar\": [{\"marker\": {\"colorbar\": {\"outlinewidth\": 0, \"ticks\": \"\"}}, \"type\": \"scatterpolar\"}], \"scatterpolargl\": [{\"marker\": {\"colorbar\": {\"outlinewidth\": 0, \"ticks\": \"\"}}, \"type\": \"scatterpolargl\"}], \"scatterternary\": [{\"marker\": {\"colorbar\": {\"outlinewidth\": 0, \"ticks\": \"\"}}, \"type\": \"scatterternary\"}], \"surface\": [{\"colorbar\": {\"outlinewidth\": 0, \"ticks\": \"\"}, \"colorscale\": [[0.0, \"#0d0887\"], [0.1111111111111111, \"#46039f\"], [0.2222222222222222, \"#7201a8\"], [0.3333333333333333, \"#9c179e\"], [0.4444444444444444, \"#bd3786\"], [0.5555555555555556, \"#d8576b\"], [0.6666666666666666, \"#ed7953\"], [0.7777777777777778, \"#fb9f3a\"], [0.8888888888888888, \"#fdca26\"], [1.0, \"#f0f921\"]], \"type\": \"surface\"}], \"table\": [{\"cells\": {\"fill\": {\"color\": \"#EBF0F8\"}, \"line\": {\"color\": \"white\"}}, \"header\": {\"fill\": {\"color\": \"#C8D4E3\"}, \"line\": {\"color\": \"white\"}}, \"type\": \"table\"}]}, \"layout\": {\"annotationdefaults\": {\"arrowcolor\": \"#2a3f5f\", \"arrowhead\": 0, \"arrowwidth\": 1}, \"autotypenumbers\": \"strict\", \"coloraxis\": {\"colorbar\": {\"outlinewidth\": 0, \"ticks\": \"\"}}, \"colorscale\": {\"diverging\": [[0, \"#8e0152\"], [0.1, \"#c51b7d\"], [0.2, \"#de77ae\"], [0.3, \"#f1b6da\"], [0.4, \"#fde0ef\"], [0.5, \"#f7f7f7\"], [0.6, \"#e6f5d0\"], [0.7, \"#b8e186\"], [0.8, \"#7fbc41\"], [0.9, \"#4d9221\"], [1, \"#276419\"]], \"sequential\": [[0.0, \"#0d0887\"], [0.1111111111111111, \"#46039f\"], [0.2222222222222222, \"#7201a8\"], [0.3333333333333333, \"#9c179e\"], [0.4444444444444444, \"#bd3786\"], [0.5555555555555556, \"#d8576b\"], [0.6666666666666666, \"#ed7953\"], [0.7777777777777778, \"#fb9f3a\"], [0.8888888888888888, \"#fdca26\"], [1.0, \"#f0f921\"]], \"sequentialminus\": [[0.0, \"#0d0887\"], [0.1111111111111111, \"#46039f\"], [0.2222222222222222, \"#7201a8\"], [0.3333333333333333, \"#9c179e\"], [0.4444444444444444, \"#bd3786\"], [0.5555555555555556, \"#d8576b\"], [0.6666666666666666, \"#ed7953\"], [0.7777777777777778, \"#fb9f3a\"], [0.8888888888888888, \"#fdca26\"], [1.0, \"#f0f921\"]]}, \"colorway\": [\"#636efa\", \"#EF553B\", \"#00cc96\", \"#ab63fa\", \"#FFA15A\", \"#19d3f3\", \"#FF6692\", \"#B6E880\", \"#FF97FF\", \"#FECB52\"], \"font\": {\"color\": \"#2a3f5f\"}, \"geo\": {\"bgcolor\": \"white\", \"lakecolor\": \"white\", \"landcolor\": \"#E5ECF6\", \"showlakes\": true, \"showland\": true, \"subunitcolor\": \"white\"}, \"hoverlabel\": {\"align\": \"left\"}, \"hovermode\": \"closest\", \"mapbox\": {\"style\": \"light\"}, \"paper_bgcolor\": \"white\", \"plot_bgcolor\": \"#E5ECF6\", \"polar\": {\"angularaxis\": {\"gridcolor\": \"white\", \"linecolor\": \"white\", \"ticks\": \"\"}, \"bgcolor\": \"#E5ECF6\", \"radialaxis\": {\"gridcolor\": \"white\", \"linecolor\": \"white\", \"ticks\": \"\"}}, \"scene\": {\"xaxis\": {\"backgroundcolor\": \"#E5ECF6\", \"gridcolor\": \"white\", \"gridwidth\": 2, \"linecolor\": \"white\", \"showbackground\": true, \"ticks\": \"\", \"zerolinecolor\": \"white\"}, \"yaxis\": {\"backgroundcolor\": \"#E5ECF6\", \"gridcolor\": \"white\", \"gridwidth\": 2, \"linecolor\": \"white\", \"showbackground\": true, \"ticks\": \"\", \"zerolinecolor\": \"white\"}, \"zaxis\": {\"backgroundcolor\": \"#E5ECF6\", \"gridcolor\": \"white\", \"gridwidth\": 2, \"linecolor\": \"white\", \"showbackground\": true, \"ticks\": \"\", \"zerolinecolor\": \"white\"}}, \"shapedefaults\": {\"line\": {\"color\": \"#2a3f5f\"}}, \"ternary\": {\"aaxis\": {\"gridcolor\": \"white\", \"linecolor\": \"white\", \"ticks\": \"\"}, \"baxis\": {\"gridcolor\": \"white\", \"linecolor\": \"white\", \"ticks\": \"\"}, \"bgcolor\": \"#E5ECF6\", \"caxis\": {\"gridcolor\": \"white\", \"linecolor\": \"white\", \"ticks\": \"\"}}, \"title\": {\"x\": 0.05}, \"xaxis\": {\"automargin\": true, \"gridcolor\": \"white\", \"linecolor\": \"white\", \"ticks\": \"\", \"title\": {\"standoff\": 15}, \"zerolinecolor\": \"white\", \"zerolinewidth\": 2}, \"yaxis\": {\"automargin\": true, \"gridcolor\": \"white\", \"linecolor\": \"white\", \"ticks\": \"\", \"title\": {\"standoff\": 15}, \"zerolinecolor\": \"white\", \"zerolinewidth\": 2}}}},                        {\"responsive\": true}                    ).then(function(){\n",
       "                            \n",
       "var gd = document.getElementById('22fad0f9-6abf-41b8-98e1-d638aebf809f');\n",
       "var x = new MutationObserver(function (mutations, observer) {{\n",
       "        var display = window.getComputedStyle(gd).display;\n",
       "        if (!display || display === 'none') {{\n",
       "            console.log([gd, 'removed!']);\n",
       "            Plotly.purge(gd);\n",
       "            observer.disconnect();\n",
       "        }}\n",
       "}});\n",
       "\n",
       "// Listen for the removal of the full notebook cells\n",
       "var notebookContainer = gd.closest('#notebook-container');\n",
       "if (notebookContainer) {{\n",
       "    x.observe(notebookContainer, {childList: true});\n",
       "}}\n",
       "\n",
       "// Listen for the clearing of the current output cell\n",
       "var outputEl = gd.closest('.output');\n",
       "if (outputEl) {{\n",
       "    x.observe(outputEl, {childList: true});\n",
       "}}\n",
       "\n",
       "                        })                };                });            </script>        </div>"
      ]
     },
     "metadata": {},
     "output_type": "display_data"
    }
   ],
   "source": [
    "map_1 = px.scatter_mapbox(\n",
    "    data_complete,\n",
    "    lat=\"lat\",\n",
    "    lon=\"lon\",\n",
    "    color=\"average_house_value\",\n",
    ")\n",
    "map_1.show()"
   ]
  },
  {
   "cell_type": "code",
   "execution_count": 260,
   "metadata": {},
   "outputs": [
    {
     "data": {
      "application/vnd.plotly.v1+json": {
       "config": {
        "plotlyServerURL": "https://plot.ly"
       },
       "data": [
        {
         "hovertemplate": "lat=%{lat}<br>lon=%{lon}<br>average_house_value=%{marker.color}<extra></extra>",
         "lat": [
          43.80544058,
          43.78865755,
          43.6049369,
          43.67158544,
          43.737657,
          43.76481331,
          43.65751135,
          43.77636052,
          43.79680187,
          43.73148623,
          43.69321649,
          43.76036631,
          43.69468198,
          43.76489025,
          43.67617288,
          43.69902438,
          43.73101314,
          43.68882512,
          43.70132631,
          43.66764773,
          43.68856865,
          43.6818521,
          43.7823765,
          43.65964886,
          43.71359238,
          43.74197843,
          43.72112117,
          43.67766091,
          43.68402547,
          43.68946809,
          43.78329369,
          43.75927437,
          43.66567693,
          43.73329235,
          43.65542833,
          43.68417388,
          43.67088591,
          43.7409223,
          43.72151887,
          43.72034467,
          43.65801676,
          43.64506262,
          43.71592975,
          43.70421756,
          43.69452576,
          43.74563575,
          43.67261231,
          43.74882934,
          43.77114414,
          43.65756491,
          43.64506458,
          43.79077477,
          43.80298783,
          43.6922328,
          43.75891975,
          43.74342952,
          43.69136981,
          43.73536441,
          43.63346335,
          43.66788977,
          43.68572747,
          43.72555572,
          43.65355413,
          43.69899257,
          43.65352043,
          43.79571603,
          43.65742013,
          43.75427115,
          43.73006017,
          43.7172117,
          43.70379663,
          43.64753593,
          43.59236169,
          43.80365820000001,
          43.71557394,
          43.63354175,
          43.82069079,
          43.61592386,
          43.78239861,
          43.65651762,
          43.68814409,
          43.7468678,
          43.70485217,
          43.70443517,
          43.6005886,
          43.79153579,
          43.78582994,
          43.63668088,
          43.67199515,
          43.66962341,
          43.70680049,
          43.69740813,
          43.68856556,
          43.69678127,
          43.6591571,
          43.75503347,
          43.7175146,
          43.67970047,
          43.78698176,
          43.6660506,
          43.65999214,
          43.72372548,
          43.67479045,
          43.64612299,
          43.68282043,
          43.82120126,
          43.65926882,
          43.71160912,
          43.73865186,
          43.63669952,
          43.64929206,
          43.75624583,
          43.81295883,
          43.63551813,
          43.78012985,
          43.69499819,
          43.67104999,
          43.73798792,
          43.70774921,
          43.6501763,
          43.6625062,
          43.72848902,
          43.63388036,
          43.76749026,
          43.7161804,
          43.77881322,
          43.70271605,
          43.67396204,
          43.74857214,
          43.77060226,
          43.77121049,
          43.68364496,
          43.76674024,
          43.67677292,
          43.69410674,
          43.67691927,
          43.70468937,
          43.68785887,
          43.76573649,
          43.71467153
         ],
         "legendgroup": "",
         "lon": [
          -79.26671217,
          -79.2656118,
          -79.54161093,
          -79.40400062,
          -79.34971798,
          -79.45605516,
          -79.38572125,
          -79.37711686,
          -79.38211795,
          -79.42022735,
          -79.47947251,
          -79.25740037,
          -79.26509259,
          -79.52197932,
          -79.33739417,
          -79.45285129999999,
          -79.37890418,
          -79.35562951,
          -79.48558926,
          -79.36610666,
          -79.45521208,
          -79.40800665,
          -79.15084327,
          -79.37901717,
          -79.28138178,
          -79.44630258,
          -79.23552957,
          -79.44746933,
          -79.32981941,
          -79.33140338,
          -79.35364413,
          -79.27890794,
          -79.4385407,
          -79.49049735,
          -79.43734104,
          -79.29935867,
          -79.52245776,
          -79.24559804,
          -79.54898272,
          -79.43740855,
          -79.58044524,
          -79.56893877,
          -79.33264597,
          -79.42814316,
          -79.41431786,
          -79.51346532,
          -79.32431802,
          -79.19505535,
          -79.34124067,
          -79.46630217,
          -79.46787222,
          -79.17747247,
          -79.354804,
          -79.5224162,
          -79.55617474,
          -79.54236712,
          -79.42768335,
          -79.27247049,
          -79.54331654,
          -79.47143987,
          -79.47143711,
          -79.26038221,
          -79.39723988,
          -79.54786331,
          -79.5105768,
          -79.31408424,
          -79.49604526,
          -79.42474772,
          -79.40397836,
          -79.40603941,
          -79.36607234,
          -79.43032271,
          -79.53334545,
          -79.22251662,
          -79.48075802,
          -79.57343155,
          -79.27500892,
          -79.50013664,
          -79.20704119,
          -79.36729703,
          -79.49998906,
          -79.58725926,
          -79.38492395,
          -79.39335955,
          -79.51035809,
          -79.40593745,
          -79.43142151,
          -79.4124204,
          -79.35126041,
          -79.37524658,
          -79.31222777,
          -79.27970834,
          -79.43978548,
          -79.33548836,
          -79.41840873,
          -79.33017952,
          -79.5282822,
          -79.35488729,
          -79.33494843,
          -79.54455929,
          -79.36050881,
          -79.56622841,
          -79.49442045,
          -79.44299245,
          -79.3796694,
          -79.18634345,
          -79.48570818,
          -79.49809147,
          -79.21681262,
          -79.43933783,
          -79.33565132,
          -79.37903709,
          -79.32120701,
          -79.50112821,
          -79.30291871,
          -79.29590112,
          -79.29960129999999,
          -79.56349102,
          -79.34998361,
          -79.41534216,
          -79.40117975,
          -79.31487383,
          -79.37720231,
          -79.17667603,
          -79.59635645,
          -79.45241823,
          -79.51572255,
          -79.46024391,
          -79.29863657,
          -79.40148379,
          -79.4275578,
          -79.55422105,
          -79.22858577,
          -79.31540738,
          -79.31116353,
          -79.42551495,
          -79.40359017,
          -79.39787077,
          -79.48888293,
          -79.45710807
         ],
         "marker": {
          "color": [
           200388,
           203047,
           259998,
           453850,
           371864,
           304749,
           257404,
           327644,
           343535,
           565304,
           225369,
           182957,
           265705,
           158483,
           310740,
           222086,
           927466,
           269386,
           213227,
           300213,
           219771,
           596077,
           249025,
           246750,
           215421,
           335119,
           253618,
           255142,
           283706,
           256205,
           241824,
           159187,
           264116,
           231741,
           278023,
           290457,
           483734,
           163419,
           163039,
           345676,
           241685,
           187993,
           126255,
           517466,
           726664,
           199043,
           235168,
           224425,
           224780,
           323536,
           354207,
           260555,
           240009,
           272896,
           213919,
           194295,
           423537,
           174793,
           274436,
           263247,
           196112,
           174518,
           267631,
           205572,
           512334,
           395115,
           204523,
           372579,
           461393,
           664712,
           489998,
           328211,
           234424,
           156076,
           275374,
           269751,
           209609,
           239078,
           173169,
           248778,
           159374,
           153829,
           411558,
           284459,
           247779,
           339987,
           279833,
           224801,
           427169,
           249993,
           181251,
           256556,
           268067,
           269410,
           378033,
           276239,
           246333,
           394235,
           226856,
           465254,
           238524,
           219337,
           210017,
           309221,
           664476,
           228625,
           335435,
           261923,
           200402,
           271880,
           276462,
           607040,
           228460,
           334433,
           215039,
           145464,
           404836,
           228368,
           155094,
           324732,
           375678,
           213950,
           228975,
           172947,
           208555,
           212241,
           187140,
           213749,
           211633,
           284984,
           283215,
           282087,
           181367,
           270607,
           224756,
           343877,
           491987,
           494098,
           185859,
           261784
          ],
          "coloraxis": "coloraxis"
         },
         "mode": "markers",
         "name": "",
         "showlegend": false,
         "subplot": "mapbox",
         "type": "scattermapbox"
        }
       ],
       "layout": {
        "coloraxis": {
         "colorbar": {
          "title": {
           "text": "average_house_value"
          }
         },
         "colorscale": [
          [
           0,
           "#0d0887"
          ],
          [
           0.1111111111111111,
           "#46039f"
          ],
          [
           0.2222222222222222,
           "#7201a8"
          ],
          [
           0.3333333333333333,
           "#9c179e"
          ],
          [
           0.4444444444444444,
           "#bd3786"
          ],
          [
           0.5555555555555556,
           "#d8576b"
          ],
          [
           0.6666666666666666,
           "#ed7953"
          ],
          [
           0.7777777777777778,
           "#fb9f3a"
          ],
          [
           0.8888888888888888,
           "#fdca26"
          ],
          [
           1,
           "#f0f921"
          ]
         ]
        },
        "legend": {
         "tracegroupgap": 0
        },
        "mapbox": {
         "center": {
          "lat": 43.708840577642846,
          "lon": -79.4001855035
         },
         "domain": {
          "x": [
           0,
           1
          ],
          "y": [
           0,
           1
          ]
         },
         "zoom": 8
        },
        "margin": {
         "t": 60
        },
        "template": {
         "data": {
          "bar": [
           {
            "error_x": {
             "color": "#2a3f5f"
            },
            "error_y": {
             "color": "#2a3f5f"
            },
            "marker": {
             "line": {
              "color": "#E5ECF6",
              "width": 0.5
             }
            },
            "type": "bar"
           }
          ],
          "barpolar": [
           {
            "marker": {
             "line": {
              "color": "#E5ECF6",
              "width": 0.5
             }
            },
            "type": "barpolar"
           }
          ],
          "carpet": [
           {
            "aaxis": {
             "endlinecolor": "#2a3f5f",
             "gridcolor": "white",
             "linecolor": "white",
             "minorgridcolor": "white",
             "startlinecolor": "#2a3f5f"
            },
            "baxis": {
             "endlinecolor": "#2a3f5f",
             "gridcolor": "white",
             "linecolor": "white",
             "minorgridcolor": "white",
             "startlinecolor": "#2a3f5f"
            },
            "type": "carpet"
           }
          ],
          "choropleth": [
           {
            "colorbar": {
             "outlinewidth": 0,
             "ticks": ""
            },
            "type": "choropleth"
           }
          ],
          "contour": [
           {
            "colorbar": {
             "outlinewidth": 0,
             "ticks": ""
            },
            "colorscale": [
             [
              0,
              "#0d0887"
             ],
             [
              0.1111111111111111,
              "#46039f"
             ],
             [
              0.2222222222222222,
              "#7201a8"
             ],
             [
              0.3333333333333333,
              "#9c179e"
             ],
             [
              0.4444444444444444,
              "#bd3786"
             ],
             [
              0.5555555555555556,
              "#d8576b"
             ],
             [
              0.6666666666666666,
              "#ed7953"
             ],
             [
              0.7777777777777778,
              "#fb9f3a"
             ],
             [
              0.8888888888888888,
              "#fdca26"
             ],
             [
              1,
              "#f0f921"
             ]
            ],
            "type": "contour"
           }
          ],
          "contourcarpet": [
           {
            "colorbar": {
             "outlinewidth": 0,
             "ticks": ""
            },
            "type": "contourcarpet"
           }
          ],
          "heatmap": [
           {
            "colorbar": {
             "outlinewidth": 0,
             "ticks": ""
            },
            "colorscale": [
             [
              0,
              "#0d0887"
             ],
             [
              0.1111111111111111,
              "#46039f"
             ],
             [
              0.2222222222222222,
              "#7201a8"
             ],
             [
              0.3333333333333333,
              "#9c179e"
             ],
             [
              0.4444444444444444,
              "#bd3786"
             ],
             [
              0.5555555555555556,
              "#d8576b"
             ],
             [
              0.6666666666666666,
              "#ed7953"
             ],
             [
              0.7777777777777778,
              "#fb9f3a"
             ],
             [
              0.8888888888888888,
              "#fdca26"
             ],
             [
              1,
              "#f0f921"
             ]
            ],
            "type": "heatmap"
           }
          ],
          "heatmapgl": [
           {
            "colorbar": {
             "outlinewidth": 0,
             "ticks": ""
            },
            "colorscale": [
             [
              0,
              "#0d0887"
             ],
             [
              0.1111111111111111,
              "#46039f"
             ],
             [
              0.2222222222222222,
              "#7201a8"
             ],
             [
              0.3333333333333333,
              "#9c179e"
             ],
             [
              0.4444444444444444,
              "#bd3786"
             ],
             [
              0.5555555555555556,
              "#d8576b"
             ],
             [
              0.6666666666666666,
              "#ed7953"
             ],
             [
              0.7777777777777778,
              "#fb9f3a"
             ],
             [
              0.8888888888888888,
              "#fdca26"
             ],
             [
              1,
              "#f0f921"
             ]
            ],
            "type": "heatmapgl"
           }
          ],
          "histogram": [
           {
            "marker": {
             "colorbar": {
              "outlinewidth": 0,
              "ticks": ""
             }
            },
            "type": "histogram"
           }
          ],
          "histogram2d": [
           {
            "colorbar": {
             "outlinewidth": 0,
             "ticks": ""
            },
            "colorscale": [
             [
              0,
              "#0d0887"
             ],
             [
              0.1111111111111111,
              "#46039f"
             ],
             [
              0.2222222222222222,
              "#7201a8"
             ],
             [
              0.3333333333333333,
              "#9c179e"
             ],
             [
              0.4444444444444444,
              "#bd3786"
             ],
             [
              0.5555555555555556,
              "#d8576b"
             ],
             [
              0.6666666666666666,
              "#ed7953"
             ],
             [
              0.7777777777777778,
              "#fb9f3a"
             ],
             [
              0.8888888888888888,
              "#fdca26"
             ],
             [
              1,
              "#f0f921"
             ]
            ],
            "type": "histogram2d"
           }
          ],
          "histogram2dcontour": [
           {
            "colorbar": {
             "outlinewidth": 0,
             "ticks": ""
            },
            "colorscale": [
             [
              0,
              "#0d0887"
             ],
             [
              0.1111111111111111,
              "#46039f"
             ],
             [
              0.2222222222222222,
              "#7201a8"
             ],
             [
              0.3333333333333333,
              "#9c179e"
             ],
             [
              0.4444444444444444,
              "#bd3786"
             ],
             [
              0.5555555555555556,
              "#d8576b"
             ],
             [
              0.6666666666666666,
              "#ed7953"
             ],
             [
              0.7777777777777778,
              "#fb9f3a"
             ],
             [
              0.8888888888888888,
              "#fdca26"
             ],
             [
              1,
              "#f0f921"
             ]
            ],
            "type": "histogram2dcontour"
           }
          ],
          "mesh3d": [
           {
            "colorbar": {
             "outlinewidth": 0,
             "ticks": ""
            },
            "type": "mesh3d"
           }
          ],
          "parcoords": [
           {
            "line": {
             "colorbar": {
              "outlinewidth": 0,
              "ticks": ""
             }
            },
            "type": "parcoords"
           }
          ],
          "pie": [
           {
            "automargin": true,
            "type": "pie"
           }
          ],
          "scatter": [
           {
            "marker": {
             "colorbar": {
              "outlinewidth": 0,
              "ticks": ""
             }
            },
            "type": "scatter"
           }
          ],
          "scatter3d": [
           {
            "line": {
             "colorbar": {
              "outlinewidth": 0,
              "ticks": ""
             }
            },
            "marker": {
             "colorbar": {
              "outlinewidth": 0,
              "ticks": ""
             }
            },
            "type": "scatter3d"
           }
          ],
          "scattercarpet": [
           {
            "marker": {
             "colorbar": {
              "outlinewidth": 0,
              "ticks": ""
             }
            },
            "type": "scattercarpet"
           }
          ],
          "scattergeo": [
           {
            "marker": {
             "colorbar": {
              "outlinewidth": 0,
              "ticks": ""
             }
            },
            "type": "scattergeo"
           }
          ],
          "scattergl": [
           {
            "marker": {
             "colorbar": {
              "outlinewidth": 0,
              "ticks": ""
             }
            },
            "type": "scattergl"
           }
          ],
          "scattermapbox": [
           {
            "marker": {
             "colorbar": {
              "outlinewidth": 0,
              "ticks": ""
             }
            },
            "type": "scattermapbox"
           }
          ],
          "scatterpolar": [
           {
            "marker": {
             "colorbar": {
              "outlinewidth": 0,
              "ticks": ""
             }
            },
            "type": "scatterpolar"
           }
          ],
          "scatterpolargl": [
           {
            "marker": {
             "colorbar": {
              "outlinewidth": 0,
              "ticks": ""
             }
            },
            "type": "scatterpolargl"
           }
          ],
          "scatterternary": [
           {
            "marker": {
             "colorbar": {
              "outlinewidth": 0,
              "ticks": ""
             }
            },
            "type": "scatterternary"
           }
          ],
          "surface": [
           {
            "colorbar": {
             "outlinewidth": 0,
             "ticks": ""
            },
            "colorscale": [
             [
              0,
              "#0d0887"
             ],
             [
              0.1111111111111111,
              "#46039f"
             ],
             [
              0.2222222222222222,
              "#7201a8"
             ],
             [
              0.3333333333333333,
              "#9c179e"
             ],
             [
              0.4444444444444444,
              "#bd3786"
             ],
             [
              0.5555555555555556,
              "#d8576b"
             ],
             [
              0.6666666666666666,
              "#ed7953"
             ],
             [
              0.7777777777777778,
              "#fb9f3a"
             ],
             [
              0.8888888888888888,
              "#fdca26"
             ],
             [
              1,
              "#f0f921"
             ]
            ],
            "type": "surface"
           }
          ],
          "table": [
           {
            "cells": {
             "fill": {
              "color": "#EBF0F8"
             },
             "line": {
              "color": "white"
             }
            },
            "header": {
             "fill": {
              "color": "#C8D4E3"
             },
             "line": {
              "color": "white"
             }
            },
            "type": "table"
           }
          ]
         },
         "layout": {
          "annotationdefaults": {
           "arrowcolor": "#2a3f5f",
           "arrowhead": 0,
           "arrowwidth": 1
          },
          "autotypenumbers": "strict",
          "coloraxis": {
           "colorbar": {
            "outlinewidth": 0,
            "ticks": ""
           }
          },
          "colorscale": {
           "diverging": [
            [
             0,
             "#8e0152"
            ],
            [
             0.1,
             "#c51b7d"
            ],
            [
             0.2,
             "#de77ae"
            ],
            [
             0.3,
             "#f1b6da"
            ],
            [
             0.4,
             "#fde0ef"
            ],
            [
             0.5,
             "#f7f7f7"
            ],
            [
             0.6,
             "#e6f5d0"
            ],
            [
             0.7,
             "#b8e186"
            ],
            [
             0.8,
             "#7fbc41"
            ],
            [
             0.9,
             "#4d9221"
            ],
            [
             1,
             "#276419"
            ]
           ],
           "sequential": [
            [
             0,
             "#0d0887"
            ],
            [
             0.1111111111111111,
             "#46039f"
            ],
            [
             0.2222222222222222,
             "#7201a8"
            ],
            [
             0.3333333333333333,
             "#9c179e"
            ],
            [
             0.4444444444444444,
             "#bd3786"
            ],
            [
             0.5555555555555556,
             "#d8576b"
            ],
            [
             0.6666666666666666,
             "#ed7953"
            ],
            [
             0.7777777777777778,
             "#fb9f3a"
            ],
            [
             0.8888888888888888,
             "#fdca26"
            ],
            [
             1,
             "#f0f921"
            ]
           ],
           "sequentialminus": [
            [
             0,
             "#0d0887"
            ],
            [
             0.1111111111111111,
             "#46039f"
            ],
            [
             0.2222222222222222,
             "#7201a8"
            ],
            [
             0.3333333333333333,
             "#9c179e"
            ],
            [
             0.4444444444444444,
             "#bd3786"
            ],
            [
             0.5555555555555556,
             "#d8576b"
            ],
            [
             0.6666666666666666,
             "#ed7953"
            ],
            [
             0.7777777777777778,
             "#fb9f3a"
            ],
            [
             0.8888888888888888,
             "#fdca26"
            ],
            [
             1,
             "#f0f921"
            ]
           ]
          },
          "colorway": [
           "#636efa",
           "#EF553B",
           "#00cc96",
           "#ab63fa",
           "#FFA15A",
           "#19d3f3",
           "#FF6692",
           "#B6E880",
           "#FF97FF",
           "#FECB52"
          ],
          "font": {
           "color": "#2a3f5f"
          },
          "geo": {
           "bgcolor": "white",
           "lakecolor": "white",
           "landcolor": "#E5ECF6",
           "showlakes": true,
           "showland": true,
           "subunitcolor": "white"
          },
          "hoverlabel": {
           "align": "left"
          },
          "hovermode": "closest",
          "mapbox": {
           "style": "light"
          },
          "paper_bgcolor": "white",
          "plot_bgcolor": "#E5ECF6",
          "polar": {
           "angularaxis": {
            "gridcolor": "white",
            "linecolor": "white",
            "ticks": ""
           },
           "bgcolor": "#E5ECF6",
           "radialaxis": {
            "gridcolor": "white",
            "linecolor": "white",
            "ticks": ""
           }
          },
          "scene": {
           "xaxis": {
            "backgroundcolor": "#E5ECF6",
            "gridcolor": "white",
            "gridwidth": 2,
            "linecolor": "white",
            "showbackground": true,
            "ticks": "",
            "zerolinecolor": "white"
           },
           "yaxis": {
            "backgroundcolor": "#E5ECF6",
            "gridcolor": "white",
            "gridwidth": 2,
            "linecolor": "white",
            "showbackground": true,
            "ticks": "",
            "zerolinecolor": "white"
           },
           "zaxis": {
            "backgroundcolor": "#E5ECF6",
            "gridcolor": "white",
            "gridwidth": 2,
            "linecolor": "white",
            "showbackground": true,
            "ticks": "",
            "zerolinecolor": "white"
           }
          },
          "shapedefaults": {
           "line": {
            "color": "#2a3f5f"
           }
          },
          "ternary": {
           "aaxis": {
            "gridcolor": "white",
            "linecolor": "white",
            "ticks": ""
           },
           "baxis": {
            "gridcolor": "white",
            "linecolor": "white",
            "ticks": ""
           },
           "bgcolor": "#E5ECF6",
           "caxis": {
            "gridcolor": "white",
            "linecolor": "white",
            "ticks": ""
           }
          },
          "title": {
           "x": 0.05
          },
          "xaxis": {
           "automargin": true,
           "gridcolor": "white",
           "linecolor": "white",
           "ticks": "",
           "title": {
            "standoff": 15
           },
           "zerolinecolor": "white",
           "zerolinewidth": 2
          },
          "yaxis": {
           "automargin": true,
           "gridcolor": "white",
           "linecolor": "white",
           "ticks": "",
           "title": {
            "standoff": 15
           },
           "zerolinecolor": "white",
           "zerolinewidth": 2
          }
         }
        }
       }
      },
      "text/html": [
       "<div>                            <div id=\"adf091bd-5486-441e-9041-be44bff8b9cf\" class=\"plotly-graph-div\" style=\"height:525px; width:100%;\"></div>            <script type=\"text/javascript\">                require([\"plotly\"], function(Plotly) {                    window.PLOTLYENV=window.PLOTLYENV || {};                                    if (document.getElementById(\"adf091bd-5486-441e-9041-be44bff8b9cf\")) {                    Plotly.newPlot(                        \"adf091bd-5486-441e-9041-be44bff8b9cf\",                        [{\"hovertemplate\": \"lat=%{lat}<br>lon=%{lon}<br>average_house_value=%{marker.color}<extra></extra>\", \"lat\": [43.80544058, 43.78865755, 43.6049369, 43.67158544, 43.737657, 43.76481331, 43.65751135, 43.77636052, 43.79680187, 43.73148623, 43.69321649, 43.76036631, 43.69468198, 43.76489025, 43.67617288, 43.69902438, 43.73101314, 43.68882512, 43.70132631, 43.66764773, 43.68856865, 43.6818521, 43.7823765, 43.65964886, 43.71359238, 43.74197843, 43.72112117, 43.67766091, 43.68402547, 43.68946809, 43.78329369, 43.75927437, 43.66567693, 43.73329235, 43.65542833, 43.68417388, 43.67088591, 43.7409223, 43.72151887, 43.72034467, 43.65801676, 43.64506262, 43.71592975, 43.70421756, 43.69452576, 43.74563575, 43.67261231, 43.74882934, 43.77114414, 43.65756491, 43.64506458, 43.79077477, 43.80298783, 43.6922328, 43.75891975, 43.74342952, 43.69136981, 43.73536441, 43.63346335, 43.66788977, 43.68572747, 43.72555572, 43.65355413, 43.69899257, 43.65352043, 43.79571603, 43.65742013, 43.75427115, 43.73006017, 43.7172117, 43.70379663, 43.64753593, 43.59236169, 43.80365820000001, 43.71557394, 43.63354175, 43.82069079, 43.61592386, 43.78239861, 43.65651762, 43.68814409, 43.7468678, 43.70485217, 43.70443517, 43.6005886, 43.79153579, 43.78582994, 43.63668088, 43.67199515, 43.66962341, 43.70680049, 43.69740813, 43.68856556, 43.69678127, 43.6591571, 43.75503347, 43.7175146, 43.67970047, 43.78698176, 43.6660506, 43.65999214, 43.72372548, 43.67479045, 43.64612299, 43.68282043, 43.82120126, 43.65926882, 43.71160912, 43.73865186, 43.63669952, 43.64929206, 43.75624583, 43.81295883, 43.63551813, 43.78012985, 43.69499819, 43.67104999, 43.73798792, 43.70774921, 43.6501763, 43.6625062, 43.72848902, 43.63388036, 43.76749026, 43.7161804, 43.77881322, 43.70271605, 43.67396204, 43.74857214, 43.77060226, 43.77121049, 43.68364496, 43.76674024, 43.67677292, 43.69410674, 43.67691927, 43.70468937, 43.68785887, 43.76573649, 43.71467153], \"legendgroup\": \"\", \"lon\": [-79.26671217, -79.2656118, -79.54161093, -79.40400062, -79.34971798, -79.45605516, -79.38572125, -79.37711686, -79.38211795, -79.42022735, -79.47947251, -79.25740037, -79.26509259, -79.52197932, -79.33739417, -79.45285129999999, -79.37890418, -79.35562951, -79.48558926, -79.36610666, -79.45521208, -79.40800665, -79.15084327, -79.37901717, -79.28138178, -79.44630258, -79.23552957, -79.44746933, -79.32981941, -79.33140338, -79.35364413, -79.27890794, -79.4385407, -79.49049735, -79.43734104, -79.29935867, -79.52245776, -79.24559804, -79.54898272, -79.43740855, -79.58044524, -79.56893877, -79.33264597, -79.42814316, -79.41431786, -79.51346532, -79.32431802, -79.19505535, -79.34124067, -79.46630217, -79.46787222, -79.17747247, -79.354804, -79.5224162, -79.55617474, -79.54236712, -79.42768335, -79.27247049, -79.54331654, -79.47143987, -79.47143711, -79.26038221, -79.39723988, -79.54786331, -79.5105768, -79.31408424, -79.49604526, -79.42474772, -79.40397836, -79.40603941, -79.36607234, -79.43032271, -79.53334545, -79.22251662, -79.48075802, -79.57343155, -79.27500892, -79.50013664, -79.20704119, -79.36729703, -79.49998906, -79.58725926, -79.38492395, -79.39335955, -79.51035809, -79.40593745, -79.43142151, -79.4124204, -79.35126041, -79.37524658, -79.31222777, -79.27970834, -79.43978548, -79.33548836, -79.41840873, -79.33017952, -79.5282822, -79.35488729, -79.33494843, -79.54455929, -79.36050881, -79.56622841, -79.49442045, -79.44299245, -79.3796694, -79.18634345, -79.48570818, -79.49809147, -79.21681262, -79.43933783, -79.33565132, -79.37903709, -79.32120701, -79.50112821, -79.30291871, -79.29590112, -79.29960129999999, -79.56349102, -79.34998361, -79.41534216, -79.40117975, -79.31487383, -79.37720231, -79.17667603, -79.59635645, -79.45241823, -79.51572255, -79.46024391, -79.29863657, -79.40148379, -79.4275578, -79.55422105, -79.22858577, -79.31540738, -79.31116353, -79.42551495, -79.40359017, -79.39787077, -79.48888293, -79.45710807], \"marker\": {\"color\": [200388, 203047, 259998, 453850, 371864, 304749, 257404, 327644, 343535, 565304, 225369, 182957, 265705, 158483, 310740, 222086, 927466, 269386, 213227, 300213, 219771, 596077, 249025, 246750, 215421, 335119, 253618, 255142, 283706, 256205, 241824, 159187, 264116, 231741, 278023, 290457, 483734, 163419, 163039, 345676, 241685, 187993, 126255, 517466, 726664, 199043, 235168, 224425, 224780, 323536, 354207, 260555, 240009, 272896, 213919, 194295, 423537, 174793, 274436, 263247, 196112, 174518, 267631, 205572, 512334, 395115, 204523, 372579, 461393, 664712, 489998, 328211, 234424, 156076, 275374, 269751, 209609, 239078, 173169, 248778, 159374, 153829, 411558, 284459, 247779, 339987, 279833, 224801, 427169, 249993, 181251, 256556, 268067, 269410, 378033, 276239, 246333, 394235, 226856, 465254, 238524, 219337, 210017, 309221, 664476, 228625, 335435, 261923, 200402, 271880, 276462, 607040, 228460, 334433, 215039, 145464, 404836, 228368, 155094, 324732, 375678, 213950, 228975, 172947, 208555, 212241, 187140, 213749, 211633, 284984, 283215, 282087, 181367, 270607, 224756, 343877, 491987, 494098, 185859, 261784], \"coloraxis\": \"coloraxis\"}, \"mode\": \"markers\", \"name\": \"\", \"showlegend\": false, \"subplot\": \"mapbox\", \"type\": \"scattermapbox\"}],                        {\"coloraxis\": {\"colorbar\": {\"title\": {\"text\": \"average_house_value\"}}, \"colorscale\": [[0.0, \"#0d0887\"], [0.1111111111111111, \"#46039f\"], [0.2222222222222222, \"#7201a8\"], [0.3333333333333333, \"#9c179e\"], [0.4444444444444444, \"#bd3786\"], [0.5555555555555556, \"#d8576b\"], [0.6666666666666666, \"#ed7953\"], [0.7777777777777778, \"#fb9f3a\"], [0.8888888888888888, \"#fdca26\"], [1.0, \"#f0f921\"]]}, \"legend\": {\"tracegroupgap\": 0}, \"mapbox\": {\"center\": {\"lat\": 43.708840577642846, \"lon\": -79.4001855035}, \"domain\": {\"x\": [0.0, 1.0], \"y\": [0.0, 1.0]}, \"zoom\": 8}, \"margin\": {\"t\": 60}, \"template\": {\"data\": {\"bar\": [{\"error_x\": {\"color\": \"#2a3f5f\"}, \"error_y\": {\"color\": \"#2a3f5f\"}, \"marker\": {\"line\": {\"color\": \"#E5ECF6\", \"width\": 0.5}}, \"type\": \"bar\"}], \"barpolar\": [{\"marker\": {\"line\": {\"color\": \"#E5ECF6\", \"width\": 0.5}}, \"type\": \"barpolar\"}], \"carpet\": [{\"aaxis\": {\"endlinecolor\": \"#2a3f5f\", \"gridcolor\": \"white\", \"linecolor\": \"white\", \"minorgridcolor\": \"white\", \"startlinecolor\": \"#2a3f5f\"}, \"baxis\": {\"endlinecolor\": \"#2a3f5f\", \"gridcolor\": \"white\", \"linecolor\": \"white\", \"minorgridcolor\": \"white\", \"startlinecolor\": \"#2a3f5f\"}, \"type\": \"carpet\"}], \"choropleth\": [{\"colorbar\": {\"outlinewidth\": 0, \"ticks\": \"\"}, \"type\": \"choropleth\"}], \"contour\": [{\"colorbar\": {\"outlinewidth\": 0, \"ticks\": \"\"}, \"colorscale\": [[0.0, \"#0d0887\"], [0.1111111111111111, \"#46039f\"], [0.2222222222222222, \"#7201a8\"], [0.3333333333333333, \"#9c179e\"], [0.4444444444444444, \"#bd3786\"], [0.5555555555555556, \"#d8576b\"], [0.6666666666666666, \"#ed7953\"], [0.7777777777777778, \"#fb9f3a\"], [0.8888888888888888, \"#fdca26\"], [1.0, \"#f0f921\"]], \"type\": \"contour\"}], \"contourcarpet\": [{\"colorbar\": {\"outlinewidth\": 0, \"ticks\": \"\"}, \"type\": \"contourcarpet\"}], \"heatmap\": [{\"colorbar\": {\"outlinewidth\": 0, \"ticks\": \"\"}, \"colorscale\": [[0.0, \"#0d0887\"], [0.1111111111111111, \"#46039f\"], [0.2222222222222222, \"#7201a8\"], [0.3333333333333333, \"#9c179e\"], [0.4444444444444444, \"#bd3786\"], [0.5555555555555556, \"#d8576b\"], [0.6666666666666666, \"#ed7953\"], [0.7777777777777778, \"#fb9f3a\"], [0.8888888888888888, \"#fdca26\"], [1.0, \"#f0f921\"]], \"type\": \"heatmap\"}], \"heatmapgl\": [{\"colorbar\": {\"outlinewidth\": 0, \"ticks\": \"\"}, \"colorscale\": [[0.0, \"#0d0887\"], [0.1111111111111111, \"#46039f\"], [0.2222222222222222, \"#7201a8\"], [0.3333333333333333, \"#9c179e\"], [0.4444444444444444, \"#bd3786\"], [0.5555555555555556, \"#d8576b\"], [0.6666666666666666, \"#ed7953\"], [0.7777777777777778, \"#fb9f3a\"], [0.8888888888888888, \"#fdca26\"], [1.0, \"#f0f921\"]], \"type\": \"heatmapgl\"}], \"histogram\": [{\"marker\": {\"colorbar\": {\"outlinewidth\": 0, \"ticks\": \"\"}}, \"type\": \"histogram\"}], \"histogram2d\": [{\"colorbar\": {\"outlinewidth\": 0, \"ticks\": \"\"}, \"colorscale\": [[0.0, \"#0d0887\"], [0.1111111111111111, \"#46039f\"], [0.2222222222222222, \"#7201a8\"], [0.3333333333333333, \"#9c179e\"], [0.4444444444444444, \"#bd3786\"], [0.5555555555555556, \"#d8576b\"], [0.6666666666666666, \"#ed7953\"], [0.7777777777777778, \"#fb9f3a\"], [0.8888888888888888, \"#fdca26\"], [1.0, \"#f0f921\"]], \"type\": \"histogram2d\"}], \"histogram2dcontour\": [{\"colorbar\": {\"outlinewidth\": 0, \"ticks\": \"\"}, \"colorscale\": [[0.0, \"#0d0887\"], [0.1111111111111111, \"#46039f\"], [0.2222222222222222, \"#7201a8\"], [0.3333333333333333, \"#9c179e\"], [0.4444444444444444, \"#bd3786\"], [0.5555555555555556, \"#d8576b\"], [0.6666666666666666, \"#ed7953\"], [0.7777777777777778, \"#fb9f3a\"], [0.8888888888888888, \"#fdca26\"], [1.0, \"#f0f921\"]], \"type\": \"histogram2dcontour\"}], \"mesh3d\": [{\"colorbar\": {\"outlinewidth\": 0, \"ticks\": \"\"}, \"type\": \"mesh3d\"}], \"parcoords\": [{\"line\": {\"colorbar\": {\"outlinewidth\": 0, \"ticks\": \"\"}}, \"type\": \"parcoords\"}], \"pie\": [{\"automargin\": true, \"type\": \"pie\"}], \"scatter\": [{\"marker\": {\"colorbar\": {\"outlinewidth\": 0, \"ticks\": \"\"}}, \"type\": \"scatter\"}], \"scatter3d\": [{\"line\": {\"colorbar\": {\"outlinewidth\": 0, \"ticks\": \"\"}}, \"marker\": {\"colorbar\": {\"outlinewidth\": 0, \"ticks\": \"\"}}, \"type\": \"scatter3d\"}], \"scattercarpet\": [{\"marker\": {\"colorbar\": {\"outlinewidth\": 0, \"ticks\": \"\"}}, \"type\": \"scattercarpet\"}], \"scattergeo\": [{\"marker\": {\"colorbar\": {\"outlinewidth\": 0, \"ticks\": \"\"}}, \"type\": \"scattergeo\"}], \"scattergl\": [{\"marker\": {\"colorbar\": {\"outlinewidth\": 0, \"ticks\": \"\"}}, \"type\": \"scattergl\"}], \"scattermapbox\": [{\"marker\": {\"colorbar\": {\"outlinewidth\": 0, \"ticks\": \"\"}}, \"type\": \"scattermapbox\"}], \"scatterpolar\": [{\"marker\": {\"colorbar\": {\"outlinewidth\": 0, \"ticks\": \"\"}}, \"type\": \"scatterpolar\"}], \"scatterpolargl\": [{\"marker\": {\"colorbar\": {\"outlinewidth\": 0, \"ticks\": \"\"}}, \"type\": \"scatterpolargl\"}], \"scatterternary\": [{\"marker\": {\"colorbar\": {\"outlinewidth\": 0, \"ticks\": \"\"}}, \"type\": \"scatterternary\"}], \"surface\": [{\"colorbar\": {\"outlinewidth\": 0, \"ticks\": \"\"}, \"colorscale\": [[0.0, \"#0d0887\"], [0.1111111111111111, \"#46039f\"], [0.2222222222222222, \"#7201a8\"], [0.3333333333333333, \"#9c179e\"], [0.4444444444444444, \"#bd3786\"], [0.5555555555555556, \"#d8576b\"], [0.6666666666666666, \"#ed7953\"], [0.7777777777777778, \"#fb9f3a\"], [0.8888888888888888, \"#fdca26\"], [1.0, \"#f0f921\"]], \"type\": \"surface\"}], \"table\": [{\"cells\": {\"fill\": {\"color\": \"#EBF0F8\"}, \"line\": {\"color\": \"white\"}}, \"header\": {\"fill\": {\"color\": \"#C8D4E3\"}, \"line\": {\"color\": \"white\"}}, \"type\": \"table\"}]}, \"layout\": {\"annotationdefaults\": {\"arrowcolor\": \"#2a3f5f\", \"arrowhead\": 0, \"arrowwidth\": 1}, \"autotypenumbers\": \"strict\", \"coloraxis\": {\"colorbar\": {\"outlinewidth\": 0, \"ticks\": \"\"}}, \"colorscale\": {\"diverging\": [[0, \"#8e0152\"], [0.1, \"#c51b7d\"], [0.2, \"#de77ae\"], [0.3, \"#f1b6da\"], [0.4, \"#fde0ef\"], [0.5, \"#f7f7f7\"], [0.6, \"#e6f5d0\"], [0.7, \"#b8e186\"], [0.8, \"#7fbc41\"], [0.9, \"#4d9221\"], [1, \"#276419\"]], \"sequential\": [[0.0, \"#0d0887\"], [0.1111111111111111, \"#46039f\"], [0.2222222222222222, \"#7201a8\"], [0.3333333333333333, \"#9c179e\"], [0.4444444444444444, \"#bd3786\"], [0.5555555555555556, \"#d8576b\"], [0.6666666666666666, \"#ed7953\"], [0.7777777777777778, \"#fb9f3a\"], [0.8888888888888888, \"#fdca26\"], [1.0, \"#f0f921\"]], \"sequentialminus\": [[0.0, \"#0d0887\"], [0.1111111111111111, \"#46039f\"], [0.2222222222222222, \"#7201a8\"], [0.3333333333333333, \"#9c179e\"], [0.4444444444444444, \"#bd3786\"], [0.5555555555555556, \"#d8576b\"], [0.6666666666666666, \"#ed7953\"], [0.7777777777777778, \"#fb9f3a\"], [0.8888888888888888, \"#fdca26\"], [1.0, \"#f0f921\"]]}, \"colorway\": [\"#636efa\", \"#EF553B\", \"#00cc96\", \"#ab63fa\", \"#FFA15A\", \"#19d3f3\", \"#FF6692\", \"#B6E880\", \"#FF97FF\", \"#FECB52\"], \"font\": {\"color\": \"#2a3f5f\"}, \"geo\": {\"bgcolor\": \"white\", \"lakecolor\": \"white\", \"landcolor\": \"#E5ECF6\", \"showlakes\": true, \"showland\": true, \"subunitcolor\": \"white\"}, \"hoverlabel\": {\"align\": \"left\"}, \"hovermode\": \"closest\", \"mapbox\": {\"style\": \"light\"}, \"paper_bgcolor\": \"white\", \"plot_bgcolor\": \"#E5ECF6\", \"polar\": {\"angularaxis\": {\"gridcolor\": \"white\", \"linecolor\": \"white\", \"ticks\": \"\"}, \"bgcolor\": \"#E5ECF6\", \"radialaxis\": {\"gridcolor\": \"white\", \"linecolor\": \"white\", \"ticks\": \"\"}}, \"scene\": {\"xaxis\": {\"backgroundcolor\": \"#E5ECF6\", \"gridcolor\": \"white\", \"gridwidth\": 2, \"linecolor\": \"white\", \"showbackground\": true, \"ticks\": \"\", \"zerolinecolor\": \"white\"}, \"yaxis\": {\"backgroundcolor\": \"#E5ECF6\", \"gridcolor\": \"white\", \"gridwidth\": 2, \"linecolor\": \"white\", \"showbackground\": true, \"ticks\": \"\", \"zerolinecolor\": \"white\"}, \"zaxis\": {\"backgroundcolor\": \"#E5ECF6\", \"gridcolor\": \"white\", \"gridwidth\": 2, \"linecolor\": \"white\", \"showbackground\": true, \"ticks\": \"\", \"zerolinecolor\": \"white\"}}, \"shapedefaults\": {\"line\": {\"color\": \"#2a3f5f\"}}, \"ternary\": {\"aaxis\": {\"gridcolor\": \"white\", \"linecolor\": \"white\", \"ticks\": \"\"}, \"baxis\": {\"gridcolor\": \"white\", \"linecolor\": \"white\", \"ticks\": \"\"}, \"bgcolor\": \"#E5ECF6\", \"caxis\": {\"gridcolor\": \"white\", \"linecolor\": \"white\", \"ticks\": \"\"}}, \"title\": {\"x\": 0.05}, \"xaxis\": {\"automargin\": true, \"gridcolor\": \"white\", \"linecolor\": \"white\", \"ticks\": \"\", \"title\": {\"standoff\": 15}, \"zerolinecolor\": \"white\", \"zerolinewidth\": 2}, \"yaxis\": {\"automargin\": true, \"gridcolor\": \"white\", \"linecolor\": \"white\", \"ticks\": \"\", \"title\": {\"standoff\": 15}, \"zerolinecolor\": \"white\", \"zerolinewidth\": 2}}}},                        {\"responsive\": true}                    ).then(function(){\n",
       "                            \n",
       "var gd = document.getElementById('adf091bd-5486-441e-9041-be44bff8b9cf');\n",
       "var x = new MutationObserver(function (mutations, observer) {{\n",
       "        var display = window.getComputedStyle(gd).display;\n",
       "        if (!display || display === 'none') {{\n",
       "            console.log([gd, 'removed!']);\n",
       "            Plotly.purge(gd);\n",
       "            observer.disconnect();\n",
       "        }}\n",
       "}});\n",
       "\n",
       "// Listen for the removal of the full notebook cells\n",
       "var notebookContainer = gd.closest('#notebook-container');\n",
       "if (notebookContainer) {{\n",
       "    x.observe(notebookContainer, {childList: true});\n",
       "}}\n",
       "\n",
       "// Listen for the clearing of the current output cell\n",
       "var outputEl = gd.closest('.output');\n",
       "if (outputEl) {{\n",
       "    x.observe(outputEl, {childList: true});\n",
       "}}\n",
       "\n",
       "                        })                };                });            </script>        </div>"
      ]
     },
     "metadata": {},
     "output_type": "display_data"
    }
   ],
   "source": [
    "map_1=px.scatter_mapbox(\n",
    "    data_complete, \n",
    "    lat=\"lat\", \n",
    "    lon=\"lon\", \n",
    "    color=\"average_house_value\"\n",
    ")\n",
    "map_1.show()"
   ]
  },
  {
   "cell_type": "code",
   "execution_count": 225,
   "metadata": {},
   "outputs": [
    {
     "data": {
      "application/vnd.plotly.v1+json": {
       "config": {
        "plotlyServerURL": "https://plot.ly"
       },
       "data": [
        {
         "hovertemplate": "lat=%{lat}<br>lon=%{lon}<br>average_house_value=%{marker.color}<extra></extra>",
         "lat": [
          43.80544058,
          43.78865755,
          43.6049369,
          43.67158544,
          43.737657,
          43.76481331,
          43.65751135,
          43.77636052,
          43.79680187,
          43.73148623,
          43.69321649,
          43.76036631,
          43.69468198,
          43.76489025,
          43.67617288,
          43.69902438,
          43.73101314,
          43.68882512,
          43.70132631,
          43.66764773,
          43.68856865,
          43.6818521,
          43.7823765,
          43.65964886,
          43.71359238,
          43.74197843,
          43.72112117,
          43.67766091,
          43.68402547,
          43.68946809,
          43.78329369,
          43.75927437,
          43.66567693,
          43.73329235,
          43.65542833,
          43.68417388,
          43.67088591,
          43.7409223,
          43.72151887,
          43.72034467,
          43.65801676,
          43.64506262,
          43.71592975,
          43.70421756,
          43.69452576,
          43.74563575,
          43.67261231,
          43.74882934,
          43.77114414,
          43.65756491,
          43.64506458,
          43.79077477,
          43.80298783,
          43.6922328,
          43.75891975,
          43.74342952,
          43.69136981,
          43.73536441,
          43.63346335,
          43.66788977,
          43.68572747,
          43.72555572,
          43.65355413,
          43.69899257,
          43.65352043,
          43.79571603,
          43.65742013,
          43.75427115,
          43.73006017,
          43.7172117,
          43.70379663,
          43.64753593,
          43.59236169,
          43.80365820000001,
          43.71557394,
          43.63354175,
          43.82069079,
          43.61592386,
          43.78239861,
          43.65651762,
          43.68814409,
          43.7468678,
          43.70485217,
          43.70443517,
          43.6005886,
          43.79153579,
          43.78582994,
          43.63668088,
          43.67199515,
          43.66962341,
          43.70680049,
          43.69740813,
          43.68856556,
          43.69678127,
          43.6591571,
          43.75503347,
          43.7175146,
          43.67970047,
          43.78698176,
          43.6660506,
          43.65999214,
          43.72372548,
          43.67479045,
          43.64612299,
          43.68282043,
          43.82120126,
          43.65926882,
          43.71160912,
          43.73865186,
          43.63669952,
          43.64929206,
          43.75624583,
          43.81295883,
          43.63551813,
          43.78012985,
          43.69499819,
          43.67104999,
          43.73798792,
          43.70774921,
          43.6501763,
          43.6625062,
          43.72848902,
          43.63388036,
          43.76749026,
          43.7161804,
          43.77881322,
          43.70271605,
          43.67396204,
          43.74857214,
          43.77060226,
          43.77121049,
          43.68364496,
          43.76674024,
          43.67677292,
          43.69410674,
          43.67691927,
          43.70468937,
          43.68785887,
          43.76573649,
          43.71467153
         ],
         "legendgroup": "",
         "lon": [
          -79.26671217,
          -79.2656118,
          -79.54161093,
          -79.40400062,
          -79.34971798,
          -79.45605516,
          -79.38572125,
          -79.37711686,
          -79.38211795,
          -79.42022735,
          -79.47947251,
          -79.25740037,
          -79.26509259,
          -79.52197932,
          -79.33739417,
          -79.45285129999999,
          -79.37890418,
          -79.35562951,
          -79.48558926,
          -79.36610666,
          -79.45521208,
          -79.40800665,
          -79.15084327,
          -79.37901717,
          -79.28138178,
          -79.44630258,
          -79.23552957,
          -79.44746933,
          -79.32981941,
          -79.33140338,
          -79.35364413,
          -79.27890794,
          -79.4385407,
          -79.49049735,
          -79.43734104,
          -79.29935867,
          -79.52245776,
          -79.24559804,
          -79.54898272,
          -79.43740855,
          -79.58044524,
          -79.56893877,
          -79.33264597,
          -79.42814316,
          -79.41431786,
          -79.51346532,
          -79.32431802,
          -79.19505535,
          -79.34124067,
          -79.46630217,
          -79.46787222,
          -79.17747247,
          -79.354804,
          -79.5224162,
          -79.55617474,
          -79.54236712,
          -79.42768335,
          -79.27247049,
          -79.54331654,
          -79.47143987,
          -79.47143711,
          -79.26038221,
          -79.39723988,
          -79.54786331,
          -79.5105768,
          -79.31408424,
          -79.49604526,
          -79.42474772,
          -79.40397836,
          -79.40603941,
          -79.36607234,
          -79.43032271,
          -79.53334545,
          -79.22251662,
          -79.48075802,
          -79.57343155,
          -79.27500892,
          -79.50013664,
          -79.20704119,
          -79.36729703,
          -79.49998906,
          -79.58725926,
          -79.38492395,
          -79.39335955,
          -79.51035809,
          -79.40593745,
          -79.43142151,
          -79.4124204,
          -79.35126041,
          -79.37524658,
          -79.31222777,
          -79.27970834,
          -79.43978548,
          -79.33548836,
          -79.41840873,
          -79.33017952,
          -79.5282822,
          -79.35488729,
          -79.33494843,
          -79.54455929,
          -79.36050881,
          -79.56622841,
          -79.49442045,
          -79.44299245,
          -79.3796694,
          -79.18634345,
          -79.48570818,
          -79.49809147,
          -79.21681262,
          -79.43933783,
          -79.33565132,
          -79.37903709,
          -79.32120701,
          -79.50112821,
          -79.30291871,
          -79.29590112,
          -79.29960129999999,
          -79.56349102,
          -79.34998361,
          -79.41534216,
          -79.40117975,
          -79.31487383,
          -79.37720231,
          -79.17667603,
          -79.59635645,
          -79.45241823,
          -79.51572255,
          -79.46024391,
          -79.29863657,
          -79.40148379,
          -79.4275578,
          -79.55422105,
          -79.22858577,
          -79.31540738,
          -79.31116353,
          -79.42551495,
          -79.40359017,
          -79.39787077,
          -79.48888293,
          -79.45710807
         ],
         "marker": {
          "color": [
           200388,
           203047,
           259998,
           453850,
           371864,
           304749,
           257404,
           327644,
           343535,
           565304,
           225369,
           182957,
           265705,
           158483,
           310740,
           222086,
           927466,
           269386,
           213227,
           300213,
           219771,
           596077,
           249025,
           246750,
           215421,
           335119,
           253618,
           255142,
           283706,
           256205,
           241824,
           159187,
           264116,
           231741,
           278023,
           290457,
           483734,
           163419,
           163039,
           345676,
           241685,
           187993,
           126255,
           517466,
           726664,
           199043,
           235168,
           224425,
           224780,
           323536,
           354207,
           260555,
           240009,
           272896,
           213919,
           194295,
           423537,
           174793,
           274436,
           263247,
           196112,
           174518,
           267631,
           205572,
           512334,
           395115,
           204523,
           372579,
           461393,
           664712,
           489998,
           328211,
           234424,
           156076,
           275374,
           269751,
           209609,
           239078,
           173169,
           248778,
           159374,
           153829,
           411558,
           284459,
           247779,
           339987,
           279833,
           224801,
           427169,
           249993,
           181251,
           256556,
           268067,
           269410,
           378033,
           276239,
           246333,
           394235,
           226856,
           465254,
           238524,
           219337,
           210017,
           309221,
           664476,
           228625,
           335435,
           261923,
           200402,
           271880,
           276462,
           607040,
           228460,
           334433,
           215039,
           145464,
           404836,
           228368,
           155094,
           324732,
           375678,
           213950,
           228975,
           172947,
           208555,
           212241,
           187140,
           213749,
           211633,
           284984,
           283215,
           282087,
           181367,
           270607,
           224756,
           343877,
           491987,
           494098,
           185859,
           261784
          ],
          "coloraxis": "coloraxis"
         },
         "mode": "markers",
         "name": "",
         "showlegend": false,
         "subplot": "mapbox",
         "type": "scattermapbox"
        }
       ],
       "layout": {
        "coloraxis": {
         "colorbar": {
          "title": {
           "text": "average_house_value"
          }
         },
         "colorscale": [
          [
           0,
           "#0d0887"
          ],
          [
           0.1111111111111111,
           "#46039f"
          ],
          [
           0.2222222222222222,
           "#7201a8"
          ],
          [
           0.3333333333333333,
           "#9c179e"
          ],
          [
           0.4444444444444444,
           "#bd3786"
          ],
          [
           0.5555555555555556,
           "#d8576b"
          ],
          [
           0.6666666666666666,
           "#ed7953"
          ],
          [
           0.7777777777777778,
           "#fb9f3a"
          ],
          [
           0.8888888888888888,
           "#fdca26"
          ],
          [
           1,
           "#f0f921"
          ]
         ]
        },
        "legend": {
         "tracegroupgap": 0
        },
        "mapbox": {
         "center": {
          "lat": 43.708840577642846,
          "lon": -79.4001855035
         },
         "domain": {
          "x": [
           0,
           1
          ],
          "y": [
           0,
           1
          ]
         },
         "zoom": 8
        },
        "margin": {
         "t": 60
        },
        "template": {
         "data": {
          "bar": [
           {
            "error_x": {
             "color": "#2a3f5f"
            },
            "error_y": {
             "color": "#2a3f5f"
            },
            "marker": {
             "line": {
              "color": "#E5ECF6",
              "width": 0.5
             }
            },
            "type": "bar"
           }
          ],
          "barpolar": [
           {
            "marker": {
             "line": {
              "color": "#E5ECF6",
              "width": 0.5
             }
            },
            "type": "barpolar"
           }
          ],
          "carpet": [
           {
            "aaxis": {
             "endlinecolor": "#2a3f5f",
             "gridcolor": "white",
             "linecolor": "white",
             "minorgridcolor": "white",
             "startlinecolor": "#2a3f5f"
            },
            "baxis": {
             "endlinecolor": "#2a3f5f",
             "gridcolor": "white",
             "linecolor": "white",
             "minorgridcolor": "white",
             "startlinecolor": "#2a3f5f"
            },
            "type": "carpet"
           }
          ],
          "choropleth": [
           {
            "colorbar": {
             "outlinewidth": 0,
             "ticks": ""
            },
            "type": "choropleth"
           }
          ],
          "contour": [
           {
            "colorbar": {
             "outlinewidth": 0,
             "ticks": ""
            },
            "colorscale": [
             [
              0,
              "#0d0887"
             ],
             [
              0.1111111111111111,
              "#46039f"
             ],
             [
              0.2222222222222222,
              "#7201a8"
             ],
             [
              0.3333333333333333,
              "#9c179e"
             ],
             [
              0.4444444444444444,
              "#bd3786"
             ],
             [
              0.5555555555555556,
              "#d8576b"
             ],
             [
              0.6666666666666666,
              "#ed7953"
             ],
             [
              0.7777777777777778,
              "#fb9f3a"
             ],
             [
              0.8888888888888888,
              "#fdca26"
             ],
             [
              1,
              "#f0f921"
             ]
            ],
            "type": "contour"
           }
          ],
          "contourcarpet": [
           {
            "colorbar": {
             "outlinewidth": 0,
             "ticks": ""
            },
            "type": "contourcarpet"
           }
          ],
          "heatmap": [
           {
            "colorbar": {
             "outlinewidth": 0,
             "ticks": ""
            },
            "colorscale": [
             [
              0,
              "#0d0887"
             ],
             [
              0.1111111111111111,
              "#46039f"
             ],
             [
              0.2222222222222222,
              "#7201a8"
             ],
             [
              0.3333333333333333,
              "#9c179e"
             ],
             [
              0.4444444444444444,
              "#bd3786"
             ],
             [
              0.5555555555555556,
              "#d8576b"
             ],
             [
              0.6666666666666666,
              "#ed7953"
             ],
             [
              0.7777777777777778,
              "#fb9f3a"
             ],
             [
              0.8888888888888888,
              "#fdca26"
             ],
             [
              1,
              "#f0f921"
             ]
            ],
            "type": "heatmap"
           }
          ],
          "heatmapgl": [
           {
            "colorbar": {
             "outlinewidth": 0,
             "ticks": ""
            },
            "colorscale": [
             [
              0,
              "#0d0887"
             ],
             [
              0.1111111111111111,
              "#46039f"
             ],
             [
              0.2222222222222222,
              "#7201a8"
             ],
             [
              0.3333333333333333,
              "#9c179e"
             ],
             [
              0.4444444444444444,
              "#bd3786"
             ],
             [
              0.5555555555555556,
              "#d8576b"
             ],
             [
              0.6666666666666666,
              "#ed7953"
             ],
             [
              0.7777777777777778,
              "#fb9f3a"
             ],
             [
              0.8888888888888888,
              "#fdca26"
             ],
             [
              1,
              "#f0f921"
             ]
            ],
            "type": "heatmapgl"
           }
          ],
          "histogram": [
           {
            "marker": {
             "colorbar": {
              "outlinewidth": 0,
              "ticks": ""
             }
            },
            "type": "histogram"
           }
          ],
          "histogram2d": [
           {
            "colorbar": {
             "outlinewidth": 0,
             "ticks": ""
            },
            "colorscale": [
             [
              0,
              "#0d0887"
             ],
             [
              0.1111111111111111,
              "#46039f"
             ],
             [
              0.2222222222222222,
              "#7201a8"
             ],
             [
              0.3333333333333333,
              "#9c179e"
             ],
             [
              0.4444444444444444,
              "#bd3786"
             ],
             [
              0.5555555555555556,
              "#d8576b"
             ],
             [
              0.6666666666666666,
              "#ed7953"
             ],
             [
              0.7777777777777778,
              "#fb9f3a"
             ],
             [
              0.8888888888888888,
              "#fdca26"
             ],
             [
              1,
              "#f0f921"
             ]
            ],
            "type": "histogram2d"
           }
          ],
          "histogram2dcontour": [
           {
            "colorbar": {
             "outlinewidth": 0,
             "ticks": ""
            },
            "colorscale": [
             [
              0,
              "#0d0887"
             ],
             [
              0.1111111111111111,
              "#46039f"
             ],
             [
              0.2222222222222222,
              "#7201a8"
             ],
             [
              0.3333333333333333,
              "#9c179e"
             ],
             [
              0.4444444444444444,
              "#bd3786"
             ],
             [
              0.5555555555555556,
              "#d8576b"
             ],
             [
              0.6666666666666666,
              "#ed7953"
             ],
             [
              0.7777777777777778,
              "#fb9f3a"
             ],
             [
              0.8888888888888888,
              "#fdca26"
             ],
             [
              1,
              "#f0f921"
             ]
            ],
            "type": "histogram2dcontour"
           }
          ],
          "mesh3d": [
           {
            "colorbar": {
             "outlinewidth": 0,
             "ticks": ""
            },
            "type": "mesh3d"
           }
          ],
          "parcoords": [
           {
            "line": {
             "colorbar": {
              "outlinewidth": 0,
              "ticks": ""
             }
            },
            "type": "parcoords"
           }
          ],
          "pie": [
           {
            "automargin": true,
            "type": "pie"
           }
          ],
          "scatter": [
           {
            "marker": {
             "colorbar": {
              "outlinewidth": 0,
              "ticks": ""
             }
            },
            "type": "scatter"
           }
          ],
          "scatter3d": [
           {
            "line": {
             "colorbar": {
              "outlinewidth": 0,
              "ticks": ""
             }
            },
            "marker": {
             "colorbar": {
              "outlinewidth": 0,
              "ticks": ""
             }
            },
            "type": "scatter3d"
           }
          ],
          "scattercarpet": [
           {
            "marker": {
             "colorbar": {
              "outlinewidth": 0,
              "ticks": ""
             }
            },
            "type": "scattercarpet"
           }
          ],
          "scattergeo": [
           {
            "marker": {
             "colorbar": {
              "outlinewidth": 0,
              "ticks": ""
             }
            },
            "type": "scattergeo"
           }
          ],
          "scattergl": [
           {
            "marker": {
             "colorbar": {
              "outlinewidth": 0,
              "ticks": ""
             }
            },
            "type": "scattergl"
           }
          ],
          "scattermapbox": [
           {
            "marker": {
             "colorbar": {
              "outlinewidth": 0,
              "ticks": ""
             }
            },
            "type": "scattermapbox"
           }
          ],
          "scatterpolar": [
           {
            "marker": {
             "colorbar": {
              "outlinewidth": 0,
              "ticks": ""
             }
            },
            "type": "scatterpolar"
           }
          ],
          "scatterpolargl": [
           {
            "marker": {
             "colorbar": {
              "outlinewidth": 0,
              "ticks": ""
             }
            },
            "type": "scatterpolargl"
           }
          ],
          "scatterternary": [
           {
            "marker": {
             "colorbar": {
              "outlinewidth": 0,
              "ticks": ""
             }
            },
            "type": "scatterternary"
           }
          ],
          "surface": [
           {
            "colorbar": {
             "outlinewidth": 0,
             "ticks": ""
            },
            "colorscale": [
             [
              0,
              "#0d0887"
             ],
             [
              0.1111111111111111,
              "#46039f"
             ],
             [
              0.2222222222222222,
              "#7201a8"
             ],
             [
              0.3333333333333333,
              "#9c179e"
             ],
             [
              0.4444444444444444,
              "#bd3786"
             ],
             [
              0.5555555555555556,
              "#d8576b"
             ],
             [
              0.6666666666666666,
              "#ed7953"
             ],
             [
              0.7777777777777778,
              "#fb9f3a"
             ],
             [
              0.8888888888888888,
              "#fdca26"
             ],
             [
              1,
              "#f0f921"
             ]
            ],
            "type": "surface"
           }
          ],
          "table": [
           {
            "cells": {
             "fill": {
              "color": "#EBF0F8"
             },
             "line": {
              "color": "white"
             }
            },
            "header": {
             "fill": {
              "color": "#C8D4E3"
             },
             "line": {
              "color": "white"
             }
            },
            "type": "table"
           }
          ]
         },
         "layout": {
          "annotationdefaults": {
           "arrowcolor": "#2a3f5f",
           "arrowhead": 0,
           "arrowwidth": 1
          },
          "autotypenumbers": "strict",
          "coloraxis": {
           "colorbar": {
            "outlinewidth": 0,
            "ticks": ""
           }
          },
          "colorscale": {
           "diverging": [
            [
             0,
             "#8e0152"
            ],
            [
             0.1,
             "#c51b7d"
            ],
            [
             0.2,
             "#de77ae"
            ],
            [
             0.3,
             "#f1b6da"
            ],
            [
             0.4,
             "#fde0ef"
            ],
            [
             0.5,
             "#f7f7f7"
            ],
            [
             0.6,
             "#e6f5d0"
            ],
            [
             0.7,
             "#b8e186"
            ],
            [
             0.8,
             "#7fbc41"
            ],
            [
             0.9,
             "#4d9221"
            ],
            [
             1,
             "#276419"
            ]
           ],
           "sequential": [
            [
             0,
             "#0d0887"
            ],
            [
             0.1111111111111111,
             "#46039f"
            ],
            [
             0.2222222222222222,
             "#7201a8"
            ],
            [
             0.3333333333333333,
             "#9c179e"
            ],
            [
             0.4444444444444444,
             "#bd3786"
            ],
            [
             0.5555555555555556,
             "#d8576b"
            ],
            [
             0.6666666666666666,
             "#ed7953"
            ],
            [
             0.7777777777777778,
             "#fb9f3a"
            ],
            [
             0.8888888888888888,
             "#fdca26"
            ],
            [
             1,
             "#f0f921"
            ]
           ],
           "sequentialminus": [
            [
             0,
             "#0d0887"
            ],
            [
             0.1111111111111111,
             "#46039f"
            ],
            [
             0.2222222222222222,
             "#7201a8"
            ],
            [
             0.3333333333333333,
             "#9c179e"
            ],
            [
             0.4444444444444444,
             "#bd3786"
            ],
            [
             0.5555555555555556,
             "#d8576b"
            ],
            [
             0.6666666666666666,
             "#ed7953"
            ],
            [
             0.7777777777777778,
             "#fb9f3a"
            ],
            [
             0.8888888888888888,
             "#fdca26"
            ],
            [
             1,
             "#f0f921"
            ]
           ]
          },
          "colorway": [
           "#636efa",
           "#EF553B",
           "#00cc96",
           "#ab63fa",
           "#FFA15A",
           "#19d3f3",
           "#FF6692",
           "#B6E880",
           "#FF97FF",
           "#FECB52"
          ],
          "font": {
           "color": "#2a3f5f"
          },
          "geo": {
           "bgcolor": "white",
           "lakecolor": "white",
           "landcolor": "#E5ECF6",
           "showlakes": true,
           "showland": true,
           "subunitcolor": "white"
          },
          "hoverlabel": {
           "align": "left"
          },
          "hovermode": "closest",
          "mapbox": {
           "style": "light"
          },
          "paper_bgcolor": "white",
          "plot_bgcolor": "#E5ECF6",
          "polar": {
           "angularaxis": {
            "gridcolor": "white",
            "linecolor": "white",
            "ticks": ""
           },
           "bgcolor": "#E5ECF6",
           "radialaxis": {
            "gridcolor": "white",
            "linecolor": "white",
            "ticks": ""
           }
          },
          "scene": {
           "xaxis": {
            "backgroundcolor": "#E5ECF6",
            "gridcolor": "white",
            "gridwidth": 2,
            "linecolor": "white",
            "showbackground": true,
            "ticks": "",
            "zerolinecolor": "white"
           },
           "yaxis": {
            "backgroundcolor": "#E5ECF6",
            "gridcolor": "white",
            "gridwidth": 2,
            "linecolor": "white",
            "showbackground": true,
            "ticks": "",
            "zerolinecolor": "white"
           },
           "zaxis": {
            "backgroundcolor": "#E5ECF6",
            "gridcolor": "white",
            "gridwidth": 2,
            "linecolor": "white",
            "showbackground": true,
            "ticks": "",
            "zerolinecolor": "white"
           }
          },
          "shapedefaults": {
           "line": {
            "color": "#2a3f5f"
           }
          },
          "ternary": {
           "aaxis": {
            "gridcolor": "white",
            "linecolor": "white",
            "ticks": ""
           },
           "baxis": {
            "gridcolor": "white",
            "linecolor": "white",
            "ticks": ""
           },
           "bgcolor": "#E5ECF6",
           "caxis": {
            "gridcolor": "white",
            "linecolor": "white",
            "ticks": ""
           }
          },
          "title": {
           "x": 0.05
          },
          "xaxis": {
           "automargin": true,
           "gridcolor": "white",
           "linecolor": "white",
           "ticks": "",
           "title": {
            "standoff": 15
           },
           "zerolinecolor": "white",
           "zerolinewidth": 2
          },
          "yaxis": {
           "automargin": true,
           "gridcolor": "white",
           "linecolor": "white",
           "ticks": "",
           "title": {
            "standoff": 15
           },
           "zerolinecolor": "white",
           "zerolinewidth": 2
          }
         }
        }
       }
      },
      "text/html": [
       "<div>                            <div id=\"dc2a75bc-c470-458a-889c-8ac8ea5c9729\" class=\"plotly-graph-div\" style=\"height:525px; width:100%;\"></div>            <script type=\"text/javascript\">                require([\"plotly\"], function(Plotly) {                    window.PLOTLYENV=window.PLOTLYENV || {};                                    if (document.getElementById(\"dc2a75bc-c470-458a-889c-8ac8ea5c9729\")) {                    Plotly.newPlot(                        \"dc2a75bc-c470-458a-889c-8ac8ea5c9729\",                        [{\"hovertemplate\": \"lat=%{lat}<br>lon=%{lon}<br>average_house_value=%{marker.color}<extra></extra>\", \"lat\": [43.80544058, 43.78865755, 43.6049369, 43.67158544, 43.737657, 43.76481331, 43.65751135, 43.77636052, 43.79680187, 43.73148623, 43.69321649, 43.76036631, 43.69468198, 43.76489025, 43.67617288, 43.69902438, 43.73101314, 43.68882512, 43.70132631, 43.66764773, 43.68856865, 43.6818521, 43.7823765, 43.65964886, 43.71359238, 43.74197843, 43.72112117, 43.67766091, 43.68402547, 43.68946809, 43.78329369, 43.75927437, 43.66567693, 43.73329235, 43.65542833, 43.68417388, 43.67088591, 43.7409223, 43.72151887, 43.72034467, 43.65801676, 43.64506262, 43.71592975, 43.70421756, 43.69452576, 43.74563575, 43.67261231, 43.74882934, 43.77114414, 43.65756491, 43.64506458, 43.79077477, 43.80298783, 43.6922328, 43.75891975, 43.74342952, 43.69136981, 43.73536441, 43.63346335, 43.66788977, 43.68572747, 43.72555572, 43.65355413, 43.69899257, 43.65352043, 43.79571603, 43.65742013, 43.75427115, 43.73006017, 43.7172117, 43.70379663, 43.64753593, 43.59236169, 43.80365820000001, 43.71557394, 43.63354175, 43.82069079, 43.61592386, 43.78239861, 43.65651762, 43.68814409, 43.7468678, 43.70485217, 43.70443517, 43.6005886, 43.79153579, 43.78582994, 43.63668088, 43.67199515, 43.66962341, 43.70680049, 43.69740813, 43.68856556, 43.69678127, 43.6591571, 43.75503347, 43.7175146, 43.67970047, 43.78698176, 43.6660506, 43.65999214, 43.72372548, 43.67479045, 43.64612299, 43.68282043, 43.82120126, 43.65926882, 43.71160912, 43.73865186, 43.63669952, 43.64929206, 43.75624583, 43.81295883, 43.63551813, 43.78012985, 43.69499819, 43.67104999, 43.73798792, 43.70774921, 43.6501763, 43.6625062, 43.72848902, 43.63388036, 43.76749026, 43.7161804, 43.77881322, 43.70271605, 43.67396204, 43.74857214, 43.77060226, 43.77121049, 43.68364496, 43.76674024, 43.67677292, 43.69410674, 43.67691927, 43.70468937, 43.68785887, 43.76573649, 43.71467153], \"legendgroup\": \"\", \"lon\": [-79.26671217, -79.2656118, -79.54161093, -79.40400062, -79.34971798, -79.45605516, -79.38572125, -79.37711686, -79.38211795, -79.42022735, -79.47947251, -79.25740037, -79.26509259, -79.52197932, -79.33739417, -79.45285129999999, -79.37890418, -79.35562951, -79.48558926, -79.36610666, -79.45521208, -79.40800665, -79.15084327, -79.37901717, -79.28138178, -79.44630258, -79.23552957, -79.44746933, -79.32981941, -79.33140338, -79.35364413, -79.27890794, -79.4385407, -79.49049735, -79.43734104, -79.29935867, -79.52245776, -79.24559804, -79.54898272, -79.43740855, -79.58044524, -79.56893877, -79.33264597, -79.42814316, -79.41431786, -79.51346532, -79.32431802, -79.19505535, -79.34124067, -79.46630217, -79.46787222, -79.17747247, -79.354804, -79.5224162, -79.55617474, -79.54236712, -79.42768335, -79.27247049, -79.54331654, -79.47143987, -79.47143711, -79.26038221, -79.39723988, -79.54786331, -79.5105768, -79.31408424, -79.49604526, -79.42474772, -79.40397836, -79.40603941, -79.36607234, -79.43032271, -79.53334545, -79.22251662, -79.48075802, -79.57343155, -79.27500892, -79.50013664, -79.20704119, -79.36729703, -79.49998906, -79.58725926, -79.38492395, -79.39335955, -79.51035809, -79.40593745, -79.43142151, -79.4124204, -79.35126041, -79.37524658, -79.31222777, -79.27970834, -79.43978548, -79.33548836, -79.41840873, -79.33017952, -79.5282822, -79.35488729, -79.33494843, -79.54455929, -79.36050881, -79.56622841, -79.49442045, -79.44299245, -79.3796694, -79.18634345, -79.48570818, -79.49809147, -79.21681262, -79.43933783, -79.33565132, -79.37903709, -79.32120701, -79.50112821, -79.30291871, -79.29590112, -79.29960129999999, -79.56349102, -79.34998361, -79.41534216, -79.40117975, -79.31487383, -79.37720231, -79.17667603, -79.59635645, -79.45241823, -79.51572255, -79.46024391, -79.29863657, -79.40148379, -79.4275578, -79.55422105, -79.22858577, -79.31540738, -79.31116353, -79.42551495, -79.40359017, -79.39787077, -79.48888293, -79.45710807], \"marker\": {\"color\": [200388, 203047, 259998, 453850, 371864, 304749, 257404, 327644, 343535, 565304, 225369, 182957, 265705, 158483, 310740, 222086, 927466, 269386, 213227, 300213, 219771, 596077, 249025, 246750, 215421, 335119, 253618, 255142, 283706, 256205, 241824, 159187, 264116, 231741, 278023, 290457, 483734, 163419, 163039, 345676, 241685, 187993, 126255, 517466, 726664, 199043, 235168, 224425, 224780, 323536, 354207, 260555, 240009, 272896, 213919, 194295, 423537, 174793, 274436, 263247, 196112, 174518, 267631, 205572, 512334, 395115, 204523, 372579, 461393, 664712, 489998, 328211, 234424, 156076, 275374, 269751, 209609, 239078, 173169, 248778, 159374, 153829, 411558, 284459, 247779, 339987, 279833, 224801, 427169, 249993, 181251, 256556, 268067, 269410, 378033, 276239, 246333, 394235, 226856, 465254, 238524, 219337, 210017, 309221, 664476, 228625, 335435, 261923, 200402, 271880, 276462, 607040, 228460, 334433, 215039, 145464, 404836, 228368, 155094, 324732, 375678, 213950, 228975, 172947, 208555, 212241, 187140, 213749, 211633, 284984, 283215, 282087, 181367, 270607, 224756, 343877, 491987, 494098, 185859, 261784], \"coloraxis\": \"coloraxis\"}, \"mode\": \"markers\", \"name\": \"\", \"showlegend\": false, \"subplot\": \"mapbox\", \"type\": \"scattermapbox\"}],                        {\"coloraxis\": {\"colorbar\": {\"title\": {\"text\": \"average_house_value\"}}, \"colorscale\": [[0.0, \"#0d0887\"], [0.1111111111111111, \"#46039f\"], [0.2222222222222222, \"#7201a8\"], [0.3333333333333333, \"#9c179e\"], [0.4444444444444444, \"#bd3786\"], [0.5555555555555556, \"#d8576b\"], [0.6666666666666666, \"#ed7953\"], [0.7777777777777778, \"#fb9f3a\"], [0.8888888888888888, \"#fdca26\"], [1.0, \"#f0f921\"]]}, \"legend\": {\"tracegroupgap\": 0}, \"mapbox\": {\"center\": {\"lat\": 43.708840577642846, \"lon\": -79.4001855035}, \"domain\": {\"x\": [0.0, 1.0], \"y\": [0.0, 1.0]}, \"zoom\": 8}, \"margin\": {\"t\": 60}, \"template\": {\"data\": {\"bar\": [{\"error_x\": {\"color\": \"#2a3f5f\"}, \"error_y\": {\"color\": \"#2a3f5f\"}, \"marker\": {\"line\": {\"color\": \"#E5ECF6\", \"width\": 0.5}}, \"type\": \"bar\"}], \"barpolar\": [{\"marker\": {\"line\": {\"color\": \"#E5ECF6\", \"width\": 0.5}}, \"type\": \"barpolar\"}], \"carpet\": [{\"aaxis\": {\"endlinecolor\": \"#2a3f5f\", \"gridcolor\": \"white\", \"linecolor\": \"white\", \"minorgridcolor\": \"white\", \"startlinecolor\": \"#2a3f5f\"}, \"baxis\": {\"endlinecolor\": \"#2a3f5f\", \"gridcolor\": \"white\", \"linecolor\": \"white\", \"minorgridcolor\": \"white\", \"startlinecolor\": \"#2a3f5f\"}, \"type\": \"carpet\"}], \"choropleth\": [{\"colorbar\": {\"outlinewidth\": 0, \"ticks\": \"\"}, \"type\": \"choropleth\"}], \"contour\": [{\"colorbar\": {\"outlinewidth\": 0, \"ticks\": \"\"}, \"colorscale\": [[0.0, \"#0d0887\"], [0.1111111111111111, \"#46039f\"], [0.2222222222222222, \"#7201a8\"], [0.3333333333333333, \"#9c179e\"], [0.4444444444444444, \"#bd3786\"], [0.5555555555555556, \"#d8576b\"], [0.6666666666666666, \"#ed7953\"], [0.7777777777777778, \"#fb9f3a\"], [0.8888888888888888, \"#fdca26\"], [1.0, \"#f0f921\"]], \"type\": \"contour\"}], \"contourcarpet\": [{\"colorbar\": {\"outlinewidth\": 0, \"ticks\": \"\"}, \"type\": \"contourcarpet\"}], \"heatmap\": [{\"colorbar\": {\"outlinewidth\": 0, \"ticks\": \"\"}, \"colorscale\": [[0.0, \"#0d0887\"], [0.1111111111111111, \"#46039f\"], [0.2222222222222222, \"#7201a8\"], [0.3333333333333333, \"#9c179e\"], [0.4444444444444444, \"#bd3786\"], [0.5555555555555556, \"#d8576b\"], [0.6666666666666666, \"#ed7953\"], [0.7777777777777778, \"#fb9f3a\"], [0.8888888888888888, \"#fdca26\"], [1.0, \"#f0f921\"]], \"type\": \"heatmap\"}], \"heatmapgl\": [{\"colorbar\": {\"outlinewidth\": 0, \"ticks\": \"\"}, \"colorscale\": [[0.0, \"#0d0887\"], [0.1111111111111111, \"#46039f\"], [0.2222222222222222, \"#7201a8\"], [0.3333333333333333, \"#9c179e\"], [0.4444444444444444, \"#bd3786\"], [0.5555555555555556, \"#d8576b\"], [0.6666666666666666, \"#ed7953\"], [0.7777777777777778, \"#fb9f3a\"], [0.8888888888888888, \"#fdca26\"], [1.0, \"#f0f921\"]], \"type\": \"heatmapgl\"}], \"histogram\": [{\"marker\": {\"colorbar\": {\"outlinewidth\": 0, \"ticks\": \"\"}}, \"type\": \"histogram\"}], \"histogram2d\": [{\"colorbar\": {\"outlinewidth\": 0, \"ticks\": \"\"}, \"colorscale\": [[0.0, \"#0d0887\"], [0.1111111111111111, \"#46039f\"], [0.2222222222222222, \"#7201a8\"], [0.3333333333333333, \"#9c179e\"], [0.4444444444444444, \"#bd3786\"], [0.5555555555555556, \"#d8576b\"], [0.6666666666666666, \"#ed7953\"], [0.7777777777777778, \"#fb9f3a\"], [0.8888888888888888, \"#fdca26\"], [1.0, \"#f0f921\"]], \"type\": \"histogram2d\"}], \"histogram2dcontour\": [{\"colorbar\": {\"outlinewidth\": 0, \"ticks\": \"\"}, \"colorscale\": [[0.0, \"#0d0887\"], [0.1111111111111111, \"#46039f\"], [0.2222222222222222, \"#7201a8\"], [0.3333333333333333, \"#9c179e\"], [0.4444444444444444, \"#bd3786\"], [0.5555555555555556, \"#d8576b\"], [0.6666666666666666, \"#ed7953\"], [0.7777777777777778, \"#fb9f3a\"], [0.8888888888888888, \"#fdca26\"], [1.0, \"#f0f921\"]], \"type\": \"histogram2dcontour\"}], \"mesh3d\": [{\"colorbar\": {\"outlinewidth\": 0, \"ticks\": \"\"}, \"type\": \"mesh3d\"}], \"parcoords\": [{\"line\": {\"colorbar\": {\"outlinewidth\": 0, \"ticks\": \"\"}}, \"type\": \"parcoords\"}], \"pie\": [{\"automargin\": true, \"type\": \"pie\"}], \"scatter\": [{\"marker\": {\"colorbar\": {\"outlinewidth\": 0, \"ticks\": \"\"}}, \"type\": \"scatter\"}], \"scatter3d\": [{\"line\": {\"colorbar\": {\"outlinewidth\": 0, \"ticks\": \"\"}}, \"marker\": {\"colorbar\": {\"outlinewidth\": 0, \"ticks\": \"\"}}, \"type\": \"scatter3d\"}], \"scattercarpet\": [{\"marker\": {\"colorbar\": {\"outlinewidth\": 0, \"ticks\": \"\"}}, \"type\": \"scattercarpet\"}], \"scattergeo\": [{\"marker\": {\"colorbar\": {\"outlinewidth\": 0, \"ticks\": \"\"}}, \"type\": \"scattergeo\"}], \"scattergl\": [{\"marker\": {\"colorbar\": {\"outlinewidth\": 0, \"ticks\": \"\"}}, \"type\": \"scattergl\"}], \"scattermapbox\": [{\"marker\": {\"colorbar\": {\"outlinewidth\": 0, \"ticks\": \"\"}}, \"type\": \"scattermapbox\"}], \"scatterpolar\": [{\"marker\": {\"colorbar\": {\"outlinewidth\": 0, \"ticks\": \"\"}}, \"type\": \"scatterpolar\"}], \"scatterpolargl\": [{\"marker\": {\"colorbar\": {\"outlinewidth\": 0, \"ticks\": \"\"}}, \"type\": \"scatterpolargl\"}], \"scatterternary\": [{\"marker\": {\"colorbar\": {\"outlinewidth\": 0, \"ticks\": \"\"}}, \"type\": \"scatterternary\"}], \"surface\": [{\"colorbar\": {\"outlinewidth\": 0, \"ticks\": \"\"}, \"colorscale\": [[0.0, \"#0d0887\"], [0.1111111111111111, \"#46039f\"], [0.2222222222222222, \"#7201a8\"], [0.3333333333333333, \"#9c179e\"], [0.4444444444444444, \"#bd3786\"], [0.5555555555555556, \"#d8576b\"], [0.6666666666666666, \"#ed7953\"], [0.7777777777777778, \"#fb9f3a\"], [0.8888888888888888, \"#fdca26\"], [1.0, \"#f0f921\"]], \"type\": \"surface\"}], \"table\": [{\"cells\": {\"fill\": {\"color\": \"#EBF0F8\"}, \"line\": {\"color\": \"white\"}}, \"header\": {\"fill\": {\"color\": \"#C8D4E3\"}, \"line\": {\"color\": \"white\"}}, \"type\": \"table\"}]}, \"layout\": {\"annotationdefaults\": {\"arrowcolor\": \"#2a3f5f\", \"arrowhead\": 0, \"arrowwidth\": 1}, \"autotypenumbers\": \"strict\", \"coloraxis\": {\"colorbar\": {\"outlinewidth\": 0, \"ticks\": \"\"}}, \"colorscale\": {\"diverging\": [[0, \"#8e0152\"], [0.1, \"#c51b7d\"], [0.2, \"#de77ae\"], [0.3, \"#f1b6da\"], [0.4, \"#fde0ef\"], [0.5, \"#f7f7f7\"], [0.6, \"#e6f5d0\"], [0.7, \"#b8e186\"], [0.8, \"#7fbc41\"], [0.9, \"#4d9221\"], [1, \"#276419\"]], \"sequential\": [[0.0, \"#0d0887\"], [0.1111111111111111, \"#46039f\"], [0.2222222222222222, \"#7201a8\"], [0.3333333333333333, \"#9c179e\"], [0.4444444444444444, \"#bd3786\"], [0.5555555555555556, \"#d8576b\"], [0.6666666666666666, \"#ed7953\"], [0.7777777777777778, \"#fb9f3a\"], [0.8888888888888888, \"#fdca26\"], [1.0, \"#f0f921\"]], \"sequentialminus\": [[0.0, \"#0d0887\"], [0.1111111111111111, \"#46039f\"], [0.2222222222222222, \"#7201a8\"], [0.3333333333333333, \"#9c179e\"], [0.4444444444444444, \"#bd3786\"], [0.5555555555555556, \"#d8576b\"], [0.6666666666666666, \"#ed7953\"], [0.7777777777777778, \"#fb9f3a\"], [0.8888888888888888, \"#fdca26\"], [1.0, \"#f0f921\"]]}, \"colorway\": [\"#636efa\", \"#EF553B\", \"#00cc96\", \"#ab63fa\", \"#FFA15A\", \"#19d3f3\", \"#FF6692\", \"#B6E880\", \"#FF97FF\", \"#FECB52\"], \"font\": {\"color\": \"#2a3f5f\"}, \"geo\": {\"bgcolor\": \"white\", \"lakecolor\": \"white\", \"landcolor\": \"#E5ECF6\", \"showlakes\": true, \"showland\": true, \"subunitcolor\": \"white\"}, \"hoverlabel\": {\"align\": \"left\"}, \"hovermode\": \"closest\", \"mapbox\": {\"style\": \"light\"}, \"paper_bgcolor\": \"white\", \"plot_bgcolor\": \"#E5ECF6\", \"polar\": {\"angularaxis\": {\"gridcolor\": \"white\", \"linecolor\": \"white\", \"ticks\": \"\"}, \"bgcolor\": \"#E5ECF6\", \"radialaxis\": {\"gridcolor\": \"white\", \"linecolor\": \"white\", \"ticks\": \"\"}}, \"scene\": {\"xaxis\": {\"backgroundcolor\": \"#E5ECF6\", \"gridcolor\": \"white\", \"gridwidth\": 2, \"linecolor\": \"white\", \"showbackground\": true, \"ticks\": \"\", \"zerolinecolor\": \"white\"}, \"yaxis\": {\"backgroundcolor\": \"#E5ECF6\", \"gridcolor\": \"white\", \"gridwidth\": 2, \"linecolor\": \"white\", \"showbackground\": true, \"ticks\": \"\", \"zerolinecolor\": \"white\"}, \"zaxis\": {\"backgroundcolor\": \"#E5ECF6\", \"gridcolor\": \"white\", \"gridwidth\": 2, \"linecolor\": \"white\", \"showbackground\": true, \"ticks\": \"\", \"zerolinecolor\": \"white\"}}, \"shapedefaults\": {\"line\": {\"color\": \"#2a3f5f\"}}, \"ternary\": {\"aaxis\": {\"gridcolor\": \"white\", \"linecolor\": \"white\", \"ticks\": \"\"}, \"baxis\": {\"gridcolor\": \"white\", \"linecolor\": \"white\", \"ticks\": \"\"}, \"bgcolor\": \"#E5ECF6\", \"caxis\": {\"gridcolor\": \"white\", \"linecolor\": \"white\", \"ticks\": \"\"}}, \"title\": {\"x\": 0.05}, \"xaxis\": {\"automargin\": true, \"gridcolor\": \"white\", \"linecolor\": \"white\", \"ticks\": \"\", \"title\": {\"standoff\": 15}, \"zerolinecolor\": \"white\", \"zerolinewidth\": 2}, \"yaxis\": {\"automargin\": true, \"gridcolor\": \"white\", \"linecolor\": \"white\", \"ticks\": \"\", \"title\": {\"standoff\": 15}, \"zerolinecolor\": \"white\", \"zerolinewidth\": 2}}}},                        {\"responsive\": true}                    ).then(function(){\n",
       "                            \n",
       "var gd = document.getElementById('dc2a75bc-c470-458a-889c-8ac8ea5c9729');\n",
       "var x = new MutationObserver(function (mutations, observer) {{\n",
       "        var display = window.getComputedStyle(gd).display;\n",
       "        if (!display || display === 'none') {{\n",
       "            console.log([gd, 'removed!']);\n",
       "            Plotly.purge(gd);\n",
       "            observer.disconnect();\n",
       "        }}\n",
       "}});\n",
       "\n",
       "// Listen for the removal of the full notebook cells\n",
       "var notebookContainer = gd.closest('#notebook-container');\n",
       "if (notebookContainer) {{\n",
       "    x.observe(notebookContainer, {childList: true});\n",
       "}}\n",
       "\n",
       "// Listen for the clearing of the current output cell\n",
       "var outputEl = gd.closest('.output');\n",
       "if (outputEl) {{\n",
       "    x.observe(outputEl, {childList: true});\n",
       "}}\n",
       "\n",
       "                        })                };                });            </script>        </div>"
      ]
     },
     "metadata": {},
     "output_type": "display_data"
    }
   ],
   "source": [
    "# Create a scatter mapbox to analyze neighbourhood info\n",
    "map_1 = px.scatter_mapbox(\n",
    "    data_complete,\n",
    "    lat=\"lat\",\n",
    "    lon=\"lon\",\n",
    "    color= \"average_house_value\"\n",
    ")\n",
    "map_1.show()"
   ]
  },
  {
   "cell_type": "markdown",
   "metadata": {},
   "source": [
    "- - -"
   ]
  },
  {
   "cell_type": "markdown",
   "metadata": {},
   "source": [
    "## Cost Analysis - Optional Challenge\n",
    "\n",
    "In this section, you will use Plotly express to a couple of plots that investors can interactively filter and explore various factors related to the house value of the Toronto's neighbourhoods. \n",
    "\n",
    "### Create a bar chart row facet to plot the average house values for all Toronto's neighbourhoods per year"
   ]
  },
  {
   "cell_type": "code",
   "execution_count": 149,
   "metadata": {},
   "outputs": [],
   "source": [
    "# YOUR CODE HERE!"
   ]
  },
  {
   "cell_type": "markdown",
   "metadata": {},
   "source": [
    "### Create a sunburst chart to conduct a costs analysis of most expensive neighbourhoods in Toronto per year"
   ]
  },
  {
   "cell_type": "code",
   "execution_count": 150,
   "metadata": {},
   "outputs": [],
   "source": [
    "# Fetch the data from all expensive neighbourhoods per year.\n",
    "# YOUR CODE HERE!"
   ]
  },
  {
   "cell_type": "code",
   "execution_count": 151,
   "metadata": {},
   "outputs": [],
   "source": [
    "# Create the sunburst chart\n",
    "# YOUR CODE HERE!"
   ]
  }
 ],
 "metadata": {
  "file_extension": ".py",
  "kernelspec": {
   "display_name": "Python [conda env:pyviz]",
   "language": "python",
   "name": "conda-env-pyviz-py"
  },
  "language_info": {
   "codemirror_mode": {
    "name": "ipython",
    "version": 3
   },
   "file_extension": ".py",
   "mimetype": "text/x-python",
   "name": "python",
   "nbconvert_exporter": "python",
   "pygments_lexer": "ipython3",
   "version": "3.7.10"
  },
  "mimetype": "text/x-python",
  "name": "python",
  "npconvert_exporter": "python",
  "pygments_lexer": "ipython3",
  "version": 3
 },
 "nbformat": 4,
 "nbformat_minor": 4
}
